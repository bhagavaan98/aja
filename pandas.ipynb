{
 "cells": [
  {
   "cell_type": "code",
   "execution_count": 1,
   "id": "ab3a04e5",
   "metadata": {},
   "outputs": [
    {
     "name": "stdout",
     "output_type": "stream",
     "text": [
      "{'names': ['Matthew Oneill', 'Kathy Berry', 'Susan Macias', 'Elizabeth Brown', 'Debbie Peters', 'Jackson Anderson', 'Martin Edwards', 'Travis Cole', 'Michelle Mann', 'Tara Hendrix', 'Miss Alyssa Gonzalez', 'Michael Jones', 'Michelle Turner', 'Jacob Romero', 'Brandon Hays'], 'salaries': [195591, 111467, 131235, 148088, 106353, 140476, 112243, 104076, 105773, 183608, 154556, 102765, 111673, 174154, 154001]}\n"
     ]
    }
   ],
   "source": [
    "from faker import Faker\n",
    "import random\n",
    "f=Faker()\n",
    "data={\"names\": [f.name() for i in range(15)], \"salaries\": [random.randint(100000,200000) for i in range(15)]}\n",
    "print(data)"
   ]
  },
  {
   "cell_type": "code",
   "execution_count": 2,
   "id": "2ed66dcf",
   "metadata": {},
   "outputs": [],
   "source": [
    "import pandas as pd"
   ]
  },
  {
   "cell_type": "code",
   "execution_count": 3,
   "id": "26a16e10",
   "metadata": {},
   "outputs": [],
   "source": [
    "df = pd.DataFrame(data)"
   ]
  },
  {
   "cell_type": "code",
   "execution_count": 4,
   "id": "5ed3ac5c",
   "metadata": {},
   "outputs": [
    {
     "data": {
      "text/html": [
       "<div>\n",
       "<style scoped>\n",
       "    .dataframe tbody tr th:only-of-type {\n",
       "        vertical-align: middle;\n",
       "    }\n",
       "\n",
       "    .dataframe tbody tr th {\n",
       "        vertical-align: top;\n",
       "    }\n",
       "\n",
       "    .dataframe thead th {\n",
       "        text-align: right;\n",
       "    }\n",
       "</style>\n",
       "<table border=\"1\" class=\"dataframe\">\n",
       "  <thead>\n",
       "    <tr style=\"text-align: right;\">\n",
       "      <th></th>\n",
       "      <th>names</th>\n",
       "      <th>salaries</th>\n",
       "    </tr>\n",
       "  </thead>\n",
       "  <tbody>\n",
       "    <tr>\n",
       "      <th>0</th>\n",
       "      <td>Matthew Oneill</td>\n",
       "      <td>195591</td>\n",
       "    </tr>\n",
       "    <tr>\n",
       "      <th>1</th>\n",
       "      <td>Kathy Berry</td>\n",
       "      <td>111467</td>\n",
       "    </tr>\n",
       "    <tr>\n",
       "      <th>2</th>\n",
       "      <td>Susan Macias</td>\n",
       "      <td>131235</td>\n",
       "    </tr>\n",
       "    <tr>\n",
       "      <th>3</th>\n",
       "      <td>Elizabeth Brown</td>\n",
       "      <td>148088</td>\n",
       "    </tr>\n",
       "    <tr>\n",
       "      <th>4</th>\n",
       "      <td>Debbie Peters</td>\n",
       "      <td>106353</td>\n",
       "    </tr>\n",
       "    <tr>\n",
       "      <th>5</th>\n",
       "      <td>Jackson Anderson</td>\n",
       "      <td>140476</td>\n",
       "    </tr>\n",
       "    <tr>\n",
       "      <th>6</th>\n",
       "      <td>Martin Edwards</td>\n",
       "      <td>112243</td>\n",
       "    </tr>\n",
       "    <tr>\n",
       "      <th>7</th>\n",
       "      <td>Travis Cole</td>\n",
       "      <td>104076</td>\n",
       "    </tr>\n",
       "    <tr>\n",
       "      <th>8</th>\n",
       "      <td>Michelle Mann</td>\n",
       "      <td>105773</td>\n",
       "    </tr>\n",
       "    <tr>\n",
       "      <th>9</th>\n",
       "      <td>Tara Hendrix</td>\n",
       "      <td>183608</td>\n",
       "    </tr>\n",
       "    <tr>\n",
       "      <th>10</th>\n",
       "      <td>Miss Alyssa Gonzalez</td>\n",
       "      <td>154556</td>\n",
       "    </tr>\n",
       "    <tr>\n",
       "      <th>11</th>\n",
       "      <td>Michael Jones</td>\n",
       "      <td>102765</td>\n",
       "    </tr>\n",
       "    <tr>\n",
       "      <th>12</th>\n",
       "      <td>Michelle Turner</td>\n",
       "      <td>111673</td>\n",
       "    </tr>\n",
       "    <tr>\n",
       "      <th>13</th>\n",
       "      <td>Jacob Romero</td>\n",
       "      <td>174154</td>\n",
       "    </tr>\n",
       "    <tr>\n",
       "      <th>14</th>\n",
       "      <td>Brandon Hays</td>\n",
       "      <td>154001</td>\n",
       "    </tr>\n",
       "  </tbody>\n",
       "</table>\n",
       "</div>"
      ],
      "text/plain": [
       "                   names  salaries\n",
       "0         Matthew Oneill    195591\n",
       "1            Kathy Berry    111467\n",
       "2           Susan Macias    131235\n",
       "3        Elizabeth Brown    148088\n",
       "4          Debbie Peters    106353\n",
       "5       Jackson Anderson    140476\n",
       "6         Martin Edwards    112243\n",
       "7            Travis Cole    104076\n",
       "8          Michelle Mann    105773\n",
       "9           Tara Hendrix    183608\n",
       "10  Miss Alyssa Gonzalez    154556\n",
       "11         Michael Jones    102765\n",
       "12       Michelle Turner    111673\n",
       "13          Jacob Romero    174154\n",
       "14          Brandon Hays    154001"
      ]
     },
     "execution_count": 4,
     "metadata": {},
     "output_type": "execute_result"
    }
   ],
   "source": [
    "df"
   ]
  },
  {
   "cell_type": "code",
   "execution_count": 5,
   "id": "9e9124cd",
   "metadata": {},
   "outputs": [
    {
     "data": {
      "text/html": [
       "<div>\n",
       "<style scoped>\n",
       "    .dataframe tbody tr th:only-of-type {\n",
       "        vertical-align: middle;\n",
       "    }\n",
       "\n",
       "    .dataframe tbody tr th {\n",
       "        vertical-align: top;\n",
       "    }\n",
       "\n",
       "    .dataframe thead th {\n",
       "        text-align: right;\n",
       "    }\n",
       "</style>\n",
       "<table border=\"1\" class=\"dataframe\">\n",
       "  <thead>\n",
       "    <tr style=\"text-align: right;\">\n",
       "      <th></th>\n",
       "      <th>names</th>\n",
       "      <th>salaries</th>\n",
       "    </tr>\n",
       "  </thead>\n",
       "  <tbody>\n",
       "    <tr>\n",
       "      <th>0</th>\n",
       "      <td>Matthew Oneill</td>\n",
       "      <td>195591</td>\n",
       "    </tr>\n",
       "    <tr>\n",
       "      <th>1</th>\n",
       "      <td>Kathy Berry</td>\n",
       "      <td>111467</td>\n",
       "    </tr>\n",
       "    <tr>\n",
       "      <th>2</th>\n",
       "      <td>Susan Macias</td>\n",
       "      <td>131235</td>\n",
       "    </tr>\n",
       "    <tr>\n",
       "      <th>3</th>\n",
       "      <td>Elizabeth Brown</td>\n",
       "      <td>148088</td>\n",
       "    </tr>\n",
       "    <tr>\n",
       "      <th>4</th>\n",
       "      <td>Debbie Peters</td>\n",
       "      <td>106353</td>\n",
       "    </tr>\n",
       "  </tbody>\n",
       "</table>\n",
       "</div>"
      ],
      "text/plain": [
       "             names  salaries\n",
       "0   Matthew Oneill    195591\n",
       "1      Kathy Berry    111467\n",
       "2     Susan Macias    131235\n",
       "3  Elizabeth Brown    148088\n",
       "4    Debbie Peters    106353"
      ]
     },
     "execution_count": 5,
     "metadata": {},
     "output_type": "execute_result"
    }
   ],
   "source": [
    "df.head()"
   ]
  },
  {
   "cell_type": "code",
   "execution_count": 6,
   "id": "d7130f05",
   "metadata": {},
   "outputs": [
    {
     "data": {
      "text/html": [
       "<div>\n",
       "<style scoped>\n",
       "    .dataframe tbody tr th:only-of-type {\n",
       "        vertical-align: middle;\n",
       "    }\n",
       "\n",
       "    .dataframe tbody tr th {\n",
       "        vertical-align: top;\n",
       "    }\n",
       "\n",
       "    .dataframe thead th {\n",
       "        text-align: right;\n",
       "    }\n",
       "</style>\n",
       "<table border=\"1\" class=\"dataframe\">\n",
       "  <thead>\n",
       "    <tr style=\"text-align: right;\">\n",
       "      <th></th>\n",
       "      <th>names</th>\n",
       "      <th>salaries</th>\n",
       "    </tr>\n",
       "  </thead>\n",
       "  <tbody>\n",
       "    <tr>\n",
       "      <th>10</th>\n",
       "      <td>Miss Alyssa Gonzalez</td>\n",
       "      <td>154556</td>\n",
       "    </tr>\n",
       "    <tr>\n",
       "      <th>11</th>\n",
       "      <td>Michael Jones</td>\n",
       "      <td>102765</td>\n",
       "    </tr>\n",
       "    <tr>\n",
       "      <th>12</th>\n",
       "      <td>Michelle Turner</td>\n",
       "      <td>111673</td>\n",
       "    </tr>\n",
       "    <tr>\n",
       "      <th>13</th>\n",
       "      <td>Jacob Romero</td>\n",
       "      <td>174154</td>\n",
       "    </tr>\n",
       "    <tr>\n",
       "      <th>14</th>\n",
       "      <td>Brandon Hays</td>\n",
       "      <td>154001</td>\n",
       "    </tr>\n",
       "  </tbody>\n",
       "</table>\n",
       "</div>"
      ],
      "text/plain": [
       "                   names  salaries\n",
       "10  Miss Alyssa Gonzalez    154556\n",
       "11         Michael Jones    102765\n",
       "12       Michelle Turner    111673\n",
       "13          Jacob Romero    174154\n",
       "14          Brandon Hays    154001"
      ]
     },
     "execution_count": 6,
     "metadata": {},
     "output_type": "execute_result"
    }
   ],
   "source": [
    "df.tail()"
   ]
  },
  {
   "cell_type": "code",
   "execution_count": 7,
   "id": "6742465e",
   "metadata": {},
   "outputs": [
    {
     "data": {
      "text/html": [
       "<div>\n",
       "<style scoped>\n",
       "    .dataframe tbody tr th:only-of-type {\n",
       "        vertical-align: middle;\n",
       "    }\n",
       "\n",
       "    .dataframe tbody tr th {\n",
       "        vertical-align: top;\n",
       "    }\n",
       "\n",
       "    .dataframe thead th {\n",
       "        text-align: right;\n",
       "    }\n",
       "</style>\n",
       "<table border=\"1\" class=\"dataframe\">\n",
       "  <thead>\n",
       "    <tr style=\"text-align: right;\">\n",
       "      <th></th>\n",
       "      <th>names</th>\n",
       "      <th>salaries</th>\n",
       "    </tr>\n",
       "  </thead>\n",
       "  <tbody>\n",
       "    <tr>\n",
       "      <th>0</th>\n",
       "      <td>Matthew Oneill</td>\n",
       "      <td>195591</td>\n",
       "    </tr>\n",
       "    <tr>\n",
       "      <th>1</th>\n",
       "      <td>Kathy Berry</td>\n",
       "      <td>111467</td>\n",
       "    </tr>\n",
       "    <tr>\n",
       "      <th>2</th>\n",
       "      <td>Susan Macias</td>\n",
       "      <td>131235</td>\n",
       "    </tr>\n",
       "    <tr>\n",
       "      <th>3</th>\n",
       "      <td>Elizabeth Brown</td>\n",
       "      <td>148088</td>\n",
       "    </tr>\n",
       "    <tr>\n",
       "      <th>4</th>\n",
       "      <td>Debbie Peters</td>\n",
       "      <td>106353</td>\n",
       "    </tr>\n",
       "    <tr>\n",
       "      <th>5</th>\n",
       "      <td>Jackson Anderson</td>\n",
       "      <td>140476</td>\n",
       "    </tr>\n",
       "    <tr>\n",
       "      <th>6</th>\n",
       "      <td>Martin Edwards</td>\n",
       "      <td>112243</td>\n",
       "    </tr>\n",
       "    <tr>\n",
       "      <th>7</th>\n",
       "      <td>Travis Cole</td>\n",
       "      <td>104076</td>\n",
       "    </tr>\n",
       "    <tr>\n",
       "      <th>8</th>\n",
       "      <td>Michelle Mann</td>\n",
       "      <td>105773</td>\n",
       "    </tr>\n",
       "    <tr>\n",
       "      <th>9</th>\n",
       "      <td>Tara Hendrix</td>\n",
       "      <td>183608</td>\n",
       "    </tr>\n",
       "  </tbody>\n",
       "</table>\n",
       "</div>"
      ],
      "text/plain": [
       "              names  salaries\n",
       "0    Matthew Oneill    195591\n",
       "1       Kathy Berry    111467\n",
       "2      Susan Macias    131235\n",
       "3   Elizabeth Brown    148088\n",
       "4     Debbie Peters    106353\n",
       "5  Jackson Anderson    140476\n",
       "6    Martin Edwards    112243\n",
       "7       Travis Cole    104076\n",
       "8     Michelle Mann    105773\n",
       "9      Tara Hendrix    183608"
      ]
     },
     "execution_count": 7,
     "metadata": {},
     "output_type": "execute_result"
    }
   ],
   "source": [
    "df.head(10)"
   ]
  },
  {
   "cell_type": "code",
   "execution_count": 8,
   "id": "49b0a3e3",
   "metadata": {},
   "outputs": [
    {
     "data": {
      "text/html": [
       "<div>\n",
       "<style scoped>\n",
       "    .dataframe tbody tr th:only-of-type {\n",
       "        vertical-align: middle;\n",
       "    }\n",
       "\n",
       "    .dataframe tbody tr th {\n",
       "        vertical-align: top;\n",
       "    }\n",
       "\n",
       "    .dataframe thead th {\n",
       "        text-align: right;\n",
       "    }\n",
       "</style>\n",
       "<table border=\"1\" class=\"dataframe\">\n",
       "  <thead>\n",
       "    <tr style=\"text-align: right;\">\n",
       "      <th></th>\n",
       "      <th>names</th>\n",
       "      <th>salaries</th>\n",
       "    </tr>\n",
       "  </thead>\n",
       "  <tbody>\n",
       "    <tr>\n",
       "      <th>14</th>\n",
       "      <td>Brandon Hays</td>\n",
       "      <td>154001</td>\n",
       "    </tr>\n",
       "  </tbody>\n",
       "</table>\n",
       "</div>"
      ],
      "text/plain": [
       "           names  salaries\n",
       "14  Brandon Hays    154001"
      ]
     },
     "execution_count": 8,
     "metadata": {},
     "output_type": "execute_result"
    }
   ],
   "source": [
    "df.sample()"
   ]
  },
  {
   "cell_type": "code",
   "execution_count": 9,
   "id": "68c492b5",
   "metadata": {},
   "outputs": [
    {
     "data": {
      "text/html": [
       "<div>\n",
       "<style scoped>\n",
       "    .dataframe tbody tr th:only-of-type {\n",
       "        vertical-align: middle;\n",
       "    }\n",
       "\n",
       "    .dataframe tbody tr th {\n",
       "        vertical-align: top;\n",
       "    }\n",
       "\n",
       "    .dataframe thead th {\n",
       "        text-align: right;\n",
       "    }\n",
       "</style>\n",
       "<table border=\"1\" class=\"dataframe\">\n",
       "  <thead>\n",
       "    <tr style=\"text-align: right;\">\n",
       "      <th></th>\n",
       "      <th>names</th>\n",
       "      <th>salaries</th>\n",
       "    </tr>\n",
       "  </thead>\n",
       "  <tbody>\n",
       "    <tr>\n",
       "      <th>1</th>\n",
       "      <td>Kathy Berry</td>\n",
       "      <td>111467</td>\n",
       "    </tr>\n",
       "    <tr>\n",
       "      <th>2</th>\n",
       "      <td>Susan Macias</td>\n",
       "      <td>131235</td>\n",
       "    </tr>\n",
       "    <tr>\n",
       "      <th>5</th>\n",
       "      <td>Jackson Anderson</td>\n",
       "      <td>140476</td>\n",
       "    </tr>\n",
       "    <tr>\n",
       "      <th>6</th>\n",
       "      <td>Martin Edwards</td>\n",
       "      <td>112243</td>\n",
       "    </tr>\n",
       "    <tr>\n",
       "      <th>4</th>\n",
       "      <td>Debbie Peters</td>\n",
       "      <td>106353</td>\n",
       "    </tr>\n",
       "    <tr>\n",
       "      <th>10</th>\n",
       "      <td>Miss Alyssa Gonzalez</td>\n",
       "      <td>154556</td>\n",
       "    </tr>\n",
       "    <tr>\n",
       "      <th>13</th>\n",
       "      <td>Jacob Romero</td>\n",
       "      <td>174154</td>\n",
       "    </tr>\n",
       "    <tr>\n",
       "      <th>9</th>\n",
       "      <td>Tara Hendrix</td>\n",
       "      <td>183608</td>\n",
       "    </tr>\n",
       "    <tr>\n",
       "      <th>14</th>\n",
       "      <td>Brandon Hays</td>\n",
       "      <td>154001</td>\n",
       "    </tr>\n",
       "    <tr>\n",
       "      <th>12</th>\n",
       "      <td>Michelle Turner</td>\n",
       "      <td>111673</td>\n",
       "    </tr>\n",
       "  </tbody>\n",
       "</table>\n",
       "</div>"
      ],
      "text/plain": [
       "                   names  salaries\n",
       "1            Kathy Berry    111467\n",
       "2           Susan Macias    131235\n",
       "5       Jackson Anderson    140476\n",
       "6         Martin Edwards    112243\n",
       "4          Debbie Peters    106353\n",
       "10  Miss Alyssa Gonzalez    154556\n",
       "13          Jacob Romero    174154\n",
       "9           Tara Hendrix    183608\n",
       "14          Brandon Hays    154001\n",
       "12       Michelle Turner    111673"
      ]
     },
     "execution_count": 9,
     "metadata": {},
     "output_type": "execute_result"
    }
   ],
   "source": [
    "df.sample(10)"
   ]
  },
  {
   "cell_type": "code",
   "execution_count": 10,
   "id": "e4bb5aae",
   "metadata": {},
   "outputs": [
    {
     "data": {
      "text/html": [
       "<div>\n",
       "<style scoped>\n",
       "    .dataframe tbody tr th:only-of-type {\n",
       "        vertical-align: middle;\n",
       "    }\n",
       "\n",
       "    .dataframe tbody tr th {\n",
       "        vertical-align: top;\n",
       "    }\n",
       "\n",
       "    .dataframe thead th {\n",
       "        text-align: right;\n",
       "    }\n",
       "</style>\n",
       "<table border=\"1\" class=\"dataframe\">\n",
       "  <thead>\n",
       "    <tr style=\"text-align: right;\">\n",
       "      <th></th>\n",
       "      <th>salaries</th>\n",
       "    </tr>\n",
       "  </thead>\n",
       "  <tbody>\n",
       "    <tr>\n",
       "      <th>count</th>\n",
       "      <td>15.000000</td>\n",
       "    </tr>\n",
       "    <tr>\n",
       "      <th>mean</th>\n",
       "      <td>135737.266667</td>\n",
       "    </tr>\n",
       "    <tr>\n",
       "      <th>std</th>\n",
       "      <td>31400.535843</td>\n",
       "    </tr>\n",
       "    <tr>\n",
       "      <th>min</th>\n",
       "      <td>102765.000000</td>\n",
       "    </tr>\n",
       "    <tr>\n",
       "      <th>25%</th>\n",
       "      <td>108910.000000</td>\n",
       "    </tr>\n",
       "    <tr>\n",
       "      <th>50%</th>\n",
       "      <td>131235.000000</td>\n",
       "    </tr>\n",
       "    <tr>\n",
       "      <th>75%</th>\n",
       "      <td>154278.500000</td>\n",
       "    </tr>\n",
       "    <tr>\n",
       "      <th>max</th>\n",
       "      <td>195591.000000</td>\n",
       "    </tr>\n",
       "  </tbody>\n",
       "</table>\n",
       "</div>"
      ],
      "text/plain": [
       "            salaries\n",
       "count      15.000000\n",
       "mean   135737.266667\n",
       "std     31400.535843\n",
       "min    102765.000000\n",
       "25%    108910.000000\n",
       "50%    131235.000000\n",
       "75%    154278.500000\n",
       "max    195591.000000"
      ]
     },
     "execution_count": 10,
     "metadata": {},
     "output_type": "execute_result"
    }
   ],
   "source": [
    "df.describe()"
   ]
  },
  {
   "cell_type": "code",
   "execution_count": 11,
   "id": "829056e0",
   "metadata": {},
   "outputs": [
    {
     "data": {
      "text/plain": [
       "0     195591\n",
       "1     111467\n",
       "2     131235\n",
       "3     148088\n",
       "4     106353\n",
       "5     140476\n",
       "6     112243\n",
       "7     104076\n",
       "8     105773\n",
       "9     183608\n",
       "10    154556\n",
       "11    102765\n",
       "12    111673\n",
       "13    174154\n",
       "14    154001\n",
       "Name: salaries, dtype: int64"
      ]
     },
     "execution_count": 11,
     "metadata": {},
     "output_type": "execute_result"
    }
   ],
   "source": [
    "df.salaries"
   ]
  },
  {
   "cell_type": "code",
   "execution_count": 12,
   "id": "9df92ebe",
   "metadata": {},
   "outputs": [
    {
     "data": {
      "text/plain": [
       "135737.26666666666"
      ]
     },
     "execution_count": 12,
     "metadata": {},
     "output_type": "execute_result"
    }
   ],
   "source": [
    "df.salaries.mean()"
   ]
  },
  {
   "cell_type": "code",
   "execution_count": 13,
   "id": "d3251566",
   "metadata": {},
   "outputs": [
    {
     "data": {
      "text/html": [
       "<div>\n",
       "<style scoped>\n",
       "    .dataframe tbody tr th:only-of-type {\n",
       "        vertical-align: middle;\n",
       "    }\n",
       "\n",
       "    .dataframe tbody tr th {\n",
       "        vertical-align: top;\n",
       "    }\n",
       "\n",
       "    .dataframe thead th {\n",
       "        text-align: right;\n",
       "    }\n",
       "</style>\n",
       "<table border=\"1\" class=\"dataframe\">\n",
       "  <thead>\n",
       "    <tr style=\"text-align: right;\">\n",
       "      <th></th>\n",
       "      <th>names</th>\n",
       "      <th>salaries</th>\n",
       "    </tr>\n",
       "  </thead>\n",
       "  <tbody>\n",
       "    <tr>\n",
       "      <th>0</th>\n",
       "      <td>Matthew Oneill</td>\n",
       "      <td>195591</td>\n",
       "    </tr>\n",
       "    <tr>\n",
       "      <th>1</th>\n",
       "      <td>Kathy Berry</td>\n",
       "      <td>111467</td>\n",
       "    </tr>\n",
       "    <tr>\n",
       "      <th>2</th>\n",
       "      <td>Susan Macias</td>\n",
       "      <td>131235</td>\n",
       "    </tr>\n",
       "    <tr>\n",
       "      <th>3</th>\n",
       "      <td>Elizabeth Brown</td>\n",
       "      <td>148088</td>\n",
       "    </tr>\n",
       "    <tr>\n",
       "      <th>5</th>\n",
       "      <td>Jackson Anderson</td>\n",
       "      <td>140476</td>\n",
       "    </tr>\n",
       "    <tr>\n",
       "      <th>6</th>\n",
       "      <td>Martin Edwards</td>\n",
       "      <td>112243</td>\n",
       "    </tr>\n",
       "    <tr>\n",
       "      <th>9</th>\n",
       "      <td>Tara Hendrix</td>\n",
       "      <td>183608</td>\n",
       "    </tr>\n",
       "    <tr>\n",
       "      <th>10</th>\n",
       "      <td>Miss Alyssa Gonzalez</td>\n",
       "      <td>154556</td>\n",
       "    </tr>\n",
       "    <tr>\n",
       "      <th>12</th>\n",
       "      <td>Michelle Turner</td>\n",
       "      <td>111673</td>\n",
       "    </tr>\n",
       "    <tr>\n",
       "      <th>13</th>\n",
       "      <td>Jacob Romero</td>\n",
       "      <td>174154</td>\n",
       "    </tr>\n",
       "    <tr>\n",
       "      <th>14</th>\n",
       "      <td>Brandon Hays</td>\n",
       "      <td>154001</td>\n",
       "    </tr>\n",
       "  </tbody>\n",
       "</table>\n",
       "</div>"
      ],
      "text/plain": [
       "                   names  salaries\n",
       "0         Matthew Oneill    195591\n",
       "1            Kathy Berry    111467\n",
       "2           Susan Macias    131235\n",
       "3        Elizabeth Brown    148088\n",
       "5       Jackson Anderson    140476\n",
       "6         Martin Edwards    112243\n",
       "9           Tara Hendrix    183608\n",
       "10  Miss Alyssa Gonzalez    154556\n",
       "12       Michelle Turner    111673\n",
       "13          Jacob Romero    174154\n",
       "14          Brandon Hays    154001"
      ]
     },
     "execution_count": 13,
     "metadata": {},
     "output_type": "execute_result"
    }
   ],
   "source": [
    "df[df['salaries']>106353]"
   ]
  },
  {
   "cell_type": "code",
   "execution_count": 14,
   "id": "6b651676",
   "metadata": {},
   "outputs": [
    {
     "data": {
      "text/html": [
       "<div>\n",
       "<style scoped>\n",
       "    .dataframe tbody tr th:only-of-type {\n",
       "        vertical-align: middle;\n",
       "    }\n",
       "\n",
       "    .dataframe tbody tr th {\n",
       "        vertical-align: top;\n",
       "    }\n",
       "\n",
       "    .dataframe thead th {\n",
       "        text-align: right;\n",
       "    }\n",
       "</style>\n",
       "<table border=\"1\" class=\"dataframe\">\n",
       "  <thead>\n",
       "    <tr style=\"text-align: right;\">\n",
       "      <th></th>\n",
       "      <th>names</th>\n",
       "      <th>salaries</th>\n",
       "    </tr>\n",
       "  </thead>\n",
       "  <tbody>\n",
       "    <tr>\n",
       "      <th>0</th>\n",
       "      <td>Matthew Oneill</td>\n",
       "      <td>195591</td>\n",
       "    </tr>\n",
       "    <tr>\n",
       "      <th>3</th>\n",
       "      <td>Elizabeth Brown</td>\n",
       "      <td>148088</td>\n",
       "    </tr>\n",
       "    <tr>\n",
       "      <th>5</th>\n",
       "      <td>Jackson Anderson</td>\n",
       "      <td>140476</td>\n",
       "    </tr>\n",
       "    <tr>\n",
       "      <th>9</th>\n",
       "      <td>Tara Hendrix</td>\n",
       "      <td>183608</td>\n",
       "    </tr>\n",
       "    <tr>\n",
       "      <th>10</th>\n",
       "      <td>Miss Alyssa Gonzalez</td>\n",
       "      <td>154556</td>\n",
       "    </tr>\n",
       "    <tr>\n",
       "      <th>13</th>\n",
       "      <td>Jacob Romero</td>\n",
       "      <td>174154</td>\n",
       "    </tr>\n",
       "    <tr>\n",
       "      <th>14</th>\n",
       "      <td>Brandon Hays</td>\n",
       "      <td>154001</td>\n",
       "    </tr>\n",
       "  </tbody>\n",
       "</table>\n",
       "</div>"
      ],
      "text/plain": [
       "                   names  salaries\n",
       "0         Matthew Oneill    195591\n",
       "3        Elizabeth Brown    148088\n",
       "5       Jackson Anderson    140476\n",
       "9           Tara Hendrix    183608\n",
       "10  Miss Alyssa Gonzalez    154556\n",
       "13          Jacob Romero    174154\n",
       "14          Brandon Hays    154001"
      ]
     },
     "execution_count": 14,
     "metadata": {},
     "output_type": "execute_result"
    }
   ],
   "source": [
    "df[df['salaries']>df.salaries.mean()]"
   ]
  },
  {
   "cell_type": "code",
   "execution_count": 16,
   "id": "55d8cd23",
   "metadata": {},
   "outputs": [],
   "source": [
    "df.to_csv(\"emp.csv\")"
   ]
  },
  {
   "cell_type": "code",
   "execution_count": 18,
   "id": "32edf337",
   "metadata": {},
   "outputs": [],
   "source": [
    "df.to_csv(\"emp.csv\", index=False)"
   ]
  },
  {
   "cell_type": "code",
   "execution_count": 20,
   "id": "4a2e19bd",
   "metadata": {},
   "outputs": [],
   "source": [
    "emp_df = pd.read_csv(\"emp.csv\")"
   ]
  },
  {
   "cell_type": "code",
   "execution_count": 21,
   "id": "f094b4d7",
   "metadata": {},
   "outputs": [
    {
     "name": "stdout",
     "output_type": "stream",
     "text": [
      "                   names  salaries\n",
      "0         Matthew Oneill    195591\n",
      "1            Kathy Berry    111467\n",
      "2           Susan Macias    131235\n",
      "3        Elizabeth Brown    148088\n",
      "4          Debbie Peters    106353\n",
      "5       Jackson Anderson    140476\n",
      "6         Martin Edwards    112243\n",
      "7            Travis Cole    104076\n",
      "8          Michelle Mann    105773\n",
      "9           Tara Hendrix    183608\n",
      "10  Miss Alyssa Gonzalez    154556\n",
      "11         Michael Jones    102765\n",
      "12       Michelle Turner    111673\n",
      "13          Jacob Romero    174154\n",
      "14          Brandon Hays    154001\n"
     ]
    }
   ],
   "source": [
    "print(emp_df)"
   ]
  },
  {
   "cell_type": "code",
   "execution_count": 22,
   "id": "8c672acd",
   "metadata": {},
   "outputs": [],
   "source": [
    " pd.read_csv?"
   ]
  },
  {
   "cell_type": "code",
   "execution_count": 23,
   "id": "0576c07c",
   "metadata": {},
   "outputs": [
    {
     "name": "stdout",
     "output_type": "stream",
     "text": [
      "             names  salaries\n",
      "0   Matthew Oneill    195591\n",
      "1      Kathy Berry    111467\n",
      "2     Susan Macias    131235\n",
      "3  Elizabeth Brown    148088\n",
      "4    Debbie Peters    106353\n"
     ]
    }
   ],
   "source": [
    "emp_df = pd.read_csv(\"emp.csv\", nrows=5)\n",
    "print(emp_df)"
   ]
  },
  {
   "cell_type": "code",
   "execution_count": 24,
   "id": "5ac04b2e",
   "metadata": {},
   "outputs": [],
   "source": [
    "emp_df = pd.read_csv?"
   ]
  },
  {
   "cell_type": "code",
   "execution_count": 25,
   "id": "d6e4521b",
   "metadata": {},
   "outputs": [
    {
     "name": "stdout",
     "output_type": "stream",
     "text": [
      "      Debbie Peters  106353\n",
      "0  Jackson Anderson  140476\n",
      "1    Martin Edwards  112243\n",
      "2       Travis Cole  104076\n",
      "3     Michelle Mann  105773\n",
      "4      Tara Hendrix  183608\n"
     ]
    }
   ],
   "source": [
    "emp_df = pd.read_csv(\"emp.csv\", nrows=5,skiprows=5)\n",
    "print(emp_df)"
   ]
  },
  {
   "cell_type": "code",
   "execution_count": 26,
   "id": "a11a5588",
   "metadata": {},
   "outputs": [
    {
     "name": "stdout",
     "output_type": "stream",
     "text": [
      "           Tara Hendrix  183608\n",
      "0  Miss Alyssa Gonzalez  154556\n",
      "1         Michael Jones  102765\n",
      "2       Michelle Turner  111673\n",
      "3          Jacob Romero  174154\n",
      "4          Brandon Hays  154001\n"
     ]
    }
   ],
   "source": [
    "emp_df = pd.read_csv(\"emp.csv\", nrows=5,skiprows=10)\n",
    "print(emp_df)"
   ]
  },
  {
   "cell_type": "code",
   "execution_count": null,
   "id": "da303851",
   "metadata": {},
   "outputs": [],
   "source": []
  }
 ],
 "metadata": {
  "kernelspec": {
   "display_name": "Python 3 (ipykernel)",
   "language": "python",
   "name": "python3"
  },
  "language_info": {
   "codemirror_mode": {
    "name": "ipython",
    "version": 3
   },
   "file_extension": ".py",
   "mimetype": "text/x-python",
   "name": "python",
   "nbconvert_exporter": "python",
   "pygments_lexer": "ipython3",
   "version": "3.11.5"
  }
 },
 "nbformat": 4,
 "nbformat_minor": 5
}
