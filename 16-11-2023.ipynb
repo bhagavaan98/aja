{
 "cells": [
  {
   "cell_type": "code",
   "execution_count": null,
   "id": "ec0d1397",
   "metadata": {},
   "outputs": [],
   "source": []
  },
  {
   "cell_type": "code",
   "execution_count": null,
   "id": "5d956a1f",
   "metadata": {},
   "outputs": [],
   "source": [
    "3. Write a “Model” parent class and implement a create,update,delete method.\n",
    "Write child class “Person” for Model and override methods create,update,delete methods.\n",
    "Call the parent(Model) class create method in the child(person) class create method and add small validation. \n",
    "create an instance of person class and call the create method.\n",
    "\n",
    "4. Create a child class for Person and extend two extra attributes. \n",
    "In person class of 3 if you have name,age attributes. \n",
    "In the child class now add two extra attributes (email and phone number) Do all Crud operations.\n"
   ]
  },
  {
   "cell_type": "code",
   "execution_count": 43,
   "id": "beed4d5a",
   "metadata": {},
   "outputs": [],
   "source": [
    "# class model:\n",
    "#     def __init__(self,name,phn):\n",
    "#         self.name = name\n",
    "#         self.phn = phn\n",
    "#     def create(self):\n",
    "#         print('this is create method of model')\n",
    "#     def update(self):\n",
    "#         print('this is update method of model')\n",
    "#     def delete(self):\n",
    "#         print('this is delete method of model')\n",
    "# class Person(model):\n",
    "#     def __init__(self,name,phn):\n",
    "#         super().__init__(self,name,phn)\n",
    "#     def create(self):\n",
    "#         model.create(self) \n",
    "#         if self.name.isalnum() and self.phn.isdigit():\n",
    "#             print('this is create method of person')\n",
    "#     def update(self):\n",
    "#         model.update()\n",
    "#         print('this is update method of person')\n",
    "#     def delete(self):\n",
    "#         model.delete()\n",
    "#         print('this is delete method of person') \n",
    "        \n",
    "# obj =Person('gov','123')\n",
    "# obj.create()"
   ]
  },
  {
   "cell_type": "code",
   "execution_count": 50,
   "id": "e221c641",
   "metadata": {},
   "outputs": [
    {
     "name": "stdout",
     "output_type": "stream",
     "text": [
      "This is create method of model\n",
      "DONE\n"
     ]
    }
   ],
   "source": [
    "import pymysql\n",
    "\n",
    "class Model:\n",
    "    def __init__(self, emp_id, emp_name, technology, joined_date):\n",
    "        self.emp_id = emp_id\n",
    "        self.emp_name = emp_name\n",
    "        self.technology = technology\n",
    "        self.joined_date = joined_date\n",
    "\n",
    "    def insert(self):\n",
    "        myconnection = pymysql.connect(host='localhost', user='root', password='root', database='Aja_staff')\n",
    "        with myconnection as mc:\n",
    "            with mc.cursor() as cur:\n",
    "                query = f\"insert into sample(emp_id, emp_name, technology, joined_date) values('{self.emp_id}', '{self.emp_name}', '{self.technology}', '{self.joined_date}')\"\n",
    "                cur.execute(query)\n",
    "        print('This is create method of model')\n",
    "\n",
    "    def update(self):\n",
    "        print('This is update method of model')\n",
    "\n",
    "    def delete(self):\n",
    "        print('This is delete method of model')\n",
    "\n",
    "\n",
    "class Person(Model):\n",
    "    def __init__(self, emp_id, emp_name, technology, joined_date):\n",
    "        super().__init__(emp_id, emp_name, technology, joined_date)\n",
    "\n",
    "    def insert(self):\n",
    "        if self.emp_name.isalnum() and self.emp_id.isdigit():\n",
    "            super().insert()\n",
    "            print('DONE')\n",
    "        else:\n",
    "            print('Invalid name or employee ID')\n",
    "\n",
    "    def update(self):\n",
    "        super().update()\n",
    "        print('This is update method of person')\n",
    "\n",
    "    def delete(self):\n",
    "        super().delete()\n",
    "        print('This is delete method of person')\n",
    "\n",
    "\n",
    "# Create an instance of Person class and call the insert method\n",
    "obj = Person('1235', 'gov', 'python', '2023-09-06')\n",
    "obj.insert()\n"
   ]
  },
  {
   "cell_type": "code",
   "execution_count": null,
   "id": "0d82bbca",
   "metadata": {},
   "outputs": [],
   "source": []
  },
  {
   "cell_type": "code",
   "execution_count": 45,
   "id": "d7874121",
   "metadata": {},
   "outputs": [
    {
     "name": "stdout",
     "output_type": "stream",
     "text": [
      "eswar 69 a@gmail.com 1444\n"
     ]
    }
   ],
   "source": [
    "# 4. Create a child class for Person and extend two extra attributes. \n",
    "# In person class of 3 if you have name,age attributes. In the child class now add two extra attributes (email and phone number) \n",
    "# Do all Crud operations.\n",
    "class model:\n",
    "    def __init__(self,name,age):\n",
    "        self.name=name\n",
    "        self.age=age\n",
    "class child(model):\n",
    "    def __init__(self,name,age,email,phn):\n",
    "        super().__init__(name, age)\n",
    "        self.email=email\n",
    "        self.phn=phn\n",
    "        \n",
    "    def view(self):\n",
    "        print(self.name,self.age,self.email,self.phn)\n",
    "obj=child('eswar',69,'a@gmail.com','1444')\n",
    "obj.view()\n",
    "\n"
   ]
  },
  {
   "cell_type": "code",
   "execution_count": null,
   "id": "7c268c6a",
   "metadata": {},
   "outputs": [],
   "source": []
  }
 ],
 "metadata": {
  "kernelspec": {
   "display_name": "Python 3 (ipykernel)",
   "language": "python",
   "name": "python3"
  },
  "language_info": {
   "codemirror_mode": {
    "name": "ipython",
    "version": 3
   },
   "file_extension": ".py",
   "mimetype": "text/x-python",
   "name": "python",
   "nbconvert_exporter": "python",
   "pygments_lexer": "ipython3",
   "version": "3.11.5"
  }
 },
 "nbformat": 4,
 "nbformat_minor": 5
}
