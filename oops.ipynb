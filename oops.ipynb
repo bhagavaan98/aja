{
 "cells": [
  {
   "cell_type": "code",
   "execution_count": 3,
   "id": "9950acac",
   "metadata": {},
   "outputs": [],
   "source": [
    "a=1000"
   ]
  },
  {
   "cell_type": "code",
   "execution_count": 4,
   "id": "f070460d",
   "metadata": {},
   "outputs": [
    {
     "name": "stdout",
     "output_type": "stream",
     "text": [
      "1000\n"
     ]
    }
   ],
   "source": [
    "print(a)"
   ]
  },
  {
   "cell_type": "code",
   "execution_count": 5,
   "id": "3d66c82a",
   "metadata": {},
   "outputs": [
    {
     "name": "stdout",
     "output_type": "stream",
     "text": [
      "<class 'int'>\n"
     ]
    }
   ],
   "source": [
    "print(type(a))"
   ]
  },
  {
   "cell_type": "code",
   "execution_count": 6,
   "id": "5491be0d",
   "metadata": {},
   "outputs": [
    {
     "data": {
      "text/plain": [
       "True"
      ]
     },
     "execution_count": 6,
     "metadata": {},
     "output_type": "execute_result"
    }
   ],
   "source": [
    "isinstance(a, int)"
   ]
  },
  {
   "cell_type": "code",
   "execution_count": 7,
   "id": "55f6aee3",
   "metadata": {},
   "outputs": [
    {
     "name": "stdout",
     "output_type": "stream",
     "text": [
      "1000\n"
     ]
    }
   ],
   "source": [
    "a=int(\"1000\")\n",
    "print(a)"
   ]
  },
  {
   "cell_type": "code",
   "execution_count": 8,
   "id": "66462fd6",
   "metadata": {},
   "outputs": [
    {
     "name": "stdout",
     "output_type": "stream",
     "text": [
      "('Jayaram', 1234)\n"
     ]
    }
   ],
   "source": [
    "class Emp:\n",
    "    def __init__(self,name,empid):\n",
    "        self.name=name\n",
    "        self.empid=empid\n",
    "    def get(self):\n",
    "        return self.name, self.empid\n",
    "jay = Emp(\"Jayaram\", 1234)\n",
    "print(jay.get())#"
   ]
  },
  {
   "cell_type": "code",
   "execution_count": 9,
   "id": "8632d8eb",
   "metadata": {},
   "outputs": [
    {
     "name": "stdout",
     "output_type": "stream",
     "text": [
      "('Jayaram', 1234)\n"
     ]
    },
    {
     "ename": "TypeError",
     "evalue": "Emp.get() missing 1 required positional argument: 'self'",
     "output_type": "error",
     "traceback": [
      "\u001b[1;31m---------------------------------------------------------------------------\u001b[0m",
      "\u001b[1;31mTypeError\u001b[0m                                 Traceback (most recent call last)",
      "Cell \u001b[1;32mIn[9], line 9\u001b[0m\n\u001b[0;32m      7\u001b[0m jay \u001b[38;5;241m=\u001b[39m Emp(\u001b[38;5;124m\"\u001b[39m\u001b[38;5;124mJayaram\u001b[39m\u001b[38;5;124m\"\u001b[39m, \u001b[38;5;241m1234\u001b[39m)\n\u001b[0;32m      8\u001b[0m \u001b[38;5;28mprint\u001b[39m(jay\u001b[38;5;241m.\u001b[39mget())\n\u001b[1;32m----> 9\u001b[0m \u001b[38;5;28mprint\u001b[39m(Emp\u001b[38;5;241m.\u001b[39mget())\n",
      "\u001b[1;31mTypeError\u001b[0m: Emp.get() missing 1 required positional argument: 'self'"
     ]
    }
   ],
   "source": [
    "class Emp:\n",
    "    def __init__(self,name,empid):\n",
    "        self.name=name\n",
    "        self.empid=empid\n",
    "    def get(self):\n",
    "        return self.name, self.empid\n",
    "jay = Emp(\"Jayaram\", 1234)\n",
    "print(jay.get())\n",
    "print(Emp.get())"
   ]
  },
  {
   "cell_type": "code",
   "execution_count": 10,
   "id": "8d24a314",
   "metadata": {},
   "outputs": [
    {
     "name": "stdout",
     "output_type": "stream",
     "text": [
      "('Jayaram', 1234)\n",
      "('Jayaram', 1234)\n"
     ]
    }
   ],
   "source": [
    "class Emp:\n",
    "    def __init__(self,name,empid):\n",
    "        self.name=name\n",
    "        self.empid=empid\n",
    "    def get(self):\n",
    "        return self.name, self.empid\n",
    "jay = Emp(\"Jayaram\", 1234)\n",
    "print(jay.get())\n",
    "print(Emp.get(jay))"
   ]
  },
  {
   "cell_type": "code",
   "execution_count": 11,
   "id": "c1088f08",
   "metadata": {},
   "outputs": [
    {
     "name": "stdout",
     "output_type": "stream",
     "text": [
      "<class 'function'>\n"
     ]
    }
   ],
   "source": [
    "def fun():\n",
    "    pass\n",
    "print(type(fun))"
   ]
  },
  {
   "cell_type": "code",
   "execution_count": 12,
   "id": "61dfc8c7",
   "metadata": {},
   "outputs": [
    {
     "name": "stdout",
     "output_type": "stream",
     "text": [
      "<class 'type'>\n"
     ]
    }
   ],
   "source": [
    "class Emp:\n",
    "    pass\n",
    "print(type(Emp))"
   ]
  },
  {
   "cell_type": "code",
   "execution_count": 13,
   "id": "c66ce49e",
   "metadata": {},
   "outputs": [
    {
     "name": "stdout",
     "output_type": "stream",
     "text": [
      "<class 'int'>\n"
     ]
    }
   ],
   "source": [
    "a=1000\n",
    "print(type(a))"
   ]
  },
  {
   "cell_type": "code",
   "execution_count": 14,
   "id": "bef1d837",
   "metadata": {},
   "outputs": [
    {
     "name": "stdout",
     "output_type": "stream",
     "text": [
      "<class 'type'>\n",
      "<class '__main__.Emp'>\n"
     ]
    }
   ],
   "source": [
    "class Emp:\n",
    "    pass\n",
    "a=Emp()\n",
    "print(type(Emp))\n",
    "print(type(a))\n"
   ]
  },
  {
   "cell_type": "code",
   "execution_count": null,
   "id": "8ddf93d1",
   "metadata": {},
   "outputs": [],
   "source": [
    "class Emp:\n",
    "    def __init__(self,name,empid):\n",
    "        self.name=name\n",
    "        self.empid=empid\n",
    "    def get(self):\n",
    "        return self.name, self.empid\n",
    "jay = Emp(\"Jayaram\", 1234)\n",
    "print(type(Emp))\n",
    "print(type(jay))"
   ]
  },
  {
   "cell_type": "code",
   "execution_count": 15,
   "id": "8b3f85dd",
   "metadata": {},
   "outputs": [],
   "source": [
    "def fun():\n",
    "    print(\"hello\")"
   ]
  },
  {
   "cell_type": "code",
   "execution_count": 16,
   "id": "a2307ae8",
   "metadata": {},
   "outputs": [
    {
     "name": "stdout",
     "output_type": "stream",
     "text": [
      "hello\n"
     ]
    }
   ],
   "source": [
    "class Emp:\n",
    "    print(\"hello\")"
   ]
  },
  {
   "cell_type": "code",
   "execution_count": 17,
   "id": "9a47b1a0",
   "metadata": {},
   "outputs": [
    {
     "name": "stdout",
     "output_type": "stream",
     "text": [
      "hello\n"
     ]
    }
   ],
   "source": [
    "class Emp:\n",
    "    print(\"hello\")\n",
    "    def get(x):\n",
    "        print(\"this is get\")"
   ]
  },
  {
   "cell_type": "code",
   "execution_count": 18,
   "id": "cdc80934",
   "metadata": {},
   "outputs": [
    {
     "name": "stdout",
     "output_type": "stream",
     "text": [
      "<class '__main__.Emp'>\n"
     ]
    }
   ],
   "source": [
    "print(Emp)"
   ]
  },
  {
   "cell_type": "code",
   "execution_count": null,
   "id": "2e5fb194",
   "metadata": {},
   "outputs": [],
   "source": [
    "name=\"jayaram\"\n",
    "empid=1234"
   ]
  },
  {
   "cell_type": "code",
   "execution_count": null,
   "id": "00e6e276",
   "metadata": {},
   "outputs": [],
   "source": [
    "class Emp:\n",
    "    def __init__(x,name,empid):\n",
    "        self.name=name\n",
    "        self.empid=empid\n",
    "    def get(self):\n",
    "        return self.name, self.empid\n",
    "jay = Emp(\"Jayaram\", 1234)\n",
    "print(type(Emp))\n",
    "print(type(jay))"
   ]
  },
  {
   "cell_type": "code",
   "execution_count": 1,
   "id": "73dba4fd",
   "metadata": {},
   "outputs": [],
   "source": [
    "class emp:\n",
    "    pass"
   ]
  },
  {
   "cell_type": "code",
   "execution_count": null,
   "id": "5419c80b",
   "metadata": {},
   "outputs": [],
   "source": [
    "class Emp:\n",
    "    company=\"AJA\"\n",
    "    def __init__(self, name):\n",
    "        self.name=name\n",
    "    def get(x):\n",
    "        return x.name\n",
    "jay=Emp(\"jayaram\")\n",
    "print(Emp.get(jay))"
   ]
  },
  {
   "cell_type": "code",
   "execution_count": 1,
   "id": "75def472",
   "metadata": {},
   "outputs": [
    {
     "name": "stdout",
     "output_type": "stream",
     "text": [
      "AJA\n"
     ]
    }
   ],
   "source": [
    "class Emp:\n",
    "    company=\"AJA\"\n",
    "    def __init__(self, name):\n",
    "        self.name=name\n",
    "    def get(x):\n",
    "        return x.name\n",
    "print(Emp.company)"
   ]
  },
  {
   "cell_type": "code",
   "execution_count": 2,
   "id": "3b26cb0d",
   "metadata": {},
   "outputs": [
    {
     "name": "stdout",
     "output_type": "stream",
     "text": [
      "AJA\n",
      "<function Emp.get at 0x0000012A32D1EAC0>\n"
     ]
    }
   ],
   "source": [
    "class Emp:\n",
    "    company=\"AJA\"\n",
    "    def __init__(self, name):\n",
    "        self.name=name\n",
    "    def get(x):\n",
    "        return x.name\n",
    "print(Emp.company)\n",
    "print(Emp.get)"
   ]
  },
  {
   "cell_type": "code",
   "execution_count": 3,
   "id": "da946b16",
   "metadata": {},
   "outputs": [
    {
     "name": "stdout",
     "output_type": "stream",
     "text": [
      "AJA\n",
      "<function Emp.get at 0x0000012A32D1DEE0>\n",
      "<function Emp.__init__ at 0x0000012A32D1E7A0>\n"
     ]
    }
   ],
   "source": [
    "class Emp:\n",
    "    company=\"AJA\"\n",
    "    def __init__(self, name):\n",
    "        self.name=name\n",
    "    def get(x):\n",
    "        return x.name\n",
    "print(Emp.company)\n",
    "print(Emp.get)\n",
    "print(Emp.__init__)"
   ]
  },
  {
   "cell_type": "code",
   "execution_count": 4,
   "id": "3eb734cb",
   "metadata": {},
   "outputs": [
    {
     "name": "stdout",
     "output_type": "stream",
     "text": [
      "AJA\n",
      "<function Emp.get at 0x0000012A32D1EC00>\n",
      "<function Emp.__init__ at 0x0000012A32D1EB60>\n",
      "Vedhanvesh\n"
     ]
    }
   ],
   "source": [
    "class Emp:\n",
    "    company=\"AJA\"\n",
    "    def __init__(self, name):\n",
    "        self.name=name\n",
    "    def get(x):\n",
    "        return x.name\n",
    "print(Emp.company)\n",
    "print(Emp.get)\n",
    "print(Emp.__init__)\n",
    "vedha = Emp(\"Vedhanvesh\")\n",
    "print(Emp.get(vedha))"
   ]
  },
  {
   "cell_type": "code",
   "execution_count": 5,
   "id": "78036256",
   "metadata": {},
   "outputs": [
    {
     "name": "stdout",
     "output_type": "stream",
     "text": [
      "AJA\n",
      "<function Emp.get at 0x0000012A32FA6A20>\n",
      "<function Emp.__init__ at 0x0000012A32FA5620>\n",
      "Vedhanvesh\n",
      "AJA\n"
     ]
    }
   ],
   "source": [
    "class Emp:\n",
    "    company=\"AJA\"\n",
    "    def __init__(self, name):\n",
    "        self.name=name\n",
    "    def get(x):\n",
    "        return x.name\n",
    "print(Emp.company)\n",
    "print(Emp.get)\n",
    "print(Emp.__init__)\n",
    "vedha = Emp(\"Vedhanvesh\")\n",
    "print(Emp.get(vedha))\n",
    "print(vedha.company)"
   ]
  },
  {
   "cell_type": "code",
   "execution_count": 6,
   "id": "a5c5c94c",
   "metadata": {},
   "outputs": [
    {
     "name": "stdout",
     "output_type": "stream",
     "text": [
      "AJA\n",
      "<function Emp.get at 0x0000012A32FA51C0>\n",
      "<function Emp.__init__ at 0x0000012A32D1E520>\n",
      "Vedhanvesh\n",
      "AJA\n"
     ]
    },
    {
     "ename": "AttributeError",
     "evalue": "type object 'Emp' has no attribute 'name'",
     "output_type": "error",
     "traceback": [
      "\u001b[1;31m---------------------------------------------------------------------------\u001b[0m",
      "\u001b[1;31mAttributeError\u001b[0m                            Traceback (most recent call last)",
      "Cell \u001b[1;32mIn[6], line 13\u001b[0m\n\u001b[0;32m     11\u001b[0m \u001b[38;5;28mprint\u001b[39m(Emp\u001b[38;5;241m.\u001b[39mget(vedha))\n\u001b[0;32m     12\u001b[0m \u001b[38;5;28mprint\u001b[39m(vedha\u001b[38;5;241m.\u001b[39mcompany)\n\u001b[1;32m---> 13\u001b[0m \u001b[38;5;28mprint\u001b[39m(Emp\u001b[38;5;241m.\u001b[39mname)\n",
      "\u001b[1;31mAttributeError\u001b[0m: type object 'Emp' has no attribute 'name'"
     ]
    }
   ],
   "source": [
    "class Emp:\n",
    "    company=\"AJA\"\n",
    "    def __init__(self, name):\n",
    "        self.name=name\n",
    "    def get(x):\n",
    "        return x.name\n",
    "print(Emp.company)\n",
    "print(Emp.get)\n",
    "print(Emp.__init__)\n",
    "vedha = Emp(\"Vedhanvesh\")\n",
    "print(Emp.get(vedha))\n",
    "print(vedha.company)\n",
    "print(Emp.name)"
   ]
  },
  {
   "cell_type": "code",
   "execution_count": null,
   "id": "3f731605",
   "metadata": {},
   "outputs": [],
   "source": [
    "class Product:\n",
    "    def __init__(self, cost, name):\n",
    "        self.cost = cost\n",
    "        self.name = name\n",
    "ap = Product(10, \"APPLE\")\n",
    "\"\"\"\n",
    "while executing the line  ap = Product(10, \"APPLE\")\n",
    "what is the parent class to the Product class. object is the parent class\n",
    "it will call __new__ method. the __new__ returns the data object.\n",
    "it will call __init__ method by passing the data object as first argument and the remaining args(10,\"APPLE\") will be passed \n",
    "next.\n",
    "\n",
    "obj = object.__new__(cls)# the cls meand the Product class object\n",
    "cls.__init__(obj, 10, \"APPLE\")\n",
    "\"\"\""
   ]
  },
  {
   "cell_type": "code",
   "execution_count": 7,
   "id": "cdc4ef53",
   "metadata": {},
   "outputs": [
    {
     "data": {
      "text/plain": [
       "('APPLE', 10)"
      ]
     },
     "execution_count": 7,
     "metadata": {},
     "output_type": "execute_result"
    }
   ],
   "source": [
    "class Product:\n",
    "    def __init__(self, cost, name):\n",
    "        self.cost = cost\n",
    "        self.name = name\n",
    "    def get(y):\n",
    "        return y.name, y.cost\n",
    "ap = Product(10, \"APPLE\")\n",
    "Product.get(ap)"
   ]
  },
  {
   "cell_type": "code",
   "execution_count": 8,
   "id": "6a806567",
   "metadata": {},
   "outputs": [
    {
     "name": "stdout",
     "output_type": "stream",
     "text": [
      "('APPLE', 10)\n",
      "('APPLE', 10)\n"
     ]
    }
   ],
   "source": [
    "class Product:\n",
    "    def __init__(self, cost, name):\n",
    "        self.cost = cost\n",
    "        self.name = name\n",
    "    def get(y):\n",
    "        return y.name, y.cost\n",
    "ap = Product(10, \"APPLE\")\n",
    "print(Product.get(ap))\n",
    "print(ap.get())#Product.get(ap)"
   ]
  },
  {
   "cell_type": "code",
   "execution_count": 9,
   "id": "c960f61c",
   "metadata": {},
   "outputs": [
    {
     "name": "stdout",
     "output_type": "stream",
     "text": [
      "('APPLE', 10)\n",
      "('APPLE', 10)\n"
     ]
    }
   ],
   "source": [
    "class Product:\n",
    "    def __init__(self, cost, name):\n",
    "        self.cost = cost\n",
    "        self.name = name\n",
    "    def get(self):\n",
    "        return self.name, self.cost\n",
    "ap = Product(10, \"APPLE\")\n",
    "print(Product.get(ap))\n",
    "print(ap.get())#Product.get(ap)"
   ]
  },
  {
   "cell_type": "code",
   "execution_count": 10,
   "id": "2ac9b7be",
   "metadata": {},
   "outputs": [
    {
     "name": "stdout",
     "output_type": "stream",
     "text": [
      "('APPLE', 10)\n",
      "('APPLE', 10)\n"
     ]
    }
   ],
   "source": [
    "class Product:\n",
    "    def __init__(p, cost, name):\n",
    "        p.cost = cost\n",
    "        p.name = name\n",
    "    def get(self):# self refers to the object what ap is refering\n",
    "        return self.name, self.cost\n",
    "ap = Product(10, \"APPLE\")\n",
    "print(Product.get(ap))\n",
    "print(ap.get())#Product.get(ap)"
   ]
  },
  {
   "cell_type": "code",
   "execution_count": 11,
   "id": "aa8b391c",
   "metadata": {},
   "outputs": [
    {
     "name": "stdout",
     "output_type": "stream",
     "text": [
      "('APPLE', 10)\n",
      "('APPLE', 10)\n"
     ]
    }
   ],
   "source": [
    "class Product:\n",
    "    def __init__(p, cost, name):\n",
    "        p.cost = cost\n",
    "        p.name = name\n",
    "    def get(x):# self refers to the object what ap is refering\n",
    "        return x.name, x.cost\n",
    "ap = Product(10, \"APPLE\")\n",
    "print(Product.get(ap))\n",
    "print(ap.get())#Product.get(ap)"
   ]
  },
  {
   "cell_type": "code",
   "execution_count": 12,
   "id": "54cc59b3",
   "metadata": {},
   "outputs": [
    {
     "name": "stdout",
     "output_type": "stream",
     "text": [
      "('APPLE', 10)\n",
      "('APPLE', 10)\n"
     ]
    }
   ],
   "source": [
    "class Product:\n",
    "    def __init__(p, cost, name):\n",
    "        p.cost = cost\n",
    "        p.name = name\n",
    "    def get(x):\n",
    "        return x.name, x.cost\n",
    "    def get1():\n",
    "        print(\"hello\")\n",
    "ap = Product(10, \"APPLE\")\n",
    "print(Product.get(ap))\n",
    "print(ap.get())#Product.get(ap)"
   ]
  },
  {
   "cell_type": "code",
   "execution_count": 13,
   "id": "56dd3b37",
   "metadata": {},
   "outputs": [
    {
     "name": "stdout",
     "output_type": "stream",
     "text": [
      "('APPLE', 10)\n",
      "('APPLE', 10)\n"
     ]
    },
    {
     "ename": "TypeError",
     "evalue": "Product.get1() takes 0 positional arguments but 1 was given",
     "output_type": "error",
     "traceback": [
      "\u001b[1;31m---------------------------------------------------------------------------\u001b[0m",
      "\u001b[1;31mTypeError\u001b[0m                                 Traceback (most recent call last)",
      "Cell \u001b[1;32mIn[13], line 12\u001b[0m\n\u001b[0;32m     10\u001b[0m \u001b[38;5;28mprint\u001b[39m(Product\u001b[38;5;241m.\u001b[39mget(ap))\n\u001b[0;32m     11\u001b[0m \u001b[38;5;28mprint\u001b[39m(ap\u001b[38;5;241m.\u001b[39mget())\u001b[38;5;66;03m#Product.get(ap)\u001b[39;00m\n\u001b[1;32m---> 12\u001b[0m ap\u001b[38;5;241m.\u001b[39mget1()\n",
      "\u001b[1;31mTypeError\u001b[0m: Product.get1() takes 0 positional arguments but 1 was given"
     ]
    }
   ],
   "source": [
    "class Product:\n",
    "    def __init__(p, cost, name):\n",
    "        p.cost = cost\n",
    "        p.name = name\n",
    "    def get(x):\n",
    "        return x.name, x.cost\n",
    "    def get1():\n",
    "        print(\"hello\")\n",
    "ap = Product(10, \"APPLE\")\n",
    "print(Product.get(ap))\n",
    "print(ap.get())#Product.get(ap)\n",
    "ap.get1()#Product.get1(ap)"
   ]
  },
  {
   "cell_type": "code",
   "execution_count": 15,
   "id": "1bb8bc05",
   "metadata": {},
   "outputs": [
    {
     "name": "stdout",
     "output_type": "stream",
     "text": [
      "('APPLE', 10)\n",
      "('APPLE', 10)\n",
      "hello\n"
     ]
    }
   ],
   "source": [
    "class Product:\n",
    "    def __init__(p, cost, name):\n",
    "        p.cost = cost\n",
    "        p.name = name\n",
    "    def get(x):\n",
    "        return x.name, x.cost\n",
    "    def get1():\n",
    "        print(\"hello\")\n",
    "ap = Product(10, \"APPLE\")\n",
    "print(Product.get(ap))\n",
    "print(ap.get())#Product.get(ap)\n",
    "#ap.get1()#Product.get1(ap)\n",
    "Product.get1()"
   ]
  },
  {
   "cell_type": "code",
   "execution_count": 16,
   "id": "6ace8952",
   "metadata": {},
   "outputs": [],
   "source": [
    "class A:\n",
    "    def __init__(self, name):\n",
    "        self.name=name\n",
    "    def op1(self):\n",
    "        print(\"this is op1 in A\")\n",
    "        \n",
    "class B:\n",
    "    def __init__(self, name):\n",
    "        self.name=name\n",
    "        \n",
    "    def op1(self):\n",
    "        print(\"this is op1 in B\")\n",
    "        \n",
    "    def op2(self):\n",
    "        print(\"this is op2 in B\")\n",
    "    def operations(self):\n",
    "        pass\n",
    "    \n",
    "B.operations(10)"
   ]
  },
  {
   "cell_type": "code",
   "execution_count": 17,
   "id": "d2caa5ae",
   "metadata": {},
   "outputs": [
    {
     "ename": "TypeError",
     "evalue": "B.operations() missing 1 required positional argument: 'x'",
     "output_type": "error",
     "traceback": [
      "\u001b[1;31m---------------------------------------------------------------------------\u001b[0m",
      "\u001b[1;31mTypeError\u001b[0m                                 Traceback (most recent call last)",
      "Cell \u001b[1;32mIn[17], line 20\u001b[0m\n\u001b[0;32m     17\u001b[0m         \u001b[38;5;28mprint\u001b[39m(x)\n\u001b[0;32m     18\u001b[0m         \u001b[38;5;28mprint\u001b[39m(\u001b[38;5;124m\"\u001b[39m\u001b[38;5;124moperations\u001b[39m\u001b[38;5;124m\"\u001b[39m)\n\u001b[1;32m---> 20\u001b[0m B\u001b[38;5;241m.\u001b[39moperations()\n",
      "\u001b[1;31mTypeError\u001b[0m: B.operations() missing 1 required positional argument: 'x'"
     ]
    }
   ],
   "source": [
    "class A:\n",
    "    def __init__(x, name):\n",
    "        x.name=name\n",
    "    def op1(x):\n",
    "        print(\"this is op1 in A\")\n",
    "        \n",
    "class B:\n",
    "    def __init__(x, name):\n",
    "        x.name=name\n",
    "        \n",
    "    def op1(x):\n",
    "        print(\"this is op1 in B\")\n",
    "        \n",
    "    def op2(x):\n",
    "        print(\"this is op2 in B\")\n",
    "    def operations(x):\n",
    "        print(x)\n",
    "        print(\"operations\")\n",
    "    \n",
    "B.operations()"
   ]
  },
  {
   "cell_type": "code",
   "execution_count": 18,
   "id": "790f9dc9",
   "metadata": {},
   "outputs": [
    {
     "name": "stdout",
     "output_type": "stream",
     "text": [
      "10\n",
      "operations\n"
     ]
    }
   ],
   "source": [
    "class A:\n",
    "    def __init__(x, name):\n",
    "        x.name=name\n",
    "    def op1(x):\n",
    "        print(\"this is op1 in A\")\n",
    "        \n",
    "class B:\n",
    "    def __init__(x, name):\n",
    "        x.name=name\n",
    "        \n",
    "    def op1(x):\n",
    "        print(\"this is op1 in B\")\n",
    "        \n",
    "    def op2(x):\n",
    "        print(\"this is op2 in B\")\n",
    "    def operations(x):\n",
    "        print(x)\n",
    "        print(\"operations\")\n",
    "    \n",
    "B.operations(10)"
   ]
  },
  {
   "cell_type": "code",
   "execution_count": 19,
   "id": "0d8e2353",
   "metadata": {},
   "outputs": [
    {
     "name": "stdout",
     "output_type": "stream",
     "text": [
      "10\n",
      "operations\n"
     ]
    }
   ],
   "source": [
    "class A:\n",
    "    def __init__(x, name):\n",
    "        x.name=name\n",
    "    def op1(x):\n",
    "        print(\"this is op1 in A\")\n",
    "        \n",
    "class B:\n",
    "    def __init__(x, name):\n",
    "        x.name=name\n",
    "        \n",
    "    def op1(x):\n",
    "        print(\"this is op1 in B\")\n",
    "        \n",
    "    def op2(x):\n",
    "        print(\"this is op2 in B\")\n",
    "    def operations(self):\n",
    "        print(self)\n",
    "        print(\"operations\")\n",
    "    \n",
    "B.operations(10)"
   ]
  },
  {
   "cell_type": "code",
   "execution_count": 20,
   "id": "d28b0eb1",
   "metadata": {},
   "outputs": [
    {
     "name": "stdout",
     "output_type": "stream",
     "text": [
      "this is op1 in B\n"
     ]
    }
   ],
   "source": [
    "class A:\n",
    "    def __init__(x, name):\n",
    "        x.name=name\n",
    "    def op1(x):\n",
    "        print(\"this is op1 in A\")\n",
    "        \n",
    "class B:\n",
    "    def __init__(x, name):\n",
    "        x.name=name\n",
    "        \n",
    "    def op1(x):\n",
    "        print(\"this is op1 in B\")\n",
    "        \n",
    "    def op2(x):\n",
    "        print(\"this is op2 in B\")\n",
    "    def operations(self):\n",
    "        print(self)\n",
    "        print(\"operations\")\n",
    "    \n",
    "obj_b =  B(\"some B\")\n",
    "obj_b.op1() # B.op1(obj_b)"
   ]
  },
  {
   "cell_type": "code",
   "execution_count": 21,
   "id": "a60e5e63",
   "metadata": {},
   "outputs": [
    {
     "name": "stdout",
     "output_type": "stream",
     "text": [
      "this is op1 in B\n",
      "this is op2 in B\n"
     ]
    }
   ],
   "source": [
    "class A:\n",
    "    def __init__(x, name):\n",
    "        x.name=name\n",
    "    def op1(x):\n",
    "        print(\"this is op1 in A\")\n",
    "        \n",
    "class B:\n",
    "    def __init__(x, name):\n",
    "        x.name=name\n",
    "        \n",
    "    def op1(x):\n",
    "        print(\"this is op1 in B\")\n",
    "        \n",
    "    def op2(x):\n",
    "        print(\"this is op2 in B\")\n",
    "    def operations(x):\n",
    "        print(x)\n",
    "        print(\"operations\")\n",
    "    \n",
    "obj_b =  B(\"some B\")\n",
    "obj_b.op1() # B.op1(obj_b)\n",
    "obj_b.op2() # B.op2(obj_b)\n"
   ]
  },
  {
   "cell_type": "code",
   "execution_count": 22,
   "id": "2d19c30f",
   "metadata": {},
   "outputs": [
    {
     "name": "stdout",
     "output_type": "stream",
     "text": [
      "this is op1 in B\n",
      "this is op2 in B\n",
      "<__main__.B object at 0x0000012A3412FF10>\n",
      "operations\n"
     ]
    }
   ],
   "source": [
    "class A:\n",
    "    def __init__(x, name):\n",
    "        x.name=name\n",
    "    def op1(x):\n",
    "        print(\"this is op1 in A\")\n",
    "        \n",
    "class B:\n",
    "    def __init__(x, name):\n",
    "        x.name=name\n",
    "        \n",
    "    def op1(x):\n",
    "        print(\"this is op1 in B\")\n",
    "        \n",
    "    def op2(x):\n",
    "        print(\"this is op2 in B\")\n",
    "    def operations(x):\n",
    "        print(x)\n",
    "        print(\"operations\")\n",
    "    \n",
    "obj_b =  B(\"some B\")\n",
    "obj_b.op1() # B.op1(obj_b)\n",
    "obj_b.op2() # B.op2(obj_b)\n",
    "obj_b.operations()#B.operations(obj_b)"
   ]
  },
  {
   "cell_type": "code",
   "execution_count": 23,
   "id": "59319d3e",
   "metadata": {},
   "outputs": [
    {
     "name": "stdout",
     "output_type": "stream",
     "text": [
      "this is op1 in B\n",
      "this is op2 in B\n",
      "<__main__.B object at 0x0000012A3413E5D0>\n",
      "operations\n",
      "this is op1 in B\n",
      "this is op2 in B\n"
     ]
    }
   ],
   "source": [
    "class A:\n",
    "    def __init__(x, name):\n",
    "        x.name=name\n",
    "    def op1(x):\n",
    "        print(\"this is op1 in A\")\n",
    "        \n",
    "class B:\n",
    "    def __init__(x, name):\n",
    "        x.name=name\n",
    "        \n",
    "    def op1(x):\n",
    "        print(\"this is op1 in B\")\n",
    "        \n",
    "    def op2(x):\n",
    "        print(\"this is op2 in B\")\n",
    "    def operations(x):\n",
    "        print(x)\n",
    "        print(\"operations\")\n",
    "        x.op1()\n",
    "        x.op2()\n",
    "    \n",
    "obj_b =  B(\"some B\")\n",
    "obj_b.op1() # B.op1(obj_b)\n",
    "obj_b.op2() # B.op2(obj_b)\n",
    "obj_b.operations()#B.operations(obj_b)"
   ]
  },
  {
   "cell_type": "code",
   "execution_count": 24,
   "id": "8481eb44",
   "metadata": {},
   "outputs": [
    {
     "name": "stdout",
     "output_type": "stream",
     "text": [
      "<__main__.B object at 0x0000012A3413E4D0>\n",
      "operations\n",
      "this is op1 in B\n",
      "this is op2 in B\n"
     ]
    }
   ],
   "source": [
    "class A:\n",
    "    def __init__(x, name):\n",
    "        x.name=name\n",
    "    def op1(x):\n",
    "        print(\"this is op1 in A\")\n",
    "        \n",
    "class B:\n",
    "    def __init__(x, name):\n",
    "        x.name=name\n",
    "        \n",
    "    def op1(x):\n",
    "        print(\"this is op1 in B\")\n",
    "        \n",
    "    def op2(x):\n",
    "        print(\"this is op2 in B\")\n",
    "    def operations(x):\n",
    "        print(x)\n",
    "        print(\"operations\")\n",
    "        x.op1()\n",
    "        x.op2()\n",
    "    \n",
    "obj_b =  B(\"some B\")\n",
    "# obj_b.op1() # B.op1(obj_b)\n",
    "# obj_b.op2() # B.op2(obj_b)\n",
    "obj_b.operations()#B.operations(obj_b)"
   ]
  },
  {
   "cell_type": "code",
   "execution_count": 25,
   "id": "c8cd9a46",
   "metadata": {},
   "outputs": [
    {
     "name": "stdout",
     "output_type": "stream",
     "text": [
      "<__main__.B object at 0x0000012A3413F410>\n",
      "operations\n",
      "this is op1 in B\n",
      "this is op2 in B\n",
      "10\n",
      "operations\n"
     ]
    },
    {
     "ename": "AttributeError",
     "evalue": "'int' object has no attribute 'op1'",
     "output_type": "error",
     "traceback": [
      "\u001b[1;31m---------------------------------------------------------------------------\u001b[0m",
      "\u001b[1;31mAttributeError\u001b[0m                            Traceback (most recent call last)",
      "Cell \u001b[1;32mIn[25], line 26\u001b[0m\n\u001b[0;32m     23\u001b[0m \u001b[38;5;66;03m# obj_b.op1() # B.op1(obj_b)\u001b[39;00m\n\u001b[0;32m     24\u001b[0m \u001b[38;5;66;03m# obj_b.op2() # B.op2(obj_b)\u001b[39;00m\n\u001b[0;32m     25\u001b[0m obj_b\u001b[38;5;241m.\u001b[39moperations()\u001b[38;5;66;03m#B.operations(obj_b)\u001b[39;00m\n\u001b[1;32m---> 26\u001b[0m B\u001b[38;5;241m.\u001b[39moperations(\u001b[38;5;241m10\u001b[39m)\n",
      "Cell \u001b[1;32mIn[25], line 19\u001b[0m, in \u001b[0;36mB.operations\u001b[1;34m(x)\u001b[0m\n\u001b[0;32m     17\u001b[0m \u001b[38;5;28mprint\u001b[39m(x)\n\u001b[0;32m     18\u001b[0m \u001b[38;5;28mprint\u001b[39m(\u001b[38;5;124m\"\u001b[39m\u001b[38;5;124moperations\u001b[39m\u001b[38;5;124m\"\u001b[39m)\n\u001b[1;32m---> 19\u001b[0m x\u001b[38;5;241m.\u001b[39mop1()\n\u001b[0;32m     20\u001b[0m x\u001b[38;5;241m.\u001b[39mop2()\n",
      "\u001b[1;31mAttributeError\u001b[0m: 'int' object has no attribute 'op1'"
     ]
    }
   ],
   "source": [
    "class A:\n",
    "    def __init__(x, name):\n",
    "        x.name=name\n",
    "    def op1(x):\n",
    "        print(\"this is op1 in A\")\n",
    "        \n",
    "class B:\n",
    "    def __init__(x, name):\n",
    "        x.name=name\n",
    "        \n",
    "    def op1(x):\n",
    "        print(\"this is op1 in B\")\n",
    "        \n",
    "    def op2(x):\n",
    "        print(\"this is op2 in B\")\n",
    "    def operations(x):\n",
    "        print(x)\n",
    "        print(\"operations\")\n",
    "        x.op1()\n",
    "        x.op2()\n",
    "    \n",
    "obj_b =  B(\"some B\")\n",
    "# obj_b.op1() # B.op1(obj_b)\n",
    "# obj_b.op2() # B.op2(obj_b)\n",
    "obj_b.operations()#B.operations(obj_b)\n",
    "B.operations(10)"
   ]
  },
  {
   "cell_type": "code",
   "execution_count": 26,
   "id": "c8b905bd",
   "metadata": {},
   "outputs": [
    {
     "name": "stdout",
     "output_type": "stream",
     "text": [
      "<__main__.B object at 0x0000012A34103810>\n",
      "operations\n",
      "this is op1 in B\n",
      "this is op2 in B\n",
      "<__main__.B object at 0x0000012A34103810>\n",
      "operations\n",
      "this is op1 in B\n",
      "this is op2 in B\n"
     ]
    }
   ],
   "source": [
    "class A:\n",
    "    def __init__(x, name):\n",
    "        x.name=name\n",
    "    def op1(x):\n",
    "        print(\"this is op1 in A\")\n",
    "        \n",
    "class B:\n",
    "    def __init__(x, name):\n",
    "        x.name=name\n",
    "        \n",
    "    def op1(x):\n",
    "        print(\"this is op1 in B\")\n",
    "        \n",
    "    def op2(x):\n",
    "        print(\"this is op2 in B\")\n",
    "    def operations(x):\n",
    "        print(x)\n",
    "        print(\"operations\")\n",
    "        x.op1()\n",
    "        x.op2()\n",
    "    \n",
    "obj_b =  B(\"some B\")\n",
    "# obj_b.op1() # B.op1(obj_b)\n",
    "# obj_b.op2() # B.op2(obj_b)\n",
    "obj_b.operations()#B.operations(obj_b)\n",
    "B.operations(obj_b)"
   ]
  },
  {
   "cell_type": "code",
   "execution_count": 27,
   "id": "efd25667",
   "metadata": {},
   "outputs": [
    {
     "name": "stdout",
     "output_type": "stream",
     "text": [
      "<__main__.B object at 0x0000012A3411D790>\n",
      "operations\n",
      "this is op1 in B\n",
      "this is op2 in B\n",
      "<__main__.B object at 0x0000012A3411D790>\n",
      "operations\n",
      "this is op1 in B\n",
      "this is op2 in B\n",
      "this is op1 in A\n",
      "this is op3 in A\n"
     ]
    }
   ],
   "source": [
    "class A:\n",
    "    def __init__(x, name):\n",
    "        x.name=name\n",
    "    def op1(y):\n",
    "        print(\"this is op1 in A\")\n",
    "        \n",
    "    def op3(z):\n",
    "        print(\"this is op3 in A\")\n",
    "        \n",
    "class B:\n",
    "    def __init__(x, name):\n",
    "        x.name=name\n",
    "        \n",
    "    def op1(x):\n",
    "        print(\"this is op1 in B\")\n",
    "        \n",
    "    def op2(x):\n",
    "        print(\"this is op2 in B\")\n",
    "    def operations(x):\n",
    "        print(x)\n",
    "        print(\"operations\")\n",
    "        x.op1()\n",
    "        x.op2()\n",
    "    \n",
    "obj_b =  B(\"some B\")\n",
    "obj_b.operations()\n",
    "B.operations(obj_b)\n",
    "A.op1(10)\n",
    "A.op3(12)"
   ]
  },
  {
   "cell_type": "code",
   "execution_count": 28,
   "id": "a58eed9b",
   "metadata": {},
   "outputs": [
    {
     "name": "stdout",
     "output_type": "stream",
     "text": [
      "<__main__.B object at 0x0000012A3417B810>\n",
      "operations\n",
      "this is op1 in B\n",
      "this is op2 in B\n",
      "this is op1 in A\n",
      "this is op3 in A\n"
     ]
    }
   ],
   "source": [
    "class A:\n",
    "    def __init__(x, name):\n",
    "        x.name=name\n",
    "    def op1(y):\n",
    "        print(\"this is op1 in A\")\n",
    "        \n",
    "    def op3(z):\n",
    "        print(\"this is op3 in A\")\n",
    "        \n",
    "class B:\n",
    "    def __init__(x, name):\n",
    "        x.name=name\n",
    "        \n",
    "    def op1(x):\n",
    "        print(\"this is op1 in B\")\n",
    "        \n",
    "    def op2(x):\n",
    "        print(\"this is op2 in B\")\n",
    "    def operations(x):\n",
    "        print(x)\n",
    "        print(\"operations\")\n",
    "        x.op1()\n",
    "        x.op2()\n",
    "        A.op1(10)\n",
    "        A.op3(20)\n",
    "    \n",
    "obj_b =  B(\"some B\")\n",
    "obj_b.operations()#B.operations(obj_b)"
   ]
  },
  {
   "cell_type": "code",
   "execution_count": null,
   "id": "4b9b6fa2",
   "metadata": {},
   "outputs": [],
   "source": [
    "class A:\n",
    "    def __init__(x, name):\n",
    "        x.name=name\n",
    "    def op1(y):\n",
    "        print(\"this is op1 in A\")\n",
    "        \n",
    "    def op3(z):\n",
    "        print(\"this is op3 in A\")\n",
    "        \n",
    "class B:\n",
    "    def __init__(x, name):\n",
    "        x.name=name\n",
    "        \n",
    "    def op1(x):\n",
    "        print(\"this is op1 in B\")\n",
    "        \n",
    "    def op2(x):\n",
    "        print(\"this is op2 in B\")\n",
    "    def operations(x):\n",
    "        print(x)\n",
    "        print(\"operations\")\n",
    "        x.op1()\n",
    "        x.op2()\n",
    "        A.op1(10)\n",
    "        A.op3(20)\n",
    "    \n",
    "obj_b =  B(\"some B\")\n",
    "obj_b.operations()#B.operations(obj_b)"
   ]
  },
  {
   "cell_type": "code",
   "execution_count": 29,
   "id": "a036e0d2",
   "metadata": {},
   "outputs": [
    {
     "name": "stdout",
     "output_type": "stream",
     "text": [
      "('vedha guduru', 2354678, 'Ic3')\n"
     ]
    }
   ],
   "source": [
    "class Emp:        \n",
    "    def get_emp(y):\n",
    "        return y.name, y.sal, y.dept\n",
    "    def get_sal(p):\n",
    "        pass\n",
    "    \n",
    "v=Emp()\n",
    "v.name=\"vedha guduru\"\n",
    "v.sal=2354678\n",
    "v.dept=\"Ic3\"\n",
    "print(Emp.get_emp(v))"
   ]
  },
  {
   "cell_type": "code",
   "execution_count": 31,
   "id": "277c8de4",
   "metadata": {},
   "outputs": [
    {
     "name": "stdout",
     "output_type": "stream",
     "text": [
      "('vedha guduru', 2354678, 'Ic3')\n"
     ]
    },
    {
     "ename": "AttributeError",
     "evalue": "'Emp' object has no attribute 'sal'",
     "output_type": "error",
     "traceback": [
      "\u001b[1;31m---------------------------------------------------------------------------\u001b[0m",
      "\u001b[1;31mAttributeError\u001b[0m                            Traceback (most recent call last)",
      "Cell \u001b[1;32mIn[31], line 14\u001b[0m\n\u001b[0;32m     12\u001b[0m j\u001b[38;5;241m=\u001b[39mEmp()\n\u001b[0;32m     13\u001b[0m j\u001b[38;5;241m.\u001b[39mname\u001b[38;5;241m=\u001b[39m\u001b[38;5;124m\"\u001b[39m\u001b[38;5;124mJayaram\u001b[39m\u001b[38;5;124m\"\u001b[39m\n\u001b[1;32m---> 14\u001b[0m \u001b[38;5;28mprint\u001b[39m(Emp\u001b[38;5;241m.\u001b[39mget_emp(j))\n",
      "Cell \u001b[1;32mIn[31], line 3\u001b[0m, in \u001b[0;36mEmp.get_emp\u001b[1;34m(y)\u001b[0m\n\u001b[0;32m      2\u001b[0m \u001b[38;5;28;01mdef\u001b[39;00m \u001b[38;5;21mget_emp\u001b[39m(y):\n\u001b[1;32m----> 3\u001b[0m     \u001b[38;5;28;01mreturn\u001b[39;00m y\u001b[38;5;241m.\u001b[39mname, y\u001b[38;5;241m.\u001b[39msal, y\u001b[38;5;241m.\u001b[39mdept\n",
      "\u001b[1;31mAttributeError\u001b[0m: 'Emp' object has no attribute 'sal'"
     ]
    }
   ],
   "source": [
    "class Emp:        \n",
    "    def get_emp(y):\n",
    "        return y.name, y.sal, y.dept\n",
    "    def get_sal(p):\n",
    "        pass\n",
    "    \n",
    "v=Emp()\n",
    "v.name=\"vedha guduru\"\n",
    "v.sal=2354678\n",
    "v.dept=\"Ic3\"\n",
    "print(Emp.get_emp(v))\n",
    "j=Emp()\n",
    "j.name=\"Jayaram\"\n",
    "print(Emp.get_emp(j))"
   ]
  },
  {
   "cell_type": "code",
   "execution_count": 33,
   "id": "0bac085e",
   "metadata": {},
   "outputs": [
    {
     "name": "stdout",
     "output_type": "stream",
     "text": [
      "('vedha guduru', 2354678, 'Ic3')\n"
     ]
    },
    {
     "ename": "AttributeError",
     "evalue": "'Emp' object has no attribute 'sal'",
     "output_type": "error",
     "traceback": [
      "\u001b[1;31m---------------------------------------------------------------------------\u001b[0m",
      "\u001b[1;31mAttributeError\u001b[0m                            Traceback (most recent call last)",
      "Cell \u001b[1;32mIn[33], line 14\u001b[0m\n\u001b[0;32m     12\u001b[0m j\u001b[38;5;241m=\u001b[39mEmp()\n\u001b[0;32m     13\u001b[0m j\u001b[38;5;241m.\u001b[39mname\u001b[38;5;241m=\u001b[39m\u001b[38;5;124m\"\u001b[39m\u001b[38;5;124mJayaram\u001b[39m\u001b[38;5;124m\"\u001b[39m\n\u001b[1;32m---> 14\u001b[0m \u001b[38;5;28mprint\u001b[39m(j\u001b[38;5;241m.\u001b[39mget_emp())\n",
      "Cell \u001b[1;32mIn[33], line 3\u001b[0m, in \u001b[0;36mEmp.get_emp\u001b[1;34m(y)\u001b[0m\n\u001b[0;32m      2\u001b[0m \u001b[38;5;28;01mdef\u001b[39;00m \u001b[38;5;21mget_emp\u001b[39m(y):\n\u001b[1;32m----> 3\u001b[0m     \u001b[38;5;28;01mreturn\u001b[39;00m y\u001b[38;5;241m.\u001b[39mname, y\u001b[38;5;241m.\u001b[39msal, y\u001b[38;5;241m.\u001b[39mdept\n",
      "\u001b[1;31mAttributeError\u001b[0m: 'Emp' object has no attribute 'sal'"
     ]
    }
   ],
   "source": [
    "class Emp:        \n",
    "    def get_emp(y):\n",
    "        return y.name, y.sal, y.dept\n",
    "    def get_sal(p):\n",
    "        pass\n",
    "    \n",
    "v=Emp()\n",
    "v.name=\"vedha guduru\"\n",
    "v.sal=2354678\n",
    "v.dept=\"Ic3\"\n",
    "print(v.get_emp())\n",
    "j=Emp()\n",
    "j.name=\"Jayaram\"\n",
    "print(j.get_emp())"
   ]
  },
  {
   "cell_type": "code",
   "execution_count": 34,
   "id": "f3a71552",
   "metadata": {},
   "outputs": [
    {
     "name": "stdout",
     "output_type": "stream",
     "text": [
      "('vedha guduru', 2354678, 'Ic3')\n"
     ]
    },
    {
     "ename": "AttributeError",
     "evalue": "'Emp' object has no attribute 'name'",
     "output_type": "error",
     "traceback": [
      "\u001b[1;31m---------------------------------------------------------------------------\u001b[0m",
      "\u001b[1;31mAttributeError\u001b[0m                            Traceback (most recent call last)",
      "Cell \u001b[1;32mIn[34], line 20\u001b[0m\n\u001b[0;32m     18\u001b[0m \u001b[38;5;66;03m# j.name=\"Jayaram\"\u001b[39;00m\n\u001b[0;32m     19\u001b[0m Emp\u001b[38;5;241m.\u001b[39mset_emp(j, \u001b[38;5;124m\"\u001b[39m\u001b[38;5;124mJayaram\u001b[39m\u001b[38;5;124m\"\u001b[39m, \u001b[38;5;241m2354678\u001b[39m, \u001b[38;5;124m\"\u001b[39m\u001b[38;5;124mIc3\u001b[39m\u001b[38;5;124m\"\u001b[39m)\n\u001b[1;32m---> 20\u001b[0m \u001b[38;5;28mprint\u001b[39m(j\u001b[38;5;241m.\u001b[39mget_emp())\n",
      "Cell \u001b[1;32mIn[34], line 7\u001b[0m, in \u001b[0;36mEmp.get_emp\u001b[1;34m(y)\u001b[0m\n\u001b[0;32m      6\u001b[0m \u001b[38;5;28;01mdef\u001b[39;00m \u001b[38;5;21mget_emp\u001b[39m(y):\n\u001b[1;32m----> 7\u001b[0m     \u001b[38;5;28;01mreturn\u001b[39;00m y\u001b[38;5;241m.\u001b[39mname, y\u001b[38;5;241m.\u001b[39msal, y\u001b[38;5;241m.\u001b[39mdept\n",
      "\u001b[1;31mAttributeError\u001b[0m: 'Emp' object has no attribute 'name'"
     ]
    }
   ],
   "source": [
    "class Emp: \n",
    "    def set_emp(p, name, sal, dept):\n",
    "        v.name=\"vedha guduru\"\n",
    "        v.sal=2354678\n",
    "        v.dept=\"Ic3\"\n",
    "    def get_emp(y):\n",
    "        return y.name, y.sal, y.dept\n",
    "    def get_sal(p):\n",
    "        pass\n",
    "    \n",
    "v=Emp()\n",
    "Emp.set_emp(v, \"vedha guduru\", 2354678, \"Ic3\")\n",
    "# v.name=\"vedha guduru\"\n",
    "# v.sal=2354678\n",
    "# v.dept=\"Ic3\"\n",
    "print(v.get_emp())\n",
    "j=Emp()\n",
    "# j.name=\"Jayaram\"\n",
    "Emp.set_emp(j, \"Jayaram\", 2354678, \"Ic3\")\n",
    "print(j.get_emp())"
   ]
  },
  {
   "cell_type": "code",
   "execution_count": 35,
   "id": "ba115b11",
   "metadata": {},
   "outputs": [
    {
     "name": "stdout",
     "output_type": "stream",
     "text": [
      "('vedha guduru', 2354678, 'Ic3')\n",
      "('vedha guduru', 2354678, 'Ic3')\n"
     ]
    }
   ],
   "source": [
    "class Emp: \n",
    "    def set_emp(p, name, sal, dept):\n",
    "        p.name=\"vedha guduru\"\n",
    "        p.sal=2354678\n",
    "        p.dept=\"Ic3\"\n",
    "    def get_emp(y):\n",
    "        return y.name, y.sal, y.dept\n",
    "    def get_sal(p):\n",
    "        pass\n",
    "    \n",
    "v=Emp()\n",
    "Emp.set_emp(v, \"vedha guduru\", 2354678, \"Ic3\")\n",
    "# v.name=\"vedha guduru\"\n",
    "# v.sal=2354678\n",
    "# v.dept=\"Ic3\"\n",
    "print(v.get_emp())\n",
    "j=Emp()\n",
    "# j.name=\"Jayaram\"\n",
    "Emp.set_emp(j, \"Jayaram\", 2354678, \"Ic3\")\n",
    "print(j.get_emp())"
   ]
  },
  {
   "cell_type": "code",
   "execution_count": 36,
   "id": "acbbaaff",
   "metadata": {},
   "outputs": [
    {
     "name": "stdout",
     "output_type": "stream",
     "text": [
      "('vedha guduru', 2354678, 'Ic3')\n",
      "('vedha guduru', 2354678, 'Ic3')\n"
     ]
    }
   ],
   "source": [
    "class Emp: \n",
    "    def set_emp(p, name, sal, dept):\n",
    "        p.name=\"vedha guduru\"\n",
    "        p.sal=2354678\n",
    "        p.dept=\"Ic3\"\n",
    "    def get_emp(y):\n",
    "        return y.name, y.sal, y.dept\n",
    "    def get_sal(p):\n",
    "        pass\n",
    "    \n",
    "v=Emp()\n",
    "v.set_emp(\"vedha guduru\", 2354678, \"Ic3\")#Emp.set_emp(v, \"vedha guduru\", 2354678, \"Ic3\")\n",
    "# v.name=\"vedha guduru\"\n",
    "# v.sal=2354678\n",
    "# v.dept=\"Ic3\"\n",
    "print(v.get_emp())\n",
    "j=Emp()\n",
    "# j.name=\"Jayaram\"\n",
    "j.set_emp(\"Jayaram\", 2354678, \"Ic3\")#Emp.set_emp(j, \"Jayaram\", 2354678, \"Ic3\")\n",
    "print(j.get_emp())"
   ]
  },
  {
   "cell_type": "code",
   "execution_count": 37,
   "id": "aef3dc9a",
   "metadata": {},
   "outputs": [
    {
     "name": "stdout",
     "output_type": "stream",
     "text": [
      "('vedha guduru', 2354678, 'Ic3')\n"
     ]
    },
    {
     "ename": "AttributeError",
     "evalue": "'Emp' object has no attribute 'name'",
     "output_type": "error",
     "traceback": [
      "\u001b[1;31m---------------------------------------------------------------------------\u001b[0m",
      "\u001b[1;31mAttributeError\u001b[0m                            Traceback (most recent call last)",
      "Cell \u001b[1;32mIn[37], line 20\u001b[0m\n\u001b[0;32m     17\u001b[0m j\u001b[38;5;241m=\u001b[39mEmp()\n\u001b[0;32m     18\u001b[0m \u001b[38;5;66;03m# j.name=\"Jayaram\"\u001b[39;00m\n\u001b[0;32m     19\u001b[0m \u001b[38;5;66;03m#j.set_emp(\"Jayaram\", 2354678, \"Ic3\")#Emp.set_emp(j, \"Jayaram\", 2354678, \"Ic3\")\u001b[39;00m\n\u001b[1;32m---> 20\u001b[0m \u001b[38;5;28mprint\u001b[39m(j\u001b[38;5;241m.\u001b[39mget_emp())\n",
      "Cell \u001b[1;32mIn[37], line 7\u001b[0m, in \u001b[0;36mEmp.get_emp\u001b[1;34m(y)\u001b[0m\n\u001b[0;32m      6\u001b[0m \u001b[38;5;28;01mdef\u001b[39;00m \u001b[38;5;21mget_emp\u001b[39m(y):\n\u001b[1;32m----> 7\u001b[0m     \u001b[38;5;28;01mreturn\u001b[39;00m y\u001b[38;5;241m.\u001b[39mname, y\u001b[38;5;241m.\u001b[39msal, y\u001b[38;5;241m.\u001b[39mdept\n",
      "\u001b[1;31mAttributeError\u001b[0m: 'Emp' object has no attribute 'name'"
     ]
    }
   ],
   "source": [
    "class Emp: \n",
    "    def set_emp(p, name, sal, dept):\n",
    "        p.name=\"vedha guduru\"\n",
    "        p.sal=2354678\n",
    "        p.dept=\"Ic3\"\n",
    "    def get_emp(y):\n",
    "        return y.name, y.sal, y.dept\n",
    "    def get_sal(p):\n",
    "        pass\n",
    "    \n",
    "v=Emp()\n",
    "v.set_emp(\"vedha guduru\", 2354678, \"Ic3\")#Emp.set_emp(v, \"vedha guduru\", 2354678, \"Ic3\")\n",
    "# v.name=\"vedha guduru\"\n",
    "# v.sal=2354678\n",
    "# v.dept=\"Ic3\"\n",
    "print(v.get_emp())\n",
    "j=Emp()\n",
    "# j.name=\"Jayaram\"\n",
    "#j.set_emp(\"Jayaram\", 2354678, \"Ic3\")#Emp.set_emp(j, \"Jayaram\", 2354678, \"Ic3\")\n",
    "print(j.get_emp())"
   ]
  },
  {
   "cell_type": "code",
   "execution_count": 38,
   "id": "2ed4f8d5",
   "metadata": {},
   "outputs": [
    {
     "ename": "TypeError",
     "evalue": "Emp.__init__() missing 3 required positional arguments: 'name', 'sal', and 'dept'",
     "output_type": "error",
     "traceback": [
      "\u001b[1;31m---------------------------------------------------------------------------\u001b[0m",
      "\u001b[1;31mTypeError\u001b[0m                                 Traceback (most recent call last)",
      "Cell \u001b[1;32mIn[38], line 11\u001b[0m\n\u001b[0;32m      8\u001b[0m     \u001b[38;5;28;01mdef\u001b[39;00m \u001b[38;5;21mget_sal\u001b[39m(p):\n\u001b[0;32m      9\u001b[0m         \u001b[38;5;28;01mpass\u001b[39;00m\n\u001b[1;32m---> 11\u001b[0m v\u001b[38;5;241m=\u001b[39mEmp()\n",
      "\u001b[1;31mTypeError\u001b[0m: Emp.__init__() missing 3 required positional arguments: 'name', 'sal', and 'dept'"
     ]
    }
   ],
   "source": [
    "class Emp: \n",
    "    def __init__(p, name, sal, dept):\n",
    "        p.name=\"vedha guduru\"\n",
    "        p.sal=2354678\n",
    "        p.dept=\"Ic3\"\n",
    "    def get_emp(y):\n",
    "        return y.name, y.sal, y.dept\n",
    "    def get_sal(p):\n",
    "        pass\n",
    "    \n",
    "v=Emp()"
   ]
  },
  {
   "cell_type": "code",
   "execution_count": 39,
   "id": "051b0975",
   "metadata": {},
   "outputs": [
    {
     "name": "stdout",
     "output_type": "stream",
     "text": [
      "('vedha guduru', 2354678, 'Ic3')\n"
     ]
    }
   ],
   "source": [
    "class Emp: \n",
    "    def __init__(p, name, sal, dept):\n",
    "        p.name=\"vedha guduru\"\n",
    "        p.sal=2354678\n",
    "        p.dept=\"Ic3\"\n",
    "    def get_emp(y):\n",
    "        return y.name, y.sal, y.dept\n",
    "    def get_sal(p):\n",
    "        pass\n",
    "    \n",
    "v=Emp(\"vedha guduru\", 2354678, \"Ic3\")\n",
    "print(v.get_emp())"
   ]
  },
  {
   "cell_type": "code",
   "execution_count": 41,
   "id": "e3ec1ce4",
   "metadata": {},
   "outputs": [
    {
     "name": "stdout",
     "output_type": "stream",
     "text": [
      "('vedha guduru', 2354678, 'Ic3')\n",
      "('Jayaram', 2354678, 'Ic3')\n"
     ]
    }
   ],
   "source": [
    "class Emp: \n",
    "    def __init__(p, name, sal, dept):\n",
    "        p.name=name\n",
    "        p.sal=sal\n",
    "        p.dept=dept\n",
    "    def get_emp(y):\n",
    "        return y.name, y.sal, y.dept\n",
    "    def get_sal(p):\n",
    "        pass\n",
    "    \n",
    "v=Emp(\"vedha guduru\", 2354678, \"Ic3\")\n",
    "print(v.get_emp())\n",
    "j=Emp(\"Jayaram\", 2354678, \"Ic3\")\n",
    "print(j.get_emp())"
   ]
  },
  {
   "cell_type": "code",
   "execution_count": 42,
   "id": "6032a926",
   "metadata": {},
   "outputs": [
    {
     "name": "stdout",
     "output_type": "stream",
     "text": [
      "('vedha guduru', 2354678, 'Ic3')\n",
      "('Jayaram', 2354678, 'Ic3')\n",
      "70640340\n"
     ]
    }
   ],
   "source": [
    "class Emp: \n",
    "    def __init__(p, name, sal, dept):\n",
    "        p.name=name\n",
    "        p.sal=sal\n",
    "        p.dept=dept\n",
    "    def get_emp(y):\n",
    "        return y.name, y.sal, y.dept\n",
    "    def get_sal(p):\n",
    "        print(p.sal*30)\n",
    "    \n",
    "v=Emp(\"vedha guduru\", 2354678, \"Ic3\")\n",
    "print(v.get_emp())\n",
    "j=Emp(\"Jayaram\", 2354678, \"Ic3\")\n",
    "print(j.get_emp())\n",
    "j.get_sal()"
   ]
  },
  {
   "cell_type": "code",
   "execution_count": null,
   "id": "a1b06413",
   "metadata": {},
   "outputs": [],
   "source": []
  }
 ],
 "metadata": {
  "kernelspec": {
   "display_name": "Python 3 (ipykernel)",
   "language": "python",
   "name": "python3"
  },
  "language_info": {
   "codemirror_mode": {
    "name": "ipython",
    "version": 3
   },
   "file_extension": ".py",
   "mimetype": "text/x-python",
   "name": "python",
   "nbconvert_exporter": "python",
   "pygments_lexer": "ipython3",
   "version": "3.11.5"
  }
 },
 "nbformat": 4,
 "nbformat_minor": 5
}
