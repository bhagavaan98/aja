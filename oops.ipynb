{
 "cells": [
  {
   "cell_type": "code",
   "execution_count": 3,
   "id": "9950acac",
   "metadata": {},
   "outputs": [],
   "source": [
    "a=1000"
   ]
  },
  {
   "cell_type": "code",
   "execution_count": 4,
   "id": "f070460d",
   "metadata": {},
   "outputs": [
    {
     "name": "stdout",
     "output_type": "stream",
     "text": [
      "1000\n"
     ]
    }
   ],
   "source": [
    "print(a)"
   ]
  },
  {
   "cell_type": "code",
   "execution_count": 5,
   "id": "3d66c82a",
   "metadata": {},
   "outputs": [
    {
     "name": "stdout",
     "output_type": "stream",
     "text": [
      "<class 'int'>\n"
     ]
    }
   ],
   "source": [
    "print(type(a))"
   ]
  },
  {
   "cell_type": "code",
   "execution_count": 6,
   "id": "5491be0d",
   "metadata": {},
   "outputs": [
    {
     "data": {
      "text/plain": [
       "True"
      ]
     },
     "execution_count": 6,
     "metadata": {},
     "output_type": "execute_result"
    }
   ],
   "source": [
    "isinstance(a, int)"
   ]
  },
  {
   "cell_type": "code",
   "execution_count": 7,
   "id": "55f6aee3",
   "metadata": {},
   "outputs": [
    {
     "name": "stdout",
     "output_type": "stream",
     "text": [
      "1000\n"
     ]
    }
   ],
   "source": [
    "a=int(\"1000\")\n",
    "print(a)"
   ]
  },
  {
   "cell_type": "code",
   "execution_count": 8,
   "id": "66462fd6",
   "metadata": {},
   "outputs": [
    {
     "name": "stdout",
     "output_type": "stream",
     "text": [
      "('Jayaram', 1234)\n"
     ]
    }
   ],
   "source": [
    "class Emp:\n",
    "    def __init__(self,name,empid):\n",
    "        self.name=name\n",
    "        self.empid=empid\n",
    "    def get(self):\n",
    "        return self.name, self.empid\n",
    "jay = Emp(\"Jayaram\", 1234)\n",
    "print(jay.get())#"
   ]
  },
  {
   "cell_type": "code",
   "execution_count": 9,
   "id": "8632d8eb",
   "metadata": {},
   "outputs": [
    {
     "name": "stdout",
     "output_type": "stream",
     "text": [
      "('Jayaram', 1234)\n"
     ]
    },
    {
     "ename": "TypeError",
     "evalue": "Emp.get() missing 1 required positional argument: 'self'",
     "output_type": "error",
     "traceback": [
      "\u001b[1;31m---------------------------------------------------------------------------\u001b[0m",
      "\u001b[1;31mTypeError\u001b[0m                                 Traceback (most recent call last)",
      "Cell \u001b[1;32mIn[9], line 9\u001b[0m\n\u001b[0;32m      7\u001b[0m jay \u001b[38;5;241m=\u001b[39m Emp(\u001b[38;5;124m\"\u001b[39m\u001b[38;5;124mJayaram\u001b[39m\u001b[38;5;124m\"\u001b[39m, \u001b[38;5;241m1234\u001b[39m)\n\u001b[0;32m      8\u001b[0m \u001b[38;5;28mprint\u001b[39m(jay\u001b[38;5;241m.\u001b[39mget())\n\u001b[1;32m----> 9\u001b[0m \u001b[38;5;28mprint\u001b[39m(Emp\u001b[38;5;241m.\u001b[39mget())\n",
      "\u001b[1;31mTypeError\u001b[0m: Emp.get() missing 1 required positional argument: 'self'"
     ]
    }
   ],
   "source": [
    "class Emp:\n",
    "    def __init__(self,name,empid):\n",
    "        self.name=name\n",
    "        self.empid=empid\n",
    "    def get(self):\n",
    "        return self.name, self.empid\n",
    "jay = Emp(\"Jayaram\", 1234)\n",
    "print(jay.get())\n",
    "print(Emp.get())"
   ]
  },
  {
   "cell_type": "code",
   "execution_count": 10,
   "id": "8d24a314",
   "metadata": {},
   "outputs": [
    {
     "name": "stdout",
     "output_type": "stream",
     "text": [
      "('Jayaram', 1234)\n",
      "('Jayaram', 1234)\n"
     ]
    }
   ],
   "source": [
    "class Emp:\n",
    "    def __init__(self,name,empid):\n",
    "        self.name=name\n",
    "        self.empid=empid\n",
    "    def get(self):\n",
    "        return self.name, self.empid\n",
    "jay = Emp(\"Jayaram\", 1234)\n",
    "print(jay.get())\n",
    "print(Emp.get(jay))"
   ]
  },
  {
   "cell_type": "code",
   "execution_count": 11,
   "id": "c1088f08",
   "metadata": {},
   "outputs": [
    {
     "name": "stdout",
     "output_type": "stream",
     "text": [
      "<class 'function'>\n"
     ]
    }
   ],
   "source": [
    "def fun():\n",
    "    pass\n",
    "print(type(fun))"
   ]
  },
  {
   "cell_type": "code",
   "execution_count": 12,
   "id": "61dfc8c7",
   "metadata": {},
   "outputs": [
    {
     "name": "stdout",
     "output_type": "stream",
     "text": [
      "<class 'type'>\n"
     ]
    }
   ],
   "source": [
    "class Emp:\n",
    "    pass\n",
    "print(type(Emp))"
   ]
  },
  {
   "cell_type": "code",
   "execution_count": 13,
   "id": "c66ce49e",
   "metadata": {},
   "outputs": [
    {
     "name": "stdout",
     "output_type": "stream",
     "text": [
      "<class 'int'>\n"
     ]
    }
   ],
   "source": [
    "a=1000\n",
    "print(type(a))"
   ]
  },
  {
   "cell_type": "code",
   "execution_count": 14,
   "id": "bef1d837",
   "metadata": {},
   "outputs": [
    {
     "name": "stdout",
     "output_type": "stream",
     "text": [
      "<class 'type'>\n",
      "<class '__main__.Emp'>\n"
     ]
    }
   ],
   "source": [
    "class Emp:\n",
    "    pass\n",
    "a=Emp()\n",
    "print(type(Emp))\n",
    "print(type(a))\n"
   ]
  },
  {
   "cell_type": "code",
   "execution_count": null,
   "id": "8ddf93d1",
   "metadata": {},
   "outputs": [],
   "source": [
    "class Emp:\n",
    "    def __init__(self,name,empid):\n",
    "        self.name=name\n",
    "        self.empid=empid\n",
    "    def get(self):\n",
    "        return self.name, self.empid\n",
    "jay = Emp(\"Jayaram\", 1234)\n",
    "print(type(Emp))\n",
    "print(type(jay))"
   ]
  },
  {
   "cell_type": "code",
   "execution_count": 15,
   "id": "8b3f85dd",
   "metadata": {},
   "outputs": [],
   "source": [
    "def fun():\n",
    "    print(\"hello\")"
   ]
  },
  {
   "cell_type": "code",
   "execution_count": 16,
   "id": "a2307ae8",
   "metadata": {},
   "outputs": [
    {
     "name": "stdout",
     "output_type": "stream",
     "text": [
      "hello\n"
     ]
    }
   ],
   "source": [
    "class Emp:\n",
    "    print(\"hello\")"
   ]
  },
  {
   "cell_type": "code",
   "execution_count": 17,
   "id": "9a47b1a0",
   "metadata": {},
   "outputs": [
    {
     "name": "stdout",
     "output_type": "stream",
     "text": [
      "hello\n"
     ]
    }
   ],
   "source": [
    "class Emp:\n",
    "    print(\"hello\")\n",
    "    def get(x):\n",
    "        print(\"this is get\")"
   ]
  },
  {
   "cell_type": "code",
   "execution_count": 18,
   "id": "cdc80934",
   "metadata": {},
   "outputs": [
    {
     "name": "stdout",
     "output_type": "stream",
     "text": [
      "<class '__main__.Emp'>\n"
     ]
    }
   ],
   "source": [
    "print(Emp)"
   ]
  },
  {
   "cell_type": "code",
   "execution_count": null,
   "id": "2e5fb194",
   "metadata": {},
   "outputs": [],
   "source": [
    "name=\"jayaram\"\n",
    "empid=1234"
   ]
  },
  {
   "cell_type": "code",
   "execution_count": null,
   "id": "00e6e276",
   "metadata": {},
   "outputs": [],
   "source": [
    "class Emp:\n",
    "    def __init__(x,name,empid):\n",
    "        self.name=name\n",
    "        self.empid=empid\n",
    "    def get(self):\n",
    "        return self.name, self.empid\n",
    "jay = Emp(\"Jayaram\", 1234)\n",
    "print(type(Emp))\n",
    "print(type(jay))"
   ]
  },
  {
   "cell_type": "code",
   "execution_count": 1,
   "id": "73dba4fd",
   "metadata": {},
   "outputs": [],
   "source": [
    "class emp:\n",
    "    pass"
   ]
  },
  {
   "cell_type": "code",
   "execution_count": null,
   "id": "5419c80b",
   "metadata": {},
   "outputs": [],
   "source": [
    "class Emp:\n",
    "    company=\"AJA\"\n",
    "    def __init__(self, name):\n",
    "        self.name=name\n",
    "    def get(x):\n",
    "        return x.name\n",
    "jay=Emp(\"jayaram\")\n",
    "print(Emp.get(jay))"
   ]
  },
  {
   "cell_type": "code",
   "execution_count": 1,
   "id": "75def472",
   "metadata": {},
   "outputs": [
    {
     "name": "stdout",
     "output_type": "stream",
     "text": [
      "AJA\n"
     ]
    }
   ],
   "source": [
    "class Emp:\n",
    "    company=\"AJA\"\n",
    "    def __init__(self, name):\n",
    "        self.name=name\n",
    "    def get(x):\n",
    "        return x.name\n",
    "print(Emp.company)"
   ]
  },
  {
   "cell_type": "code",
   "execution_count": 2,
   "id": "3b26cb0d",
   "metadata": {},
   "outputs": [
    {
     "name": "stdout",
     "output_type": "stream",
     "text": [
      "AJA\n",
      "<function Emp.get at 0x0000012A32D1EAC0>\n"
     ]
    }
   ],
   "source": [
    "class Emp:\n",
    "    company=\"AJA\"\n",
    "    def __init__(self, name):\n",
    "        self.name=name\n",
    "    def get(x):\n",
    "        return x.name\n",
    "print(Emp.company)\n",
    "print(Emp.get)"
   ]
  },
  {
   "cell_type": "code",
   "execution_count": 3,
   "id": "da946b16",
   "metadata": {},
   "outputs": [
    {
     "name": "stdout",
     "output_type": "stream",
     "text": [
      "AJA\n",
      "<function Emp.get at 0x0000012A32D1DEE0>\n",
      "<function Emp.__init__ at 0x0000012A32D1E7A0>\n"
     ]
    }
   ],
   "source": [
    "class Emp:\n",
    "    company=\"AJA\"\n",
    "    def __init__(self, name):\n",
    "        self.name=name\n",
    "    def get(x):\n",
    "        return x.name\n",
    "print(Emp.company)\n",
    "print(Emp.get)\n",
    "print(Emp.__init__)"
   ]
  },
  {
   "cell_type": "code",
   "execution_count": 4,
   "id": "3eb734cb",
   "metadata": {},
   "outputs": [
    {
     "name": "stdout",
     "output_type": "stream",
     "text": [
      "AJA\n",
      "<function Emp.get at 0x0000012A32D1EC00>\n",
      "<function Emp.__init__ at 0x0000012A32D1EB60>\n",
      "Vedhanvesh\n"
     ]
    }
   ],
   "source": [
    "class Emp:\n",
    "    company=\"AJA\"\n",
    "    def __init__(self, name):\n",
    "        self.name=name\n",
    "    def get(x):\n",
    "        return x.name\n",
    "print(Emp.company)\n",
    "print(Emp.get)\n",
    "print(Emp.__init__)\n",
    "vedha = Emp(\"Vedhanvesh\")\n",
    "print(Emp.get(vedha))"
   ]
  },
  {
   "cell_type": "code",
   "execution_count": 5,
   "id": "78036256",
   "metadata": {},
   "outputs": [
    {
     "name": "stdout",
     "output_type": "stream",
     "text": [
      "AJA\n",
      "<function Emp.get at 0x0000012A32FA6A20>\n",
      "<function Emp.__init__ at 0x0000012A32FA5620>\n",
      "Vedhanvesh\n",
      "AJA\n"
     ]
    }
   ],
   "source": [
    "class Emp:\n",
    "    company=\"AJA\"\n",
    "    def __init__(self, name):\n",
    "        self.name=name\n",
    "    def get(x):\n",
    "        return x.name\n",
    "print(Emp.company)\n",
    "print(Emp.get)\n",
    "print(Emp.__init__)\n",
    "vedha = Emp(\"Vedhanvesh\")\n",
    "print(Emp.get(vedha))\n",
    "print(vedha.company)"
   ]
  },
  {
   "cell_type": "code",
   "execution_count": 6,
   "id": "a5c5c94c",
   "metadata": {},
   "outputs": [
    {
     "name": "stdout",
     "output_type": "stream",
     "text": [
      "AJA\n",
      "<function Emp.get at 0x0000012A32FA51C0>\n",
      "<function Emp.__init__ at 0x0000012A32D1E520>\n",
      "Vedhanvesh\n",
      "AJA\n"
     ]
    },
    {
     "ename": "AttributeError",
     "evalue": "type object 'Emp' has no attribute 'name'",
     "output_type": "error",
     "traceback": [
      "\u001b[1;31m---------------------------------------------------------------------------\u001b[0m",
      "\u001b[1;31mAttributeError\u001b[0m                            Traceback (most recent call last)",
      "Cell \u001b[1;32mIn[6], line 13\u001b[0m\n\u001b[0;32m     11\u001b[0m \u001b[38;5;28mprint\u001b[39m(Emp\u001b[38;5;241m.\u001b[39mget(vedha))\n\u001b[0;32m     12\u001b[0m \u001b[38;5;28mprint\u001b[39m(vedha\u001b[38;5;241m.\u001b[39mcompany)\n\u001b[1;32m---> 13\u001b[0m \u001b[38;5;28mprint\u001b[39m(Emp\u001b[38;5;241m.\u001b[39mname)\n",
      "\u001b[1;31mAttributeError\u001b[0m: type object 'Emp' has no attribute 'name'"
     ]
    }
   ],
   "source": [
    "class Emp:\n",
    "    company=\"AJA\"\n",
    "    def __init__(self, name):\n",
    "        self.name=name\n",
    "    def get(x):\n",
    "        return x.name\n",
    "print(Emp.company)\n",
    "print(Emp.get)\n",
    "print(Emp.__init__)\n",
    "vedha = Emp(\"Vedhanvesh\")\n",
    "print(Emp.get(vedha))\n",
    "print(vedha.company)\n",
    "print(Emp.name)"
   ]
  },
  {
   "cell_type": "code",
   "execution_count": null,
   "id": "3f731605",
   "metadata": {},
   "outputs": [],
   "source": [
    "class Product:\n",
    "    def __init__(self, cost, name):\n",
    "        self.cost = cost\n",
    "        self.name = name\n",
    "ap = Product(10, \"APPLE\")\n",
    "\"\"\"\n",
    "while executing the line  ap = Product(10, \"APPLE\")\n",
    "what is the parent class to the Product class. object is the parent class\n",
    "it will call __new__ method. the __new__ returns the data object.\n",
    "it will call __init__ method by passing the data object as first argument and the remaining args(10,\"APPLE\") will be passed \n",
    "next.\n",
    "\n",
    "obj = object.__new__(cls)# the cls meand the Product class object\n",
    "cls.__init__(obj, 10, \"APPLE\")\n",
    "\"\"\""
   ]
  },
  {
   "cell_type": "code",
   "execution_count": 7,
   "id": "cdc4ef53",
   "metadata": {},
   "outputs": [
    {
     "data": {
      "text/plain": [
       "('APPLE', 10)"
      ]
     },
     "execution_count": 7,
     "metadata": {},
     "output_type": "execute_result"
    }
   ],
   "source": [
    "class Product:\n",
    "    def __init__(self, cost, name):\n",
    "        self.cost = cost\n",
    "        self.name = name\n",
    "    def get(y):\n",
    "        return y.name, y.cost\n",
    "ap = Product(10, \"APPLE\")\n",
    "Product.get(ap)"
   ]
  },
  {
   "cell_type": "code",
   "execution_count": 8,
   "id": "6a806567",
   "metadata": {},
   "outputs": [
    {
     "name": "stdout",
     "output_type": "stream",
     "text": [
      "('APPLE', 10)\n",
      "('APPLE', 10)\n"
     ]
    }
   ],
   "source": [
    "class Product:\n",
    "    def __init__(self, cost, name):\n",
    "        self.cost = cost\n",
    "        self.name = name\n",
    "    def get(y):\n",
    "        return y.name, y.cost\n",
    "ap = Product(10, \"APPLE\")\n",
    "print(Product.get(ap))\n",
    "print(ap.get())#Product.get(ap)"
   ]
  },
  {
   "cell_type": "code",
   "execution_count": 9,
   "id": "c960f61c",
   "metadata": {},
   "outputs": [
    {
     "name": "stdout",
     "output_type": "stream",
     "text": [
      "('APPLE', 10)\n",
      "('APPLE', 10)\n"
     ]
    }
   ],
   "source": [
    "class Product:\n",
    "    def __init__(self, cost, name):\n",
    "        self.cost = cost\n",
    "        self.name = name\n",
    "    def get(self):\n",
    "        return self.name, self.cost\n",
    "ap = Product(10, \"APPLE\")\n",
    "print(Product.get(ap))\n",
    "print(ap.get())#Product.get(ap)"
   ]
  },
  {
   "cell_type": "code",
   "execution_count": 10,
   "id": "2ac9b7be",
   "metadata": {},
   "outputs": [
    {
     "name": "stdout",
     "output_type": "stream",
     "text": [
      "('APPLE', 10)\n",
      "('APPLE', 10)\n"
     ]
    }
   ],
   "source": [
    "class Product:\n",
    "    def __init__(p, cost, name):\n",
    "        p.cost = cost\n",
    "        p.name = name\n",
    "    def get(self):# self refers to the object what ap is refering\n",
    "        return self.name, self.cost\n",
    "ap = Product(10, \"APPLE\")\n",
    "print(Product.get(ap))\n",
    "print(ap.get())#Product.get(ap)"
   ]
  },
  {
   "cell_type": "code",
   "execution_count": 11,
   "id": "aa8b391c",
   "metadata": {},
   "outputs": [
    {
     "name": "stdout",
     "output_type": "stream",
     "text": [
      "('APPLE', 10)\n",
      "('APPLE', 10)\n"
     ]
    }
   ],
   "source": [
    "class Product:\n",
    "    def __init__(p, cost, name):\n",
    "        p.cost = cost\n",
    "        p.name = name\n",
    "    def get(x):# self refers to the object what ap is refering\n",
    "        return x.name, x.cost\n",
    "ap = Product(10, \"APPLE\")\n",
    "print(Product.get(ap))\n",
    "print(ap.get())#Product.get(ap)"
   ]
  },
  {
   "cell_type": "code",
   "execution_count": 12,
   "id": "54cc59b3",
   "metadata": {},
   "outputs": [
    {
     "name": "stdout",
     "output_type": "stream",
     "text": [
      "('APPLE', 10)\n",
      "('APPLE', 10)\n"
     ]
    }
   ],
   "source": [
    "class Product:\n",
    "    def __init__(p, cost, name):\n",
    "        p.cost = cost\n",
    "        p.name = name\n",
    "    def get(x):\n",
    "        return x.name, x.cost\n",
    "    def get1():\n",
    "        print(\"hello\")\n",
    "ap = Product(10, \"APPLE\")\n",
    "print(Product.get(ap))\n",
    "print(ap.get())#Product.get(ap)"
   ]
  },
  {
   "cell_type": "code",
   "execution_count": 13,
   "id": "56dd3b37",
   "metadata": {},
   "outputs": [
    {
     "name": "stdout",
     "output_type": "stream",
     "text": [
      "('APPLE', 10)\n",
      "('APPLE', 10)\n"
     ]
    },
    {
     "ename": "TypeError",
     "evalue": "Product.get1() takes 0 positional arguments but 1 was given",
     "output_type": "error",
     "traceback": [
      "\u001b[1;31m---------------------------------------------------------------------------\u001b[0m",
      "\u001b[1;31mTypeError\u001b[0m                                 Traceback (most recent call last)",
      "Cell \u001b[1;32mIn[13], line 12\u001b[0m\n\u001b[0;32m     10\u001b[0m \u001b[38;5;28mprint\u001b[39m(Product\u001b[38;5;241m.\u001b[39mget(ap))\n\u001b[0;32m     11\u001b[0m \u001b[38;5;28mprint\u001b[39m(ap\u001b[38;5;241m.\u001b[39mget())\u001b[38;5;66;03m#Product.get(ap)\u001b[39;00m\n\u001b[1;32m---> 12\u001b[0m ap\u001b[38;5;241m.\u001b[39mget1()\n",
      "\u001b[1;31mTypeError\u001b[0m: Product.get1() takes 0 positional arguments but 1 was given"
     ]
    }
   ],
   "source": [
    "class Product:\n",
    "    def __init__(p, cost, name):\n",
    "        p.cost = cost\n",
    "        p.name = name\n",
    "    def get(x):\n",
    "        return x.name, x.cost\n",
    "    def get1():\n",
    "        print(\"hello\")\n",
    "ap = Product(10, \"APPLE\")\n",
    "print(Product.get(ap))\n",
    "print(ap.get())#Product.get(ap)\n",
    "ap.get1()#Product.get1(ap)"
   ]
  },
  {
   "cell_type": "code",
   "execution_count": 15,
   "id": "1bb8bc05",
   "metadata": {},
   "outputs": [
    {
     "name": "stdout",
     "output_type": "stream",
     "text": [
      "('APPLE', 10)\n",
      "('APPLE', 10)\n",
      "hello\n"
     ]
    }
   ],
   "source": [
    "class Product:\n",
    "    def __init__(p, cost, name):\n",
    "        p.cost = cost\n",
    "        p.name = name\n",
    "    def get(x):\n",
    "        return x.name, x.cost\n",
    "    def get1():\n",
    "        print(\"hello\")\n",
    "ap = Product(10, \"APPLE\")\n",
    "print(Product.get(ap))\n",
    "print(ap.get())#Product.get(ap)\n",
    "#ap.get1()#Product.get1(ap)\n",
    "Product.get1()"
   ]
  },
  {
   "cell_type": "code",
   "execution_count": 16,
   "id": "6ace8952",
   "metadata": {},
   "outputs": [],
   "source": [
    "class A:\n",
    "    def __init__(self, name):\n",
    "        self.name=name\n",
    "    def op1(self):\n",
    "        print(\"this is op1 in A\")\n",
    "        \n",
    "class B:\n",
    "    def __init__(self, name):\n",
    "        self.name=name\n",
    "        \n",
    "    def op1(self):\n",
    "        print(\"this is op1 in B\")\n",
    "        \n",
    "    def op2(self):\n",
    "        print(\"this is op2 in B\")\n",
    "    def operations(self):\n",
    "        pass\n",
    "    \n",
    "B.operations(10)"
   ]
  },
  {
   "cell_type": "code",
   "execution_count": 17,
   "id": "d2caa5ae",
   "metadata": {},
   "outputs": [
    {
     "ename": "TypeError",
     "evalue": "B.operations() missing 1 required positional argument: 'x'",
     "output_type": "error",
     "traceback": [
      "\u001b[1;31m---------------------------------------------------------------------------\u001b[0m",
      "\u001b[1;31mTypeError\u001b[0m                                 Traceback (most recent call last)",
      "Cell \u001b[1;32mIn[17], line 20\u001b[0m\n\u001b[0;32m     17\u001b[0m         \u001b[38;5;28mprint\u001b[39m(x)\n\u001b[0;32m     18\u001b[0m         \u001b[38;5;28mprint\u001b[39m(\u001b[38;5;124m\"\u001b[39m\u001b[38;5;124moperations\u001b[39m\u001b[38;5;124m\"\u001b[39m)\n\u001b[1;32m---> 20\u001b[0m B\u001b[38;5;241m.\u001b[39moperations()\n",
      "\u001b[1;31mTypeError\u001b[0m: B.operations() missing 1 required positional argument: 'x'"
     ]
    }
   ],
   "source": [
    "class A:\n",
    "    def __init__(x, name):\n",
    "        x.name=name\n",
    "    def op1(x):\n",
    "        print(\"this is op1 in A\")\n",
    "        \n",
    "class B:\n",
    "    def __init__(x, name):\n",
    "        x.name=name\n",
    "        \n",
    "    def op1(x):\n",
    "        print(\"this is op1 in B\")\n",
    "        \n",
    "    def op2(x):\n",
    "        print(\"this is op2 in B\")\n",
    "    def operations(x):\n",
    "        print(x)\n",
    "        print(\"operations\")\n",
    "    \n",
    "B.operations()"
   ]
  },
  {
   "cell_type": "code",
   "execution_count": 18,
   "id": "790f9dc9",
   "metadata": {},
   "outputs": [
    {
     "name": "stdout",
     "output_type": "stream",
     "text": [
      "10\n",
      "operations\n"
     ]
    }
   ],
   "source": [
    "class A:\n",
    "    def __init__(x, name):\n",
    "        x.name=name\n",
    "    def op1(x):\n",
    "        print(\"this is op1 in A\")\n",
    "        \n",
    "class B:\n",
    "    def __init__(x, name):\n",
    "        x.name=name\n",
    "        \n",
    "    def op1(x):\n",
    "        print(\"this is op1 in B\")\n",
    "        \n",
    "    def op2(x):\n",
    "        print(\"this is op2 in B\")\n",
    "    def operations(x):\n",
    "        print(x)\n",
    "        print(\"operations\")\n",
    "    \n",
    "B.operations(10)"
   ]
  },
  {
   "cell_type": "code",
   "execution_count": 19,
   "id": "0d8e2353",
   "metadata": {},
   "outputs": [
    {
     "name": "stdout",
     "output_type": "stream",
     "text": [
      "10\n",
      "operations\n"
     ]
    }
   ],
   "source": [
    "class A:\n",
    "    def __init__(x, name):\n",
    "        x.name=name\n",
    "    def op1(x):\n",
    "        print(\"this is op1 in A\")\n",
    "        \n",
    "class B:\n",
    "    def __init__(x, name):\n",
    "        x.name=name\n",
    "        \n",
    "    def op1(x):\n",
    "        print(\"this is op1 in B\")\n",
    "        \n",
    "    def op2(x):\n",
    "        print(\"this is op2 in B\")\n",
    "    def operations(self):\n",
    "        print(self)\n",
    "        print(\"operations\")\n",
    "    \n",
    "B.operations(10)"
   ]
  },
  {
   "cell_type": "code",
   "execution_count": 20,
   "id": "d28b0eb1",
   "metadata": {},
   "outputs": [
    {
     "name": "stdout",
     "output_type": "stream",
     "text": [
      "this is op1 in B\n"
     ]
    }
   ],
   "source": [
    "class A:\n",
    "    def __init__(x, name):\n",
    "        x.name=name\n",
    "    def op1(x):\n",
    "        print(\"this is op1 in A\")\n",
    "        \n",
    "class B:\n",
    "    def __init__(x, name):\n",
    "        x.name=name\n",
    "        \n",
    "    def op1(x):\n",
    "        print(\"this is op1 in B\")\n",
    "        \n",
    "    def op2(x):\n",
    "        print(\"this is op2 in B\")\n",
    "    def operations(self):\n",
    "        print(self)\n",
    "        print(\"operations\")\n",
    "    \n",
    "obj_b =  B(\"some B\")\n",
    "obj_b.op1() # B.op1(obj_b)"
   ]
  },
  {
   "cell_type": "code",
   "execution_count": 21,
   "id": "a60e5e63",
   "metadata": {},
   "outputs": [
    {
     "name": "stdout",
     "output_type": "stream",
     "text": [
      "this is op1 in B\n",
      "this is op2 in B\n"
     ]
    }
   ],
   "source": [
    "class A:\n",
    "    def __init__(x, name):\n",
    "        x.name=name\n",
    "    def op1(x):\n",
    "        print(\"this is op1 in A\")\n",
    "        \n",
    "class B:\n",
    "    def __init__(x, name):\n",
    "        x.name=name\n",
    "        \n",
    "    def op1(x):\n",
    "        print(\"this is op1 in B\")\n",
    "        \n",
    "    def op2(x):\n",
    "        print(\"this is op2 in B\")\n",
    "    def operations(x):\n",
    "        print(x)\n",
    "        print(\"operations\")\n",
    "    \n",
    "obj_b =  B(\"some B\")\n",
    "obj_b.op1() # B.op1(obj_b)\n",
    "obj_b.op2() # B.op2(obj_b)\n"
   ]
  },
  {
   "cell_type": "code",
   "execution_count": 22,
   "id": "2d19c30f",
   "metadata": {},
   "outputs": [
    {
     "name": "stdout",
     "output_type": "stream",
     "text": [
      "this is op1 in B\n",
      "this is op2 in B\n",
      "<__main__.B object at 0x0000012A3412FF10>\n",
      "operations\n"
     ]
    }
   ],
   "source": [
    "class A:\n",
    "    def __init__(x, name):\n",
    "        x.name=name\n",
    "    def op1(x):\n",
    "        print(\"this is op1 in A\")\n",
    "        \n",
    "class B:\n",
    "    def __init__(x, name):\n",
    "        x.name=name\n",
    "        \n",
    "    def op1(x):\n",
    "        print(\"this is op1 in B\")\n",
    "        \n",
    "    def op2(x):\n",
    "        print(\"this is op2 in B\")\n",
    "    def operations(x):\n",
    "        print(x)\n",
    "        print(\"operations\")\n",
    "    \n",
    "obj_b =  B(\"some B\")\n",
    "obj_b.op1() # B.op1(obj_b)\n",
    "obj_b.op2() # B.op2(obj_b)\n",
    "obj_b.operations()#B.operations(obj_b)"
   ]
  },
  {
   "cell_type": "code",
   "execution_count": 23,
   "id": "59319d3e",
   "metadata": {},
   "outputs": [
    {
     "name": "stdout",
     "output_type": "stream",
     "text": [
      "this is op1 in B\n",
      "this is op2 in B\n",
      "<__main__.B object at 0x0000012A3413E5D0>\n",
      "operations\n",
      "this is op1 in B\n",
      "this is op2 in B\n"
     ]
    }
   ],
   "source": [
    "class A:\n",
    "    def __init__(x, name):\n",
    "        x.name=name\n",
    "    def op1(x):\n",
    "        print(\"this is op1 in A\")\n",
    "        \n",
    "class B:\n",
    "    def __init__(x, name):\n",
    "        x.name=name\n",
    "        \n",
    "    def op1(x):\n",
    "        print(\"this is op1 in B\")\n",
    "        \n",
    "    def op2(x):\n",
    "        print(\"this is op2 in B\")\n",
    "    def operations(x):\n",
    "        print(x)\n",
    "        print(\"operations\")\n",
    "        x.op1()\n",
    "        x.op2()\n",
    "    \n",
    "obj_b =  B(\"some B\")\n",
    "obj_b.op1() # B.op1(obj_b)\n",
    "obj_b.op2() # B.op2(obj_b)\n",
    "obj_b.operations()#B.operations(obj_b)"
   ]
  },
  {
   "cell_type": "code",
   "execution_count": 24,
   "id": "8481eb44",
   "metadata": {},
   "outputs": [
    {
     "name": "stdout",
     "output_type": "stream",
     "text": [
      "<__main__.B object at 0x0000012A3413E4D0>\n",
      "operations\n",
      "this is op1 in B\n",
      "this is op2 in B\n"
     ]
    }
   ],
   "source": [
    "class A:\n",
    "    def __init__(x, name):\n",
    "        x.name=name\n",
    "    def op1(x):\n",
    "        print(\"this is op1 in A\")\n",
    "        \n",
    "class B:\n",
    "    def __init__(x, name):\n",
    "        x.name=name\n",
    "        \n",
    "    def op1(x):\n",
    "        print(\"this is op1 in B\")\n",
    "        \n",
    "    def op2(x):\n",
    "        print(\"this is op2 in B\")\n",
    "    def operations(x):\n",
    "        print(x)\n",
    "        print(\"operations\")\n",
    "        x.op1()\n",
    "        x.op2()\n",
    "    \n",
    "obj_b =  B(\"some B\")\n",
    "# obj_b.op1() # B.op1(obj_b)\n",
    "# obj_b.op2() # B.op2(obj_b)\n",
    "obj_b.operations()#B.operations(obj_b)"
   ]
  },
  {
   "cell_type": "code",
   "execution_count": 25,
   "id": "c8cd9a46",
   "metadata": {},
   "outputs": [
    {
     "name": "stdout",
     "output_type": "stream",
     "text": [
      "<__main__.B object at 0x0000012A3413F410>\n",
      "operations\n",
      "this is op1 in B\n",
      "this is op2 in B\n",
      "10\n",
      "operations\n"
     ]
    },
    {
     "ename": "AttributeError",
     "evalue": "'int' object has no attribute 'op1'",
     "output_type": "error",
     "traceback": [
      "\u001b[1;31m---------------------------------------------------------------------------\u001b[0m",
      "\u001b[1;31mAttributeError\u001b[0m                            Traceback (most recent call last)",
      "Cell \u001b[1;32mIn[25], line 26\u001b[0m\n\u001b[0;32m     23\u001b[0m \u001b[38;5;66;03m# obj_b.op1() # B.op1(obj_b)\u001b[39;00m\n\u001b[0;32m     24\u001b[0m \u001b[38;5;66;03m# obj_b.op2() # B.op2(obj_b)\u001b[39;00m\n\u001b[0;32m     25\u001b[0m obj_b\u001b[38;5;241m.\u001b[39moperations()\u001b[38;5;66;03m#B.operations(obj_b)\u001b[39;00m\n\u001b[1;32m---> 26\u001b[0m B\u001b[38;5;241m.\u001b[39moperations(\u001b[38;5;241m10\u001b[39m)\n",
      "Cell \u001b[1;32mIn[25], line 19\u001b[0m, in \u001b[0;36mB.operations\u001b[1;34m(x)\u001b[0m\n\u001b[0;32m     17\u001b[0m \u001b[38;5;28mprint\u001b[39m(x)\n\u001b[0;32m     18\u001b[0m \u001b[38;5;28mprint\u001b[39m(\u001b[38;5;124m\"\u001b[39m\u001b[38;5;124moperations\u001b[39m\u001b[38;5;124m\"\u001b[39m)\n\u001b[1;32m---> 19\u001b[0m x\u001b[38;5;241m.\u001b[39mop1()\n\u001b[0;32m     20\u001b[0m x\u001b[38;5;241m.\u001b[39mop2()\n",
      "\u001b[1;31mAttributeError\u001b[0m: 'int' object has no attribute 'op1'"
     ]
    }
   ],
   "source": [
    "class A:\n",
    "    def __init__(x, name):\n",
    "        x.name=name\n",
    "    def op1(x):\n",
    "        print(\"this is op1 in A\")\n",
    "        \n",
    "class B:\n",
    "    def __init__(x, name):\n",
    "        x.name=name\n",
    "        \n",
    "    def op1(x):\n",
    "        print(\"this is op1 in B\")\n",
    "        \n",
    "    def op2(x):\n",
    "        print(\"this is op2 in B\")\n",
    "    def operations(x):\n",
    "        print(x)\n",
    "        print(\"operations\")\n",
    "        x.op1()\n",
    "        x.op2()\n",
    "    \n",
    "obj_b =  B(\"some B\")\n",
    "# obj_b.op1() # B.op1(obj_b)\n",
    "# obj_b.op2() # B.op2(obj_b)\n",
    "obj_b.operations()#B.operations(obj_b)\n",
    "B.operations(10)"
   ]
  },
  {
   "cell_type": "code",
   "execution_count": 26,
   "id": "c8b905bd",
   "metadata": {},
   "outputs": [
    {
     "name": "stdout",
     "output_type": "stream",
     "text": [
      "<__main__.B object at 0x0000012A34103810>\n",
      "operations\n",
      "this is op1 in B\n",
      "this is op2 in B\n",
      "<__main__.B object at 0x0000012A34103810>\n",
      "operations\n",
      "this is op1 in B\n",
      "this is op2 in B\n"
     ]
    }
   ],
   "source": [
    "class A:\n",
    "    def __init__(x, name):\n",
    "        x.name=name\n",
    "    def op1(x):\n",
    "        print(\"this is op1 in A\")\n",
    "        \n",
    "class B:\n",
    "    def __init__(x, name):\n",
    "        x.name=name\n",
    "        \n",
    "    def op1(x):\n",
    "        print(\"this is op1 in B\")\n",
    "        \n",
    "    def op2(x):\n",
    "        print(\"this is op2 in B\")\n",
    "    def operations(x):\n",
    "        print(x)\n",
    "        print(\"operations\")\n",
    "        x.op1()\n",
    "        x.op2()\n",
    "    \n",
    "obj_b =  B(\"some B\")\n",
    "# obj_b.op1() # B.op1(obj_b)\n",
    "# obj_b.op2() # B.op2(obj_b)\n",
    "obj_b.operations()#B.operations(obj_b)\n",
    "B.operations(obj_b)"
   ]
  },
  {
   "cell_type": "code",
   "execution_count": 27,
   "id": "efd25667",
   "metadata": {},
   "outputs": [
    {
     "name": "stdout",
     "output_type": "stream",
     "text": [
      "<__main__.B object at 0x0000012A3411D790>\n",
      "operations\n",
      "this is op1 in B\n",
      "this is op2 in B\n",
      "<__main__.B object at 0x0000012A3411D790>\n",
      "operations\n",
      "this is op1 in B\n",
      "this is op2 in B\n",
      "this is op1 in A\n",
      "this is op3 in A\n"
     ]
    }
   ],
   "source": [
    "class A:\n",
    "    def __init__(x, name):\n",
    "        x.name=name\n",
    "    def op1(y):\n",
    "        print(\"this is op1 in A\")\n",
    "        \n",
    "    def op3(z):\n",
    "        print(\"this is op3 in A\")\n",
    "        \n",
    "class B:\n",
    "    def __init__(x, name):\n",
    "        x.name=name\n",
    "        \n",
    "    def op1(x):\n",
    "        print(\"this is op1 in B\")\n",
    "        \n",
    "    def op2(x):\n",
    "        print(\"this is op2 in B\")\n",
    "    def operations(x):\n",
    "        print(x)\n",
    "        print(\"operations\")\n",
    "        x.op1()\n",
    "        x.op2()\n",
    "    \n",
    "obj_b =  B(\"some B\")\n",
    "obj_b.operations()\n",
    "B.operations(obj_b)\n",
    "A.op1(10)\n",
    "A.op3(12)"
   ]
  },
  {
   "cell_type": "code",
   "execution_count": 28,
   "id": "a58eed9b",
   "metadata": {},
   "outputs": [
    {
     "name": "stdout",
     "output_type": "stream",
     "text": [
      "<__main__.B object at 0x0000012A3417B810>\n",
      "operations\n",
      "this is op1 in B\n",
      "this is op2 in B\n",
      "this is op1 in A\n",
      "this is op3 in A\n"
     ]
    }
   ],
   "source": [
    "class A:\n",
    "    def __init__(x, name):\n",
    "        x.name=name\n",
    "    def op1(y):\n",
    "        print(\"this is op1 in A\")\n",
    "        \n",
    "    def op3(z):\n",
    "        print(\"this is op3 in A\")\n",
    "        \n",
    "class B:\n",
    "    def __init__(x, name):\n",
    "        x.name=name\n",
    "        \n",
    "    def op1(x):\n",
    "        print(\"this is op1 in B\")\n",
    "        \n",
    "    def op2(x):\n",
    "        print(\"this is op2 in B\")\n",
    "    def operations(x):\n",
    "        print(x)\n",
    "        print(\"operations\")\n",
    "        x.op1()\n",
    "        x.op2()\n",
    "        A.op1(10)\n",
    "        A.op3(20)\n",
    "    \n",
    "obj_b =  B(\"some B\")\n",
    "obj_b.operations()#B.operations(obj_b)"
   ]
  },
  {
   "cell_type": "code",
   "execution_count": null,
   "id": "4b9b6fa2",
   "metadata": {},
   "outputs": [],
   "source": [
    "class A:\n",
    "    def __init__(x, name):\n",
    "        x.name=name\n",
    "    def op1(y):\n",
    "        print(\"this is op1 in A\")\n",
    "        \n",
    "    def op3(z):\n",
    "        print(\"this is op3 in A\")\n",
    "        \n",
    "class B:\n",
    "    def __init__(x, name):\n",
    "        x.name=name\n",
    "        \n",
    "    def op1(x):\n",
    "        print(\"this is op1 in B\")\n",
    "        \n",
    "    def op2(x):\n",
    "        print(\"this is op2 in B\")\n",
    "    def operations(x):\n",
    "        print(x)\n",
    "        print(\"operations\")\n",
    "        x.op1()\n",
    "        x.op2()\n",
    "        A.op1(10)\n",
    "        A.op3(20)\n",
    "    \n",
    "obj_b =  B(\"some B\")\n",
    "obj_b.operations()#B.operations(obj_b)"
   ]
  },
  {
   "cell_type": "code",
   "execution_count": 29,
   "id": "a036e0d2",
   "metadata": {},
   "outputs": [
    {
     "name": "stdout",
     "output_type": "stream",
     "text": [
      "('vedha guduru', 2354678, 'Ic3')\n"
     ]
    }
   ],
   "source": [
    "class Emp:        \n",
    "    def get_emp(y):\n",
    "        return y.name, y.sal, y.dept\n",
    "    def get_sal(p):\n",
    "        pass\n",
    "    \n",
    "v=Emp()\n",
    "v.name=\"vedha guduru\"\n",
    "v.sal=2354678\n",
    "v.dept=\"Ic3\"\n",
    "print(Emp.get_emp(v))"
   ]
  },
  {
   "cell_type": "code",
   "execution_count": 31,
   "id": "277c8de4",
   "metadata": {},
   "outputs": [
    {
     "name": "stdout",
     "output_type": "stream",
     "text": [
      "('vedha guduru', 2354678, 'Ic3')\n"
     ]
    },
    {
     "ename": "AttributeError",
     "evalue": "'Emp' object has no attribute 'sal'",
     "output_type": "error",
     "traceback": [
      "\u001b[1;31m---------------------------------------------------------------------------\u001b[0m",
      "\u001b[1;31mAttributeError\u001b[0m                            Traceback (most recent call last)",
      "Cell \u001b[1;32mIn[31], line 14\u001b[0m\n\u001b[0;32m     12\u001b[0m j\u001b[38;5;241m=\u001b[39mEmp()\n\u001b[0;32m     13\u001b[0m j\u001b[38;5;241m.\u001b[39mname\u001b[38;5;241m=\u001b[39m\u001b[38;5;124m\"\u001b[39m\u001b[38;5;124mJayaram\u001b[39m\u001b[38;5;124m\"\u001b[39m\n\u001b[1;32m---> 14\u001b[0m \u001b[38;5;28mprint\u001b[39m(Emp\u001b[38;5;241m.\u001b[39mget_emp(j))\n",
      "Cell \u001b[1;32mIn[31], line 3\u001b[0m, in \u001b[0;36mEmp.get_emp\u001b[1;34m(y)\u001b[0m\n\u001b[0;32m      2\u001b[0m \u001b[38;5;28;01mdef\u001b[39;00m \u001b[38;5;21mget_emp\u001b[39m(y):\n\u001b[1;32m----> 3\u001b[0m     \u001b[38;5;28;01mreturn\u001b[39;00m y\u001b[38;5;241m.\u001b[39mname, y\u001b[38;5;241m.\u001b[39msal, y\u001b[38;5;241m.\u001b[39mdept\n",
      "\u001b[1;31mAttributeError\u001b[0m: 'Emp' object has no attribute 'sal'"
     ]
    }
   ],
   "source": [
    "class Emp:        \n",
    "    def get_emp(y):\n",
    "        return y.name, y.sal, y.dept\n",
    "    def get_sal(p):\n",
    "        pass\n",
    "    \n",
    "v=Emp()\n",
    "v.name=\"vedha guduru\"\n",
    "v.sal=2354678\n",
    "v.dept=\"Ic3\"\n",
    "print(Emp.get_emp(v))\n",
    "j=Emp()\n",
    "j.name=\"Jayaram\"\n",
    "print(Emp.get_emp(j))"
   ]
  },
  {
   "cell_type": "code",
   "execution_count": 33,
   "id": "0bac085e",
   "metadata": {},
   "outputs": [
    {
     "name": "stdout",
     "output_type": "stream",
     "text": [
      "('vedha guduru', 2354678, 'Ic3')\n"
     ]
    },
    {
     "ename": "AttributeError",
     "evalue": "'Emp' object has no attribute 'sal'",
     "output_type": "error",
     "traceback": [
      "\u001b[1;31m---------------------------------------------------------------------------\u001b[0m",
      "\u001b[1;31mAttributeError\u001b[0m                            Traceback (most recent call last)",
      "Cell \u001b[1;32mIn[33], line 14\u001b[0m\n\u001b[0;32m     12\u001b[0m j\u001b[38;5;241m=\u001b[39mEmp()\n\u001b[0;32m     13\u001b[0m j\u001b[38;5;241m.\u001b[39mname\u001b[38;5;241m=\u001b[39m\u001b[38;5;124m\"\u001b[39m\u001b[38;5;124mJayaram\u001b[39m\u001b[38;5;124m\"\u001b[39m\n\u001b[1;32m---> 14\u001b[0m \u001b[38;5;28mprint\u001b[39m(j\u001b[38;5;241m.\u001b[39mget_emp())\n",
      "Cell \u001b[1;32mIn[33], line 3\u001b[0m, in \u001b[0;36mEmp.get_emp\u001b[1;34m(y)\u001b[0m\n\u001b[0;32m      2\u001b[0m \u001b[38;5;28;01mdef\u001b[39;00m \u001b[38;5;21mget_emp\u001b[39m(y):\n\u001b[1;32m----> 3\u001b[0m     \u001b[38;5;28;01mreturn\u001b[39;00m y\u001b[38;5;241m.\u001b[39mname, y\u001b[38;5;241m.\u001b[39msal, y\u001b[38;5;241m.\u001b[39mdept\n",
      "\u001b[1;31mAttributeError\u001b[0m: 'Emp' object has no attribute 'sal'"
     ]
    }
   ],
   "source": [
    "class Emp:        \n",
    "    def get_emp(y):\n",
    "        return y.name, y.sal, y.dept\n",
    "    def get_sal(p):\n",
    "        pass\n",
    "    \n",
    "v=Emp()\n",
    "v.name=\"vedha guduru\"\n",
    "v.sal=2354678\n",
    "v.dept=\"Ic3\"\n",
    "print(v.get_emp())\n",
    "j=Emp()\n",
    "j.name=\"Jayaram\"\n",
    "print(j.get_emp())"
   ]
  },
  {
   "cell_type": "code",
   "execution_count": 34,
   "id": "f3a71552",
   "metadata": {},
   "outputs": [
    {
     "name": "stdout",
     "output_type": "stream",
     "text": [
      "('vedha guduru', 2354678, 'Ic3')\n"
     ]
    },
    {
     "ename": "AttributeError",
     "evalue": "'Emp' object has no attribute 'name'",
     "output_type": "error",
     "traceback": [
      "\u001b[1;31m---------------------------------------------------------------------------\u001b[0m",
      "\u001b[1;31mAttributeError\u001b[0m                            Traceback (most recent call last)",
      "Cell \u001b[1;32mIn[34], line 20\u001b[0m\n\u001b[0;32m     18\u001b[0m \u001b[38;5;66;03m# j.name=\"Jayaram\"\u001b[39;00m\n\u001b[0;32m     19\u001b[0m Emp\u001b[38;5;241m.\u001b[39mset_emp(j, \u001b[38;5;124m\"\u001b[39m\u001b[38;5;124mJayaram\u001b[39m\u001b[38;5;124m\"\u001b[39m, \u001b[38;5;241m2354678\u001b[39m, \u001b[38;5;124m\"\u001b[39m\u001b[38;5;124mIc3\u001b[39m\u001b[38;5;124m\"\u001b[39m)\n\u001b[1;32m---> 20\u001b[0m \u001b[38;5;28mprint\u001b[39m(j\u001b[38;5;241m.\u001b[39mget_emp())\n",
      "Cell \u001b[1;32mIn[34], line 7\u001b[0m, in \u001b[0;36mEmp.get_emp\u001b[1;34m(y)\u001b[0m\n\u001b[0;32m      6\u001b[0m \u001b[38;5;28;01mdef\u001b[39;00m \u001b[38;5;21mget_emp\u001b[39m(y):\n\u001b[1;32m----> 7\u001b[0m     \u001b[38;5;28;01mreturn\u001b[39;00m y\u001b[38;5;241m.\u001b[39mname, y\u001b[38;5;241m.\u001b[39msal, y\u001b[38;5;241m.\u001b[39mdept\n",
      "\u001b[1;31mAttributeError\u001b[0m: 'Emp' object has no attribute 'name'"
     ]
    }
   ],
   "source": [
    "class Emp: \n",
    "    def set_emp(p, name, sal, dept):\n",
    "        v.name=\"vedha guduru\"\n",
    "        v.sal=2354678\n",
    "        v.dept=\"Ic3\"\n",
    "    def get_emp(y):\n",
    "        return y.name, y.sal, y.dept\n",
    "    def get_sal(p):\n",
    "        pass\n",
    "    \n",
    "v=Emp()\n",
    "Emp.set_emp(v, \"vedha guduru\", 2354678, \"Ic3\")\n",
    "# v.name=\"vedha guduru\"\n",
    "# v.sal=2354678\n",
    "# v.dept=\"Ic3\"\n",
    "print(v.get_emp())\n",
    "j=Emp()\n",
    "# j.name=\"Jayaram\"\n",
    "Emp.set_emp(j, \"Jayaram\", 2354678, \"Ic3\")\n",
    "print(j.get_emp())"
   ]
  },
  {
   "cell_type": "code",
   "execution_count": 35,
   "id": "ba115b11",
   "metadata": {},
   "outputs": [
    {
     "name": "stdout",
     "output_type": "stream",
     "text": [
      "('vedha guduru', 2354678, 'Ic3')\n",
      "('vedha guduru', 2354678, 'Ic3')\n"
     ]
    }
   ],
   "source": [
    "class Emp: \n",
    "    def set_emp(p, name, sal, dept):\n",
    "        p.name=\"vedha guduru\"\n",
    "        p.sal=2354678\n",
    "        p.dept=\"Ic3\"\n",
    "    def get_emp(y):\n",
    "        return y.name, y.sal, y.dept\n",
    "    def get_sal(p):\n",
    "        pass\n",
    "    \n",
    "v=Emp()\n",
    "Emp.set_emp(v, \"vedha guduru\", 2354678, \"Ic3\")\n",
    "# v.name=\"vedha guduru\"\n",
    "# v.sal=2354678\n",
    "# v.dept=\"Ic3\"\n",
    "print(v.get_emp())\n",
    "j=Emp()\n",
    "# j.name=\"Jayaram\"\n",
    "Emp.set_emp(j, \"Jayaram\", 2354678, \"Ic3\")\n",
    "print(j.get_emp())"
   ]
  },
  {
   "cell_type": "code",
   "execution_count": 36,
   "id": "acbbaaff",
   "metadata": {},
   "outputs": [
    {
     "name": "stdout",
     "output_type": "stream",
     "text": [
      "('vedha guduru', 2354678, 'Ic3')\n",
      "('vedha guduru', 2354678, 'Ic3')\n"
     ]
    }
   ],
   "source": [
    "class Emp: \n",
    "    def set_emp(p, name, sal, dept):\n",
    "        p.name=\"vedha guduru\"\n",
    "        p.sal=2354678\n",
    "        p.dept=\"Ic3\"\n",
    "    def get_emp(y):\n",
    "        return y.name, y.sal, y.dept\n",
    "    def get_sal(p):\n",
    "        pass\n",
    "    \n",
    "v=Emp()\n",
    "v.set_emp(\"vedha guduru\", 2354678, \"Ic3\")#Emp.set_emp(v, \"vedha guduru\", 2354678, \"Ic3\")\n",
    "# v.name=\"vedha guduru\"\n",
    "# v.sal=2354678\n",
    "# v.dept=\"Ic3\"\n",
    "print(v.get_emp())\n",
    "j=Emp()\n",
    "# j.name=\"Jayaram\"\n",
    "j.set_emp(\"Jayaram\", 2354678, \"Ic3\")#Emp.set_emp(j, \"Jayaram\", 2354678, \"Ic3\")\n",
    "print(j.get_emp())"
   ]
  },
  {
   "cell_type": "code",
   "execution_count": 37,
   "id": "aef3dc9a",
   "metadata": {},
   "outputs": [
    {
     "name": "stdout",
     "output_type": "stream",
     "text": [
      "('vedha guduru', 2354678, 'Ic3')\n"
     ]
    },
    {
     "ename": "AttributeError",
     "evalue": "'Emp' object has no attribute 'name'",
     "output_type": "error",
     "traceback": [
      "\u001b[1;31m---------------------------------------------------------------------------\u001b[0m",
      "\u001b[1;31mAttributeError\u001b[0m                            Traceback (most recent call last)",
      "Cell \u001b[1;32mIn[37], line 20\u001b[0m\n\u001b[0;32m     17\u001b[0m j\u001b[38;5;241m=\u001b[39mEmp()\n\u001b[0;32m     18\u001b[0m \u001b[38;5;66;03m# j.name=\"Jayaram\"\u001b[39;00m\n\u001b[0;32m     19\u001b[0m \u001b[38;5;66;03m#j.set_emp(\"Jayaram\", 2354678, \"Ic3\")#Emp.set_emp(j, \"Jayaram\", 2354678, \"Ic3\")\u001b[39;00m\n\u001b[1;32m---> 20\u001b[0m \u001b[38;5;28mprint\u001b[39m(j\u001b[38;5;241m.\u001b[39mget_emp())\n",
      "Cell \u001b[1;32mIn[37], line 7\u001b[0m, in \u001b[0;36mEmp.get_emp\u001b[1;34m(y)\u001b[0m\n\u001b[0;32m      6\u001b[0m \u001b[38;5;28;01mdef\u001b[39;00m \u001b[38;5;21mget_emp\u001b[39m(y):\n\u001b[1;32m----> 7\u001b[0m     \u001b[38;5;28;01mreturn\u001b[39;00m y\u001b[38;5;241m.\u001b[39mname, y\u001b[38;5;241m.\u001b[39msal, y\u001b[38;5;241m.\u001b[39mdept\n",
      "\u001b[1;31mAttributeError\u001b[0m: 'Emp' object has no attribute 'name'"
     ]
    }
   ],
   "source": [
    "class Emp: \n",
    "    def set_emp(p, name, sal, dept):\n",
    "        p.name=\"vedha guduru\"\n",
    "        p.sal=2354678\n",
    "        p.dept=\"Ic3\"\n",
    "    def get_emp(y):\n",
    "        return y.name, y.sal, y.dept\n",
    "    def get_sal(p):\n",
    "        pass\n",
    "    \n",
    "v=Emp()\n",
    "v.set_emp(\"vedha guduru\", 2354678, \"Ic3\")#Emp.set_emp(v, \"vedha guduru\", 2354678, \"Ic3\")\n",
    "# v.name=\"vedha guduru\"\n",
    "# v.sal=2354678\n",
    "# v.dept=\"Ic3\"\n",
    "print(v.get_emp())\n",
    "j=Emp()\n",
    "# j.name=\"Jayaram\"\n",
    "#j.set_emp(\"Jayaram\", 2354678, \"Ic3\")#Emp.set_emp(j, \"Jayaram\", 2354678, \"Ic3\")\n",
    "print(j.get_emp())"
   ]
  },
  {
   "cell_type": "code",
   "execution_count": 38,
   "id": "2ed4f8d5",
   "metadata": {},
   "outputs": [
    {
     "ename": "TypeError",
     "evalue": "Emp.__init__() missing 3 required positional arguments: 'name', 'sal', and 'dept'",
     "output_type": "error",
     "traceback": [
      "\u001b[1;31m---------------------------------------------------------------------------\u001b[0m",
      "\u001b[1;31mTypeError\u001b[0m                                 Traceback (most recent call last)",
      "Cell \u001b[1;32mIn[38], line 11\u001b[0m\n\u001b[0;32m      8\u001b[0m     \u001b[38;5;28;01mdef\u001b[39;00m \u001b[38;5;21mget_sal\u001b[39m(p):\n\u001b[0;32m      9\u001b[0m         \u001b[38;5;28;01mpass\u001b[39;00m\n\u001b[1;32m---> 11\u001b[0m v\u001b[38;5;241m=\u001b[39mEmp()\n",
      "\u001b[1;31mTypeError\u001b[0m: Emp.__init__() missing 3 required positional arguments: 'name', 'sal', and 'dept'"
     ]
    }
   ],
   "source": [
    "class Emp: \n",
    "    def __init__(p, name, sal, dept):\n",
    "        p.name=\"vedha guduru\"\n",
    "        p.sal=2354678\n",
    "        p.dept=\"Ic3\"\n",
    "    def get_emp(y):\n",
    "        return y.name, y.sal, y.dept\n",
    "    def get_sal(p):\n",
    "        pass\n",
    "    \n",
    "v=Emp()"
   ]
  },
  {
   "cell_type": "code",
   "execution_count": 39,
   "id": "051b0975",
   "metadata": {},
   "outputs": [
    {
     "name": "stdout",
     "output_type": "stream",
     "text": [
      "('vedha guduru', 2354678, 'Ic3')\n"
     ]
    }
   ],
   "source": [
    "class Emp: \n",
    "    def __init__(p, name, sal, dept):\n",
    "        p.name=\"vedha guduru\"\n",
    "        p.sal=2354678\n",
    "        p.dept=\"Ic3\"\n",
    "    def get_emp(y):\n",
    "        return y.name, y.sal, y.dept\n",
    "    def get_sal(p):\n",
    "        pass\n",
    "    \n",
    "v=Emp(\"vedha guduru\", 2354678, \"Ic3\")\n",
    "print(v.get_emp())"
   ]
  },
  {
   "cell_type": "code",
   "execution_count": 41,
   "id": "e3ec1ce4",
   "metadata": {},
   "outputs": [
    {
     "name": "stdout",
     "output_type": "stream",
     "text": [
      "('vedha guduru', 2354678, 'Ic3')\n",
      "('Jayaram', 2354678, 'Ic3')\n"
     ]
    }
   ],
   "source": [
    "class Emp: \n",
    "    def __init__(p, name, sal, dept):\n",
    "        p.name=name\n",
    "        p.sal=sal\n",
    "        p.dept=dept\n",
    "    def get_emp(y):\n",
    "        return y.name, y.sal, y.dept\n",
    "    def get_sal(p):\n",
    "        pass\n",
    "    \n",
    "v=Emp(\"vedha guduru\", 2354678, \"Ic3\")\n",
    "print(v.get_emp())\n",
    "j=Emp(\"Jayaram\", 2354678, \"Ic3\")\n",
    "print(j.get_emp())"
   ]
  },
  {
   "cell_type": "code",
   "execution_count": 42,
   "id": "6032a926",
   "metadata": {},
   "outputs": [
    {
     "name": "stdout",
     "output_type": "stream",
     "text": [
      "('vedha guduru', 2354678, 'Ic3')\n",
      "('Jayaram', 2354678, 'Ic3')\n",
      "70640340\n"
     ]
    }
   ],
   "source": [
    "class Emp: \n",
    "    def __init__(p, name, sal, dept):\n",
    "        p.name=name\n",
    "        p.sal=sal\n",
    "        p.dept=dept\n",
    "    def get_emp(y):\n",
    "        return y.name, y.sal, y.dept\n",
    "    def get_sal(p):\n",
    "        print(p.sal*30)\n",
    "    \n",
    "v=Emp(\"vedha guduru\", 2354678, \"Ic3\")\n",
    "print(v.get_emp())\n",
    "j=Emp(\"Jayaram\", 2354678, \"Ic3\")\n",
    "print(j.get_emp())\n",
    "j.get_sal()"
   ]
  },
  {
   "cell_type": "code",
   "execution_count": 1,
   "id": "a1b06413",
   "metadata": {},
   "outputs": [
    {
     "ename": "ModuleNotFoundError",
     "evalue": "No module named 'pymysql'",
     "output_type": "error",
     "traceback": [
      "\u001b[1;31m---------------------------------------------------------------------------\u001b[0m",
      "\u001b[1;31mModuleNotFoundError\u001b[0m                       Traceback (most recent call last)",
      "Cell \u001b[1;32mIn[1], line 1\u001b[0m\n\u001b[1;32m----> 1\u001b[0m \u001b[38;5;28;01mimport\u001b[39;00m \u001b[38;5;21;01mpymysql\u001b[39;00m\n\u001b[0;32m      2\u001b[0m \u001b[38;5;28;01mclass\u001b[39;00m \u001b[38;5;21;01mDB\u001b[39;00m:\n\u001b[0;32m      3\u001b[0m     connect \u001b[38;5;241m=\u001b[39m pymysql\u001b[38;5;241m.\u001b[39mconnect(user\u001b[38;5;241m=\u001b[39m\u001b[38;5;124m\"\u001b[39m\u001b[38;5;124mroot\u001b[39m\u001b[38;5;124m\"\u001b[39m, password\u001b[38;5;241m=\u001b[39m\u001b[38;5;124m\"\u001b[39m\u001b[38;5;124mroot\u001b[39m\u001b[38;5;124m\"\u001b[39m, database\u001b[38;5;241m=\u001b[39m\u001b[38;5;124m\"\u001b[39m\u001b[38;5;124maja\u001b[39m\u001b[38;5;124m\"\u001b[39m)\n",
      "\u001b[1;31mModuleNotFoundError\u001b[0m: No module named 'pymysql'"
     ]
    }
   ],
   "source": [
    "import pymysql\n",
    "class DB:\n",
    "    connect = pymysql.connect(user=\"root\", password=\"root\", database=\"aja\")\n",
    "    cur = connect.cursor()\n",
    "    \n",
    "    def __init__(self,table):\n",
    "        self.table=table\n",
    "        \n",
    "    def create_table(self):\n",
    "        try:\n",
    "            query = f\"create table {self.table}(id int, name varchar(50))\"\n",
    "            DB.cur.execute(query)\n",
    "            print(\"Table Created successfully\")\n",
    "        except  Exception as err:\n",
    "            print(\"DB error is\",err)\n",
    "        finally:\n",
    "            self.connect.close()\n",
    "            \n",
    "            \n",
    "    def insert_data(self, x,y):  \n",
    "        query = f\"insert into {self.table} values({x}, '{y}')\"\n",
    "        try:\n",
    "            DB.cur.execute(query)\n",
    "            DB.connect.commit()\n",
    "            print(\"inserted successsfully\")\n",
    "            \n",
    "        except Exception as err:\n",
    "            print(\"DB error is\",err)\n",
    "        \n",
    "        finally:\n",
    "            self.connect.close()\n",
    "        \n",
    "    def update_data(self, num, value):\n",
    "        query = f\"update {self.table} set name='{value}' where id='{num}'\"\n",
    "        self.cur.execute(query)\n",
    "        self.connect.commit()\n",
    "        print(\"updated successsfully\")\n",
    "        self.connect.close()\n",
    "        \n",
    "    def delete_data(self, num):\n",
    "        query = f\"delete from {self.table} where id='{num}'\"\n",
    "        self.cur.execute(query)\n",
    "        self.connect.commit()\n",
    "        print(\"deleted successsfully\")\n",
    "        self.connect.close()\n",
    "        \n",
    "        \n",
    "        \n",
    "    \n",
    "ob = DB(\"fruits\")\n",
    "ob.create_table()"
   ]
  },
  {
   "cell_type": "code",
   "execution_count": 1,
   "id": "e11d3151",
   "metadata": {},
   "outputs": [
    {
     "name": "stdout",
     "output_type": "stream",
     "text": [
      "C:\\Users\\h\\anaconda3\\Lib\\os.py\n"
     ]
    }
   ],
   "source": [
    "import os\n",
    "print(os.__file__)"
   ]
  },
  {
   "cell_type": "code",
   "execution_count": 2,
   "id": "4d725b8b",
   "metadata": {},
   "outputs": [],
   "source": [
    "import sys"
   ]
  },
  {
   "cell_type": "code",
   "execution_count": 3,
   "id": "4f1006dc",
   "metadata": {},
   "outputs": [
    {
     "name": "stdout",
     "output_type": "stream",
     "text": [
      "['C:\\\\Users\\\\h\\\\AJA\\\\aja-python-tasks', 'C:\\\\Users\\\\h\\\\anaconda3\\\\python311.zip', 'C:\\\\Users\\\\h\\\\anaconda3\\\\DLLs', 'C:\\\\Users\\\\h\\\\anaconda3\\\\Lib', 'C:\\\\Users\\\\h\\\\anaconda3', '', 'C:\\\\Users\\\\h\\\\anaconda3\\\\Lib\\\\site-packages', 'C:\\\\Users\\\\h\\\\anaconda3\\\\Lib\\\\site-packages\\\\win32', 'C:\\\\Users\\\\h\\\\anaconda3\\\\Lib\\\\site-packages\\\\win32\\\\lib', 'C:\\\\Users\\\\h\\\\anaconda3\\\\Lib\\\\site-packages\\\\Pythonwin']\n"
     ]
    }
   ],
   "source": [
    "print(sys.path)"
   ]
  },
  {
   "cell_type": "code",
   "execution_count": 4,
   "id": "9ca01d07",
   "metadata": {},
   "outputs": [],
   "source": [
    "import pymysql"
   ]
  },
  {
   "cell_type": "code",
   "execution_count": 5,
   "id": "75a849ec",
   "metadata": {},
   "outputs": [
    {
     "name": "stdout",
     "output_type": "stream",
     "text": [
      "Table Created successfully\n"
     ]
    }
   ],
   "source": [
    "import pymysql\n",
    "class DB:\n",
    "    connect = pymysql.connect(user=\"root\", password=\"root\", database=\"aja\")\n",
    "    cur = connect.cursor()\n",
    "    \n",
    "    def __init__(self,table):\n",
    "        self.table=table\n",
    "        \n",
    "    def create_table(self):\n",
    "        try:\n",
    "            query = f\"create table {self.table}(id int, name varchar(50))\"\n",
    "            DB.cur.execute(query)\n",
    "            print(\"Table Created successfully\")\n",
    "        except  Exception as err:\n",
    "            print(\"DB error is\",err)\n",
    "        finally:\n",
    "            self.connect.close()\n",
    "            \n",
    "            \n",
    "    def insert_data(self, x,y):  \n",
    "        query = f\"insert into {self.table} values({x}, '{y}')\"\n",
    "        try:\n",
    "            DB.cur.execute(query)\n",
    "            DB.connect.commit()\n",
    "            print(\"inserted successsfully\")\n",
    "            \n",
    "        except Exception as err:\n",
    "            print(\"DB error is\",err)\n",
    "        \n",
    "        finally:\n",
    "            self.connect.close()\n",
    "        \n",
    "    def update_data(self, num, value):\n",
    "        query = f\"update {self.table} set name='{value}' where id='{num}'\"\n",
    "        self.cur.execute(query)\n",
    "        self.connect.commit()\n",
    "        print(\"updated successsfully\")\n",
    "        self.connect.close()\n",
    "        \n",
    "    def delete_data(self, num):\n",
    "        query = f\"delete from {self.table} where id='{num}'\"\n",
    "        self.cur.execute(query)\n",
    "        self.connect.commit()\n",
    "        print(\"deleted successsfully\")\n",
    "        self.connect.close()  \n",
    "ob = DB(\"fruits\")\n",
    "ob.create_table()"
   ]
  },
  {
   "cell_type": "code",
   "execution_count": 6,
   "id": "f04d2d62",
   "metadata": {},
   "outputs": [
    {
     "name": "stdout",
     "output_type": "stream",
     "text": [
      "DB error is (0, '')\n"
     ]
    },
    {
     "ename": "Error",
     "evalue": "Already closed",
     "output_type": "error",
     "traceback": [
      "\u001b[1;31m---------------------------------------------------------------------------\u001b[0m",
      "\u001b[1;31mError\u001b[0m                                     Traceback (most recent call last)",
      "Cell \u001b[1;32mIn[6], line 1\u001b[0m\n\u001b[1;32m----> 1\u001b[0m ob\u001b[38;5;241m.\u001b[39minsert_data(\u001b[38;5;241m1\u001b[39m,\u001b[38;5;124m\"\u001b[39m\u001b[38;5;124mapple\u001b[39m\u001b[38;5;124m\"\u001b[39m)\n",
      "Cell \u001b[1;32mIn[5], line 31\u001b[0m, in \u001b[0;36mDB.insert_data\u001b[1;34m(self, x, y)\u001b[0m\n\u001b[0;32m     28\u001b[0m     \u001b[38;5;28mprint\u001b[39m(\u001b[38;5;124m\"\u001b[39m\u001b[38;5;124mDB error is\u001b[39m\u001b[38;5;124m\"\u001b[39m,err)\n\u001b[0;32m     30\u001b[0m \u001b[38;5;28;01mfinally\u001b[39;00m:\n\u001b[1;32m---> 31\u001b[0m     \u001b[38;5;28mself\u001b[39m\u001b[38;5;241m.\u001b[39mconnect\u001b[38;5;241m.\u001b[39mclose()\n",
      "File \u001b[1;32m~\\anaconda3\\Lib\\site-packages\\pymysql\\connections.py:409\u001b[0m, in \u001b[0;36mConnection.close\u001b[1;34m(self)\u001b[0m\n\u001b[0;32m    400\u001b[0m \u001b[38;5;250m\u001b[39m\u001b[38;5;124;03m\"\"\"\u001b[39;00m\n\u001b[0;32m    401\u001b[0m \u001b[38;5;124;03mSend the quit message and close the socket.\u001b[39;00m\n\u001b[0;32m    402\u001b[0m \n\u001b[1;32m   (...)\u001b[0m\n\u001b[0;32m    406\u001b[0m \u001b[38;5;124;03m:raise Error: If the connection is already closed.\u001b[39;00m\n\u001b[0;32m    407\u001b[0m \u001b[38;5;124;03m\"\"\"\u001b[39;00m\n\u001b[0;32m    408\u001b[0m \u001b[38;5;28;01mif\u001b[39;00m \u001b[38;5;28mself\u001b[39m\u001b[38;5;241m.\u001b[39m_closed:\n\u001b[1;32m--> 409\u001b[0m     \u001b[38;5;28;01mraise\u001b[39;00m err\u001b[38;5;241m.\u001b[39mError(\u001b[38;5;124m\"\u001b[39m\u001b[38;5;124mAlready closed\u001b[39m\u001b[38;5;124m\"\u001b[39m)\n\u001b[0;32m    410\u001b[0m \u001b[38;5;28mself\u001b[39m\u001b[38;5;241m.\u001b[39m_closed \u001b[38;5;241m=\u001b[39m \u001b[38;5;28;01mTrue\u001b[39;00m\n\u001b[0;32m    411\u001b[0m \u001b[38;5;28;01mif\u001b[39;00m \u001b[38;5;28mself\u001b[39m\u001b[38;5;241m.\u001b[39m_sock \u001b[38;5;129;01mis\u001b[39;00m \u001b[38;5;28;01mNone\u001b[39;00m:\n",
      "\u001b[1;31mError\u001b[0m: Already closed"
     ]
    }
   ],
   "source": [
    "ob.insert_data(1,\"apple\")"
   ]
  },
  {
   "cell_type": "code",
   "execution_count": 7,
   "id": "b0811abd",
   "metadata": {},
   "outputs": [
    {
     "data": {
      "text/plain": [
       "<pymysql.connections.Connection at 0x21c49e4b490>"
      ]
     },
     "execution_count": 7,
     "metadata": {},
     "output_type": "execute_result"
    }
   ],
   "source": [
    "DB.connect"
   ]
  },
  {
   "cell_type": "code",
   "execution_count": 8,
   "id": "ec9a8524",
   "metadata": {},
   "outputs": [
    {
     "name": "stdout",
     "output_type": "stream",
     "text": [
      "DB error is (0, '')\n"
     ]
    },
    {
     "ename": "Error",
     "evalue": "Already closed",
     "output_type": "error",
     "traceback": [
      "\u001b[1;31m---------------------------------------------------------------------------\u001b[0m",
      "\u001b[1;31mError\u001b[0m                                     Traceback (most recent call last)",
      "Cell \u001b[1;32mIn[8], line 1\u001b[0m\n\u001b[1;32m----> 1\u001b[0m ob\u001b[38;5;241m.\u001b[39minsert_data(\u001b[38;5;241m1\u001b[39m,\u001b[38;5;124m\"\u001b[39m\u001b[38;5;124mapple\u001b[39m\u001b[38;5;124m\"\u001b[39m)\n",
      "Cell \u001b[1;32mIn[5], line 31\u001b[0m, in \u001b[0;36mDB.insert_data\u001b[1;34m(self, x, y)\u001b[0m\n\u001b[0;32m     28\u001b[0m     \u001b[38;5;28mprint\u001b[39m(\u001b[38;5;124m\"\u001b[39m\u001b[38;5;124mDB error is\u001b[39m\u001b[38;5;124m\"\u001b[39m,err)\n\u001b[0;32m     30\u001b[0m \u001b[38;5;28;01mfinally\u001b[39;00m:\n\u001b[1;32m---> 31\u001b[0m     \u001b[38;5;28mself\u001b[39m\u001b[38;5;241m.\u001b[39mconnect\u001b[38;5;241m.\u001b[39mclose()\n",
      "File \u001b[1;32m~\\anaconda3\\Lib\\site-packages\\pymysql\\connections.py:409\u001b[0m, in \u001b[0;36mConnection.close\u001b[1;34m(self)\u001b[0m\n\u001b[0;32m    400\u001b[0m \u001b[38;5;250m\u001b[39m\u001b[38;5;124;03m\"\"\"\u001b[39;00m\n\u001b[0;32m    401\u001b[0m \u001b[38;5;124;03mSend the quit message and close the socket.\u001b[39;00m\n\u001b[0;32m    402\u001b[0m \n\u001b[1;32m   (...)\u001b[0m\n\u001b[0;32m    406\u001b[0m \u001b[38;5;124;03m:raise Error: If the connection is already closed.\u001b[39;00m\n\u001b[0;32m    407\u001b[0m \u001b[38;5;124;03m\"\"\"\u001b[39;00m\n\u001b[0;32m    408\u001b[0m \u001b[38;5;28;01mif\u001b[39;00m \u001b[38;5;28mself\u001b[39m\u001b[38;5;241m.\u001b[39m_closed:\n\u001b[1;32m--> 409\u001b[0m     \u001b[38;5;28;01mraise\u001b[39;00m err\u001b[38;5;241m.\u001b[39mError(\u001b[38;5;124m\"\u001b[39m\u001b[38;5;124mAlready closed\u001b[39m\u001b[38;5;124m\"\u001b[39m)\n\u001b[0;32m    410\u001b[0m \u001b[38;5;28mself\u001b[39m\u001b[38;5;241m.\u001b[39m_closed \u001b[38;5;241m=\u001b[39m \u001b[38;5;28;01mTrue\u001b[39;00m\n\u001b[0;32m    411\u001b[0m \u001b[38;5;28;01mif\u001b[39;00m \u001b[38;5;28mself\u001b[39m\u001b[38;5;241m.\u001b[39m_sock \u001b[38;5;129;01mis\u001b[39;00m \u001b[38;5;28;01mNone\u001b[39;00m:\n",
      "\u001b[1;31mError\u001b[0m: Already closed"
     ]
    }
   ],
   "source": [
    "ob.insert_data(1,\"apple\")"
   ]
  },
  {
   "cell_type": "code",
   "execution_count": 9,
   "id": "0331067d",
   "metadata": {},
   "outputs": [
    {
     "name": "stdout",
     "output_type": "stream",
     "text": [
      "hello\n",
      "10\n"
     ]
    }
   ],
   "source": [
    "def fun():\n",
    "    print(\"hello\")\n",
    "    return 10\n",
    "res=fun()\n",
    "print(res)"
   ]
  },
  {
   "cell_type": "code",
   "execution_count": 10,
   "id": "7c3322d2",
   "metadata": {},
   "outputs": [
    {
     "name": "stdout",
     "output_type": "stream",
     "text": [
      "10\n"
     ]
    }
   ],
   "source": [
    "print(res)"
   ]
  },
  {
   "cell_type": "code",
   "execution_count": 11,
   "id": "62553ca0",
   "metadata": {},
   "outputs": [
    {
     "name": "stdout",
     "output_type": "stream",
     "text": [
      "<pymysql.connections.Connection object at 0x0000021C49E4B490>\n"
     ]
    }
   ],
   "source": [
    "print(DB.connect)"
   ]
  },
  {
   "cell_type": "code",
   "execution_count": null,
   "id": "dda82afa",
   "metadata": {},
   "outputs": [],
   "source": [
    "# insert, update, delete, \n",
    "# commint\n",
    "# close\n"
   ]
  },
  {
   "cell_type": "code",
   "execution_count": 14,
   "id": "28c3a058",
   "metadata": {},
   "outputs": [
    {
     "name": "stdout",
     "output_type": "stream",
     "text": [
      "inserted successsfully\n",
      "updated successsfully\n"
     ]
    }
   ],
   "source": [
    "import pymysql\n",
    "class DB:\n",
    "    def __init__(self, username, password, database, table):\n",
    "        self.username=username\n",
    "        self.password=password\n",
    "        self.table=table\n",
    "        self.db=database\n",
    "    def db_conn(self):\n",
    "        self.con = pymysql.connect(user=self.username, \n",
    "                                       password=self.password, \n",
    "                                       database=self.db)\n",
    "        self.cur = self.con.cursor()\n",
    "    def db_close(self):\n",
    "        self.cur.close()\n",
    "        self.con.close()\n",
    "        \n",
    "    def create_table(self):\n",
    "        try:\n",
    "            query = f\"create table {self.table}(id int, name varchar(50))\"\n",
    "            DB.cur.execute(query)\n",
    "            print(\"Table Created successfully\")\n",
    "        except  Exception as err:\n",
    "            print(\"DB error is\",err)\n",
    "\n",
    "    def insert_data(self, x,y):  \n",
    "        query = f\"insert into {self.table} values({x}, '{y}')\"\n",
    "        try:\n",
    "            self.cur.execute(query)\n",
    "            print(\"inserted successsfully\")\n",
    "            \n",
    "        except Exception as err:\n",
    "            print(\"DB error is\",err)\n",
    "    \n",
    "        \n",
    "    def update_data(self, num, value):\n",
    "        query = f\"update {self.table} set name='{value}' where id='{num}'\"\n",
    "        self.cur.execute(query)\n",
    "        print(\"updated successsfully\")\n",
    "        \n",
    "    def delete_data(self, num):\n",
    "        \n",
    "        query = f\"delete from {self.table} where id='{num}'\"\n",
    "        self.cur.execute(query)\n",
    "        print(\"deleted successsfully\")\n",
    "        \n",
    "    def db_commit(self):\n",
    "        self.con.commit()\n",
    "db_ob = DB(\"root\",\"root\",\"aja\",\"fruits\")\n",
    "db_ob.db_conn()\n",
    "db_ob.insert_data(1,\"apple\")\n",
    "db_ob.update_data(1,'mango')\n",
    "db_ob.db_commit()\n",
    "db_ob.db_close()"
   ]
  },
  {
   "cell_type": "code",
   "execution_count": null,
   "id": "5ade23f8",
   "metadata": {},
   "outputs": [],
   "source": [
    "db_ob = DB(\"root\",\"root\",\"aja\",\"fruits\")\n",
    "db_ob.delete_data(1)"
   ]
  },
  {
   "cell_type": "code",
   "execution_count": 15,
   "id": "4653b8b1",
   "metadata": {},
   "outputs": [
    {
     "ename": "AttributeError",
     "evalue": "'NoneType' object has no attribute 'insert_data'",
     "output_type": "error",
     "traceback": [
      "\u001b[1;31m---------------------------------------------------------------------------\u001b[0m",
      "\u001b[1;31mAttributeError\u001b[0m                            Traceback (most recent call last)",
      "Cell \u001b[1;32mIn[15], line 55\u001b[0m\n\u001b[0;32m     52\u001b[0m         \u001b[38;5;28mself\u001b[39m\u001b[38;5;241m.\u001b[39mdb_close()\n\u001b[0;32m     54\u001b[0m \u001b[38;5;28;01mwith\u001b[39;00m DB(\u001b[38;5;124m\"\u001b[39m\u001b[38;5;124mroot\u001b[39m\u001b[38;5;124m\"\u001b[39m,\u001b[38;5;124m\"\u001b[39m\u001b[38;5;124mroot\u001b[39m\u001b[38;5;124m\"\u001b[39m,\u001b[38;5;124m\"\u001b[39m\u001b[38;5;124maja\u001b[39m\u001b[38;5;124m\"\u001b[39m,\u001b[38;5;124m\"\u001b[39m\u001b[38;5;124mfruits\u001b[39m\u001b[38;5;124m\"\u001b[39m) \u001b[38;5;28;01mas\u001b[39;00m db_ob:\n\u001b[1;32m---> 55\u001b[0m     db_ob\u001b[38;5;241m.\u001b[39minsert_data(\u001b[38;5;241m2\u001b[39m,\u001b[38;5;124m\"\u001b[39m\u001b[38;5;124mbanana\u001b[39m\u001b[38;5;124m\"\u001b[39m)\n\u001b[0;32m     56\u001b[0m     db_ob\u001b[38;5;241m.\u001b[39mupdate_data(\u001b[38;5;241m2\u001b[39m,\u001b[38;5;124m'\u001b[39m\u001b[38;5;124mpineapple\u001b[39m\u001b[38;5;124m'\u001b[39m)\n\u001b[0;32m     57\u001b[0m \u001b[38;5;28mprint\u001b[39m(\u001b[38;5;124m\"\u001b[39m\u001b[38;5;124mDONE\u001b[39m\u001b[38;5;124m\"\u001b[39m)\n",
      "\u001b[1;31mAttributeError\u001b[0m: 'NoneType' object has no attribute 'insert_data'"
     ]
    }
   ],
   "source": [
    "import pymysql\n",
    "class DB:\n",
    "    def __init__(self, username, password, database, table):\n",
    "        self.username=username\n",
    "        self.password=password\n",
    "        self.table=table\n",
    "        self.db=database\n",
    "    def db_conn(self):\n",
    "        self.con = pymysql.connect(user=self.username, \n",
    "                                       password=self.password, \n",
    "                                       database=self.db)\n",
    "        self.cur = self.con.cursor()\n",
    "    def db_close(self):\n",
    "        self.cur.close()\n",
    "        self.con.close()\n",
    "        \n",
    "    def create_table(self):\n",
    "        try:\n",
    "            query = f\"create table {self.table}(id int, name varchar(50))\"\n",
    "            DB.cur.execute(query)\n",
    "            print(\"Table Created successfully\")\n",
    "        except  Exception as err:\n",
    "            print(\"DB error is\",err)\n",
    "\n",
    "    def insert_data(self, x,y):  \n",
    "        query = f\"insert into {self.table} values({x}, '{y}')\"\n",
    "        try:\n",
    "            self.cur.execute(query)\n",
    "            print(\"inserted successsfully\")\n",
    "            \n",
    "        except Exception as err:\n",
    "            print(\"DB error is\",err)\n",
    "    \n",
    "        \n",
    "    def update_data(self, num, value):\n",
    "        query = f\"update {self.table} set name='{value}' where id='{num}'\"\n",
    "        self.cur.execute(query)\n",
    "        print(\"updated successsfully\")\n",
    "        \n",
    "    def delete_data(self, num):\n",
    "        query = f\"delete from {self.table} where id='{num}'\"\n",
    "        self.cur.execute(query)\n",
    "        print(\"deleted successsfully\")\n",
    "        \n",
    "    def db_commit(self):\n",
    "        self.con.commit()\n",
    "        \n",
    "    def __enter__(self):\n",
    "        self.db_conn()\n",
    "        return self\n",
    "    \n",
    "    def __exit__(self, *args, **kwars):\n",
    "        self.db_commit()\n",
    "        self.db_close()\n",
    "        \n",
    "with DB(\"root\",\"root\",\"aja\",\"fruits\") as db_ob:\n",
    "    db_ob.insert_data(2,\"banana\")\n",
    "    db_ob.update_data(2,'pineapple')\n",
    "    \n",
    "print(\"DONE\")"
   ]
  },
  {
   "cell_type": "code",
   "execution_count": 16,
   "id": "5b48c68c",
   "metadata": {},
   "outputs": [
    {
     "name": "stdout",
     "output_type": "stream",
     "text": [
      "inserted successsfully\n",
      "updated successsfully\n",
      "DONE\n"
     ]
    }
   ],
   "source": [
    "import pymysql\n",
    "class DB:\n",
    "    def __init__(self, username, password, database, table):\n",
    "        self.username=username\n",
    "        self.password=password\n",
    "        self.table=table\n",
    "        self.db=database\n",
    "    def db_conn(self):\n",
    "        self.con = pymysql.connect(user=self.username, \n",
    "                                       password=self.password, \n",
    "                                       database=self.db)\n",
    "        self.cur = self.con.cursor()\n",
    "    def db_close(self):\n",
    "        self.cur.close()\n",
    "        self.con.close()\n",
    "        \n",
    "    def create_table(self):\n",
    "        try:\n",
    "            query = f\"create table {self.table}(id int, name varchar(50))\"\n",
    "            DB.cur.execute(query)\n",
    "            print(\"Table Created successfully\")\n",
    "        except  Exception as err:\n",
    "            print(\"DB error is\",err)\n",
    "\n",
    "    def insert_data(self, x,y):  \n",
    "        query = f\"insert into {self.table} values({x}, '{y}')\"\n",
    "        try:\n",
    "            self.cur.execute(query)\n",
    "            print(\"inserted successsfully\")\n",
    "            \n",
    "        except Exception as err:\n",
    "            print(\"DB error is\",err)\n",
    "    \n",
    "        \n",
    "    def update_data(self, num, value):\n",
    "        query = f\"update {self.table} set name='{value}' where id='{num}'\"\n",
    "        self.cur.execute(query)\n",
    "        print(\"updated successsfully\")\n",
    "        \n",
    "    def delete_data(self, num):\n",
    "        query = f\"delete from {self.table} where id='{num}'\"\n",
    "        self.cur.execute(query)\n",
    "        print(\"deleted successsfully\")\n",
    "        \n",
    "    def db_commit(self):\n",
    "        self.con.commit()\n",
    "        \n",
    "    def __enter__(self):\n",
    "        self.db_conn()\n",
    "        return self\n",
    "    \n",
    "    def __exit__(self, *args, **kwars):\n",
    "        self.db_commit()\n",
    "        self.db_close()\n",
    "        \n",
    "with DB(\"root\",\"root\",\"aja\",\"fruits\") as db_ob:\n",
    "    db_ob.insert_data(2,\"banana\")\n",
    "    db_ob.update_data(2,'pineapple')\n",
    "    \n",
    "print(\"DONE\")"
   ]
  },
  {
   "cell_type": "code",
   "execution_count": 17,
   "id": "4e1e24f1",
   "metadata": {},
   "outputs": [
    {
     "data": {
      "text/plain": [
       "<pymysql.connections.Connection at 0x21c4b6f5990>"
      ]
     },
     "execution_count": 17,
     "metadata": {},
     "output_type": "execute_result"
    }
   ],
   "source": [
    "db_ob.con"
   ]
  },
  {
   "cell_type": "code",
   "execution_count": 18,
   "id": "26f5ef4b",
   "metadata": {},
   "outputs": [
    {
     "name": "stdout",
     "output_type": "stream",
     "text": [
      "['DataError', 'DatabaseError', 'Error', 'IntegrityError', 'InterfaceError', 'InternalError', 'NotSupportedError', 'OperationalError', 'ProgrammingError', 'Warning', '__class__', '__del__', '__delattr__', '__dict__', '__dir__', '__doc__', '__enter__', '__eq__', '__exit__', '__format__', '__ge__', '__getattribute__', '__getstate__', '__gt__', '__hash__', '__init__', '__init_subclass__', '__le__', '__lt__', '__module__', '__ne__', '__new__', '__reduce__', '__reduce_ex__', '__repr__', '__setattr__', '__sizeof__', '__str__', '__subclasshook__', '__weakref__', '_affected_rows', '_auth_plugin_map', '_auth_plugin_name', '_binary_prefix', '_closed', '_connect_attrs', '_create_ssl_ctx', '_execute_command', '_force_close', '_get_auth_plugin_handler', '_get_server_information', '_local_infile', '_next_seq_id', '_process_auth', '_quote_bytes', '_read_bytes', '_read_ok_packet', '_read_packet', '_read_query_result', '_read_timeout', '_request_authentication', '_result', '_rfile', '_secure', '_send_autocommit_mode', '_sock', '_write_bytes', '_write_timeout', 'affected_rows', 'autocommit', 'autocommit_mode', 'begin', 'bind_address', 'character_set_name', 'charset', 'client_flag', 'close', 'collation', 'commit', 'connect', 'connect_timeout', 'cursor', 'cursorclass', 'db', 'decoders', 'encoders', 'encoding', 'escape', 'escape_string', 'get_autocommit', 'get_host_info', 'get_proto_info', 'get_server_info', 'host', 'host_info', 'init_command', 'insert_id', 'kill', 'literal', 'max_allowed_packet', 'next_result', 'open', 'password', 'ping', 'port', 'protocol_version', 'query', 'rollback', 'salt', 'select_db', 'server_capabilities', 'server_charset', 'server_language', 'server_public_key', 'server_status', 'server_thread_id', 'server_version', 'set_character_set', 'set_charset', 'show_warnings', 'sql_mode', 'ssl', 'thread_id', 'unix_socket', 'use_unicode', 'user', 'write_packet']\n"
     ]
    }
   ],
   "source": [
    "print(dir(db_ob.con))"
   ]
  },
  {
   "cell_type": "code",
   "execution_count": 19,
   "id": "92decca7",
   "metadata": {},
   "outputs": [
    {
     "ename": "AttributeError",
     "evalue": "'Connection' object has no attribute 'closed'",
     "output_type": "error",
     "traceback": [
      "\u001b[1;31m---------------------------------------------------------------------------\u001b[0m",
      "\u001b[1;31mAttributeError\u001b[0m                            Traceback (most recent call last)",
      "Cell \u001b[1;32mIn[19], line 1\u001b[0m\n\u001b[1;32m----> 1\u001b[0m db_ob\u001b[38;5;241m.\u001b[39mcon\u001b[38;5;241m.\u001b[39mclosed\n",
      "\u001b[1;31mAttributeError\u001b[0m: 'Connection' object has no attribute 'closed'"
     ]
    }
   ],
   "source": [
    "db_ob.con"
   ]
  },
  {
   "cell_type": "code",
   "execution_count": 20,
   "id": "28ce2aed",
   "metadata": {},
   "outputs": [
    {
     "name": "stdout",
     "output_type": "stream",
     "text": [
      "DB error is Cursor closed\n"
     ]
    }
   ],
   "source": [
    "db_ob.insert_data(3,\"banana\")"
   ]
  },
  {
   "cell_type": "code",
   "execution_count": 21,
   "id": "62d426b6",
   "metadata": {},
   "outputs": [
    {
     "name": "stdout",
     "output_type": "stream",
     "text": [
      "inserted successsfully\n",
      "updated successsfully\n"
     ]
    },
    {
     "ename": "TypeError",
     "evalue": "DB.__exit__() takes 1 positional argument but 4 were given",
     "output_type": "error",
     "traceback": [
      "\u001b[1;31m---------------------------------------------------------------------------\u001b[0m",
      "\u001b[1;31mTypeError\u001b[0m                                 Traceback (most recent call last)",
      "Cell \u001b[1;32mIn[21], line 56\u001b[0m\n\u001b[0;32m     53\u001b[0m         \u001b[38;5;28mself\u001b[39m\u001b[38;5;241m.\u001b[39mdb_commit()\n\u001b[0;32m     54\u001b[0m         \u001b[38;5;28mself\u001b[39m\u001b[38;5;241m.\u001b[39mdb_close()\n\u001b[1;32m---> 56\u001b[0m \u001b[38;5;28;01mwith\u001b[39;00m DB(\u001b[38;5;124m\"\u001b[39m\u001b[38;5;124mroot\u001b[39m\u001b[38;5;124m\"\u001b[39m,\u001b[38;5;124m\"\u001b[39m\u001b[38;5;124mroot\u001b[39m\u001b[38;5;124m\"\u001b[39m,\u001b[38;5;124m\"\u001b[39m\u001b[38;5;124maja\u001b[39m\u001b[38;5;124m\"\u001b[39m,\u001b[38;5;124m\"\u001b[39m\u001b[38;5;124mfruits\u001b[39m\u001b[38;5;124m\"\u001b[39m) \u001b[38;5;28;01mas\u001b[39;00m db_ob:\n\u001b[0;32m     57\u001b[0m     db_ob\u001b[38;5;241m.\u001b[39minsert_data(\u001b[38;5;241m2\u001b[39m,\u001b[38;5;124m\"\u001b[39m\u001b[38;5;124mbanana\u001b[39m\u001b[38;5;124m\"\u001b[39m)\n\u001b[0;32m     58\u001b[0m     db_ob\u001b[38;5;241m.\u001b[39mupdate_data(\u001b[38;5;241m2\u001b[39m,\u001b[38;5;124m'\u001b[39m\u001b[38;5;124mpineapple\u001b[39m\u001b[38;5;124m'\u001b[39m)\n",
      "\u001b[1;31mTypeError\u001b[0m: DB.__exit__() takes 1 positional argument but 4 were given"
     ]
    }
   ],
   "source": [
    "import pymysql\n",
    "class DB:\n",
    "    def __init__(self, username, password, database, table):\n",
    "        self.username=username\n",
    "        self.password=password\n",
    "        self.table=table\n",
    "        self.db=database\n",
    "    def db_conn(self):\n",
    "        self.con = pymysql.connect(user=self.username, \n",
    "                                       password=self.password, \n",
    "                                       database=self.db)\n",
    "        self.cur = self.con.cursor()\n",
    "    def db_close(self):\n",
    "        self.cur.close()\n",
    "        self.con.close()\n",
    "        \n",
    "    def create_table(self):\n",
    "        try:\n",
    "            query = f\"create table {self.table}(id int, name varchar(50))\"\n",
    "            DB.cur.execute(query)\n",
    "            print(\"Table Created successfully\")\n",
    "        except  Exception as err:\n",
    "            print(\"DB error is\",err)\n",
    "\n",
    "    def insert_data(self, x,y):  \n",
    "        query = f\"insert into {self.table} values({x}, '{y}')\"\n",
    "        try:\n",
    "            self.cur.execute(query)\n",
    "            print(\"inserted successsfully\")\n",
    "            \n",
    "        except Exception as err:\n",
    "            print(\"DB error is\",err)\n",
    "    \n",
    "        \n",
    "    def update_data(self, num, value):\n",
    "        query = f\"update {self.table} set name='{value}' where id='{num}'\"\n",
    "        self.cur.execute(query)\n",
    "        print(\"updated successsfully\")\n",
    "        \n",
    "    def delete_data(self, num):\n",
    "        query = f\"delete from {self.table} where id='{num}'\"\n",
    "        self.cur.execute(query)\n",
    "        print(\"deleted successsfully\")\n",
    "        \n",
    "    def db_commit(self):\n",
    "        self.con.commit()\n",
    "        \n",
    "    def __enter__(self):\n",
    "        self.db_conn()\n",
    "        return self\n",
    "    \n",
    "    def __exit__(self):\n",
    "        self.db_commit()\n",
    "        self.db_close()\n",
    "        \n",
    "with DB(\"root\",\"root\",\"aja\",\"fruits\") as db_ob:\n",
    "    db_ob.insert_data(2,\"banana\")\n",
    "    db_ob.update_data(2,'pineapple')\n",
    "    \n",
    "print(\"DONE\")"
   ]
  },
  {
   "cell_type": "code",
   "execution_count": 1,
   "id": "5c6b1339",
   "metadata": {},
   "outputs": [
    {
     "name": "stdout",
     "output_type": "stream",
     "text": [
      "this is op1 in B\n"
     ]
    }
   ],
   "source": [
    "class A:\n",
    "    def op2(self):\n",
    "        print(\"this is op2 in A\")\n",
    "        \n",
    "class B:\n",
    "    def op1(self):\n",
    "        print(\"this is op1 in B\")\n",
    "        \n",
    "    def operations(self):\n",
    "        self.op1()#B.op1(self)\n",
    "b=B()\n",
    "b.operations()\n",
    "        "
   ]
  },
  {
   "cell_type": "code",
   "execution_count": 2,
   "id": "d45e7a5d",
   "metadata": {},
   "outputs": [
    {
     "name": "stdout",
     "output_type": "stream",
     "text": [
      "this is op1 in B\n",
      "this is op2 in A\n"
     ]
    }
   ],
   "source": [
    "class A:\n",
    "    def op2(self):\n",
    "        print(\"this is op2 in A\")\n",
    "        \n",
    "class B:\n",
    "    def op1(self):\n",
    "        print(\"this is op1 in B\")\n",
    "        \n",
    "    def operations(self):\n",
    "        self.op1()#B.op1(self)\n",
    "        a=A()\n",
    "        a.op2()\n",
    "b=B()\n",
    "b.operations()\n",
    "        "
   ]
  },
  {
   "cell_type": "code",
   "execution_count": 3,
   "id": "cd37b61b",
   "metadata": {},
   "outputs": [
    {
     "name": "stdout",
     "output_type": "stream",
     "text": [
      "this is op1 in B\n",
      "this is op2 in A\n"
     ]
    }
   ],
   "source": [
    "class A:\n",
    "    def op2(self):\n",
    "        print(\"this is op2 in A\")\n",
    "    def op1(self):\n",
    "        print(\"this is op1 in A\")\n",
    "        \n",
    "    def op3(self):\n",
    "        print(\"this is op3 in A\")\n",
    "        \n",
    "        \n",
    "class B:\n",
    "    def op1(self):\n",
    "        print(\"this is op1 in B\")\n",
    "        \n",
    "    def operations(self):\n",
    "        self.op1()#B.op1(self)\n",
    "        a=A()\n",
    "        a.op2()\n",
    "b=B()\n",
    "b.operations()\n",
    "        "
   ]
  },
  {
   "cell_type": "code",
   "execution_count": 4,
   "id": "5ca3422c",
   "metadata": {},
   "outputs": [
    {
     "name": "stdout",
     "output_type": "stream",
     "text": [
      "this is op1 in B\n",
      "this is op2 in A\n",
      "this is op1 in A\n",
      "this is op3 in A\n"
     ]
    }
   ],
   "source": [
    "class A:\n",
    "    def op2(self):\n",
    "        print(\"this is op2 in A\")\n",
    "    def op1(self):\n",
    "        print(\"this is op1 in A\")\n",
    "        \n",
    "    def op3(self):\n",
    "        print(\"this is op3 in A\")\n",
    "        \n",
    "        \n",
    "class B:\n",
    "    def op1(self):\n",
    "        print(\"this is op1 in B\")\n",
    "        \n",
    "    def operations(self):\n",
    "        self.op1()#B.op1(self)\n",
    "        a=A()\n",
    "        a.op2()\n",
    "        a.op1()\n",
    "        a.op3()\n",
    "b=B()\n",
    "b.operations()\n",
    "        "
   ]
  },
  {
   "cell_type": "code",
   "execution_count": 5,
   "id": "6c4412a9",
   "metadata": {},
   "outputs": [
    {
     "name": "stdout",
     "output_type": "stream",
     "text": [
      "this is op1 in B\n",
      "this is op2 in A\n",
      "this is op1 in B\n",
      "this is op3 in A\n"
     ]
    }
   ],
   "source": [
    "class A:\n",
    "    def op2(self):\n",
    "        print(\"this is op2 in A\")\n",
    "    def op1(self):\n",
    "        print(\"this is op1 in A\")\n",
    "        \n",
    "    def op3(self):\n",
    "        print(\"this is op3 in A\")\n",
    "        \n",
    "        \n",
    "class B(A):\n",
    "    def op1(self):\n",
    "        print(\"this is op1 in B\")\n",
    "        \n",
    "    def operations(self):\n",
    "        self.op1()#B.op1(self)\n",
    "        self.op2()\n",
    "        self.op1()\n",
    "        self.op3()\n",
    "b=B()\n",
    "b.operations()\n",
    "        "
   ]
  },
  {
   "cell_type": "code",
   "execution_count": 6,
   "id": "9ded2e79",
   "metadata": {},
   "outputs": [
    {
     "name": "stdout",
     "output_type": "stream",
     "text": [
      "this is op1 in B\n",
      "this is op2 in A\n",
      "this is op1 in B\n",
      "this is op3 in A\n",
      "(<class '__main__.B'>, <class '__main__.A'>, <class 'object'>)\n"
     ]
    }
   ],
   "source": [
    "class A:\n",
    "    def op2(self):\n",
    "        print(\"this is op2 in A\")\n",
    "    def op1(self):\n",
    "        print(\"this is op1 in A\")\n",
    "        \n",
    "    def op3(self):\n",
    "        print(\"this is op3 in A\")\n",
    "        \n",
    "        \n",
    "class B(A):\n",
    "    def op1(self):\n",
    "        print(\"this is op1 in B\")\n",
    "        \n",
    "    def operations(self):\n",
    "        self.op1()#B.op1(self)\n",
    "        self.op2()\n",
    "        self.op1()\n",
    "        self.op3()\n",
    "b=B()\n",
    "b.operations()\n",
    "print(B.__mro__)#method resolution order"
   ]
  },
  {
   "cell_type": "code",
   "execution_count": 7,
   "id": "dad533d1",
   "metadata": {},
   "outputs": [
    {
     "name": "stdout",
     "output_type": "stream",
     "text": [
      "(<class '__main__.A'>, <class 'object'>)\n"
     ]
    }
   ],
   "source": [
    "class A:\n",
    "    pass\n",
    "print(A.__mro__)"
   ]
  },
  {
   "cell_type": "code",
   "execution_count": null,
   "id": "8cb1bc7f",
   "metadata": {},
   "outputs": [],
   "source": [
    "a=A()#__new__, __init__"
   ]
  },
  {
   "cell_type": "code",
   "execution_count": 8,
   "id": "9af2895c",
   "metadata": {},
   "outputs": [
    {
     "name": "stdout",
     "output_type": "stream",
     "text": [
      "this is op1 in B\n",
      "this is op2 in A\n"
     ]
    },
    {
     "ename": "TypeError",
     "evalue": "A.op1() missing 1 required positional argument: 'self'",
     "output_type": "error",
     "traceback": [
      "\u001b[1;31m---------------------------------------------------------------------------\u001b[0m",
      "\u001b[1;31mTypeError\u001b[0m                                 Traceback (most recent call last)",
      "Cell \u001b[1;32mIn[8], line 22\u001b[0m\n\u001b[0;32m     20\u001b[0m         \u001b[38;5;28mself\u001b[39m\u001b[38;5;241m.\u001b[39mop3()\n\u001b[0;32m     21\u001b[0m b\u001b[38;5;241m=\u001b[39mB()\n\u001b[1;32m---> 22\u001b[0m b\u001b[38;5;241m.\u001b[39moperations()\n\u001b[0;32m     23\u001b[0m \u001b[38;5;28mprint\u001b[39m(B\u001b[38;5;241m.\u001b[39m\u001b[38;5;18m__mro__\u001b[39m)\n",
      "Cell \u001b[1;32mIn[8], line 19\u001b[0m, in \u001b[0;36mB.operations\u001b[1;34m(self)\u001b[0m\n\u001b[0;32m     17\u001b[0m \u001b[38;5;28mself\u001b[39m\u001b[38;5;241m.\u001b[39mop2()\n\u001b[0;32m     18\u001b[0m \u001b[38;5;66;03m#self.op1()# I want to access the A class op1\u001b[39;00m\n\u001b[1;32m---> 19\u001b[0m A\u001b[38;5;241m.\u001b[39mop1()\n\u001b[0;32m     20\u001b[0m \u001b[38;5;28mself\u001b[39m\u001b[38;5;241m.\u001b[39mop3()\n",
      "\u001b[1;31mTypeError\u001b[0m: A.op1() missing 1 required positional argument: 'self'"
     ]
    }
   ],
   "source": [
    "class A:\n",
    "    def op2(self):\n",
    "        print(\"this is op2 in A\")\n",
    "    def op1(self):\n",
    "        print(\"this is op1 in A\")\n",
    "        \n",
    "    def op3(self):\n",
    "        print(\"this is op3 in A\")\n",
    "        \n",
    "        \n",
    "class B(A):\n",
    "    def op1(self):\n",
    "        print(\"this is op1 in B\")\n",
    "        \n",
    "    def operations(self):\n",
    "        self.op1()#B.op1(self)\n",
    "        self.op2()\n",
    "        #self.op1()# I want to access the A class op1\n",
    "        A.op1()\n",
    "        self.op3()\n",
    "b=B()\n",
    "b.operations()\n",
    "print(B.__mro__)#method resolution order"
   ]
  },
  {
   "cell_type": "code",
   "execution_count": 9,
   "id": "c6d86208",
   "metadata": {},
   "outputs": [
    {
     "name": "stdout",
     "output_type": "stream",
     "text": [
      "this is op1 in B\n",
      "this is op2 in A\n",
      "this is op1 in A\n",
      "this is op3 in A\n",
      "(<class '__main__.B'>, <class '__main__.A'>, <class 'object'>)\n"
     ]
    }
   ],
   "source": [
    "class A:\n",
    "    def op2(self):\n",
    "        print(\"this is op2 in A\")\n",
    "    def op1(self):\n",
    "        print(\"this is op1 in A\")\n",
    "        \n",
    "    def op3(self):\n",
    "        print(\"this is op3 in A\")\n",
    "        \n",
    "        \n",
    "class B(A):\n",
    "    def op1(self):\n",
    "        print(\"this is op1 in B\")\n",
    "        \n",
    "    def operations(self):\n",
    "        self.op1()#B.op1(self)\n",
    "        self.op2()\n",
    "        #self.op1()# I want to access the A class op1\n",
    "        A.op1(self)\n",
    "        self.op3()\n",
    "b=B()\n",
    "b.operations()\n",
    "print(B.__mro__)#method resolution order"
   ]
  },
  {
   "cell_type": "code",
   "execution_count": 13,
   "id": "a54ec4bb",
   "metadata": {},
   "outputs": [
    {
     "name": "stdout",
     "output_type": "stream",
     "text": [
      "this is op1 in B\n",
      "this is op2 in A\n",
      "this is op1 in A\n",
      "this is op3 in A\n",
      "(<class '__main__.B'>, <class '__main__.A'>, <class 'object'>)\n"
     ]
    }
   ],
   "source": [
    "class A:\n",
    "    def op2(self):\n",
    "        print(\"this is op2 in A\")\n",
    "    def op1(self):\n",
    "        print(\"this is op1 in A\")\n",
    "        \n",
    "    def op3(self):\n",
    "        print(\"this is op3 in A\")\n",
    "        \n",
    "        \n",
    "class B(A):\n",
    "    def op1(self):\n",
    "        print(\"this is op1 in B\")\n",
    "        \n",
    "    def operations(self):\n",
    "        self.op1()#B.op1(self)\n",
    "        self.op2()\n",
    "        #self.op1()# I want to access the A class op1\n",
    "        #A.op1(self)\n",
    "        super(B, self).op1()\n",
    "        self.op3()\n",
    "b=B()\n",
    "b.operations()\n",
    "print(B.__mro__)#method resolution order"
   ]
  },
  {
   "cell_type": "code",
   "execution_count": 14,
   "id": "33a6c175",
   "metadata": {},
   "outputs": [
    {
     "name": "stdout",
     "output_type": "stream",
     "text": [
      "this is op1 in A\n"
     ]
    }
   ],
   "source": [
    "class A:\n",
    "    def op1(self):\n",
    "        print(\"this is op1 in A\")\n",
    "class B:\n",
    "    def op1(self):\n",
    "        print(\"this is op1 in B\")\n",
    "        \n",
    "class C(A,B):\n",
    "    def op2(self):\n",
    "        print(\"this is op2 in C\")\n",
    "        \n",
    "    def operations(self):\n",
    "        self.op1()\n",
    "c=C()\n",
    "c.operations()"
   ]
  },
  {
   "cell_type": "code",
   "execution_count": 15,
   "id": "6acc5325",
   "metadata": {},
   "outputs": [
    {
     "name": "stdout",
     "output_type": "stream",
     "text": [
      "this is op1 in A\n",
      "this is op1 in A\n"
     ]
    }
   ],
   "source": [
    "class A:\n",
    "    def op1(self):\n",
    "        print(\"this is op1 in A\")\n",
    "class B:\n",
    "    def op1(self):\n",
    "        print(\"this is op1 in B\")\n",
    "        \n",
    "class C(A,B):\n",
    "    def op2(self):\n",
    "        print(\"this is op2 in C\")\n",
    "        \n",
    "    def operations(self):\n",
    "        self.op1()# this is accessing A class op1 \n",
    "        super(C, self).op1()\n",
    "c=C()\n",
    "c.operations()"
   ]
  },
  {
   "cell_type": "code",
   "execution_count": 16,
   "id": "1bbec34b",
   "metadata": {},
   "outputs": [
    {
     "name": "stdout",
     "output_type": "stream",
     "text": [
      "this is op1 in A\n",
      "this is op1 in A\n",
      "this is op1 in B\n"
     ]
    }
   ],
   "source": [
    "class A:\n",
    "    def op1(self):\n",
    "        print(\"this is op1 in A\")\n",
    "class B:\n",
    "    def op1(self):\n",
    "        print(\"this is op1 in B\")\n",
    "        \n",
    "class C(A,B):\n",
    "    def op2(self):\n",
    "        print(\"this is op2 in C\")\n",
    "        \n",
    "    def operations(self):\n",
    "        self.op1()# this is accessing A class op1 \n",
    "        super(C, self).op1()\n",
    "        B.op1(self)\n",
    "c=C()\n",
    "c.operations()"
   ]
  },
  {
   "cell_type": "code",
   "execution_count": null,
   "id": "58644fd9",
   "metadata": {},
   "outputs": [],
   "source": [
    "# reduce the duplicate\n",
    "# reusability\n",
    "# minimal\n",
    "# reduce excution time(I am not sure)\n",
    "# scalable (I am not sure)\n",
    "# we can call parent class methods in to child\n",
    "# we can add more attribute to the exsting class and define the operations. Extend the class\n",
    "# reduce the developmeent time\n",
    "# easy to debug the code\n",
    "# code organization\n",
    "# "
   ]
  },
  {
   "cell_type": "code",
   "execution_count": 1,
   "id": "4eeecc1a",
   "metadata": {},
   "outputs": [
    {
     "ename": "TypeError",
     "evalue": "A.__init__() missing 2 required positional arguments: 'p1' and 'p2'",
     "output_type": "error",
     "traceback": [
      "\u001b[1;31m---------------------------------------------------------------------------\u001b[0m",
      "\u001b[1;31mTypeError\u001b[0m                                 Traceback (most recent call last)",
      "Cell \u001b[1;32mIn[1], line 7\u001b[0m\n\u001b[0;32m      5\u001b[0m \u001b[38;5;28;01mclass\u001b[39;00m \u001b[38;5;21;01mB\u001b[39;00m(A):\n\u001b[0;32m      6\u001b[0m     \u001b[38;5;28;01mpass\u001b[39;00m\n\u001b[1;32m----> 7\u001b[0m b\u001b[38;5;241m=\u001b[39mB()\n",
      "\u001b[1;31mTypeError\u001b[0m: A.__init__() missing 2 required positional arguments: 'p1' and 'p2'"
     ]
    }
   ],
   "source": [
    "class A:\n",
    "    def __init__(self, p1, p2):\n",
    "        self.p1=p1\n",
    "        self.p2=p2\n",
    "class B(A):\n",
    "    pass\n",
    "b=B()"
   ]
  },
  {
   "cell_type": "code",
   "execution_count": 2,
   "id": "66b8d3f8",
   "metadata": {},
   "outputs": [
    {
     "name": "stdout",
     "output_type": "stream",
     "text": [
      "10\n"
     ]
    }
   ],
   "source": [
    "class A:\n",
    "    def __init__(self, p1, p2):\n",
    "        self.p1=p1\n",
    "        self.p2=p2\n",
    "class B(A):\n",
    "    pass\n",
    "b=B(10,20)\n",
    "print(b.p1)"
   ]
  },
  {
   "cell_type": "code",
   "execution_count": 3,
   "id": "3c1850f7",
   "metadata": {},
   "outputs": [
    {
     "name": "stdout",
     "output_type": "stream",
     "text": [
      "this is op1 in B\n",
      "this is op2 in C\n",
      "this is op1 in A\n"
     ]
    }
   ],
   "source": [
    "class A:\n",
    "    def op3(self):\n",
    "        print(\"this is op1 in A\")\n",
    "class B:\n",
    "    def op1(self):\n",
    "        print(\"this is op1 in B\")\n",
    "        \n",
    "class C(A,B):\n",
    "    def op2(self):\n",
    "        print(\"this is op2 in C\")\n",
    "        \n",
    "    def operations(self):\n",
    "        self.op1()\n",
    "        self.op2()\n",
    "        self.op3()\n",
    "c=C()\n",
    "c.operations()\n",
    "    "
   ]
  },
  {
   "cell_type": "code",
   "execution_count": 4,
   "id": "5ecbed2d",
   "metadata": {},
   "outputs": [
    {
     "name": "stdout",
     "output_type": "stream",
     "text": [
      "this is op1 in B\n",
      "this is op2 in C\n",
      "this is op1 in A\n"
     ]
    }
   ],
   "source": [
    "class C:\n",
    "    def op1(self):\n",
    "        print(\"this is op1 in B\")\n",
    "    def op2(self):\n",
    "        print(\"this is op2 in C\")\n",
    "    def op3(self):\n",
    "        print(\"this is op1 in A\")\n",
    "        \n",
    "    def operations(self):\n",
    "        self.op1()\n",
    "        self.op2()\n",
    "        self.op3()\n",
    "c=C()\n",
    "c.operations()\n",
    "    "
   ]
  },
  {
   "cell_type": "code",
   "execution_count": 1,
   "id": "cda8f364",
   "metadata": {},
   "outputs": [],
   "source": [
    "# method overriding?"
   ]
  },
  {
   "cell_type": "code",
   "execution_count": 2,
   "id": "8f494b3d",
   "metadata": {},
   "outputs": [],
   "source": [
    "# method overloading?"
   ]
  },
  {
   "cell_type": "code",
   "execution_count": 3,
   "id": "b5374efd",
   "metadata": {},
   "outputs": [
    {
     "ename": "NameError",
     "evalue": "name 'add' is not defined",
     "output_type": "error",
     "traceback": [
      "\u001b[1;31m---------------------------------------------------------------------------\u001b[0m",
      "\u001b[1;31mNameError\u001b[0m                                 Traceback (most recent call last)",
      "Cell \u001b[1;32mIn[3], line 1\u001b[0m\n\u001b[1;32m----> 1\u001b[0m \u001b[38;5;28mprint\u001b[39m(add(\u001b[38;5;241m1\u001b[39m,\u001b[38;5;241m2\u001b[39m))\n\u001b[0;32m      2\u001b[0m \u001b[38;5;28mprint\u001b[39m(add(\u001b[38;5;241m1.2\u001b[39m,\u001b[38;5;241m3.4\u001b[39m,\u001b[38;5;241m5\u001b[39m))\n\u001b[0;32m      3\u001b[0m \u001b[38;5;28mprint\u001b[39m(add(\u001b[38;5;241m1\u001b[39m,\u001b[38;5;241m2\u001b[39m,\u001b[38;5;241m3\u001b[39m,\u001b[38;5;241m4\u001b[39m,\u001b[38;5;241m5\u001b[39m,\u001b[38;5;241m6\u001b[39m,\u001b[38;5;241m7\u001b[39m,\u001b[38;5;241m8\u001b[39m,\u001b[38;5;241m9\u001b[39m))\n",
      "\u001b[1;31mNameError\u001b[0m: name 'add' is not defined"
     ]
    }
   ],
   "source": [
    "print(add(1,2))\n",
    "print(add(1.2,3.4,5))\n",
    "print(add(1,2,3,4,5,6,7,8,9))"
   ]
  },
  {
   "cell_type": "code",
   "execution_count": 4,
   "id": "1c46cf17",
   "metadata": {},
   "outputs": [
    {
     "name": "stdout",
     "output_type": "stream",
     "text": [
      "3\n",
      "9.6\n",
      "45\n"
     ]
    }
   ],
   "source": [
    "def add(*args):\n",
    "    return sum(args)\n",
    "print(add(1,2))\n",
    "print(add(1.2,3.4,5))\n",
    "print(add(1,2,3,4,5,6,7,8,9))"
   ]
  },
  {
   "cell_type": "code",
   "execution_count": 5,
   "id": "ee1fed27",
   "metadata": {},
   "outputs": [
    {
     "name": "stdout",
     "output_type": "stream",
     "text": [
      "3\n",
      "9.6\n",
      "45\n"
     ]
    }
   ],
   "source": [
    "def add(a,b=0,*args):\n",
    "    return a+b+sum(args)\n",
    "print(add(1,2))\n",
    "print(add(1.2,3.4,5))\n",
    "print(add(1,2,3,4,5,6,7,8,9))"
   ]
  },
  {
   "cell_type": "code",
   "execution_count": 6,
   "id": "94520982",
   "metadata": {},
   "outputs": [
    {
     "ename": "TypeError",
     "evalue": "add() missing 1 required positional argument: 'z'",
     "output_type": "error",
     "traceback": [
      "\u001b[1;31m---------------------------------------------------------------------------\u001b[0m",
      "\u001b[1;31mTypeError\u001b[0m                                 Traceback (most recent call last)",
      "Cell \u001b[1;32mIn[6], line 5\u001b[0m\n\u001b[0;32m      3\u001b[0m \u001b[38;5;28;01mdef\u001b[39;00m \u001b[38;5;21madd\u001b[39m(x,y,z):\n\u001b[0;32m      4\u001b[0m     \u001b[38;5;28;01mreturn\u001b[39;00m x\u001b[38;5;241m+\u001b[39my\u001b[38;5;241m+\u001b[39mz\n\u001b[1;32m----> 5\u001b[0m \u001b[38;5;28mprint\u001b[39m(add(\u001b[38;5;241m10\u001b[39m,\u001b[38;5;241m20\u001b[39m))\n",
      "\u001b[1;31mTypeError\u001b[0m: add() missing 1 required positional argument: 'z'"
     ]
    }
   ],
   "source": [
    "def add(x,y):\n",
    "    return x+y\n",
    "def add(x,y,z):\n",
    "    return x+y+z\n",
    "print(add(10,20))"
   ]
  },
  {
   "cell_type": "code",
   "execution_count": 7,
   "id": "832ca7f1",
   "metadata": {},
   "outputs": [
    {
     "name": "stdout",
     "output_type": "stream",
     "text": [
      "{'name': 'Jairam', 'email': 'jay@gmail.com', 'phone': None, 'address': None}\n"
     ]
    }
   ],
   "source": [
    "class Emp:\n",
    "    def __init__(self, name, email=None,phone=None,address=None):\n",
    "        self.name=name\n",
    "        self.email=email\n",
    "        self.phone=phone\n",
    "        self.address=address\n",
    "    def get(self):\n",
    "        return self.__dict__\n",
    "jay = Emp(\"Jairam\",\"jay@gmail.com\")\n",
    "print(jay.get())"
   ]
  },
  {
   "cell_type": "code",
   "execution_count": 8,
   "id": "b14926e6",
   "metadata": {},
   "outputs": [
    {
     "data": {
      "text/plain": [
       "{'name': 'Jairam', 'email': 'jay@gmail.com', 'phone': None, 'address': None}"
      ]
     },
     "execution_count": 8,
     "metadata": {},
     "output_type": "execute_result"
    }
   ],
   "source": [
    "jay.__dict__"
   ]
  },
  {
   "cell_type": "code",
   "execution_count": 9,
   "id": "cff7d97d",
   "metadata": {},
   "outputs": [
    {
     "name": "stdout",
     "output_type": "stream",
     "text": [
      "{'name': 'Jairam', 'email': 'jay@gmail.com', 'phone': None, 'address': None}\n",
      "{'name': 'Vedhanvesh', 'email': None, 'phone': None, 'address': None}\n",
      "{'name': 'Sailakshmi', 'email': None, 'phone': '234235325', 'address': None}\n"
     ]
    }
   ],
   "source": [
    "class Emp:\n",
    "    def __init__(self, name, email=None,phone=None,address=None):\n",
    "        self.name=name\n",
    "        self.email=email\n",
    "        self.phone=phone\n",
    "        self.address=address\n",
    "    def get(self):\n",
    "        return self.__dict__\n",
    "jay = Emp(\"Jairam\",\"jay@gmail.com\")\n",
    "print(jay.get())\n",
    "ved = Emp(\"Vedhanvesh\")\n",
    "print(ved.get())\n",
    "sai = Emp(\"Sailakshmi\",phone=\"234235325\")\n",
    "print(sai.get())"
   ]
  },
  {
   "cell_type": "code",
   "execution_count": 10,
   "id": "b36017b2",
   "metadata": {},
   "outputs": [],
   "source": [
    "# operator overloading"
   ]
  },
  {
   "cell_type": "code",
   "execution_count": 11,
   "id": "8717f6e5",
   "metadata": {},
   "outputs": [
    {
     "name": "stdout",
     "output_type": "stream",
     "text": [
      "39\n",
      "4.6\n",
      "abcd\n"
     ]
    }
   ],
   "source": [
    "print(10+29)\n",
    "print(1.2+3.4)\n",
    "print(\"ab\"+\"cd\")"
   ]
  },
  {
   "cell_type": "code",
   "execution_count": 12,
   "id": "863dcfb5",
   "metadata": {},
   "outputs": [
    {
     "name": "stdout",
     "output_type": "stream",
     "text": [
      "10 20\n"
     ]
    }
   ],
   "source": [
    "class Numbers:\n",
    "    def __init__(self, x,y):\n",
    "        self.x=x\n",
    "        self.y=y\n",
    "n=Numbers(10,20)\n",
    "print(n.x,n.y)"
   ]
  },
  {
   "cell_type": "code",
   "execution_count": 13,
   "id": "5f4a97bd",
   "metadata": {},
   "outputs": [
    {
     "ename": "TypeError",
     "evalue": "unsupported operand type(s) for +: 'Numbers' and 'Numbers'",
     "output_type": "error",
     "traceback": [
      "\u001b[1;31m---------------------------------------------------------------------------\u001b[0m",
      "\u001b[1;31mTypeError\u001b[0m                                 Traceback (most recent call last)",
      "Cell \u001b[1;32mIn[13], line 7\u001b[0m\n\u001b[0;32m      5\u001b[0m n\u001b[38;5;241m=\u001b[39mNumbers(\u001b[38;5;241m10\u001b[39m,\u001b[38;5;241m20\u001b[39m)\n\u001b[0;32m      6\u001b[0m n1\u001b[38;5;241m=\u001b[39mNumbers(\u001b[38;5;241m1\u001b[39m,\u001b[38;5;241m2\u001b[39m)\n\u001b[1;32m----> 7\u001b[0m \u001b[38;5;28mprint\u001b[39m(n\u001b[38;5;241m+\u001b[39mn1)\n",
      "\u001b[1;31mTypeError\u001b[0m: unsupported operand type(s) for +: 'Numbers' and 'Numbers'"
     ]
    }
   ],
   "source": [
    "class Numbers:\n",
    "    def __init__(self, x,y):\n",
    "        self.x=x\n",
    "        self.y=y\n",
    "n=Numbers(10,20)\n",
    "n1=Numbers(1,2)\n",
    "print(n+n1)"
   ]
  },
  {
   "cell_type": "code",
   "execution_count": 14,
   "id": "00dc99b0",
   "metadata": {},
   "outputs": [
    {
     "name": "stdout",
     "output_type": "stream",
     "text": [
      "<class '__main__.Numbers'>\n"
     ]
    }
   ],
   "source": [
    "print(type(n))"
   ]
  },
  {
   "cell_type": "code",
   "execution_count": 15,
   "id": "30da82bb",
   "metadata": {},
   "outputs": [
    {
     "name": "stdout",
     "output_type": "stream",
     "text": [
      "30\n",
      "<class 'int'>\n"
     ]
    }
   ],
   "source": [
    "a=10\n",
    "b=20\n",
    "print(a+b)\n",
    "print(type(a))"
   ]
  },
  {
   "cell_type": "code",
   "execution_count": 16,
   "id": "02efb5de",
   "metadata": {},
   "outputs": [
    {
     "name": "stdout",
     "output_type": "stream",
     "text": [
      "14\n"
     ]
    }
   ],
   "source": [
    "class Numbers:\n",
    "    def __init__(self, x,y):\n",
    "        self.x=x\n",
    "        self.y=y\n",
    "    def __add__(self1,self2):\n",
    "        return 14\n",
    "        \n",
    "n=Numbers(10,20)\n",
    "n1=Numbers(1,2)\n",
    "print(n+n1)#n.__add__(n1)#Numbers.__add__(n,n1)"
   ]
  },
  {
   "cell_type": "code",
   "execution_count": 17,
   "id": "67a050ac",
   "metadata": {},
   "outputs": [
    {
     "name": "stdout",
     "output_type": "stream",
     "text": [
      "(11, 22)\n"
     ]
    }
   ],
   "source": [
    "class Numbers:\n",
    "    def __init__(self, x,y):\n",
    "        self.x=x\n",
    "        self.y=y\n",
    "    def __add__(self1,self2):\n",
    "        return self1.x+self2.x, self1.y+self2.y\n",
    "        \n",
    "n=Numbers(10,20)\n",
    "n1=Numbers(1,2)\n",
    "print(n+n1)#n.__add__(n1)#Numbers.__add__(n,n1)"
   ]
  },
  {
   "cell_type": "code",
   "execution_count": 18,
   "id": "1040b652",
   "metadata": {},
   "outputs": [
    {
     "ename": "TypeError",
     "evalue": "can only concatenate tuple (not \"Numbers\") to tuple",
     "output_type": "error",
     "traceback": [
      "\u001b[1;31m---------------------------------------------------------------------------\u001b[0m",
      "\u001b[1;31mTypeError\u001b[0m                                 Traceback (most recent call last)",
      "Cell \u001b[1;32mIn[18], line 11\u001b[0m\n\u001b[0;32m      9\u001b[0m n1\u001b[38;5;241m=\u001b[39mNumbers(\u001b[38;5;241m1\u001b[39m,\u001b[38;5;241m2\u001b[39m)\n\u001b[0;32m     10\u001b[0m n2\u001b[38;5;241m=\u001b[39mNumbers(\u001b[38;5;241m3\u001b[39m,\u001b[38;5;241m4\u001b[39m)\n\u001b[1;32m---> 11\u001b[0m \u001b[38;5;28mprint\u001b[39m(n\u001b[38;5;241m+\u001b[39mn1\u001b[38;5;241m+\u001b[39mn2)\n",
      "\u001b[1;31mTypeError\u001b[0m: can only concatenate tuple (not \"Numbers\") to tuple"
     ]
    }
   ],
   "source": [
    "class Numbers:\n",
    "    def __init__(self, x,y):\n",
    "        self.x=x\n",
    "        self.y=y\n",
    "    def __add__(self1,self2):\n",
    "        return self1.x+self2.x, self1.y+self2.y\n",
    "        \n",
    "n=Numbers(10,20)\n",
    "n1=Numbers(1,2)\n",
    "n2=Numbers(3,4)\n",
    "print(n+n1+n2)#(11,22)+n2"
   ]
  },
  {
   "cell_type": "code",
   "execution_count": 19,
   "id": "c4781a76",
   "metadata": {},
   "outputs": [
    {
     "name": "stdout",
     "output_type": "stream",
     "text": [
      "30\n"
     ]
    }
   ],
   "source": [
    "a=10\n",
    "b=20\n",
    "print(a+b)"
   ]
  },
  {
   "cell_type": "code",
   "execution_count": 20,
   "id": "2afab013",
   "metadata": {},
   "outputs": [
    {
     "data": {
      "text/plain": [
       "[1, 2, 3, 4]"
      ]
     },
     "execution_count": 20,
     "metadata": {},
     "output_type": "execute_result"
    }
   ],
   "source": [
    "a=[1,2]\n",
    "b=[3,4]\n",
    "a+b"
   ]
  },
  {
   "cell_type": "code",
   "execution_count": 21,
   "id": "344a8b46",
   "metadata": {},
   "outputs": [
    {
     "data": {
      "text/plain": [
       "'atr1str2'"
      ]
     },
     "execution_count": 21,
     "metadata": {},
     "output_type": "execute_result"
    }
   ],
   "source": [
    "a=\"atr1\"\n",
    "b=\"str2\"\n",
    "a+b"
   ]
  },
  {
   "cell_type": "code",
   "execution_count": null,
   "id": "db3375c3",
   "metadata": {},
   "outputs": [],
   "source": [
    "class Numbers:\n",
    "    def __init__(self, x,y):\n",
    "        self.x=x\n",
    "        self.y=y\n",
    "    def __add__(self1,self2):\n",
    "        \n",
    "        return self1.x+self2.x, self1.y+self2.y\n",
    "        \n",
    "n=Numbers(10,20)\n",
    "n1=Numbers(1,2)\n",
    "n2=Numbers(3,4)\n",
    "print(n+n1+n2)#(11,22)+n2"
   ]
  },
  {
   "cell_type": "code",
   "execution_count": 22,
   "id": "79040a45",
   "metadata": {},
   "outputs": [
    {
     "data": {
      "text/plain": [
       "__main__.Numbers"
      ]
     },
     "execution_count": 22,
     "metadata": {},
     "output_type": "execute_result"
    }
   ],
   "source": [
    "n.__class__"
   ]
  },
  {
   "cell_type": "code",
   "execution_count": 23,
   "id": "3ce0b8cd",
   "metadata": {},
   "outputs": [
    {
     "name": "stdout",
     "output_type": "stream",
     "text": [
      "<__main__.Numbers object at 0x000001AD30474110>\n"
     ]
    }
   ],
   "source": [
    "class Numbers:\n",
    "    def __init__(self, x,y):\n",
    "        self.x=x\n",
    "        self.y=y\n",
    "    def __add__(self1,self2):\n",
    "        new_inst = self1.__class__(self1.x+self2.x, self1.y+self2.y)\n",
    "        return new_inst\n",
    "        \n",
    "n=Numbers(10,20)\n",
    "n1=Numbers(1,2)\n",
    "n2=Numbers(3,4)\n",
    "print(n+n1+n2)#Numbers(11,22)+n2"
   ]
  },
  {
   "cell_type": "code",
   "execution_count": 24,
   "id": "09b3651d",
   "metadata": {},
   "outputs": [
    {
     "name": "stdout",
     "output_type": "stream",
     "text": [
      "<class '__main__.Numbers'> 14 26\n"
     ]
    }
   ],
   "source": [
    "class Numbers:\n",
    "    def __init__(self, x,y):\n",
    "        self.x=x\n",
    "        self.y=y\n",
    "    def __add__(self1,self2):\n",
    "        new_inst = self1.__class__(self1.x+self2.x, self1.y+self2.y)\n",
    "        return new_inst\n",
    "        \n",
    "n=Numbers(10,20)\n",
    "n1=Numbers(1,2)\n",
    "n2=Numbers(3,4)\n",
    "n3 = n+n1+n2\n",
    "print(type(n3), n3.x, n3.y)"
   ]
  },
  {
   "cell_type": "code",
   "execution_count": null,
   "id": "68bd0300",
   "metadata": {},
   "outputs": [],
   "source": [
    "#__mul__, __div__, __sub__"
   ]
  },
  {
   "cell_type": "code",
   "execution_count": 25,
   "id": "73029b1f",
   "metadata": {},
   "outputs": [
    {
     "name": "stdout",
     "output_type": "stream",
     "text": [
      "<__main__.Numbers object at 0x000001AD30450990>\n",
      "<__main__.Numbers object at 0x000001AD30477310>\n",
      "<__main__.Numbers object at 0x000001AD30453FD0>\n"
     ]
    }
   ],
   "source": [
    "class Numbers:\n",
    "    def __init__(self, x,y):\n",
    "        self.x=x\n",
    "        self.y=y\n",
    "    def __add__(self1,self2):\n",
    "        new_inst = self1.__class__(self1.x+self2.x, self1.y+self2.y)\n",
    "        return new_inst\n",
    "        \n",
    "n=Numbers(10,20)\n",
    "n1=Numbers(1,2)\n",
    "n2=Numbers(3,4)\n",
    "for i in [n,n1,n2]:\n",
    "    print(i)"
   ]
  },
  {
   "cell_type": "code",
   "execution_count": 26,
   "id": "d7866758",
   "metadata": {},
   "outputs": [
    {
     "ename": "TypeError",
     "evalue": "'Numbers' object is not iterable",
     "output_type": "error",
     "traceback": [
      "\u001b[1;31m---------------------------------------------------------------------------\u001b[0m",
      "\u001b[1;31mTypeError\u001b[0m                                 Traceback (most recent call last)",
      "Cell \u001b[1;32mIn[26], line 12\u001b[0m\n\u001b[0;32m     10\u001b[0m n1\u001b[38;5;241m=\u001b[39mNumbers(\u001b[38;5;241m1\u001b[39m,\u001b[38;5;241m2\u001b[39m)\n\u001b[0;32m     11\u001b[0m n2\u001b[38;5;241m=\u001b[39mNumbers(\u001b[38;5;241m3\u001b[39m,\u001b[38;5;241m4\u001b[39m)\n\u001b[1;32m---> 12\u001b[0m \u001b[38;5;28;01mfor\u001b[39;00m i \u001b[38;5;129;01min\u001b[39;00m n:\n\u001b[0;32m     13\u001b[0m     \u001b[38;5;28mprint\u001b[39m(i)\n",
      "\u001b[1;31mTypeError\u001b[0m: 'Numbers' object is not iterable"
     ]
    }
   ],
   "source": [
    "class Numbers:\n",
    "    def __init__(self, x,y):\n",
    "        self.x=x\n",
    "        self.y=y\n",
    "    def __add__(self1,self2):\n",
    "        new_inst = self1.__class__(self1.x+self2.x, self1.y+self2.y)\n",
    "        return new_inst\n",
    "        \n",
    "n=Numbers(10,20)\n",
    "n1=Numbers(1,2)\n",
    "n2=Numbers(3,4)\n",
    "for i in n:\n",
    "    print(i)"
   ]
  },
  {
   "cell_type": "code",
   "execution_count": 27,
   "id": "cd6b723f",
   "metadata": {},
   "outputs": [
    {
     "ename": "TypeError",
     "evalue": "'int' object is not iterable",
     "output_type": "error",
     "traceback": [
      "\u001b[1;31m---------------------------------------------------------------------------\u001b[0m",
      "\u001b[1;31mTypeError\u001b[0m                                 Traceback (most recent call last)",
      "Cell \u001b[1;32mIn[27], line 1\u001b[0m\n\u001b[1;32m----> 1\u001b[0m \u001b[38;5;28;01mfor\u001b[39;00m i \u001b[38;5;129;01min\u001b[39;00m \u001b[38;5;241m10\u001b[39m:\n\u001b[0;32m      2\u001b[0m     \u001b[38;5;28mprint\u001b[39m(i)\n",
      "\u001b[1;31mTypeError\u001b[0m: 'int' object is not iterable"
     ]
    }
   ],
   "source": [
    "for i in 10:\n",
    "    print(i)"
   ]
  },
  {
   "cell_type": "code",
   "execution_count": 28,
   "id": "7cc0ff9a",
   "metadata": {},
   "outputs": [
    {
     "name": "stdout",
     "output_type": "stream",
     "text": [
      "1\n",
      "0\n"
     ]
    }
   ],
   "source": [
    "for i in '10':\n",
    "    print(i)"
   ]
  },
  {
   "cell_type": "code",
   "execution_count": 29,
   "id": "a8edc65b",
   "metadata": {},
   "outputs": [
    {
     "name": "stdout",
     "output_type": "stream",
     "text": [
      "x\n",
      "y\n"
     ]
    }
   ],
   "source": [
    "class Numbers:\n",
    "    def __init__(self, x,y):\n",
    "        self.x=x\n",
    "        self.y=y\n",
    "    def __add__(self1,self2):\n",
    "        new_inst = self1.__class__(self1.x+self2.x, self1.y+self2.y)\n",
    "        return new_inst\n",
    "        \n",
    "n=Numbers(10,20)\n",
    "n1=Numbers(1,2)\n",
    "n2=Numbers(3,4)\n",
    "for i in n.__dict__:\n",
    "    print(i)"
   ]
  },
  {
   "cell_type": "code",
   "execution_count": 30,
   "id": "2e1ab4ee",
   "metadata": {},
   "outputs": [
    {
     "name": "stdout",
     "output_type": "stream",
     "text": [
      "10\n",
      "20\n"
     ]
    }
   ],
   "source": [
    "class Numbers:\n",
    "    def __init__(self, x,y):\n",
    "        self.x=x\n",
    "        self.y=y\n",
    "    def __add__(self1,self2):\n",
    "        new_inst = self1.__class__(self1.x+self2.x, self1.y+self2.y)\n",
    "        return new_inst\n",
    "        \n",
    "n=Numbers(10,20)\n",
    "n1=Numbers(1,2)\n",
    "n2=Numbers(3,4)\n",
    "for i in n.__dict__.values():\n",
    "    print(i)"
   ]
  },
  {
   "cell_type": "code",
   "execution_count": 31,
   "id": "0a134abd",
   "metadata": {},
   "outputs": [
    {
     "ename": "TypeError",
     "evalue": "'Numbers' object is not iterable",
     "output_type": "error",
     "traceback": [
      "\u001b[1;31m---------------------------------------------------------------------------\u001b[0m",
      "\u001b[1;31mTypeError\u001b[0m                                 Traceback (most recent call last)",
      "Cell \u001b[1;32mIn[31], line 12\u001b[0m\n\u001b[0;32m     10\u001b[0m n1\u001b[38;5;241m=\u001b[39mNumbers(\u001b[38;5;241m1\u001b[39m,\u001b[38;5;241m2\u001b[39m)\n\u001b[0;32m     11\u001b[0m n2\u001b[38;5;241m=\u001b[39mNumbers(\u001b[38;5;241m3\u001b[39m,\u001b[38;5;241m4\u001b[39m)\n\u001b[1;32m---> 12\u001b[0m \u001b[38;5;28;01mfor\u001b[39;00m i \u001b[38;5;129;01min\u001b[39;00m n:\n\u001b[0;32m     13\u001b[0m     \u001b[38;5;28mprint\u001b[39m(i)\n",
      "\u001b[1;31mTypeError\u001b[0m: 'Numbers' object is not iterable"
     ]
    }
   ],
   "source": [
    "class Numbers:\n",
    "    def __init__(self, x,y):\n",
    "        self.x=x\n",
    "        self.y=y\n",
    "    def __add__(self1,self2):\n",
    "        new_inst = self1.__class__(self1.x+self2.x, self1.y+self2.y)\n",
    "        return new_inst\n",
    "        \n",
    "n=Numbers(10,20)\n",
    "n1=Numbers(1,2)\n",
    "n2=Numbers(3,4)\n",
    "for i in n:#next(n)\n",
    "    print(i)"
   ]
  },
  {
   "cell_type": "code",
   "execution_count": 32,
   "id": "ddba2d88",
   "metadata": {},
   "outputs": [
    {
     "name": "stdout",
     "output_type": "stream",
     "text": [
      "1\n",
      "iteration started\n",
      "1000\n",
      "iteration ended\n",
      "2\n",
      "iteration started\n",
      "2000\n",
      "iteration ended\n"
     ]
    }
   ],
   "source": [
    "class Numbers:\n",
    "    def __init__(self, x,y):\n",
    "        self.x=x\n",
    "        self.y=y\n",
    "    def __add__(self1,self2):\n",
    "        new_inst = self1.__class__(self1.x+self2.x, self1.y+self2.y)\n",
    "        return new_inst\n",
    "    def __iter__(self):\n",
    "        print(\"1\")\n",
    "        yield 1000\n",
    "        print(\"2\")\n",
    "        yield 2000\n",
    "        \n",
    "n=Numbers(10,20)\n",
    "n1=Numbers(1,2)\n",
    "n2=Numbers(3,4)\n",
    "for i in n:#next(n_generator)\n",
    "    print(\"iteration started\")\n",
    "    print(i)\n",
    "    print(\"iteration ended\")"
   ]
  },
  {
   "cell_type": "code",
   "execution_count": 33,
   "id": "86563350",
   "metadata": {},
   "outputs": [
    {
     "name": "stdout",
     "output_type": "stream",
     "text": [
      "iteration started\n",
      "10\n",
      "iteration ended\n",
      "iteration started\n",
      "20\n",
      "iteration ended\n"
     ]
    }
   ],
   "source": [
    "class Numbers:\n",
    "    def __init__(self, x,y):\n",
    "        self.x=x\n",
    "        self.y=y\n",
    "    def __add__(self1,self2):\n",
    "        new_inst = self1.__class__(self1.x+self2.x, self1.y+self2.y)\n",
    "        return new_inst\n",
    "    def __iter__(self):\n",
    "        for i in self.__dict__.values():\n",
    "            yield i\n",
    "            \n",
    "n=Numbers(10,20)\n",
    "n1=Numbers(1,2)\n",
    "n2=Numbers(3,4)\n",
    "for i in n:#next(n_generator)\n",
    "    print(\"iteration started\")\n",
    "    print(i)\n",
    "    print(\"iteration ended\")"
   ]
  },
  {
   "cell_type": "code",
   "execution_count": 35,
   "id": "58382f62",
   "metadata": {},
   "outputs": [],
   "source": [
    "from decimal import Decimal"
   ]
  },
  {
   "cell_type": "code",
   "execution_count": 36,
   "id": "5465547e",
   "metadata": {},
   "outputs": [
    {
     "name": "stdout",
     "output_type": "stream",
     "text": [
      "22.57000000000000028421709430\n"
     ]
    }
   ],
   "source": [
    "a=Decimal(10.23)\n",
    "b=Decimal(12.34)\n",
    "print(a+b)"
   ]
  },
  {
   "cell_type": "code",
   "execution_count": 37,
   "id": "091d57db",
   "metadata": {},
   "outputs": [],
   "source": [
    "Decimal?"
   ]
  },
  {
   "cell_type": "code",
   "execution_count": 38,
   "id": "b23db262",
   "metadata": {},
   "outputs": [
    {
     "name": "stdout",
     "output_type": "stream",
     "text": [
      "22.57\n"
     ]
    }
   ],
   "source": [
    "a=Decimal(\"10.23\")\n",
    "b=Decimal(\"12.34\")\n",
    "print(a+b)"
   ]
  },
  {
   "cell_type": "code",
   "execution_count": 39,
   "id": "5ab5a210",
   "metadata": {},
   "outputs": [
    {
     "data": {
      "text/plain": [
       "22.57"
      ]
     },
     "execution_count": 39,
     "metadata": {},
     "output_type": "execute_result"
    }
   ],
   "source": [
    "10.23+12.34"
   ]
  },
  {
   "cell_type": "code",
   "execution_count": 40,
   "id": "b2bab204",
   "metadata": {},
   "outputs": [
    {
     "name": "stdout",
     "output_type": "stream",
     "text": [
      "4.6567\n"
     ]
    }
   ],
   "source": [
    "print(1.2+3.4567)"
   ]
  },
  {
   "cell_type": "code",
   "execution_count": 41,
   "id": "8629fced",
   "metadata": {},
   "outputs": [
    {
     "name": "stdout",
     "output_type": "stream",
     "text": [
      "4.08\n",
      "4.6\n"
     ]
    }
   ],
   "source": [
    "a=float(1.2)\n",
    "b=float(3.4)\n",
    "print(a*b)\n",
    "print(a+b)"
   ]
  },
  {
   "cell_type": "code",
   "execution_count": 42,
   "id": "98905274",
   "metadata": {},
   "outputs": [
    {
     "name": "stdout",
     "output_type": "stream",
     "text": [
      "12.35\n"
     ]
    }
   ],
   "source": [
    "a=12.3454656\n",
    "print(round(a,2))"
   ]
  },
  {
   "cell_type": "code",
   "execution_count": 43,
   "id": "4330c040",
   "metadata": {},
   "outputs": [
    {
     "name": "stdout",
     "output_type": "stream",
     "text": [
      "True\n"
     ]
    }
   ],
   "source": [
    "class Numbers:\n",
    "    def __init__(self, x,y):\n",
    "        self.x=x\n",
    "        self.y=y\n",
    "    def __add__(self1,self2):\n",
    "        new_inst = self1.__class__(self1.x+self2.x, self1.y+self2.y)\n",
    "        return new_inst\n",
    "    def __iter__(self):\n",
    "        for i in self.__dict__.values():\n",
    "            yield i\n",
    "            \n",
    "n=Numbers(10,20)\n",
    "print(10 in n)"
   ]
  },
  {
   "cell_type": "code",
   "execution_count": 44,
   "id": "2869d069",
   "metadata": {},
   "outputs": [
    {
     "name": "stdout",
     "output_type": "stream",
     "text": [
      "False\n"
     ]
    }
   ],
   "source": [
    "class Numbers:\n",
    "    def __init__(self, x,y):\n",
    "        self.x=x\n",
    "        self.y=y\n",
    "    def __add__(self1,self2):\n",
    "        new_inst = self1.__class__(self1.x+self2.x, self1.y+self2.y)\n",
    "        return new_inst\n",
    "    def __iter__(self):\n",
    "        for i in self.__dict__.values():\n",
    "            yield i\n",
    "            \n",
    "n=Numbers(10,20)\n",
    "print(100 in n)"
   ]
  },
  {
   "cell_type": "code",
   "execution_count": 45,
   "id": "78a9b853",
   "metadata": {},
   "outputs": [
    {
     "ename": "TypeError",
     "evalue": "argument of type 'Numbers' is not iterable",
     "output_type": "error",
     "traceback": [
      "\u001b[1;31m---------------------------------------------------------------------------\u001b[0m",
      "\u001b[1;31mTypeError\u001b[0m                                 Traceback (most recent call last)",
      "Cell \u001b[1;32mIn[45], line 13\u001b[0m\n\u001b[0;32m      8\u001b[0m \u001b[38;5;66;03m#     def __iter__(self):\u001b[39;00m\n\u001b[0;32m      9\u001b[0m \u001b[38;5;66;03m#         for i in self.__dict__.values():\u001b[39;00m\n\u001b[0;32m     10\u001b[0m \u001b[38;5;66;03m#             yield i\u001b[39;00m\n\u001b[0;32m     12\u001b[0m n\u001b[38;5;241m=\u001b[39mNumbers(\u001b[38;5;241m10\u001b[39m,\u001b[38;5;241m20\u001b[39m)\n\u001b[1;32m---> 13\u001b[0m \u001b[38;5;28mprint\u001b[39m(\u001b[38;5;241m100\u001b[39m \u001b[38;5;129;01min\u001b[39;00m n)\n",
      "\u001b[1;31mTypeError\u001b[0m: argument of type 'Numbers' is not iterable"
     ]
    }
   ],
   "source": [
    "class Numbers:\n",
    "    def __init__(self, x,y):\n",
    "        self.x=x\n",
    "        self.y=y\n",
    "    def __add__(self1,self2):\n",
    "        new_inst = self1.__class__(self1.x+self2.x, self1.y+self2.y)\n",
    "        return new_inst\n",
    "#     def __iter__(self):\n",
    "#         for i in self.__dict__.values():\n",
    "#             yield i\n",
    "            \n",
    "n=Numbers(10,20)\n",
    "print(100 in n)"
   ]
  },
  {
   "cell_type": "code",
   "execution_count": 46,
   "id": "a53f438f",
   "metadata": {},
   "outputs": [
    {
     "ename": "TypeError",
     "evalue": "argument of type 'Numbers' is not iterable",
     "output_type": "error",
     "traceback": [
      "\u001b[1;31m---------------------------------------------------------------------------\u001b[0m",
      "\u001b[1;31mTypeError\u001b[0m                                 Traceback (most recent call last)",
      "Cell \u001b[1;32mIn[46], line 13\u001b[0m\n\u001b[0;32m      8\u001b[0m \u001b[38;5;66;03m#     def __iter__(self):\u001b[39;00m\n\u001b[0;32m      9\u001b[0m \u001b[38;5;66;03m#         for i in self.__dict__.values():\u001b[39;00m\n\u001b[0;32m     10\u001b[0m \u001b[38;5;66;03m#             yield i\u001b[39;00m\n\u001b[0;32m     12\u001b[0m n\u001b[38;5;241m=\u001b[39mNumbers(\u001b[38;5;241m10\u001b[39m,\u001b[38;5;241m20\u001b[39m)\n\u001b[1;32m---> 13\u001b[0m \u001b[38;5;28mprint\u001b[39m(\u001b[38;5;241m100\u001b[39m \u001b[38;5;129;01min\u001b[39;00m n)\n",
      "\u001b[1;31mTypeError\u001b[0m: argument of type 'Numbers' is not iterable"
     ]
    }
   ],
   "source": [
    "class Numbers:\n",
    "    def __init__(self, x,y):\n",
    "        self.x=x\n",
    "        self.y=y\n",
    "    def __add__(self1,self2):\n",
    "        new_inst = self1.__class__(self1.x+self2.x, self1.y+self2.y)\n",
    "        return new_inst\n",
    "#     def __iter__(self):\n",
    "#         for i in self.__dict__.values():\n",
    "#             yield i\n",
    "            \n",
    "n=Numbers(10,20)\n",
    "print(100 in n)"
   ]
  },
  {
   "cell_type": "code",
   "execution_count": 47,
   "id": "485e80fa",
   "metadata": {},
   "outputs": [
    {
     "name": "stdout",
     "output_type": "stream",
     "text": [
      "False\n"
     ]
    }
   ],
   "source": [
    "class Numbers:\n",
    "    def __init__(self, x,y):\n",
    "        self.x=x\n",
    "        self.y=y\n",
    "        \n",
    "    def __contains__(self, value):\n",
    "        return False\n",
    "    def __add__(self1,self2):\n",
    "        new_inst = self1.__class__(self1.x+self2.x, self1.y+self2.y)\n",
    "        return new_inst\n",
    "#     def __iter__(self):\n",
    "#         for i in self.__dict__.values():\n",
    "#             yield i\n",
    "            \n",
    "n=Numbers(10,20)\n",
    "print(100 in n)"
   ]
  },
  {
   "cell_type": "code",
   "execution_count": 48,
   "id": "251b6f4a",
   "metadata": {},
   "outputs": [
    {
     "name": "stdout",
     "output_type": "stream",
     "text": [
      "False\n"
     ]
    }
   ],
   "source": [
    "class Numbers:\n",
    "    def __init__(self, x,y):\n",
    "        self.x=x\n",
    "        self.y=y\n",
    "        \n",
    "    def __contains__(self, value):\n",
    "        return False\n",
    "    def __add__(self1,self2):\n",
    "        new_inst = self1.__class__(self1.x+self2.x, self1.y+self2.y)\n",
    "        return new_inst\n",
    "#     def __iter__(self):\n",
    "#         for i in self.__dict__.values():\n",
    "#             yield i\n",
    "            \n",
    "n=Numbers(10,20)\n",
    "print(10 in n)"
   ]
  },
  {
   "cell_type": "code",
   "execution_count": 49,
   "id": "b6792d24",
   "metadata": {},
   "outputs": [
    {
     "name": "stdout",
     "output_type": "stream",
     "text": [
      "True\n"
     ]
    }
   ],
   "source": [
    "class Numbers:\n",
    "    def __init__(self, x,y):\n",
    "        self.x=x\n",
    "        self.y=y\n",
    "        \n",
    "    def __contains__(self, value):\n",
    "        return value in self.__dict__.values()\n",
    "    def __add__(self1,self2):\n",
    "        new_inst = self1.__class__(self1.x+self2.x, self1.y+self2.y)\n",
    "        return new_inst\n",
    "#     def __iter__(self):\n",
    "#         for i in self.__dict__.values():\n",
    "#             yield i\n",
    "            \n",
    "n=Numbers(10,20)\n",
    "print(10 in n)"
   ]
  },
  {
   "cell_type": "code",
   "execution_count": 50,
   "id": "e264b200",
   "metadata": {},
   "outputs": [
    {
     "name": "stdout",
     "output_type": "stream",
     "text": [
      "False\n"
     ]
    }
   ],
   "source": [
    "class Numbers:\n",
    "    def __init__(self, x,y):\n",
    "        self.x=x\n",
    "        self.y=y\n",
    "        \n",
    "    def __contains__(self, value):\n",
    "        return value in self.__dict__.values()\n",
    "    def __add__(self1,self2):\n",
    "        new_inst = self1.__class__(self1.x+self2.x, self1.y+self2.y)\n",
    "        return new_inst\n",
    "#     def __iter__(self):\n",
    "#         for i in self.__dict__.values():\n",
    "#             yield i\n",
    "            \n",
    "n=Numbers(10,20)\n",
    "print(100 in n)"
   ]
  },
  {
   "cell_type": "code",
   "execution_count": 51,
   "id": "0a834767",
   "metadata": {},
   "outputs": [],
   "source": [
    "#secured attributes"
   ]
  },
  {
   "cell_type": "code",
   "execution_count": 52,
   "id": "4510b48c",
   "metadata": {},
   "outputs": [
    {
     "ename": "AttributeError",
     "evalue": "'Emp' object has no attribute '__email'",
     "output_type": "error",
     "traceback": [
      "\u001b[1;31m---------------------------------------------------------------------------\u001b[0m",
      "\u001b[1;31mAttributeError\u001b[0m                            Traceback (most recent call last)",
      "Cell \u001b[1;32mIn[52], line 9\u001b[0m\n\u001b[0;32m      7\u001b[0m         \u001b[38;5;28;01mreturn\u001b[39;00m \u001b[38;5;28mself\u001b[39m\u001b[38;5;241m.\u001b[39m__email\n\u001b[0;32m      8\u001b[0m jay \u001b[38;5;241m=\u001b[39m Emp(\u001b[38;5;124m\"\u001b[39m\u001b[38;5;124mjairam\u001b[39m\u001b[38;5;124m\"\u001b[39m,\u001b[38;5;124m\"\u001b[39m\u001b[38;5;124mjay@gmail.com\u001b[39m\u001b[38;5;124m\"\u001b[39m)\n\u001b[1;32m----> 9\u001b[0m \u001b[38;5;28mprint\u001b[39m(jay\u001b[38;5;241m.\u001b[39m__email)\n",
      "\u001b[1;31mAttributeError\u001b[0m: 'Emp' object has no attribute '__email'"
     ]
    }
   ],
   "source": [
    "class Emp:\n",
    "    def __init__(self,name,email):\n",
    "        self.name=name\n",
    "        self.__email=email\n",
    "        \n",
    "    def get_email(self):\n",
    "        return self.__email\n",
    "jay = Emp(\"jairam\",\"jay@gmail.com\")\n",
    "print(jay.__email)"
   ]
  },
  {
   "cell_type": "code",
   "execution_count": 53,
   "id": "6727b5e2",
   "metadata": {},
   "outputs": [
    {
     "name": "stdout",
     "output_type": "stream",
     "text": [
      "['_Emp__email', '__class__', '__delattr__', '__dict__', '__dir__', '__doc__', '__eq__', '__format__', '__ge__', '__getattribute__', '__getstate__', '__gt__', '__hash__', '__init__', '__init_subclass__', '__le__', '__lt__', '__module__', '__ne__', '__new__', '__reduce__', '__reduce_ex__', '__repr__', '__setattr__', '__sizeof__', '__str__', '__subclasshook__', '__weakref__', 'get_email', 'name']\n"
     ]
    }
   ],
   "source": [
    "print(dir(jay))"
   ]
  },
  {
   "cell_type": "code",
   "execution_count": 55,
   "id": "dd4627e6",
   "metadata": {},
   "outputs": [
    {
     "ename": "AttributeError",
     "evalue": "'Emp' object has no attribute '__email'",
     "output_type": "error",
     "traceback": [
      "\u001b[1;31m---------------------------------------------------------------------------\u001b[0m",
      "\u001b[1;31mAttributeError\u001b[0m                            Traceback (most recent call last)",
      "Cell \u001b[1;32mIn[55], line 11\u001b[0m\n\u001b[0;32m      9\u001b[0m         \u001b[38;5;28;01mreturn\u001b[39;00m \u001b[38;5;28mself\u001b[39m\u001b[38;5;241m.\u001b[39m__email\n\u001b[0;32m     10\u001b[0m jay \u001b[38;5;241m=\u001b[39m Emp(\u001b[38;5;124m\"\u001b[39m\u001b[38;5;124mjairam\u001b[39m\u001b[38;5;124m\"\u001b[39m,\u001b[38;5;124m\"\u001b[39m\u001b[38;5;124mjay@gmail.com\u001b[39m\u001b[38;5;124m\"\u001b[39m)\n\u001b[1;32m---> 11\u001b[0m \u001b[38;5;28mprint\u001b[39m(jay\u001b[38;5;241m.\u001b[39m__email)\n",
      "\u001b[1;31mAttributeError\u001b[0m: 'Emp' object has no attribute '__email'"
     ]
    }
   ],
   "source": [
    "enc_trans = \"\".maketrans(\"abcdefgh\",\"!@#$%^&*\")\n",
    "dec_trans = \"\".maketrans(\"!@#$%^&*\",\"abcdefgh\")\n",
    "class Emp:\n",
    "    def __init__(self,name,email):\n",
    "        self.name=name\n",
    "        self.__email=email#\n",
    "        \n",
    "    def get_email(self):\n",
    "        # authorization \n",
    "        return self.__email\n",
    "jay = Emp(\"jairam\",\"jay@gmail.com\")\n",
    "print(jay.__email)"
   ]
  },
  {
   "cell_type": "code",
   "execution_count": 56,
   "id": "a39dcb47",
   "metadata": {},
   "outputs": [
    {
     "name": "stdout",
     "output_type": "stream",
     "text": [
      "jay@gmail.com\n"
     ]
    }
   ],
   "source": [
    "enc_trans = \"\".maketrans(\"abcdefgh\",\"!@#$%^&*\")\n",
    "dec_trans = \"\".maketrans(\"!@#$%^&*\",\"abcdefgh\")\n",
    "class Emp:\n",
    "    def __init__(self,name,email):\n",
    "        self.name=name\n",
    "        self.email=email\n",
    "      \n",
    "jay = Emp(\"jairam\",\"jay@gmail.com\")\n",
    "print(jay.email)"
   ]
  },
  {
   "cell_type": "code",
   "execution_count": 57,
   "id": "1b0b145e",
   "metadata": {},
   "outputs": [
    {
     "name": "stdout",
     "output_type": "stream",
     "text": [
      "jay@gmail.com\n"
     ]
    }
   ],
   "source": [
    "enc_trans = \"\".maketrans(\"abcdefgh\",\"!@#$%^&*\")\n",
    "dec_trans = \"\".maketrans(\"!@#$%^&*\",\"abcdefgh\")\n",
    "class Emp:\n",
    "    def __init__(self,name,email):\n",
    "        self.name=name\n",
    "        self.email=email\n",
    "    def __getattr__(self, attr):\n",
    "        return 200\n",
    "        \n",
    "jay = Emp(\"jairam\",\"jay@gmail.com\")\n",
    "print(jay.email)#Emp.__getattr__(jay, \"email\")"
   ]
  },
  {
   "cell_type": "code",
   "execution_count": 60,
   "id": "fc936144",
   "metadata": {},
   "outputs": [
    {
     "name": "stdout",
     "output_type": "stream",
     "text": [
      "200\n"
     ]
    }
   ],
   "source": [
    "enc_trans = \"\".maketrans(\"abcdefgh\",\"!@#$%^&*\")\n",
    "dec_trans = \"\".maketrans(\"!@#$%^&*\",\"abcdefgh\")\n",
    "class Emp:\n",
    "    def __init__(self,name,email):\n",
    "        self.name=name\n",
    "        self.email=email\n",
    "    def __getattribute__(self, attr):\n",
    "        return 200\n",
    "        \n",
    "jay = Emp(\"jairam\",\"jay@gmail.com\")\n",
    "print(jay.email)#Emp.__getattr__(jay, \"email\")"
   ]
  },
  {
   "cell_type": "code",
   "execution_count": 59,
   "id": "51c23752",
   "metadata": {},
   "outputs": [
    {
     "name": "stdout",
     "output_type": "stream",
     "text": [
      "['__add__', '__class__', '__contains__', '__delattr__', '__dir__', '__doc__', '__eq__', '__format__', '__ge__', '__getattribute__', '__getitem__', '__getnewargs__', '__getstate__', '__gt__', '__hash__', '__init__', '__init_subclass__', '__iter__', '__le__', '__len__', '__lt__', '__mod__', '__mul__', '__ne__', '__new__', '__reduce__', '__reduce_ex__', '__repr__', '__rmod__', '__rmul__', '__setattr__', '__sizeof__', '__str__', '__subclasshook__', 'capitalize', 'casefold', 'center', 'count', 'encode', 'endswith', 'expandtabs', 'find', 'format', 'format_map', 'index', 'isalnum', 'isalpha', 'isascii', 'isdecimal', 'isdigit', 'isidentifier', 'islower', 'isnumeric', 'isprintable', 'isspace', 'istitle', 'isupper', 'join', 'ljust', 'lower', 'lstrip', 'maketrans', 'partition', 'removeprefix', 'removesuffix', 'replace', 'rfind', 'rindex', 'rjust', 'rpartition', 'rsplit', 'rstrip', 'split', 'splitlines', 'startswith', 'strip', 'swapcase', 'title', 'translate', 'upper', 'zfill']\n"
     ]
    }
   ],
   "source": [
    "a=\"sdf\"\n",
    "print(dir(a))"
   ]
  },
  {
   "cell_type": "code",
   "execution_count": 61,
   "id": "c165288f",
   "metadata": {},
   "outputs": [
    {
     "name": "stdout",
     "output_type": "stream",
     "text": [
      "200\n",
      "200\n"
     ]
    }
   ],
   "source": [
    "enc_trans = \"\".maketrans(\"abcdefgh\",\"!@#$%^&*\")\n",
    "dec_trans = \"\".maketrans(\"!@#$%^&*\",\"abcdefgh\")\n",
    "class Emp:\n",
    "    def __init__(self,name,email):\n",
    "        self.name=name\n",
    "        self.email=email\n",
    "    def __getattribute__(self, attr):\n",
    "        return 200\n",
    "        \n",
    "jay = Emp(\"jairam\",\"jay@gmail.com\")\n",
    "print(jay.email)#Emp.__getattribute__(jay, \"email\")\n",
    "print(jay.name)#Emp.__getattribute__(jay, \"name\")"
   ]
  },
  {
   "cell_type": "code",
   "execution_count": null,
   "id": "5896b54f",
   "metadata": {},
   "outputs": [],
   "source": [
    "enc_trans = \"\".maketrans(\"abcdefgh\",\"!@#$%^&*\")\n",
    "dec_trans = \"\".maketrans(\"!@#$%^&*\",\"abcdefgh\")\n",
    "class Emp:\n",
    "    def __init__(self,name,email):\n",
    "        self.name=name\n",
    "        self.email=email\n",
    "        self.securedattrs = (\"email\",)\n",
    "    def __getattribute__(self, attr):\n",
    "        if attr in self.securedattrs:\n",
    "            return None\n",
    "        return object.__getattribute__(self, attr)\n",
    "        \n",
    "jay = Emp(\"jairam\",\"jay@gmail.com\")\n",
    "print(jay.email)#Emp.__getattribute__(jay, \"email\")\n",
    "print(jay.name)#Emp.__getattribute__(jay, \"name\")"
   ]
  },
  {
   "cell_type": "code",
   "execution_count": null,
   "id": "e9771b66",
   "metadata": {},
   "outputs": [],
   "source": [
    "enc_trans = \"\".maketrans(\"abcdefgh\",\"!@#$%^&*\")\n",
    "dec_trans = \"\".maketrans(\"!@#$%^&*\",\"abcdefgh\")\n",
    "class Emp:\n",
    "    def __init__(self,name,email):\n",
    "        self.name=name\n",
    "        self.email=email\n",
    "        self.securedattrs = (\"email\",)\n",
    "    def __getattribute__(self, attr):\n",
    "        print(\"calling\")\n",
    "        if attr in self.securedattrs:\n",
    "            return None\n",
    "        return super(Emp, self).__getattribute__(attr)\n",
    "        \n",
    "jay = Emp(\"jairam\",\"jay@gmail.com\")\n",
    "print(jay.email)#Emp.__getattribute__(jay, \"email\")\n",
    "print(jay.name)#Emp.__getattribute__(jay, \"name\")"
   ]
  },
  {
   "cell_type": "code",
   "execution_count": 1,
   "id": "f8369c92",
   "metadata": {},
   "outputs": [
    {
     "name": "stdout",
     "output_type": "stream",
     "text": [
      "gege\n"
     ]
    }
   ],
   "source": [
    "print(\"gege\")"
   ]
  },
  {
   "cell_type": "code",
   "execution_count": null,
   "id": "665ef831",
   "metadata": {},
   "outputs": [],
   "source": [
    "enc_trans = \"\".maketrans(\"abcdefgh\",\"!@#$%^&*\")\n",
    "dec_trans = \"\".maketrans(\"!@#$%^&*\",\"abcdefgh\")\n",
    "class Emp:\n",
    "    def __init__(self,name,email):\n",
    "        self.name=name\n",
    "        self.email=email\n",
    "        self.securedattrs = (\"email\",)\n",
    "    def __getattribute__(self, attr):\n",
    "        print(\"calling\")\n",
    "        if attr in self.securedattrs:\n",
    "            return None\n",
    "        return super(Emp, self).__getattribute__(attr)\n",
    "        \n",
    "jay = Emp(\"jairam\",\"jay@gmail.com\")\n",
    "print(jay.email)#Emp.__getattribute__(jay, \"email\")\n",
    "print(jay.name)#Emp.__getattribute__(jay, \"name\")"
   ]
  },
  {
   "cell_type": "code",
   "execution_count": 1,
   "id": "886f1a4d",
   "metadata": {},
   "outputs": [
    {
     "name": "stdout",
     "output_type": "stream",
     "text": [
      "None\n",
      "jairam\n"
     ]
    }
   ],
   "source": [
    "enc_trans = \"\".maketrans(\"abcdefgh\",\"!@#$%^&*\")\n",
    "dec_trans = \"\".maketrans(\"!@#$%^&*\",\"abcdefgh\")\n",
    "securedattrs = (\"email\",)\n",
    "class Emp:\n",
    "    def __init__(self,name,email):\n",
    "        self.name=name\n",
    "        self.email=email\n",
    "    def __getattribute__(self, attr):\n",
    "        if attr in securedattrs:\n",
    "            return None\n",
    "        return super(Emp, self).__getattribute__(attr)\n",
    "\n",
    "        \n",
    "jay = Emp(\"jairam\",\"jay@gmail.com\")\n",
    "print(jay.email)#Emp.__getattribute__(jay, \"email\")\n",
    "print(jay.name)#Emp.__getattribute__(jay, \"name\")"
   ]
  },
  {
   "cell_type": "code",
   "execution_count": 1,
   "id": "c8dc9889",
   "metadata": {},
   "outputs": [
    {
     "name": "stdout",
     "output_type": "stream",
     "text": [
      "j!y@&m!il.#om\n",
      "jairam\n"
     ]
    }
   ],
   "source": [
    "enc_trans = \"\".maketrans(\"abcdefgh\",\"!@#$%^&*\")\n",
    "dec_trans = \"\".maketrans(\"!@#$%^&*\",\"abcdefgh\")\n",
    "securedattrs = (\"email\",)\n",
    "class Emp:\n",
    "    def __init__(self,name,email):\n",
    "        self.name=name\n",
    "        self.email=email\n",
    "    def __getattribute__(self, attr):\n",
    "        if attr in securedattrs:\n",
    "            return super(Emp, self).__getattribute__(attr).translate(enc_trans)\n",
    "        return super(Emp, self).__getattribute__(attr)\n",
    "\n",
    "        \n",
    "jay = Emp(\"jairam\",\"jay@gmail.com\")\n",
    "print(jay.email)#Emp.__getattribute__(jay, \"email\")\n",
    "print(jay.name)#Emp.__getattribute__(jay, \"name\")"
   ]
  },
  {
   "cell_type": "code",
   "execution_count": 2,
   "id": "03f05295",
   "metadata": {},
   "outputs": [
    {
     "name": "stdout",
     "output_type": "stream",
     "text": [
      "j!y@&m!il.#om\n"
     ]
    }
   ],
   "source": [
    "enc_trans = \"\".maketrans(\"abcdefgh\",\"!@#$%^&*\")\n",
    "dec_trans = \"\".maketrans(\"!@#$%^&*\",\"abcdefgh\")\n",
    "securedattrs = (\"email\",)\n",
    "class Emp:\n",
    "    def __init__(self,name,email):\n",
    "        self.name=name\n",
    "        self.email=email\n",
    "    def __getattribute__(self, attr):\n",
    "        if attr in securedattrs:\n",
    "            return super(Emp, self).__getattribute__(attr).translate(enc_trans)\n",
    "        return super(Emp, self).__getattribute__(attr)\n",
    "    def get_email(self):\n",
    "        return self.email\n",
    "\n",
    "        \n",
    "jay = Emp(\"jairam\",\"jay@gmail.com\")\n",
    "print(jay.get_email())"
   ]
  },
  {
   "cell_type": "code",
   "execution_count": 3,
   "id": "11ce29f9",
   "metadata": {},
   "outputs": [
    {
     "name": "stdout",
     "output_type": "stream",
     "text": [
      "jaybgmail.com\n"
     ]
    }
   ],
   "source": [
    "enc_trans = \"\".maketrans(\"abcdefgh\",\"!@#$%^&*\")\n",
    "dec_trans = \"\".maketrans(\"!@#$%^&*\",\"abcdefgh\")\n",
    "securedattrs = (\"email\",)\n",
    "class Emp:\n",
    "    def __init__(self,name,email):\n",
    "        self.name=name\n",
    "        self.email=email\n",
    "    def __getattribute__(self, attr):\n",
    "        if attr in securedattrs:\n",
    "            return super(Emp, self).__getattribute__(attr).translate(enc_trans)\n",
    "        return super(Emp, self).__getattribute__(attr)\n",
    "    def get_email(self):\n",
    "        return self.email.translate(dec_trans)\n",
    "\n",
    "        \n",
    "jay = Emp(\"jairam\",\"jay@gmail.com\")\n",
    "print(jay.get_email())"
   ]
  },
  {
   "cell_type": "code",
   "execution_count": 4,
   "id": "d57d8884",
   "metadata": {},
   "outputs": [
    {
     "name": "stdout",
     "output_type": "stream",
     "text": [
      "jaybgmail.com\n",
      "jairam\n"
     ]
    }
   ],
   "source": [
    "enc_trans = \"\".maketrans(\"abcdefgh\",\"!@#$%^&*\")\n",
    "dec_trans = \"\".maketrans(\"!@#$%^&*\",\"abcdefgh\")\n",
    "securedattrs = (\"email\",)\n",
    "class Emp:\n",
    "    def __init__(self,name,email):\n",
    "        self.name=name\n",
    "        self.email=email\n",
    "    def __getattribute__(self, attr):\n",
    "        if attr in securedattrs:\n",
    "            return super(Emp, self).__getattribute__(attr).translate(enc_trans)\n",
    "        return super(Emp, self).__getattribute__(attr)\n",
    "    def get_email(self):\n",
    "        return self.email.translate(dec_trans)\n",
    "\n",
    "        \n",
    "jay = Emp(\"jairam\",\"jay@gmail.com\")\n",
    "print(jay.get_email())\n",
    "print(getattr(jay, \"name\"))"
   ]
  },
  {
   "cell_type": "code",
   "execution_count": 5,
   "id": "2393203f",
   "metadata": {},
   "outputs": [
    {
     "name": "stdout",
     "output_type": "stream",
     "text": [
      "jaybgmail.com\n",
      "j!y@&m!il.#om\n"
     ]
    }
   ],
   "source": [
    "enc_trans = \"\".maketrans(\"abcdefgh\",\"!@#$%^&*\")\n",
    "dec_trans = \"\".maketrans(\"!@#$%^&*\",\"abcdefgh\")\n",
    "securedattrs = (\"email\",)\n",
    "class Emp:\n",
    "    def __init__(self,name,email):\n",
    "        self.name=name\n",
    "        self.email=email\n",
    "    def __getattribute__(self, attr):\n",
    "        if attr in securedattrs:\n",
    "            return super(Emp, self).__getattribute__(attr).translate(enc_trans)\n",
    "        return super(Emp, self).__getattribute__(attr)\n",
    "    def get_email(self):\n",
    "        return self.email.translate(dec_trans)\n",
    "\n",
    "        \n",
    "jay = Emp(\"jairam\",\"jay@gmail.com\")\n",
    "print(jay.get_email())\n",
    "print(getattr(jay, \"email\"))"
   ]
  },
  {
   "cell_type": "code",
   "execution_count": 6,
   "id": "b1be6a7c",
   "metadata": {},
   "outputs": [
    {
     "data": {
      "text/plain": [
       "True"
      ]
     },
     "execution_count": 6,
     "metadata": {},
     "output_type": "execute_result"
    }
   ],
   "source": [
    "hasattr(jay, \"name\")"
   ]
  },
  {
   "cell_type": "code",
   "execution_count": 7,
   "id": "8c9c70a1",
   "metadata": {},
   "outputs": [
    {
     "data": {
      "text/plain": [
       "False"
      ]
     },
     "execution_count": 7,
     "metadata": {},
     "output_type": "execute_result"
    }
   ],
   "source": [
    "hasattr(jay, \"name1\")"
   ]
  },
  {
   "cell_type": "code",
   "execution_count": 8,
   "id": "cbca5626",
   "metadata": {},
   "outputs": [
    {
     "name": "stdout",
     "output_type": "stream",
     "text": [
      "email <class 'str'>\n",
      "None\n",
      "name <class 'str'>\n",
      "None\n"
     ]
    }
   ],
   "source": [
    "enc_trans = \"\".maketrans(\"abcdefgh\",\"!@#$%^&*\")\n",
    "dec_trans = \"\".maketrans(\"!@#$%^&*\",\"abcdefgh\")\n",
    "securedattrs = (\"email\",)\n",
    "class Emp:\n",
    "    def __init__(self,name,email):\n",
    "        self.name=name\n",
    "        self.email=email\n",
    "    def __getattribute__(self, attr):\n",
    "        print(attr, type(attr))\n",
    "        return None\n",
    "    def get_email(self):\n",
    "        return self.email.translate(dec_trans)\n",
    "\n",
    "        \n",
    "jay = Emp(\"jairam\",\"jay@gmail.com\")\n",
    "print(jay.email)\n",
    "print(jay.name)"
   ]
  },
  {
   "cell_type": "code",
   "execution_count": 9,
   "id": "b8a06490",
   "metadata": {},
   "outputs": [
    {
     "ename": "SyntaxError",
     "evalue": "invalid syntax (3263488044.py, line 1)",
     "output_type": "error",
     "traceback": [
      "\u001b[1;36m  Cell \u001b[1;32mIn[9], line 1\u001b[1;36m\u001b[0m\n\u001b[1;33m    jay.\"email\"\u001b[0m\n\u001b[1;37m        ^\u001b[0m\n\u001b[1;31mSyntaxError\u001b[0m\u001b[1;31m:\u001b[0m invalid syntax\n"
     ]
    }
   ],
   "source": [
    "jay.\"email\""
   ]
  },
  {
   "cell_type": "code",
   "execution_count": 10,
   "id": "17bb9bd1",
   "metadata": {},
   "outputs": [
    {
     "name": "stdout",
     "output_type": "stream",
     "text": [
      "email <class 'str'>\n",
      "jay@gmail.com\n",
      "name <class 'str'>\n",
      "jairam\n"
     ]
    }
   ],
   "source": [
    "enc_trans = \"\".maketrans(\"abcdefgh\",\"!@#$%^&*\")\n",
    "dec_trans = \"\".maketrans(\"!@#$%^&*\",\"abcdefgh\")\n",
    "securedattrs = (\"email\",)\n",
    "class Emp:\n",
    "    def __init__(self,name,email):\n",
    "        self.name=name\n",
    "        self.email=email\n",
    "    def __getattribute__(self, attr):\n",
    "        print(attr, type(attr))\n",
    "        return object.__getattribute__(self, attr)\n",
    "    def get_email(self):\n",
    "        return self.email.translate(dec_trans)\n",
    "\n",
    "        \n",
    "jay = Emp(\"jairam\",\"jay@gmail.com\")\n",
    "print(jay.email)\n",
    "print(jay.name)"
   ]
  },
  {
   "cell_type": "code",
   "execution_count": 11,
   "id": "d9b568a2",
   "metadata": {},
   "outputs": [
    {
     "name": "stdout",
     "output_type": "stream",
     "text": [
      "['__class__', '__delattr__', '__dir__', '__doc__', '__eq__', '__format__', '__ge__', '__getattribute__', '__getstate__', '__gt__', '__hash__', '__init__', '__init_subclass__', '__le__', '__lt__', '__ne__', '__new__', '__reduce__', '__reduce_ex__', '__repr__', '__setattr__', '__sizeof__', '__str__', '__subclasshook__']\n"
     ]
    }
   ],
   "source": [
    "print(dir(object))"
   ]
  },
  {
   "cell_type": "code",
   "execution_count": 12,
   "id": "c924d56b",
   "metadata": {},
   "outputs": [
    {
     "ename": "AttributeError",
     "evalue": "'Emp' object has no attribute '__name'",
     "output_type": "error",
     "traceback": [
      "\u001b[1;31m---------------------------------------------------------------------------\u001b[0m",
      "\u001b[1;31mAttributeError\u001b[0m                            Traceback (most recent call last)",
      "Cell \u001b[1;32mIn[12], line 5\u001b[0m\n\u001b[0;32m      3\u001b[0m         \u001b[38;5;28mself\u001b[39m\u001b[38;5;241m.\u001b[39m__name\u001b[38;5;241m=\u001b[39mname\n\u001b[0;32m      4\u001b[0m j\u001b[38;5;241m=\u001b[39mEmp(\u001b[38;5;124m\"\u001b[39m\u001b[38;5;124msdf\u001b[39m\u001b[38;5;124m\"\u001b[39m)\n\u001b[1;32m----> 5\u001b[0m \u001b[38;5;28mprint\u001b[39m(j\u001b[38;5;241m.\u001b[39m__name)\n",
      "\u001b[1;31mAttributeError\u001b[0m: 'Emp' object has no attribute '__name'"
     ]
    }
   ],
   "source": [
    "class Emp:\n",
    "    def __init__(self, name):\n",
    "        self.__name=name\n",
    "j=Emp(\"sdf\")\n",
    "print(j.__name)"
   ]
  },
  {
   "cell_type": "code",
   "execution_count": 14,
   "id": "03995ff7",
   "metadata": {},
   "outputs": [
    {
     "name": "stdout",
     "output_type": "stream",
     "text": [
      "sdf\n"
     ]
    }
   ],
   "source": [
    "class Emp:\n",
    "    def __init__(self, name):\n",
    "        self.name=name\n",
    "    def get(self):\n",
    "        return self.name\n",
    "j=Emp(\"sdf\")\n",
    "print(j.get())"
   ]
  },
  {
   "cell_type": "code",
   "execution_count": null,
   "id": "b9b421d8",
   "metadata": {},
   "outputs": [],
   "source": [
    "class Emp:\n",
    "    def __init__(self, name):\n",
    "        self.name=name\n",
    "    def get(self):\n",
    "        return self.name\n",
    "j=Emp(\"sdf\")\n",
    "print(j.get())#Emp.get(j)"
   ]
  },
  {
   "cell_type": "code",
   "execution_count": 15,
   "id": "b8e51e25",
   "metadata": {},
   "outputs": [
    {
     "name": "stdout",
     "output_type": "stream",
     "text": [
      "AJA\n"
     ]
    }
   ],
   "source": [
    "class Emp:\n",
    "    company = \"AJA\"\n",
    "    def __init__(self, name):\n",
    "        self.name=name\n",
    "    def get(self):\n",
    "        return self.name\n",
    "    def get_company(self):\n",
    "        return self.company\n",
    "j=Emp(\"sdf\")\n",
    "print(j.get_company())#Emp.get_company(j)"
   ]
  },
  {
   "cell_type": "code",
   "execution_count": 16,
   "id": "34e62faf",
   "metadata": {},
   "outputs": [
    {
     "data": {
      "text/plain": [
       "'AJA'"
      ]
     },
     "execution_count": 16,
     "metadata": {},
     "output_type": "execute_result"
    }
   ],
   "source": [
    "Emp.company"
   ]
  },
  {
   "cell_type": "code",
   "execution_count": 18,
   "id": "939c00ad",
   "metadata": {},
   "outputs": [
    {
     "name": "stdout",
     "output_type": "stream",
     "text": [
      "<__main__.Emp object at 0x000001A16B4C6F50> 1792801533776\n",
      "AJA\n",
      "<__main__.Emp object at 0x000001A16B4C6F50> 1792801533776\n"
     ]
    }
   ],
   "source": [
    "class Emp:\n",
    "    company = \"AJA\"\n",
    "    def __init__(self, name):\n",
    "        self.name=name\n",
    "    def get(self):\n",
    "        return self.name\n",
    "    def get_company(self):\n",
    "        print(self, id(self))\n",
    "        return self.company\n",
    "j=Emp(\"sdf\")\n",
    "print(j.get_company())#Emp.get_company(j)\n",
    "print(j, id(j))\n",
    "# it will internally passing data object (j) to get_company method as frist argument.\n",
    "# I want to pass class object (Emp) to the get_company as first argument. I don't want to chage the method call.\n",
    "\n"
   ]
  },
  {
   "cell_type": "code",
   "execution_count": 19,
   "id": "fab8b386",
   "metadata": {},
   "outputs": [
    {
     "name": "stdout",
     "output_type": "stream",
     "text": [
      "<__main__.Emp object at 0x000001A16CDF6310> 1792827941648\n",
      "AJA\n",
      "<__main__.Emp object at 0x000001A16CDF6310> 1792827941648\n",
      "<class '__main__.Emp'> 1792765781520\n"
     ]
    }
   ],
   "source": [
    "class Emp:\n",
    "    company = \"AJA\"\n",
    "    def __init__(self, name):\n",
    "        self.name=name\n",
    "    def get(self):\n",
    "        return self.name\n",
    "    def get_company(self):\n",
    "        print(self, id(self))\n",
    "        return self.company\n",
    "j=Emp(\"sdf\")\n",
    "print(j.get_company())#Emp.get_company(j)\n",
    "# it will internally passing data object (j) to get_company method as frist argument.\n",
    "# I want to pass class object (Emp) to the get_company as first argument. I don't want to chage the method call.\n",
    "print(j, id(j))\n",
    "print(Emp, id(Emp))\n",
    "\n",
    "\n"
   ]
  },
  {
   "cell_type": "code",
   "execution_count": 21,
   "id": "bf4cb59e",
   "metadata": {},
   "outputs": [
    {
     "name": "stdout",
     "output_type": "stream",
     "text": [
      "in get_company\n",
      "<class '__main__.Emp'> 1792765789328\n",
      "AJA\n",
      "<__main__.Emp object at 0x000001A16C163C10> 1792814758928\n",
      "<class '__main__.Emp'> 1792765789328\n"
     ]
    }
   ],
   "source": [
    "class Emp:\n",
    "    company = \"AJA\"\n",
    "    def __init__(self, name):\n",
    "        self.name=name\n",
    "    def get(self):# instance method\n",
    "        return self.name\n",
    "    \n",
    "    @classmethod\n",
    "    def get_company(self):#class method\n",
    "        print(\"in get_company\")\n",
    "        print(self, id(self))\n",
    "        return self.company\n",
    "j=Emp(\"sdf\")\n",
    "print(j.get())#Emp.get(j)\n",
    "print(j.get_company())#Emp.get_company(Emp)\n",
    "# it will internally passing data object (j) to get_company method as frist argument.\n",
    "# I want to pass class object (Emp) to the get_company as first argument. I don't want to chage the method call.\n",
    "print(j, id(j))\n",
    "print(Emp, id(Emp))"
   ]
  },
  {
   "cell_type": "code",
   "execution_count": 22,
   "id": "7cd9a3af",
   "metadata": {},
   "outputs": [
    {
     "name": "stdout",
     "output_type": "stream",
     "text": [
      "sdf\n",
      "AJA\n"
     ]
    }
   ],
   "source": [
    "class Emp:\n",
    "    company = \"AJA\"\n",
    "    def __init__(self, name):\n",
    "        self.name=name\n",
    "    def get(self):# instance method\n",
    "        return self.name\n",
    "    \n",
    "    @classmethod\n",
    "    def get_company(self):#class method\n",
    "        return self.company\n",
    "j=Emp(\"sdf\")\n",
    "print(j.get())\n",
    "print(j.get_company())\n"
   ]
  },
  {
   "cell_type": "code",
   "execution_count": 23,
   "id": "9b109109",
   "metadata": {},
   "outputs": [
    {
     "name": "stdout",
     "output_type": "stream",
     "text": [
      "('sdf', 'AJA')\n",
      "AJA\n"
     ]
    }
   ],
   "source": [
    "class Emp:\n",
    "    company = \"AJA\"\n",
    "    def __init__(self, name):\n",
    "        self.name=name\n",
    "    def get(self):# instance method\n",
    "        return self.name, self.company\n",
    "    \n",
    "    @classmethod\n",
    "    def get_company(self):#class method\n",
    "        return self.company\n",
    "j=Emp(\"sdf\")\n",
    "print(j.get())\n",
    "print(j.get_company())\n"
   ]
  },
  {
   "cell_type": "code",
   "execution_count": 24,
   "id": "f1e2a09f",
   "metadata": {},
   "outputs": [
    {
     "name": "stdout",
     "output_type": "stream",
     "text": [
      "('sdf', 'AJA')\n"
     ]
    },
    {
     "ename": "AttributeError",
     "evalue": "type object 'Emp' has no attribute 'name'",
     "output_type": "error",
     "traceback": [
      "\u001b[1;31m---------------------------------------------------------------------------\u001b[0m",
      "\u001b[1;31mAttributeError\u001b[0m                            Traceback (most recent call last)",
      "Cell \u001b[1;32mIn[24], line 13\u001b[0m\n\u001b[0;32m     11\u001b[0m j\u001b[38;5;241m=\u001b[39mEmp(\u001b[38;5;124m\"\u001b[39m\u001b[38;5;124msdf\u001b[39m\u001b[38;5;124m\"\u001b[39m)\n\u001b[0;32m     12\u001b[0m \u001b[38;5;28mprint\u001b[39m(j\u001b[38;5;241m.\u001b[39mget())\n\u001b[1;32m---> 13\u001b[0m \u001b[38;5;28mprint\u001b[39m(j\u001b[38;5;241m.\u001b[39mget_company())\n",
      "Cell \u001b[1;32mIn[24], line 10\u001b[0m, in \u001b[0;36mEmp.get_company\u001b[1;34m(self)\u001b[0m\n\u001b[0;32m      8\u001b[0m \u001b[38;5;129m@classmethod\u001b[39m\n\u001b[0;32m      9\u001b[0m \u001b[38;5;28;01mdef\u001b[39;00m \u001b[38;5;21mget_company\u001b[39m(\u001b[38;5;28mself\u001b[39m):\u001b[38;5;66;03m#class method\u001b[39;00m\n\u001b[1;32m---> 10\u001b[0m     \u001b[38;5;28;01mreturn\u001b[39;00m \u001b[38;5;28mself\u001b[39m\u001b[38;5;241m.\u001b[39mcompany, \u001b[38;5;28mself\u001b[39m\u001b[38;5;241m.\u001b[39mname\n",
      "\u001b[1;31mAttributeError\u001b[0m: type object 'Emp' has no attribute 'name'"
     ]
    }
   ],
   "source": [
    "class Emp:\n",
    "    company = \"AJA\"\n",
    "    def __init__(self, name):\n",
    "        self.name=name\n",
    "    def get(self):# instance method\n",
    "        return self.name, self.company\n",
    "    \n",
    "    @classmethod\n",
    "    def get_company(self):#class method\n",
    "        return self.company, self.name\n",
    "j=Emp(\"sdf\")\n",
    "print(j.get())\n",
    "print(j.get_company())\n"
   ]
  },
  {
   "cell_type": "code",
   "execution_count": 25,
   "id": "45366608",
   "metadata": {},
   "outputs": [
    {
     "name": "stdout",
     "output_type": "stream",
     "text": [
      "('sdf', 'AJA')\n"
     ]
    },
    {
     "ename": "AttributeError",
     "evalue": "type object 'Emp' has no attribute 'name'",
     "output_type": "error",
     "traceback": [
      "\u001b[1;31m---------------------------------------------------------------------------\u001b[0m",
      "\u001b[1;31mAttributeError\u001b[0m                            Traceback (most recent call last)",
      "Cell \u001b[1;32mIn[25], line 13\u001b[0m\n\u001b[0;32m     11\u001b[0m j\u001b[38;5;241m=\u001b[39mEmp(\u001b[38;5;124m\"\u001b[39m\u001b[38;5;124msdf\u001b[39m\u001b[38;5;124m\"\u001b[39m)\n\u001b[0;32m     12\u001b[0m \u001b[38;5;28mprint\u001b[39m(j\u001b[38;5;241m.\u001b[39mget())\n\u001b[1;32m---> 13\u001b[0m \u001b[38;5;28mprint\u001b[39m(j\u001b[38;5;241m.\u001b[39mget_company())\n",
      "Cell \u001b[1;32mIn[25], line 10\u001b[0m, in \u001b[0;36mEmp.get_company\u001b[1;34m(x)\u001b[0m\n\u001b[0;32m      8\u001b[0m \u001b[38;5;129m@classmethod\u001b[39m\n\u001b[0;32m      9\u001b[0m \u001b[38;5;28;01mdef\u001b[39;00m \u001b[38;5;21mget_company\u001b[39m(x):\u001b[38;5;66;03m#class method\u001b[39;00m\n\u001b[1;32m---> 10\u001b[0m     \u001b[38;5;28;01mreturn\u001b[39;00m x\u001b[38;5;241m.\u001b[39mcompany, x\u001b[38;5;241m.\u001b[39mname\n",
      "\u001b[1;31mAttributeError\u001b[0m: type object 'Emp' has no attribute 'name'"
     ]
    }
   ],
   "source": [
    "class Emp:\n",
    "    company = \"AJA\"\n",
    "    def __init__(self, name):\n",
    "        self.name=name\n",
    "    def get(self):# instance method\n",
    "        return self.name, self.company\n",
    "    \n",
    "    @classmethod\n",
    "    def get_company(x):#class method\n",
    "        return x.company, x.name\n",
    "j=Emp(\"sdf\")\n",
    "print(j.get())\n",
    "print(j.get_company())\n"
   ]
  },
  {
   "cell_type": "code",
   "execution_count": 26,
   "id": "57b53ded",
   "metadata": {},
   "outputs": [
    {
     "name": "stdout",
     "output_type": "stream",
     "text": [
      "('sdf', 'AJA')\n"
     ]
    },
    {
     "ename": "AttributeError",
     "evalue": "type object 'Emp' has no attribute 'name'",
     "output_type": "error",
     "traceback": [
      "\u001b[1;31m---------------------------------------------------------------------------\u001b[0m",
      "\u001b[1;31mAttributeError\u001b[0m                            Traceback (most recent call last)",
      "Cell \u001b[1;32mIn[26], line 13\u001b[0m\n\u001b[0;32m     11\u001b[0m j\u001b[38;5;241m=\u001b[39mEmp(\u001b[38;5;124m\"\u001b[39m\u001b[38;5;124msdf\u001b[39m\u001b[38;5;124m\"\u001b[39m)\n\u001b[0;32m     12\u001b[0m \u001b[38;5;28mprint\u001b[39m(j\u001b[38;5;241m.\u001b[39mget())\n\u001b[1;32m---> 13\u001b[0m \u001b[38;5;28mprint\u001b[39m(j\u001b[38;5;241m.\u001b[39mget_company())\n",
      "Cell \u001b[1;32mIn[26], line 10\u001b[0m, in \u001b[0;36mEmp.get_company\u001b[1;34m(x)\u001b[0m\n\u001b[0;32m      8\u001b[0m \u001b[38;5;129m@classmethod\u001b[39m\n\u001b[0;32m      9\u001b[0m \u001b[38;5;28;01mdef\u001b[39;00m \u001b[38;5;21mget_company\u001b[39m(x):\u001b[38;5;66;03m#class method\u001b[39;00m\n\u001b[1;32m---> 10\u001b[0m     \u001b[38;5;28;01mreturn\u001b[39;00m x\u001b[38;5;241m.\u001b[39mcompany, x\u001b[38;5;241m.\u001b[39mname\n",
      "\u001b[1;31mAttributeError\u001b[0m: type object 'Emp' has no attribute 'name'"
     ]
    }
   ],
   "source": [
    "class Emp:\n",
    "    company = \"AJA\"\n",
    "    def __init__(y, name):\n",
    "        y.name=name\n",
    "    def get(p):# instance method\n",
    "        return p.name, p.company\n",
    "    \n",
    "    @classmethod\n",
    "    def get_company(x):#class method\n",
    "        return x.company, x.name\n",
    "j=Emp(\"sdf\")\n",
    "print(j.get())\n",
    "print(j.get_company())\n"
   ]
  },
  {
   "cell_type": "code",
   "execution_count": 27,
   "id": "627328cf",
   "metadata": {},
   "outputs": [
    {
     "ename": "AttributeError",
     "evalue": "type object 'Emp' has no attribute 'name'",
     "output_type": "error",
     "traceback": [
      "\u001b[1;31m---------------------------------------------------------------------------\u001b[0m",
      "\u001b[1;31mAttributeError\u001b[0m                            Traceback (most recent call last)",
      "Cell \u001b[1;32mIn[27], line 18\u001b[0m\n\u001b[0;32m     16\u001b[0m j\u001b[38;5;241m=\u001b[39mEmp(\u001b[38;5;124m\"\u001b[39m\u001b[38;5;124msdf\u001b[39m\u001b[38;5;124m\"\u001b[39m)\n\u001b[0;32m     17\u001b[0m j\u001b[38;5;241m.\u001b[39mget()\u001b[38;5;66;03m#Emp.get(j)\u001b[39;00m\n\u001b[1;32m---> 18\u001b[0m j\u001b[38;5;241m.\u001b[39mget_company()\u001b[38;5;66;03m#Emp.get_comapany(Emp)\u001b[39;00m\n\u001b[0;32m     19\u001b[0m \u001b[38;5;28mprint\u001b[39m(j\u001b[38;5;241m.\u001b[39mresp(\u001b[38;5;241m10\u001b[39m,\u001b[38;5;241m20\u001b[39m))\n",
      "Cell \u001b[1;32mIn[27], line 10\u001b[0m, in \u001b[0;36mEmp.get_company\u001b[1;34m(x)\u001b[0m\n\u001b[0;32m      8\u001b[0m \u001b[38;5;129m@classmethod\u001b[39m\n\u001b[0;32m      9\u001b[0m \u001b[38;5;28;01mdef\u001b[39;00m \u001b[38;5;21mget_company\u001b[39m(x):\u001b[38;5;66;03m#class method\u001b[39;00m\n\u001b[1;32m---> 10\u001b[0m     \u001b[38;5;28;01mreturn\u001b[39;00m x\u001b[38;5;241m.\u001b[39mcompany, x\u001b[38;5;241m.\u001b[39mname\n",
      "\u001b[1;31mAttributeError\u001b[0m: type object 'Emp' has no attribute 'name'"
     ]
    }
   ],
   "source": [
    "class Emp:\n",
    "    company = \"AJA\"\n",
    "    def __init__(y, name):\n",
    "        y.name=name\n",
    "    def get(p):# instance method\n",
    "        return p.name, p.company\n",
    "    \n",
    "    @classmethod\n",
    "    def get_company(x):#class method\n",
    "        return x.company, x.name\n",
    "    \n",
    "    @staticmethod\n",
    "    def resp(x,y):\n",
    "        \n",
    "        return x+y\n",
    "j=Emp(\"sdf\")\n",
    "j.get()#Emp.get(j)\n",
    "j.get_company()#Emp.get_comapany(Emp)\n",
    "print(j.resp(10,20))#Emp.resp(10,20)"
   ]
  },
  {
   "cell_type": "code",
   "execution_count": 30,
   "id": "4932c6d2",
   "metadata": {},
   "outputs": [],
   "source": [
    "a=\"12.34\"\n",
    "if a.count(\".\")>1:\n",
    "    print(\"it's not valid\")\n",
    "else:\n",
    "    tag = a.replace(\".\", \"\")\n",
    "    if not tag.isdecimal():\n",
    "        print(\"it; not a valid\")"
   ]
  },
  {
   "cell_type": "code",
   "execution_count": 31,
   "id": "103a1a11",
   "metadata": {},
   "outputs": [
    {
     "name": "stdout",
     "output_type": "stream",
     "text": [
      "it's not valid\n"
     ]
    }
   ],
   "source": [
    "a=\"12.3.4\"\n",
    "if a.count(\".\")>1:\n",
    "    print(\"it's not valid\")\n",
    "else:\n",
    "    tag = a.replace(\".\", \"\")\n",
    "    if not tag.isdecimal():\n",
    "        print(\"it; not a valid\")"
   ]
  },
  {
   "cell_type": "code",
   "execution_count": 32,
   "id": "87d58fd1",
   "metadata": {},
   "outputs": [
    {
     "name": "stdout",
     "output_type": "stream",
     "text": [
      "it; not a valid\n"
     ]
    }
   ],
   "source": [
    "a=\"12.34a\"\n",
    "if a.count(\".\")>1:\n",
    "    print(\"it's not valid\")\n",
    "else:\n",
    "    tag = a.replace(\".\", \"\")\n",
    "    if not tag.isdecimal():\n",
    "        print(\"it; not a valid\")"
   ]
  },
  {
   "cell_type": "code",
   "execution_count": 2,
   "id": "ae2b178a",
   "metadata": {},
   "outputs": [
    {
     "name": "stdout",
     "output_type": "stream",
     "text": [
      "('Vedhanvesh', 7, 'AJA')\n",
      "<__main__.Emp object at 0x0000019B1C3CF710>\n",
      "<class '__main__.Emp'>\n"
     ]
    }
   ],
   "source": [
    "class Emp:\n",
    "    company_name = \"AJA\"\n",
    "    def __init__(self, name, emp_id):\n",
    "        self.name=name\n",
    "        self.empid=emp_id\n",
    "    def get(self):\n",
    "        return self.name, self.empid, self.company_name\n",
    "vedha = Emp(\"Vedhanvesh\", 7)\n",
    "print(vedha.get())\n",
    "print(vedha)\n",
    "print(Emp)"
   ]
  },
  {
   "cell_type": "code",
   "execution_count": 3,
   "id": "659dd56b",
   "metadata": {},
   "outputs": [
    {
     "name": "stdout",
     "output_type": "stream",
     "text": [
      "('Vedhanvesh', 7, 'AJA')\n",
      "<__main__.Emp object at 0x0000019B1C3D5490> 1765705340048\n",
      "<class '__main__.Emp'> 1765686236784\n"
     ]
    }
   ],
   "source": [
    "class Emp:\n",
    "    company_name = \"AJA\"\n",
    "    def __init__(self, name, emp_id):\n",
    "        self.name=name\n",
    "        self.empid=emp_id\n",
    "    def get(self):\n",
    "        return self.name, self.empid, self.company_name\n",
    "vedha = Emp(\"Vedhanvesh\", 7)\n",
    "print(vedha.get())\n",
    "print(vedha, id(vedha))\n",
    "print(Emp, id(Emp))"
   ]
  },
  {
   "cell_type": "code",
   "execution_count": 4,
   "id": "df00f01b",
   "metadata": {},
   "outputs": [],
   "source": []
  },
  {
   "cell_type": "code",
   "execution_count": 5,
   "id": "3bfa5afb",
   "metadata": {},
   "outputs": [
    {
     "name": "stdout",
     "output_type": "stream",
     "text": [
      "0\n"
     ]
    }
   ],
   "source": [
    "class Stock:\n",
    "    def __init__(self):\n",
    "        self.value = 0\n",
    "class Purchase:\n",
    "    def __init__(self, quantity):\n",
    "        stock = Stock()\n",
    "        stock.value = stock.value+quantity\n",
    "class Sales:\n",
    "    def __init__(self, quantity):\n",
    "        stock = Stock()\n",
    "        stock.value = stock.value-quantity\n",
    "Purchase(10)\n",
    "s=Stock()\n",
    "print(s.value)"
   ]
  },
  {
   "cell_type": "code",
   "execution_count": 6,
   "id": "d2d891ed",
   "metadata": {},
   "outputs": [
    {
     "name": "stdout",
     "output_type": "stream",
     "text": [
      "1765705361360\n",
      "1765705360336\n",
      "1765705361296\n"
     ]
    }
   ],
   "source": [
    "class Stock:\n",
    "    def __init__(self):\n",
    "        self.value = 0\n",
    "s=Stock()\n",
    "s1=Stock()\n",
    "s2=Stock()\n",
    "print(id(s))\n",
    "print(id(s1))\n",
    "print(id(s2))"
   ]
  },
  {
   "cell_type": "code",
   "execution_count": 7,
   "id": "101b79eb",
   "metadata": {},
   "outputs": [
    {
     "ename": "AttributeError",
     "evalue": "'NoneType' object has no attribute 'get'",
     "output_type": "error",
     "traceback": [
      "\u001b[1;31m---------------------------------------------------------------------------\u001b[0m",
      "\u001b[1;31mAttributeError\u001b[0m                            Traceback (most recent call last)",
      "Cell \u001b[1;32mIn[7], line 9\u001b[0m\n\u001b[0;32m      7\u001b[0m         \u001b[38;5;28;01mreturn\u001b[39;00m \u001b[38;5;28mself\u001b[39m\u001b[38;5;241m.\u001b[39mvalue\n\u001b[0;32m      8\u001b[0m s\u001b[38;5;241m=\u001b[39mStock()\n\u001b[1;32m----> 9\u001b[0m \u001b[38;5;28mprint\u001b[39m(s\u001b[38;5;241m.\u001b[39mget())\n",
      "\u001b[1;31mAttributeError\u001b[0m: 'NoneType' object has no attribute 'get'"
     ]
    }
   ],
   "source": [
    "class Stock:\n",
    "    def __new__(x,*args):\n",
    "        return None\n",
    "    def __init__(self):\n",
    "        self.value = 0\n",
    "    def get(self):\n",
    "        return self.value\n",
    "s=Stock()\n",
    "print(s.get())\n"
   ]
  },
  {
   "cell_type": "code",
   "execution_count": 8,
   "id": "7f4cc747",
   "metadata": {},
   "outputs": [
    {
     "name": "stdout",
     "output_type": "stream",
     "text": [
      "20\n"
     ]
    }
   ],
   "source": [
    "class some:\n",
    "    def __init__(self):\n",
    "        print(\"some\")\n",
    "        self.value=20\n",
    "    def get(self):\n",
    "        return self.value\n",
    "class Stock:\n",
    "    def __new__(x,*args):\n",
    "        return some()\n",
    "    def __init__(self):\n",
    "        print(\"stock\")\n",
    "        self.value = 0\n",
    "    def get(self):\n",
    "        return self.value\n",
    "s=Stock()\n",
    "print(s.get())\n"
   ]
  },
  {
   "cell_type": "code",
   "execution_count": 9,
   "id": "aeb7a603",
   "metadata": {},
   "outputs": [
    {
     "ename": "AttributeError",
     "evalue": "'NoneType' object has no attribute 'get'",
     "output_type": "error",
     "traceback": [
      "\u001b[1;31m---------------------------------------------------------------------------\u001b[0m",
      "\u001b[1;31mAttributeError\u001b[0m                            Traceback (most recent call last)",
      "Cell \u001b[1;32mIn[9], line 14\u001b[0m\n\u001b[0;32m     12\u001b[0m         \u001b[38;5;28;01mreturn\u001b[39;00m \u001b[38;5;28mself\u001b[39m\u001b[38;5;241m.\u001b[39mvalue\n\u001b[0;32m     13\u001b[0m s\u001b[38;5;241m=\u001b[39mStock()\n\u001b[1;32m---> 14\u001b[0m \u001b[38;5;28mprint\u001b[39m(s\u001b[38;5;241m.\u001b[39mget())\n",
      "\u001b[1;31mAttributeError\u001b[0m: 'NoneType' object has no attribute 'get'"
     ]
    }
   ],
   "source": [
    "class some:\n",
    "    def __init__(self):\n",
    "        self.value=20\n",
    "    def get(self):\n",
    "        return self.value\n",
    "class Stock:\n",
    "    def __new__(x,*args):\n",
    "        return None\n",
    "    def __init__(self):\n",
    "        self.value = 0\n",
    "    def get(self):\n",
    "        return self.value\n",
    "s=Stock()\n",
    "print(s.get())\n"
   ]
  },
  {
   "cell_type": "code",
   "execution_count": null,
   "id": "321c294a",
   "metadata": {},
   "outputs": [],
   "source": [
    "class Stock:\n",
    "    def __new__(x,*args):\n",
    "        return None\n",
    "    def __init__(self):\n",
    "        self.value = 0\n",
    "    def get(self):\n",
    "        return self.value\n",
    "s=Stock()\n",
    "print(s.get())\n"
   ]
  },
  {
   "cell_type": "code",
   "execution_count": 11,
   "id": "b74041be",
   "metadata": {},
   "outputs": [
    {
     "name": "stdout",
     "output_type": "stream",
     "text": [
      "some constructor\n",
      "20\n"
     ]
    }
   ],
   "source": [
    "class some:\n",
    "    def __init__(self):\n",
    "        print(\"some constructor\")\n",
    "        self.value=20\n",
    "    def get(self):\n",
    "        return self.value\n",
    "class Stock:\n",
    "    def __new__(x,*args):\n",
    "        return some()\n",
    "    def __init__(self):\n",
    "        print(\"stock constructor\")\n",
    "        self.value = 0\n",
    "    def get(self):\n",
    "        return self.value\n",
    "s=Stock()# Stock.__new__(Stock).__init__(*args, **kwargs)\n",
    "#som_class_data_object.__init__(*args, **kwargs)\n",
    "print(s.get())\n"
   ]
  },
  {
   "cell_type": "code",
   "execution_count": 12,
   "id": "bf069a91",
   "metadata": {},
   "outputs": [
    {
     "name": "stdout",
     "output_type": "stream",
     "text": [
      "some calss new method\n",
      "some constructor\n",
      "some class get\n",
      "20\n"
     ]
    },
    {
     "ename": "AttributeError",
     "evalue": "'some' object has no attribute 'get_other'",
     "output_type": "error",
     "traceback": [
      "\u001b[1;31m---------------------------------------------------------------------------\u001b[0m",
      "\u001b[1;31mAttributeError\u001b[0m                            Traceback (most recent call last)",
      "Cell \u001b[1;32mIn[12], line 25\u001b[0m\n\u001b[0;32m     23\u001b[0m \u001b[38;5;66;03m#som_class_data_object.__init__(*args, **kwargs)\u001b[39;00m\n\u001b[0;32m     24\u001b[0m \u001b[38;5;28mprint\u001b[39m(s\u001b[38;5;241m.\u001b[39mget())\n\u001b[1;32m---> 25\u001b[0m \u001b[38;5;28mprint\u001b[39m(s\u001b[38;5;241m.\u001b[39mget_other())\n",
      "\u001b[1;31mAttributeError\u001b[0m: 'some' object has no attribute 'get_other'"
     ]
    }
   ],
   "source": [
    "class some:\n",
    "    def __new__(x,*args):\n",
    "        print(\"some calss new method\")\n",
    "        return object.__new__(x, *args)\n",
    "    def __init__(self):\n",
    "        print(\"some constructor\")\n",
    "        self.value=20\n",
    "    def get(self):\n",
    "        print(\"some class get\")\n",
    "        return self.value\n",
    "class Stock:\n",
    "    def __new__(x,*args):\n",
    "        return some()\n",
    "    def __init__(self):\n",
    "        print(\"stock constructor\")\n",
    "        self.value = 0\n",
    "    def get(self):\n",
    "        print(\"stock class get\")\n",
    "        return self.value\n",
    "    def get_other(self):\n",
    "        return  \"HELLO\"\n",
    "s=Stock()# Stock.__new__(Stock).__init__(*args, **kwargs)\n",
    "#som_class_data_object.__init__(*args, **kwargs)\n",
    "print(s.get())\n",
    "print(s.get_other())\n"
   ]
  },
  {
   "cell_type": "code",
   "execution_count": 13,
   "id": "7d52e769",
   "metadata": {},
   "outputs": [
    {
     "name": "stdout",
     "output_type": "stream",
     "text": [
      "HELLO\n"
     ]
    },
    {
     "ename": "AttributeError",
     "evalue": "'str' object has no attribute 'get'",
     "output_type": "error",
     "traceback": [
      "\u001b[1;31m---------------------------------------------------------------------------\u001b[0m",
      "\u001b[1;31mAttributeError\u001b[0m                            Traceback (most recent call last)",
      "Cell \u001b[1;32mIn[13], line 25\u001b[0m\n\u001b[0;32m     23\u001b[0m \u001b[38;5;66;03m#som_class_data_object.__init__(*args, **kwargs)\u001b[39;00m\n\u001b[0;32m     24\u001b[0m \u001b[38;5;28mprint\u001b[39m(s)\n\u001b[1;32m---> 25\u001b[0m \u001b[38;5;28mprint\u001b[39m(s\u001b[38;5;241m.\u001b[39mget())\n\u001b[0;32m     26\u001b[0m \u001b[38;5;28mprint\u001b[39m(s\u001b[38;5;241m.\u001b[39mget_other())\n",
      "\u001b[1;31mAttributeError\u001b[0m: 'str' object has no attribute 'get'"
     ]
    }
   ],
   "source": [
    "class some:\n",
    "    def __new__(x,*args):\n",
    "        print(\"some calss new method\")\n",
    "        return object.__new__(x, *args)\n",
    "    def __init__(self):\n",
    "        print(\"some constructor\")\n",
    "        self.value=20\n",
    "    def get(self):\n",
    "        print(\"some class get\")\n",
    "        return self.value\n",
    "class Stock:\n",
    "    def __new__(x,*args):\n",
    "        return \"HELLO\"\n",
    "    def __init__(self):\n",
    "        print(\"stock constructor\")\n",
    "        self.value = 0\n",
    "    def get(self):\n",
    "        print(\"stock class get\")\n",
    "        return self.value\n",
    "    def get_other(self):\n",
    "        return  \"HELLO\"\n",
    "s=Stock()# Stock.__new__(Stock).__init__(*args, **kwargs)\n",
    "#som_class_data_object.__init__(*args, **kwargs)\n",
    "print(s)\n",
    "print(s.get())\n",
    "print(s.get_other())\n"
   ]
  },
  {
   "cell_type": "code",
   "execution_count": 14,
   "id": "04429f1c",
   "metadata": {},
   "outputs": [
    {
     "name": "stdout",
     "output_type": "stream",
     "text": [
      "0\n"
     ]
    }
   ],
   "source": [
    "class Stock:\n",
    "#     def __new__(cls, *args):\n",
    "#         print(\"new method in stock\")\n",
    "#         return object.__new__(cls, *args)\n",
    "    def __init__(self,value=0):\n",
    "        self.value=value\n",
    "    def get(self):\n",
    "        return self.value\n",
    "s=Stock()# Stock.__new__(Stock).__init__(*args, **kwargs)\n",
    "print(s.value)"
   ]
  },
  {
   "cell_type": "code",
   "execution_count": 15,
   "id": "94ee6d8a",
   "metadata": {},
   "outputs": [
    {
     "name": "stdout",
     "output_type": "stream",
     "text": [
      "new method in stock\n",
      "0\n"
     ]
    }
   ],
   "source": [
    "class Stock:\n",
    "    def __new__(cls, *args):\n",
    "        print(\"new method in stock\")\n",
    "        return object.__new__(cls, *args)# it will call object class __new__ mthod\n",
    "    # it will create stock data object that we are returning it.\n",
    "    def __init__(self,value=0):\n",
    "        self.value=value\n",
    "    def get(self):\n",
    "        return self.value\n",
    "s=Stock()# Stock.__new__(Stock).__init__(*args, **kwargs)\n",
    "print(s.value)"
   ]
  },
  {
   "cell_type": "code",
   "execution_count": 16,
   "id": "482d69da",
   "metadata": {},
   "outputs": [
    {
     "name": "stdout",
     "output_type": "stream",
     "text": [
      "hello\n"
     ]
    }
   ],
   "source": [
    "class Stock:\n",
    "    obj = None\n",
    "    print(\"hello\")\n",
    "    def __new__(cls, *args):\n",
    "        return object.__new__(cls, *args)\n",
    "    def __init__(self,value=0):\n",
    "        self.value=value\n",
    "    def get(self):\n",
    "        return self.value"
   ]
  },
  {
   "cell_type": "code",
   "execution_count": 17,
   "id": "ce439058",
   "metadata": {},
   "outputs": [
    {
     "name": "stdout",
     "output_type": "stream",
     "text": [
      "None\n"
     ]
    }
   ],
   "source": [
    "print(Stock.obj)"
   ]
  },
  {
   "cell_type": "code",
   "execution_count": null,
   "id": "fd9a91de",
   "metadata": {},
   "outputs": [],
   "source": [
    "class Stock:\n",
    "    obj = None\n",
    "    print(\"hello\")\n",
    "    def __new__(cls, *args):\n",
    "        return object.__new__(cls, *args)\n",
    "    def __init__(self,value=0):\n",
    "        self.value=value\n",
    "    def get(self):\n",
    "        return self.value"
   ]
  },
  {
   "cell_type": "code",
   "execution_count": 18,
   "id": "3f3e0593",
   "metadata": {},
   "outputs": [
    {
     "name": "stdout",
     "output_type": "stream",
     "text": [
      "hello\n",
      "new\n",
      "constructor\n",
      "None\n",
      "new\n",
      "constructor\n",
      "None\n"
     ]
    }
   ],
   "source": [
    "class Stock:\n",
    "    obj = None\n",
    "    print(\"hello\")\n",
    "    def __new__(cls, *args):\n",
    "        print(\"new\")\n",
    "        return object.__new__(cls, *args)\n",
    "    def __init__(self,value=0):\n",
    "        print(\"constructor\")\n",
    "        self.value=value\n",
    "    def get(self):\n",
    "        print(\"get\")\n",
    "        return self.value\n",
    "s=Stock()\n",
    "print(s.obj)\n",
    "s1=Stock()\n",
    "print(s.obj)"
   ]
  },
  {
   "cell_type": "code",
   "execution_count": 19,
   "id": "fedd465c",
   "metadata": {},
   "outputs": [
    {
     "name": "stdout",
     "output_type": "stream",
     "text": [
      "hello\n",
      "new\n",
      "constructor\n",
      "new\n",
      "constructor\n",
      "new\n",
      "constructor\n"
     ]
    }
   ],
   "source": [
    "class Stock:\n",
    "    obj = None\n",
    "    print(\"hello\")\n",
    "    def __new__(cls, *args):\n",
    "        print(\"new\")\n",
    "        return object.__new__(cls, *args)\n",
    "    def __init__(self,value=0):\n",
    "        print(\"constructor\")\n",
    "        self.value=value\n",
    "    def get(self):\n",
    "        print(\"get\")\n",
    "        return self.value\n",
    "s=Stock()\n",
    "s1=Stock()\n",
    "s2=Stock()"
   ]
  },
  {
   "cell_type": "code",
   "execution_count": 21,
   "id": "faaacb65",
   "metadata": {},
   "outputs": [
    {
     "name": "stdout",
     "output_type": "stream",
     "text": [
      "constructor\n",
      "<__main__.Stock object at 0x0000019B1D0F6F90> 1765719109520\n",
      "constructor\n",
      "<__main__.Stock object at 0x0000019B1D0F6F90> 1765719109520\n",
      "constructor\n",
      "<__main__.Stock object at 0x0000019B1D0F6F90> 1765719109520\n"
     ]
    }
   ],
   "source": [
    "class Stock:\n",
    "    obj = None\n",
    "    def __new__(x, *args):\n",
    "        if x.obj:#None,True\n",
    "            return x.obj\n",
    "        else:\n",
    "            x.obj= object.__new__(x, *args) # x.obj has the data object now\n",
    "            return x.obj\n",
    "    def __init__(self,value=0):\n",
    "        print(\"constructor\")\n",
    "        self.value=value\n",
    "    def get(self):\n",
    "        print(\"get\")\n",
    "        return self.value\n",
    "s=Stock()\n",
    "print(s, id(s))\n",
    "s1=Stock()\n",
    "print(s1, id(s1))\n",
    "s2=Stock()\n",
    "print(s2, id(s2))"
   ]
  },
  {
   "cell_type": "code",
   "execution_count": 22,
   "id": "996303ff",
   "metadata": {},
   "outputs": [
    {
     "name": "stdout",
     "output_type": "stream",
     "text": [
      "constructor\n",
      "<__main__.Stock object at 0x0000019B1D099B10> 1765718727440\n",
      "10 140733813920840\n",
      "10 140733813920840\n"
     ]
    }
   ],
   "source": [
    "class Stock:\n",
    "    obj = None\n",
    "    def __new__(x, *args):\n",
    "        if x.obj:\n",
    "            x.obj = 10\n",
    "            return x.obj\n",
    "        else:\n",
    "            x.obj= object.__new__(x, *args) # x.obj has the data object now\n",
    "            return x.obj\n",
    "    def __init__(self,value=0):\n",
    "        print(\"constructor\")\n",
    "        self.value=value\n",
    "    def get(self):\n",
    "        print(\"get\")\n",
    "        return self.value\n",
    "s=Stock()\n",
    "print(s, id(s))\n",
    "s1=Stock()\n",
    "print(s1, id(s1))\n",
    "s2=Stock()\n",
    "print(s2, id(s2))"
   ]
  },
  {
   "cell_type": "code",
   "execution_count": 23,
   "id": "3b0fe32d",
   "metadata": {},
   "outputs": [
    {
     "name": "stdout",
     "output_type": "stream",
     "text": [
      "constructor\n",
      "<__main__.Stock object at 0x0000019B1C3CE990> 1765705312656\n",
      "10 140733813920840\n",
      "10 140733813920840\n"
     ]
    }
   ],
   "source": [
    "class Stock:\n",
    "    obj = None\n",
    "    def __new__(x, *args):\n",
    "        if x.obj:\n",
    "            x.obj = 10\n",
    "            return x.obj\n",
    "        else:\n",
    "            x.obj= object.__new__(x, *args) # x.obj has the data object now\n",
    "            return x.obj\n",
    "    def __init__(self,value=0):\n",
    "        print(\"constructor\")\n",
    "        self.value=value\n",
    "    def get(self):\n",
    "        print(\"get\")\n",
    "        return self.value\n",
    "s=Stock()\n",
    "print(s, id(s))\n",
    "s1=Stock()\n",
    "print(s1, id(s1))\n",
    "s2=Stock()\n",
    "print(s2, id(s2))"
   ]
  },
  {
   "cell_type": "code",
   "execution_count": 24,
   "id": "26034fd5",
   "metadata": {},
   "outputs": [
    {
     "ename": "NameError",
     "evalue": "name 'obj' is not defined",
     "output_type": "error",
     "traceback": [
      "\u001b[1;31m---------------------------------------------------------------------------\u001b[0m",
      "\u001b[1;31mNameError\u001b[0m                                 Traceback (most recent call last)",
      "Cell \u001b[1;32mIn[24], line 1\u001b[0m\n\u001b[1;32m----> 1\u001b[0m \u001b[38;5;28mprint\u001b[39m(obj)\n",
      "\u001b[1;31mNameError\u001b[0m: name 'obj' is not defined"
     ]
    }
   ],
   "source": [
    "print(obj)"
   ]
  },
  {
   "cell_type": "code",
   "execution_count": null,
   "id": "231f2aed",
   "metadata": {},
   "outputs": [],
   "source": [
    "class Stock:\n",
    "    obj = None\n",
    "    def __new__(x, *args):\n",
    "        if x.obj:\n",
    "            return x.obj\n",
    "        else:\n",
    "            x.obj= object.__new__(x, *args) # x.obj has the data object now\n",
    "            return x.obj\n",
    "    def __init__(self,value=0):\n",
    "        print(\"constructor\")\n",
    "        self.value=value\n",
    "    def get(self):\n",
    "        print(\"get\")\n",
    "        return self.value\n",
    "s=Stock()\n",
    "print(s, id(s))\n",
    "s1=Stock()\n",
    "print(s1, id(s1))\n",
    "s2=Stock()\n",
    "print(s2, id(s2))"
   ]
  },
  {
   "cell_type": "code",
   "execution_count": 25,
   "id": "55c78c43",
   "metadata": {},
   "outputs": [
    {
     "name": "stdout",
     "output_type": "stream",
     "text": [
      "enter\n",
      "hello\n",
      "exit\n"
     ]
    }
   ],
   "source": [
    "class A:\n",
    "    def __enter__(self):\n",
    "        print(\"enter\")\n",
    "        return self\n",
    "    def __exit__(self, *args, **kwargs):\n",
    "        print(\"exit\")\n",
    "        \n",
    "class B(A):\n",
    "    pass\n",
    "with B():\n",
    "    print(\"hello\")\n",
    "        "
   ]
  },
  {
   "cell_type": "code",
   "execution_count": 26,
   "id": "ee0bfa78",
   "metadata": {},
   "outputs": [
    {
     "name": "stdout",
     "output_type": "stream",
     "text": [
      "True\n"
     ]
    }
   ],
   "source": [
    "class A:\n",
    "    def __enter__(self):\n",
    "        print(\"enter\")\n",
    "        return self\n",
    "    def __exit__(self, *args, **kwargs):\n",
    "        print(\"exit\")\n",
    "    def get(se)\n",
    "        \n",
    "class B(A):\n",
    "    pass\n",
    "b=B()\n",
    "print(isinstance(b, A)) "
   ]
  },
  {
   "cell_type": "code",
   "execution_count": 27,
   "id": "6cebd815",
   "metadata": {},
   "outputs": [
    {
     "name": "stdout",
     "output_type": "stream",
     "text": [
      "get is called\n"
     ]
    }
   ],
   "source": [
    "class A:\n",
    "    def __enter__(self):\n",
    "        print(\"enter\")\n",
    "    def __exit__(self):\n",
    "        print(\"exit\")\n",
    "    def get(self):\n",
    "        print(\"get is called\")\n",
    " \n",
    " \n",
    "class B(A):\n",
    "    def get_1():\n",
    "        print(\"get_1 called\")\n",
    " \n",
    "# with B() as v1:\n",
    "#     v1.get()\n",
    " \n",
    "v1 = B()\n",
    "v1.get()"
   ]
  },
  {
   "cell_type": "code",
   "execution_count": 32,
   "id": "5d4bad60",
   "metadata": {},
   "outputs": [
    {
     "name": "stdout",
     "output_type": "stream",
     "text": [
      "get is called\n"
     ]
    }
   ],
   "source": [
    "class ContextManager:\n",
    "    def __enter__(self):\n",
    "        return self\n",
    "    def __exit__(self, *args, **kwargs):\n",
    "        return None\n",
    "\n",
    "\n",
    "class A(ContextManager):\n",
    "    def __enter__(self):\n",
    "        return super(A, self).__enter__()\n",
    "    def get(self):\n",
    "        print(\"get is called\")\n",
    " \n",
    " \n",
    "class B(A):\n",
    "    def get_1():\n",
    "        print(\"get_1 called\")\n",
    " \n",
    "with B() as v1:\n",
    "    v1.get()\n",
    " "
   ]
  },
  {
   "cell_type": "code",
   "execution_count": null,
   "id": "f53a2700",
   "metadata": {},
   "outputs": [],
   "source": []
  }
 ],
 "metadata": {
  "kernelspec": {
   "display_name": "Python 3 (ipykernel)",
   "language": "python",
   "name": "python3"
  },
  "language_info": {
   "codemirror_mode": {
    "name": "ipython",
    "version": 3
   },
   "file_extension": ".py",
   "mimetype": "text/x-python",
   "name": "python",
   "nbconvert_exporter": "python",
   "pygments_lexer": "ipython3",
   "version": "3.11.3"
  }
 },
 "nbformat": 4,
 "nbformat_minor": 5
}
