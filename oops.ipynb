{
 "cells": [
  {
   "cell_type": "code",
   "execution_count": 3,
   "id": "9950acac",
   "metadata": {},
   "outputs": [],
   "source": [
    "a=1000"
   ]
  },
  {
   "cell_type": "code",
   "execution_count": 4,
   "id": "f070460d",
   "metadata": {},
   "outputs": [
    {
     "name": "stdout",
     "output_type": "stream",
     "text": [
      "1000\n"
     ]
    }
   ],
   "source": [
    "print(a)"
   ]
  },
  {
   "cell_type": "code",
   "execution_count": 5,
   "id": "3d66c82a",
   "metadata": {},
   "outputs": [
    {
     "name": "stdout",
     "output_type": "stream",
     "text": [
      "<class 'int'>\n"
     ]
    }
   ],
   "source": [
    "print(type(a))"
   ]
  },
  {
   "cell_type": "code",
   "execution_count": 6,
   "id": "5491be0d",
   "metadata": {},
   "outputs": [
    {
     "data": {
      "text/plain": [
       "True"
      ]
     },
     "execution_count": 6,
     "metadata": {},
     "output_type": "execute_result"
    }
   ],
   "source": [
    "isinstance(a, int)"
   ]
  },
  {
   "cell_type": "code",
   "execution_count": 7,
   "id": "55f6aee3",
   "metadata": {},
   "outputs": [
    {
     "name": "stdout",
     "output_type": "stream",
     "text": [
      "1000\n"
     ]
    }
   ],
   "source": [
    "a=int(\"1000\")\n",
    "print(a)"
   ]
  },
  {
   "cell_type": "code",
   "execution_count": 8,
   "id": "66462fd6",
   "metadata": {},
   "outputs": [
    {
     "name": "stdout",
     "output_type": "stream",
     "text": [
      "('Jayaram', 1234)\n"
     ]
    }
   ],
   "source": [
    "class Emp:\n",
    "    def __init__(self,name,empid):\n",
    "        self.name=name\n",
    "        self.empid=empid\n",
    "    def get(self):\n",
    "        return self.name, self.empid\n",
    "jay = Emp(\"Jayaram\", 1234)\n",
    "print(jay.get())#"
   ]
  },
  {
   "cell_type": "code",
   "execution_count": 9,
   "id": "8632d8eb",
   "metadata": {},
   "outputs": [
    {
     "name": "stdout",
     "output_type": "stream",
     "text": [
      "('Jayaram', 1234)\n"
     ]
    },
    {
     "ename": "TypeError",
     "evalue": "Emp.get() missing 1 required positional argument: 'self'",
     "output_type": "error",
     "traceback": [
      "\u001b[1;31m---------------------------------------------------------------------------\u001b[0m",
      "\u001b[1;31mTypeError\u001b[0m                                 Traceback (most recent call last)",
      "Cell \u001b[1;32mIn[9], line 9\u001b[0m\n\u001b[0;32m      7\u001b[0m jay \u001b[38;5;241m=\u001b[39m Emp(\u001b[38;5;124m\"\u001b[39m\u001b[38;5;124mJayaram\u001b[39m\u001b[38;5;124m\"\u001b[39m, \u001b[38;5;241m1234\u001b[39m)\n\u001b[0;32m      8\u001b[0m \u001b[38;5;28mprint\u001b[39m(jay\u001b[38;5;241m.\u001b[39mget())\n\u001b[1;32m----> 9\u001b[0m \u001b[38;5;28mprint\u001b[39m(Emp\u001b[38;5;241m.\u001b[39mget())\n",
      "\u001b[1;31mTypeError\u001b[0m: Emp.get() missing 1 required positional argument: 'self'"
     ]
    }
   ],
   "source": [
    "class Emp:\n",
    "    def __init__(self,name,empid):\n",
    "        self.name=name\n",
    "        self.empid=empid\n",
    "    def get(self):\n",
    "        return self.name, self.empid\n",
    "jay = Emp(\"Jayaram\", 1234)\n",
    "print(jay.get())\n",
    "print(Emp.get())"
   ]
  },
  {
   "cell_type": "code",
   "execution_count": 10,
   "id": "8d24a314",
   "metadata": {},
   "outputs": [
    {
     "name": "stdout",
     "output_type": "stream",
     "text": [
      "('Jayaram', 1234)\n",
      "('Jayaram', 1234)\n"
     ]
    }
   ],
   "source": [
    "class Emp:\n",
    "    def __init__(self,name,empid):\n",
    "        self.name=name\n",
    "        self.empid=empid\n",
    "    def get(self):\n",
    "        return self.name, self.empid\n",
    "jay = Emp(\"Jayaram\", 1234)\n",
    "print(jay.get())\n",
    "print(Emp.get(jay))"
   ]
  },
  {
   "cell_type": "code",
   "execution_count": 11,
   "id": "c1088f08",
   "metadata": {},
   "outputs": [
    {
     "name": "stdout",
     "output_type": "stream",
     "text": [
      "<class 'function'>\n"
     ]
    }
   ],
   "source": [
    "def fun():\n",
    "    pass\n",
    "print(type(fun))"
   ]
  },
  {
   "cell_type": "code",
   "execution_count": 12,
   "id": "61dfc8c7",
   "metadata": {},
   "outputs": [
    {
     "name": "stdout",
     "output_type": "stream",
     "text": [
      "<class 'type'>\n"
     ]
    }
   ],
   "source": [
    "class Emp:\n",
    "    pass\n",
    "print(type(Emp))"
   ]
  },
  {
   "cell_type": "code",
   "execution_count": 13,
   "id": "c66ce49e",
   "metadata": {},
   "outputs": [
    {
     "name": "stdout",
     "output_type": "stream",
     "text": [
      "<class 'int'>\n"
     ]
    }
   ],
   "source": [
    "a=1000\n",
    "print(type(a))"
   ]
  },
  {
   "cell_type": "code",
   "execution_count": 14,
   "id": "bef1d837",
   "metadata": {},
   "outputs": [
    {
     "name": "stdout",
     "output_type": "stream",
     "text": [
      "<class 'type'>\n",
      "<class '__main__.Emp'>\n"
     ]
    }
   ],
   "source": [
    "class Emp:\n",
    "    pass\n",
    "a=Emp()\n",
    "print(type(Emp))\n",
    "print(type(a))\n"
   ]
  },
  {
   "cell_type": "code",
   "execution_count": null,
   "id": "8ddf93d1",
   "metadata": {},
   "outputs": [],
   "source": [
    "class Emp:\n",
    "    def __init__(self,name,empid):\n",
    "        self.name=name\n",
    "        self.empid=empid\n",
    "    def get(self):\n",
    "        return self.name, self.empid\n",
    "jay = Emp(\"Jayaram\", 1234)\n",
    "print(type(Emp))\n",
    "print(type(jay))"
   ]
  },
  {
   "cell_type": "code",
   "execution_count": 15,
   "id": "8b3f85dd",
   "metadata": {},
   "outputs": [],
   "source": [
    "def fun():\n",
    "    print(\"hello\")"
   ]
  },
  {
   "cell_type": "code",
   "execution_count": 16,
   "id": "a2307ae8",
   "metadata": {},
   "outputs": [
    {
     "name": "stdout",
     "output_type": "stream",
     "text": [
      "hello\n"
     ]
    }
   ],
   "source": [
    "class Emp:\n",
    "    print(\"hello\")"
   ]
  },
  {
   "cell_type": "code",
   "execution_count": 17,
   "id": "9a47b1a0",
   "metadata": {},
   "outputs": [
    {
     "name": "stdout",
     "output_type": "stream",
     "text": [
      "hello\n"
     ]
    }
   ],
   "source": [
    "class Emp:\n",
    "    print(\"hello\")\n",
    "    def get(x):\n",
    "        print(\"this is get\")"
   ]
  },
  {
   "cell_type": "code",
   "execution_count": 18,
   "id": "cdc80934",
   "metadata": {},
   "outputs": [
    {
     "name": "stdout",
     "output_type": "stream",
     "text": [
      "<class '__main__.Emp'>\n"
     ]
    }
   ],
   "source": [
    "print(Emp)"
   ]
  },
  {
   "cell_type": "code",
   "execution_count": null,
   "id": "2e5fb194",
   "metadata": {},
   "outputs": [],
   "source": [
    "name=\"jayaram\"\n",
    "empid=1234"
   ]
  },
  {
   "cell_type": "code",
   "execution_count": null,
   "id": "00e6e276",
   "metadata": {},
   "outputs": [],
   "source": [
    "class Emp:\n",
    "    def __init__(x,name,empid):\n",
    "        self.name=name\n",
    "        self.empid=empid\n",
    "    def get(self):\n",
    "        return self.name, self.empid\n",
    "jay = Emp(\"Jayaram\", 1234)\n",
    "print(type(Emp))\n",
    "print(type(jay))"
   ]
  }
 ],
 "metadata": {
  "kernelspec": {
   "display_name": "Python 3 (ipykernel)",
   "language": "python",
   "name": "python3"
  },
  "language_info": {
   "codemirror_mode": {
    "name": "ipython",
    "version": 3
   },
   "file_extension": ".py",
   "mimetype": "text/x-python",
   "name": "python",
   "nbconvert_exporter": "python",
   "pygments_lexer": "ipython3",
   "version": "3.11.3"
  }
 },
 "nbformat": 4,
 "nbformat_minor": 5
}
