{
 "cells": [
  {
   "cell_type": "code",
   "execution_count": 1,
   "id": "11305961",
   "metadata": {},
   "outputs": [
    {
     "name": "stdout",
     "output_type": "stream",
     "text": [
      "20\n"
     ]
    }
   ],
   "source": [
    "def mul(x,y):\n",
    "    return x*y\n",
    "print(mul(10,2))"
   ]
  },
  {
   "cell_type": "code",
   "execution_count": 2,
   "id": "ad80b3de",
   "metadata": {},
   "outputs": [
    {
     "name": "stdout",
     "output_type": "stream",
     "text": [
      "1722906867472\n",
      "1722906867472\n",
      "1722906867472\n"
     ]
    }
   ],
   "source": [
    "from copy import deepcopy\n",
    "a=[1000,2000]\n",
    "b=a[:]\n",
    "c=deepcopy(a)\n",
    "print(id(a[0]))\n",
    "print(id(b[0]))\n",
    "print(id(c[0]))\n"
   ]
  },
  {
   "cell_type": "code",
   "execution_count": 3,
   "id": "b65c8455",
   "metadata": {},
   "outputs": [
    {
     "name": "stdout",
     "output_type": "stream",
     "text": [
      "1722907491584\n",
      "1722907491584\n",
      "1722906769216\n"
     ]
    }
   ],
   "source": [
    "from copy import deepcopy\n",
    "a=[[3000,4000],1000,2000]\n",
    "b=a[:]\n",
    "c=deepcopy(a)\n",
    "print(id(a[0]))\n",
    "print(id(b[0]))\n",
    "print(id(c[0]))\n"
   ]
  },
  {
   "cell_type": "code",
   "execution_count": 4,
   "id": "87c02b3b",
   "metadata": {},
   "outputs": [
    {
     "name": "stdout",
     "output_type": "stream",
     "text": [
      "1722906810240\n",
      "1722906810240\n",
      "1722907319616\n",
      "********************\n",
      "1722906867664\n",
      "1722906867664\n",
      "1722906867664\n"
     ]
    }
   ],
   "source": [
    "from copy import deepcopy\n",
    "a=[[3000,4000],1000,2000]\n",
    "b=a[:]\n",
    "d=copy(a)\n",
    "e=a\n",
    "c=deepcopy(a)\n",
    "print(id(a[0]))\n",
    "print(id(b[0]))\n",
    "print(id(c[0]))\n",
    "print(\"*\"*20)\n",
    "print(id(a[1]))\n",
    "print(id(b[1]))\n",
    "print(id(c[1]))"
   ]
  },
  {
   "cell_type": "code",
   "execution_count": 6,
   "id": "520580cb",
   "metadata": {},
   "outputs": [
    {
     "name": "stdout",
     "output_type": "stream",
     "text": [
      "1722920932800\n",
      "1722920932800\n",
      "1722906731328\n",
      "1722920932800\n",
      "********************\n",
      "1722920687952\n",
      "1722920687952\n",
      "1722920687952\n",
      "1722920687952\n",
      "********************\n",
      "1722920687984\n",
      "1722920687984\n",
      "1722920687984\n",
      "1722920687984\n"
     ]
    }
   ],
   "source": [
    "from copy import deepcopy, copy\n",
    "a=[[3000,4000],1000,2000]\n",
    "b=a[:]\n",
    "d=copy(a)\n",
    "e=a\n",
    "c=deepcopy(a)\n",
    "print(id(a[0]))\n",
    "print(id(b[0]))\n",
    "print(id(c[0]))\n",
    "print(id(d[0]))\n",
    "print(\"*\"*20)\n",
    "print(id(a[1]))\n",
    "print(id(b[1]))\n",
    "print(id(c[1]))\n",
    "print(id(d[1]))\n",
    "print(\"*\"*20)\n",
    "print(id(a[2]))\n",
    "print(id(b[2]))\n",
    "print(id(c[2]))\n",
    "print(id(d[2]))"
   ]
  },
  {
   "cell_type": "code",
   "execution_count": 7,
   "id": "95d03707",
   "metadata": {},
   "outputs": [
    {
     "name": "stdout",
     "output_type": "stream",
     "text": [
      "1722920686544\n",
      "1722920686544\n"
     ]
    }
   ],
   "source": [
    "from copy import deepcopy\n",
    "a=[[3000,4000],1000,2000]\n",
    "b=a[:]\n",
    "d=copy(a)\n",
    "e=a\n",
    "c=deepcopy(a)\n",
    "a[1]=6000\n",
    "print(id(a[0][0]))\n",
    "print(id(c[0][0]))\n"
   ]
  },
  {
   "cell_type": "code",
   "execution_count": 9,
   "id": "cc93833d",
   "metadata": {},
   "outputs": [
    {
     "name": "stdout",
     "output_type": "stream",
     "text": [
      "1722920688080\n",
      "1722920688080\n",
      "1722920688048\n",
      "1722920688048\n"
     ]
    }
   ],
   "source": [
    "from copy import deepcopy\n",
    "a=[[3000,4000],1000,2000]\n",
    "b=a[:]\n",
    "d=copy(a)\n",
    "e=a\n",
    "c=deepcopy(a)\n",
    "a[1]=6000\n",
    "print(id(a[0][0]))\n",
    "print(id(c[0][0]))\n",
    "print(id(a[1]))\n",
    "print(id(c[1]))"
   ]
  },
  {
   "cell_type": "code",
   "execution_count": null,
   "id": "39d232bf",
   "metadata": {},
   "outputs": [],
   "source": [
    "from copy import deepcopy\n",
    "a=[[3000,4000],1000,2000]\n",
    "b=a[:]\n",
    "d=copy(a)\n",
    "e=a\n",
    "c=deepcopy(a)\n",
    "a[1]=6000\n",
    "a[0][0]=7000\n"
   ]
  },
  {
   "cell_type": "code",
   "execution_count": null,
   "id": "1a2568bc",
   "metadata": {},
   "outputs": [],
   "source": [
    "from copy import deepcopy\n",
    "x=[2000,[6000,7000]]\n",
    "a=[[[3000,5000,7000],4000,x],1000,2000]\n",
    "b=a[:]\n",
    "d=copy(a)\n",
    "e=a\n",
    "c=deepcopy(a)\n",
    "a[1]=6000\n",
    "a[0][0]=7000\n",
    "x.append(5000)\n",
    "x[1].append(8000)"
   ]
  },
  {
   "cell_type": "code",
   "execution_count": null,
   "id": "d6e0da41",
   "metadata": {},
   "outputs": [],
   "source": [
    "def fun(x,y):\n",
    "    print(x+y)\n",
    "res=fun\n",
    "print(res)"
   ]
  },
  {
   "cell_type": "code",
   "execution_count": 10,
   "id": "6fe21be0",
   "metadata": {},
   "outputs": [
    {
     "name": "stdout",
     "output_type": "stream",
     "text": [
      "<function fun at 0x000001912563C900>\n",
      "30\n",
      "3\n",
      "None\n",
      "None\n"
     ]
    }
   ],
   "source": [
    "def fun(x,y):\n",
    "    print(x+y)\n",
    "    \n",
    "res=fun\n",
    "print(res)\n",
    "r1=fun(10,20)\n",
    "r2=res(1,2)\n",
    "print(r1)\n",
    "print(r2)"
   ]
  },
  {
   "cell_type": "code",
   "execution_count": null,
   "id": "19a295ea",
   "metadata": {},
   "outputs": [],
   "source": []
  },
  {
   "cell_type": "code",
   "execution_count": 12,
   "id": "15bda146",
   "metadata": {},
   "outputs": [
    {
     "name": "stdout",
     "output_type": "stream",
     "text": [
      "None\n"
     ]
    }
   ],
   "source": [
    "def fun(x,y):\n",
    "    a=x+y\n",
    "    b=x-y\n",
    "    c=x*y\n",
    "res=fun(1,2)\n",
    "print(res)"
   ]
  },
  {
   "cell_type": "code",
   "execution_count": 13,
   "id": "618ce378",
   "metadata": {},
   "outputs": [
    {
     "name": "stdout",
     "output_type": "stream",
     "text": [
      "HELLO\n"
     ]
    }
   ],
   "source": [
    "def fun(x,y):\n",
    "    a=x+y\n",
    "    b=x-y\n",
    "    c=x*y\n",
    "    return \"HELLO\"\n",
    "res=fun(1,2)\n",
    "print(res)"
   ]
  },
  {
   "cell_type": "code",
   "execution_count": 14,
   "id": "163d140b",
   "metadata": {},
   "outputs": [
    {
     "name": "stdout",
     "output_type": "stream",
     "text": [
      "HELLO\n"
     ]
    }
   ],
   "source": [
    "def fun(x,y):\n",
    "    a=x+y\n",
    "    b=x-y\n",
    "    c=x*y\n",
    "    return \"HELLO\"\n",
    "print(fun(1,2))"
   ]
  },
  {
   "cell_type": "code",
   "execution_count": 15,
   "id": "8f370dd1",
   "metadata": {},
   "outputs": [],
   "source": [
    "a=0x000001912563C900"
   ]
  },
  {
   "cell_type": "code",
   "execution_count": 16,
   "id": "99f2fd7d",
   "metadata": {},
   "outputs": [
    {
     "name": "stdout",
     "output_type": "stream",
     "text": [
      "<function fun at 0x000001912563CA40>\n",
      "30\n",
      "3\n",
      "FG\n",
      "FG\n"
     ]
    }
   ],
   "source": [
    "def fun(x,y):\n",
    "    print(x+y)\n",
    "    return \"FG\"\n",
    "    \n",
    "res=fun\n",
    "print(res)\n",
    "r1=fun(10,20)\n",
    "r2=res(1,2)\n",
    "print(r1)\n",
    "print(r2)"
   ]
  },
  {
   "cell_type": "code",
   "execution_count": 17,
   "id": "580031f8",
   "metadata": {},
   "outputs": [
    {
     "name": "stdout",
     "output_type": "stream",
     "text": [
      "1000\n"
     ]
    }
   ],
   "source": [
    "a=1000\n",
    "print(0*10**0+0*10**1+0*10**2+1*10**3)"
   ]
  },
  {
   "cell_type": "code",
   "execution_count": 19,
   "id": "84f20131",
   "metadata": {},
   "outputs": [
    {
     "name": "stdout",
     "output_type": "stream",
     "text": [
      "512\n",
      "512\n"
     ]
    }
   ],
   "source": [
    "a=0o1000\n",
    "b=8\n",
    "print(0*b**0+0*b**1+0*b**2+1*b**3)\n",
    "print(a)"
   ]
  },
  {
   "cell_type": "code",
   "execution_count": 20,
   "id": "b7b7a7a8",
   "metadata": {},
   "outputs": [
    {
     "name": "stdout",
     "output_type": "stream",
     "text": [
      "<function fun at 0x000001912563D440>\n",
      "1722909185088\n"
     ]
    }
   ],
   "source": [
    "def fun(x,y):\n",
    "    print(x+y)\n",
    "    return \"FG\"\n",
    "    \n",
    "res=fun\n",
    "print(res)\n",
    "print(id(fun))\n"
   ]
  },
  {
   "cell_type": "code",
   "execution_count": 21,
   "id": "778770e2",
   "metadata": {},
   "outputs": [
    {
     "name": "stdout",
     "output_type": "stream",
     "text": [
      "1722909185088\n"
     ]
    }
   ],
   "source": [
    "a=0x000001912563D440\n",
    "print(a)"
   ]
  },
  {
   "cell_type": "code",
   "execution_count": null,
   "id": "b1160616",
   "metadata": {},
   "outputs": [],
   "source": [
    "def fun(x,y):\n",
    "    print(x+y)\n",
    "    return \"FG\"\n",
    "    \n",
    "res=fun\n",
    "print(res)\n",
    "print(id(fun))\n"
   ]
  },
  {
   "cell_type": "code",
   "execution_count": 22,
   "id": "f53eca7b",
   "metadata": {},
   "outputs": [
    {
     "name": "stdout",
     "output_type": "stream",
     "text": [
      "[1000, 2000, 3000, 6000]\n",
      "[1000, 2000, 3000, 6000, 6000]\n"
     ]
    }
   ],
   "source": [
    "l=[1000,2000,3000]\n",
    "def fun(x,y):\n",
    "    x.append(6000)\n",
    "fun(l,2000)\n",
    "print(l)\n",
    "fun(l,3000)\n",
    "print(l)"
   ]
  },
  {
   "cell_type": "code",
   "execution_count": null,
   "id": "0be219c1",
   "metadata": {},
   "outputs": [],
   "source": [
    "def fun(a,b):\n",
    "    return a+b\n",
    "res=fun(1000,2000)\n",
    "print(res)"
   ]
  },
  {
   "cell_type": "code",
   "execution_count": 1,
   "id": "ccbc2b1e",
   "metadata": {},
   "outputs": [
    {
     "name": "stdout",
     "output_type": "stream",
     "text": [
      "1869077777152\n",
      "1869077777152\n",
      "1869077779712\n",
      "1869077781248\n"
     ]
    }
   ],
   "source": [
    "from copy import copy, deepcopy\n",
    "y=[5000,6000,7000]\n",
    "x=[3000,4000,y]\n",
    "l=[1000,2000,x,[8000,9000]]\n",
    "n=l\n",
    "k=copy(l)\n",
    "m=deepcopy(l)\n",
    "print(id(l))\n",
    "print(id(n))\n",
    "print(id(k))\n",
    "print(id(m))"
   ]
  },
  {
   "cell_type": "code",
   "execution_count": 2,
   "id": "d75ecccd",
   "metadata": {},
   "outputs": [
    {
     "name": "stdout",
     "output_type": "stream",
     "text": [
      "1869077837680\n",
      "1869077837680\n",
      "1869077837680\n",
      "1869077837680\n"
     ]
    }
   ],
   "source": [
    "from copy import copy, deepcopy\n",
    "y=[5000,6000,7000]\n",
    "x=[3000,4000,y]\n",
    "l=[1000,2000,x,[8000,9000]]\n",
    "n=l\n",
    "k=copy(l)\n",
    "m=deepcopy(l)\n",
    "print(id(l[0]))\n",
    "print(id(n[0]))\n",
    "print(id(k[0]))\n",
    "print(id(m[0]))\n"
   ]
  },
  {
   "cell_type": "code",
   "execution_count": 3,
   "id": "c7a2469c",
   "metadata": {},
   "outputs": [
    {
     "name": "stdout",
     "output_type": "stream",
     "text": [
      "1869077784384\n",
      "1869077784384\n",
      "1869077784384\n",
      "1869077783040\n"
     ]
    }
   ],
   "source": [
    "from copy import copy, deepcopy\n",
    "y=[5000,6000,7000]\n",
    "x=[3000,4000,y]\n",
    "l=[1000,2000,x,[8000,9000]]\n",
    "n=l\n",
    "k=copy(l)\n",
    "m=deepcopy(l)\n",
    "print(id(l[-1]))\n",
    "print(id(n[-1]))\n",
    "print(id(k[-1]))\n",
    "\n",
    "print(id(m[-1]))\n"
   ]
  },
  {
   "cell_type": "code",
   "execution_count": 4,
   "id": "9fb7d67b",
   "metadata": {},
   "outputs": [
    {
     "name": "stdout",
     "output_type": "stream",
     "text": [
      "1869077838704\n",
      "1869077838704\n",
      "1869077838704\n",
      "1869077838704\n"
     ]
    }
   ],
   "source": [
    "from copy import copy, deepcopy\n",
    "y=[5000,6000,7000]\n",
    "x=[3000,4000,y]\n",
    "l=[1000,2000,x,[8000,9000]]\n",
    "n=l\n",
    "k=copy(l)\n",
    "m=deepcopy(l)\n",
    "print(id(l[-1][0]))\n",
    "print(id(n[-1][0]))\n",
    "print(id(k[-1][0]))\n",
    "\n",
    "print(id(m[-1][0]))\n"
   ]
  },
  {
   "cell_type": "code",
   "execution_count": 5,
   "id": "98d17fa5",
   "metadata": {},
   "outputs": [
    {
     "name": "stdout",
     "output_type": "stream",
     "text": [
      "1869077781696\n",
      "1869077781696\n",
      "1869077781696\n",
      "1869077783488\n"
     ]
    }
   ],
   "source": [
    "from copy import copy, deepcopy\n",
    "y=[5000,6000,7000]\n",
    "x=[3000,4000,y]\n",
    "l=[1000,2000,x,[8000,9000]]\n",
    "n=l\n",
    "k=copy(l)\n",
    "m=deepcopy(l)\n",
    "l[-1][0]=1234\n",
    "print(id(l[-1]))\n",
    "print(id(n[-1]))\n",
    "print(id(k[-1]))\n",
    "\n",
    "print(id(m[-1]))\n"
   ]
  },
  {
   "cell_type": "code",
   "execution_count": null,
   "id": "e56f9993",
   "metadata": {},
   "outputs": [],
   "source": [
    "a=1000\n",
    "a=\"safas\"\n",
    "a=[1,2,3,4]\n",
    "#int,bigint, smallint: 2**8/2, 2**32/2, 2**64/2"
   ]
  },
  {
   "cell_type": "code",
   "execution_count": 6,
   "id": "151e1210",
   "metadata": {},
   "outputs": [
    {
     "name": "stdout",
     "output_type": "stream",
     "text": [
      "x=10,y=20,z=30,args=(40, 50, 60),kwargs={}\n"
     ]
    }
   ],
   "source": [
    "def fun(x,y,z=0,*args, **kwargs):\n",
    "    print(f\"x={x},y={y},z={z},args={args},kwargs={kwargs}\")\n",
    "fun(10,20,30,40,50,60)"
   ]
  },
  {
   "cell_type": "code",
   "execution_count": 7,
   "id": "09bcf889",
   "metadata": {},
   "outputs": [
    {
     "ename": "TypeError",
     "evalue": "fun() got multiple values for argument 'x'",
     "output_type": "error",
     "traceback": [
      "\u001b[1;31m---------------------------------------------------------------------------\u001b[0m",
      "\u001b[1;31mTypeError\u001b[0m                                 Traceback (most recent call last)",
      "Cell \u001b[1;32mIn[7], line 3\u001b[0m\n\u001b[0;32m      1\u001b[0m \u001b[38;5;28;01mdef\u001b[39;00m \u001b[38;5;21mfun\u001b[39m(x,y,z\u001b[38;5;241m=\u001b[39m\u001b[38;5;241m0\u001b[39m,\u001b[38;5;241m*\u001b[39margs, \u001b[38;5;241m*\u001b[39m\u001b[38;5;241m*\u001b[39mkwargs):\n\u001b[0;32m      2\u001b[0m     \u001b[38;5;28mprint\u001b[39m(\u001b[38;5;124mf\u001b[39m\u001b[38;5;124m\"\u001b[39m\u001b[38;5;124mx=\u001b[39m\u001b[38;5;132;01m{\u001b[39;00mx\u001b[38;5;132;01m}\u001b[39;00m\u001b[38;5;124m,y=\u001b[39m\u001b[38;5;132;01m{\u001b[39;00my\u001b[38;5;132;01m}\u001b[39;00m\u001b[38;5;124m,z=\u001b[39m\u001b[38;5;132;01m{\u001b[39;00mz\u001b[38;5;132;01m}\u001b[39;00m\u001b[38;5;124m,args=\u001b[39m\u001b[38;5;132;01m{\u001b[39;00margs\u001b[38;5;132;01m}\u001b[39;00m\u001b[38;5;124m,kwargs=\u001b[39m\u001b[38;5;132;01m{\u001b[39;00mkwargs\u001b[38;5;132;01m}\u001b[39;00m\u001b[38;5;124m\"\u001b[39m)\n\u001b[1;32m----> 3\u001b[0m fun(\u001b[38;5;241m10\u001b[39m,\u001b[38;5;241m20\u001b[39m,\u001b[38;5;241m30\u001b[39m,\u001b[38;5;241m40\u001b[39m,\u001b[38;5;241m50\u001b[39m,\u001b[38;5;241m60\u001b[39m,x\u001b[38;5;241m=\u001b[39m\u001b[38;5;241m3000\u001b[39m)\n",
      "\u001b[1;31mTypeError\u001b[0m: fun() got multiple values for argument 'x'"
     ]
    }
   ],
   "source": [
    "def fun(x,y,z=0,*args, **kwargs):\n",
    "    print(f\"x={x},y={y},z={z},args={args},kwargs={kwargs}\")\n",
    "fun(10,20,30,40,50,60,x=3000)"
   ]
  },
  {
   "cell_type": "code",
   "execution_count": 8,
   "id": "81b70046",
   "metadata": {},
   "outputs": [
    {
     "name": "stdout",
     "output_type": "stream",
     "text": [
      "x=10,y=20,z=30,args=(40, 50, 60),kwargs={'a': 3000}\n"
     ]
    }
   ],
   "source": [
    "def fun(x,y,z=0,*args, **kwargs):\n",
    "    print(f\"x={x},y={y},z={z},args={args},kwargs={kwargs}\")\n",
    "fun(10,20,30,40,50,60,a=3000)"
   ]
  },
  {
   "cell_type": "code",
   "execution_count": 9,
   "id": "5e4e2c9d",
   "metadata": {},
   "outputs": [
    {
     "ename": "TypeError",
     "evalue": "fun() missing 1 required positional argument: 'x'",
     "output_type": "error",
     "traceback": [
      "\u001b[1;31m---------------------------------------------------------------------------\u001b[0m",
      "\u001b[1;31mTypeError\u001b[0m                                 Traceback (most recent call last)",
      "Cell \u001b[1;32mIn[9], line 3\u001b[0m\n\u001b[0;32m      1\u001b[0m \u001b[38;5;28;01mdef\u001b[39;00m \u001b[38;5;21mfun\u001b[39m(x,y,z\u001b[38;5;241m=\u001b[39m\u001b[38;5;241m0\u001b[39m,\u001b[38;5;241m*\u001b[39margs, \u001b[38;5;241m*\u001b[39m\u001b[38;5;241m*\u001b[39mkwargs):\n\u001b[0;32m      2\u001b[0m     \u001b[38;5;28mprint\u001b[39m(\u001b[38;5;124mf\u001b[39m\u001b[38;5;124m\"\u001b[39m\u001b[38;5;124mx=\u001b[39m\u001b[38;5;132;01m{\u001b[39;00mx\u001b[38;5;132;01m}\u001b[39;00m\u001b[38;5;124m,y=\u001b[39m\u001b[38;5;132;01m{\u001b[39;00my\u001b[38;5;132;01m}\u001b[39;00m\u001b[38;5;124m,z=\u001b[39m\u001b[38;5;132;01m{\u001b[39;00mz\u001b[38;5;132;01m}\u001b[39;00m\u001b[38;5;124m,args=\u001b[39m\u001b[38;5;132;01m{\u001b[39;00margs\u001b[38;5;132;01m}\u001b[39;00m\u001b[38;5;124m,kwargs=\u001b[39m\u001b[38;5;132;01m{\u001b[39;00mkwargs\u001b[38;5;132;01m}\u001b[39;00m\u001b[38;5;124m\"\u001b[39m)\n\u001b[1;32m----> 3\u001b[0m fun(y\u001b[38;5;241m=\u001b[39m\u001b[38;5;241m1000\u001b[39m,z\u001b[38;5;241m=\u001b[39m\u001b[38;5;241m3000\u001b[39m,a\u001b[38;5;241m=\u001b[39m\u001b[38;5;241m1000\u001b[39m)\n",
      "\u001b[1;31mTypeError\u001b[0m: fun() missing 1 required positional argument: 'x'"
     ]
    }
   ],
   "source": [
    "def fun(x,y,z=0,*args, **kwargs):\n",
    "    print(f\"x={x},y={y},z={z},args={args},kwargs={kwargs}\")\n",
    "fun(y=1000,z=3000,a=1000)"
   ]
  },
  {
   "cell_type": "code",
   "execution_count": 10,
   "id": "73806870",
   "metadata": {},
   "outputs": [
    {
     "name": "stdout",
     "output_type": "stream",
     "text": [
      "x=10,y=ok,z=approved,args=(12.34,),kwargs={}\n"
     ]
    }
   ],
   "source": [
    "fun(10,\"ok\",\"approved\",12.34)"
   ]
  },
  {
   "cell_type": "code",
   "execution_count": 11,
   "id": "3266224a",
   "metadata": {},
   "outputs": [
    {
     "data": {
      "text/plain": [
       "range(0, 10)"
      ]
     },
     "execution_count": 11,
     "metadata": {},
     "output_type": "execute_result"
    }
   ],
   "source": [
    "range(10)"
   ]
  },
  {
   "cell_type": "code",
   "execution_count": 12,
   "id": "0c575af2",
   "metadata": {},
   "outputs": [],
   "source": [
    "range?"
   ]
  },
  {
   "cell_type": "code",
   "execution_count": 13,
   "id": "431aa3dc",
   "metadata": {},
   "outputs": [
    {
     "ename": "TypeError",
     "evalue": "range() takes no keyword arguments",
     "output_type": "error",
     "traceback": [
      "\u001b[1;31m---------------------------------------------------------------------------\u001b[0m",
      "\u001b[1;31mTypeError\u001b[0m                                 Traceback (most recent call last)",
      "Cell \u001b[1;32mIn[13], line 2\u001b[0m\n\u001b[0;32m      1\u001b[0m x\u001b[38;5;241m=\u001b[39m\u001b[38;5;28mrange\u001b[39m(\u001b[38;5;241m10\u001b[39m)\n\u001b[1;32m----> 2\u001b[0m y\u001b[38;5;241m=\u001b[39m\u001b[38;5;28mrange\u001b[39m(\u001b[38;5;28mself\u001b[39m\u001b[38;5;241m=\u001b[39m\u001b[38;5;241m10\u001b[39m)\n",
      "\u001b[1;31mTypeError\u001b[0m: range() takes no keyword arguments"
     ]
    }
   ],
   "source": [
    "x=range(10)\n",
    "y=range(self=10)"
   ]
  },
  {
   "cell_type": "code",
   "execution_count": 14,
   "id": "bcbab5da",
   "metadata": {},
   "outputs": [
    {
     "name": "stdout",
     "output_type": "stream",
     "text": [
      "10\n"
     ]
    },
    {
     "ename": "TypeError",
     "evalue": "fun() got some positional-only arguments passed as keyword arguments: 'x'",
     "output_type": "error",
     "traceback": [
      "\u001b[1;31m---------------------------------------------------------------------------\u001b[0m",
      "\u001b[1;31mTypeError\u001b[0m                                 Traceback (most recent call last)",
      "Cell \u001b[1;32mIn[14], line 4\u001b[0m\n\u001b[0;32m      2\u001b[0m     \u001b[38;5;28mprint\u001b[39m(x)\n\u001b[0;32m      3\u001b[0m fun(\u001b[38;5;241m10\u001b[39m)\n\u001b[1;32m----> 4\u001b[0m fun(x\u001b[38;5;241m=\u001b[39m\u001b[38;5;241m10\u001b[39m)\n",
      "\u001b[1;31mTypeError\u001b[0m: fun() got some positional-only arguments passed as keyword arguments: 'x'"
     ]
    }
   ],
   "source": [
    "def fun(x, /):\n",
    "    print(x)\n",
    "fun(10)\n",
    "fun(x=10)"
   ]
  },
  {
   "cell_type": "code",
   "execution_count": 20,
   "id": "e5d4b529",
   "metadata": {},
   "outputs": [
    {
     "name": "stdout",
     "output_type": "stream",
     "text": [
      "10\n"
     ]
    },
    {
     "ename": "TypeError",
     "evalue": "fun() takes 0 positional arguments but 1 was given",
     "output_type": "error",
     "traceback": [
      "\u001b[1;31m---------------------------------------------------------------------------\u001b[0m",
      "\u001b[1;31mTypeError\u001b[0m                                 Traceback (most recent call last)",
      "Cell \u001b[1;32mIn[20], line 4\u001b[0m\n\u001b[0;32m      2\u001b[0m     \u001b[38;5;28mprint\u001b[39m(x)\n\u001b[0;32m      3\u001b[0m fun(x\u001b[38;5;241m=\u001b[39m\u001b[38;5;241m10\u001b[39m)\n\u001b[1;32m----> 4\u001b[0m fun(\u001b[38;5;241m10\u001b[39m)\n",
      "\u001b[1;31mTypeError\u001b[0m: fun() takes 0 positional arguments but 1 was given"
     ]
    }
   ],
   "source": [
    "def fun(*,x):\n",
    "    print(x)\n",
    "fun(x=10)\n",
    "fun(10)"
   ]
  },
  {
   "cell_type": "code",
   "execution_count": 18,
   "id": "1ecf3a5b",
   "metadata": {},
   "outputs": [],
   "source": [
    "import pandas as pd"
   ]
  },
  {
   "cell_type": "code",
   "execution_count": 19,
   "id": "287a2ea9",
   "metadata": {},
   "outputs": [],
   "source": [
    "pd.read_csv?"
   ]
  },
  {
   "cell_type": "code",
   "execution_count": 21,
   "id": "a6443e66",
   "metadata": {},
   "outputs": [
    {
     "name": "stdout",
     "output_type": "stream",
     "text": [
      "result= <generator object get_values at 0x000001B330195620>\n"
     ]
    }
   ],
   "source": [
    "def get_values(x):#x=10\n",
    "    print(\"started\")\n",
    "    for i in range(x):#i=0,i=1\n",
    "        print(\"i=\",i)\n",
    "        yield i\n",
    "res = get_values(10)\n",
    "print(\"result=\",res)"
   ]
  },
  {
   "cell_type": "code",
   "execution_count": 22,
   "id": "5f93acd9",
   "metadata": {},
   "outputs": [
    {
     "name": "stdout",
     "output_type": "stream",
     "text": [
      "started\n",
      "i= 0\n",
      "r1= 0\n",
      "ok\n"
     ]
    }
   ],
   "source": [
    "r1=next(res)\n",
    "print(\"r1=\",r1)\n",
    "print(\"ok\")"
   ]
  },
  {
   "cell_type": "code",
   "execution_count": 23,
   "id": "d737bed0",
   "metadata": {},
   "outputs": [
    {
     "name": "stdout",
     "output_type": "stream",
     "text": [
      "i= 1\n",
      "r1= 1\n",
      "ok\n"
     ]
    }
   ],
   "source": [
    "r1=next(res)\n",
    "print(\"r1=\",r1)\n",
    "print(\"ok\")"
   ]
  },
  {
   "cell_type": "code",
   "execution_count": 24,
   "id": "b7c626aa",
   "metadata": {},
   "outputs": [
    {
     "ename": "TypeError",
     "evalue": "'set' object is not subscriptable",
     "output_type": "error",
     "traceback": [
      "\u001b[1;31m---------------------------------------------------------------------------\u001b[0m",
      "\u001b[1;31mTypeError\u001b[0m                                 Traceback (most recent call last)",
      "Cell \u001b[1;32mIn[24], line 2\u001b[0m\n\u001b[0;32m      1\u001b[0m s\u001b[38;5;241m=\u001b[39m{\u001b[38;5;241m10\u001b[39m,\u001b[38;5;241m20\u001b[39m,\u001b[38;5;241m30\u001b[39m,\u001b[38;5;241m40\u001b[39m}\n\u001b[1;32m----> 2\u001b[0m \u001b[38;5;28mprint\u001b[39m(s[\u001b[38;5;241m0\u001b[39m])\n",
      "\u001b[1;31mTypeError\u001b[0m: 'set' object is not subscriptable"
     ]
    }
   ],
   "source": [
    "s={10,20,30,40}\n",
    "print(s[0])"
   ]
  },
  {
   "cell_type": "code",
   "execution_count": 25,
   "id": "71be31db",
   "metadata": {},
   "outputs": [
    {
     "name": "stdout",
     "output_type": "stream",
     "text": [
      "{40, 10, 20, 30}\n"
     ]
    }
   ],
   "source": [
    "s={10,20,30,40}\n",
    "print(s)"
   ]
  },
  {
   "cell_type": "code",
   "execution_count": 26,
   "id": "42ccbf04",
   "metadata": {},
   "outputs": [
    {
     "name": "stdout",
     "output_type": "stream",
     "text": [
      "1869117743712\n"
     ]
    }
   ],
   "source": [
    "print(id(s))"
   ]
  },
  {
   "cell_type": "code",
   "execution_count": 27,
   "id": "6dd9fef8",
   "metadata": {},
   "outputs": [
    {
     "name": "stdout",
     "output_type": "stream",
     "text": [
      "[1002, 2002, 3002, 4002]\n"
     ]
    }
   ],
   "source": [
    "r=[1000,2000,3000,4000]\n",
    "r1=[]\n",
    "for i in r:#i=1000\n",
    "    r1.append(i+2)\n",
    "print(r1)"
   ]
  },
  {
   "cell_type": "code",
   "execution_count": 28,
   "id": "dc9ec53b",
   "metadata": {},
   "outputs": [
    {
     "name": "stdout",
     "output_type": "stream",
     "text": [
      "<generator object fun at 0x000001B330210FB0>\n"
     ]
    }
   ],
   "source": [
    "def fun(x):\n",
    "    c=1\n",
    "    while c<x:\n",
    "        yield c*1000\n",
    "        c=c+1\n",
    "res = fun(4)\n",
    "print(res)\n",
    " "
   ]
  },
  {
   "cell_type": "code",
   "execution_count": 29,
   "id": "3a176934",
   "metadata": {},
   "outputs": [
    {
     "name": "stdout",
     "output_type": "stream",
     "text": [
      "[1002, 2002, 3002]\n"
     ]
    }
   ],
   "source": [
    "def fun(x):\n",
    "    c=1\n",
    "    while c<x:\n",
    "        yield c*1000\n",
    "        c=c+1\n",
    "res = fun(4)\n",
    "print(res)\n",
    "r1 = []\n",
    "for i in res:#next(res)\n",
    "    r1.append(i+2)\n",
    "print(r1)"
   ]
  },
  {
   "cell_type": "code",
   "execution_count": 30,
   "id": "a70b1937",
   "metadata": {},
   "outputs": [
    {
     "name": "stdout",
     "output_type": "stream",
     "text": [
      "1000\n",
      "2000\n",
      "ok\n"
     ]
    }
   ],
   "source": [
    "for i in [1000,2000]:\n",
    "    print(i)\n",
    "print(\"ok\")"
   ]
  },
  {
   "cell_type": "code",
   "execution_count": 31,
   "id": "a8c80489",
   "metadata": {},
   "outputs": [
    {
     "ename": "TypeError",
     "evalue": "'list' object is not an iterator",
     "output_type": "error",
     "traceback": [
      "\u001b[1;31m---------------------------------------------------------------------------\u001b[0m",
      "\u001b[1;31mTypeError\u001b[0m                                 Traceback (most recent call last)",
      "Cell \u001b[1;32mIn[31], line 2\u001b[0m\n\u001b[0;32m      1\u001b[0m l\u001b[38;5;241m=\u001b[39m[\u001b[38;5;241m1000\u001b[39m,\u001b[38;5;241m2000\u001b[39m]\n\u001b[1;32m----> 2\u001b[0m r1\u001b[38;5;241m=\u001b[39m\u001b[38;5;28mnext\u001b[39m(l)\n\u001b[0;32m      3\u001b[0m \u001b[38;5;28mprint\u001b[39m(r1)\n",
      "\u001b[1;31mTypeError\u001b[0m: 'list' object is not an iterator"
     ]
    }
   ],
   "source": [
    "l=[1000,2000]\n",
    "r1=next(l)\n",
    "print(r1)"
   ]
  },
  {
   "cell_type": "code",
   "execution_count": 32,
   "id": "5bde0cb8",
   "metadata": {},
   "outputs": [
    {
     "name": "stdout",
     "output_type": "stream",
     "text": [
      "res= <generator object fun at 0x000001B32E882E00>\n",
      "1\n",
      "r1= 10\n"
     ]
    }
   ],
   "source": [
    "def fun():\n",
    "    print(1)\n",
    "    yield 10\n",
    "    print(2)\n",
    "    yield 20\n",
    "    print(3)\n",
    "    yield 30\n",
    "res=fun()\n",
    "print(\"res=\",res)\n",
    "r1=next(res)\n",
    "print(\"r1=\",r1)"
   ]
  },
  {
   "cell_type": "code",
   "execution_count": 33,
   "id": "09805178",
   "metadata": {},
   "outputs": [
    {
     "name": "stdout",
     "output_type": "stream",
     "text": [
      "2\n",
      "r1= 20\n"
     ]
    }
   ],
   "source": [
    "r1=next(res)\n",
    "print(\"r1=\",r1)"
   ]
  },
  {
   "cell_type": "code",
   "execution_count": 34,
   "id": "00d8074c",
   "metadata": {},
   "outputs": [
    {
     "name": "stdout",
     "output_type": "stream",
     "text": [
      "3\n",
      "r1= 30\n"
     ]
    }
   ],
   "source": [
    "r1=next(res)\n",
    "print(\"r1=\",r1)"
   ]
  },
  {
   "cell_type": "code",
   "execution_count": 35,
   "id": "f5ddc0ce",
   "metadata": {},
   "outputs": [
    {
     "ename": "StopIteration",
     "evalue": "",
     "output_type": "error",
     "traceback": [
      "\u001b[1;31m---------------------------------------------------------------------------\u001b[0m",
      "\u001b[1;31mStopIteration\u001b[0m                             Traceback (most recent call last)",
      "Cell \u001b[1;32mIn[35], line 1\u001b[0m\n\u001b[1;32m----> 1\u001b[0m r1\u001b[38;5;241m=\u001b[39m\u001b[38;5;28mnext\u001b[39m(res)\n\u001b[0;32m      2\u001b[0m \u001b[38;5;28mprint\u001b[39m(\u001b[38;5;124m\"\u001b[39m\u001b[38;5;124mr1=\u001b[39m\u001b[38;5;124m\"\u001b[39m,r1)\n",
      "\u001b[1;31mStopIteration\u001b[0m: "
     ]
    }
   ],
   "source": [
    "r1=next(res)\n",
    "print(\"r1=\",r1)"
   ]
  },
  {
   "cell_type": "code",
   "execution_count": 36,
   "id": "fd036233",
   "metadata": {},
   "outputs": [
    {
     "name": "stdout",
     "output_type": "stream",
     "text": [
      "res= <generator object fun at 0x000001B3300FF1C0>\n",
      "1\n",
      "hello\n",
      "k= 10\n",
      "iteration done\n",
      "2\n",
      "hello\n",
      "k= 20\n",
      "iteration done\n",
      "3\n",
      "hello\n",
      "k= 30\n",
      "iteration done\n",
      "DONE\n"
     ]
    }
   ],
   "source": [
    "def fun():\n",
    "    print(1)\n",
    "    yield 10\n",
    "    print(2)\n",
    "    yield 20\n",
    "    print(3)\n",
    "    yield 30\n",
    "res=fun()\n",
    "print(\"res=\",res)\n",
    "for k in res:#next(res),k=10;k=next(res),k=20;k=next(res),30;next(res): Stop Iteration\n",
    "    print(\"hello\")\n",
    "    print(\"k=\",k)\n",
    "    print(\"iteration done\")\n",
    "print(\"DONE\")"
   ]
  },
  {
   "cell_type": "code",
   "execution_count": 37,
   "id": "5879d7a6",
   "metadata": {},
   "outputs": [
    {
     "name": "stdout",
     "output_type": "stream",
     "text": [
      "res= <generator object fun at 0x000001B32E882E00>\n"
     ]
    }
   ],
   "source": [
    "def fun(x):\n",
    "    return 10\n",
    "    yield 30\n",
    "res=fun(10)\n",
    "print(\"res=\",res)"
   ]
  },
  {
   "cell_type": "code",
   "execution_count": 40,
   "id": "2e78c079",
   "metadata": {},
   "outputs": [
    {
     "name": "stdout",
     "output_type": "stream",
     "text": [
      "res= <generator object fun at 0x000001B32E882E00>\n"
     ]
    }
   ],
   "source": [
    "def fun(x):\n",
    "    yield 30\n",
    "    return 10\n",
    "res=fun(10)\n",
    "print(\"res=\",res)"
   ]
  },
  {
   "cell_type": "code",
   "execution_count": 41,
   "id": "8a285609",
   "metadata": {},
   "outputs": [
    {
     "name": "stdout",
     "output_type": "stream",
     "text": [
      "r1= 30\n"
     ]
    }
   ],
   "source": [
    "r1=next(res)\n",
    "print(\"r1=\",r1)"
   ]
  },
  {
   "cell_type": "code",
   "execution_count": 42,
   "id": "4b2d9359",
   "metadata": {},
   "outputs": [
    {
     "ename": "StopIteration",
     "evalue": "10",
     "output_type": "error",
     "traceback": [
      "\u001b[1;31m---------------------------------------------------------------------------\u001b[0m",
      "\u001b[1;31mStopIteration\u001b[0m                             Traceback (most recent call last)",
      "Cell \u001b[1;32mIn[42], line 1\u001b[0m\n\u001b[1;32m----> 1\u001b[0m r1\u001b[38;5;241m=\u001b[39m\u001b[38;5;28mnext\u001b[39m(res)\n\u001b[0;32m      2\u001b[0m \u001b[38;5;28mprint\u001b[39m(\u001b[38;5;124m\"\u001b[39m\u001b[38;5;124mr1=\u001b[39m\u001b[38;5;124m\"\u001b[39m,r1)\n",
      "\u001b[1;31mStopIteration\u001b[0m: 10"
     ]
    }
   ],
   "source": [
    "r1=next(res)\n",
    "print(\"r1=\",r1)"
   ]
  },
  {
   "cell_type": "code",
   "execution_count": 43,
   "id": "f4809f7f",
   "metadata": {},
   "outputs": [
    {
     "name": "stdout",
     "output_type": "stream",
     "text": [
      "res= <generator object fun at 0x000001B3300FFAC0>\n"
     ]
    },
    {
     "ename": "StopIteration",
     "evalue": "10",
     "output_type": "error",
     "traceback": [
      "\u001b[1;31m---------------------------------------------------------------------------\u001b[0m",
      "\u001b[1;31mStopIteration\u001b[0m                             Traceback (most recent call last)",
      "Cell \u001b[1;32mIn[43], line 6\u001b[0m\n\u001b[0;32m      4\u001b[0m res\u001b[38;5;241m=\u001b[39mfun(\u001b[38;5;241m10\u001b[39m)\n\u001b[0;32m      5\u001b[0m \u001b[38;5;28mprint\u001b[39m(\u001b[38;5;124m\"\u001b[39m\u001b[38;5;124mres=\u001b[39m\u001b[38;5;124m\"\u001b[39m,res)\n\u001b[1;32m----> 6\u001b[0m r1\u001b[38;5;241m=\u001b[39m\u001b[38;5;28mnext\u001b[39m(res)\n\u001b[0;32m      7\u001b[0m \u001b[38;5;28mprint\u001b[39m(\u001b[38;5;124m\"\u001b[39m\u001b[38;5;124mr1=\u001b[39m\u001b[38;5;124m\"\u001b[39m,r1)\n",
      "\u001b[1;31mStopIteration\u001b[0m: 10"
     ]
    }
   ],
   "source": [
    "def fun(x):\n",
    "    return 10\n",
    "    yield 30\n",
    "res=fun(10)\n",
    "print(\"res=\",res)\n",
    "r1=next(res)\n",
    "print(\"r1=\",r1)"
   ]
  },
  {
   "cell_type": "code",
   "execution_count": 44,
   "id": "8a981462",
   "metadata": {},
   "outputs": [
    {
     "name": "stdout",
     "output_type": "stream",
     "text": [
      "res= <generator object fun at 0x000001B3300FFF40>\n",
      "r1= 20\n"
     ]
    }
   ],
   "source": [
    "def fun(x):\n",
    "    yield 20\n",
    "    return 10\n",
    "    yield 30\n",
    "res=fun(10)\n",
    "print(\"res=\",res)\n",
    "r1=next(res)\n",
    "print(\"r1=\",r1)"
   ]
  },
  {
   "cell_type": "code",
   "execution_count": 45,
   "id": "09d43ea3",
   "metadata": {},
   "outputs": [
    {
     "ename": "StopIteration",
     "evalue": "10",
     "output_type": "error",
     "traceback": [
      "\u001b[1;31m---------------------------------------------------------------------------\u001b[0m",
      "\u001b[1;31mStopIteration\u001b[0m                             Traceback (most recent call last)",
      "Cell \u001b[1;32mIn[45], line 1\u001b[0m\n\u001b[1;32m----> 1\u001b[0m r1\u001b[38;5;241m=\u001b[39m\u001b[38;5;28mnext\u001b[39m(res)\n\u001b[0;32m      2\u001b[0m \u001b[38;5;28mprint\u001b[39m(\u001b[38;5;124m\"\u001b[39m\u001b[38;5;124mr1=\u001b[39m\u001b[38;5;124m\"\u001b[39m,r1)\n",
      "\u001b[1;31mStopIteration\u001b[0m: 10"
     ]
    }
   ],
   "source": [
    "r1=next(res)\n",
    "print(\"r1=\",r1)"
   ]
  },
  {
   "cell_type": "code",
   "execution_count": 46,
   "id": "49be7257",
   "metadata": {},
   "outputs": [
    {
     "name": "stdout",
     "output_type": "stream",
     "text": [
      "res= <generator object fun at 0x000001B3300FFB80>\n",
      "1\n",
      "k= 10\n",
      "2\n",
      "k= 20\n",
      "3\n",
      "k= 30\n",
      "DONE\n",
      "iterating through generator object second time\n",
      "Second done DONE\n"
     ]
    }
   ],
   "source": [
    "def fun():\n",
    "    print(1)\n",
    "    yield 10\n",
    "    print(2)\n",
    "    yield 20\n",
    "    print(3)\n",
    "    yield 30\n",
    "res=fun()\n",
    "print(\"res=\",res)\n",
    "for k in res:\n",
    "    print(\"k=\",k)\n",
    "print(\"DONE\")\n",
    "print(\"iterating through generator object second time\")\n",
    "for k in res:#next(res)\n",
    "    print(\"k=\",k)\n",
    "print(\"Second done DONE\")"
   ]
  },
  {
   "cell_type": "code",
   "execution_count": 48,
   "id": "ddb9db22",
   "metadata": {},
   "outputs": [
    {
     "name": "stdout",
     "output_type": "stream",
     "text": [
      "res= <generator object fun at 0x000001B3302EC400>\n",
      "1\n",
      "k= 10\n",
      "2\n",
      "k= 20\n",
      "3\n",
      "k= 30\n",
      "DONE\n",
      "iterating through generator object second time\n",
      "Second done DONE\n",
      "calling again\n",
      "iterating through generator object \n",
      "1\n",
      "k= 10\n",
      "2\n",
      "k= 20\n",
      "3\n",
      "k= 30\n",
      "DONE\n"
     ]
    }
   ],
   "source": [
    "def fun():\n",
    "    print(1)\n",
    "    yield 10\n",
    "    print(2)\n",
    "    yield 20\n",
    "    print(3)\n",
    "    yield 30\n",
    "res=fun()\n",
    "print(\"res=\",res)\n",
    "for k in res:\n",
    "    print(\"k=\",k)\n",
    "print(\"DONE\")\n",
    "print(\"iterating through generator object second time\")\n",
    "for k in res:#next(res)\n",
    "    print(\"k=\",k)\n",
    "print(\"Second done DONE\")\n",
    "print(\"calling again\")\n",
    "res=fun()\n",
    "print(\"iterating through generator object \")\n",
    "for k in res:#next(res)\n",
    "    print(\"k=\",k)\n",
    "print(\"DONE\")\n",
    "\n"
   ]
  },
  {
   "cell_type": "code",
   "execution_count": 50,
   "id": "48940ccc",
   "metadata": {},
   "outputs": [
    {
     "name": "stdout",
     "output_type": "stream",
     "text": [
      "['user1', 'user3', 'user2', 'user4']\n",
      "['p1', 'p3', 'p2', 'p4']\n",
      "['o1', 'o3', 'o2', 'o4']\n"
     ]
    }
   ],
   "source": [
    "# decorators\n",
    "def get_users():\n",
    "    return [\"user1\",\"user3\",\"user2\",\"user4\"]\n",
    "def get_products():\n",
    "    return [\"p1\",\"p3\",\"p2\",\"p4\"]\n",
    "def get_orders():\n",
    "    return [\"o1\",\"o3\",\"o2\",\"o4\"]\n",
    "print(get_users())\n",
    "print(get_products())\n",
    "print(get_orders())"
   ]
  },
  {
   "cell_type": "code",
   "execution_count": 51,
   "id": "07791e15",
   "metadata": {},
   "outputs": [
    {
     "name": "stdout",
     "output_type": "stream",
     "text": [
      "None\n"
     ]
    }
   ],
   "source": [
    "l=[\"user1\",\"user3\",\"user2\",\"user4\"]\n",
    "k=l.sort()\n",
    "print(k)"
   ]
  },
  {
   "cell_type": "code",
   "execution_count": 52,
   "id": "650a4660",
   "metadata": {},
   "outputs": [
    {
     "name": "stdout",
     "output_type": "stream",
     "text": [
      "['user1', 'user2', 'user3', 'user4']\n"
     ]
    }
   ],
   "source": [
    "print(l)"
   ]
  },
  {
   "cell_type": "code",
   "execution_count": 53,
   "id": "dceaf166",
   "metadata": {},
   "outputs": [
    {
     "name": "stdout",
     "output_type": "stream",
     "text": [
      "['user1', 'user2', 'user3', 'user4']\n",
      "['p1', 'p2', 'p3', 'p4']\n",
      "['o1', 'o2', 'o3', 'o4']\n"
     ]
    }
   ],
   "source": [
    "# decorators\n",
    "def get_users():\n",
    "    data = [\"user1\",\"user3\",\"user2\",\"user4\"]\n",
    "    data.sort()\n",
    "    return data\n",
    "def get_products():\n",
    "    data =  [\"p1\",\"p3\",\"p2\",\"p4\"]\n",
    "    data.sort()\n",
    "    return data\n",
    "def get_orders():\n",
    "    data = [\"o1\",\"o3\",\"o2\",\"o4\"]\n",
    "    data.sort()\n",
    "    return data\n",
    "print(get_users())\n",
    "print(get_products())\n",
    "print(get_orders())"
   ]
  },
  {
   "cell_type": "code",
   "execution_count": null,
   "id": "7d36ff28",
   "metadata": {},
   "outputs": [],
   "source": [
    "# decorators\n",
    "def get_users():\n",
    "    data = [\"user1\",\"user3\",\"user2\",\"user4\"]\n",
    "    data.sort()\n",
    "    return data\n",
    "def get_products():\n",
    "    data =  [\"p1\",\"p3\",\"p2\",\"p4\"]\n",
    "    data.sort()\n",
    "    return data\n",
    "def get_orders():\n",
    "    data = [\"o1\",\"o3\",\"o2\",\"o4\"]\n",
    "    data.sort()\n",
    "    return data\n",
    "print(get_users())\n",
    "print(get_products())\n",
    "print(get_orders())"
   ]
  },
  {
   "cell_type": "code",
   "execution_count": null,
   "id": "8928f2c1",
   "metadata": {},
   "outputs": [],
   "source": [
    "\n",
    "def get_users():\n",
    "    data = [\"user1\",\"user3\",\"user2\",\"user4\"]\n",
    "    data.sort()\n",
    "    return data\n",
    "def get_products():\n",
    "    data =  [\"p1\",\"p3\",\"p2\",\"p4\"]\n",
    "    data.sort()\n",
    "    return data\n",
    "def get_orders():\n",
    "    data = [\"o1\",\"o3\",\"o2\",\"o4\"]\n",
    "    data.sort()\n",
    "    return data\n",
    "print(get_users())\n",
    "print(get_products())\n",
    "print(get_orders())"
   ]
  },
  {
   "cell_type": "code",
   "execution_count": 54,
   "id": "1e9391e7",
   "metadata": {},
   "outputs": [
    {
     "name": "stdout",
     "output_type": "stream",
     "text": [
      "['user1', 'user3', 'user2', 'user4']\n",
      "['p1', 'p3', 'p2', 'p4']\n",
      "['o1', 'o3', 'o2', 'o4']\n"
     ]
    }
   ],
   "source": [
    "def order_data(f):\n",
    "    def wrapper():\n",
    "        res=f()\n",
    "        res.sort()\n",
    "        return res\n",
    "    return wrapper\n",
    "\n",
    "def get_users():\n",
    "    return [\"user1\",\"user3\",\"user2\",\"user4\"]\n",
    "def get_products():\n",
    "    return [\"p1\",\"p3\",\"p2\",\"p4\"]\n",
    "def get_orders():\n",
    "    return [\"o1\",\"o3\",\"o2\",\"o4\"]\n",
    "print(get_users())\n",
    "print(get_products())\n",
    "print(get_orders())\n"
   ]
  },
  {
   "cell_type": "code",
   "execution_count": 56,
   "id": "17d76731",
   "metadata": {},
   "outputs": [
    {
     "name": "stdout",
     "output_type": "stream",
     "text": [
      "res= <function order_data.<locals>.wrapper at 0x000001B33167E660>\n",
      "['user1', 'user3', 'user2', 'user4']\n",
      "r1= ['user1', 'user2', 'user3', 'user4']\n"
     ]
    }
   ],
   "source": [
    "def order_data(f):#f=get_user\n",
    "    def wrapper():\n",
    "        res=f()\n",
    "        print(res)\n",
    "        res.sort()\n",
    "        return res\n",
    "    return wrapper\n",
    "\n",
    "def get_users():\n",
    "    return [\"user1\",\"user3\",\"user2\",\"user4\"]\n",
    "def get_products():\n",
    "    return [\"p1\",\"p3\",\"p2\",\"p4\"]\n",
    "def get_orders():\n",
    "    return [\"o1\",\"o3\",\"o2\",\"o4\"]\n",
    "res=order_data(get_users)\n",
    "print(\"res=\",res)\n",
    "r1=res()\n",
    "print(\"r1=\",r1)\n",
    "\n"
   ]
  },
  {
   "cell_type": "code",
   "execution_count": null,
   "id": "864fea12",
   "metadata": {},
   "outputs": [],
   "source": []
  }
 ],
 "metadata": {
  "kernelspec": {
   "display_name": "Python 3 (ipykernel)",
   "language": "python",
   "name": "python3"
  },
  "language_info": {
   "codemirror_mode": {
    "name": "ipython",
    "version": 3
   },
   "file_extension": ".py",
   "mimetype": "text/x-python",
   "name": "python",
   "nbconvert_exporter": "python",
   "pygments_lexer": "ipython3",
   "version": "3.11.3"
  }
 },
 "nbformat": 4,
 "nbformat_minor": 5
}
