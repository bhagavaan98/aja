{
 "cells": [
  {
   "cell_type": "code",
   "execution_count": 1,
   "id": "22232371",
   "metadata": {},
   "outputs": [
    {
     "name": "stdout",
     "output_type": "stream",
     "text": [
      "heel\n"
     ]
    }
   ],
   "source": [
    "print(\"heel\")\n",
    "a=100\n",
    "b=200\n",
    "c=a=b\n"
   ]
  },
  {
   "cell_type": "code",
   "execution_count": null,
   "id": "282a21c2",
   "metadata": {},
   "outputs": [],
   "source": [
    "x=[2000,[6000,7000]]\n",
    "a=[[[3000,5000,7000], 4000,x],1000,2000]\n",
    "b=a[:]\n",
    "d=copy(a)\n",
    "e=a\n",
    "c=deepcopy(a)\n",
    "a[1]=6000\n",
    "a[0][0]=7000\n",
    "x.append(5000)\n",
    "x[1].append(8000)"
   ]
  },
  {
   "cell_type": "code",
   "execution_count": null,
   "id": "4b40465e",
   "metadata": {},
   "outputs": [],
   "source": [
    "def fun(*args):\n",
    "    print(\"fun\")\n",
    "    def fun1(*args):\n",
    "        print(\"fun1\")\n",
    "    return 1234\n",
    "res=fun()\n",
    "print(res)"
   ]
  }
 ],
 "metadata": {
  "kernelspec": {
   "display_name": "Python 3 (ipykernel)",
   "language": "python",
   "name": "python3"
  },
  "language_info": {
   "codemirror_mode": {
    "name": "ipython",
    "version": 3
   },
   "file_extension": ".py",
   "mimetype": "text/x-python",
   "name": "python",
   "nbconvert_exporter": "python",
   "pygments_lexer": "ipython3",
   "version": "3.11.3"
  }
 },
 "nbformat": 4,
 "nbformat_minor": 5
}
