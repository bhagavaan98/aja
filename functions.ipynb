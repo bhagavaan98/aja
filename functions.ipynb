{
 "cells": [
  {
   "cell_type": "code",
   "execution_count": 1,
   "id": "11305961",
   "metadata": {},
   "outputs": [
    {
     "name": "stdout",
     "output_type": "stream",
     "text": [
      "20\n"
     ]
    }
   ],
   "source": [
    "def mul(x,y):\n",
    "    return x*y\n",
    "print(mul(10,2))"
   ]
  },
  {
   "cell_type": "code",
   "execution_count": 2,
   "id": "ad80b3de",
   "metadata": {},
   "outputs": [
    {
     "name": "stdout",
     "output_type": "stream",
     "text": [
      "1722906867472\n",
      "1722906867472\n",
      "1722906867472\n"
     ]
    }
   ],
   "source": [
    "from copy import deepcopy\n",
    "a=[1000,2000]\n",
    "b=a[:]\n",
    "c=deepcopy(a)\n",
    "print(id(a[0]))\n",
    "print(id(b[0]))\n",
    "print(id(c[0]))\n"
   ]
  },
  {
   "cell_type": "code",
   "execution_count": 3,
   "id": "b65c8455",
   "metadata": {},
   "outputs": [
    {
     "name": "stdout",
     "output_type": "stream",
     "text": [
      "1722907491584\n",
      "1722907491584\n",
      "1722906769216\n"
     ]
    }
   ],
   "source": [
    "from copy import deepcopy\n",
    "a=[[3000,4000],1000,2000]\n",
    "b=a[:]\n",
    "c=deepcopy(a)\n",
    "print(id(a[0]))\n",
    "print(id(b[0]))\n",
    "print(id(c[0]))\n"
   ]
  },
  {
   "cell_type": "code",
   "execution_count": 4,
   "id": "87c02b3b",
   "metadata": {},
   "outputs": [
    {
     "name": "stdout",
     "output_type": "stream",
     "text": [
      "1722906810240\n",
      "1722906810240\n",
      "1722907319616\n",
      "********************\n",
      "1722906867664\n",
      "1722906867664\n",
      "1722906867664\n"
     ]
    }
   ],
   "source": [
    "from copy import deepcopy\n",
    "a=[[3000,4000],1000,2000]\n",
    "b=a[:]\n",
    "d=copy(a)\n",
    "e=a\n",
    "c=deepcopy(a)\n",
    "print(id(a[0]))\n",
    "print(id(b[0]))\n",
    "print(id(c[0]))\n",
    "print(\"*\"*20)\n",
    "print(id(a[1]))\n",
    "print(id(b[1]))\n",
    "print(id(c[1]))"
   ]
  },
  {
   "cell_type": "code",
   "execution_count": 6,
   "id": "520580cb",
   "metadata": {},
   "outputs": [
    {
     "name": "stdout",
     "output_type": "stream",
     "text": [
      "1722920932800\n",
      "1722920932800\n",
      "1722906731328\n",
      "1722920932800\n",
      "********************\n",
      "1722920687952\n",
      "1722920687952\n",
      "1722920687952\n",
      "1722920687952\n",
      "********************\n",
      "1722920687984\n",
      "1722920687984\n",
      "1722920687984\n",
      "1722920687984\n"
     ]
    }
   ],
   "source": [
    "from copy import deepcopy, copy\n",
    "a=[[3000,4000],1000,2000]\n",
    "b=a[:]\n",
    "d=copy(a)\n",
    "e=a\n",
    "c=deepcopy(a)\n",
    "print(id(a[0]))\n",
    "print(id(b[0]))\n",
    "print(id(c[0]))\n",
    "print(id(d[0]))\n",
    "print(\"*\"*20)\n",
    "print(id(a[1]))\n",
    "print(id(b[1]))\n",
    "print(id(c[1]))\n",
    "print(id(d[1]))\n",
    "print(\"*\"*20)\n",
    "print(id(a[2]))\n",
    "print(id(b[2]))\n",
    "print(id(c[2]))\n",
    "print(id(d[2]))"
   ]
  },
  {
   "cell_type": "code",
   "execution_count": 7,
   "id": "95d03707",
   "metadata": {},
   "outputs": [
    {
     "name": "stdout",
     "output_type": "stream",
     "text": [
      "1722920686544\n",
      "1722920686544\n"
     ]
    }
   ],
   "source": [
    "from copy import deepcopy\n",
    "a=[[3000,4000],1000,2000]\n",
    "b=a[:]\n",
    "d=copy(a)\n",
    "e=a\n",
    "c=deepcopy(a)\n",
    "a[1]=6000\n",
    "print(id(a[0][0]))\n",
    "print(id(c[0][0]))\n"
   ]
  },
  {
   "cell_type": "code",
   "execution_count": 9,
   "id": "cc93833d",
   "metadata": {},
   "outputs": [
    {
     "name": "stdout",
     "output_type": "stream",
     "text": [
      "1722920688080\n",
      "1722920688080\n",
      "1722920688048\n",
      "1722920688048\n"
     ]
    }
   ],
   "source": [
    "from copy import deepcopy\n",
    "a=[[3000,4000],1000,2000]\n",
    "b=a[:]\n",
    "d=copy(a)\n",
    "e=a\n",
    "c=deepcopy(a)\n",
    "a[1]=6000\n",
    "print(id(a[0][0]))\n",
    "print(id(c[0][0]))\n",
    "print(id(a[1]))\n",
    "print(id(c[1]))"
   ]
  },
  {
   "cell_type": "code",
   "execution_count": null,
   "id": "39d232bf",
   "metadata": {},
   "outputs": [],
   "source": [
    "from copy import deepcopy\n",
    "a=[[3000,4000],1000,2000]\n",
    "b=a[:]\n",
    "d=copy(a)\n",
    "e=a\n",
    "c=deepcopy(a)\n",
    "a[1]=6000\n",
    "a[0][0]=7000\n"
   ]
  },
  {
   "cell_type": "code",
   "execution_count": null,
   "id": "1a2568bc",
   "metadata": {},
   "outputs": [],
   "source": [
    "from copy import deepcopy\n",
    "x=[2000,[6000,7000]]\n",
    "a=[[[3000,5000,7000],4000,x],1000,2000]\n",
    "b=a[:]\n",
    "d=copy(a)\n",
    "e=a\n",
    "c=deepcopy(a)\n",
    "a[1]=6000\n",
    "a[0][0]=7000\n",
    "x.append(5000)\n",
    "x[1].append(8000)"
   ]
  },
  {
   "cell_type": "code",
   "execution_count": null,
   "id": "d6e0da41",
   "metadata": {},
   "outputs": [],
   "source": [
    "def fun(x,y):\n",
    "    print(x+y)\n",
    "res=fun\n",
    "print(res)"
   ]
  },
  {
   "cell_type": "code",
   "execution_count": 10,
   "id": "6fe21be0",
   "metadata": {},
   "outputs": [
    {
     "name": "stdout",
     "output_type": "stream",
     "text": [
      "<function fun at 0x000001912563C900>\n",
      "30\n",
      "3\n",
      "None\n",
      "None\n"
     ]
    }
   ],
   "source": [
    "def fun(x,y):\n",
    "    print(x+y)\n",
    "    \n",
    "res=fun\n",
    "print(res)\n",
    "r1=fun(10,20)\n",
    "r2=res(1,2)\n",
    "print(r1)\n",
    "print(r2)"
   ]
  },
  {
   "cell_type": "code",
   "execution_count": null,
   "id": "19a295ea",
   "metadata": {},
   "outputs": [],
   "source": []
  },
  {
   "cell_type": "code",
   "execution_count": 12,
   "id": "15bda146",
   "metadata": {},
   "outputs": [
    {
     "name": "stdout",
     "output_type": "stream",
     "text": [
      "None\n"
     ]
    }
   ],
   "source": [
    "def fun(x,y):\n",
    "    a=x+y\n",
    "    b=x-y\n",
    "    c=x*y\n",
    "res=fun(1,2)\n",
    "print(res)"
   ]
  },
  {
   "cell_type": "code",
   "execution_count": 13,
   "id": "618ce378",
   "metadata": {},
   "outputs": [
    {
     "name": "stdout",
     "output_type": "stream",
     "text": [
      "HELLO\n"
     ]
    }
   ],
   "source": [
    "def fun(x,y):\n",
    "    a=x+y\n",
    "    b=x-y\n",
    "    c=x*y\n",
    "    return \"HELLO\"\n",
    "res=fun(1,2)\n",
    "print(res)"
   ]
  },
  {
   "cell_type": "code",
   "execution_count": 14,
   "id": "163d140b",
   "metadata": {},
   "outputs": [
    {
     "name": "stdout",
     "output_type": "stream",
     "text": [
      "HELLO\n"
     ]
    }
   ],
   "source": [
    "def fun(x,y):\n",
    "    a=x+y\n",
    "    b=x-y\n",
    "    c=x*y\n",
    "    return \"HELLO\"\n",
    "print(fun(1,2))"
   ]
  },
  {
   "cell_type": "code",
   "execution_count": 15,
   "id": "8f370dd1",
   "metadata": {},
   "outputs": [],
   "source": [
    "a=0x000001912563C900"
   ]
  },
  {
   "cell_type": "code",
   "execution_count": 16,
   "id": "99f2fd7d",
   "metadata": {},
   "outputs": [
    {
     "name": "stdout",
     "output_type": "stream",
     "text": [
      "<function fun at 0x000001912563CA40>\n",
      "30\n",
      "3\n",
      "FG\n",
      "FG\n"
     ]
    }
   ],
   "source": [
    "def fun(x,y):\n",
    "    print(x+y)\n",
    "    return \"FG\"\n",
    "    \n",
    "res=fun\n",
    "print(res)\n",
    "r1=fun(10,20)\n",
    "r2=res(1,2)\n",
    "print(r1)\n",
    "print(r2)"
   ]
  },
  {
   "cell_type": "code",
   "execution_count": 17,
   "id": "580031f8",
   "metadata": {},
   "outputs": [
    {
     "name": "stdout",
     "output_type": "stream",
     "text": [
      "1000\n"
     ]
    }
   ],
   "source": [
    "a=1000\n",
    "print(0*10**0+0*10**1+0*10**2+1*10**3)"
   ]
  },
  {
   "cell_type": "code",
   "execution_count": 19,
   "id": "84f20131",
   "metadata": {},
   "outputs": [
    {
     "name": "stdout",
     "output_type": "stream",
     "text": [
      "512\n",
      "512\n"
     ]
    }
   ],
   "source": [
    "a=0o1000\n",
    "b=8\n",
    "print(0*b**0+0*b**1+0*b**2+1*b**3)\n",
    "print(a)"
   ]
  },
  {
   "cell_type": "code",
   "execution_count": 20,
   "id": "b7b7a7a8",
   "metadata": {},
   "outputs": [
    {
     "name": "stdout",
     "output_type": "stream",
     "text": [
      "<function fun at 0x000001912563D440>\n",
      "1722909185088\n"
     ]
    }
   ],
   "source": [
    "def fun(x,y):\n",
    "    print(x+y)\n",
    "    return \"FG\"\n",
    "    \n",
    "res=fun\n",
    "print(res)\n",
    "print(id(fun))\n"
   ]
  },
  {
   "cell_type": "code",
   "execution_count": 21,
   "id": "778770e2",
   "metadata": {},
   "outputs": [
    {
     "name": "stdout",
     "output_type": "stream",
     "text": [
      "1722909185088\n"
     ]
    }
   ],
   "source": [
    "a=0x000001912563D440\n",
    "print(a)"
   ]
  },
  {
   "cell_type": "code",
   "execution_count": null,
   "id": "b1160616",
   "metadata": {},
   "outputs": [],
   "source": [
    "def fun(x,y):\n",
    "    print(x+y)\n",
    "    return \"FG\"\n",
    "    \n",
    "res=fun\n",
    "print(res)\n",
    "print(id(fun))\n"
   ]
  },
  {
   "cell_type": "code",
   "execution_count": 22,
   "id": "f53eca7b",
   "metadata": {},
   "outputs": [
    {
     "name": "stdout",
     "output_type": "stream",
     "text": [
      "[1000, 2000, 3000, 6000]\n",
      "[1000, 2000, 3000, 6000, 6000]\n"
     ]
    }
   ],
   "source": [
    "l=[1000,2000,3000]\n",
    "def fun(x,y):\n",
    "    x.append(6000)\n",
    "fun(l,2000)\n",
    "print(l)\n",
    "fun(l,3000)\n",
    "print(l)"
   ]
  },
  {
   "cell_type": "code",
   "execution_count": null,
   "id": "0be219c1",
   "metadata": {},
   "outputs": [],
   "source": [
    "def fun(a,b):\n",
    "    return a+b\n",
    "res=fun(1000,2000)\n",
    "print(res)"
   ]
  }
 ],
 "metadata": {
  "kernelspec": {
   "display_name": "Python 3 (ipykernel)",
   "language": "python",
   "name": "python3"
  },
  "language_info": {
   "codemirror_mode": {
    "name": "ipython",
    "version": 3
   },
   "file_extension": ".py",
   "mimetype": "text/x-python",
   "name": "python",
   "nbconvert_exporter": "python",
   "pygments_lexer": "ipython3",
   "version": "3.11.3"
  }
 },
 "nbformat": 4,
 "nbformat_minor": 5
}
