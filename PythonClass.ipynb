{
 "cells": [
  {
   "cell_type": "code",
   "execution_count": null,
   "id": "05db9efb",
   "metadata": {},
   "outputs": [],
   "source": [
    "# 15-11-2023\n",
    "\n",
    "# DB connection "
   ]
  },
  {
   "cell_type": "code",
   "execution_count": null,
   "id": "56744c8a",
   "metadata": {},
   "outputs": [],
   "source": [
    "# 16-11-2023\n",
    "\n",
    "class Customer:\n",
    "    def __init__(self, name, address):\n",
    "        self.name = name\n",
    "        self.address = address\n",
    "        \n",
    "    def create():\n",
    "        #connect to db\n",
    "        print(f\"insert into customer values\")\n",
    "        return True\n",
    "    \n"
   ]
  }
 ],
 "metadata": {
  "kernelspec": {
   "display_name": "Python 3 (ipykernel)",
   "language": "python",
   "name": "python3"
  },
  "language_info": {
   "codemirror_mode": {
    "name": "ipython",
    "version": 3
   },
   "file_extension": ".py",
   "mimetype": "text/x-python",
   "name": "python",
   "nbconvert_exporter": "python",
   "pygments_lexer": "ipython3",
   "version": "3.11.5"
  }
 },
 "nbformat": 4,
 "nbformat_minor": 5
}
