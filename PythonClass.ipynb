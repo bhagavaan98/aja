{
 "cells": [
  {
   "cell_type": "code",
   "execution_count": null,
   "id": "05db9efb",
   "metadata": {},
   "outputs": [],
   "source": [
    "# 15-11-2023\n",
    "\n",
    "# DB connection "
   ]
  },
  {
   "cell_type": "code",
   "execution_count": 1,
   "id": "56744c8a",
   "metadata": {},
   "outputs": [],
   "source": [
    "# 16-11-2023\n",
    "\n",
    "class Customer:\n",
    "    def __init__(self, name, address):\n",
    "        self.name = name\n",
    "        self.address = address\n",
    "        \n",
    "    def create():\n",
    "        #connect to db\n",
    "        print(f\"insert into customer values\")\n",
    "        return True\n",
    "    \n"
   ]
  },
  {
   "cell_type": "code",
   "execution_count": null,
   "id": "a399eab9",
   "metadata": {},
   "outputs": [],
   "source": [
    "# 17-11-2023\n",
    "\n",
    "# method overloading, opertor overloading"
   ]
  },
  {
   "cell_type": "code",
   "execution_count": 3,
   "id": "0bbd2685",
   "metadata": {},
   "outputs": [
    {
     "name": "stdout",
     "output_type": "stream",
     "text": [
      "30\n"
     ]
    }
   ],
   "source": [
    "# 18-11-2023\n",
    "\n",
    "class Myclass: # sigature of class\n",
    "    \n",
    "    def __init__(self,a,b):  #the below are defination path of class\n",
    "        self.a = a\n",
    "        self.b = b\n",
    "    def add(self):\n",
    "        return self.a+self.b\n",
    "    \n",
    "a = Myclass(10,20)\n",
    "print(a.add())"
   ]
  },
  {
   "cell_type": "code",
   "execution_count": 1,
   "id": "5b6c9e90",
   "metadata": {},
   "outputs": [],
   "source": [
    "class Stock:\n",
    "    def __init__(self,a):\n",
    "        self.a = a\n",
    "        \n",
    "    def stock(self):\n",
    "        return self.a\n",
    "    \n",
    "class Purchase:\n",
    "    def __init__(self,a):\n",
    "        self.a = a\n",
    "        \n",
    "    def purchase(self):\n",
    "        st = Stock(10)\n",
    "        pr = Purchase(20)\n",
    "        \n",
    "\n",
    "class Sales:\n",
    "    def __init__(self,a,b):\n",
    "        self.a = a\n",
    "        self.b = b\n",
    "    def sales(self):\n",
    "        s = Stock()\n",
    "        s.stock\n",
    "        "
   ]
  },
  {
   "cell_type": "code",
   "execution_count": null,
   "id": "7f95bee1",
   "metadata": {},
   "outputs": [],
   "source": []
  }
 ],
 "metadata": {
  "kernelspec": {
   "display_name": "Python 3 (ipykernel)",
   "language": "python",
   "name": "python3"
  },
  "language_info": {
   "codemirror_mode": {
    "name": "ipython",
    "version": 3
   },
   "file_extension": ".py",
   "mimetype": "text/x-python",
   "name": "python",
   "nbconvert_exporter": "python",
   "pygments_lexer": "ipython3",
   "version": "3.11.5"
  }
 },
 "nbformat": 4,
 "nbformat_minor": 5
}
