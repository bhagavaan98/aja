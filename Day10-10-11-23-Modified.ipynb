{
 "cells": [
  {
   "cell_type": "code",
   "execution_count": 1,
   "id": "df7fe4ce",
   "metadata": {},
   "outputs": [
    {
     "name": "stdout",
     "output_type": "stream",
     "text": [
      "['AbstractAsyncContextManager', 'AbstractContextManager', 'AsyncContextDecorator', 'AsyncExitStack', 'ContextDecorator', 'ExitStack', 'GenericAlias', 'MethodType', '_AsyncGeneratorContextManager', '_BaseExitStack', '_GeneratorContextManager', '_GeneratorContextManagerBase', '_RedirectStream', '__all__', '__builtins__', '__cached__', '__doc__', '__file__', '__loader__', '__name__', '__package__', '__spec__', '_collections_abc', 'abc', 'aclosing', 'asynccontextmanager', 'chdir', 'closing', 'contextmanager', 'deque', 'nullcontext', 'os', 'redirect_stderr', 'redirect_stdout', 'suppress', 'sys', 'wraps']\n"
     ]
    }
   ],
   "source": [
    "# Why we need Finally block in exception\n",
    "\n",
    "import contextlib\n",
    "print(dir(contextlib))"
   ]
  },
  {
   "cell_type": "code",
   "execution_count": 5,
   "id": "b0e06617",
   "metadata": {},
   "outputs": [
    {
     "name": "stdout",
     "output_type": "stream",
     "text": [
      "jay@email.com\n"
     ]
    }
   ],
   "source": [
    "resp = {\"name\":\"jay\", \"email\":\"jay@email.com\"}\n",
    "try:\n",
    "    print(resp[\"email\"])\n",
    "except KeyError as err:\n",
    "    print(err)\n",
    "    "
   ]
  },
  {
   "cell_type": "code",
   "execution_count": 6,
   "id": "03b15bbe",
   "metadata": {},
   "outputs": [
    {
     "name": "stdout",
     "output_type": "stream",
     "text": [
      "jay@email.com\n"
     ]
    }
   ],
   "source": [
    "with contextlib.suppress(KeyError):\n",
    "    print(resp[\"email\"])"
   ]
  },
  {
   "cell_type": "code",
   "execution_count": 8,
   "id": "09c02eba",
   "metadata": {},
   "outputs": [
    {
     "name": "stdout",
     "output_type": "stream",
     "text": [
      "<_io.TextIOWrapper name='employees_data.csv' mode='w' encoding='cp1252'>\n"
     ]
    }
   ],
   "source": [
    "#Task--> find the top 3 employees who got above average salary.\n",
    "from faker import Faker\n",
    "import random\n",
    "fake = Faker()\n",
    "file = open(\"employees_data.csv\", 'w')\n",
    "file.write(\"Name,Department,Salary,Mobile\\n\")\n",
    "for i in range(100):\n",
    "    row = f'{fake.name()},{fake.word()},{random.randint(200000, 500000)},{fake.phone_number()}/n'\n",
    "    file.write(row)\n",
    "file.close()\n",
    "print(file)\n"
   ]
  },
  {
   "cell_type": "code",
   "execution_count": 18,
   "id": "8d77bb44",
   "metadata": {},
   "outputs": [
    {
     "ename": "ZeroDivisionError",
     "evalue": "division by zero",
     "output_type": "error",
     "traceback": [
      "\u001b[1;31m---------------------------------------------------------------------------\u001b[0m",
      "\u001b[1;31mZeroDivisionError\u001b[0m                         Traceback (most recent call last)",
      "Cell \u001b[1;32mIn[18], line 13\u001b[0m\n\u001b[0;32m     11\u001b[0m         \u001b[38;5;28;01mbreak\u001b[39;00m\n\u001b[0;32m     12\u001b[0m \u001b[38;5;66;03m#print(sal)\u001b[39;00m\n\u001b[1;32m---> 13\u001b[0m avg_sal \u001b[38;5;241m=\u001b[39m \u001b[38;5;28msum\u001b[39m(sal)\u001b[38;5;241m/\u001b[39m\u001b[38;5;28mlen\u001b[39m(sal)\n\u001b[0;32m     14\u001b[0m \u001b[38;5;28mprint\u001b[39m(avg_sal)\n\u001b[0;32m     15\u001b[0m avg_sal_gr \u001b[38;5;241m=\u001b[39m []\n",
      "\u001b[1;31mZeroDivisionError\u001b[0m: division by zero"
     ]
    }
   ],
   "source": [
    "f = open(\"employees_data.csv\", \"r\")\n",
    "f = f.readlines()\n",
    "#print(f)\n",
    "sal = []\n",
    "for i in f[1:-1]:\n",
    "    item = i.split(\",\")\n",
    "    print(item)\n",
    "    lenght = len(item)\n",
    "    for j in range(lenght):\n",
    "        sal.append(int(item[2])) \n",
    "        break\n",
    "#print(sal)\n",
    "avg_sal = sum(sal)/len(sal)\n",
    "print(avg_sal)\n",
    "avg_sal_gr = []\n",
    "\n",
    "for s in sal:\n",
    "    if avg_sal < s:\n",
    "        avg_sal_gr.append(s)\n",
    "avg_sal_gr.sort()        \n",
    "print(avg_sal_gr)        \n",
    "\n",
    "c = -1\n",
    "print(\"The Top 3 Persons who got salary above average salary of all \\n\")\n",
    "print(f[0])\n",
    "for person in f:\n",
    "    if str(avg_sal_gr[c]) in person:\n",
    "        print(person)\n",
    "        c -= 1\n",
    "    \n",
    "            "
   ]
  },
  {
   "cell_type": "code",
   "execution_count": null,
   "id": "331506f3",
   "metadata": {},
   "outputs": [],
   "source": [
    "#Task ---> Run a Python Program more than RAM size\n",
    "with open(\"sample.txt\", \"w\") as file:\n",
    "    \n",
    "    for i in range(1024*1024*1024):\n",
    "        data = file.write(\"this, file\")\n",
    "        data.flush()\n",
    "print(\"Done\")        \n",
    "        \n",
    "    "
   ]
  },
  {
   "cell_type": "code",
   "execution_count": null,
   "id": "51c2c0b7",
   "metadata": {},
   "outputs": [],
   "source": []
  },
  {
   "cell_type": "code",
   "execution_count": null,
   "id": "3c630f4f",
   "metadata": {},
   "outputs": [],
   "source": []
  }
 ],
 "metadata": {
  "kernelspec": {
   "display_name": "Python 3 (ipykernel)",
   "language": "python",
   "name": "python3"
  },
  "language_info": {
   "codemirror_mode": {
    "name": "ipython",
    "version": 3
   },
   "file_extension": ".py",
   "mimetype": "text/x-python",
   "name": "python",
   "nbconvert_exporter": "python",
   "pygments_lexer": "ipython3",
   "version": "3.11.5"
  }
 },
 "nbformat": 4,
 "nbformat_minor": 5
}
