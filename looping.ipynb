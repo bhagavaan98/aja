{
 "cells": [
  {
   "cell_type": "code",
   "execution_count": null,
   "id": "aeb6aec1",
   "metadata": {},
   "outputs": [],
   "source": [
    "data=[{\"name\":\"jay\",\"age\":7},{\"name\":\"vedha\",\"age\":6}]\n"
   ]
  },
  {
   "cell_type": "code",
   "execution_count": null,
   "id": "0daba431",
   "metadata": {},
   "outputs": [],
   "source": [
    "data=[{\"name\":\"jay\",\"age\":7},{\"name\":\"vedha\",\"age\":6}]\n",
    "k = [\"lak@gmail.com\",\"vedha@gmail.com\"]\n",
    "for i in range(len(data)):\n",
    "    dict_ = data[i]\n",
    "    dict_[\"email\"] = k[i]\n",
    " \n",
    "print(data)"
   ]
  },
  {
   "cell_type": "code",
   "execution_count": 1,
   "id": "8e2cbc87",
   "metadata": {},
   "outputs": [
    {
     "name": "stdout",
     "output_type": "stream",
     "text": [
      "{'name': 'jay', 'age': 7}\n",
      "{'name': 'vedha', 'age': 6}\n"
     ]
    }
   ],
   "source": [
    "data=[{\"name\":\"jay\",\"age\":7},{\"name\":\"vedha\",\"age\":6}]\n",
    "for i in data:\n",
    "    print(i)"
   ]
  },
  {
   "cell_type": "code",
   "execution_count": null,
   "id": "eb4c8123",
   "metadata": {},
   "outputs": [],
   "source": [
    "data=[{\"name\":\"jay\",\"age\":7},{\"name\":\"vedha\",\"age\":6}]\n",
    "k = [\"lak@gmail.com\",\"vedha@gmail.com\"]\n",
    "for i in data:\n",
    "    i[\"email\"] = k[i]\n",
    " \n",
    "print(data)"
   ]
  },
  {
   "cell_type": "code",
   "execution_count": 2,
   "id": "0bffa5fe",
   "metadata": {},
   "outputs": [
    {
     "name": "stdout",
     "output_type": "stream",
     "text": [
      "[6, 8, 10, 12]\n"
     ]
    }
   ],
   "source": [
    "l1=[1,2,3,4]\n",
    "l2=[5,6,7,8]\n",
    "#[6,8,10,12]\n",
    "c=0\n",
    "res=[]\n",
    "for i in l1:\n",
    "    res.append(i+l2[c])\n",
    "    c=c+1\n",
    "print(res)\n",
    "    "
   ]
  },
  {
   "cell_type": "code",
   "execution_count": 3,
   "id": "1bd4a7e5",
   "metadata": {},
   "outputs": [
    {
     "name": "stdout",
     "output_type": "stream",
     "text": [
      "[6, 8, 10, 12]\n"
     ]
    }
   ],
   "source": [
    "l1=[1,2,3,4]\n",
    "l2=[5,6,7,8]\n",
    "#[6,8,10,12]\n",
    "res=[]\n",
    "for index,value  in enumerate(l1):#[(0,1),(1,2)]\n",
    "    res.append(value+l2[index])\n",
    "print(res)\n",
    "    "
   ]
  },
  {
   "cell_type": "code",
   "execution_count": 4,
   "id": "ab4679c5",
   "metadata": {},
   "outputs": [
    {
     "data": {
      "text/plain": [
       "[(1, 5), (2, 6), (3, 7), (4, 8)]"
      ]
     },
     "execution_count": 4,
     "metadata": {},
     "output_type": "execute_result"
    }
   ],
   "source": [
    "list(zip(l1,l2))"
   ]
  },
  {
   "cell_type": "code",
   "execution_count": 5,
   "id": "ddc3385e",
   "metadata": {},
   "outputs": [
    {
     "name": "stdout",
     "output_type": "stream",
     "text": [
      "[6, 8, 10, 12]\n"
     ]
    }
   ],
   "source": [
    "l1=[1,2,3,4]\n",
    "l2=[5,6,7,8]\n",
    "res=[]\n",
    "for val1,val2 in zip(l1,l2):\n",
    "    res.append(val1+val2)\n",
    "print(res)"
   ]
  },
  {
   "cell_type": "code",
   "execution_count": 7,
   "id": "f9ec5412",
   "metadata": {},
   "outputs": [
    {
     "name": "stdout",
     "output_type": "stream",
     "text": [
      "[6, 8, 10, 12]\n"
     ]
    }
   ],
   "source": [
    "l1=[1,2,3,4]\n",
    "l2=[5,6,7,8]\n",
    "res=[val1+val2 for val1,val2 in zip(l1,l2)]\n",
    "print(res)"
   ]
  },
  {
   "cell_type": "code",
   "execution_count": 10,
   "id": "842b4d76",
   "metadata": {},
   "outputs": [
    {
     "name": "stdout",
     "output_type": "stream",
     "text": [
      "[6, 8, 10, 12]\n"
     ]
    }
   ],
   "source": [
    "l1=[1,2,3,4]\n",
    "l2=[5,6,7,8]\n",
    "print(list(map(lambda x:x[0]+x[1], list(zip(l1,l2)))))"
   ]
  },
  {
   "cell_type": "code",
   "execution_count": 12,
   "id": "5b082a36",
   "metadata": {},
   "outputs": [
    {
     "name": "stdout",
     "output_type": "stream",
     "text": [
      "[6, 8, 10, 12]\n"
     ]
    }
   ],
   "source": [
    "l1=[1,2,3,4]\n",
    "l2=[5,6,7,8]\n",
    "print(list(map(lambda x:sum(x), list(zip(l1,l2)))))"
   ]
  },
  {
   "cell_type": "code",
   "execution_count": 13,
   "id": "89b43382",
   "metadata": {},
   "outputs": [
    {
     "name": "stdout",
     "output_type": "stream",
     "text": [
      "3\n"
     ]
    }
   ],
   "source": [
    "l=(1,2)\n",
    "print(sum(l))"
   ]
  },
  {
   "cell_type": "code",
   "execution_count": 14,
   "id": "b83dc7f4",
   "metadata": {},
   "outputs": [
    {
     "name": "stdout",
     "output_type": "stream",
     "text": [
      "[8, 11, 14, 17]\n"
     ]
    }
   ],
   "source": [
    "l1=[1,2,3,4]\n",
    "l2=[5,6,7,8]\n",
    "l3=[2,3,4,5]\n",
    "print(list(map(lambda x:sum(x), list(zip(l1,l2,l3)))))"
   ]
  },
  {
   "cell_type": "code",
   "execution_count": 15,
   "id": "7d8e23f9",
   "metadata": {},
   "outputs": [
    {
     "name": "stdout",
     "output_type": "stream",
     "text": [
      "[(1, 5), (2, 6), (3, 7), (4, 8)]\n"
     ]
    }
   ],
   "source": [
    "l1=[1,2,3,4]\n",
    "l2=[5,6,7,8,12,34]\n",
    "print(list(zip(l1,l2)))"
   ]
  },
  {
   "cell_type": "code",
   "execution_count": 17,
   "id": "5f8fb35a",
   "metadata": {},
   "outputs": [
    {
     "name": "stdout",
     "output_type": "stream",
     "text": [
      "[(1, 5, 10), (2, 6, 20)]\n"
     ]
    }
   ],
   "source": [
    "l1=[1,2,3,4]\n",
    "l2=[5,6,7,8,12,34]\n",
    "l3=[10,20]\n",
    "print(list(zip(l1,l2,l3)))"
   ]
  },
  {
   "cell_type": "code",
   "execution_count": 19,
   "id": "4e98f8cd",
   "metadata": {},
   "outputs": [
    {
     "name": "stdout",
     "output_type": "stream",
     "text": [
      "(1, 3)\n"
     ]
    }
   ],
   "source": [
    "def fun(*args):\n",
    "    t=()\n",
    "    for i in args:\n",
    "        t=t+(i[0],)\n",
    "    return t\n",
    "l1=[1,2,3]\n",
    "l2=[3,4,5]\n",
    "print(fun(l1,l2))\n"
   ]
  },
  {
   "cell_type": "code",
   "execution_count": 20,
   "id": "44109fd0",
   "metadata": {},
   "outputs": [
    {
     "name": "stdout",
     "output_type": "stream",
     "text": [
      "(1, 3, 6)\n"
     ]
    }
   ],
   "source": [
    "def fun(*args):\n",
    "    t=()\n",
    "    for i in args:\n",
    "        t=t+(i[0],)\n",
    "    return t\n",
    "l1=[1,2,3]\n",
    "l2=[3,4,5]\n",
    "print(fun(l1,l2,[6,7,8]))\n"
   ]
  },
  {
   "cell_type": "code",
   "execution_count": 21,
   "id": "ae95e29b",
   "metadata": {},
   "outputs": [
    {
     "name": "stdout",
     "output_type": "stream",
     "text": [
      "YES\n"
     ]
    }
   ],
   "source": [
    "l=[11,13,17,20,35,37]\n",
    "# check this list has even numbers or not.\n",
    "even_count = 0\n",
    "for i in l:\n",
    "    if i%2==0:\n",
    "        even_count+=1\n",
    "        break\n",
    "if even_count==0:\n",
    "    print(\"NO\")\n",
    "else:\n",
    "    print(\"YES\")"
   ]
  },
  {
   "cell_type": "code",
   "execution_count": 22,
   "id": "e7ee9b29",
   "metadata": {},
   "outputs": [
    {
     "name": "stdout",
     "output_type": "stream",
     "text": [
      "11\n",
      "13\n",
      "17\n",
      "20\n",
      "YES\n"
     ]
    }
   ],
   "source": [
    "l=[11,13,17,20,35,37]\n",
    "# check this list has even numbers or not.\n",
    "for i in l:\n",
    "    print(i)\n",
    "    if i%2==0:\n",
    "        print(\"YES\")\n",
    "        break"
   ]
  },
  {
   "cell_type": "code",
   "execution_count": 23,
   "id": "f1c8f386",
   "metadata": {},
   "outputs": [
    {
     "name": "stdout",
     "output_type": "stream",
     "text": [
      "11\n",
      "13\n",
      "17\n",
      "35\n",
      "37\n"
     ]
    }
   ],
   "source": [
    "l=[11,13,17,35,37]\n",
    "# check this list has even numbers or not.\n",
    "for i in l:\n",
    "    print(i)\n",
    "    if i%2==0:\n",
    "        print(\"YES\")\n",
    "        break"
   ]
  },
  {
   "cell_type": "code",
   "execution_count": 24,
   "id": "2d17815b",
   "metadata": {},
   "outputs": [
    {
     "name": "stdout",
     "output_type": "stream",
     "text": [
      "11\n",
      "NO\n",
      "13\n",
      "NO\n",
      "17\n",
      "NO\n",
      "35\n",
      "NO\n",
      "37\n",
      "NO\n"
     ]
    }
   ],
   "source": [
    "l=[11,13,17,35,37]\n",
    "# check this list has even numbers or not.\n",
    "for i in l:\n",
    "    print(i)\n",
    "    if i%2==0:\n",
    "        print(\"YES\")\n",
    "        break\n",
    "    else:\n",
    "        print(\"NO\")"
   ]
  },
  {
   "cell_type": "code",
   "execution_count": 25,
   "id": "04760b32",
   "metadata": {},
   "outputs": [
    {
     "name": "stdout",
     "output_type": "stream",
     "text": [
      "started\n",
      "1\n",
      "2\n",
      "3\n",
      "ELSE BLOCK\n",
      "Ended\n"
     ]
    }
   ],
   "source": [
    "print(\"started\")\n",
    "for i in [1,2,3]:\n",
    "    print(i)\n",
    "else:\n",
    "    print(\"ELSE BLOCK\")\n",
    "print(\"Ended\")"
   ]
  },
  {
   "cell_type": "code",
   "execution_count": 26,
   "id": "05e5225e",
   "metadata": {},
   "outputs": [
    {
     "name": "stdout",
     "output_type": "stream",
     "text": [
      "started\n",
      "1\n",
      "2\n",
      "3\n",
      "ELSE BLOCK\n",
      "Ended\n"
     ]
    }
   ],
   "source": [
    "print(\"started\")\n",
    "for i in [1,2,3]:\n",
    "    print(i)\n",
    "else:\n",
    "    print(\"ELSE BLOCK\")\n",
    "print(\"Ended\")"
   ]
  },
  {
   "cell_type": "code",
   "execution_count": 27,
   "id": "5476eb7d",
   "metadata": {},
   "outputs": [
    {
     "name": "stdout",
     "output_type": "stream",
     "text": [
      "started\n",
      "1\n",
      "2\n",
      "3\n",
      "Ended\n"
     ]
    }
   ],
   "source": [
    "print(\"started\")\n",
    "for i in [1,2,3]:\n",
    "    print(i)\n",
    "    if i==3:\n",
    "        break\n",
    "else:\n",
    "    print(\"ELSE BLOCK\")\n",
    "print(\"Ended\")"
   ]
  },
  {
   "cell_type": "code",
   "execution_count": 28,
   "id": "0bbdbe40",
   "metadata": {},
   "outputs": [
    {
     "name": "stdout",
     "output_type": "stream",
     "text": [
      "['orange', 'mango', 'grape', 'APPLE', 'grape', 'APPLE', 'banana']\n"
     ]
    }
   ],
   "source": [
    "s = 'apple,orange,mango,grape,apple,grape,apple,banana'\n",
    "list1 = s.split(',')\n",
    "count = 0\n",
    "for i in range(len(list1)-1,-1,-1):\n",
    "    if list1[i] == 'apple':\n",
    "        list1[i] = 'APPLE'\n",
    "        count += 1\n",
    "    if count == 2:\n",
    "        break\n",
    "hello = list1\n",
    "for i in hello[::-1]:\n",
    "    if i == 'apple':\n",
    "        hello.remove('apple')\n",
    "print(hello)"
   ]
  },
  {
   "cell_type": "code",
   "execution_count": 29,
   "id": "3d1d5a13",
   "metadata": {},
   "outputs": [
    {
     "data": {
      "text/plain": [
       "['', ',orange,mango,grape,', ',grape,', ',banana']"
      ]
     },
     "execution_count": 29,
     "metadata": {},
     "output_type": "execute_result"
    }
   ],
   "source": [
    "s = 'apple,orange,mango,grape,apple,grape,apple,banana'\n",
    "s.split(\"apple\")"
   ]
  },
  {
   "cell_type": "code",
   "execution_count": 30,
   "id": "70e11489",
   "metadata": {},
   "outputs": [
    {
     "data": {
      "text/plain": [
       "',,orange,mango,grape,,,grape,,,banana'"
      ]
     },
     "execution_count": 30,
     "metadata": {},
     "output_type": "execute_result"
    }
   ],
   "source": [
    "s = 'apple,orange,mango,grape,apple,grape,apple,banana'\n",
    "\",\".join(s.split(\"apple\"))"
   ]
  },
  {
   "cell_type": "code",
   "execution_count": 31,
   "id": "22b62be2",
   "metadata": {},
   "outputs": [
    {
     "data": {
      "text/plain": [
       "',orange,mango,grape,,,grape,,,banana'"
      ]
     },
     "execution_count": 31,
     "metadata": {},
     "output_type": "execute_result"
    }
   ],
   "source": [
    "s = 'apple,orange,mango,grape,apple,grape,apple,banana'\n",
    "\",\".join([i for i in s.split(\"apple\") if i])"
   ]
  },
  {
   "cell_type": "code",
   "execution_count": 32,
   "id": "4029bc3d",
   "metadata": {},
   "outputs": [
    {
     "name": "stdout",
     "output_type": "stream",
     "text": [
      "['', ',orange,mango,grape,', ',grape,', ',banana']\n"
     ]
    }
   ],
   "source": [
    "print(s.split(\"apple\"))"
   ]
  },
  {
   "cell_type": "code",
   "execution_count": 34,
   "id": "866d115c",
   "metadata": {},
   "outputs": [
    {
     "data": {
      "text/plain": [
       "'apple,orange,mango,grape,grape,banana'"
      ]
     },
     "execution_count": 34,
     "metadata": {},
     "output_type": "execute_result"
    }
   ],
   "source": [
    "s = 'apple,orange,mango,grape,apple,grape,apple,banana'\n",
    "\",\".join([i for i in s.split(\",apple,\") if i])"
   ]
  },
  {
   "cell_type": "code",
   "execution_count": 35,
   "id": "28fa96f5",
   "metadata": {},
   "outputs": [
    {
     "name": "stdout",
     "output_type": "stream",
     "text": [
      "['', ',orange,mango,grape,', ',grape,apple,banana']\n"
     ]
    }
   ],
   "source": [
    "s = 'apple,orange,mango,grape,apple,grape,apple,banana'\n",
    "print(s.split(\"apple\",2))"
   ]
  },
  {
   "cell_type": "code",
   "execution_count": 36,
   "id": "f4254bfe",
   "metadata": {},
   "outputs": [
    {
     "name": "stdout",
     "output_type": "stream",
     "text": [
      "['apple,orange,mango,grape,', ',grape,', ',banana']\n"
     ]
    }
   ],
   "source": [
    "s = 'apple,orange,mango,grape,apple,grape,apple,banana'\n",
    "print(s.rsplit(\"apple\",2))"
   ]
  },
  {
   "cell_type": "code",
   "execution_count": 37,
   "id": "124786dd",
   "metadata": {},
   "outputs": [
    {
     "data": {
      "text/plain": [
       "'apple,orange,mango,grape,APPLE,grape,APPLE,banana'"
      ]
     },
     "execution_count": 37,
     "metadata": {},
     "output_type": "execute_result"
    }
   ],
   "source": [
    "s = 'apple,orange,mango,grape,apple,grape,apple,banana'\n",
    "\"APPLE\".join(s.rsplit(\"apple\",2))"
   ]
  },
  {
   "cell_type": "code",
   "execution_count": null,
   "id": "04ca8c5c",
   "metadata": {},
   "outputs": [],
   "source": [
    "#code to restart a machine\n",
    "# trgger the command to restart a vm.\n",
    "# how do you check whether the vm got up?\n",
    "# there is command to check it.\n",
    "# do you know what time it will take to restart.\n",
    "# every second we will execute a command whether it is up or not.\n"
   ]
  }
 ],
 "metadata": {
  "kernelspec": {
   "display_name": "Python 3 (ipykernel)",
   "language": "python",
   "name": "python3"
  },
  "language_info": {
   "codemirror_mode": {
    "name": "ipython",
    "version": 3
   },
   "file_extension": ".py",
   "mimetype": "text/x-python",
   "name": "python",
   "nbconvert_exporter": "python",
   "pygments_lexer": "ipython3",
   "version": "3.11.5"
  }
 },
 "nbformat": 4,
 "nbformat_minor": 5
}
