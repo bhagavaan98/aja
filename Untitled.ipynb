{
 "cells": [
  {
   "cell_type": "code",
   "execution_count": 1,
   "id": "f05757a5",
   "metadata": {},
   "outputs": [],
   "source": [
    "a=10\n",
    "b=\"Hyd\"\n",
    "c=[1000,2000,3000]\n",
    "l=[4000,l,a,b,c]"
   ]
  },
  {
   "cell_type": "code",
   "execution_count": 5,
   "id": "e397aa3b",
   "metadata": {},
   "outputs": [],
   "source": [
    "from copy import deepcopy\n",
    "a=[1000,2000,3000]\n",
    "k=a\n",
    "l=[1000,2000,3000]\n",
    "m=a[:]#4000?\n",
    "n=deepcop(a)#it will add 4000\n",
    "o=copy(a)# it will add 4000\n",
    "a.append(4000)\n",
    "print(k)\n",
    "print(l)\n",
    "print(m)\n",
    "print(n)\n",
    "print(o)"
   ]
  },
  {
   "cell_type": "code",
   "execution_count": 1,
   "id": "1fa1446c",
   "metadata": {},
   "outputs": [
    {
     "name": "stdout",
     "output_type": "stream",
     "text": [
      ". \" garat?\n",
      "TOP urraka, TELANGANA\n",
      "2 HYDERABAD\n",
      "bik dad?O imam\n",
      "16/09/2015 $/99/2025\n",
      "\n",
      "CSAMOASLVARAORK 44644 CCE EEK KK\n",
      "\n",
      "4inoees 2602509150444 4444444404446\n",
      "\n",
      "\n"
     ]
    }
   ],
   "source": [
    "from PIL import Image\n",
    "import pytesseract\n",
    "pytesseract.pytesseract.tesseract_cmd = r'C:\\Program Files\\Tesseract-OCR\\tesseract.exe'\n",
    "print(pytesseract.image_to_string(Image.open('image.jpg')))"
   ]
  },
  {
   "cell_type": "code",
   "execution_count": 2,
   "id": "d4d4e6fc",
   "metadata": {},
   "outputs": [
    {
     "name": "stdout",
     "output_type": "stream",
     "text": [
      "h1\n",
      "1\n",
      "h1\n",
      "2\n",
      "h1\n",
      "3\n",
      "h1\n",
      "4\n"
     ]
    }
   ],
   "source": [
    "def fun():\n",
    "    yield from [1,2,3,4]\n",
    "for i in fun():\n",
    "    print(\"h1\")\n",
    "    print(i)"
   ]
  },
  {
   "cell_type": "code",
   "execution_count": null,
   "id": "36981bd1",
   "metadata": {},
   "outputs": [],
   "source": []
  }
 ],
 "metadata": {
  "kernelspec": {
   "display_name": "Python 3 (ipykernel)",
   "language": "python",
   "name": "python3"
  },
  "language_info": {
   "codemirror_mode": {
    "name": "ipython",
    "version": 3
   },
   "file_extension": ".py",
   "mimetype": "text/x-python",
   "name": "python",
   "nbconvert_exporter": "python",
   "pygments_lexer": "ipython3",
   "version": "3.11.5"
  }
 },
 "nbformat": 4,
 "nbformat_minor": 5
}
