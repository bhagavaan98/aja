{
 "cells": [
  {
   "cell_type": "code",
   "execution_count": 1,
   "id": "f05757a5",
   "metadata": {},
   "outputs": [],
   "source": [
    "a=10\n",
    "b=\"Hyd\"\n",
    "c=[1000,2000,3000]\n",
    "l=[4000,l,a,b,c]"
   ]
  },
  {
   "cell_type": "code",
   "execution_count": 5,
   "id": "e397aa3b",
   "metadata": {},
   "outputs": [],
   "source": [
    "from copy import deepcopy\n",
    "a=[1000,2000,3000]\n",
    "k=a\n",
    "l=[1000,2000,3000]\n",
    "m=a[:]#4000?\n",
    "n=deepcop(a)#it will add 4000\n",
    "o=copy(a)# it will add 4000\n",
    "a.append(4000)\n",
    "print(k)\n",
    "print(l)\n",
    "print(m)\n",
    "print(n)\n",
    "print(o)"
   ]
  },
  {
   "cell_type": "code",
   "execution_count": 3,
   "id": "1fa1446c",
   "metadata": {},
   "outputs": [],
   "source": []
  },
  {
   "cell_type": "code",
   "execution_count": null,
   "id": "d4d4e6fc",
   "metadata": {},
   "outputs": [],
   "source": []
  }
 ],
 "metadata": {
  "kernelspec": {
   "display_name": "Python 3 (ipykernel)",
   "language": "python",
   "name": "python3"
  },
  "language_info": {
   "codemirror_mode": {
    "name": "ipython",
    "version": 3
   },
   "file_extension": ".py",
   "mimetype": "text/x-python",
   "name": "python",
   "nbconvert_exporter": "python",
   "pygments_lexer": "ipython3",
   "version": "3.11.3"
  }
 },
 "nbformat": 4,
 "nbformat_minor": 5
}
