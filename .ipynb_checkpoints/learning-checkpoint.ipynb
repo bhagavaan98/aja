{
 "cells": [
  {
   "cell_type": "code",
   "execution_count": 9,
   "id": "86cc9f51",
   "metadata": {},
   "outputs": [
    {
     "name": "stdout",
     "output_type": "stream",
     "text": [
      "india won the match\n",
      "india won the match\n"
     ]
    }
   ],
   "source": [
    "##n->!,a->#, w->$,t->%\n",
    "a=\"india won the match\"\n",
    "a.replace(\"n\",\"!\")\n",
    "print(a)\n",
    "for i in a:\n",
    "    a.replace(\"n\",\"!\")\n",
    "print(a)"
   ]
  },
  {
   "cell_type": "code",
   "execution_count": null,
   "id": "f0e26f93",
   "metadata": {},
   "outputs": [],
   "source": []
  },
  {
   "cell_type": "code",
   "execution_count": null,
   "id": "9581d6db",
   "metadata": {},
   "outputs": [],
   "source": []
  }
 ],
 "metadata": {
  "kernelspec": {
   "display_name": "Python 3 (ipykernel)",
   "language": "python",
   "name": "python3"
  },
  "language_info": {
   "codemirror_mode": {
    "name": "ipython",
    "version": 3
   },
   "file_extension": ".py",
   "mimetype": "text/x-python",
   "name": "python",
   "nbconvert_exporter": "python",
   "pygments_lexer": "ipython3",
   "version": "3.11.5"
  }
 },
 "nbformat": 4,
 "nbformat_minor": 5
}
