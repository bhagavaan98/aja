{
 "cells": [
  {
   "cell_type": "code",
   "execution_count": 2,
   "id": "3527fe5a",
   "metadata": {},
   "outputs": [
    {
     "name": "stdout",
     "output_type": "stream",
     "text": [
      "<class 'function'>\n"
     ]
    }
   ],
   "source": [
    "add = lambda x:x**2\n",
    "print(type(add))"
   ]
  },
  {
   "cell_type": "code",
   "execution_count": 4,
   "id": "22510ed2",
   "metadata": {},
   "outputs": [
    {
     "name": "stdout",
     "output_type": "stream",
     "text": [
      "100\n"
     ]
    }
   ],
   "source": [
    "print(add(10))"
   ]
  },
  {
   "cell_type": "code",
   "execution_count": 5,
   "id": "2bd9f375",
   "metadata": {},
   "outputs": [
    {
     "name": "stdout",
     "output_type": "stream",
     "text": [
      "True\n"
     ]
    }
   ],
   "source": [
    "def check_even(x):\n",
    "    if x%2==0:\n",
    "        return True\n",
    "    else:\n",
    "        return False\n",
    "print(check_even(12))"
   ]
  },
  {
   "cell_type": "code",
   "execution_count": 6,
   "id": "f2e08415",
   "metadata": {},
   "outputs": [
    {
     "name": "stdout",
     "output_type": "stream",
     "text": [
      "True\n"
     ]
    }
   ],
   "source": [
    "def check_even(x):\n",
    "    return True if x%2==0 else False\n",
    "print(check_even(12))"
   ]
  },
  {
   "cell_type": "code",
   "execution_count": 7,
   "id": "b5498463",
   "metadata": {},
   "outputs": [
    {
     "name": "stdout",
     "output_type": "stream",
     "text": [
      "True\n"
     ]
    }
   ],
   "source": [
    "check_even = lambda x:True if x%2==0 else False\n",
    "print(check_even(12))"
   ]
  },
  {
   "cell_type": "code",
   "execution_count": 8,
   "id": "c1672746",
   "metadata": {},
   "outputs": [
    {
     "data": {
      "text/plain": [
       "5"
      ]
     },
     "execution_count": 8,
     "metadata": {},
     "output_type": "execute_result"
    }
   ],
   "source": [
    "l=\"abcdabdcababab\"\n",
    "#{\"a\":5,\"b\":5,\"c\":2,\"d\":2}\n",
    "l.count(\"a\")"
   ]
  },
  {
   "cell_type": "code",
   "execution_count": 1,
   "id": "6f2c7797",
   "metadata": {},
   "outputs": [
    {
     "name": "stdout",
     "output_type": "stream",
     "text": [
      "{'a': 5, 'b': 5, 'c': 2, 'd': 2}\n"
     ]
    }
   ],
   "source": [
    "l=\"abcdabdcababab\"\n",
    "# write a code to find a letter which is occured most number of times\n",
    "res={}\n",
    "for i in l:\n",
    "    if i not in res:\n",
    "        res[i]=1\n",
    "    else:\n",
    "        res[i]+=1\n",
    "print(res)\n"
   ]
  },
  {
   "cell_type": "code",
   "execution_count": 2,
   "id": "1f15c3b2",
   "metadata": {},
   "outputs": [
    {
     "name": "stdout",
     "output_type": "stream",
     "text": [
      "5 b\n"
     ]
    }
   ],
   "source": [
    "l=\"abcdabdcababab\"\n",
    "# write a code to find a letter which is occured most number of times\n",
    "res={}\n",
    "for i in l:\n",
    "    if i not in res:\n",
    "        res[i]=1\n",
    "    else:\n",
    "        res[i]+=1\n",
    "m=0\n",
    "cahr=\"\"\n",
    "for i,j in res.items():\n",
    "    if j>=m:\n",
    "        m=j\n",
    "        char=i\n",
    "print(m, char)\n",
    "        \n"
   ]
  },
  {
   "cell_type": "code",
   "execution_count": 3,
   "id": "9c2c8257",
   "metadata": {},
   "outputs": [
    {
     "name": "stdout",
     "output_type": "stream",
     "text": [
      "4\n"
     ]
    }
   ],
   "source": [
    "l=[1,2,3,4]\n",
    "print(max(l))"
   ]
  },
  {
   "cell_type": "code",
   "execution_count": null,
   "id": "10906fe5",
   "metadata": {},
   "outputs": [],
   "source": [
    "l={'a': 5, 'b': 5, 'c': 2, 'd': 2}\n",
    "print(max(l))"
   ]
  },
  {
   "cell_type": "code",
   "execution_count": 4,
   "id": "edcb82a7",
   "metadata": {},
   "outputs": [
    {
     "data": {
      "text/plain": [
       "'d'"
      ]
     },
     "execution_count": 4,
     "metadata": {},
     "output_type": "execute_result"
    }
   ],
   "source": [
    "max(\"abcd\")"
   ]
  },
  {
   "cell_type": "code",
   "execution_count": 5,
   "id": "f40b9afc",
   "metadata": {},
   "outputs": [
    {
     "data": {
      "text/plain": [
       "(5, 6)"
      ]
     },
     "execution_count": 5,
     "metadata": {},
     "output_type": "execute_result"
    }
   ],
   "source": [
    "max([(1,2),(3,4),(5,6)])"
   ]
  },
  {
   "cell_type": "code",
   "execution_count": 6,
   "id": "1bcb9d90",
   "metadata": {},
   "outputs": [
    {
     "data": {
      "text/plain": [
       "(30, 4)"
      ]
     },
     "execution_count": 6,
     "metadata": {},
     "output_type": "execute_result"
    }
   ],
   "source": [
    "max([(1,2),(30,4),(5,6)])"
   ]
  },
  {
   "cell_type": "code",
   "execution_count": 8,
   "id": "dfd70ec1",
   "metadata": {
    "scrolled": true
   },
   "outputs": [
    {
     "name": "stdout",
     "output_type": "stream",
     "text": [
      "(1, 2)\n",
      "(30, 4)\n",
      "(5, 6)\n"
     ]
    },
    {
     "data": {
      "text/plain": [
       "(30, 4)"
      ]
     },
     "execution_count": 8,
     "metadata": {},
     "output_type": "execute_result"
    }
   ],
   "source": [
    "def fun(value):\n",
    "    print(value)\n",
    "    return value\n",
    "max([(1,2),(30,4),(5,6)], key=fun)"
   ]
  },
  {
   "cell_type": "code",
   "execution_count": 9,
   "id": "9e3dc9aa",
   "metadata": {},
   "outputs": [
    {
     "name": "stdout",
     "output_type": "stream",
     "text": [
      "(1, 2)\n",
      "(30, 4)\n",
      "(5, 6)\n"
     ]
    },
    {
     "data": {
      "text/plain": [
       "(5, 6)"
      ]
     },
     "execution_count": 9,
     "metadata": {},
     "output_type": "execute_result"
    }
   ],
   "source": [
    "def fun(value):\n",
    "    print(value)\n",
    "    return value[1]\n",
    "max([(1,2),(30,4),(5,6)], key=fun)"
   ]
  },
  {
   "cell_type": "code",
   "execution_count": 10,
   "id": "86a8c681",
   "metadata": {},
   "outputs": [
    {
     "data": {
      "text/plain": [
       "(5, 6)"
      ]
     },
     "execution_count": 10,
     "metadata": {},
     "output_type": "execute_result"
    }
   ],
   "source": [
    "def fun(value):\n",
    "    return value[1]\n",
    "max([(1,2),(30,4),(5,6)], key=fun)"
   ]
  },
  {
   "cell_type": "code",
   "execution_count": 11,
   "id": "85ffc731",
   "metadata": {},
   "outputs": [
    {
     "ename": "TypeError",
     "evalue": "'>' not supported between instances of 'dict' and 'dict'",
     "output_type": "error",
     "traceback": [
      "\u001b[1;31m---------------------------------------------------------------------------\u001b[0m",
      "\u001b[1;31mTypeError\u001b[0m                                 Traceback (most recent call last)",
      "Cell \u001b[1;32mIn[11], line 2\u001b[0m\n\u001b[0;32m      1\u001b[0m data\u001b[38;5;241m=\u001b[39m[{\u001b[38;5;124m\"\u001b[39m\u001b[38;5;124mname\u001b[39m\u001b[38;5;124m\"\u001b[39m:\u001b[38;5;124m\"\u001b[39m\u001b[38;5;124mjay\u001b[39m\u001b[38;5;124m\"\u001b[39m,\u001b[38;5;124m\"\u001b[39m\u001b[38;5;124mage\u001b[39m\u001b[38;5;124m\"\u001b[39m:\u001b[38;5;241m8\u001b[39m},{\u001b[38;5;124m\"\u001b[39m\u001b[38;5;124mname\u001b[39m\u001b[38;5;124m\"\u001b[39m:\u001b[38;5;124m\"\u001b[39m\u001b[38;5;124mvedha\u001b[39m\u001b[38;5;124m\"\u001b[39m,\u001b[38;5;124m\"\u001b[39m\u001b[38;5;124mage\u001b[39m\u001b[38;5;124m\"\u001b[39m:\u001b[38;5;241m7\u001b[39m}]\n\u001b[1;32m----> 2\u001b[0m \u001b[38;5;28mprint\u001b[39m(\u001b[38;5;28mmax\u001b[39m(data))\n",
      "\u001b[1;31mTypeError\u001b[0m: '>' not supported between instances of 'dict' and 'dict'"
     ]
    }
   ],
   "source": [
    "data=[{\"name\":\"jay\",\"age\":8},{\"name\":\"vedha\",\"age\":7}]\n",
    "print(max(data))"
   ]
  },
  {
   "cell_type": "code",
   "execution_count": 12,
   "id": "851553da",
   "metadata": {},
   "outputs": [
    {
     "name": "stdout",
     "output_type": "stream",
     "text": [
      "{'name': 'jay', 'age': 8}\n"
     ]
    }
   ],
   "source": [
    "data=[{\"name\":\"jay\",\"age\":8},{\"name\":\"vedha\",\"age\":7}]\n",
    "def fun(d):\n",
    "    return d.get(\"age\")\n",
    "print(max(data, key=fun))"
   ]
  },
  {
   "cell_type": "code",
   "execution_count": 13,
   "id": "deb744e6",
   "metadata": {},
   "outputs": [
    {
     "name": "stdout",
     "output_type": "stream",
     "text": [
      "{'name': 'vedha', 'age': 7}\n"
     ]
    }
   ],
   "source": [
    "data=[{\"name\":\"jay\",\"age\":8},{\"name\":\"vedha\",\"age\":7}]\n",
    "def fun(d):\n",
    "    return d.get(\"name\")\n",
    "print(max(data, key=fun))"
   ]
  },
  {
   "cell_type": "code",
   "execution_count": 14,
   "id": "caa3ee04",
   "metadata": {},
   "outputs": [
    {
     "name": "stdout",
     "output_type": "stream",
     "text": [
      "{'name': 'jay', 'age': 8}\n",
      "{'name': 'vedha', 'age': 7}\n"
     ]
    }
   ],
   "source": [
    "data=[{\"name\":\"jay\",\"age\":8},{\"name\":\"vedha\",\"age\":7}]\n",
    "for i in data:\n",
    "    print(i)"
   ]
  },
  {
   "cell_type": "code",
   "execution_count": 16,
   "id": "89d9c4a1",
   "metadata": {},
   "outputs": [
    {
     "data": {
      "text/plain": [
       "'jay'"
      ]
     },
     "execution_count": 16,
     "metadata": {},
     "output_type": "execute_result"
    }
   ],
   "source": [
    "def fun(d):\n",
    "    return d.get(\"name\")\n",
    "fun = lambda d:d.get(\"name\")\n",
    "fun({\"name\":\"jay\",\"age\":8})"
   ]
  },
  {
   "cell_type": "code",
   "execution_count": 17,
   "id": "ad0df86a",
   "metadata": {},
   "outputs": [
    {
     "name": "stdout",
     "output_type": "stream",
     "text": [
      "{'name': 'vedha', 'age': 7}\n"
     ]
    }
   ],
   "source": [
    "data=[{\"name\":\"jay\",\"age\":8},{\"name\":\"vedha\",\"age\":7}]\n",
    "print(max(data, key=lambda d:d.get(\"name\")))"
   ]
  },
  {
   "cell_type": "code",
   "execution_count": 18,
   "id": "eebe1691",
   "metadata": {},
   "outputs": [
    {
     "name": "stdout",
     "output_type": "stream",
     "text": [
      "{'a': 'a', 'b': 'b', 'c': 'c', 'd': 'd'}\n"
     ]
    }
   ],
   "source": [
    "s=\"abcdabcdaabcaabc\"\n",
    "d={i:i for i in s}\n",
    "print(d)"
   ]
  },
  {
   "cell_type": "code",
   "execution_count": 19,
   "id": "e5d1f8fc",
   "metadata": {},
   "outputs": [
    {
     "name": "stdout",
     "output_type": "stream",
     "text": [
      "{'a': 6, 'b': 4, 'c': 4, 'd': 2}\n"
     ]
    }
   ],
   "source": [
    "s=\"abcdabcdaabcaabc\"\n",
    "d={i:s.count(i) for i in s}\n",
    "print(d)"
   ]
  },
  {
   "cell_type": "code",
   "execution_count": 20,
   "id": "a62b3797",
   "metadata": {},
   "outputs": [
    {
     "data": {
      "text/plain": [
       "{'a', 'b', 'c', 'd'}"
      ]
     },
     "execution_count": 20,
     "metadata": {},
     "output_type": "execute_result"
    }
   ],
   "source": [
    "set(s)"
   ]
  },
  {
   "cell_type": "code",
   "execution_count": 21,
   "id": "371351af",
   "metadata": {},
   "outputs": [
    {
     "name": "stdout",
     "output_type": "stream",
     "text": [
      "{'c': 4, 'a': 6, 'd': 2, 'b': 4}\n"
     ]
    }
   ],
   "source": [
    "s=\"abcdabcdaabcaabc\"\n",
    "d={i:s.count(i) for i in set(s)}\n",
    "print(d)"
   ]
  },
  {
   "cell_type": "code",
   "execution_count": 23,
   "id": "49f28913",
   "metadata": {},
   "outputs": [
    {
     "name": "stdout",
     "output_type": "stream",
     "text": [
      "{'c': 4, 'a': 6, 'd': 2, 'b': 4}\n"
     ]
    }
   ],
   "source": [
    "s=\"abcdabcdaabcaabc\"\n",
    "d={i:s.count(i) for i in set(s)}\n",
    "print(d)"
   ]
  },
  {
   "cell_type": "code",
   "execution_count": 24,
   "id": "5ef1eacb",
   "metadata": {},
   "outputs": [
    {
     "data": {
      "text/plain": [
       "'d'"
      ]
     },
     "execution_count": 24,
     "metadata": {},
     "output_type": "execute_result"
    }
   ],
   "source": [
    "max(d)"
   ]
  },
  {
   "cell_type": "code",
   "execution_count": 26,
   "id": "bb27c637",
   "metadata": {},
   "outputs": [
    {
     "data": {
      "text/plain": [
       "'a'"
      ]
     },
     "execution_count": 26,
     "metadata": {},
     "output_type": "execute_result"
    }
   ],
   "source": [
    "s=\"abcdabcdaabcaabc\"\n",
    "d={i:s.count(i) for i in set(s)}\n",
    "max(d, key=lambda x:d.get(x))"
   ]
  },
  {
   "cell_type": "code",
   "execution_count": null,
   "id": "d4b85d22",
   "metadata": {},
   "outputs": [],
   "source": [
    "s=\"abcdabcdaabcaabc\"\n",
    "d={i:s.count(i) for i in set(s)}\n",
    "max(d, key=lambda x:d.get(x))"
   ]
  },
  {
   "cell_type": "code",
   "execution_count": 27,
   "id": "d173292e",
   "metadata": {},
   "outputs": [
    {
     "name": "stdout",
     "output_type": "stream",
     "text": [
      "{1, 2, 3, 4}\n"
     ]
    }
   ],
   "source": [
    "print(set([1,2,3,4,1,2,3,4]))"
   ]
  },
  {
   "cell_type": "code",
   "execution_count": 28,
   "id": "8d1fb05a",
   "metadata": {},
   "outputs": [
    {
     "name": "stdout",
     "output_type": "stream",
     "text": [
      "{'c', 'a', 'd', 'b'}\n"
     ]
    }
   ],
   "source": [
    "print(set(\"abcdabcdabcd\"))"
   ]
  },
  {
   "cell_type": "code",
   "execution_count": 29,
   "id": "03dc5d98",
   "metadata": {},
   "outputs": [
    {
     "name": "stdout",
     "output_type": "stream",
     "text": [
      "{'age', 'name'}\n"
     ]
    }
   ],
   "source": [
    "print(set({\"name\":\"jay\",\"age\":23}))"
   ]
  },
  {
   "cell_type": "code",
   "execution_count": 30,
   "id": "998f0643",
   "metadata": {},
   "outputs": [
    {
     "name": "stdout",
     "output_type": "stream",
     "text": [
      "{'c', 'a', 'd', 'b'}\n"
     ]
    }
   ],
   "source": [
    "res=set()\n",
    "s=\"abcdabcdaabcaabc\"\n",
    "for i in s:\n",
    "    res.add(i)\n",
    "print(res)"
   ]
  },
  {
   "cell_type": "code",
   "execution_count": 31,
   "id": "9e1e1c14",
   "metadata": {},
   "outputs": [
    {
     "name": "stdout",
     "output_type": "stream",
     "text": [
      "{'c', 'a', 'd', 'b'}\n"
     ]
    }
   ],
   "source": [
    "print(set(\"abcdabcdabcd\",))"
   ]
  },
  {
   "cell_type": "code",
   "execution_count": 32,
   "id": "77597f8a",
   "metadata": {},
   "outputs": [
    {
     "name": "stdout",
     "output_type": "stream",
     "text": [
      "{'abcdabcdabcd'}\n"
     ]
    }
   ],
   "source": [
    "print(set((\"abcdabcdabcd\",)))"
   ]
  },
  {
   "cell_type": "code",
   "execution_count": 33,
   "id": "8c7ae60f",
   "metadata": {},
   "outputs": [
    {
     "name": "stdout",
     "output_type": "stream",
     "text": [
      "{'abcdabcdabcd', 'abcdabcd'}\n"
     ]
    }
   ],
   "source": [
    "print(set((\"abcdabcdabcd\",\"abcdabcdabcd\",\"abcdabcd\")))"
   ]
  },
  {
   "cell_type": "code",
   "execution_count": null,
   "id": "3a49d33c",
   "metadata": {},
   "outputs": [],
   "source": []
  }
 ],
 "metadata": {
  "kernelspec": {
   "display_name": "Python 3 (ipykernel)",
   "language": "python",
   "name": "python3"
  },
  "language_info": {
   "codemirror_mode": {
    "name": "ipython",
    "version": 3
   },
   "file_extension": ".py",
   "mimetype": "text/x-python",
   "name": "python",
   "nbconvert_exporter": "python",
   "pygments_lexer": "ipython3",
   "version": "3.11.5"
  }
 },
 "nbformat": 4,
 "nbformat_minor": 5
}
