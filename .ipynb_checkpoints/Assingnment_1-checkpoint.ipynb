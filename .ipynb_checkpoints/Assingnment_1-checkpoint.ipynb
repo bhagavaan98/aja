{
 "cells": [
  {
   "cell_type": "code",
   "execution_count": null,
   "metadata": {
    "colab": {
     "base_uri": "https://localhost:8080/"
    },
    "id": "EUwhKvG0HMR9",
    "outputId": "ba8d853f-74ba-4998-ca7b-e08b14d648ab"
   },
   "outputs": [
    {
     "name": "stdout",
     "output_type": "stream",
     "text": [
      "20\n",
      "68\n"
     ]
    }
   ],
   "source": [
    "#2.take temperature from the user and convert foreign heat -> Celsius.\n",
    "\n",
    "celcius_temperature = int(input())\n",
    "fahrenheit_temperature = 9 / 5 * celcius_temperature + 32\n",
    "print(int(fahrenheit_temperature))"
   ]
  },
  {
   "cell_type": "code",
   "execution_count": null,
   "metadata": {
    "colab": {
     "base_uri": "https://localhost:8080/"
    },
    "id": "657g_8HdIx4I",
    "outputId": "a7a6e947-7b02-48f7-fac4-3f339f2118c7"
   },
   "outputs": [
    {
     "name": "stdout",
     "output_type": "stream",
     "text": [
      "68\n",
      "20\n"
     ]
    }
   ],
   "source": [
    "#3.take temperature from the user and convert Celsius → foreign heat.\n",
    "fahrenheit_temperature = int(input())\n",
    "celcius_temperature = 5 / 9 * (fahrenheit_temperature - 32)\n",
    "print(int(celcius_temperature))\n"
   ]
  },
  {
   "cell_type": "code",
   "execution_count": 2,
   "metadata": {
    "colab": {
     "base_uri": "https://localhost:8080/"
    },
    "id": "2dqjx6g2DWAY",
    "outputId": "7a6fb3fc-1f83-49f2-e5ab-ba9b3a4ba33c"
   },
   "outputs": [
    {
     "name": "stdout",
     "output_type": "stream",
     "text": [
      "enter no of people 78\n",
      "enter no of seats 98\n",
      "0\n"
     ]
    }
   ],
   "source": [
    "##1.\tTake the input from the user for(Total number of people,Number of seats for bus. Based on two inputs\n",
    "##Decide how many number of buses required\n",
    "\n",
    "no_of_people = int(input(\"enter no of people \"))\n",
    "no_of_seats = int(input(\"enter no of seats \"))\n",
    "no_of_bus = no_of_people//no_of_seats\n",
    "if no_of_people%no_of_seats != 0:\n",
    "    no_of_bus += 1\n",
    "print(no_of_bus)"
   ]
  },
  {
   "cell_type": "code",
   "execution_count": null,
   "metadata": {
    "colab": {
     "base_uri": "https://localhost:8080/"
    },
    "id": "ar4K1UkzJrKn",
    "outputId": "b2d5a62c-76a0-4c5b-eab0-b992f7c9c620"
   },
   "outputs": [
    {
     "name": "stdout",
     "output_type": "stream",
     "text": [
      "2 6.0 5 6\n",
      "64.0\n",
      "1331.0\n",
      "2.6875\n",
      "1.6393596310755\n",
      "23.415000000000003\n",
      "4.75\n",
      "19.0\n"
     ]
    }
   ],
   "source": [
    "'''4.take four number from the user (variables name it as x1,x2,x3,x4) Do the below operations\n",
    "\n",
    "(x1+x2)**2, (x3+x4)**3\n",
    "\n",
    "variance\n",
    "\n",
    "standard deviation: sqrt(variance):  User math module. Math.sqrt(variance)\n",
    "\n",
    "Regression\n",
    "\n",
    "y=mx+b\n",
    "\n",
    "          m=1.23\n",
    "\n",
    "          b=0.045\n",
    "\n",
    "          find out y\n",
    "\n",
    "          y=m*(x1+x2+x3+x4)+b\n",
    "\n",
    " Find the average of four numbers\n",
    "\n",
    "Find the sum of four numbers '''\n",
    "\n",
    "import math\n",
    "m = 1.23\n",
    "b = 0.045\n",
    "\n",
    "x1,x2,x3,x4 = (map(float,input().split()))\n",
    "res1 = (x1+x2)**2\n",
    "res2 = (x3+x4)**3\n",
    "mean = (x1+x2+x3+x4)/4\n",
    "variance = ((x1-mean)**2 + (x2-mean)**2 + (x3-mean)**2 + (x4 - mean)**2)/4\n",
    "stan_variance = math.sqrt(variance)\n",
    "sum = x1+x2+x3+x4\n",
    "y = m * sum + b\n",
    "avg = mean\n",
    "\n",
    "print(res1)\n",
    "print(res2)\n",
    "print(variance)\n",
    "print(stan_variance)\n",
    "print(y)\n",
    "print(avg)\n",
    "print(sum)"
   ]
  },
  {
   "cell_type": "code",
   "execution_count": null,
   "metadata": {
    "colab": {
     "base_uri": "https://localhost:8080/"
    },
    "id": "u5aZh_HOLkrb",
    "outputId": "1871a6f4-2a88-4393-d5fd-67026a2489b4"
   },
   "outputs": [
    {
     "name": "stdout",
     "output_type": "stream",
     "text": [
      "2\n",
      "2.0 KM is equal to 2000.0 M\n",
      "2.0 KM is equal to 2000000.0 MM\n",
      "2.0 KM is equal to 200000.0 CM\n",
      "2.0 KM is equal to 78740.2 Cents\n",
      "2.0 KM is equal to 6561.68 Feets\n",
      "2.0 KM is equal to 2187.22 Yards\n"
     ]
    }
   ],
   "source": [
    "'''Take the distance in km\n",
    "\n",
    "    \tShow that in cm, meters, in milli meters, cents, feets, yards '''\n",
    "kilometer = float(input())\n",
    "meter = kilometer*1000\n",
    "mill_meter = meter * 1000\n",
    "centi_meter = meter * 100\n",
    "cents =kilometer * 39370.1\n",
    "feets = kilometer * 3280.84\n",
    "yards = kilometer * 1093.61\n",
    "\n",
    "print(\"{} KM is equal to {} M\".format(kilometer,meter))\n",
    "print(\"{} KM is equal to {} MM\".format(kilometer,mill_meter))\n",
    "print(\"{} KM is equal to {} CM\".format(kilometer,centi_meter))\n",
    "print(\"{} KM is equal to {} Cents\".format(kilometer,cents))\n",
    "print(\"{} KM is equal to {} Feets\".format(kilometer,feets))\n",
    "print(\"{} KM is equal to {} Yards\".format(kilometer,yards))"
   ]
  },
  {
   "cell_type": "code",
   "execution_count": null,
   "metadata": {
    "colab": {
     "base_uri": "https://localhost:8080/"
    },
    "id": "6_kX0q3oWwZz",
    "outputId": "b956c320-1db9-4188-84ec-0f92d87553ff"
   },
   "outputs": [
    {
     "name": "stdout",
     "output_type": "stream",
     "text": [
      "2\n",
      "2.0 GB size is 2000.0 MB \n",
      "2.0 GB size is 200000.0 KB \n",
      "2.0 GB size is 0.002 TB \n",
      "2.0 GB size is 2e-06 PB \n"
     ]
    }
   ],
   "source": [
    "# 6.Take the size of your hard disk in GB Show that in MB, KB, TB, PB\n",
    "\n",
    "hdgb = float(input())\n",
    "print(\"{} GB size is {} MB \".format(hdgb,hdgb*1000))\n",
    "print(\"{} GB size is {} KB \".format(hdgb,hdgb*100000))\n",
    "print(\"{} GB size is {} TB \".format(hdgb,hdgb/1000))\n",
    "print(\"{} GB size is {} PB \".format(hdgb,hdgb/1000000))\n",
    "\n"
   ]
  },
  {
   "cell_type": "code",
   "execution_count": null,
   "metadata": {
    "colab": {
     "base_uri": "https://localhost:8080/"
    },
    "id": "88KpZbGKZKre",
    "outputId": "7a7bb03c-9aab-4b6d-ee6b-06778e4d7c05"
   },
   "outputs": [
    {
     "name": "stdout",
     "output_type": "stream",
     "text": [
      "aleem\n",
      "23\n",
      "6.0\n",
      "Name:aleem, age:23, height:6.0\n"
     ]
    }
   ],
   "source": [
    "'''Take name, age, height from the user and print like below\n",
    "\n",
    "The details of the person: Name:name of the person, Age:age of the person, Height:height of the person\n",
    "\n",
    "Note: make sure that no space between : and a value and should be space after “COMA” '''\n",
    "\n",
    "name = input()\n",
    "age = input()\n",
    "height = input()\n",
    "print(\"Name:{}, age:{}, height:{}\".format(name,age,height))"
   ]
  },
  {
   "cell_type": "code",
   "execution_count": null,
   "metadata": {
    "colab": {
     "base_uri": "https://localhost:8080/"
    },
    "id": "2pkcDqsVa1C_",
    "outputId": "5e0a8203-31d3-41a8-8803-9dd548c89d94"
   },
   "outputs": [
    {
     "name": "stdout",
     "output_type": "stream",
     "text": [
      "Enter in KG 65\n",
      "Enter in height 1.8288\n",
      "19.434838252392556\n"
     ]
    }
   ],
   "source": [
    "#8. BMI calculation: take required parameters for BMI calculation from the user and calculate BMI of the person.\n",
    "weight = int(input(\"Enter your weight in KG \"))\n",
    "height = float(input(\"Enter your height in meters \"))\n",
    "BMI = weight / height **2\n",
    "print(BMI)"
   ]
  },
  {
   "cell_type": "code",
   "execution_count": null,
   "metadata": {
    "colab": {
     "base_uri": "https://localhost:8080/"
    },
    "id": "qV8lQmnWc6Gh",
    "outputId": "fcd37c53-ac31-44fa-afdc-165957f33cf3"
   },
   "outputs": [
    {
     "name": "stdout",
     "output_type": "stream",
     "text": [
      "Name:Jayaram, Age:1.600000, Height:3.535623, Weight:10.343857\n"
     ]
    }
   ],
   "source": [
    "'''9. name=\"Jayaram\"\n",
    "\n",
    "age=1.6\n",
    "\n",
    "height=3.5356234\n",
    "\n",
    "weight=10.343856783\n",
    "\n",
    "By using above inputs print the output\n",
    "\n",
    "Name:Jayaram, Age:1.6, Height:3.54, Weight:10.344\n",
    "\n",
    "Note: Use format specifiers(%s, %d, %f) '''\n",
    "name=\"Jayaram\"\n",
    "age=1.6\n",
    "height=3.5356234\n",
    "weight=10.343856783\n",
    "print(\"Name:%s, Age:%f, Height:%f, Weight:%f\"%(name,age,height,weight))"
   ]
  },
  {
   "cell_type": "code",
   "execution_count": null,
   "metadata": {
    "colab": {
     "base_uri": "https://localhost:8080/"
    },
    "id": "lFLVd3-ueggE",
    "outputId": "6ce4b379-e524-48a5-e5ba-fe5f2600ee11"
   },
   "outputs": [
    {
     "name": "stdout",
     "output_type": "stream",
     "text": [
      "ASD\n",
      "asd\n"
     ]
    }
   ],
   "source": [
    "#10. Take three upper case letters from the user convert in to small case.\n",
    "user = input()\n",
    "small_case = user.lower()\n",
    "print(small_case)"
   ]
  },
  {
   "cell_type": "code",
   "execution_count": null,
   "metadata": {
    "colab": {
     "base_uri": "https://localhost:8080/"
    },
    "id": "KpF5kkGIegmE",
    "outputId": "47d739df-8ad1-425c-fc1f-4ff49aad1ee2"
   },
   "outputs": [
    {
     "name": "stdout",
     "output_type": "stream",
     "text": [
      "2 \n",
      "3\n",
      "2^3 is 8\n"
     ]
    }
   ],
   "source": [
    "'''11. take base and exponent value from the user and print like in mathematics:\n",
    "\n",
    "  example: base=2, exponent=3: 23 '''\n",
    "base = int(input())\n",
    "exponent = int(input())\n",
    "res = base**exponent\n",
    "\n",
    "print(f'{base}^{exponent} is {res}')\n"
   ]
  },
  {
   "cell_type": "code",
   "execution_count": 3,
   "metadata": {
    "colab": {
     "base_uri": "https://localhost:8080/"
    },
    "id": "jT4_Ismwl8Gs",
    "outputId": "c1ba268f-2500-463d-d243-539223becb76"
   },
   "outputs": [
    {
     "name": "stdout",
     "output_type": "stream",
     "text": [
      "10\n",
      "2.5\n",
      "4\n",
      "1\n"
     ]
    }
   ],
   "source": [
    "'''12. Take some groceries cost prices and print total cost and average cost, what is the max cost, what is the minimum cost. '''\n",
    "prices = [1,2,3,4]\n",
    "max = prices[0]\n",
    "min = prices[0]\n",
    "total_cost = 0\n",
    "for i in prices:\n",
    "    if i > max:\n",
    "        max = i\n",
    "    if i < min:\n",
    "        min = i\n",
    "    total_cost += i\n",
    "average = total_cost/len(prices)\n",
    "print(total_cost)\n",
    "print(average)\n",
    "print(max)\n",
    "print(min)\n",
    "\n",
    "\n"
   ]
  },
  {
   "cell_type": "code",
   "execution_count": 6,
   "metadata": {
    "colab": {
     "base_uri": "https://localhost:8080/"
    },
    "id": "Y-N3LGNK-uAI",
    "outputId": "3470d228-7cd0-49a8-a903-a9a4ce2ff639"
   },
   "outputs": [
    {
     "name": "stdout",
     "output_type": "stream",
     "text": [
      "enter value 0\n",
      "10\n"
     ]
    }
   ],
   "source": [
    "'''Variable Assignments:\n",
    "\n",
    "13. Assign “ten” value to variable it is 10 otherwise assign “Not ten”\n",
    "Note: write two versions of program\n",
    "Version1: use and operator\n",
    "Version2: use or operator  '''\n",
    "\n",
    "var = int(input('enter value '))\n",
    "if var == 0:\n",
    "    print(var or 10)\n",
    "else:\n",
    "    print(\"Not ten\")"
   ]
  },
  {
   "cell_type": "code",
   "execution_count": 8,
   "metadata": {
    "colab": {
     "base_uri": "https://localhost:8080/"
    },
    "id": "7tgvqq08A3Nr",
    "outputId": "56dc4560-f22c-4060-a0e7-39dd834b47bf"
   },
   "outputs": [
    {
     "name": "stdout",
     "output_type": "stream",
     "text": [
      "enter value 4\n",
      "Not ten\n"
     ]
    }
   ],
   "source": [
    "var = int(input('enter value '))\n",
    "if var == 0:\n",
    "    print(var and 10)\n",
    "else:\n",
    "    print(\"Not ten\")"
   ]
  },
  {
   "cell_type": "code",
   "execution_count": 12,
   "metadata": {
    "colab": {
     "base_uri": "https://localhost:8080/"
    },
    "id": "KXdwXY1Tn52y",
    "outputId": "e11e23b9-8050-410f-86f7-b621196257f9"
   },
   "outputs": [
    {
     "name": "stdout",
     "output_type": "stream",
     "text": [
      "3\n",
      "100\n",
      "30\n",
      "4\n",
      "Suffient\n"
     ]
    }
   ],
   "source": [
    "'''13. Take the input from the user for(Total number of people, total number of buses, Number of seats for bus, adjust factor). Based on four inputs\n",
    "Decide whether there is sufficient buses or not and give solution for how many extra buses required. '''\n",
    "no_of_bus = int(input())\n",
    "no_of_people = int(input())\n",
    "no_of_seats_in_ech_bus = int(input())\n",
    "adjust_factor = int(input())\n",
    "if (no_of_seats_in_ech_bus * no_of_bus) + (adjust_factor * no_of_bus) >= no_of_people:\n",
    "    print(\"Suffient\")\n",
    "else:\n",
    "    print(\"Not Suffient\")"
   ]
  },
  {
   "cell_type": "code",
   "execution_count": 14,
   "metadata": {
    "colab": {
     "base_uri": "https://localhost:8080/"
    },
    "id": "u7_X2pQDDwUu",
    "outputId": "ad3ba14c-d0ea-4cc8-b426-90ef8eaad8f3"
   },
   "outputs": [
    {
     "name": "stdout",
     "output_type": "stream",
     "text": [
      "24\n",
      "Even Number\n"
     ]
    }
   ],
   "source": [
    "#14.Take number from the user decide whether it is even or odd. 4\n",
    "num = int(input())\n",
    "if num%2 == 0:\n",
    "    print(\"Even Number\")\n",
    "else:\n",
    "    print(\"Odd Number\")"
   ]
  },
  {
   "cell_type": "code",
   "execution_count": 18,
   "metadata": {
    "colab": {
     "base_uri": "https://localhost:8080/"
    },
    "id": "NANhHaEaEXpI",
    "outputId": "a949166e-9702-4bf5-da1d-e48c08a258e2"
   },
   "outputs": [
    {
     "name": "stdout",
     "output_type": "stream",
     "text": [
      "0\n",
      "neither positve nor negative\n"
     ]
    }
   ],
   "source": [
    "#15.take number from the user decide whether it is positive number or negative number\n",
    "num = int(input())\n",
    "if num < 0:\n",
    "    print(\"Negative Number\")\n",
    "elif num >0:\n",
    "    print(\"Positive Number\")\n",
    "else:\n",
    "    print(\"neither positve nor negative\")"
   ]
  },
  {
   "cell_type": "code",
   "execution_count": 19,
   "metadata": {
    "colab": {
     "base_uri": "https://localhost:8080/"
    },
    "id": "Ftn8mU0FFkee",
    "outputId": "be531ae4-d1a6-45ec-941e-ebc713b2a340"
   },
   "outputs": [
    {
     "name": "stdout",
     "output_type": "stream",
     "text": [
      "wether\n",
      "6\n"
     ]
    }
   ],
   "source": [
    "#16.take a string from the user print the length. if the user not given anything then show an error message\n",
    "str1 = input()\n",
    "len = len(str1)\n",
    "if len > 0:\n",
    "    print(len)\n",
    "else:\n",
    "    print(\"Give valid input\")\n",
    "\n"
   ]
  },
  {
   "cell_type": "code",
   "execution_count": 26,
   "metadata": {
    "colab": {
     "base_uri": "https://localhost:8080/"
    },
    "id": "nyfsMhVgHA7y",
    "outputId": "de64ea8b-3d21-4f75-e9e5-68c60ba57577"
   },
   "outputs": [
    {
     "name": "stdout",
     "output_type": "stream",
     "text": [
      "give a value9\n",
      "give a value9\n",
      "Enter mathematical operationdiv\n",
      "1.0\n"
     ]
    }
   ],
   "source": [
    "#17.code to perform mathematical operations. take two numbers from the user and show the below menu\n",
    "A = int(input('give a value' ))\n",
    "B = int(input('give a value '))\n",
    "option = input('Enter mathematical operation ')\n",
    "if option == \"add\":\n",
    "    print(A+B)\n",
    "elif option == \"sub\":\n",
    "    print(A-B)\n",
    "elif option == \"mul\":\n",
    "    print(A*B)\n",
    "elif option == \"div\":\n",
    "    print(A/B)\n",
    "elif option == 'quit':\n",
    "    print('Thank you')"
   ]
  },
  {
   "cell_type": "code",
   "execution_count": 28,
   "metadata": {
    "colab": {
     "base_uri": "https://localhost:8080/"
    },
    "id": "ZycFcdd2KU28",
    "outputId": "7f2de65b-0c8b-4a92-8cc8-89442942ac1f"
   },
   "outputs": [
    {
     "name": "stdout",
     "output_type": "stream",
     "text": [
      "2\n",
      "you are a gentlemen\n"
     ]
    }
   ],
   "source": [
    "  '''8. show the menu:\n",
    "1. kids\n",
    "2. Men's\n",
    "3. Women's\n",
    "Show the corresponding message based on the selection.\n",
    "option:1: you are a kid 2: you are a gentlemen 3: you are a good women Mention error message if the option value >3. '''\n",
    "option = int(input())\n",
    "if option == 1 :\n",
    "    print('you are a kid')\n",
    "elif option ==2:\n",
    "    print('you are a gentlemen')\n",
    "elif option == 3:\n",
    "    print('you are a women')\n",
    "else:\n",
    "    print(\"Give valid option\")\n"
   ]
  },
  {
   "cell_type": "code",
   "execution_count": 29,
   "metadata": {
    "colab": {
     "base_uri": "https://localhost:8080/"
    },
    "id": "1SfNl7SAL07v",
    "outputId": "bdcdb5d0-eef0-448c-e286-9b951aafacd8"
   },
   "outputs": [
    {
     "name": "stdout",
     "output_type": "stream",
     "text": [
      "Pure is substring of act\n"
     ]
    }
   ],
   "source": [
    "  '''19. write a program to chcek given substring is there in actual string or not? example: act=\"python is a pure object oriented programing language\"\n",
    "check whether “pure” is there in act or not.Note: Use in operator '''\n",
    "act=\"python is a pure object oriented programing language\"\n",
    "if \"pure\" in act :\n",
    "    print(\"Pure is substring of act\")\n",
    "else:\n",
    "    print(\"pure is not a substring of act\")\n",
    "\n"
   ]
  },
  {
   "cell_type": "code",
   "execution_count": 32,
   "metadata": {
    "colab": {
     "base_uri": "https://localhost:8080/"
    },
    "id": "drowna0ENnMW",
    "outputId": "ce407d66-d453-46fa-f854-ba7060ba6998"
   },
   "outputs": [
    {
     "name": "stdout",
     "output_type": "stream",
     "text": [
      "enter space seperated values90 98 20000\n",
      "20000\n"
     ]
    }
   ],
   "source": [
    "#20. Take three numbers from the user and decide which is big\n",
    "v1,v2,v3 = map(int,input('enter space seperated values').split())\n",
    "biggest = 0\n",
    "if v1 > v2 and v1 > v3 :\n",
    "    biggest = v1\n",
    "elif v2 > v1 and v2 > v3:\n",
    "    biggest =v2\n",
    "else:\n",
    "    biggest = v3\n",
    "pr  int(biggest)"
   ]
  },
  {
   "cell_type": "code",
   "execution_count": 34,
   "metadata": {
    "colab": {
     "base_uri": "https://localhost:8080/"
    },
    "id": "u_r7Xj_cP6vr",
    "outputId": "5de4c5e7-25bf-4fb5-911e-5f0f2c6ed1a7"
   },
   "outputs": [
    {
     "name": "stdout",
     "output_type": "stream",
     "text": [
      "enter gendermale\n",
      "enter age21\n",
      "not eligible\n"
     ]
    }
   ],
   "source": [
    "'''21. Take age and gender from the user and decide whether he is eligible for \tmarriage in India or not.\n",
    "Age criteria: men age>24, women>21 '''\n",
    "gender = input('enter gender ')\n",
    "age = int(input('enter age '))\n",
    "if gender == \"male\":\n",
    "    if age > 24 :\n",
    "        print('eligible for marriage in India')\n",
    "    else :\n",
    "        print('not eligible for marriage in India')\n",
    "elif gender == 'female':\n",
    "    if age > 21:\n",
    "        print('eligible for marriage in India')\n",
    "    else:\n",
    "        print('not eligible for marriage in India')\n",
    "\n",
    "\n"
   ]
  },
  {
   "cell_type": "code",
   "execution_count": 8,
   "metadata": {
    "colab": {
     "base_uri": "https://localhost:8080/"
    },
    "id": "ZMeBoDt5RUL3",
    "outputId": "527b5e9b-e362-42d5-b451-769212efd0e4"
   },
   "outputs": [
    {
     "name": "stdout",
     "output_type": "stream",
     "text": [
      "Gender\n",
      "1.Men \n",
      "2.women\n",
      "Enter an option2\n",
      "Enter an age23\n",
      "eligible for theatre in India \n",
      "eligible for voting in India \n",
      "eligible for marriage in India \n",
      "eligible for government job in India \n",
      "eligible for driving licence in India \n"
     ]
    }
   ],
   "source": [
    "'''22. Take an age  and gender from the user: and mention that what he/she can \tdo in india.\n",
    "\n",
    "conditions\n",
    "\n",
    "1. Theatre: 5 for men 7 for women\n",
    "\n",
    "    \t2. Voting system: 18 for men and women\n",
    "    3. Marriage in india: 23 for men and for women >21\n",
    "\n",
    "    \t4. For govt jobs: (min:18, max:32)  for men and (min:18, max:34) for \twomen\n",
    "\n",
    "   \t 5. For driving licence: (min:18, max:60) for men and women\n",
    "\n",
    "Eligibility:\n",
    "1. theatre\n",
    "\n",
    "2.  Voting system\n",
    "\n",
    "3.  Marriage in india\n",
    "\n",
    "4.  For govt obs\n",
    "\n",
    "5. For driving licence:\n",
    "\n",
    "Enter an option:\n",
    "\n",
    "Gender:\n",
    "\n",
    "1. men\n",
    "\n",
    "2. women\n",
    "\n",
    "Enter an option:\n",
    "Enter an age of person: '''\n",
    "\n",
    "print(\"Gender\\n1.Men \\n2.women\")\n",
    "gender = input(\"Enter an option \")\n",
    "age = int(input('Enter an age '))\n",
    "if gender == \"1\":\n",
    "    if age >= 5:\n",
    "        print(\"eligible for theatre in India \")\n",
    "    else:\n",
    "        print(\"not eligible for theatre in India\")\n",
    "    if age >=18 :\n",
    "        print(\"eligible for voting in India \")\n",
    "    else:\n",
    "        print(\"not eligible for voting in India\")\n",
    "    if age >= 23:\n",
    "        print(\"eligible for marriage in India \")\n",
    "    else:\n",
    "        print(\"not eligible for marriage in India\")\n",
    "    if 18 <= age <= 32 :\n",
    "        print(\"eligible for government job in India \")\n",
    "    else:\n",
    "        print(\"not eligible for government job in India\")\n",
    "    if 18 <= age <= 60:\n",
    "        print(\"eligible for driving licence in India \")\n",
    "    else:\n",
    "        print(\"not eligible for driving licence in India\")\n",
    "elif gender == \"2\":\n",
    "    if age >= 7:\n",
    "        print(\"eligible for theatre in India \")\n",
    "    else:\n",
    "        print(\"not eligible for theatre in India\")\n",
    "    if age >=18 :\n",
    "        print(\"eligible for voting in India \")\n",
    "    else:\n",
    "        print(\"not eligible for voting in India\")\n",
    "    if age >= 21:\n",
    "        print(\"eligible for marriage in India \")\n",
    "    else:\n",
    "        print(\"not eligible for marriage in India\")\n",
    "    if 18 <= age <= 34 :\n",
    "        print(\"eligible for government job in India \")\n",
    "    else:\n",
    "        print(\"not eligible for government job in India\")\n",
    "    if 18 <= age <= 60:\n",
    "        print(\"eligible for driving licence in India \")\n",
    "    else:\n",
    "        print(\"not eligible for driving licence in India\")"
   ]
  },
  {
   "cell_type": "markdown",
   "metadata": {},
   "source": [
    "# 23. operating systems: \n",
    "\n",
    "1.windows \n",
    "\n",
    "2.android \n",
    "\n",
    "3.mac \n",
    "\n",
    "Enter an option: \n",
    "\n",
    " \n",
    "\n",
    "If the user enters 1 then show \"Goto first floor and buy windows laptop or mobile\" \n",
    "\n",
    "If the user enters 2 then show \"Goto second floor and buy adroid mobiles\" \n",
    "\n",
    "If the user enters 3 then show \"Goto third floor and buy mac laptop or iphones\" \n",
    "\n",
    "If the user enters other than 1 or 2 or 3 then show \"There is only three floors, please select 1 or 2 or 3\" "
   ]
  },
  {
   "cell_type": "code",
   "execution_count": 12,
   "metadata": {},
   "outputs": [
    {
     "name": "stdout",
     "output_type": "stream",
     "text": [
      "1.windows \n",
      "2.android \n",
      "3.mac\n",
      "Enter an option 2\n",
      "Go to second floor and buy adroid mobiles\n"
     ]
    }
   ],
   "source": [
    "print('1.windows \\n2.android \\n3.mac')\n",
    "selected_opt = input('Enter an option ')\n",
    "if selected_opt == \"1\":\n",
    "    print(\"Go to first floor and buy windows laptop or mobile\" )\n",
    "elif selected_opt == \"2\":\n",
    "    print(\"Go to second floor and buy adroid mobiles\")\n",
    "elif selected_opt == \"3\":\n",
    "    print(\"Go to third floor and buy mac laptop or iphones\")\n",
    "else:\n",
    "    print(\"There is only three floors, please select 1 or 2 or 3\")"
   ]
  },
  {
   "cell_type": "markdown",
   "metadata": {},
   "source": [
    "# 24.Given an age, figure out whether someone's a baby, toddler, child, teenager, adult or old codger. "
   ]
  },
  {
   "cell_type": "code",
   "execution_count": 15,
   "metadata": {},
   "outputs": [
    {
     "name": "stdout",
     "output_type": "stream",
     "text": [
      "7\n",
      "child\n"
     ]
    }
   ],
   "source": [
    "age = int(input())\n",
    "if 0 <= age <= 2:\n",
    "    print(\"baby\")\n",
    "elif 2<= age <=5 :\n",
    "    print(\"toddler\")\n",
    "elif 6<= age <=10 :\n",
    "    print(\"child\")\n",
    "elif 13<= age <=19 :\n",
    "    print(\"teenager\")\n",
    "elif 20<= age <=64 :\n",
    "    print(\"adult\")\n",
    "elif age > 64 :\n",
    "    print(\"old codger\")\n"
   ]
  },
  {
   "cell_type": "markdown",
   "metadata": {},
   "source": [
    "# 25.Take two number a,b from the user and check whether a is divisible by b or not "
   ]
  },
  {
   "cell_type": "code",
   "execution_count": 17,
   "metadata": {},
   "outputs": [
    {
     "name": "stdout",
     "output_type": "stream",
     "text": [
      "2\n",
      "8\n",
      "a is not divisble by b\n"
     ]
    }
   ],
   "source": [
    "a = int(input())\n",
    "b =int(input())\n",
    "if a % b == 0:\n",
    "    print(\"a is divisble by b\")\n",
    "else:\n",
    "    print(\"a is not divisble by b\")"
   ]
  },
  {
   "cell_type": "markdown",
   "metadata": {},
   "source": [
    "# Take a letter from the user and print that letter belongs to which category I.e is it a small letter or capital letter or number or special symbol "
   ]
  },
  {
   "cell_type": "code",
   "execution_count": 34,
   "metadata": {},
   "outputs": [
    {
     "name": "stdout",
     "output_type": "stream",
     "text": [
      "{\n",
      "special symbol\n"
     ]
    }
   ],
   "source": [
    "letter = input()\n",
    "if 65 <= ord(letter) <= 96:\n",
    "    print(\"capital letter\")\n",
    "elif  97 <= ord(letter) <=122:\n",
    "    print(\"small letter\")\n",
    "elif 48 <= ord(letter) <= 57:\n",
    "    print(\"numbers\")\n",
    "else:\n",
    "    print(\"special symbol\")\n"
   ]
  },
  {
   "cell_type": "markdown",
   "metadata": {},
   "source": [
    "## 25. take a number from the user and check whether it is prime? "
   ]
  },
  {
   "cell_type": "code",
   "execution_count": 53,
   "metadata": {},
   "outputs": [
    {
     "name": "stdout",
     "output_type": "stream",
     "text": [
      "37\n",
      "prime number\n"
     ]
    }
   ],
   "source": [
    "num = int(input())\n",
    "if num >= 2:\n",
    "    prime = True\n",
    "    for i in range(2,num):\n",
    "        if num % 2 ==0:\n",
    "            prime = False\n",
    "else:\n",
    "    print(\"not a prime number\")\n",
    "if prime:\n",
    "    print(\"prime number\")\n",
    "else:\n",
    "    print(\"not a prime number\")"
   ]
  },
  {
   "cell_type": "markdown",
   "metadata": {},
   "source": [
    "# 26. take a string from the user and check contains only digits or not? "
   ]
  },
  {
   "cell_type": "code",
   "execution_count": 3,
   "metadata": {},
   "outputs": [
    {
     "name": "stdout",
     "output_type": "stream",
     "text": [
      "1234\n",
      "contains only digits\n"
     ]
    }
   ],
   "source": [
    "string = input()\n",
    "\n",
    "count = 0\n",
    "for i in string:\n",
    "    if i.isdigit():\n",
    "        count += 1\n",
    "if count == len(string):\n",
    "    print(\"contains only digits\")\n",
    "else:\n",
    "    print(\"not contains only digits\")"
   ]
  },
  {
   "cell_type": "markdown",
   "metadata": {},
   "source": [
    "# 27. take a string from the user and check contains only  alphabets or not? "
   ]
  },
  {
   "cell_type": "code",
   "execution_count": 37,
   "metadata": {},
   "outputs": [
    {
     "name": "stdout",
     "output_type": "stream",
     "text": [
      "zxcvyAZza\n",
      "contains only alphabets\n"
     ]
    }
   ],
   "source": [
    "\n",
    "string = input()\n",
    "\n",
    "count = 0\n",
    "for i in string:\n",
    "    if 65 <= ord(i)<=90 or  97<=ord(i) <= 122 :\n",
    "        count += 1\n",
    "if count == len(string):\n",
    "    print(\"contains only alphabets\")\n",
    "else:\n",
    "    print(\"not contains only alphabets\")"
   ]
  },
  {
   "cell_type": "code",
   "execution_count": 9,
   "metadata": {},
   "outputs": [],
   "source": [
    "# Multithreading\n"
   ]
  },
  {
   "cell_type": "code",
   "execution_count": 30,
   "metadata": {},
   "outputs": [
    {
     "name": "stdout",
     "output_type": "stream",
     "text": [
      "0.003009796142578125\n",
      "main done\n"
     ]
    }
   ],
   "source": [
    "import threading\n",
    "import time\n",
    "\n",
    "def fun1():\n",
    "    print(\"fun1 processing\")\n",
    "    time.sleep(3)\n",
    "    print(\"fun1 done\")\n",
    "def fun2():\n",
    "    print(\"fun2 is processing\")\n",
    "    time.sleep(3)\n",
    "    print(\"fun2 done\")\n",
    "\n",
    "t1 = time.time()\n",
    "th1 = threading.Thread(target=fun1, name = \"thread1\")\n",
    "th2  = threading.Thread(target=fun2, name = \"thread2\")\n",
    "print(time.time()-t1)\n",
    "print(\"main done\")\n",
    "    "
   ]
  },
  {
   "cell_type": "markdown",
   "metadata": {},
   "source": [
    "# 28. take a string from the user and check contains only  special chars or not? "
   ]
  },
  {
   "cell_type": "code",
   "execution_count": 40,
   "metadata": {},
   "outputs": [
    {
     "name": "stdout",
     "output_type": "stream",
     "text": [
      "!@#~][;'\n",
      "contains only special characters\n"
     ]
    }
   ],
   "source": [
    "string = input()\n",
    "\n",
    "count = 0\n",
    "for i in string:\n",
    "    if (58 <= ord(i) <= 64) or  (91<=ord(i) <= 96) or (123 <= ord(i) <= 127) or (33 <= ord(i) <= 48):\n",
    "        count += 1\n",
    "if count == len(string):\n",
    "    print(\"contains only special characters\")\n",
    "else:\n",
    "    print(\"not contains only special characters\")"
   ]
  },
  {
   "cell_type": "markdown",
   "metadata": {},
   "source": [
    "#29.take a string from the user and check contains only  capital letters or not?  "
   ]
  },
  {
   "cell_type": "code",
   "execution_count": 49,
   "metadata": {},
   "outputs": [
    {
     "name": "stdout",
     "output_type": "stream",
     "text": [
      "ASERTYUIUJI\n",
      "contains only capital letters\n"
     ]
    }
   ],
   "source": [
    "string = input()\n",
    "count=0\n",
    "for i in string:\n",
    "    if i.upper() == i:\n",
    "        count += 1\n",
    "if count == len(string):\n",
    "    print(\"contains only capital letters\")\n",
    "else:\n",
    "    print(\"not contains only capital letters\")"
   ]
  },
  {
   "cell_type": "markdown",
   "metadata": {},
   "source": [
    "#30.take a string from the user and check contains only  small letters or not? "
   ]
  },
  {
   "cell_type": "code",
   "execution_count": 50,
   "metadata": {},
   "outputs": [
    {
     "name": "stdout",
     "output_type": "stream",
     "text": [
      "qwerty\n",
      "contains only small letters\n"
     ]
    }
   ],
   "source": [
    "string = input()\n",
    "count=0\n",
    "for i in string:\n",
    "    if i.lower() == i:\n",
    "        count += 1\n",
    "if count == len(string):\n",
    "    print(\"contains only small letters\")\n",
    "else:\n",
    "    print(\"not contains only small letters\")"
   ]
  },
  {
   "cell_type": "markdown",
   "metadata": {},
   "source": [
    "#31. WAP to replace last n occurrence of give string.\n",
    "For example:”apple,orange,apple,grape,orange,apple,apple,orange” \n",
    "\n",
    "source: “apple” \n",
    "\n",
    "last occurrences: 2 \n",
    "\n",
    "replace with: APPLE \n",
    "\n",
    "output:”apple,orange,apple,grape,orange,APPLE,APPLE,orange” "
   ]
  },
  {
   "cell_type": "code",
   "execution_count": 49,
   "metadata": {},
   "outputs": [
    {
     "name": "stdout",
     "output_type": "stream",
     "text": [
      "['apple', 'orange', 'apple', 'grape', 'orange', 'Apple', 'Apple', 'orange']\n"
     ]
    }
   ],
   "source": [
    "list_a = [\"apple\",\"orange\",\"apple\",\"grape\",\"orange\",\"apple\",\"apple\",\"orange\"]\n",
    "source = \"apple\"\n",
    "last_occurrences = 2\n",
    "replace_with = \"Apple\"\n",
    "rev_list_a = list_a[::-1]\n",
    "count = 0\n",
    "for j in rev_list_a:\n",
    "    if j == source:\n",
    "        while count<2:\n",
    "            index = rev_list_a.index(j)\n",
    "            rev_list_a[index] = replace_with  \n",
    "            count +=1\n",
    "print(rev_list_a[::-1])"
   ]
  },
  {
   "cell_type": "markdown",
   "metadata": {},
   "source": [
    "#32. WAP to check given string contains numbers or not. it should consider float numbers also. "
   ]
  },
  {
   "cell_type": "code",
   "execution_count": 16,
   "metadata": {},
   "outputs": [
    {
     "name": "stdout",
     "output_type": "stream",
     "text": [
      "0.90.9\n",
      "string contains number\n"
     ]
    }
   ],
   "source": [
    "str1 = input()\n",
    "digit = 0\n",
    "for i in str1:\n",
    "    if i.isdigit() or str1.count(\".\") > 0:\n",
    "        digit += 1\n",
    "if digit>0:\n",
    "    print(\"string contains number\")\n",
    "else:\n",
    "    print(\"string does not contains number\")\n",
    "\n",
    "    \n"
   ]
  },
  {
   "cell_type": "markdown",
   "metadata": {},
   "source": [
    "#33. Convert the total string in to lower case. Without using lower() function."
   ]
  },
  {
   "cell_type": "code",
   "execution_count": 33,
   "metadata": {},
   "outputs": [
    {
     "name": "stdout",
     "output_type": "stream",
     "text": [
      "QWERTYUsdfgh\n",
      "qwertyusdfgh\n"
     ]
    }
   ],
   "source": [
    "str1 = input()\n",
    "new_str= \"\"\n",
    "for i in str1:\n",
    "    if 97 <= ord(i) <= 122:\n",
    "        new_str += i\n",
    "    else :\n",
    "        new_str += chr((ord(i))+32)\n",
    "print(new_str)"
   ]
  },
  {
   "cell_type": "markdown",
   "metadata": {},
   "source": [
    "#34. Convert the total string in to upper case. Without using upper() function. "
   ]
  },
  {
   "cell_type": "code",
   "execution_count": 35,
   "metadata": {},
   "outputs": [
    {
     "name": "stdout",
     "output_type": "stream",
     "text": [
      "AAaZz\n",
      "AAAZZ\n"
     ]
    }
   ],
   "source": [
    "str1 = input()\n",
    "new_str= \"\"\n",
    "for i in str1:\n",
    "    if 65 <= ord(i) <= 90:\n",
    "        new_str += i\n",
    "    else :\n",
    "        new_str += chr((ord(i))-32)\n",
    "print(new_str)"
   ]
  },
  {
   "cell_type": "markdown",
   "metadata": {},
   "source": [
    "##35. Show the below menu to the user until and until user select quit and display corresponding os message \n",
    "\n",
    "\n",
    "Menu: \n",
    "\n",
    "1. windows \n",
    "\n",
    "2. Linux \n",
    "\n",
    "3. Mac \n",
    "\n",
    "4. quit \n",
    "\n",
    "''' "
   ]
  },
  {
   "cell_type": "code",
   "execution_count": null,
   "metadata": {},
   "outputs": [],
   "source": [
    "def menu():\n",
    "    print(\"Menu:\\n 1.windows\\n 2.Linux\\n 3.mac\\n 4.quit\")\n",
    "    opt = option()\n",
    "    \n",
    "menu()\n",
    "def option():\n",
    "    option = input(\"select an option \")\n",
    "    return option\n",
    "def input():\n",
    "    \n",
    "if opt == \"4\":\n",
    "    print(\"thank you\")\n",
    "elif opt in [\"1\",\"2\",\"3\"]:\n",
    "    menu()\n",
    "    opt = option()\n"
   ]
  },
  {
   "cell_type": "code",
   "execution_count": 2,
   "metadata": {},
   "outputs": [],
   "source": [
    "\n"
   ]
  },
  {
   "cell_type": "markdown",
   "metadata": {},
   "source": [
    " "
   ]
  },
  {
   "cell_type": "code",
   "execution_count": 3,
   "metadata": {},
   "outputs": [
    {
     "name": "stdout",
     "output_type": "stream",
     "text": [
      "^%$987^$%6fed54$#,321cba\n"
     ]
    }
   ],
   "source": [
    "str1 =\"abc123,#$45def6%$^789$%^\"\n",
    "reve_str1 = \"\"\n",
    "for i in str1:\n",
    "    reve_str1 = i + reve_str1\n",
    "print(reve_str1)\n"
   ]
  },
  {
   "cell_type": "markdown",
   "metadata": {},
   "source": [
    "63.Input: abc123,#$45def6%$^789$%^, output: 9876fe,#$d54321%$^cba$%^5  "
   ]
  },
  {
   "cell_type": "code",
   "execution_count": 4,
   "metadata": {},
   "outputs": [
    {
     "name": "stdout",
     "output_type": "stream",
     "text": [
      "abc123,#$45def6%$^789$%^\n"
     ]
    }
   ],
   "source": []
  },
  {
   "cell_type": "code",
   "execution_count": 5,
   "metadata": {},
   "outputs": [
    {
     "name": "stdout",
     "output_type": "stream",
     "text": [
      "qwe23'\n",
      "Yes it contains alphabets\n"
     ]
    }
   ],
   "source": [
    "#37  take a string from the user and check contains at least one alphabets or not?\n",
    "userInput = input()\n",
    "iscontains = False\n",
    "for i in userInput:\n",
    "    if i.isalpha():\n",
    "        iscontains = True\n",
    "        break\n",
    "if(iscontains):\n",
    "    print(\"Yes it contains alphabets\")\n",
    "else:\n",
    "    print(\"No it doesn't contain alphabets\")"
   ]
  },
  {
   "cell_type": "code",
   "execution_count": 6,
   "metadata": {},
   "outputs": [
    {
     "name": "stdout",
     "output_type": "stream",
     "text": [
      "qwert87\n",
      "Yes it contains chars\n"
     ]
    }
   ],
   "source": [
    "#38  take a string from the user and check contains at least one chars or not?\n",
    "userInput = input()\n",
    "iscontains = False\n",
    "for i in userInput:\n",
    "    if i.isalpha():\n",
    "        iscontains = True\n",
    "        break\n",
    "if(iscontains):\n",
    "    print(\"Yes it contains chars\")\n",
    "else:\n",
    "    print(\"No it doesn't contain chars\")"
   ]
  },
  {
   "cell_type": "code",
   "execution_count": 8,
   "metadata": {},
   "outputs": [
    {
     "name": "stdout",
     "output_type": "stream",
     "text": [
      "QWERpo9\n",
      "Yes it contains capital\n"
     ]
    }
   ],
   "source": [
    "#39. take a string from the user and check contains at least one capital letter or not?\n",
    "userInput = input()\n",
    "iscontains = False\n",
    "for i in userInput:\n",
    "    if i.isupper():\n",
    "        iscontains = True\n",
    "        break\n",
    "if(iscontains):\n",
    "    print(\"Yes it contains capital\")\n",
    "else:\n",
    "    print(\"No it doesn't contain capital\")"
   ]
  },
  {
   "cell_type": "code",
   "execution_count": 10,
   "metadata": {},
   "outputs": [
    {
     "name": "stdout",
     "output_type": "stream",
     "text": [
      "sfW\n",
      "Yes it contains lower\n"
     ]
    }
   ],
   "source": [
    "#40. take a string from the user and check contains at least one small letter or not?\n",
    "userInput = input()\n",
    "iscontains = False\n",
    "for i in userInput:\n",
    "    if i.islower():\n",
    "        iscontains = True\n",
    "        break\n",
    "if(iscontains):\n",
    "    print(\"Yes it contains lower\")\n",
    "else:\n",
    "    print(\"No it doesn't contain lower\")\n"
   ]
  },
  {
   "cell_type": "code",
   "execution_count": 11,
   "metadata": {},
   "outputs": [
    {
     "name": "stdout",
     "output_type": "stream",
     "text": [
      "Length of the odd num list 100\n",
      "list of all odd nums is\n",
      "[1, 3, 5, 7, 9, 11, 13, 15, 17, 19, 21, 23, 25, 27, 29, 31, 33, 35, 37, 39, 41, 43, 45, 47, 49, 51, 53, 55, 57, 59, 61, 63, 65, 67, 69, 71, 73, 75, 77, 79, 81, 83, 85, 87, 89, 91, 93, 95, 97, 99, 101, 103, 105, 107, 109, 111, 113, 115, 117, 119, 121, 123, 125, 127, 129, 131, 133, 135, 137, 139, 141, 143, 145, 147, 149, 151, 153, 155, 157, 159, 161, 163, 165, 167, 169, 171, 173, 175, 177, 179, 181, 183, 185, 187, 189, 191, 193, 195, 197, 199]\n"
     ]
    }
   ],
   "source": [
    "#41 Print the first 100 odd numbers\n",
    "count = 0\n",
    "num1 = 1\n",
    "list1 = []\n",
    "while True:\n",
    "    if(count == 100):\n",
    "        break\n",
    "    if(num1%2 != 0):\n",
    "        list1.append(num1)\n",
    "        count+=1 \n",
    "    num1+=1\n",
    "print(\"Length of the odd num list \"+ str(len(list1)))\n",
    "print(\"list of all odd nums is\")\n",
    "print(list1)"
   ]
  },
  {
   "cell_type": "code",
   "execution_count": 14,
   "metadata": {},
   "outputs": [
    {
     "name": "stdout",
     "output_type": "stream",
     "text": [
      "55\n",
      "1\n",
      "5\n",
      "11\n"
     ]
    }
   ],
   "source": [
    "#42 Determine the factors of a number entered by the user\n",
    "num =  int(input())\n",
    "\n",
    "for i in range(1,num):\n",
    "    if(num%i ==0):\n",
    "        print(i)"
   ]
  },
  {
   "cell_type": "code",
   "execution_count": 20,
   "metadata": {},
   "outputs": [
    {
     "name": "stdout",
     "output_type": "stream",
     "text": [
      "55\n",
      "Your num is lower\n",
      "68\n",
      "Your num is lower\n",
      "76\n",
      "Your num is lower\n",
      "88\n",
      "Your num is lower\n",
      "99\n",
      "Your num is lower\n",
      "100\n",
      "Yes the secret number is:56\n"
     ]
    }
   ],
   "source": [
    "'''43. Play a number guessing game (User enters a guess, you print YES or Higher or Lower). This should continue until and until user gives a correct number or want to quit in the middle.\n",
    "Get a hidden number by using random.randint(1,100)'''\n",
    "\n",
    "import random\n",
    "random_num = random.randint(1,100) \n",
    "while True:\n",
    "    usernum = int(input())\n",
    "    if(usernum > random_num):\n",
    "        print(\"Your num is higher\")\n",
    "    if(usernum< random_num):\n",
    "        print(\"Your num is lower\")\n",
    "    elif(usernum == random_num):\n",
    "        print(\"Yes the secret number is:\"+str(secret_num))\n",
    "        break"
   ]
  },
  {
   "cell_type": "code",
   "execution_count": 23,
   "metadata": {},
   "outputs": [
    {
     "name": "stdout",
     "output_type": "stream",
     "text": [
      "65\n",
      "1\n",
      "Yes Divisible\n"
     ]
    }
   ],
   "source": [
    "#44. Take two numbers from the user a,b check whether a is divisible by b or not?\n",
    "a = int(input())\n",
    "b = int(input())\n",
    "\n",
    "if(a%b==0):\n",
    "    print(\"Yes Divisible\")\n",
    "else:\n",
    "    print(\"not divisible\")"
   ]
  },
  {
   "cell_type": "code",
   "execution_count": 26,
   "metadata": {},
   "outputs": [
    {
     "name": "stdout",
     "output_type": "stream",
     "text": [
      "233168\n"
     ]
    }
   ],
   "source": [
    "#45. Find the sum of all the multiples of 3 or 5 below 1000\n",
    "sumint = 0\n",
    "for i in range(1,1000):\n",
    "    if(i%3==0 or i%5==0):\n",
    "        \n",
    "        sumint+=i \n",
    "print(sumint)\n"
   ]
  },
  {
   "cell_type": "code",
   "execution_count": 27,
   "metadata": {},
   "outputs": [
    {
     "name": "stdout",
     "output_type": "stream",
     "text": [
      "34\n",
      "45\n",
      "45\n"
     ]
    }
   ],
   "source": [
    "#46. Write a program to find out big of two numbers\n",
    "num1 = int(input())\n",
    "num2 = int(input())\n",
    "if(num1>num2):\n",
    "    print(num1)\n",
    "else:\n",
    "    print(num2)"
   ]
  },
  {
   "cell_type": "code",
   "execution_count": 28,
   "metadata": {},
   "outputs": [
    {
     "name": "stdout",
     "output_type": "stream",
     "text": [
      "1,23,4,5\n",
      "23\n"
     ]
    }
   ],
   "source": [
    "#47. Write a program to find out biggest number in the given numbers.?\n",
    "nums = list(map(int,input().split(\",\")))\n",
    "maxint = nums[0]\n",
    "for i in nums:\n",
    "    if(maxint<i):\n",
    "        maxint = i\n",
    "print(maxint)"
   ]
  },
  {
   "cell_type": "code",
   "execution_count": 31,
   "metadata": {},
   "outputs": [
    {
     "name": "stdout",
     "output_type": "stream",
     "text": [
      "kjuh\n",
      "u\n"
     ]
    }
   ],
   "source": [
    "#48. find out the index of third occurrence of given substring\n",
    "userInput = input()\n",
    "print(userInput[2])\n"
   ]
  },
  {
   "cell_type": "code",
   "execution_count": 32,
   "metadata": {},
   "outputs": [
    {
     "name": "stdout",
     "output_type": "stream",
     "text": [
      "qwerty\n",
      "3\n",
      "r\n"
     ]
    }
   ],
   "source": [
    "#49. find out the index nth occurrence of given substring\n",
    "userInput = input()\n",
    "n = int(input())\n",
    "print(userInput[n])\n"
   ]
  },
  {
   "cell_type": "code",
   "execution_count": 34,
   "metadata": {},
   "outputs": [
    {
     "name": "stdout",
     "output_type": "stream",
     "text": [
      "2344\n",
      "4\n",
      "2\n"
     ]
    }
   ],
   "source": [
    "#50. Take some single digit numbers from the user and findout min, maximum\n",
    "num = input()\n",
    "maxnum = int(num[0])\n",
    "minnum = int(num[0])\n",
    "for i in num:\n",
    "    if(maxnum< int(i)):\n",
    "        maxnum = int(i)\n",
    "    if (minnum > int(i)):\n",
    "        minnum = int(i)\n",
    "print(maxnum)\n",
    "print(minnum)"
   ]
  },
  {
   "cell_type": "code",
   "execution_count": 7,
   "metadata": {},
   "outputs": [
    {
     "name": "stdout",
     "output_type": "stream",
     "text": [
      "23\n",
      "000023\n"
     ]
    }
   ],
   "source": [
    "'''51. print the number in proper mathematical way.\n",
    "Consider that we have 6 digit numbers.\n",
    "\n",
    "Number format WAP> 10 -> 000010\n",
    "\n",
    "           100 ->  000100 \n",
    "\n",
    "          1000 ->  001000 \n",
    "\n",
    "      2345678  ->  2345678 \n",
    "If the number has more than 6 digits then print as it is.'''\n",
    "\n",
    "num = input()\n",
    "l = len(num)\n",
    "if(l >=6 ):\n",
    "    print(num)\n",
    "r = 6-l\n",
    "print(r*\"0\"+ num)"
   ]
  },
  {
   "cell_type": "code",
   "execution_count": 11,
   "metadata": {},
   "outputs": [
    {
     "name": "stdout",
     "output_type": "stream",
     "text": [
      "emp1,emp2,emp3\n",
      "emp1\n",
      "emp2\n",
      "emp3\n"
     ]
    }
   ],
   "source": [
    "#52. names =\"emp1,emp2,emp3,emp4\" iterate through the employee names.\n",
    "\n",
    "Employ_names = input().split(\",\")\n",
    "for i in Employ_names:\n",
    "    print(i)\n"
   ]
  },
  {
   "cell_type": "code",
   "execution_count": 13,
   "metadata": {},
   "outputs": [
    {
     "name": "stdout",
     "output_type": "stream",
     "text": [
      "i love green shirt\n",
      "car\n",
      "shirt\n",
      "i love green car\n"
     ]
    }
   ],
   "source": [
    "#53. Take actual string, source string, destination string. replce first nth occurrences of source string with destination string of actual string.\n",
    "actual_string= input()\n",
    "source_string = input()\n",
    "destination_string = input()\n",
    "\n",
    "str1 = actual_string.replace(destination_string,source_string)\n",
    "print(str1)"
   ]
  },
  {
   "cell_type": "code",
   "execution_count": 1,
   "metadata": {},
   "outputs": [
    {
     "name": "stdout",
     "output_type": "stream",
     "text": [
      "12,34,55\n",
      "Maximum element in the array is: 55\n",
      "Minimum element in the array is: 12\n",
      "Sum of all elements in the array is: 101\n",
      "Average of all elements is: 33.666666666666664\n"
     ]
    }
   ],
   "source": [
    "#55. Take numbers from the user and find out min, maximum, sum, average\n",
    "nums = list(map(int,input(\"\").split(\",\")))\n",
    "\n",
    "mini = nums[0]\n",
    "maxi = nums[0]\n",
    "sumint = 0\n",
    "\n",
    "for i in nums:\n",
    "    if(mini>i):\n",
    "        mini=i\n",
    "    if(maxi<i):\n",
    "        maxi = i\n",
    "    sumint +=i\n",
    "    \n",
    "print(f\"Maximum element in the array is: {maxi}\")\n",
    "print(f\"Minimum element in the array is: {mini}\")\n",
    "print(f\"Sum of all elements in the array is: {sumint}\")\n",
    "print(f\"Average of all elements is: {(sumint/len(nums))}\")"
   ]
  },
  {
   "cell_type": "code",
   "execution_count": 2,
   "metadata": {},
   "outputs": [],
   "source": [
    "#61. Reverse the string.> \n",
    "# 62 without effecting the special symbols. It involves three variations. Write code for three variations. "
   ]
  },
  {
   "cell_type": "code",
   "execution_count": 4,
   "metadata": {},
   "outputs": [
    {
     "name": "stdout",
     "output_type": "stream",
     "text": [
      "^%$987^$%6fed54$#,321cba\n"
     ]
    }
   ],
   "source": [
    "str1 =\"abc123,#$45def6%$^789$%^\"\n",
    "reve_str1 = \"\"\n",
    "for i in str1:\n",
    "    reve_str1 = i + reve_str1\n",
    "print(reve_str1)"
   ]
  },
  {
   "cell_type": "code",
   "execution_count": 9,
   "metadata": {},
   "outputs": [],
   "source": [
    "#63.Input: abc123,#$45def6%$^789$%^, output: 9876fe,#$d54321%$^cba$%^ "
   ]
  },
  {
   "cell_type": "code",
   "execution_count": 55,
   "metadata": {},
   "outputs": [
    {
     "name": "stdout",
     "output_type": "stream",
     "text": [
      "9876fe,#$d54321%$^cba$%^\n"
     ]
    }
   ],
   "source": [
    "str2 = \"abc123,#$45def6%$^789$%^\"\n",
    "rev = str2[::-1]\n",
    "list_q = list(str2)\n",
    "main = \"\"\n",
    "for i in str2:\n",
    "    if i.isalnum():\n",
    "        main += i\n",
    "rev_main=list(main[::-1])\n",
    "count = 0\n",
    "for i in str2:\n",
    "    if i.isalnum():\n",
    "        index = str2.index(i)\n",
    "        list_q[index] = rev_main[count]\n",
    "        count+=1\n",
    "    else:\n",
    "        index = str2.index(i)\n",
    "        list_q[index] = str2[index]\n",
    "str3 = \"\"\n",
    "for i in list_q:\n",
    "    str3+=i\n",
    "print(str3)"
   ]
  },
  {
   "cell_type": "code",
   "execution_count": 60,
   "metadata": {},
   "outputs": [
    {
     "name": "stdout",
     "output_type": "stream",
     "text": [
      "321,#$654%$^987$%^\n"
     ]
    }
   ],
   "source": [
    "#64.Input: \"123,#$456%$^789$%^\", Output: 321,#$654%$^987$%^ Only numbers has to reverse. \n",
    "\n",
    "str_1 = \"123,#$456%$^789$%^\"\n",
    "ov = \"\"\n",
    "tp = \"\"\n",
    "for i in str_1:\n",
    "    if i.isdigit():\n",
    "        tp += i\n",
    "    else:\n",
    "        ov += tp[::-1]+i\n",
    "        tp = ''\n",
    "print(ov)"
   ]
  },
  {
   "cell_type": "markdown",
   "metadata": {},
   "source": [
    "FUNCTIONS: \n",
    "65. define a function to take person details name and age are mandatory parameters and height weight are optional parameters. \n",
    "If the user willing to pass any other details(like adhar, cell, pan, passport etc..) regarding him then your function should \n",
    "access those details.\n",
    "\n"
   ]
  },
  {
   "cell_type": "code",
   "execution_count": 5,
   "metadata": {},
   "outputs": [
    {
     "name": "stdout",
     "output_type": "stream",
     "text": [
      "{'name': 'John', 'age': 25, 'height': 175, 'weight': 70, 'adhar': '1234567890', 'cell': '9876543210'}\n"
     ]
    }
   ],
   "source": [
    "def person_details(name, age, height=None, weight=None, **other_details):\n",
    "\n",
    "    details = {\n",
    "        'name': name,\n",
    "        'age': age,\n",
    "        'height': height,\n",
    "        'weight': weight,\n",
    "    }\n",
    "\n",
    "    \n",
    "    details.update(other_details)\n",
    "\n",
    "    return details\n",
    "\n",
    "person_info = person_details(name=\"John\", age=25, height=175, weight=70, adhar=\"1234567890\", cell=\"9876543210\")\n",
    "print(person_info)\n"
   ]
  },
  {
   "cell_type": "code",
   "execution_count": 9,
   "metadata": {},
   "outputs": [
    {
     "name": "stdout",
     "output_type": "stream",
     "text": [
      "2\n",
      "even number\n"
     ]
    }
   ],
   "source": [
    "#65 b. write a function to check given value is even or not\n",
    "def even_fun(num):\n",
    "    if num % 2 == 0:\n",
    "        print('even number')\n",
    "    else:\n",
    "        print('not a even number')\n",
    "a = int(input())\n",
    "even_fun(a)    "
   ]
  },
  {
   "cell_type": "code",
   "execution_count": 14,
   "metadata": {},
   "outputs": [
    {
     "name": "stdout",
     "output_type": "stream",
     "text": [
      "prime number\n"
     ]
    }
   ],
   "source": [
    "#65 c. write a function to check given value is prime or not \n",
    "def prime_num(n):\n",
    "    if n >= 2:\n",
    "        prime = True\n",
    "        for i in range(2,n):\n",
    "            if n % i == 0:\n",
    "                prime = False\n",
    "        if prime:\n",
    "            print(\"prime number\")\n",
    "        else:\n",
    "            print(\"not prime number\")\n",
    "prime_num(7)"
   ]
  },
  {
   "cell_type": "code",
   "execution_count": 15,
   "metadata": {},
   "outputs": [
    {
     "name": "stdout",
     "output_type": "stream",
     "text": [
      "True\n"
     ]
    }
   ],
   "source": [
    "#65 d. write a function to check given 2 values are  divisible or not\n",
    "def divisible(a,b):\n",
    "    if a%b == 0:\n",
    "        return True\n",
    "    else:\n",
    "        return False\n",
    "a = divisible(3,1)\n",
    "print(a)"
   ]
  },
  {
   "cell_type": "code",
   "execution_count": 19,
   "metadata": {},
   "outputs": [
    {
     "name": "stdout",
     "output_type": "stream",
     "text": [
      "asdf\n",
      "not contains digit\n"
     ]
    }
   ],
   "source": [
    "#STRINGS0 \n",
    "#67. take a string from the user and check contains only digits or not?\n",
    "def check(s):\n",
    "    for i in s:\n",
    "        if i.isdigit():\n",
    "            print(\"contains digit\")\n",
    "            break\n",
    "    else:\n",
    "        print(\"not contains digit\")\n",
    "    \n",
    "    \n",
    "str1 = input()\n",
    "check(str1)"
   ]
  },
  {
   "cell_type": "code",
   "execution_count": 28,
   "metadata": {},
   "outputs": [
    {
     "name": "stdout",
     "output_type": "stream",
     "text": [
      "!@sdf\n",
      "not contains only alphabets\n"
     ]
    }
   ],
   "source": [
    "#68. take a string from the user and check contains only  alphabets or not? \n",
    "def check(s):\n",
    "    count = 0\n",
    "    for i in s:\n",
    "        if 65 <= ord(i) <= 90 or 97 <= ord(i) <= 122:\n",
    "            count +=1\n",
    "    if count == len(s):\n",
    "        print(\"contains only alphabets\")\n",
    "    else:\n",
    "        print(\"not contains only alphabets\")\n",
    "    \n",
    "    \n",
    "str1 = input()\n",
    "check(str1)"
   ]
  },
  {
   "cell_type": "code",
   "execution_count": 40,
   "metadata": {},
   "outputs": [
    {
     "name": "stdout",
     "output_type": "stream",
     "text": [
      "!@#$%^&*()_\n",
      "contains only special chars\n"
     ]
    }
   ],
   "source": [
    "#69. take a string from the user and check contains only  special chars or not? \n",
    "def check(s):\n",
    "    count = 0\n",
    "    for i in s:\n",
    "        if (58 <= ord(i) <= 64) or  (91<=ord(i) <= 96) or (123 <= ord(i) <= 127) or (33 <= ord(i) <= 48):\n",
    "            count +=1\n",
    "    if count == len(s):\n",
    "        print(\"contains only special chars\")\n",
    "    else:\n",
    "        print(\"not contains only special chars\")\n",
    "    \n",
    "    \n",
    "str1 = input()\n",
    "check(str1)\n"
   ]
  },
  {
   "cell_type": "code",
   "execution_count": 45,
   "metadata": {},
   "outputs": [
    {
     "name": "stdout",
     "output_type": "stream",
     "text": [
      "QWERT\n",
      "contains only capital letters\n"
     ]
    }
   ],
   "source": [
    "#70. take a string from the user and check contains only  capital letters or not? \n",
    "def check(s):\n",
    "    count = 0\n",
    "    for i in s:\n",
    "        if (65 <= ord(i) <= 90):\n",
    "            count +=1\n",
    "    if count == len(s):\n",
    "        print(\"contains only capital letters\")\n",
    "    else:\n",
    "        print(\"not contains only capital letters\")\n",
    "    \n",
    "    \n",
    "str1 = input()\n",
    "check(str1)\n"
   ]
  },
  {
   "cell_type": "code",
   "execution_count": 47,
   "metadata": {},
   "outputs": [
    {
     "name": "stdout",
     "output_type": "stream",
     "text": [
      "qwer\n",
      "contains only small letters\n"
     ]
    }
   ],
   "source": [
    "#71. take a string from the user and check contains only  small letters or not? \n",
    "def check(s):\n",
    "    count = 0\n",
    "    for i in s:\n",
    "        if (97 <= ord(i) <= 122):\n",
    "            count +=1\n",
    "    if count == len(s):\n",
    "        print(\"contains only small letters\")\n",
    "    else:\n",
    "        print(\"not contains only small letters\")\n",
    "    \n",
    "    \n",
    "str1 = input()\n",
    "check(str1)\n"
   ]
  },
  {
   "cell_type": "code",
   "execution_count": 62,
   "metadata": {},
   "outputs": [
    {
     "name": "stdout",
     "output_type": "stream",
     "text": [
      "banana,mango,banana,banana,mango,banana\n",
      "enter last n number 3\n",
      "enter source item banana\n",
      "enter destination item apple\n",
      "['banana', 'mango', 'apple', 'banana', 'mango', 'banana']\n"
     ]
    }
   ],
   "source": [
    "#72. WAP to replace last n occurrence.\n",
    "def replace(list_a,n,s,d):\n",
    "    list_b = list_a[::-1]\n",
    "    count = 0\n",
    "    for i in list_b:\n",
    "        if i == s:\n",
    "            index = n\n",
    "            list_b[index] = d\n",
    "    print(list_b[::-1])\n",
    "    \n",
    "list_a = input().split(\",\")\n",
    "n = int(input('enter last n number '))\n",
    "source = input('enter source item ')\n",
    "destination = input('enter destination item ')\n",
    "replace(list_a,n,source,destination)"
   ]
  },
  {
   "cell_type": "code",
   "execution_count": 63,
   "metadata": {},
   "outputs": [
    {
     "name": "stdout",
     "output_type": "stream",
     "text": [
      "ertyu0.9\n",
      "string contains number\n"
     ]
    }
   ],
   "source": [
    "#73. WAP to check given string contains numbers or not. it should consider float numbers also\n",
    "def numbers(str_1):\n",
    "    digit = 0\n",
    "    for i in str_1:\n",
    "        if i.isdigit() or str_1.count(\".\") > 0:\n",
    "            digit += 1\n",
    "    if digit>0:\n",
    "        print(\"string contains number\")\n",
    "    else:\n",
    "        print(\"string does not contains number\")\n",
    "str_1 = input()\n",
    "numbers(str_1)\n"
   ]
  },
  {
   "cell_type": "code",
   "execution_count": 2,
   "metadata": {},
   "outputs": [
    {
     "name": "stdout",
     "output_type": "stream",
     "text": [
      "write a sentenceyg\n",
      "1.uppercase \n",
      "2.lowercase\n",
      "select an option1\n",
      "YG\n"
     ]
    }
   ],
   "source": [
    "#74. Convert the total string in to lower case. \n",
    "#Convert the total string in to upper case. \n",
    "def uppercase(sen):\n",
    "    print(sen.upper())\n",
    "def lowercase(sen):\n",
    "    print(sen.lower())\n",
    "sen = input('write a sentence ')\n",
    "print(\"1.uppercase \\n2.lowercase \")\n",
    "opt = input(\"select an option\")\n",
    "if opt == \"1\":\n",
    "    uppercase(sen)\n",
    "elif opt == \"2\":\n",
    "    lowercase(sen)"
   ]
  },
  {
   "cell_type": "code",
   "execution_count": 20,
   "metadata": {},
   "outputs": [
    {
     "name": "stdout",
     "output_type": "stream",
     "text": [
      "enter a sentence star of the month\n",
      "Star Of The Month \n"
     ]
    }
   ],
   "source": [
    "#75. Convert every word start letter into caps. Some how title not working if it contains numbers and special symbols in the word \n",
    "sentence = input('enter a sentence ').split(\" \")\n",
    "a = ''\n",
    "for i in sentence:\n",
    "    a += (i.capitalize()) +\" \"\n",
    "print(a)"
   ]
  },
  {
   "cell_type": "code",
   "execution_count": 1,
   "metadata": {},
   "outputs": [
    {
     "name": "stdout",
     "output_type": "stream",
     "text": [
      "give list of items apple,banana,apple,kiwi,banana,mango\n",
      "source item banana\n",
      "replace with sapota\n",
      "apple sapota apple kiwi sapota mango\n"
     ]
    }
   ],
   "source": [
    "#76.replace last two occurrences of given source string with destination string preserve the delimiter after split. \n",
    "def replace_item(list_a,source,replace_with):\n",
    "    last_occurrences = 2\n",
    "    rev_list_a = list_a[::-1]\n",
    "    count = 0\n",
    "    for j in rev_list_a:\n",
    "        if j == source:\n",
    "            while count<2:\n",
    "                index = rev_list_a.index(j)\n",
    "                rev_list_a[index] = replace_with  \n",
    "                count +=1\n",
    "    print(*rev_list_a[::-1])\n",
    "list_a = list(input('give list of items ').split(\",\"))\n",
    "source = input('source item ')\n",
    "replace_with = input('replace with ')\n",
    "replace_item(list_a,source,replace_with)\n",
    "\n"
   ]
  },
  {
   "cell_type": "code",
   "execution_count": 4,
   "metadata": {},
   "outputs": [
    {
     "name": "stdout",
     "output_type": "stream",
     "text": [
      "pure\n",
      "is a substring\n"
     ]
    }
   ],
   "source": [
    "'''77. write a program to check given substring is there in actual string or not? (search should be case insensitive) \n",
    "example: act=\"python is a pure object oriented programing language\" \n",
    "78.check whether “pure” is there in act or not. \n",
    "Note: Use in operator'''\n",
    "act = \"python is a pure object oriented programing language\"\n",
    "a = input()\n",
    "if a in act:\n",
    "    print(\"is a substring\")\n",
    "else:\n",
    "    print(\"not a substring\")"
   ]
  },
  {
   "cell_type": "code",
   "execution_count": 5,
   "metadata": {},
   "outputs": [
    {
     "ename": "TypeError",
     "evalue": "object of type 'int' has no len()",
     "output_type": "error",
     "traceback": [
      "\u001b[1;31m---------------------------------------------------------------------------\u001b[0m",
      "\u001b[1;31mTypeError\u001b[0m                                 Traceback (most recent call last)",
      "Cell \u001b[1;32mIn[5], line 5\u001b[0m\n\u001b[0;32m      3\u001b[0m l \u001b[38;5;241m=\u001b[39m [\u001b[38;5;241m10\u001b[39m,\u001b[38;5;241m20\u001b[39m,\u001b[38;5;241m30\u001b[39m,[\u001b[38;5;241m40\u001b[39m,\u001b[38;5;241m50\u001b[39m,\u001b[38;5;241m60\u001b[39m],\u001b[38;5;241m70\u001b[39m,[\u001b[38;5;241m80\u001b[39m,\u001b[38;5;241m90\u001b[39m,\u001b[38;5;241m20\u001b[39m]]\n\u001b[0;32m      4\u001b[0m \u001b[38;5;28;01mfor\u001b[39;00m i \u001b[38;5;129;01min\u001b[39;00m l:\n\u001b[1;32m----> 5\u001b[0m     \u001b[38;5;28;01mif\u001b[39;00m \u001b[38;5;28mlen\u001b[39m(i)\u001b[38;5;241m>\u001b[39m\u001b[38;5;241m1\u001b[39m:\n\u001b[0;32m      6\u001b[0m         \u001b[38;5;28mprint\u001b[39m(i)\n",
      "\u001b[1;31mTypeError\u001b[0m: object of type 'int' has no len()"
     ]
    }
   ],
   "source": [
    "#DATA STRUCTURES \n",
    "#79. l=[10,20,30,[40,50,60],70,[80,90,20]]. Convert this list as single dimensional list \n",
    "l = [10,20,30,[40,50,60],70,[80,90,20]]\n",
    "def fun(a):\n",
    "    return *a\n",
    "for i in l:\n",
    "    if (i)>1:\n",
    "        print(i)\n"
   ]
  },
  {
   "cell_type": "code",
   "execution_count": null,
   "metadata": {},
   "outputs": [],
   "source": []
  }
 ],
 "metadata": {
  "colab": {
   "provenance": []
  },
  "kernelspec": {
   "display_name": "Python 3 (ipykernel)",
   "language": "python",
   "name": "python3"
  },
  "language_info": {
   "codemirror_mode": {
    "name": "ipython",
    "version": 3
   },
   "file_extension": ".py",
   "mimetype": "text/x-python",
   "name": "python",
   "nbconvert_exporter": "python",
   "pygments_lexer": "ipython3",
   "version": "3.11.5"
  }
 },
 "nbformat": 4,
 "nbformat_minor": 1
}
