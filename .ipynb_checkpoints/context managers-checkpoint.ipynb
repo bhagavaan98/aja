{
 "cells": [
  {
   "cell_type": "code",
   "execution_count": 1,
   "id": "6a10c6d7",
   "metadata": {},
   "outputs": [
    {
     "name": "stdout",
     "output_type": "stream",
     "text": [
      "NAME,SALARY\n",
      "Natasha Jackson,4794687\n",
      "John Edwards,2090550\n",
      "Donald Hines,3799466\n",
      "Nathan Jones,3205755\n",
      "Ms. Kelly Black,4892376\n",
      "Sheri Green,4999852\n",
      "Clifford Sims,4322487\n",
      "Geoffrey Hunt,3804890\n",
      "Tonya Foley,4949862\n",
      "Steven Levy,2617658\n",
      "Steven Levy,2617658\n",
      "\n"
     ]
    }
   ],
   "source": [
    "with open(\"data.csv\") as data_file:\n",
    "    data = data_file.read()\n",
    "    print(data)"
   ]
  },
  {
   "cell_type": "code",
   "execution_count": 2,
   "id": "797c0f26",
   "metadata": {},
   "outputs": [
    {
     "name": "stdout",
     "output_type": "stream",
     "text": [
      "<_io.TextIOWrapper name='data.csv' mode='r' encoding='cp1252'>\n"
     ]
    }
   ],
   "source": [
    "print(data_file)"
   ]
  },
  {
   "cell_type": "code",
   "execution_count": 3,
   "id": "35f823a8",
   "metadata": {},
   "outputs": [
    {
     "name": "stdout",
     "output_type": "stream",
     "text": [
      "['_CHUNK_SIZE', '__class__', '__del__', '__delattr__', '__dict__', '__dir__', '__doc__', '__enter__', '__eq__', '__exit__', '__format__', '__ge__', '__getattribute__', '__getstate__', '__gt__', '__hash__', '__init__', '__init_subclass__', '__iter__', '__le__', '__lt__', '__ne__', '__new__', '__next__', '__reduce__', '__reduce_ex__', '__repr__', '__setattr__', '__sizeof__', '__str__', '__subclasshook__', '_checkClosed', '_checkReadable', '_checkSeekable', '_checkWritable', '_finalizing', 'buffer', 'close', 'closed', 'detach', 'encoding', 'errors', 'fileno', 'flush', 'isatty', 'line_buffering', 'mode', 'name', 'newlines', 'read', 'readable', 'readline', 'readlines', 'reconfigure', 'seek', 'seekable', 'tell', 'truncate', 'writable', 'write', 'write_through', 'writelines']\n"
     ]
    }
   ],
   "source": [
    "print(dir(data_file))"
   ]
  },
  {
   "cell_type": "code",
   "execution_count": 4,
   "id": "4d71c93a",
   "metadata": {},
   "outputs": [
    {
     "name": "stdout",
     "output_type": "stream",
     "text": [
      "True\n"
     ]
    }
   ],
   "source": [
    "print(data_file.closed)"
   ]
  },
  {
   "cell_type": "code",
   "execution_count": 5,
   "id": "15694234",
   "metadata": {},
   "outputs": [
    {
     "name": "stdout",
     "output_type": "stream",
     "text": [
      "NAME,SALARY\n",
      "Natasha Jackson,4794687\n",
      "John Edwards,2090550\n",
      "Donald Hines,3799466\n",
      "Nathan Jones,3205755\n",
      "Ms. Kelly Black,4892376\n",
      "Sheri Green,4999852\n",
      "Clifford Sims,4322487\n",
      "Geoffrey Hunt,3804890\n",
      "Tonya Foley,4949862\n",
      "Steven Levy,2617658\n",
      "Steven Levy,2617658\n",
      "\n",
      "True\n"
     ]
    }
   ],
   "source": [
    "with open(\"data.csv\") as data_file:\n",
    "    data = data_file.read()\n",
    "    print(data)\n",
    "print(data_file.closed)"
   ]
  },
  {
   "cell_type": "code",
   "execution_count": 6,
   "id": "0008b7e0",
   "metadata": {},
   "outputs": [
    {
     "name": "stdout",
     "output_type": "stream",
     "text": [
      "NAME,SALARY\n",
      "Natasha Jackson,4794687\n",
      "John Edwards,2090550\n",
      "Donald Hines,3799466\n",
      "Nathan Jones,3205755\n",
      "Ms. Kelly Black,4892376\n",
      "Sheri Green,4999852\n",
      "Clifford Sims,4322487\n",
      "Geoffrey Hunt,3804890\n",
      "Tonya Foley,4949862\n",
      "Steven Levy,2617658\n",
      "Steven Levy,2617658\n",
      "\n",
      "False\n"
     ]
    }
   ],
   "source": [
    "data_file = open(\"data.csv\")\n",
    "data = data_file.read()\n",
    "print(data)\n",
    "print(data_file.closed)"
   ]
  },
  {
   "cell_type": "code",
   "execution_count": 7,
   "id": "6371a895",
   "metadata": {},
   "outputs": [
    {
     "name": "stdout",
     "output_type": "stream",
     "text": [
      "(('cat1',), ('cat2',))\n"
     ]
    }
   ],
   "source": [
    "import pymysql\n",
    "with pymysql.connect(user=\"root\",password=\"root\",database=\"aja\",port=3306) as con:\n",
    "    with con.cursor() as cur:\n",
    "        cur.execute(\"select * from category\")\n",
    "        data = cur.fetchall()\n",
    "        print(data)\n"
   ]
  },
  {
   "cell_type": "code",
   "execution_count": 8,
   "id": "6aa7fec1",
   "metadata": {},
   "outputs": [
    {
     "name": "stdout",
     "output_type": "stream",
     "text": [
      "<pymysql.connections.Connection object at 0x000001FD6F86A350>\n"
     ]
    }
   ],
   "source": [
    "print(con)"
   ]
  },
  {
   "cell_type": "code",
   "execution_count": 9,
   "id": "b5eebf90",
   "metadata": {},
   "outputs": [
    {
     "name": "stdout",
     "output_type": "stream",
     "text": [
      "<pymysql.cursors.Cursor object at 0x000001FD6F843810>\n"
     ]
    }
   ],
   "source": [
    "print(cur)"
   ]
  },
  {
   "cell_type": "code",
   "execution_count": 10,
   "id": "aad0d89c",
   "metadata": {},
   "outputs": [
    {
     "name": "stdout",
     "output_type": "stream",
     "text": [
      "['DataError', 'DatabaseError', 'Error', 'IntegrityError', 'InterfaceError', 'InternalError', 'NotSupportedError', 'OperationalError', 'ProgrammingError', 'Warning', '__class__', '__del__', '__delattr__', '__dict__', '__dir__', '__doc__', '__enter__', '__eq__', '__exit__', '__format__', '__ge__', '__getattribute__', '__getstate__', '__gt__', '__hash__', '__init__', '__init_subclass__', '__le__', '__lt__', '__module__', '__ne__', '__new__', '__reduce__', '__reduce_ex__', '__repr__', '__setattr__', '__sizeof__', '__str__', '__subclasshook__', '__weakref__', '_affected_rows', '_auth_plugin_map', '_auth_plugin_name', '_binary_prefix', '_closed', '_connect_attrs', '_create_ssl_ctx', '_execute_command', '_force_close', '_get_auth_plugin_handler', '_get_server_information', '_local_infile', '_next_seq_id', '_process_auth', '_quote_bytes', '_read_bytes', '_read_ok_packet', '_read_packet', '_read_query_result', '_read_timeout', '_request_authentication', '_result', '_rfile', '_secure', '_send_autocommit_mode', '_sock', '_write_bytes', '_write_timeout', 'affected_rows', 'autocommit', 'autocommit_mode', 'begin', 'bind_address', 'character_set_name', 'charset', 'client_flag', 'close', 'collation', 'commit', 'connect', 'connect_timeout', 'cursor', 'cursorclass', 'db', 'decoders', 'encoders', 'encoding', 'escape', 'escape_string', 'get_autocommit', 'get_host_info', 'get_proto_info', 'get_server_info', 'host', 'host_info', 'init_command', 'insert_id', 'kill', 'literal', 'max_allowed_packet', 'next_result', 'open', 'password', 'ping', 'port', 'protocol_version', 'query', 'rollback', 'salt', 'select_db', 'server_capabilities', 'server_charset', 'server_language', 'server_public_key', 'server_status', 'server_thread_id', 'server_version', 'set_character_set', 'set_charset', 'show_warnings', 'sql_mode', 'ssl', 'thread_id', 'unix_socket', 'use_unicode', 'user', 'write_packet']\n"
     ]
    }
   ],
   "source": [
    "print(dir(con))"
   ]
  },
  {
   "cell_type": "code",
   "execution_count": 11,
   "id": "9d1a5a66",
   "metadata": {},
   "outputs": [
    {
     "data": {
      "text/plain": [
       "True"
      ]
     },
     "execution_count": 11,
     "metadata": {},
     "output_type": "execute_result"
    }
   ],
   "source": [
    "con._closed"
   ]
  },
  {
   "cell_type": "code",
   "execution_count": 13,
   "id": "1bcc0bc7",
   "metadata": {},
   "outputs": [
    {
     "name": "stdout",
     "output_type": "stream",
     "text": [
      "['__class__', '__delattr__', '__dict__', '__dir__', '__doc__', '__enter__', '__eq__', '__exit__', '__format__', '__ge__', '__getattr__', '__getattribute__', '__getstate__', '__gt__', '__hash__', '__init__', '__init_subclass__', '__iter__', '__le__', '__lt__', '__module__', '__ne__', '__new__', '__next__', '__reduce__', '__reduce_ex__', '__repr__', '__setattr__', '__sizeof__', '__str__', '__subclasshook__', '__weakref__', '_check_executed', '_clear_result', '_conv_row', '_do_execute_many', '_do_get_result', '_escape_args', '_executed', '_get_db', '_nextset', '_query', '_result', '_rows', 'arraysize', 'callproc', 'close', 'connection', 'description', 'execute', 'executemany', 'fetchall', 'fetchmany', 'fetchone', 'lastrowid', 'max_stmt_length', 'mogrify', 'nextset', 'rowcount', 'rownumber', 'scroll', 'setinputsizes', 'setoutputsizes', 'warning_count']\n"
     ]
    }
   ],
   "source": [
    "print(dir(cur))"
   ]
  },
  {
   "cell_type": "code",
   "execution_count": 14,
   "id": "7740470f",
   "metadata": {},
   "outputs": [
    {
     "ename": "TypeError",
     "evalue": "'Emp' object does not support the context manager protocol",
     "output_type": "error",
     "traceback": [
      "\u001b[1;31m---------------------------------------------------------------------------\u001b[0m",
      "\u001b[1;31mTypeError\u001b[0m                                 Traceback (most recent call last)",
      "Cell \u001b[1;32mIn[14], line 3\u001b[0m\n\u001b[0;32m      1\u001b[0m \u001b[38;5;28;01mclass\u001b[39;00m \u001b[38;5;21;01mEmp\u001b[39;00m:\n\u001b[0;32m      2\u001b[0m     \u001b[38;5;28;01mpass\u001b[39;00m\n\u001b[1;32m----> 3\u001b[0m \u001b[38;5;28;01mwith\u001b[39;00m Emp() \u001b[38;5;28;01mas\u001b[39;00m e:\n\u001b[0;32m      4\u001b[0m     \u001b[38;5;28mprint\u001b[39m(\u001b[38;5;124m\"\u001b[39m\u001b[38;5;124mHello\u001b[39m\u001b[38;5;124m\"\u001b[39m)\n",
      "\u001b[1;31mTypeError\u001b[0m: 'Emp' object does not support the context manager protocol"
     ]
    }
   ],
   "source": [
    "class Emp:\n",
    "    pass\n",
    "with Emp() as e:\n",
    "    print(\"Hello\")"
   ]
  },
  {
   "cell_type": "code",
   "execution_count": 16,
   "id": "32f62b8c",
   "metadata": {},
   "outputs": [
    {
     "name": "stdout",
     "output_type": "stream",
     "text": [
      "entered\n",
      "Hello\n",
      "exited\n"
     ]
    }
   ],
   "source": [
    "class Emp:\n",
    "    def __enter__(self):\n",
    "        print(\"entered\")\n",
    "    def __exit__(self, *args):\n",
    "        print(\"exited\")\n",
    "with Emp() as e:\n",
    "    print(\"Hello\")"
   ]
  },
  {
   "cell_type": "code",
   "execution_count": 17,
   "id": "dcf9f5e9",
   "metadata": {},
   "outputs": [
    {
     "name": "stdout",
     "output_type": "stream",
     "text": [
      "constructor\n"
     ]
    }
   ],
   "source": [
    "class Emp:\n",
    "    def __init__(self):\n",
    "        print(\"constructor\")\n",
    "    def __enter__(self):\n",
    "        print(\"entered\")\n",
    "    def __exit__(self, *args):\n",
    "        print(\"exited\")\n",
    "e=Emp()"
   ]
  },
  {
   "cell_type": "code",
   "execution_count": 18,
   "id": "6a4da25a",
   "metadata": {},
   "outputs": [
    {
     "name": "stdout",
     "output_type": "stream",
     "text": [
      "constructor\n"
     ]
    }
   ],
   "source": [
    "class Emp:\n",
    "    def __init__(self, value):\n",
    "        print(\"constructor\")\n",
    "        self.value=value\n",
    "    def __enter__(self):\n",
    "        print(\"entered\")\n",
    "    def __exit__(self, *args):\n",
    "        print(\"exited\")\n",
    "e=Emp(\"Jay\")"
   ]
  },
  {
   "cell_type": "code",
   "execution_count": 20,
   "id": "7e2c7806",
   "metadata": {},
   "outputs": [
    {
     "name": "stdout",
     "output_type": "stream",
     "text": [
      "constructor\n",
      "entered\n",
      "1\n",
      "Jay\n",
      "2\n",
      "exited\n",
      "Done\n"
     ]
    }
   ],
   "source": [
    "class Emp:\n",
    "    def __init__(self, value):\n",
    "        print(\"constructor\")\n",
    "        self.value=value\n",
    "    def __enter__(self):\n",
    "        print(\"entered\")\n",
    "        return self\n",
    "    def __exit__(self, *args):\n",
    "        print(\"exited\")\n",
    "        \n",
    "    def get(self):\n",
    "        print(self.value)\n",
    "with Emp(\"Jay\") as e:\n",
    "    print(\"1\")\n",
    "    e.get()\n",
    "    print(\"2\")\n",
    "print(\"Done\")"
   ]
  },
  {
   "cell_type": "code",
   "execution_count": null,
   "id": "a1f0c151",
   "metadata": {},
   "outputs": [],
   "source": [
    "class Emp:\n",
    "    def __init__(self, value):\n",
    "        print(\"constructor\")\n",
    "        self.value=value\n",
    "    def __enter__(self):\n",
    "        print(\"entered\")\n",
    "        return self\n",
    "    def __exit__(self, *args):\n",
    "        print(\"exited\")\n",
    "        \n",
    "    def get(self):\n",
    "        print(self.value)\n"
   ]
  },
  {
   "cell_type": "code",
   "execution_count": 21,
   "id": "c7f3aff3",
   "metadata": {},
   "outputs": [],
   "source": [
    "import contextlib"
   ]
  },
  {
   "cell_type": "code",
   "execution_count": 23,
   "id": "e254576c",
   "metadata": {},
   "outputs": [
    {
     "name": "stdout",
     "output_type": "stream",
     "text": [
      "['AbstractAsyncContextManager', 'AbstractContextManager', 'AsyncContextDecorator', 'AsyncExitStack', 'ContextDecorator', 'ExitStack', 'GenericAlias', 'MethodType', '_AsyncGeneratorContextManager', '_BaseExitStack', '_GeneratorContextManager', '_GeneratorContextManagerBase', '_RedirectStream', '__all__', '__builtins__', '__cached__', '__doc__', '__file__', '__loader__', '__name__', '__package__', '__spec__', '_collections_abc', 'abc', 'aclosing', 'asynccontextmanager', 'chdir', 'closing', 'contextmanager', 'deque', 'nullcontext', 'os', 'redirect_stderr', 'redirect_stdout', 'suppress', 'sys', 'wraps']\n"
     ]
    }
   ],
   "source": [
    "print(dir(contextlib))"
   ]
  },
  {
   "cell_type": "code",
   "execution_count": 27,
   "id": "8ddb8ed4",
   "metadata": {},
   "outputs": [
    {
     "name": "stdout",
     "output_type": "stream",
     "text": [
      "constructor\n"
     ]
    },
    {
     "ename": "TypeError",
     "evalue": "'Emp' object does not support the context manager protocol",
     "output_type": "error",
     "traceback": [
      "\u001b[1;31m---------------------------------------------------------------------------\u001b[0m",
      "\u001b[1;31mTypeError\u001b[0m                                 Traceback (most recent call last)",
      "Cell \u001b[1;32mIn[27], line 14\u001b[0m\n\u001b[0;32m     12\u001b[0m     \u001b[38;5;28;01mdef\u001b[39;00m \u001b[38;5;21mget\u001b[39m(\u001b[38;5;28mself\u001b[39m):\n\u001b[0;32m     13\u001b[0m         \u001b[38;5;28mprint\u001b[39m(\u001b[38;5;28mself\u001b[39m\u001b[38;5;241m.\u001b[39mvalue)\n\u001b[1;32m---> 14\u001b[0m \u001b[38;5;28;01mwith\u001b[39;00m Emp(\u001b[38;5;124m\"\u001b[39m\u001b[38;5;124mJay\u001b[39m\u001b[38;5;124m\"\u001b[39m) \u001b[38;5;28;01mas\u001b[39;00m e:\n\u001b[0;32m     15\u001b[0m     \u001b[38;5;28mprint\u001b[39m(\u001b[38;5;124m\"\u001b[39m\u001b[38;5;124m1\u001b[39m\u001b[38;5;124m\"\u001b[39m)\n\u001b[0;32m     16\u001b[0m     e\u001b[38;5;241m.\u001b[39mget()\n",
      "\u001b[1;31mTypeError\u001b[0m: 'Emp' object does not support the context manager protocol"
     ]
    }
   ],
   "source": [
    "import contextlib\n",
    "class Emp(contextlib.ContextDecorator):\n",
    "    def __init__(self, value):\n",
    "        print(\"constructor\")\n",
    "        self.value=value\n",
    "#     def __enter__(self):\n",
    "#         print(\"entered\")\n",
    "#         return self\n",
    "#     def __exit__(self, *args):\n",
    "#         print(\"exited\")\n",
    "        \n",
    "    def get(self):\n",
    "        print(self.value)\n",
    "with Emp(\"Jay\") as e:\n",
    "    print(\"1\")\n",
    "    e.get()\n",
    "    print(\"2\")\n",
    "print(\"Done\")"
   ]
  },
  {
   "cell_type": "code",
   "execution_count": 1,
   "id": "1a584187",
   "metadata": {},
   "outputs": [
    {
     "ename": "ZeroDivisionError",
     "evalue": "division by zero",
     "output_type": "error",
     "traceback": [
      "\u001b[1;31m---------------------------------------------------------------------------\u001b[0m",
      "\u001b[1;31mZeroDivisionError\u001b[0m                         Traceback (most recent call last)",
      "Cell \u001b[1;32mIn[1], line 3\u001b[0m\n\u001b[0;32m      1\u001b[0m \u001b[38;5;28;01mwith\u001b[39;00m \u001b[38;5;28mopen\u001b[39m(\u001b[38;5;124m\"\u001b[39m\u001b[38;5;124mdata.csv\u001b[39m\u001b[38;5;124m\"\u001b[39m) \u001b[38;5;28;01mas\u001b[39;00m data_file:\n\u001b[0;32m      2\u001b[0m     data \u001b[38;5;241m=\u001b[39m data_file\u001b[38;5;241m.\u001b[39mread()\n\u001b[1;32m----> 3\u001b[0m     \u001b[38;5;28mprint\u001b[39m(\u001b[38;5;241m1\u001b[39m\u001b[38;5;241m/\u001b[39m\u001b[38;5;241m0\u001b[39m)\n\u001b[0;32m      4\u001b[0m     \u001b[38;5;28mprint\u001b[39m(data)\n",
      "\u001b[1;31mZeroDivisionError\u001b[0m: division by zero"
     ]
    }
   ],
   "source": [
    "with open(\"data.csv\") as data_file:\n",
    "    data = data_file.read()\n",
    "    print(1/0)\n",
    "    print(data)"
   ]
  },
  {
   "cell_type": "code",
   "execution_count": 2,
   "id": "245104ba",
   "metadata": {},
   "outputs": [
    {
     "name": "stdout",
     "output_type": "stream",
     "text": [
      "True\n"
     ]
    }
   ],
   "source": [
    "print(data_file.closed)"
   ]
  },
  {
   "cell_type": "code",
   "execution_count": 3,
   "id": "f0c396db",
   "metadata": {},
   "outputs": [
    {
     "name": "stdout",
     "output_type": "stream",
     "text": [
      "constructor\n"
     ]
    }
   ],
   "source": [
    "class Emp:\n",
    "    def __init__(self, value):\n",
    "        print(\"constructor\")\n",
    "        self.value=value\n",
    "    def __enter__(self):\n",
    "        print(\"entered\")\n",
    "        return self\n",
    "    def __exit__(self, *args):\n",
    "        print(\"exited\")\n",
    "        \n",
    "    def get(self):\n",
    "        print(self.value)\n",
    "\n",
    "e=Emp(10)"
   ]
  },
  {
   "cell_type": "code",
   "execution_count": null,
   "id": "5c10f44a",
   "metadata": {},
   "outputs": [],
   "source": []
  }
 ],
 "metadata": {
  "kernelspec": {
   "display_name": "Python 3 (ipykernel)",
   "language": "python",
   "name": "python3"
  },
  "language_info": {
   "codemirror_mode": {
    "name": "ipython",
    "version": 3
   },
   "file_extension": ".py",
   "mimetype": "text/x-python",
   "name": "python",
   "nbconvert_exporter": "python",
   "pygments_lexer": "ipython3",
   "version": "3.11.5"
  }
 },
 "nbformat": 4,
 "nbformat_minor": 5
}
