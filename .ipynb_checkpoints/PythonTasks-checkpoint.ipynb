{
 "cells": [
  {
   "cell_type": "code",
   "execution_count": 1,
   "id": "88688454",
   "metadata": {},
   "outputs": [
    {
     "name": "stdout",
     "output_type": "stream",
     "text": [
      "Enter user input separtated by space:- name age\n",
      "Manadatory items were given\n"
     ]
    }
   ],
   "source": [
    "#Task on 07/11/2023\n",
    "\n",
    "def details_manadatory(params, manadatory, user_input):\n",
    "    if sorted(manadatory) == sorted(user_input) :\n",
    "        \n",
    "        return 'Manadatory items were given'\n",
    "    else:\n",
    "\n",
    "        s1 = list((set(manadatory) - set(user_input)))\n",
    "        s2 = \" \".join(s1)\n",
    "        diff = []\n",
    "        for item in user_input:\n",
    "            if item not in manadatory:\n",
    "                diff.append(item)\n",
    "        \n",
    "        extra = []\n",
    "        for each in diff:\n",
    "            if each not in params:\n",
    "                extra.append(each)\n",
    "\n",
    "        dif = \" \".join(extra)\n",
    "        if len(extra) == 0:\n",
    "            return f'{s2} manadatory'\n",
    "        else:\n",
    "            return f'{dif} extra given \\n{s2} manadatory'\n",
    "\n",
    "params = [\"name\", \"age\", \"aadhar\", \"phone\"]\n",
    "manadatory = [\"name\", \"age\"]\n",
    "user_input = input(\"Enter user input separtated by space:- \").split()\n",
    "#print(user_input)\n",
    "get = details_manadatory(params, manadatory, user_input)\n",
    "print(get)"
   ]
  },
  {
   "cell_type": "code",
   "execution_count": 2,
   "id": "65ebbbf0",
   "metadata": {},
   "outputs": [
    {
     "name": "stdout",
     "output_type": "stream",
     "text": [
      "['orange', 'mango', 'grapes', 'APPLE', 'grapes', 'APPLE', 'banana']\n"
     ]
    }
   ],
   "source": [
    "#Task on 07/11/2023\n",
    "\n",
    "l = \"apple,orange,apple,mango,grapes,apple,grapes,apple,banana\"\n",
    "list_l = l.split(\",\")\n",
    "length = list_l[::]\n",
    "count = list_l.count('apple')\n",
    "c = 0\n",
    "res = []\n",
    "for item in list_l:\n",
    "    if item == 'apple':\n",
    "        c += 1\n",
    "        if c > count-2:\n",
    "            res.append(item.upper())\n",
    "        else:\n",
    "            res.append(item)\n",
    "    else:\n",
    "        res.append(item)\n",
    "\n",
    "\n",
    "for i in res:\n",
    "    if i == 'apple':\n",
    "        res.remove('apple')\n",
    "print(res) "
   ]
  },
  {
   "cell_type": "code",
   "execution_count": 16,
   "id": "c4e4cf1e",
   "metadata": {},
   "outputs": [
    {
     "name": "stdout",
     "output_type": "stream",
     "text": [
      "<_io.TextIOWrapper name='employees_data.csv' mode='w' encoding='cp1252'>\n",
      "370320.51\n",
      "[374473, 379679, 380720, 393497, 394028, 394090, 396755, 401229, 417765, 417924, 419620, 422142, 423543, 425219, 430456, 431729, 438118, 438410, 439333, 442660, 448207, 455021, 456587, 457600, 458498, 458837, 462437, 464765, 465003, 465431, 466474, 471206, 472314, 472929, 476074, 478098, 479439, 481217, 485955, 486353, 487416, 487520, 488243, 490914, 491312, 491534, 492755, 493807, 495361]\n",
      "The Top 3 Persons who got salary above average salary of all\n",
      "\n",
      "Name,Department,Salary,Mobile\n",
      "\n",
      "Lisa Murillo,more,493807,+1-259-354-7079x548\n",
      "\n",
      "Luis Davis,former,495361,401-242-7565\n",
      "\n",
      "Anthony Hall,music,492755,(819)793-3066x833\n",
      "\n"
     ]
    }
   ],
   "source": [
    "#Task on 10/11/2023 find the top 3 employees who got above average salary.\n",
    "\n",
    "from faker import Faker\n",
    "import random\n",
    "fake = Faker()\n",
    "file = open(\"employees_data.csv\", 'w')\n",
    "file.write(\"Name,Department,Salary,Mobile\\n\")\n",
    "for i in range(100):\n",
    "    row = f'{fake.name()},{fake.word()},{random.randint(200000, 500000)},{fake.phone_number()}\\n'\n",
    "    file.write(row)\n",
    "file.close()\n",
    "print(file)\n",
    "f = open(\"employees_data.csv\", \"r\")\n",
    "f = f.readlines()\n",
    "#print(f)\n",
    "sal = []\n",
    "for i in f[1:]:\n",
    "    num = 0\n",
    "    for j in i:\n",
    "        if j.isdigit():\n",
    "            num = i.index(j)\n",
    "            break\n",
    "    sal.append(int(i[num:num+6]))  \n",
    "#print(sal)\n",
    "\n",
    "sal_length = len(sal)\n",
    "summ = 0\n",
    "for s in sal:\n",
    "    summ += s\n",
    "avg_sal = summ/sal_length\n",
    "print(avg_sal)\n",
    "avg_sal_gr = []\n",
    "for s in sal:\n",
    "    if avg_sal < s:\n",
    "        avg_sal_gr.append(s)\n",
    "avg_sal_gr.sort()        \n",
    "print(avg_sal_gr)        \n",
    "\n",
    "print(\"The Top 3 Persons who got salary above average salary of all\\n\")\n",
    "print(f[0])\n",
    "for person in f:\n",
    "    if str(avg_sal_gr[-1]) in person: \n",
    "        print(person)\n",
    "    elif str(avg_sal_gr[-2]) in person:\n",
    "        print(person)\n",
    "    elif str(avg_sal_gr[-3]) in person:\n",
    "        print(person)\n",
    "        "
   ]
  },
  {
   "cell_type": "code",
   "execution_count": 82,
   "id": "fcb6816a",
   "metadata": {},
   "outputs": [
    {
     "name": "stdout",
     "output_type": "stream",
     "text": [
      "inserted successsfully\n"
     ]
    }
   ],
   "source": [
    "#Task on 13/11/2023\n",
    "\n",
    "# Write a class(DB) program to create a table, insert values, update values, delete values of the table.\n",
    "# All database operations code write in a file(db_operations.py) and call these operations in another file( app.py).\n",
    "# In app.py create instance of the DB class and call all the methods by passing some data.\n",
    "\n",
    "import pymysql\n",
    "\n",
    "class DB:\n",
    "    \n",
    "    connect = pymysql.connect(user=\"root\", password=\"root\", database=\"aja\")\n",
    "    cur = connect.cursor()\n",
    "    \n",
    "    def __init__(self,table):\n",
    "        self.table=table\n",
    "        \n",
    "    def create_table(self):\n",
    "        \n",
    "        try:\n",
    "            query = f\"create table {self.table}(id int, name varchar(50))\"\n",
    "            DB.cur.execute(query)\n",
    "            print(\"Table Created successfully\")\n",
    "        except  Exception as err:\n",
    "            print(\"DB error is\",err)\n",
    "        \n",
    "        finally:\n",
    "            DB.connect.close()\n",
    "            \n",
    "            \n",
    "    def insert_data(self, x,y):  \n",
    "        DB.connect\n",
    "        query = f\"insert into {self.table} values({x}, '{y}')\"\n",
    "        try:\n",
    "            DB.cur.execute(query)\n",
    "            DB.connect.commit()\n",
    "            print(\"inserted successsfully\")\n",
    "            \n",
    "        except Exception as err:\n",
    "            print(\"DB error is\",err)\n",
    "        \n",
    "        finally:\n",
    "            DB.connect.close()\n",
    "        \n",
    "    def update_data(self, num, value):\n",
    "        DB.connect\n",
    "        query = f\"update {self.table} set name='{value}' where id='{num}'\"\n",
    "        DB.cur.execute(query)\n",
    "        DB.connect.commit()\n",
    "        print(\"updated successsfully\")\n",
    "        DB.connect.close()\n",
    "        \n",
    "    def delete_data(self, num):\n",
    "        DB.connect\n",
    "        query = f\"delete from {self.table} where id='{num}'\"\n",
    "        DB.cur.execute(query)\n",
    "        DB.connect.commit()\n",
    "        print(\"deleted successsfully\")\n",
    "        DB.connect.close()\n",
    "        \n",
    "        \n",
    "        \n",
    "    \n",
    "ob = DB(\"fruitsapples\")\n",
    "#ob.create_table()\n",
    "#ob.insert_data(1,\"apple\")\n",
    "ob.insert_data(2,\"apple\")\n",
    "#ob.update_data(1,'mango')\n",
    "#ob.delete_data(1)\n"
   ]
  },
  {
   "cell_type": "code",
   "execution_count": 84,
   "id": "55fbac76",
   "metadata": {},
   "outputs": [
    {
     "name": "stdout",
     "output_type": "stream",
     "text": [
      "DB error is (0, '')\n"
     ]
    },
    {
     "ename": "Error",
     "evalue": "Already closed",
     "output_type": "error",
     "traceback": [
      "\u001b[1;31m---------------------------------------------------------------------------\u001b[0m",
      "\u001b[1;31mError\u001b[0m                                     Traceback (most recent call last)",
      "Cell \u001b[1;32mIn[84], line 5\u001b[0m\n\u001b[0;32m      1\u001b[0m \u001b[38;5;66;03m# write a program to do registration.\u001b[39;00m\n\u001b[0;32m      2\u001b[0m \u001b[38;5;66;03m# Write a methods in a class DB to open database connection and insert details in to database table.\u001b[39;00m\n\u001b[0;32m      4\u001b[0m obj1 \u001b[38;5;241m=\u001b[39m DB(\u001b[38;5;124m\"\u001b[39m\u001b[38;5;124mperson\u001b[39m\u001b[38;5;124m\"\u001b[39m)\n\u001b[1;32m----> 5\u001b[0m obj1\u001b[38;5;241m.\u001b[39mcreate_table()\n",
      "Cell \u001b[1;32mIn[82], line 27\u001b[0m, in \u001b[0;36mDB.create_table\u001b[1;34m(self)\u001b[0m\n\u001b[0;32m     24\u001b[0m     \u001b[38;5;28mprint\u001b[39m(\u001b[38;5;124m\"\u001b[39m\u001b[38;5;124mDB error is\u001b[39m\u001b[38;5;124m\"\u001b[39m,err)\n\u001b[0;32m     26\u001b[0m \u001b[38;5;28;01mfinally\u001b[39;00m:\n\u001b[1;32m---> 27\u001b[0m     DB\u001b[38;5;241m.\u001b[39mconnect\u001b[38;5;241m.\u001b[39mclose()\n",
      "File \u001b[1;32m~\\anaconda3\\Lib\\site-packages\\pymysql\\connections.py:409\u001b[0m, in \u001b[0;36mConnection.close\u001b[1;34m(self)\u001b[0m\n\u001b[0;32m    400\u001b[0m \u001b[38;5;250m\u001b[39m\u001b[38;5;124;03m\"\"\"\u001b[39;00m\n\u001b[0;32m    401\u001b[0m \u001b[38;5;124;03mSend the quit message and close the socket.\u001b[39;00m\n\u001b[0;32m    402\u001b[0m \n\u001b[1;32m   (...)\u001b[0m\n\u001b[0;32m    406\u001b[0m \u001b[38;5;124;03m:raise Error: If the connection is already closed.\u001b[39;00m\n\u001b[0;32m    407\u001b[0m \u001b[38;5;124;03m\"\"\"\u001b[39;00m\n\u001b[0;32m    408\u001b[0m \u001b[38;5;28;01mif\u001b[39;00m \u001b[38;5;28mself\u001b[39m\u001b[38;5;241m.\u001b[39m_closed:\n\u001b[1;32m--> 409\u001b[0m     \u001b[38;5;28;01mraise\u001b[39;00m err\u001b[38;5;241m.\u001b[39mError(\u001b[38;5;124m\"\u001b[39m\u001b[38;5;124mAlready closed\u001b[39m\u001b[38;5;124m\"\u001b[39m)\n\u001b[0;32m    410\u001b[0m \u001b[38;5;28mself\u001b[39m\u001b[38;5;241m.\u001b[39m_closed \u001b[38;5;241m=\u001b[39m \u001b[38;5;28;01mTrue\u001b[39;00m\n\u001b[0;32m    411\u001b[0m \u001b[38;5;28;01mif\u001b[39;00m \u001b[38;5;28mself\u001b[39m\u001b[38;5;241m.\u001b[39m_sock \u001b[38;5;129;01mis\u001b[39;00m \u001b[38;5;28;01mNone\u001b[39;00m:\n",
      "\u001b[1;31mError\u001b[0m: Already closed"
     ]
    }
   ],
   "source": [
    "# write a program to do registration.\n",
    "# Write a methods in a class DB to open database connection and insert details in to database table.\n",
    "\n",
    "obj1 = DB(\"person\")\n",
    "obj1.create_table()"
   ]
  },
  {
   "cell_type": "code",
   "execution_count": null,
   "id": "297c91b8",
   "metadata": {},
   "outputs": [],
   "source": []
  }
 ],
 "metadata": {
  "kernelspec": {
   "display_name": "Python 3 (ipykernel)",
   "language": "python",
   "name": "python3"
  },
  "language_info": {
   "codemirror_mode": {
    "name": "ipython",
    "version": 3
   },
   "file_extension": ".py",
   "mimetype": "text/x-python",
   "name": "python",
   "nbconvert_exporter": "python",
   "pygments_lexer": "ipython3",
   "version": "3.11.5"
  }
 },
 "nbformat": 4,
 "nbformat_minor": 5
}
