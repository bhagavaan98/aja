{
 "cells": [
  {
   "cell_type": "code",
   "execution_count": null,
   "id": "dd93343a",
   "metadata": {},
   "outputs": [],
   "source": [
    "x=[2000,[6000,7000]]\n",
    "a=[[[3000,5000,7000],4000,x],1000,2000]\n",
    "b=a[:]\n",
    "d=copy(a)\n",
    "e=a\n",
    "c= deepcopy(a)\n",
    "a[1]=6000\n",
    "a[0][0] = 7000\n",
    "x.append(5000)\n",
    "x[1].append(8000)"
   ]
  },
  {
   "cell_type": "code",
   "execution_count": null,
   "id": "a83cb169",
   "metadata": {},
   "outputs": [],
   "source": [
    "def fun(*args):\n",
    "    print('fun')\n",
    "    "
   ]
  },
  {
   "cell_type": "code",
   "execution_count": null,
   "id": "1d6a0227",
   "metadata": {},
   "outputs": [],
   "source": [
    "class helloo:\n",
    "    def __init__(self,a,b):\n",
    "        self.a=a\n",
    "        self.b=b\n",
    "    def opr(self):\n",
    "        re=self.a+self.b\n",
    "        return re\n",
    "obj = helloo(10,20)\n",
    "obj.   \n"
   ]
  },
  {
   "cell_type": "code",
   "execution_count": 14,
   "id": "a038144c",
   "metadata": {},
   "outputs": [
    {
     "name": "stdout",
     "output_type": "stream",
     "text": [
      "[('rajnish', 9), ('ravi', 10), ('sanjeev', 15), ('suraj', 32), ('yash', 2)]\n"
     ]
    }
   ],
   "source": [
    "yDict = {'ravi': 10, 'rajnish': 9,\n",
    "        'sanjeev': 15, 'yash': 2, 'suraj': 32}\n",
    "sorted_dict=sorted(yDict.items(),key=lambda x:x[0])\n",
    "print(sorted_dict)\n"
   ]
  },
  {
   "cell_type": "code",
   "execution_count": 12,
   "id": "87cccaa7",
   "metadata": {},
   "outputs": [
    {
     "data": {
      "text/plain": [
       "{'yash': 2, 'rajnish': 9, 'ravi': 10, 'sanjeev': 15, 'suraj': 32}"
      ]
     },
     "execution_count": 12,
     "metadata": {},
     "output_type": "execute_result"
    }
   ],
   "source": [
    "dict(sorted_dict)"
   ]
  },
  {
   "cell_type": "code",
   "execution_count": 1,
   "id": "8bf96eac",
   "metadata": {},
   "outputs": [
    {
     "ename": "SyntaxError",
     "evalue": "invalid syntax (206288556.py, line 1)",
     "output_type": "error",
     "traceback": [
      "\u001b[1;36m  Cell \u001b[1;32mIn[1], line 1\u001b[1;36m\u001b[0m\n\u001b[1;33m    x= range(/)\u001b[0m\n\u001b[1;37m             ^\u001b[0m\n\u001b[1;31mSyntaxError\u001b[0m\u001b[1;31m:\u001b[0m invalid syntax\n"
     ]
    }
   ],
   "source": [
    "x= range(/)\n",
    "print(x)"
   ]
  },
  {
   "cell_type": "code",
   "execution_count": 2,
   "id": "5ab5cf2a",
   "metadata": {},
   "outputs": [
    {
     "ename": "SyntaxError",
     "evalue": "unexpected character after line continuation character (4191068170.py, line 1)",
     "output_type": "error",
     "traceback": [
      "\u001b[1;36m  Cell \u001b[1;32mIn[2], line 1\u001b[1;36m\u001b[0m\n\u001b[1;33m    def  fun(x,\\):\u001b[0m\n\u001b[1;37m                ^\u001b[0m\n\u001b[1;31mSyntaxError\u001b[0m\u001b[1;31m:\u001b[0m unexpected character after line continuation character\n"
     ]
    }
   ],
   "source": [
    "def  fun(x,\\):\n",
    "    print(x)"
   ]
  },
  {
   "cell_type": "code",
   "execution_count": 3,
   "id": "56867d87",
   "metadata": {},
   "outputs": [],
   "source": [
    "def get_vs(x):\n",
    "    print('started')\n",
    "     "
   ]
  },
  {
   "cell_type": "code",
   "execution_count": 4,
   "id": "cdfe8cf1",
   "metadata": {},
   "outputs": [
    {
     "name": "stdout",
     "output_type": "stream",
     "text": [
      "<generator object a at 0x0000017D6EEF9010>\n"
     ]
    }
   ],
   "source": [
    "def a():\n",
    "    yield 20\n",
    "    return 10\n",
    "j=a()\n",
    "print(j)"
   ]
  },
  {
   "cell_type": "code",
   "execution_count": 12,
   "id": "e948003a",
   "metadata": {},
   "outputs": [
    {
     "name": "stdout",
     "output_type": "stream",
     "text": [
      "['usr1', 'usr3', 'usr5']\n"
     ]
    }
   ],
   "source": [
    "def sorting_the_order(fun):\n",
    "    def child(*args):\n",
    "        modified_args = [i.upper() for in args]\n",
    "        res = sorted(fun(*modified_args))\n",
    "        return res\n",
    "    return child\n",
    "@sorting_the_order\n",
    "def get_usrs():\n",
    "    return ['usr1','usr5','usr3']\n",
    "j = get_usrs()\n",
    "print(j)\n"
   ]
  },
  {
   "cell_type": "code",
   "execution_count": 8,
   "id": "6f66c7a6",
   "metadata": {},
   "outputs": [
    {
     "name": "stdout",
     "output_type": "stream",
     "text": [
      "14\n",
      "15\n",
      "{'a': 5, 'b': 3, 'c': 2, 'd': 2, 's': 2}\n"
     ]
    }
   ],
   "source": [
    "l = 'ababaabaccddss'\n",
    "d={}\n",
    "xx=l.count('')\n",
    "print(len(l))\n",
    "print(xx)\n",
    "for i in l:\n",
    "    d[i]=l.count(i)\n",
    "print(d)"
   ]
  },
  {
   "cell_type": "code",
   "execution_count": 9,
   "id": "21c63458",
   "metadata": {},
   "outputs": [
    {
     "name": "stdout",
     "output_type": "stream",
     "text": [
      "FjFbFkFjFbFsFkFhFkFhFlFhF\n"
     ]
    }
   ],
   "source": [
    "l='jbkjbskhkhlh'\n",
    "print(l.replace('','F'))"
   ]
  },
  {
   "cell_type": "code",
   "execution_count": 10,
   "id": "5c0971e9",
   "metadata": {},
   "outputs": [
    {
     "name": "stdout",
     "output_type": "stream",
     "text": [
      "True\n"
     ]
    }
   ],
   "source": [
    "print(bool('hgkj'))"
   ]
  },
  {
   "cell_type": "code",
   "execution_count": 11,
   "id": "e1d9ab17",
   "metadata": {},
   "outputs": [
    {
     "name": "stdout",
     "output_type": "stream",
     "text": [
      "False\n"
     ]
    }
   ],
   "source": [
    "print(bool([]))"
   ]
  },
  {
   "cell_type": "code",
   "execution_count": 12,
   "id": "a8c439ba",
   "metadata": {},
   "outputs": [
    {
     "name": "stdout",
     "output_type": "stream",
     "text": [
      "True\n"
     ]
    }
   ],
   "source": [
    "print(bool({'j':4}))"
   ]
  },
  {
   "cell_type": "code",
   "execution_count": 13,
   "id": "9a537423",
   "metadata": {},
   "outputs": [
    {
     "name": "stdout",
     "output_type": "stream",
     "text": [
      "True\n"
     ]
    }
   ],
   "source": [
    "print(bool(-1))"
   ]
  },
  {
   "cell_type": "code",
   "execution_count": 14,
   "id": "5d0cbaf6",
   "metadata": {},
   "outputs": [
    {
     "name": "stdout",
     "output_type": "stream",
     "text": [
      "True\n"
     ]
    }
   ],
   "source": [
    "print(bool(10))"
   ]
  },
  {
   "cell_type": "code",
   "execution_count": 15,
   "id": "c5d2461d",
   "metadata": {},
   "outputs": [
    {
     "name": "stdout",
     "output_type": "stream",
     "text": [
      "True\n"
     ]
    }
   ],
   "source": [
    "print(bool(1.5))"
   ]
  },
  {
   "cell_type": "code",
   "execution_count": 16,
   "id": "afc01a3a",
   "metadata": {},
   "outputs": [
    {
     "name": "stdout",
     "output_type": "stream",
     "text": [
      "True\n"
     ]
    }
   ],
   "source": [
    "print(bool('0'))"
   ]
  },
  {
   "cell_type": "code",
   "execution_count": 17,
   "id": "79a713a1",
   "metadata": {},
   "outputs": [
    {
     "name": "stdout",
     "output_type": "stream",
     "text": [
      "False\n"
     ]
    }
   ],
   "source": [
    "print(bool((0)))"
   ]
  },
  {
   "cell_type": "code",
   "execution_count": 2,
   "id": "96cfddeb",
   "metadata": {},
   "outputs": [
    {
     "name": "stdout",
     "output_type": "stream",
     "text": [
      "kjkhJKKH\n",
      "kjkhjkkh\n"
     ]
    }
   ],
   "source": [
    "a='kjkhJKKH'\n",
    "a.lower()\n",
    "print(a)\n",
    "kk=a.casefold()\n",
    "print(kk)"
   ]
  },
  {
   "cell_type": "code",
   "execution_count": 3,
   "id": "293ea6ab",
   "metadata": {},
   "outputs": [
    {
     "name": "stdout",
     "output_type": "stream",
     "text": [
      "['__add__', '__class__', '__contains__', '__delattr__', '__dir__', '__doc__', '__eq__', '__format__', '__ge__', '__getattribute__', '__getitem__', '__getnewargs__', '__getstate__', '__gt__', '__hash__', '__init__', '__init_subclass__', '__iter__', '__le__', '__len__', '__lt__', '__mod__', '__mul__', '__ne__', '__new__', '__reduce__', '__reduce_ex__', '__repr__', '__rmod__', '__rmul__', '__setattr__', '__sizeof__', '__str__', '__subclasshook__', 'capitalize', 'casefold', 'center', 'count', 'encode', 'endswith', 'expandtabs', 'find', 'format', 'format_map', 'index', 'isalnum', 'isalpha', 'isascii', 'isdecimal', 'isdigit', 'isidentifier', 'islower', 'isnumeric', 'isprintable', 'isspace', 'istitle', 'isupper', 'join', 'ljust', 'lower', 'lstrip', 'maketrans', 'partition', 'removeprefix', 'removesuffix', 'replace', 'rfind', 'rindex', 'rjust', 'rpartition', 'rsplit', 'rstrip', 'split', 'splitlines', 'startswith', 'strip', 'swapcase', 'title', 'translate', 'upper', 'zfill']\n"
     ]
    }
   ],
   "source": [
    "s='kjkj'\n",
    "print(dir(s))"
   ]
  },
  {
   "cell_type": "code",
   "execution_count": 2,
   "id": "ca6c5e3a",
   "metadata": {},
   "outputs": [
    {
     "name": "stdout",
     "output_type": "stream",
     "text": [
      "True\n"
     ]
    }
   ],
   "source": [
    "y='GHJJ%&'\n",
    "print(y.isupper())"
   ]
  },
  {
   "cell_type": "code",
   "execution_count": 8,
   "id": "7263cb85",
   "metadata": {},
   "outputs": [
    {
     "name": "stdout",
     "output_type": "stream",
     "text": [
      "[10, 50, 40, 40]\n"
     ]
    }
   ],
   "source": [
    "s=[10,30,30,50,40,40]\n",
    "for i in s:\n",
    "    if 30 in s:\n",
    "        \n",
    "        s.remove(30)\n",
    "print(s)"
   ]
  },
  {
   "cell_type": "code",
   "execution_count": null,
   "id": "c81d8753",
   "metadata": {},
   "outputs": [],
   "source": []
  }
 ],
 "metadata": {
  "kernelspec": {
   "display_name": "Python 3 (ipykernel)",
   "language": "python",
   "name": "python3"
  },
  "language_info": {
   "codemirror_mode": {
    "name": "ipython",
    "version": 3
   },
   "file_extension": ".py",
   "mimetype": "text/x-python",
   "name": "python",
   "nbconvert_exporter": "python",
   "pygments_lexer": "ipython3",
   "version": "3.11.5"
  }
 },
 "nbformat": 4,
 "nbformat_minor": 5
}
