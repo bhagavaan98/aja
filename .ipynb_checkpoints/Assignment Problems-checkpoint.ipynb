{
 "cells": [
  {
   "cell_type": "code",
   "execution_count": 7,
   "id": "a240544c",
   "metadata": {},
   "outputs": [
    {
     "name": "stdout",
     "output_type": "stream",
     "text": [
      "44\n",
      "10\n",
      "5\n"
     ]
    }
   ],
   "source": [
    "###Assignments on variables expressions and statements\n",
    "\n",
    "##1.\tTake the input from the user for(Total number of people,Number of seats for bus. Based on two inputs\n",
    "##Decide how many number of buses required\n",
    "\n",
    "no_of_people = int(input())\n",
    "no_of_seats = int(input())\n",
    "no_of_bus = no_of_people//no_of_seats\n",
    "if no_of_people%no_of_seats != 0:\n",
    "    no_of_bus += 1\n",
    "print(no_of_bus)\n"
   ]
  },
  {
   "cell_type": "code",
   "execution_count": 13,
   "id": "3d664162",
   "metadata": {},
   "outputs": [
    {
     "name": "stdout",
     "output_type": "stream",
     "text": [
      "100\n",
      "37.77777777777778C\n"
     ]
    }
   ],
   "source": [
    "##2.Take temperature from the user and convert foreign heat -> Celsius.\n",
    "temp_f = float(input())\n",
    "temp_c = (temp_f-32)*(5/9)\n",
    "print(f'{temp_c}C')"
   ]
  },
  {
   "cell_type": "code",
   "execution_count": 12,
   "id": "efad0f5c",
   "metadata": {},
   "outputs": [
    {
     "name": "stdout",
     "output_type": "stream",
     "text": [
      "212\n",
      "413.6F\n"
     ]
    }
   ],
   "source": [
    "##3.Take temperature from the user and convert Celsius → foreign heat.\n",
    "temp_c = float(input())\n",
    "temp_f = temp_c*(9/5)+32\n",
    "print(f'{temp_f}F')"
   ]
  },
  {
   "cell_type": "code",
   "execution_count": 15,
   "id": "ff9406e8",
   "metadata": {},
   "outputs": [
    {
     "name": "stdout",
     "output_type": "stream",
     "text": [
      "1 2 3 4\n",
      "9.0\n",
      "343.0\n",
      "1.25\n",
      "1.118033988749895\n",
      "12.345\n",
      "2.5\n",
      "10.0\n"
     ]
    }
   ],
   "source": [
    "'''\n",
    "4.Take four number from the user (variables name it as x1,x2,x3,x4)\n",
    " Do the below operations\n",
    " (x1+x2)**2, (x3+x4)**3\n",
    "variance\n",
    "standard deviation: sqrt(variance):  User math module. Math.sqrt(variance)\n",
    "Regression\n",
    "\ty=mx+b\n",
    "          m=1.23\n",
    "          b=0.045\n",
    "          find out y\n",
    "          y=m*(x1+x2+x3+x4)+b\n",
    " Find the average of four numbers\n",
    "Find the sum of four numbers\n",
    "\n",
    "'''\n",
    "import math\n",
    "x1,x2,x3,x4 = map(float,input().split())\n",
    "res1 = (x1+x2)**2\n",
    "res2 = (x3+x4)**3\n",
    "mean = (x1+x2+x3+x4)/4\n",
    "varience = ((x1-mean)**2 + (x2-mean)**2 + (x3-mean)**2 + (x4-mean)**2)/4\n",
    "std_dev = math.sqrt(varience)\n",
    "y = 1.23*(x1+x2+x3+x4)+0.045\n",
    "avg = mean\n",
    "sum_of_four = x1+x2+x3+x4\n",
    "print(res1)\n",
    "print(res2)\n",
    "print(varience)\n",
    "print(std_dev)\n",
    "print(y)\n",
    "print(avg)\n",
    "print(sum_of_four)\n"
   ]
  },
  {
   "cell_type": "code",
   "execution_count": 19,
   "id": "e0ff496b",
   "metadata": {},
   "outputs": [
    {
     "name": "stdout",
     "output_type": "stream",
     "text": [
      "43.21\n",
      "The 43.21KM to CM is 4321000.0CM\n",
      "The 43.21KM to M is 43210.0M\n",
      "The 43.21KM to MM is 43210000.0MM\n",
      "The 43.21KM to Cents is 1701182.021\n",
      "The 43.21KM to Feets is 141765.0964\n",
      "The 43.21KM to Yards is 47254.8881\n"
     ]
    }
   ],
   "source": [
    "## 5.Take the distance in km\n",
    "##  \tShow that in cm, meters, in milli meters, cents, feets, yards\n",
    "distance_km = float(input())\n",
    "print(f\"The {distance_km}KM to CM is {distance_km*100000}CM\")\n",
    "print(f\"The {distance_km}KM to M is {distance_km*1000}M\")\n",
    "print(f\"The {distance_km}KM to MM is {distance_km*1000000}MM\")\n",
    "print(f\"The {distance_km}KM to Cents is {distance_km*39370.1}\")\n",
    "print(f\"The {distance_km}KM to Feets is {distance_km*3280.84}\")\n",
    "print(f\"The {distance_km}KM to Yards is {distance_km*1093.61}\")\n"
   ]
  },
  {
   "cell_type": "code",
   "execution_count": 22,
   "id": "bef9f34e",
   "metadata": {},
   "outputs": [
    {
     "name": "stdout",
     "output_type": "stream",
     "text": [
      "Enter size in GB:- 122\n",
      "The size in 122.0GB to MB is 122000.0MB\n",
      "The size in 122.0GB to KB is 122000000.0MB\n",
      "The size in 122.0GB to TB is 0.122TB\n",
      "The size in 122.0GB to PB is 0.000122PB\n"
     ]
    }
   ],
   "source": [
    "## 6.Take the size of your hard disk in GB\n",
    "##   \tShow that in MB, KB, TB, PB\n",
    "disk_size = float(input(\"Enter size in GB:- \"))\n",
    "print(f'The size in {disk_size}GB to MB is {disk_size*1000}MB')\n",
    "print(f'The size in {disk_size}GB to KB is {disk_size*1000000}MB')\n",
    "print(f'The size in {disk_size}GB to TB is {disk_size*0.001}TB')\n",
    "print(f'The size in {disk_size}GB to PB is {disk_size/1000000}PB')\n",
    "\n"
   ]
  },
  {
   "cell_type": "code",
   "execution_count": 25,
   "id": "396bdf08",
   "metadata": {},
   "outputs": [
    {
     "name": "stdout",
     "output_type": "stream",
     "text": [
      "john 32 5.1\n",
      "The details of the person: Name:john, age:32, height:5.1\n"
     ]
    }
   ],
   "source": [
    "'''\n",
    "7. Take name, age, height from the user and print like below\n",
    "The details of the person: Name:name of the person, Age:age of the person, Height:height of the person\n",
    "Note: make sure that no space between : and a value and should be space after “COMA”\n",
    "'''\n",
    "name,age,height = map(str,input().split())\n",
    "print(f'The details of the person: Name:{name}, age:{age}, height:{height}')\n"
   ]
  },
  {
   "cell_type": "code",
   "execution_count": 27,
   "id": "9e22d298",
   "metadata": {},
   "outputs": [
    {
     "name": "stdout",
     "output_type": "stream",
     "text": [
      "Enter your height:- 5.2\n",
      "Enter your weight:- 66\n",
      "The BMI of yours is 2.4408284023668636\n"
     ]
    }
   ],
   "source": [
    "##8. BMI calculation: take required parameters for BMI calculation from the user and calculate BMI of the person.\n",
    "height = float(input(\"Enter your height:- \"))\n",
    "weight = float(input(\"Enter your weight:- \"))\n",
    "bmi = weight/(height**2) \n",
    "print(\"The BMI of yours is\", bmi)\n"
   ]
  },
  {
   "cell_type": "code",
   "execution_count": 1,
   "id": "2b180cab",
   "metadata": {},
   "outputs": [
    {
     "name": "stdout",
     "output_type": "stream",
     "text": [
      "Name: Jayaram, Age: 1.600000, Height: 3.535623, Weight: 10.343857\n"
     ]
    }
   ],
   "source": [
    "'''\n",
    "9.name=\"Jayaram\"\n",
    "age=1.6\n",
    "height=3.5356234\n",
    "weight=10.343856783\n",
    "By using above inputs print the output\n",
    "Name:Jayaram, Age:1.6, Height:3.54, Weight:10.344\n",
    "Note: Use format specifiers(%s, %d, %f)\n",
    "'''\n",
    "\n",
    "name=\"Jayaram\"\n",
    "age=1.6\n",
    "height=3.5356234\n",
    "weight=10.343856783\n",
    "info = \"Name: %s, Age: %1f, Height: %2f, Weight: %3f\"%(name, age, height, weight)\n",
    "print(info)\n",
    "\n"
   ]
  },
  {
   "cell_type": "code",
   "execution_count": 2,
   "id": "10c02816",
   "metadata": {},
   "outputs": [
    {
     "name": "stdout",
     "output_type": "stream",
     "text": [
      "Enter Three Upper Case Letters:- AAA\n",
      "aaa\n"
     ]
    }
   ],
   "source": [
    "# 10. Take three upper case letters from the user convert in to small case.\n",
    "letter = input(\"Enter Three Upper Case Letters:- \")\n",
    "print(letter.lower())"
   ]
  },
  {
   "cell_type": "code",
   "execution_count": 3,
   "id": "1bdc9aa9",
   "metadata": {},
   "outputs": [
    {
     "name": "stdout",
     "output_type": "stream",
     "text": [
      "Enter base value:- 2\n",
      "Enter exponent value:- 11\n",
      "base=2, exponent=11: 2^11\n"
     ]
    }
   ],
   "source": [
    "# 11.Take base and exponent value from the user and print like in mathematics:\n",
    "# example: base=2, exponent=3: 23\n",
    "base = input(\"Enter base value:- \")\n",
    "exponent = input(\"Enter exponent value:- \")\n",
    "ex = f'base={base}, exponent={exponent}: {base}^{exponent}'\n",
    "print(ex)\n"
   ]
  },
  {
   "cell_type": "code",
   "execution_count": 4,
   "id": "6343302a",
   "metadata": {},
   "outputs": [
    {
     "name": "stdout",
     "output_type": "stream",
     "text": [
      "Total cost:- 268\n",
      "Average cost:- 26.8\n",
      "Max cost:- 55\n"
     ]
    }
   ],
   "source": [
    "# 12. Take some groceries cost prices and print total cost and average cost, what is the max cost, what is the minimum cost.\n",
    "cost_prices = [20,10,30,8,30,33,44,55,9,29]\n",
    "total_cost = sum(cost_prices)\n",
    "avg_cost = total_cost / len(cost_prices)\n",
    "max_cost = max(cost_prices)\n",
    "min_cost = min(cost_prices)\n",
    "print(\"Total cost:-\", total_cost)\n",
    "print(\"Average cost:-\", avg_cost)\n",
    "print(\"Max cost:-\", max_cost)"
   ]
  },
  {
   "cell_type": "code",
   "execution_count": 5,
   "id": "4d0e03ab",
   "metadata": {},
   "outputs": [
    {
     "name": "stdout",
     "output_type": "stream",
     "text": [
      "Enter value:- 11\n",
      "enter value:- 11\n",
      "Not ten\n"
     ]
    }
   ],
   "source": [
    "# Variable Assignments:\n",
    "\n",
    "# 13. Assign “ten” value to variable it is 10 otherwise assign “Not ten”\n",
    "# Note: write two versions of program\n",
    "# Version1: use and operator\n",
    "# Version2: use or operator\n",
    "\n",
    "v1 = int(input(\"Enter value:- \"))\n",
    "v2 = int(input(\"enter value:- \"))\n",
    "if v1 == 10 and v2 == 10:\n",
    "    print(\"ten\")\n",
    "else:\n",
    "    print(\"Not ten\")"
   ]
  },
  {
   "cell_type": "code",
   "execution_count": 6,
   "id": "83b77173",
   "metadata": {},
   "outputs": [
    {
     "name": "stdout",
     "output_type": "stream",
     "text": [
      "Enter value:- 22\n",
      "enter value:- 22\n",
      "Not ten\n"
     ]
    }
   ],
   "source": [
    "v1 = int(input(\"Enter value:- \"))\n",
    "v2 = int(input(\"enter value:- \"))\n",
    "if v1 == 10 or v2 == 10:\n",
    "    print(\"ten\")\n",
    "else:\n",
    "    print(\"Not ten\")"
   ]
  },
  {
   "cell_type": "code",
   "execution_count": null,
   "id": "9a822d83",
   "metadata": {},
   "outputs": [],
   "source": [
    "# Conditional statements\n",
    "\n",
    "# 13. Take the input from the user for(Total number of people, total number of buses, Number of seats\n",
    "#     for bus, adjust factor). Based on four inputs\n",
    "#     Decide whether there is sufficient buses or not and give solution for how many extra buses required.\n",
    "\n",
    "people = int(input(\"Enter number of people\"))\n",
    "buses = int(input(\"Enter number of buses\"))\n",
    "seats = int(input(\"Enter number of\"))"
   ]
  }
 ],
 "metadata": {
  "kernelspec": {
   "display_name": "Python 3 (ipykernel)",
   "language": "python",
   "name": "python3"
  },
  "language_info": {
   "codemirror_mode": {
    "name": "ipython",
    "version": 3
   },
   "file_extension": ".py",
   "mimetype": "text/x-python",
   "name": "python",
   "nbconvert_exporter": "python",
   "pygments_lexer": "ipython3",
   "version": "3.11.5"
  }
 },
 "nbformat": 4,
 "nbformat_minor": 5
}
