{
 "cells": [
  {
   "cell_type": "markdown",
   "id": "8b9d880e",
   "metadata": {},
   "source": [
    "# Assignments on variables expressions and statements"
   ]
  },
  {
   "cell_type": "code",
   "execution_count": 56,
   "id": "42a067d2",
   "metadata": {},
   "outputs": [
    {
     "name": "stdout",
     "output_type": "stream",
     "text": [
      "34\n",
      "21\n",
      "2\n"
     ]
    }
   ],
   "source": [
    "##1.\tTake the input from the user for(Total number of people,Number of seats for bus. Based on two inputs\n",
    "##Decide how many number of buses required\n",
    "\n",
    "no_of_people = int(input())\n",
    "no_of_seats = int(input())\n",
    "no_of_bus = no_of_people//no_of_seats\n",
    "if no_of_people%no_of_seats != 0:\n",
    "    no_of_bus += 1\n",
    "print(no_of_bus)"
   ]
  },
  {
   "cell_type": "code",
   "execution_count": 13,
   "id": "3d664162",
   "metadata": {},
   "outputs": [
    {
     "name": "stdout",
     "output_type": "stream",
     "text": [
      "100\n",
      "37.77777777777778C\n"
     ]
    }
   ],
   "source": [
    "##2.Take temperature from the user and convert foreign heat -> Celsius.\n",
    "temp_f = float(input())\n",
    "temp_c = (temp_f-32)*(5/9)\n",
    "print(f'{temp_c}C')"
   ]
  },
  {
   "cell_type": "code",
   "execution_count": 12,
   "id": "efad0f5c",
   "metadata": {},
   "outputs": [
    {
     "name": "stdout",
     "output_type": "stream",
     "text": [
      "212\n",
      "413.6F\n"
     ]
    }
   ],
   "source": [
    "##3.Take temperature from the user and convert Celsius → foreign heat.\n",
    "temp_c = float(input())\n",
    "temp_f = temp_c*(9/5)+32\n",
    "print(f'{temp_f}F')"
   ]
  },
  {
   "cell_type": "code",
   "execution_count": 15,
   "id": "ff9406e8",
   "metadata": {},
   "outputs": [
    {
     "name": "stdout",
     "output_type": "stream",
     "text": [
      "1 2 3 4\n",
      "9.0\n",
      "343.0\n",
      "1.25\n",
      "1.118033988749895\n",
      "12.345\n",
      "2.5\n",
      "10.0\n"
     ]
    }
   ],
   "source": [
    "'''\n",
    "4.Take four number from the user (variables name it as x1,x2,x3,x4)\n",
    " Do the below operations\n",
    " (x1+x2)**2, (x3+x4)**3\n",
    "variance\n",
    "standard deviation: sqrt(variance):  User math module. Math.sqrt(variance)\n",
    "Regression\n",
    "\ty=mx+b\n",
    "          m=1.23\n",
    "          b=0.045\n",
    "          find out y\n",
    "          y=m*(x1+x2+x3+x4)+b\n",
    " Find the average of four numbers\n",
    "Find the sum of four numbers\n",
    "\n",
    "'''\n",
    "import math\n",
    "x1,x2,x3,x4 = map(float,input().split())\n",
    "res1 = (x1+x2)**2\n",
    "res2 = (x3+x4)**3\n",
    "mean = (x1+x2+x3+x4)/4\n",
    "varience = ((x1-mean)**2 + (x2-mean)**2 + (x3-mean)**2 + (x4-mean)**2)/4\n",
    "std_dev = math.sqrt(varience)\n",
    "y = 1.23*(x1+x2+x3+x4)+0.045\n",
    "avg = mean\n",
    "sum_of_four = x1+x2+x3+x4\n",
    "print(res1)\n",
    "print(res2)\n",
    "print(varience)\n",
    "print(std_dev)\n",
    "print(y)\n",
    "print(avg)\n",
    "print(sum_of_four)\n"
   ]
  },
  {
   "cell_type": "code",
   "execution_count": 19,
   "id": "e0ff496b",
   "metadata": {},
   "outputs": [
    {
     "name": "stdout",
     "output_type": "stream",
     "text": [
      "43.21\n",
      "The 43.21KM to CM is 4321000.0CM\n",
      "The 43.21KM to M is 43210.0M\n",
      "The 43.21KM to MM is 43210000.0MM\n",
      "The 43.21KM to Cents is 1701182.021\n",
      "The 43.21KM to Feets is 141765.0964\n",
      "The 43.21KM to Yards is 47254.8881\n"
     ]
    }
   ],
   "source": [
    "## 5.Take the distance in km\n",
    "##  \tShow that in cm, meters, in milli meters, cents, feets, yards\n",
    "distance_km = float(input())\n",
    "print(f\"The {distance_km}KM to CM is {distance_km*100000}CM\")\n",
    "print(f\"The {distance_km}KM to M is {distance_km*1000}M\")\n",
    "print(f\"The {distance_km}KM to MM is {distance_km*1000000}MM\")\n",
    "print(f\"The {distance_km}KM to Cents is {distance_km*39370.1}\")\n",
    "print(f\"The {distance_km}KM to Feets is {distance_km*3280.84}\")\n",
    "print(f\"The {distance_km}KM to Yards is {distance_km*1093.61}\")\n"
   ]
  },
  {
   "cell_type": "code",
   "execution_count": 22,
   "id": "bef9f34e",
   "metadata": {},
   "outputs": [
    {
     "name": "stdout",
     "output_type": "stream",
     "text": [
      "Enter size in GB:- 122\n",
      "The size in 122.0GB to MB is 122000.0MB\n",
      "The size in 122.0GB to KB is 122000000.0MB\n",
      "The size in 122.0GB to TB is 0.122TB\n",
      "The size in 122.0GB to PB is 0.000122PB\n"
     ]
    }
   ],
   "source": [
    "## 6.Take the size of your hard disk in GB\n",
    "##   \tShow that in MB, KB, TB, PB\n",
    "disk_size = float(input(\"Enter size in GB:- \"))\n",
    "print(f'The size in {disk_size}GB to MB is {disk_size*1000}MB')\n",
    "print(f'The size in {disk_size}GB to KB is {disk_size*1000000}MB')\n",
    "print(f'The size in {disk_size}GB to TB is {disk_size*0.001}TB')\n",
    "print(f'The size in {disk_size}GB to PB is {disk_size/1000000}PB')\n",
    "\n"
   ]
  },
  {
   "cell_type": "code",
   "execution_count": 25,
   "id": "396bdf08",
   "metadata": {},
   "outputs": [
    {
     "name": "stdout",
     "output_type": "stream",
     "text": [
      "john 32 5.1\n",
      "The details of the person: Name:john, age:32, height:5.1\n"
     ]
    }
   ],
   "source": [
    "'''\n",
    "7. Take name, age, height from the user and print like below\n",
    "The details of the person: Name:name of the person, Age:age of the person, Height:height of the person\n",
    "Note: make sure that no space between : and a value and should be space after “COMA”\n",
    "'''\n",
    "name,age,height = map(str,input().split())\n",
    "print(f'The details of the person: Name:{name}, age:{age}, height:{height}')\n"
   ]
  },
  {
   "cell_type": "code",
   "execution_count": 27,
   "id": "9e22d298",
   "metadata": {},
   "outputs": [
    {
     "name": "stdout",
     "output_type": "stream",
     "text": [
      "Enter your height:- 5.2\n",
      "Enter your weight:- 66\n",
      "The BMI of yours is 2.4408284023668636\n"
     ]
    }
   ],
   "source": [
    "##8. BMI calculation: take required parameters for BMI calculation from the user and calculate BMI of the person.\n",
    "height = float(input(\"Enter your height:- \"))\n",
    "weight = float(input(\"Enter your weight:- \"))\n",
    "bmi = weight/(height**2) \n",
    "print(\"The BMI of yours is\", bmi)\n"
   ]
  },
  {
   "cell_type": "code",
   "execution_count": 1,
   "id": "2b180cab",
   "metadata": {},
   "outputs": [
    {
     "name": "stdout",
     "output_type": "stream",
     "text": [
      "Name: Jayaram, Age: 1.600000, Height: 3.535623, Weight: 10.343857\n"
     ]
    }
   ],
   "source": [
    "'''\n",
    "9.name=\"Jayaram\"\n",
    "age=1.6\n",
    "height=3.5356234\n",
    "weight=10.343856783\n",
    "By using above inputs print the output\n",
    "Name:Jayaram, Age:1.6, Height:3.54, Weight:10.344\n",
    "Note: Use format specifiers(%s, %d, %f)\n",
    "'''\n",
    "\n",
    "name=\"Jayaram\"\n",
    "age=1.6\n",
    "height=3.5356234\n",
    "weight=10.343856783\n",
    "info = \"Name: %s, Age: %1f, Height: %2f, Weight: %3f\"%(name, age, height, weight)\n",
    "print(info)\n",
    "\n"
   ]
  },
  {
   "cell_type": "code",
   "execution_count": 2,
   "id": "10c02816",
   "metadata": {},
   "outputs": [
    {
     "name": "stdout",
     "output_type": "stream",
     "text": [
      "Enter Three Upper Case Letters:- AAA\n",
      "aaa\n"
     ]
    }
   ],
   "source": [
    "# 10. Take three upper case letters from the user convert in to small case.\n",
    "letter = input(\"Enter Three Upper Case Letters:- \")\n",
    "print(letter.lower())"
   ]
  },
  {
   "cell_type": "code",
   "execution_count": 3,
   "id": "1bdc9aa9",
   "metadata": {},
   "outputs": [
    {
     "name": "stdout",
     "output_type": "stream",
     "text": [
      "Enter base value:- 2\n",
      "Enter exponent value:- 11\n",
      "base=2, exponent=11: 2^11\n"
     ]
    }
   ],
   "source": [
    "# 11.Take base and exponent value from the user and print like in mathematics:\n",
    "# example: base=2, exponent=3: 23\n",
    "base = input(\"Enter base value:- \")\n",
    "exponent = input(\"Enter exponent value:- \")\n",
    "ex = f'base={base}, exponent={exponent}: {base}^{exponent}'\n",
    "print(ex)\n"
   ]
  },
  {
   "cell_type": "code",
   "execution_count": 4,
   "id": "6343302a",
   "metadata": {},
   "outputs": [
    {
     "name": "stdout",
     "output_type": "stream",
     "text": [
      "Total cost:- 268\n",
      "Average cost:- 26.8\n",
      "Max cost:- 55\n"
     ]
    }
   ],
   "source": [
    "# 12. Take some groceries cost prices and print total cost and average cost, what is the max cost, what is the minimum cost.\n",
    "cost_prices = [20,10,30,8,30,33,44,55,9,29]\n",
    "total_cost = sum(cost_prices)\n",
    "avg_cost = total_cost / len(cost_prices)\n",
    "max_cost = max(cost_prices)\n",
    "min_cost = min(cost_prices)\n",
    "print(\"Total cost:-\", total_cost)\n",
    "print(\"Average cost:-\", avg_cost)\n",
    "print(\"Max cost:-\", max_cost)"
   ]
  },
  {
   "cell_type": "markdown",
   "id": "39f67aea",
   "metadata": {},
   "source": [
    "# Variable Assignments:"
   ]
  },
  {
   "cell_type": "code",
   "execution_count": 6,
   "id": "4d0e03ab",
   "metadata": {},
   "outputs": [
    {
     "name": "stdout",
     "output_type": "stream",
     "text": [
      "Enter value:- 10\n",
      "enter value:- 0\n",
      "Not ten\n"
     ]
    }
   ],
   "source": [
    "# 13. Assign “ten” value to variable it is 10 otherwise assign “Not ten”\n",
    "# Note: write two versions of program\n",
    "# Version1: use and operator\n",
    "# Version2: use or operator\n",
    "\n",
    "\n",
    "\n",
    "v1 = int(input(\"Enter value:- \"))\n",
    "v2 = int(input(\"enter value:- \"))\n",
    "if v1 and v2:\n",
    "    print(\"ten\")\n",
    "else:\n",
    "    print(\"Not ten\")\n",
    "    "
   ]
  },
  {
   "cell_type": "code",
   "execution_count": 7,
   "id": "83b77173",
   "metadata": {},
   "outputs": [
    {
     "name": "stdout",
     "output_type": "stream",
     "text": [
      "Enter value:- 10\n",
      "enter value:- 0\n",
      "ten\n"
     ]
    }
   ],
   "source": [
    "v1 = int(input(\"Enter value:- \"))\n",
    "v2 = int(input(\"enter value:- \"))\n",
    "if v1 or v2:\n",
    "    print(\"ten\")\n",
    "else:\n",
    "    print(\"Not ten\")"
   ]
  },
  {
   "cell_type": "markdown",
   "id": "29e8c770",
   "metadata": {},
   "source": [
    "# Conditional statements"
   ]
  },
  {
   "cell_type": "code",
   "execution_count": 4,
   "id": "9a822d83",
   "metadata": {},
   "outputs": [
    {
     "name": "stdout",
     "output_type": "stream",
     "text": [
      "Enter number of people:- 200\n",
      "Enter number of buses:- 2\n",
      "Enter number of seats:- 32\n",
      "Enter adjust factor:- 12\n",
      "6\n",
      "No Sufficient buses\n",
      "5 buses are required\n"
     ]
    }
   ],
   "source": [
    "# 13. Take the input from the user for(Total number of people, total number of buses, Number of seats\n",
    "#     for bus, adjust factor). Based on four inputs\n",
    "#     Decide whether there is sufficient buses or not and give solution for how many extra buses required.\n",
    "\n",
    "people = int(input(\"Enter number of people:- \"))\n",
    "buses = int(input(\"Enter number of buses:- \"))\n",
    "seats = int(input(\"Enter number of seats:- \"))\n",
    "factor = int(input(\"Enter adjust factor:- \"))\n",
    "\n",
    "#seats_per_bus = seats//buses\n",
    "no_of_buses = (people+factor)//(seats)\n",
    "print(no_of_buses)\n",
    "if (people+factor)%seats != 0:\n",
    "    no_of_buses += 1\n",
    "    \n",
    "    if buses > no_of_buses:\n",
    "        print(f\"{no_of_buses} buses required but\")\n",
    "        print(f\"{buses-no_of_buses} extra buses are their\")\n",
    "    else:\n",
    "        print(\"No Sufficient buses\")\n",
    "        print(f\"{no_of_buses-buses} buses are required\")\n",
    "        \n",
    "else:\n",
    "    print(\"Sufficient buses\")\n",
    "    \n",
    "\n",
    "    \n"
   ]
  },
  {
   "cell_type": "code",
   "execution_count": null,
   "id": "cc9ed6b3",
   "metadata": {},
   "outputs": [],
   "source": []
  },
  {
   "cell_type": "code",
   "execution_count": 7,
   "id": "ed3a9ec7",
   "metadata": {},
   "outputs": [
    {
     "name": "stdout",
     "output_type": "stream",
     "text": [
      "Enter a value:- 33\n",
      "ODD\n"
     ]
    }
   ],
   "source": [
    "# 14.Take number from the user decide whether it is even or odd.\n",
    "\n",
    "value = int(input(\"Enter a value:- \"))\n",
    "if value%2 == 0:\n",
    "    print(\"EVEN\")\n",
    "else:\n",
    "    print(\"ODD\")"
   ]
  },
  {
   "cell_type": "code",
   "execution_count": 10,
   "id": "b456645c",
   "metadata": {},
   "outputs": [
    {
     "name": "stdout",
     "output_type": "stream",
     "text": [
      "-32\n",
      "Negative number\n"
     ]
    }
   ],
   "source": [
    "# 15.take number from the user decide whether it is positive number or negative number\n",
    "\n",
    "num = input()\n",
    "if num[0] == \"-\":\n",
    "    print(\"Negative number\")\n",
    "else:\n",
    "    print(\"Positive number\")"
   ]
  },
  {
   "cell_type": "code",
   "execution_count": 14,
   "id": "aaecc107",
   "metadata": {},
   "outputs": [
    {
     "name": "stdout",
     "output_type": "stream",
     "text": [
      "Enter a word:- \n"
     ]
    },
    {
     "data": {
      "text/plain": [
       "'Error'"
      ]
     },
     "execution_count": 14,
     "metadata": {},
     "output_type": "execute_result"
    }
   ],
   "source": [
    "# 16.take a string from the user print the length. if the user not given anything then show an error message\n",
    "\n",
    "string = input(\"Enter a word:- \")\n",
    "len_string = len(string)\n",
    "print(len_string) if len_string else \"Error\"\n",
    "    "
   ]
  },
  {
   "cell_type": "code",
   "execution_count": 23,
   "id": "1e5b1652",
   "metadata": {},
   "outputs": [
    {
     "name": "stdout",
     "output_type": "stream",
     "text": [
      "Enter number1:- 32\n",
      "Enter number2:- 12\n",
      "1. ADD\n",
      "2. SUB\n",
      "3. MUL\n",
      "4. DIV\n",
      "5. Quit \n",
      "Enter above options to perform a operation:- \n",
      "You are quited\n"
     ]
    }
   ],
   "source": [
    "'''\n",
    "17.Code to perform mathematical operations. take two numbers from the user and show the below menu\n",
    "   1. add,\n",
    "   2. sub,\n",
    "   3. mul,\n",
    "   4.div,\n",
    "   5.quit\n",
    "  Enter an option:\n",
    "  based on the option need to perform an operations\n",
    "'''\n",
    "\n",
    "num1 = float(input(\"Enter number1:- \"))\n",
    "num2 = float(input(\"Enter number2:- \"))\n",
    "print(\"1. ADD\\n2. SUB\\n3. MUL\\n4. DIV\\n5. Quit \")\n",
    "user = input(\"Enter an option to perform a operation:- \")\n",
    "\n",
    "if user == '1':\n",
    "    print(num1+num2)\n",
    "elif user == '2':\n",
    "    print(num1-num2)\n",
    "elif user == '3':\n",
    "    print(num1*num2)\n",
    "elif user == '4':\n",
    "    print(num1/num2)\n",
    "else:\n",
    "    print(\"You are quited\")"
   ]
  },
  {
   "cell_type": "code",
   "execution_count": 28,
   "id": "b6852b25",
   "metadata": {},
   "outputs": [
    {
     "name": "stdout",
     "output_type": "stream",
     "text": [
      "1. Kids\n",
      "2. Men's\n",
      "3. Women's\n",
      "Enter an option:- 2\n",
      "You are a gentlemen\n"
     ]
    }
   ],
   "source": [
    "'''\n",
    "18. show the menu:\n",
    "    1. kids\n",
    "    2. Men's\n",
    "    3. Women's\n",
    "    Show the corresponding message based on the selection.\n",
    "    Option:1: you are a kid\n",
    "    2: you are a gentlemen\n",
    "    3: you are a good women\n",
    "    Mention error message if the option value >3.\n",
    "'''\n",
    "\n",
    "print(\"1. Kids\\n2. Men's\\n3. Women's\")\n",
    "user = input(\"Enter an option:- \")\n",
    "if user == \"1\":\n",
    "    print(\"You are a Kid\")\n",
    "elif user == \"2\":\n",
    "    print(\"You are a gentlemen\")\n",
    "elif user == \"3\":\n",
    "    print(\"You are a good women\")\n",
    "else:\n",
    "    print(\"Error\")\n"
   ]
  },
  {
   "cell_type": "code",
   "execution_count": 29,
   "id": "b05c8d17",
   "metadata": {},
   "outputs": [
    {
     "name": "stdout",
     "output_type": "stream",
     "text": [
      "Enter a string:- the python is powerfull language\n",
      "Enter a sub-string:- is\n",
      "YES\n"
     ]
    }
   ],
   "source": [
    "'''\n",
    "19. Write a program to chcek given substring is there in actual string or not?\n",
    "    example: act=\"python is a pure object oriented programing language\"\n",
    "    heck whether “pure” is there in act or not.\n",
    "    Note: Use in operator\n",
    "'''\n",
    "\n",
    "string = input(\"Enter a string:- \")\n",
    "sub_string = input(\"Enter a sub-string:- \")\n",
    "\n",
    "if sub_string in string:\n",
    "    print(\"YES\")\n",
    "else:\n",
    "    print(\"NO\")\n"
   ]
  },
  {
   "cell_type": "code",
   "execution_count": 37,
   "id": "e574eebd",
   "metadata": {},
   "outputs": [
    {
     "name": "stdout",
     "output_type": "stream",
     "text": [
      "Enter three values separated by space:- 0 0 1\n",
      "1\n"
     ]
    }
   ],
   "source": [
    "# 20. Take three numbers from the user and decide which is big\n",
    "v1,v2,v3 = map(int, input(\"Enter three values separated by space:- \").split())\n",
    "\n",
    "big = 0\n",
    "\n",
    "if v1 > v2 and v1 > v3:\n",
    "    big = v1\n",
    "elif v2 > v1 and v2 > v3:\n",
    "    big = v2\n",
    "else:\n",
    "    big = v3\n",
    "print(big)\n"
   ]
  },
  {
   "cell_type": "code",
   "execution_count": 41,
   "id": "7b140e87",
   "metadata": {},
   "outputs": [
    {
     "name": "stdout",
     "output_type": "stream",
     "text": [
      "Enter your age:- 24\n",
      "Enter your gender:- men\n",
      "Not eligible for marriage in India\n"
     ]
    }
   ],
   "source": [
    "# 21. Take age and gender from the user and decide whether he is eligible for marriage in India or not.\n",
    "# Age criteria: men age>24, women>21\n",
    "\n",
    "user_age = int(input(\"Enter your age:- \"))\n",
    "gender = input(\"Enter your gender:- \")\n",
    "\n",
    "if gender == \"men\":\n",
    "    if user_age > 24 :\n",
    "        print(\"Eligible for marriage in India\")\n",
    "    else:\n",
    "        print(\"Not eligible for marriage in India\")\n",
    "elif gender == \"women\":\n",
    "    if user_age > 21 :\n",
    "        print(\"Eligible for marriage in India\")\n",
    "    else:\n",
    "        print(\"Not eligible for marriage in India\")\n",
    "    \n",
    "        \n",
    "    "
   ]
  },
  {
   "cell_type": "code",
   "execution_count": 45,
   "id": "ccad73ac",
   "metadata": {},
   "outputs": [
    {
     "name": "stdout",
     "output_type": "stream",
     "text": [
      "Enter your age:- 3\n",
      "Enter your gender:- women\n",
      "Not eligible\n"
     ]
    }
   ],
   "source": [
    "'''\n",
    "22. Take an age and gender from the user: and mention that what he/she can do in india.\n",
    "    conditions\n",
    "       1. Theatre: 5 for men 7 for women\n",
    "       2. Voting system: 18 for men and women\n",
    "       3. Marriage in india: 23 for men and for women >21\n",
    "       4. For govt jobs: (min:18, max:32) for men and (min:18, max:34) for women\n",
    "       5. For driving licence: (min:18, max:60) for men and women\n",
    "    Eligibility:\n",
    "       1. theatre\n",
    "       2. Voting system\n",
    "       3. Marriage in india\n",
    "       4. For govt obs\n",
    "       5. For driving licence:\n",
    "    Enter an option:\n",
    "       Gender:\n",
    "       1. men\n",
    "       2. women\n",
    "    Enter an option:\n",
    "    Enter an age of person:\n",
    "'''\n",
    "\n",
    "age = int(input(\"Enter your age:- \"))\n",
    "gender = input(\"Enter your gender:- \")\n",
    "\n",
    "if gender == \"men\":\n",
    "    if age >= 5:\n",
    "        print(\"He can eligible for theatre in India\")\n",
    "    if age >= 18:\n",
    "        print(\"He can eligible for voting system in India\")\n",
    "    if age >= 23:\n",
    "        print(\"He can eligible for marriage in India\")\n",
    "    if age >= 18 and age <= 32:\n",
    "        print(\"He can eligible for government jobs in India\")\n",
    "    if age >=18 and age <= 60:\n",
    "        print(\"He can eligible for driving licence in India\")\n",
    "    else:\n",
    "        print(\"Not eligible\")\n",
    "elif gender == \"women\":\n",
    "    if age >= 7:\n",
    "        print(\"He can eligible for theatre in India\")\n",
    "    if age >= 18:\n",
    "        print(\"He can eligible for voting system in India\")\n",
    "    if age >= 21:\n",
    "        print(\"He can eligible for marriage in India\")\n",
    "    if age >= 18 and age <= 34:\n",
    "        print(\"He can eligible for government jobs in India\")\n",
    "    if age >=18 and age <= 60:\n",
    "        print(\"He can eligible for driving licence in India\")\n",
    "    else:\n",
    "        print(\"Not eligible\")"
   ]
  },
  {
   "cell_type": "code",
   "execution_count": 46,
   "id": "21679d87",
   "metadata": {},
   "outputs": [
    {
     "name": "stdout",
     "output_type": "stream",
     "text": [
      "Enter an option:- 3\n",
      "Goto third floor and buy mac laptop or iphones\n"
     ]
    }
   ],
   "source": [
    "'''\n",
    "23. Operating systems:\n",
    "      1.windows\n",
    "      2.android\n",
    "      3.mac\n",
    "    Enter an option:\n",
    "      If the user enters 1 then show \"Goto first floor and buy windows laptop or mobile\"\n",
    "      If the user enters 2 then show \"Goto second floor and buy adroid mobiles\"\n",
    "      If the user enters 3 then show \"Goto third floor and buy mac laptop or iphones\"\n",
    "      If the user enters other than 1 or 2 or 3 then show \"There is only three floors, please select 1 or 2 or 3\"\n",
    "'''\n",
    "\n",
    "user = int(input(\"Enter an option:- \"))\n",
    "if user == 1:\n",
    "    print(\"Goto first floor and buy windows laptop or mobile\")\n",
    "elif user == 2:\n",
    "    print(\"Goto third floor and buy mac laptop or iphones\")\n",
    "elif user == 3:\n",
    "    print(\"Goto third floor and buy mac laptop or iphones\")\n",
    "else:\n",
    "    print(\"There is only three floors, please select 1 or 2 or 3\")\n"
   ]
  },
  {
   "cell_type": "code",
   "execution_count": 50,
   "id": "85dc057b",
   "metadata": {},
   "outputs": [
    {
     "name": "stdout",
     "output_type": "stream",
     "text": [
      "Enter your age:- 24\n",
      "adult\n"
     ]
    }
   ],
   "source": [
    "# 24.Given an age, figure out whether someone's a baby, toddler, child, teenager, adult or old codger.\n",
    "\n",
    "age = int(input(\"Enter your age:- \"))\n",
    "if age <= 1:\n",
    "    print(\"bady\")\n",
    "elif age > 1 and age <=5:\n",
    "    print(\"toddler\")\n",
    "elif age > 5 and age <=12:\n",
    "    print(\"Child\")\n",
    "elif age > 13 and age <= 19:\n",
    "    print(\"teenage\")\n",
    "elif age > 20 and age <= 34:\n",
    "    print(\"adult\")\n",
    "elif age >= 60:\n",
    "    print(\"old codger\")\n",
    "else:\n",
    "    print(\"Younger\")"
   ]
  },
  {
   "cell_type": "code",
   "execution_count": 52,
   "id": "8c51983c",
   "metadata": {},
   "outputs": [
    {
     "name": "stdout",
     "output_type": "stream",
     "text": [
      "Enter a number1:- 0\n",
      "Enter a number2:- 0\n",
      "Zero division error\n"
     ]
    }
   ],
   "source": [
    "# 25.Take two number a,b from the user and check whether a is divisible by b or not\n",
    "\n",
    "a = int(input(\"Enter a number1:- \"))\n",
    "b = int(input(\"Enter a number2:- \"))\n",
    "\n",
    "if b!= 0:\n",
    "    if a%b == 0:\n",
    "        print(\"Yes\")\n",
    "    else:\n",
    "        print(\"No\")\n",
    "else:\n",
    "    print(\"Zero division error\")\n"
   ]
  },
  {
   "cell_type": "code",
   "execution_count": 54,
   "id": "6564cb08",
   "metadata": {},
   "outputs": [
    {
     "name": "stdout",
     "output_type": "stream",
     "text": [
      "Enter any character only once:- S\n",
      "Upper case\n"
     ]
    }
   ],
   "source": [
    "# 26. Take a letter from the user and print that letter belongs to which category I.e is it a small letter or capital letter\n",
    "# or number or special symbol\n",
    "\n",
    "user = input(\"Enter any character only once:- \")\n",
    "if user.isupper():\n",
    "    print(\"Upper case\")\n",
    "elif user.islower():\n",
    "    print(\"Lower case\")\n",
    "elif user.isdigit():\n",
    "    print(\"Number\")\n",
    "else:\n",
    "    print(\"Special character\")\n"
   ]
  },
  {
   "cell_type": "markdown",
   "id": "28f52c00",
   "metadata": {},
   "source": [
    "# looping statements"
   ]
  },
  {
   "cell_type": "code",
   "execution_count": 77,
   "id": "768ff900",
   "metadata": {},
   "outputs": [
    {
     "name": "stdout",
     "output_type": "stream",
     "text": [
      "Enter a number:- 35\n",
      "Not Prime\n"
     ]
    }
   ],
   "source": [
    "# 25. Take a number from the user and check whether it is prime?\n",
    "\n",
    "n = int(input(\"Enter a number:- \"))\n",
    "\n",
    "if n <= 1:\n",
    "    print(\"Not Prime\")\n",
    "else:\n",
    "    c = 0\n",
    "    for i in range(1,n+1):\n",
    "        if n%i == 0:\n",
    "            c += 1\n",
    "    if c == 2:\n",
    "        print(\"It's Prime\")\n",
    "    else:\n",
    "        print(\"Not Prime\")\n",
    "    "
   ]
  },
  {
   "cell_type": "code",
   "execution_count": 79,
   "id": "a717e649",
   "metadata": {},
   "outputs": [
    {
     "name": "stdout",
     "output_type": "stream",
     "text": [
      "Enter input:- dss32121dss\n",
      "Does not contain only digits\n"
     ]
    }
   ],
   "source": [
    "# 26. Take a string from the user and check contains only digits or not?\n",
    "\n",
    "string = input(\"Enter input:- \")\n",
    "\n",
    "if string.isdigit():\n",
    "    print(\"Contain only digits\")\n",
    "else:\n",
    "    print(\"Does not contain only digits\")\n"
   ]
  },
  {
   "cell_type": "code",
   "execution_count": 14,
   "id": "37d112f6",
   "metadata": {},
   "outputs": [
    {
     "name": "stdout",
     "output_type": "stream",
     "text": [
      "Enter input:- 3wdf\n",
      "Does not contains only alphabets\n"
     ]
    }
   ],
   "source": [
    "# 27. Take a string from the user and check contains only alphabets or not?\n",
    "string = input(\"Enter input:- \")\n",
    "\n",
    "if string.isalpha():\n",
    "    print(\"Contains only alphabets\")\n",
    "else:\n",
    "    print(\"Does not contains only alphabets\")\n",
    "\n"
   ]
  },
  {
   "cell_type": "code",
   "execution_count": 15,
   "id": "3d40448c",
   "metadata": {},
   "outputs": [
    {
     "name": "stdout",
     "output_type": "stream",
     "text": [
      "Enter input:- @#!\n",
      "Contains only speical characters\n"
     ]
    }
   ],
   "source": [
    "# 28. Take a string from the user and check contains only special chars or not?\n",
    "string = input(\"Enter input:- \")\n",
    "# if all(not i.isalnum() for i in string):\n",
    "#     print(\"The string contain only special characters\")\n",
    "# else:\n",
    "#     print(\"The string does not contain special characters\")\n",
    "\n",
    "c = 0\n",
    "for i in string:\n",
    "    if not i.isalnum():\n",
    "        c += 1 \n",
    "if c==len(string):\n",
    "    print(\"Contains only speical characters\")\n",
    "else:\n",
    "    print(\"Does not contain only special characters\")\n",
    "    \n",
    "        "
   ]
  },
  {
   "cell_type": "code",
   "execution_count": null,
   "id": "d39d4a55",
   "metadata": {},
   "outputs": [],
   "source": []
  }
 ],
 "metadata": {
  "kernelspec": {
   "display_name": "Python 3 (ipykernel)",
   "language": "python",
   "name": "python3"
  },
  "language_info": {
   "codemirror_mode": {
    "name": "ipython",
    "version": 3
   },
   "file_extension": ".py",
   "mimetype": "text/x-python",
   "name": "python",
   "nbconvert_exporter": "python",
   "pygments_lexer": "ipython3",
   "version": "3.11.5"
  }
 },
 "nbformat": 4,
 "nbformat_minor": 5
}
