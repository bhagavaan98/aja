{
 "cells": [
  {
   "cell_type": "code",
   "execution_count": 8,
   "id": "b40f36ee",
   "metadata": {},
   "outputs": [
    {
     "name": "stdout",
     "output_type": "stream",
     "text": [
      "no of people =  430\n",
      "seats_count_of_bus =  20\n",
      "needed buses are 22\n"
     ]
    }
   ],
   "source": [
    "# 1.\tTake the input from the user for(Total number of people,Number of seats for bus. Based on two inputs\n",
    "# Decide how many number of buses required\n",
    "def bus_count():\n",
    "    people_count =int(input('no of people =  '))\n",
    "    seats_count_of_bus =int(input('seats_count_of_bus =  '))\n",
    "    a=people_count/seats_count_of_bus\n",
    "    b=people_count//seats_count_of_bus\n",
    "    if b==a:\n",
    "         print(f'needed buses are {b}')\n",
    "    else :\n",
    "        print( f'needed buses are {b+1}')\n",
    "\n",
    "    \n",
    "bus_count()\n",
    "\n"
   ]
  },
  {
   "cell_type": "code",
   "execution_count": 10,
   "id": "0a3cd54a",
   "metadata": {},
   "outputs": [
    {
     "name": "stdout",
     "output_type": "stream",
     "text": [
      "Enter the temperature in Fahrenheit: 430\n",
      "430.0 degrees Fahrenheit is equal to 221.11 degrees Celsius.\n"
     ]
    }
   ],
   "source": [
    "# take temperature from the user and convert foreign heat -> Celsius.\n",
    "fahrenheit = float(input(\"Enter the temperature in Fahrenheit: \"))\n",
    "celsius = (fahrenheit - 32) * 5 / 9\n",
    "print(f\"{fahrenheit} degrees Fahrenheit is equal to {celsius:.2f} degrees Celsius.\")\n"
   ]
  },
  {
   "cell_type": "code",
   "execution_count": 11,
   "id": "3ac810ee",
   "metadata": {},
   "outputs": [
    {
     "name": "stdout",
     "output_type": "stream",
     "text": [
      "Enter the temperature in Celsius: 45\n",
      "45.0 degrees Celsius is equal to 113.00 degrees Fahrenheit.\n"
     ]
    }
   ],
   "source": [
    "# Take temperature input from the user in Celsius\n",
    "celsius = float(input(\"Enter the temperature in Celsius: \"))\n",
    "fahrenheit = (celsius * 9/5) + 32\n",
    "print(f\"{celsius} degrees Celsius is equal to {fahrenheit:.2f} degrees Fahrenheit.\")"
   ]
  },
  {
   "cell_type": "code",
   "execution_count": 1,
   "id": "41f223f9",
   "metadata": {},
   "outputs": [
    {
     "name": "stdout",
     "output_type": "stream",
     "text": [
      "45\n",
      "65\n",
      "32\n",
      "12\n",
      "22.27853974867593\n",
      "sum of gven numbers  189.46499999999997\n",
      "avarage of given numbers 38.5\n"
     ]
    }
   ],
   "source": [
    "# 4.take four number from the user (variables name it as x1,x2,x3,x4)\n",
    "#  Do the below operations\n",
    "#  (x1+x2)**2, (x3+x4)**3\n",
    "# variance\n",
    "# standard deviation: sqrt(variance):  User math module. Math.sqrt(variance)\n",
    "# Regression\n",
    "# \ty=mx+b\n",
    "#           m=1.23\n",
    "#           b=0.045\n",
    "#           find out y\n",
    "#           y=m*(x1+x2+x3+x4)+b\n",
    "#  Find the average of four numbers\n",
    "# Find the sum of four numbers\n",
    "# x1=int(input())\n",
    "# x2=int(input())\n",
    "# x3=int(input())\n",
    "# x4=int(input())\n",
    "x=[]\n",
    "for i in range(4):\n",
    "    a=int(input())\n",
    "    x.append(a)\n",
    "s=sum(x)\n",
    "import statistics\n",
    "var=statistics.variance(x)\n",
    "import math\n",
    "standard_deviation=math.sqrt(var)\n",
    "print(standard_deviation)\n",
    "m=1.23\n",
    "b=0.045\n",
    "y =m*s+b\n",
    "print('sum of gven numbers ',y)\n",
    "print('avarage of given numbers',statistics.mean(x))"
   ]
  },
  {
   "cell_type": "code",
   "execution_count": 5,
   "id": "e70f1b60",
   "metadata": {},
   "outputs": [
    {
     "name": "stdout",
     "output_type": "stream",
     "text": [
      "Enter KM: 452\n",
      "452.0 kilometers is equal to:\n",
      "452000.0 meters\n",
      "45200000.0 centimeters\n",
      "452000000.0 millimeters\n",
      "1482939.6800000002 feet\n",
      "494311.72 yards\n"
     ]
    }
   ],
   "source": [
    "#    5.Take the distance in km\n",
    "#     \tShow that in cm, meters, in milli meters, cents, feets, yards\n",
    "distance_km = float(input(\"Enter KM: \"))\n",
    "distance_meters = distance_km * 1000\n",
    "distance_centimeters = distance_km * 100000\n",
    "distance_millimeters = distance_km * 1000000\n",
    "distance_feet = distance_km * 3280.84\n",
    "distance_yards = distance_km * 1093.61\n",
    "\n",
    "print(f\"{distance_km} kilometers is equal to:\")\n",
    "print(f\"{distance_meters} meters\")\n",
    "print(f\"{distance_centimeters} centimeters\")\n",
    "print(f\"{distance_millimeters} millimeters\")\n",
    "print(f\"{distance_feet} feet\")\n",
    "print(f\"{distance_yards} yards\")"
   ]
  },
  {
   "cell_type": "code",
   "execution_count": 4,
   "id": "fefdb827",
   "metadata": {},
   "outputs": [
    {
     "name": "stdout",
     "output_type": "stream",
     "text": [
      "Enter the size of  GB: 1000\n",
      "1024000.0 MB\n",
      "1048576000.0 KB\n",
      "1.0 TB\n",
      "0.001 PB\n"
     ]
    }
   ],
   "source": [
    "# 6.Take the size of your hard disk in GB\n",
    "#      \tShow that in MB, KB, TB, PB\n",
    "size_gb = float(input(\"Enter the size of  GB: \"))\n",
    "\n",
    "size_mb = size_gb * 1024\n",
    "size_kb = size_gb * 1024 * 1024\n",
    "size_tb = size_gb * 0.001\n",
    "size_pb = size_gb * 0.000001\n",
    "\n",
    "print(f\"{size_mb} MB\")\n",
    "print(f\"{size_kb} KB\")\n",
    "print(f\"{size_tb} TB\")\n",
    "print(f\"{size_pb} PB\")"
   ]
  },
  {
   "cell_type": "code",
   "execution_count": 12,
   "id": "4a45be02",
   "metadata": {},
   "outputs": [
    {
     "name": "stdout",
     "output_type": "stream",
     "text": [
      "name of the person :gopi\n",
      "Age of the person :25\n",
      "Height of the person :5.5feet\n",
      "Name:gopi, Age:25, Height:5.5feet\n"
     ]
    }
   ],
   "source": [
    "#    7.  Take name, age, height from the user and print like below\n",
    "# The details of the person: Name:name of the person, Age:age of the person, Height:height of the person\n",
    "# Note: make sure that no space between : and a value and should be space after “COMA”\n",
    "name=input('name of the person :')\n",
    "Age=input('Age of the person :')\n",
    "Height=input('Height of the person :')\n",
    "print(f'Name:{name}, Age:{Age}, Height:{Height}')"
   ]
  },
  {
   "cell_type": "code",
   "execution_count": 19,
   "id": "957d19e5",
   "metadata": {},
   "outputs": [
    {
     "name": "stdout",
     "output_type": "stream",
     "text": [
      "height in feets and inches ex 5.5: 5.8\n",
      "weight :90\n",
      "Overweight\n"
     ]
    }
   ],
   "source": [
    "# 8. BMI calculation: take required parameters for BMI calculation from the user and calculate BMI of the person.\n",
    "height =float(input('height in feets and inches ex 5.5: '))\n",
    "weight =float(input('weight :' ))\n",
    "H_in_M=height*0.3048\n",
    "bmi =weight/H_in_M**2\n",
    "if bmi<=18.5:\n",
    "    print('under weight')\n",
    "elif bmi>18.5 and bmi<=24.9 :\n",
    "    print('Normal weight')\n",
    "elif bmi>=25 and bmi<30 :#29.9:\n",
    "    print('Overweight' )\n",
    "else :\n",
    "    print('Obesity ')\n"
   ]
  },
  {
   "cell_type": "code",
   "execution_count": 27,
   "id": "ae016fde",
   "metadata": {},
   "outputs": [
    {
     "name": "stdout",
     "output_type": "stream",
     "text": [
      "name:Govardhan\n",
      "age:25\n",
      "height:5.5\n",
      "weight66.2356\n",
      "name:Govardhan, Age:25, Height:5.5, Weight:66.236 \n"
     ]
    }
   ],
   "source": [
    "# 9. name=\"Jayaram\"\n",
    "# age=1.6\n",
    "# height=3.5356234\n",
    "# weight=10.343856783\n",
    "# By using above inputs print the output\n",
    "# Name:Jayaram, Age:1.6, Height:3.54, Weight:10.344\n",
    "# Note: Use format specifiers(%s, %d, %f)\n",
    "\n",
    "name = input('name:')\n",
    "age = int(input('age:'))\n",
    "height = float(input('height:'))\n",
    "weight = float(input('weight'))\n",
    "output =\"name:%s, Age:%d, Height:%.1f, Weight:%.3f \"%(name,age,height,weight)\n",
    "print(output)\n",
    "\n",
    "\n",
    "\n"
   ]
  },
  {
   "cell_type": "code",
   "execution_count": 29,
   "id": "193805d3",
   "metadata": {},
   "outputs": [
    {
     "data": {
      "text/plain": [
       "'aha'"
      ]
     },
     "execution_count": 29,
     "metadata": {},
     "output_type": "execute_result"
    }
   ],
   "source": [
    "# 10. Take three upper case letters from the user convert in to small case.\n",
    "lett='AHA'\n",
    "lett.lower()\n"
   ]
  },
  {
   "cell_type": "code",
   "execution_count": null,
   "id": "054d5674",
   "metadata": {},
   "outputs": [],
   "source": [
    "# 11. take base and exponent value from the user and print like in mathematics:\n",
    "# example: base=2, exponent=3: 23\n",
    "print(f'2{SUPERSCRIPT TWO}')"
   ]
  }
 ],
 "metadata": {
  "kernelspec": {
   "display_name": "Python 3 (ipykernel)",
   "language": "python",
   "name": "python3"
  },
  "language_info": {
   "codemirror_mode": {
    "name": "ipython",
    "version": 3
   },
   "file_extension": ".py",
   "mimetype": "text/x-python",
   "name": "python",
   "nbconvert_exporter": "python",
   "pygments_lexer": "ipython3",
   "version": "3.11.5"
  }
 },
 "nbformat": 4,
 "nbformat_minor": 5
}
