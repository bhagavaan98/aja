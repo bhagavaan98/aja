{
 "cells": [
  {
   "cell_type": "code",
   "execution_count": 1,
   "id": "29fb363c",
   "metadata": {},
   "outputs": [
    {
     "name": "stdout",
     "output_type": "stream",
     "text": [
      "Enter no of people...45\n",
      "Total seats in bus..5\n",
      "required buses 9\n"
     ]
    }
   ],
   "source": [
    "#  1. Take the input from the user for(Total number of people,Number of seats for bus. Based on two inputs\n",
    "# Decide how many number of buses required\n",
    "\n",
    "import math\n",
    "\n",
    "peoples = int(input(\"Enter no of people...\"))\n",
    "seats  = int(input(\"Total seats in bus..\"))\n",
    "\n",
    "if peoples > 0 and seats > 0:\n",
    "    if peoples > seats:\n",
    "        buses = math.ceil(peoples/seats)\n",
    "    elif seats > peoples:\n",
    "        buses = 1\n",
    "else:\n",
    "    buses = 'Something went wrong'\n",
    "print('required buses',buses)\n",
    "\n"
   ]
  },
  {
   "cell_type": "code",
   "execution_count": 2,
   "id": "102fff63",
   "metadata": {},
   "outputs": [
    {
     "name": "stdout",
     "output_type": "stream",
     "text": [
      "enter temp in foreignheit..44\n",
      "6.67 C\n"
     ]
    }
   ],
   "source": [
    "# 2.take temperature from the user and convert foreign heat -> Celsius.\n",
    "F = int(input(\"enter temp in foreignheit..\"))\n",
    "celcius_temp = (F-32) *( 5/9 )\n",
    "print(f'{celcius_temp:.2f} C')\n"
   ]
  },
  {
   "cell_type": "code",
   "execution_count": 3,
   "id": "12b32a1d",
   "metadata": {},
   "outputs": [
    {
     "name": "stdout",
     "output_type": "stream",
     "text": [
      "enter temp in celcius..5\n",
      "41.00 F\n"
     ]
    }
   ],
   "source": [
    "#  3.take temperature from the user and convert Celsius → foreign heat.\n",
    "C = int(input(\"enter temp in celcius..\"))\n",
    "foreignheit_temp = (C *(9/5))+32\n",
    "print(f'{foreignheit_temp:.2f} F')\n"
   ]
  },
  {
   "cell_type": "code",
   "execution_count": 4,
   "id": "47251242",
   "metadata": {},
   "outputs": [
    {
     "name": "stdout",
     "output_type": "stream",
     "text": [
      "Enter distance in km...522\n",
      "0.00522\n"
     ]
    }
   ],
   "source": [
    "#    5.Take the distance in km\n",
    "#     \tShow that in cm, meters, in milli meters, cents, feets, yards\n",
    "\n",
    "km = int(input(\"Enter distance in km...\"))\n",
    "cm = km/100000\n",
    "m = km/1000\n",
    "mm = km/1000000\n",
    "print(cm)\n",
    "\n",
    "\n",
    "\n"
   ]
  },
  {
   "cell_type": "code",
   "execution_count": 5,
   "id": "17b2b686",
   "metadata": {},
   "outputs": [
    {
     "name": "stdout",
     "output_type": "stream",
     "text": [
      "Enter size of your hard disk in GB...262\n",
      "hard disk in mb 262000\n",
      "hard disk in kb 262000000\n",
      "hard disk in tb 0.262\n",
      "hard disk in pb 0.000262\n"
     ]
    }
   ],
   "source": [
    "# 6.Take the size of your hard disk in GB\n",
    "#      \tShow that in MB, KB, TB, PB\n",
    "gb = int(input(\"Enter size of your hard disk in GB...\"))\n",
    "\n",
    "mb = gb*1000\n",
    "kb = gb*1000000\n",
    "tb = gb/1000\n",
    "pb = gb/1000000\n",
    "\n",
    "print('hard disk in mb',mb)\n",
    "print('hard disk in kb',kb)\n",
    "print('hard disk in tb',tb)\n",
    "print('hard disk in pb',pb)"
   ]
  },
  {
   "cell_type": "code",
   "execution_count": 6,
   "id": "86edcabb",
   "metadata": {},
   "outputs": [
    {
     "name": "stdout",
     "output_type": "stream",
     "text": [
      "Enter name...rajesh\n",
      "Enter age...45\n",
      "Enter height...5.2\n"
     ]
    },
    {
     "ename": "ValueError",
     "evalue": "invalid literal for int() with base 10: '5.2'",
     "output_type": "error",
     "traceback": [
      "\u001b[1;31m---------------------------------------------------------------------------\u001b[0m",
      "\u001b[1;31mValueError\u001b[0m                                Traceback (most recent call last)",
      "Cell \u001b[1;32mIn[6], line 6\u001b[0m\n\u001b[0;32m      4\u001b[0m name \u001b[38;5;241m=\u001b[39m \u001b[38;5;28minput\u001b[39m(\u001b[38;5;124m\"\u001b[39m\u001b[38;5;124mEnter name...\u001b[39m\u001b[38;5;124m\"\u001b[39m)\n\u001b[0;32m      5\u001b[0m age \u001b[38;5;241m=\u001b[39m \u001b[38;5;28mint\u001b[39m(\u001b[38;5;28minput\u001b[39m(\u001b[38;5;124m\"\u001b[39m\u001b[38;5;124mEnter age...\u001b[39m\u001b[38;5;124m\"\u001b[39m))\n\u001b[1;32m----> 6\u001b[0m height \u001b[38;5;241m=\u001b[39m \u001b[38;5;28mint\u001b[39m(\u001b[38;5;28minput\u001b[39m(\u001b[38;5;124m\"\u001b[39m\u001b[38;5;124mEnter height...\u001b[39m\u001b[38;5;124m\"\u001b[39m))\n\u001b[0;32m      7\u001b[0m \u001b[38;5;28mprint\u001b[39m(\u001b[38;5;124mf\u001b[39m\u001b[38;5;124m\"\u001b[39m\u001b[38;5;124mName:\u001b[39m\u001b[38;5;132;01m{\u001b[39;00mname\u001b[38;5;132;01m}\u001b[39;00m\u001b[38;5;124m, Age:\u001b[39m\u001b[38;5;132;01m{\u001b[39;00mage\u001b[38;5;132;01m}\u001b[39;00m\u001b[38;5;124m, Height:\u001b[39m\u001b[38;5;132;01m{\u001b[39;00mheight\u001b[38;5;132;01m}\u001b[39;00m\u001b[38;5;124mft\u001b[39m\u001b[38;5;124m\"\u001b[39m)\n",
      "\u001b[1;31mValueError\u001b[0m: invalid literal for int() with base 10: '5.2'"
     ]
    }
   ],
   "source": [
    "#    7.  Take name, age, height from the user and print like below\n",
    "# The details of the person: Name:name of the person, Age:age of the person, Height:height of the person\n",
    "\n",
    "name = input(\"Enter name...\")\n",
    "age = int(input(\"Enter age...\"))\n",
    "height = int(input(\"Enter height...\"))\n",
    "print(f\"Name:{name}, Age:{age}, Height:{height}ft\")"
   ]
  },
  {
   "cell_type": "code",
   "execution_count": null,
   "id": "250c96de",
   "metadata": {},
   "outputs": [],
   "source": [
    "'''\n",
    "4.take four number from the user (variables name it as x1,x2,x3,x4)\n",
    " Do the below operations\n",
    " (x1+x2)**2, (x3+x4)**3\n",
    "variance\n",
    "standard deviation: sqrt(variance):  User math module. Math.sqrt(variance)\n",
    "Regression\n",
    "\ty=mx+b\n",
    "          m=1.23\n",
    "          b=0.045\n",
    "          find out y\n",
    "          y=m*(x1+x2+x3+x4)+b\n",
    " Find the average of four numbers\n",
    "Find the sum of four numbers\n",
    "'''\n",
    "import math \n",
    "\n",
    "x1 = int(input(\"Enter x1...\"))\n",
    "x2 = int(input(\"Enter x2...\"))\n",
    "x3 = int(input(\"Enter x3...\"))\n",
    "x4 = int(input(\"Enter x4...\"))\n",
    "\n",
    "suare = (x1+x2)**2\n",
    "cube =  (x3+x4)**3\n",
    "print(\"Square :\",suare)\n",
    "print(\"Cube :\",cube)\n",
    "\n",
    "# varience:\n",
    "mean = x1+x2+x3+x4 / 4\n",
    "x1_deviation = (x1 - mean)**2\n",
    "x2_deviation = (x2 - mean)**2\n",
    "x3_deviation = (x3 - mean)**2\n",
    "x4_deviation = (x4 - mean)**2\n",
    "varience = (x1_deviation + x2_deviation + x3_deviation + x4_deviation)/4\n",
    "print('Varience :',varience)\n",
    "\n",
    "# standard deviation:\n",
    "print(\"Standard deviation:\",math.sqrt(varience))\n",
    "\n",
    "# Regression:\n",
    "m=1.23\n",
    "b=0.045\n",
    "y=m*(x1+x2+x3+x4)+b\n",
    "print(\"Regression :\", y)\n",
    "\n",
    "#average:\n",
    "print('Avearge :',mean)\n",
    "\n",
    "#sum:\n",
    "print(\"sum :\",x1+x2+x3+x4)"
   ]
  },
  {
   "cell_type": "code",
   "execution_count": null,
   "id": "bad387e2",
   "metadata": {},
   "outputs": [],
   "source": [
    "# 8. BMI calculation: take required parameters for BMI calculation from the user and calculate BMI of the person."
   ]
  },
  {
   "cell_type": "code",
   "execution_count": null,
   "id": "c0f7cdf1",
   "metadata": {},
   "outputs": [],
   "source": [
    "'''9. name=\"Jayaram\"\n",
    "age=1.6\n",
    "height=3.5356234\n",
    "weight=10.343856783\n",
    "By using above inputs print the output\n",
    "Name:Jayaram, Age:1.6, Height:3.54, Weight:10.344\n",
    "Note: Use format specifiers(%s, %d, %f)\n",
    "'''\n",
    "name = input(\"Enter name...\")\n",
    "age = int(input(\"Enter age...\"))\n",
    "height = float(input(\"Enter height...\"))\n",
    "weight = float(input(\"Enter weight...\"))\n",
    "\n",
    "op = \"Name: {}, Age: {:.1f}, Height: {:.2f}, Weight: {:.3f}\".format(name, age, height, weight)\n",
    "print(op)"
   ]
  },
  {
   "cell_type": "code",
   "execution_count": 15,
   "id": "9d6b0f62",
   "metadata": {},
   "outputs": [
    {
     "name": "stdout",
     "output_type": "stream",
     "text": [
      "amb\n"
     ]
    }
   ],
   "source": [
    "# 10. Take three upper case letters from the user convert in to small case.\n",
    "\n",
    "st = 'AMB'\n",
    "print(st.casefold())"
   ]
  },
  {
   "cell_type": "code",
   "execution_count": 16,
   "id": "f0d9cb3a",
   "metadata": {},
   "outputs": [
    {
     "name": "stdout",
     "output_type": "stream",
     "text": [
      "Enter the base: 5\n",
      "Enter the exponent: 3\n",
      "5³\n"
     ]
    }
   ],
   "source": [
    "# 11. take base and exponent value from the user and print like in mathematics:\n",
    "#   example: base=2, exponent=3: 23\n",
    "# Use: 2\\u00b3\n",
    "base = int(input(\"Enter the base: \"))\n",
    "exponent = int(input(\"Enter the exponent: \"))\n",
    "result = f\"{base}\\u00b3\"\n",
    "print(result)"
   ]
  },
  {
   "cell_type": "code",
   "execution_count": null,
   "id": "6bca9a61",
   "metadata": {},
   "outputs": [],
   "source": [
    "def enter_value():\n",
    "    user_input = input(\"Enter an integer value: \")    \n",
    "    if user_input == '':\n",
    "        return enter_value()\n",
    "    else:\n",
    "        value = int(user_input)\n",
    "        return value\n",
    "    \n",
    "dt = enter_value()\n",
    "print(\"User entered:\",dt ,type(dt))\n"
   ]
  },
  {
   "cell_type": "markdown",
   "id": "01a17c39",
   "metadata": {},
   "source": [
    "# looping statements"
   ]
  },
  {
   "cell_type": "code",
   "execution_count": 19,
   "id": "51d43116",
   "metadata": {},
   "outputs": [
    {
     "ename": "SyntaxError",
     "evalue": "unterminated string literal (detected at line 5) (1776208967.py, line 5)",
     "output_type": "error",
     "traceback": [
      "\u001b[1;36m  Cell \u001b[1;32mIn[19], line 5\u001b[1;36m\u001b[0m\n\u001b[1;33m    print(num,'is not prime)\u001b[0m\n\u001b[1;37m              ^\u001b[0m\n\u001b[1;31mSyntaxError\u001b[0m\u001b[1;31m:\u001b[0m unterminated string literal (detected at line 5)\n"
     ]
    }
   ],
   "source": [
    "# 25. take a number from the user and check whether it is prime?\n",
    "num = int(input('Enter num..'))\n",
    "for i in range(2,num):\n",
    "    if num%i == 0:\n",
    "        print(num,'is not prime)\n",
    "        break\n",
    "else:\n",
    "    print(num,'is prime')"
   ]
  },
  {
   "cell_type": "code",
   "execution_count": null,
   "id": "f0fa1f0a",
   "metadata": {},
   "outputs": [],
   "source": [
    "'''31. WAP to replace last n occurrence of give string.\n",
    "For example:”apple,orange,apple,grape,orange,apple,apple,orange”\n",
    "source: “apple”\n",
    "last occurrences: 2\n",
    "replace with: APPLE\n",
    "output:”apple,orange,apple,grape,orange,APPLE,APPLE,orange”\n",
    "'''\n",
    "\n",
    "ip = 'apple,orange,apple,grape,orange,apple,apple,orange'\n",
    "tag = 'apple'\n",
    "n=2\n",
    "count = 0\n",
    "ls = ip.split(\",\")\n",
    "print(ls)\n",
    "for i in range(len(ls)-1,-1,-1):\n",
    "    if count<2:\n",
    "        if ls[i] == tag:\n",
    "            ls[i] = 'APPLE'\n",
    "            count = count+1     \n",
    "    else:\n",
    "        break\n",
    "print(ls)\n"
   ]
  },
  {
   "cell_type": "code",
   "execution_count": null,
   "id": "387101f5",
   "metadata": {},
   "outputs": [],
   "source": [
    "# 32. WAP to check given string contains numbers or not. it should consider float numbers also.\n",
    "st = 'robo2.0 cwbchjs1'\n",
    "print(st.isalnum())\n",
    "for i in range(len(st)):\n",
    "    if isinstance(st[i],int):\n",
    "        print(i)\n",
    "# print(x)"
   ]
  },
  {
   "cell_type": "code",
   "execution_count": null,
   "id": "e4c11637",
   "metadata": {},
   "outputs": [],
   "source": [
    "print(dir(st))"
   ]
  },
  {
   "cell_type": "code",
   "execution_count": null,
   "id": "7f21658d",
   "metadata": {},
   "outputs": [],
   "source": [
    "# 33. Convert the total string in to lower case. Without using lower() function.\n",
    "\n",
    "st = 'Guido Van Rosuum'\n",
    "op = ''\n",
    "for i in st:\n",
    "    if 'A' <= i <= 'Z':\n",
    "        op += chr(ord(i)+32)\n",
    "    else:\n",
    "        op +=i\n",
    "print(op)\n",
    "        \n",
    " \n",
    "\n",
    "\n"
   ]
  },
  {
   "cell_type": "code",
   "execution_count": null,
   "id": "8addb80b",
   "metadata": {},
   "outputs": [],
   "source": [
    "# 34. Convert the total string in to upper case. Without using upper() function\n",
    "\n",
    "st = 'Guido Van Rosuum'\n",
    "op = ''\n",
    "for i in st:\n",
    "    if 'a' <= i <= 'z':\n",
    "        op += chr(ord(i)-32)\n",
    "    else:\n",
    "        op +=i\n",
    "print(op)\n",
    "        \n",
    " "
   ]
  },
  {
   "cell_type": "code",
   "execution_count": null,
   "id": "93059b56",
   "metadata": {},
   "outputs": [],
   "source": [
    "# 41. Print the first 100 odd numbers\n",
    "\n",
    "nums = 1\n",
    "count = 0\n",
    "while count<100:\n",
    "    if nums%2 == 0:\n",
    "        print(nums)\n",
    "        count+=1\n",
    "    nums+=1"
   ]
  },
  {
   "cell_type": "code",
   "execution_count": null,
   "id": "7a7e90d6",
   "metadata": {},
   "outputs": [],
   "source": [
    "'''\n",
    "43. Play a number guessing game (User enters a guess, you print YES or Higher or Lower).\n",
    "This should continue until and until user gives a correct number or want to quit in the middle.\n",
    "Get a hidden number by using random.randint(1,100)\n",
    "\n",
    "'''\n",
    "import random\n",
    "while True:\n",
    "    num = int(input('guess number..'))\n",
    "    guess = random.randint(1,100)\n",
    "    if num == guess:\n",
    "        print(\"YES!! You got it!\")\n",
    "        break\n",
    "    elif num < guess:\n",
    "        print('Lower')\n",
    "    elif num > guess:\n",
    "        print('Higher')"
   ]
  },
  {
   "cell_type": "code",
   "execution_count": 10,
   "id": "14d1ae59",
   "metadata": {},
   "outputs": [
    {
     "name": "stdout",
     "output_type": "stream",
     "text": [
      "[66655, 5555]\n"
     ]
    }
   ],
   "source": [
    "# Write a program to find out big of two numbers\n",
    "\n",
    "ls = [45,7,8,5,56,5555,665,66655,66,5]\n",
    "for i in range(len(ls)-1):\n",
    "    for j in range(i+1):\n",
    "        if ls[i]>ls[j]:\n",
    "            temp = ls[i]\n",
    "            ls[i] = ls[j]\n",
    "            ls[j] = temp\n",
    "print(ls[:2])\n"
   ]
  },
  {
   "cell_type": "code",
   "execution_count": 13,
   "id": "1b9ae431",
   "metadata": {},
   "outputs": [
    {
     "name": "stdout",
     "output_type": "stream",
     "text": [
      "enter num..45\n",
      "000045\n"
     ]
    }
   ],
   "source": [
    "'''\n",
    "51. print the number in proper mathematical way.\n",
    "\tConsider that we have 6 digit numbers.\n",
    "Number format  WAP> 10 -> 000010\n",
    "       \t\t100 ->  000100\n",
    "      \t\t1000 ->  001000\n",
    " \t\t 2345678  ->  2345678\n",
    "\n",
    "'''\n",
    "\n",
    "num = int(input(\"enter num..\"))\n",
    "print(str(num).zfill(6))"
   ]
  },
  {
   "cell_type": "code",
   "execution_count": null,
   "id": "bb861fce",
   "metadata": {},
   "outputs": [],
   "source": [
    "'''61. Reverse the string without effecting the special symbols. It involves three variations. Write code for three variations.\n",
    "          \n",
    "\t\n",
    "         64.Inout: \"123,#$456%$^789$%^\", Output: 321,#$654%$^987$%^\n",
    "\t\tOnly numbers has to reverse.\n",
    "'''"
   ]
  },
  {
   "cell_type": "code",
   "execution_count": 29,
   "id": "8b9beb9f",
   "metadata": {},
   "outputs": [
    {
     "name": "stdout",
     "output_type": "stream",
     "text": [
      "$%^987%$^6fed54,#$321cba\n"
     ]
    }
   ],
   "source": [
    "# 62.Input: abc123,#$45def6%$^789$%^, output: $%^987%$^6fed54,#$321cba\n",
    "st = \"abc123,#$45def6%$^789$%^\"\n",
    "special = '$%^#!&*,'\n",
    "#    \"$%^987%$^6fed54,#$321cba\"\n",
    "op = \"\"\n",
    "s = ''\n",
    "for i in st:\n",
    "    if i in special:\n",
    "        s = s+i\n",
    "    else:\n",
    "        op = s+op\n",
    "        s = ''\n",
    "        op = i+op\n",
    "op = s+op\n",
    "print(op)"
   ]
  },
  {
   "cell_type": "code",
   "execution_count": 30,
   "id": "0b360296",
   "metadata": {},
   "outputs": [
    {
     "name": "stdout",
     "output_type": "stream",
     "text": [
      "abc123,#$45d\n"
     ]
    }
   ],
   "source": [
    "# 63.Input: abc123,#$45def6%$^789$%^, output: 9876fe,#$d54321%$^cba$%^\n",
    "st = \"abc123,#$45def6%$^789$%^\"\n",
    "\n",
    "#       9876fe,#$d54321%$^cba$%^\n",
    "\n",
    "print(st[:len(st)//2])"
   ]
  },
  {
   "cell_type": "markdown",
   "id": "c8b8818c",
   "metadata": {},
   "source": [
    "## Data Structures"
   ]
  },
  {
   "cell_type": "code",
   "execution_count": 33,
   "id": "4534986e",
   "metadata": {},
   "outputs": [
    {
     "name": "stdout",
     "output_type": "stream",
     "text": [
      "[10, 20, 30, 40, 50, 60, 70, 80, 90, 20]\n"
     ]
    }
   ],
   "source": [
    "# 79. l=[10,20,30,[40,50,60],70,[80,90,20]]. Convert this list as single dimensional list\n",
    "\n",
    "ls=[10,20,30,[40,50,60],70,[80,90,20]]\n",
    "ls1 = []\n",
    "\n",
    "for i in range(len(ls)):\n",
    "    if isinstance(ls[i],list):\n",
    "        for j in ls[i]:\n",
    "            ls1.append(j)\n",
    "    else:\n",
    "        ls1.append(ls[i])\n",
    "print(ls1)\n"
   ]
  },
  {
   "cell_type": "code",
   "execution_count": 38,
   "id": "f4b20bca",
   "metadata": {},
   "outputs": [
    {
     "name": "stdout",
     "output_type": "stream",
     "text": [
      "[[], ['a'], ['b'], ['a', 'b'], ['c'], ['a', 'c'], ['b', 'c'], ['a', 'b', 'c']]\n"
     ]
    }
   ],
   "source": [
    "# 90. input fun('abc') output: [[],][a],[b],[c],[a,b],[b,c],[c,a],[a,b,c]]\n",
    "\n",
    "def generate_subsets(input_str):\n",
    "    n = len(input_str)\n",
    "    result = [[]]\n",
    "\n",
    "    for char in input_str:\n",
    "        result += [curr + [char] for curr in result]\n",
    "\n",
    "    return result\n",
    "# Example usage:\n",
    "input_string = 'abc'\n",
    "result = generate_subsets(input_string) \n",
    "print(result)\n"
   ]
  },
  {
   "cell_type": "code",
   "execution_count": 13,
   "id": "821e2aa1",
   "metadata": {},
   "outputs": [
    {
     "name": "stdout",
     "output_type": "stream",
     "text": [
      "[[1, 2, 3], [5], [7, 8, 9, 10, 11, 12, 13], [20], [22, 23, 24, 25, 26, 27], [20, 21, 22], [4]]\n"
     ]
    }
   ],
   "source": [
    " \"\"\"\n",
    " 96. l=[1,2,3,5,7,8,9,10,11,12,13,20,22,23,24,25,26,27,20,21,22,4] \n",
    " output = [[1, 2, 3], [5], [7, 8, 9, 10, 11, 12, 13], [20], [22, 23, 24, 25, 26, 27], [20, 21, 22], [4]]\n",
    " \"\"\"\n",
    "l=[1,2,3,5,7,8,9,10,11,12,13,20,22,23,24,25,26,27,20,21,22,4] \n",
    "new_ls = []\n",
    "ls = []\n",
    "for i in range(len(l)):\n",
    "    if l[i]==l[i-1]+1:\n",
    "        ls.append(l[i])\n",
    "    else:\n",
    "        new_ls.append(ls)\n",
    "        ls = []\n",
    "        ls.append(l[i])\n",
    "new_ls.append(ls)\n",
    "print(new_ls[1:])\n",
    "# print(new_ls)\n",
    "        "
   ]
  },
  {
   "cell_type": "code",
   "execution_count": 29,
   "id": "2dac44b6",
   "metadata": {},
   "outputs": [
    {
     "name": "stdout",
     "output_type": "stream",
     "text": [
      "{'l': 1, 'o': 2, 'e': 1, 'g': 2}\n"
     ]
    }
   ],
   "source": [
    "\"\"\"\n",
    "99. input: Google\n",
    "    output: {'g':2,'o':2,'l':1,'e':1} use dictionary comprehension\n",
    "\n",
    "\"\"\"\n",
    "\n",
    "ls = 'google'\n",
    "dic ={k:ls.count(k) for k in set(ls) }\n",
    "print(dic)"
   ]
  },
  {
   "cell_type": "code",
   "execution_count": 34,
   "id": "d3e3a36e",
   "metadata": {},
   "outputs": [
    {
     "name": "stdout",
     "output_type": "stream",
     "text": [
      "[('satish', 90), ('mohan', 80), ('purnesh', 40), ('venkat', 30)]\n"
     ]
    }
   ],
   "source": [
    "# 101. Sort the list \n",
    "marks = [(\"mohan\", 80), (\"satish\", 90), (\"purnesh\", 40), (\"venkat\", 30)]\n",
    "# according to descending order of marks\n",
    "\n",
    "sort_marks = sorted(marks, key = lambda x:x[1], reverse = True)\n",
    "print(sort_marks)\n"
   ]
  },
  {
   "cell_type": "code",
   "execution_count": 42,
   "id": "842703d1",
   "metadata": {},
   "outputs": [
    {
     "name": "stdout",
     "output_type": "stream",
     "text": [
      "['1.00', '1.70', '2.40', '3.10', '3.80', '4.50', '5.20', '5.90', '6.60', '7.30', '8.00', '8.70', '9.40']\n"
     ]
    }
   ],
   "source": [
    "# 102.write a function to get dynamic list for floating numbers also based on strat and end and step parameters\n",
    "def generate_list(start,end,step):\n",
    "    ls = []\n",
    "    current = start\n",
    "    while current <= end:\n",
    "        ls.append(f'{current:.2f}')\n",
    "        current +=step\n",
    "    return ls\n",
    "\n",
    "print(generate_list(1.0,10.0,0.7))"
   ]
  },
  {
   "cell_type": "code",
   "execution_count": 45,
   "id": "0147bab7",
   "metadata": {},
   "outputs": [
    {
     "name": "stdout",
     "output_type": "stream",
     "text": [
      "[6, 28, 496, 8128]\n"
     ]
    }
   ],
   "source": [
    "# 103. find out all perfect numbers in given range\n",
    "num = 10000\n",
    "ls = []\n",
    "for i in range(1,num+1):\n",
    "    summ = 0\n",
    "    for j in range(1,i):\n",
    "        if i%j == 0:\n",
    "            summ+=j\n",
    "    if summ == i:\n",
    "        ls.append(i)\n",
    "print(ls)\n",
    "        "
   ]
  },
  {
   "cell_type": "code",
   "execution_count": 5,
   "id": "e28c10d7",
   "metadata": {},
   "outputs": [],
   "source": [
    "# 104. WAP to do all stack operations using lists\n",
    "\n",
    "class Stack:\n",
    "    def __init__(self):\n",
    "        self.list_elements = []\n",
    "    def is_empty(self):\n",
    "        return len(self.list_elements) == 0\n",
    "    def push(self,el):\n",
    "        element = self.list_elements.append(el)\n",
    "        print(f\"{el} element added at the end\")\n",
    "        return element\n",
    "    def pop(self):\n",
    "        if not self.is_empty():\n",
    "            popel = self.list_elements.pop()\n",
    "            print(f\"{popel} element removed\")\n",
    "            return popel\n",
    "        else:\n",
    "            print(\"List is empty\")\n",
    "    def peek(self):\n",
    "        if not self.is_empty():\n",
    "            return self.list_elements[-1]\n",
    "        else:\n",
    "            print(\"List is empty\")\n",
    "    def display(self):\n",
    "        if not self.is_empty():\n",
    "            for i in reversed(self.list_elements):\n",
    "                print(i)\n",
    "            return self.list_elements\n",
    "        else:\n",
    "            print(\"List is empty\")\n",
    "            \n",
    "            \n",
    "\n",
    "\n"
   ]
  },
  {
   "cell_type": "code",
   "execution_count": 10,
   "id": "d9354e16",
   "metadata": {},
   "outputs": [
    {
     "name": "stdout",
     "output_type": "stream",
     "text": [
      "List is empty\n",
      "List is empty\n",
      "30 element added at the end\n",
      "50 element added at the end\n",
      "60 element added at the end\n",
      "60 element removed\n",
      "\n",
      "50\n",
      "30\n",
      "\n",
      "50\n"
     ]
    }
   ],
   "source": [
    "stack = Stack()\n",
    "stack.display()\n",
    "stack.peek()\n",
    "stack.push(30)\n",
    "stack.push(50)\n",
    "stack.push(60)\n",
    "stack.pop()\n",
    "print()\n",
    "stack.display()\n",
    "print()\n",
    "print(stack.peek())"
   ]
  },
  {
   "cell_type": "code",
   "execution_count": 11,
   "id": "7914e7f0",
   "metadata": {},
   "outputs": [
    {
     "name": "stdout",
     "output_type": "stream",
     "text": [
      "1 enqueued to the queue\n",
      "2 enqueued to the queue\n",
      "3 enqueued to the queue\n",
      "Queue elements:\n",
      "1\n",
      "2\n",
      "3\n",
      "Dequeued item: 1\n",
      "Dequeued item: 2\n",
      "Dequeued item: 3\n",
      "Queue is empty.\n"
     ]
    }
   ],
   "source": [
    "class Queue:\n",
    "    def __init__(self):\n",
    "        self.items = []\n",
    "\n",
    "    def is_empty(self):\n",
    "        return len(self.items) == 0\n",
    "\n",
    "    def enqueue(self, item):\n",
    "        self.items.append(item)\n",
    "        print(f\"{item} enqueued to the queue\")\n",
    "\n",
    "    def dequeue(self):\n",
    "        if not self.is_empty():\n",
    "            dequeued_item = self.items.pop(0)\n",
    "            print(f\"Dequeued item: {dequeued_item}\")\n",
    "            return dequeued_item\n",
    "        else:\n",
    "            print(\"Queue is empty\")\n",
    "\n",
    "    def front(self):\n",
    "        if not self.is_empty():\n",
    "            return self.items[0]\n",
    "        else:\n",
    "            return None\n",
    "\n",
    "    def display(self):\n",
    "        if not self.is_empty():\n",
    "            print(\"Queue elements:\")\n",
    "            for item in self.items:\n",
    "                print(item)\n",
    "        else:\n",
    "            print(\"Queue is empty.\")\n",
    "\n",
    "\n",
    "\n",
    "queue = Queue()\n",
    "\n",
    "queue.enqueue(1)\n",
    "queue.enqueue(2)\n",
    "queue.enqueue(3)\n",
    "\n",
    "queue.display()\n",
    "\n",
    "front_item = queue.front()\n",
    "\n",
    "\n",
    "queue.dequeue()\n",
    "queue.dequeue()\n",
    "queue.dequeue()\n",
    "\n",
    "queue.display()\n"
   ]
  },
  {
   "cell_type": "code",
   "execution_count": 24,
   "id": "c0415602",
   "metadata": {},
   "outputs": [
    {
     "name": "stdout",
     "output_type": "stream",
     "text": [
      "Element not exist 4 times in a list\n"
     ]
    }
   ],
   "source": [
    "# 106. WAP to remove n occurrences of specified element from a list\n",
    "\n",
    "ls = [1,5,4,2,1,4,5,1,5,1,6]\n",
    "newst = ''\n",
    "ele = 5\n",
    "n = 4\n",
    "c= 1\n",
    "if ls.count(ele)>=n:\n",
    "    for i in ls:\n",
    "        if i == ele and c!=n+1:\n",
    "            c +=1\n",
    "            ls.remove(i)   \n",
    "\n",
    "    print(ls)\n",
    "else:\n",
    "    print(f\"Element not exist {n} times in a list\")"
   ]
  },
  {
   "cell_type": "code",
   "execution_count": 25,
   "id": "64b9a481",
   "metadata": {},
   "outputs": [
    {
     "name": "stdout",
     "output_type": "stream",
     "text": [
      "10 XOR 5 is 15\n"
     ]
    }
   ],
   "source": [
    "# 108. XOR operation in python.\n",
    "\n",
    "def xor_operation(a, b):\n",
    "    result = a ^ b\n",
    "    return result\n",
    "\n",
    "num1 = 10\n",
    "num2 = 5\n",
    "\n",
    "result = xor_operation(num1, num2)\n",
    "print(f\"{num1} XOR {num2} is {result}\")\n"
   ]
  },
  {
   "cell_type": "code",
   "execution_count": 40,
   "id": "f9672d13",
   "metadata": {},
   "outputs": [
    {
     "name": "stdout",
     "output_type": "stream",
     "text": [
      "dehllloorw\n"
     ]
    }
   ],
   "source": [
    "# 118. WAP to sort the string.\n",
    "s = 'helloworld'\n",
    "st = list(s)\n",
    "new = ''\n",
    "for i in range(len(st)):\n",
    "    for j in range(0,i+1):\n",
    "        if ord(st[i]) < ord(st[j]):\n",
    "            temp = st[i]\n",
    "            st[i] = st[j]\n",
    "            st[j] = temp\n",
    "stt = \"\".join(st)\n",
    "print(stt)\n",
    "            \n"
   ]
  },
  {
   "cell_type": "code",
   "execution_count": 41,
   "id": "db15150d",
   "metadata": {},
   "outputs": [],
   "source": [
    "import pandas"
   ]
  },
  {
   "cell_type": "code",
   "execution_count": 44,
   "id": "777925df",
   "metadata": {},
   "outputs": [
    {
     "name": "stdout",
     "output_type": "stream",
     "text": [
      "C:\\Users\\Lenovo\\anaconda3\\Lib\\site-packages\\pandas\\__init__.py\n"
     ]
    }
   ],
   "source": [
    "print(pandas.__file__)"
   ]
  },
  {
   "cell_type": "code",
   "execution_count": null,
   "id": "93b71abc",
   "metadata": {},
   "outputs": [],
   "source": [
    "'''\n",
    "125: take total parameters, out of which few are optional and few are mandatory. Take some parameters from the user and \n",
    "check whether the user given all the mandatory paramerters or not.\n",
    "For example: to insert person details\n",
    "Total parameters: name,age,height,pan,cell,adhar,passport\n",
    "mandatory: name,cell,adhar\n",
    "\tif the user given: name,adhar,passport then you need to print cell is mandatory parameter\n",
    "if the user given: name,cell,adhar,passport then you need to print ok \n",
    "if the user given: adhar,passport then you need to print cell,name are mandatory parameter\n",
    "'''"
   ]
  },
  {
   "cell_type": "code",
   "execution_count": null,
   "id": "8b4c224b",
   "metadata": {},
   "outputs": [],
   "source": []
  },
  {
   "cell_type": "code",
   "execution_count": null,
   "id": "d8501cc0",
   "metadata": {},
   "outputs": [],
   "source": [
    "\"\"\"\n",
    "116. take the number of employees count from the user and ask the inputs required for the bmi for each and every person. \n",
    "The result should be like below\n",
    "empid:{“weight:”,”height”:,”age”:,”bmi”:0.9,”result”:”+ve”}\n",
    "\n",
    "\"\"\""
   ]
  },
  {
   "cell_type": "code",
   "execution_count": 19,
   "id": "564efdbd",
   "metadata": {},
   "outputs": [
    {
     "name": "stdout",
     "output_type": "stream",
     "text": [
      "enter the employees count....1\n",
      "enter emp id:12111\n",
      "weight:65\n",
      "height in cm:1.65\n",
      "age:25\n",
      "{'12111': {'weight': 65.0, 'height': 1.65, 'age': 25, 'bmi': 23.875114784205696, 'result': '+ve'}}\n"
     ]
    }
   ],
   "source": [
    "def bmivalue(w,h):\n",
    "    bmi = w/(h**2)\n",
    "    return bmi\n",
    "\n",
    "n = int(input(\"enter the employees count....\"))\n",
    "d = {}\n",
    "count = 0\n",
    "while count<n:\n",
    "#     d = {}\n",
    "    empid = input(\"enter emp id:\")\n",
    "    weight = float(input(\"weight:\"))\n",
    "    height = float(input(\"height in cm:\"))\n",
    "    age = int(input(\"age:\"))\n",
    "    bmi = bmivalue(weight,height)\n",
    "    result = ''\n",
    "    if 18.5 < bmi < 24.9:\n",
    "        result = \"+ve\"\n",
    "    else :\n",
    "        result = \"-ve\"\n",
    "    d[empid] = {}\n",
    "    d[empid][\"weight\"]=weight\n",
    "    d[empid][\"height\"]=height\n",
    "    d[empid][\"age\"]=age\n",
    "    \n",
    "    d[empid][\"bmi\"]=bmi\n",
    "    \n",
    "    d[empid][\"result\"]=result\n",
    "    count +=1\n",
    "print(d)\n",
    "            "
   ]
  },
  {
   "cell_type": "code",
   "execution_count": null,
   "id": "f7305043",
   "metadata": {},
   "outputs": [],
   "source": [
    "\"\"\"\n",
    "118. copy 1 file content in to another file(Take the source and destination file path from the user)\n",
    "\"\"\""
   ]
  },
  {
   "cell_type": "code",
   "execution_count": 2,
   "id": "862197b2",
   "metadata": {},
   "outputs": [
    {
     "ename": "FileNotFoundError",
     "evalue": "[Errno 2] No such file or directory: 'data.txt'",
     "output_type": "error",
     "traceback": [
      "\u001b[1;31m---------------------------------------------------------------------------\u001b[0m",
      "\u001b[1;31mFileNotFoundError\u001b[0m                         Traceback (most recent call last)",
      "Cell \u001b[1;32mIn[2], line 1\u001b[0m\n\u001b[1;32m----> 1\u001b[0m \u001b[38;5;28;01mwith\u001b[39;00m \u001b[38;5;28mopen\u001b[39m(\u001b[38;5;124m\"\u001b[39m\u001b[38;5;124mdata.txt\u001b[39m\u001b[38;5;124m\"\u001b[39m, \u001b[38;5;124m\"\u001b[39m\u001b[38;5;124mr\u001b[39m\u001b[38;5;124m\"\u001b[39m) \u001b[38;5;28;01mas\u001b[39;00m f:\n\u001b[0;32m      2\u001b[0m     data \u001b[38;5;241m=\u001b[39m f\u001b[38;5;241m.\u001b[39mread()\n\u001b[0;32m      3\u001b[0m \u001b[38;5;28mprint\u001b[39m(data)\n",
      "File \u001b[1;32m~\\anaconda3\\Lib\\site-packages\\IPython\\core\\interactiveshell.py:286\u001b[0m, in \u001b[0;36m_modified_open\u001b[1;34m(file, *args, **kwargs)\u001b[0m\n\u001b[0;32m    279\u001b[0m \u001b[38;5;28;01mif\u001b[39;00m file \u001b[38;5;129;01min\u001b[39;00m {\u001b[38;5;241m0\u001b[39m, \u001b[38;5;241m1\u001b[39m, \u001b[38;5;241m2\u001b[39m}:\n\u001b[0;32m    280\u001b[0m     \u001b[38;5;28;01mraise\u001b[39;00m \u001b[38;5;167;01mValueError\u001b[39;00m(\n\u001b[0;32m    281\u001b[0m         \u001b[38;5;124mf\u001b[39m\u001b[38;5;124m\"\u001b[39m\u001b[38;5;124mIPython won\u001b[39m\u001b[38;5;124m'\u001b[39m\u001b[38;5;124mt let you open fd=\u001b[39m\u001b[38;5;132;01m{\u001b[39;00mfile\u001b[38;5;132;01m}\u001b[39;00m\u001b[38;5;124m by default \u001b[39m\u001b[38;5;124m\"\u001b[39m\n\u001b[0;32m    282\u001b[0m         \u001b[38;5;124m\"\u001b[39m\u001b[38;5;124mas it is likely to crash IPython. If you know what you are doing, \u001b[39m\u001b[38;5;124m\"\u001b[39m\n\u001b[0;32m    283\u001b[0m         \u001b[38;5;124m\"\u001b[39m\u001b[38;5;124myou can use builtins\u001b[39m\u001b[38;5;124m'\u001b[39m\u001b[38;5;124m open.\u001b[39m\u001b[38;5;124m\"\u001b[39m\n\u001b[0;32m    284\u001b[0m     )\n\u001b[1;32m--> 286\u001b[0m \u001b[38;5;28;01mreturn\u001b[39;00m io_open(file, \u001b[38;5;241m*\u001b[39margs, \u001b[38;5;241m*\u001b[39m\u001b[38;5;241m*\u001b[39mkwargs)\n",
      "\u001b[1;31mFileNotFoundError\u001b[0m: [Errno 2] No such file or directory: 'data.txt'"
     ]
    }
   ],
   "source": [
    "with open(\"data.txt\", \"r\") as f:\n",
    "    data = f.read()\n",
    "print(data)"
   ]
  },
  {
   "cell_type": "code",
   "execution_count": 1,
   "id": "1fb22f19",
   "metadata": {},
   "outputs": [
    {
     "ename": "NameError",
     "evalue": "name 'data' is not defined",
     "output_type": "error",
     "traceback": [
      "\u001b[1;31m---------------------------------------------------------------------------\u001b[0m",
      "\u001b[1;31mNameError\u001b[0m                                 Traceback (most recent call last)",
      "Cell \u001b[1;32mIn[1], line 2\u001b[0m\n\u001b[0;32m      1\u001b[0m \u001b[38;5;28;01mwith\u001b[39;00m \u001b[38;5;28mopen\u001b[39m(\u001b[38;5;124m\"\u001b[39m\u001b[38;5;124mdata1.txt\u001b[39m\u001b[38;5;124m\"\u001b[39m, \u001b[38;5;124m\"\u001b[39m\u001b[38;5;124mw\u001b[39m\u001b[38;5;124m\"\u001b[39m) \u001b[38;5;28;01mas\u001b[39;00m f1:\n\u001b[1;32m----> 2\u001b[0m     d \u001b[38;5;241m=\u001b[39m f1\u001b[38;5;241m.\u001b[39mwrite(data)\n\u001b[0;32m      3\u001b[0m     \u001b[38;5;28mprint\u001b[39m(\u001b[38;5;124m\"\u001b[39m\u001b[38;5;124mDone\u001b[39m\u001b[38;5;124m\"\u001b[39m)\n\u001b[0;32m      4\u001b[0m     f1\u001b[38;5;241m.\u001b[39mclose()\n",
      "\u001b[1;31mNameError\u001b[0m: name 'data' is not defined"
     ]
    }
   ],
   "source": [
    "with open(\"data1.txt\", \"w\") as f1:\n",
    "    d = f1.write(data)\n",
    "    print(\"Done\")\n",
    "    f1.close()"
   ]
  },
  {
   "cell_type": "code",
   "execution_count": 6,
   "id": "6e9be42b",
   "metadata": {},
   "outputs": [
    {
     "name": "stdout",
     "output_type": "stream",
     "text": [
      "{'bound', 'with', 'print', 'headache', 'the', 'is', 'notions', 'up', 'strongly'}\n"
     ]
    }
   ],
   "source": []
  },
  {
   "cell_type": "code",
   "execution_count": 10,
   "id": "a72da801",
   "metadata": {},
   "outputs": [
    {
     "name": "stdout",
     "output_type": "stream",
     "text": [
      "Enter symptoms (comma-separated): headache,fkwpfkw;fl;fc,wkfwofwf\n",
      "\n",
      "Based on the symptoms entered, you may have: No matching disease found\n",
      "Advice: Consult a healthcare professional.\n"
     ]
    }
   ],
   "source": [
    "import csv\n",
    "\n",
    "def read_health_data(file_path):\n",
    "    with open(file_path, 'r') as file:\n",
    "        reader = csv.DictReader(file)\n",
    "        health_data = [row for row in reader]\n",
    "    return health_data\n",
    "\n",
    "def suggest_disease_and_advice(health_data, symptoms):\n",
    "    for record in health_data:\n",
    "        if set(symptoms.lower().split()) & set(record['symptoms'].lower().split()):\n",
    "            return record['disease'], record['advice']\n",
    "    return \"No matching disease found\", \"Consult a healthcare professional.\"\n",
    "\n",
    "def main():\n",
    "    file_path = 'health.csv'\n",
    "    health_data = read_health_data(file_path)\n",
    "\n",
    "    # Take user input for symptoms\n",
    "    user_symptoms = input(\"Enter symptoms (comma-separated): \")\n",
    "\n",
    "    # Suggest disease and advice\n",
    "    disease, advice = suggest_disease_and_advice(health_data, user_symptoms)\n",
    "\n",
    "    # Display suggestions\n",
    "    print(f\"\\nBased on the symptoms entered, you may have: {disease}\")\n",
    "    print(f\"Advice: {advice}\")\n",
    "\n",
    "if __name__ == \"__main__\":\n",
    "    main()\n"
   ]
  },
  {
   "cell_type": "code",
   "execution_count": null,
   "id": "115dd715",
   "metadata": {},
   "outputs": [],
   "source": []
  }
 ],
 "metadata": {
  "kernelspec": {
   "display_name": "Python 3 (ipykernel)",
   "language": "python",
   "name": "python3"
  },
  "language_info": {
   "codemirror_mode": {
    "name": "ipython",
    "version": 3
   },
   "file_extension": ".py",
   "mimetype": "text/x-python",
   "name": "python",
   "nbconvert_exporter": "python",
   "pygments_lexer": "ipython3",
   "version": "3.11.5"
  }
 },
 "nbformat": 4,
 "nbformat_minor": 5
}
