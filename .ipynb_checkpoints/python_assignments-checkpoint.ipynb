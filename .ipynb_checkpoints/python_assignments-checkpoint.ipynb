{
 "cells": [
  {
   "cell_type": "code",
   "execution_count": 3,
   "id": "e38905a5-349f-4bbf-bd45-af6d46f23ec1",
   "metadata": {},
   "outputs": [
    {
     "name": "stdin",
     "output_type": "stream",
     "text": [
      "enter number of people 100\n",
      "enter number of seats 20\n"
     ]
    },
    {
     "name": "stdout",
     "output_type": "stream",
     "text": [
      "total number of buses required is 5\n"
     ]
    }
   ],
   "source": [
    "#1..Take the input from the user for(Total number of people,Number of seats for bus. Based on two inputs\n",
    "#Decide how many number of buses required\n",
    "number_of_people=int(input('enter number of people'))\n",
    "number_of_seats_per_bus=int(input('enter number of seats'))\n",
    "total_number_buses_required=number_of_people//number_of_seats_per_bus\n",
    "print('total number of buses required is',total_number_buses_required)"
   ]
  },
  {
   "cell_type": "code",
   "execution_count": null,
   "id": "9033e0e3-72b2-469e-abe9-33a1f476e17a",
   "metadata": {},
   "outputs": [],
   "source": [
    "  #2.take temperature from the user and convert fahrenheit -> Celsius.\n"
   ]
  }
 ],
 "metadata": {
  "kernelspec": {
   "display_name": "Python 3 (ipykernel)",
   "language": "python",
   "name": "python3"
  },
  "language_info": {
   "codemirror_mode": {
    "name": "ipython",
    "version": 3
   },
   "file_extension": ".py",
   "mimetype": "text/x-python",
   "name": "python",
   "nbconvert_exporter": "python",
   "pygments_lexer": "ipython3",
   "version": "3.9.2"
  }
 },
 "nbformat": 4,
 "nbformat_minor": 5
}
