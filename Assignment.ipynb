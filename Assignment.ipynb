{
 "cells": [
  {
   "cell_type": "markdown",
   "id": "b5629220",
   "metadata": {},
   "source": [
    "# Assignments on variables expressions and statements"
   ]
  },
  {
   "cell_type": "code",
   "execution_count": 1,
   "id": "7888b53d",
   "metadata": {},
   "outputs": [
    {
     "name": "stdout",
     "output_type": "stream",
     "text": [
      "Enter number of people=5\n",
      "Enter no of seats are there in a bus=6\n",
      "1 buses are required\n"
     ]
    }
   ],
   "source": [
    "##1. Take the input from the user for(Total number of people,Number of seats for bus. Based on two\n",
    "##inputs Decide how many number of buses required\n",
    "n=int(input(\"Enter number of people=\"))\n",
    "m=int(input(\"Enter no of seats are there in a bus=\"))\n",
    "if n>=1 and m >=1:\n",
    "    no_of_buses_required=(n+m-1)//m\n",
    "    print(no_of_buses_required,\"buses are required\")\n",
    "else:\n",
    "    print(\"number of people and no of seats for bus must be greater than or equal 1\")"
   ]
  },
  {
   "cell_type": "code",
   "execution_count": 8,
   "id": "d466c44d",
   "metadata": {},
   "outputs": [
    {
     "name": "stdout",
     "output_type": "stream",
     "text": [
      "Enter foreign heat temperature=65\n",
      "18.333333333333332 c\n"
     ]
    }
   ],
   "source": [
    "##2.take temperature from the user and convert foreign heat -> Celsius.\n",
    "foreign_heat=float(input(\"Enter foreign heat temperature=\"))\n",
    "celsius=(foreign_heat-32)*5/9\n",
    "print(celsius,\"c\")"
   ]
  },
  {
   "cell_type": "code",
   "execution_count": 2,
   "id": "09118d19",
   "metadata": {},
   "outputs": [
    {
     "name": "stdout",
     "output_type": "stream",
     "text": [
      "Enter celsius temperature=25\n",
      "77.0 F\n"
     ]
    }
   ],
   "source": [
    "##3.take temperature from the user and convert Celsius → foreign heat.\n",
    "celsius=float(input(\"Enter celsius temperature=\"))\n",
    "foreign_heat=(celsius*9/5)+32\n",
    "print(foreign_heat,\"F\")"
   ]
  },
  {
   "cell_type": "code",
   "execution_count": 3,
   "id": "f48e480f",
   "metadata": {},
   "outputs": [
    {
     "name": "stdout",
     "output_type": "stream",
     "text": [
      "Enter any number=5\n",
      "Enter any number=6\n",
      "Enter any number=7\n",
      "Enter any number=8\n",
      "square value is= 121\n",
      "cube value is= 3375\n",
      "\n",
      "The y value is= 32.025\n",
      "\n",
      "The average of value of four values is= 6.5\n",
      "The sum of four values are= 26\n"
     ]
    }
   ],
   "source": [
    "##4.take four number from the user (variables name it as x1,x2,x3,x4)\n",
    "##Do the below operations\n",
    "##(x1+x2)**2, (x3+x4)**3\n",
    "##variance\n",
    "##standard deviation: sqrt(variance): User math module. Math.sqrt(variance)\n",
    "##Regression\n",
    "##y=mx+b\n",
    "##m=1.23\n",
    "##b=0.045\n",
    "##find out y\n",
    "##y=m*(x1+x2+x3+x4)+b\n",
    "##Find the average of four numbers\n",
    "##Find the sum of four numbers\n",
    "x1=int(input(\"Enter any number=\"))\n",
    "x2=int(input(\"Enter any number=\"))\n",
    "x3=int(input(\"Enter any number=\"))\n",
    "x4=int(input(\"Enter any number=\"))\n",
    "square=(x1+x2)**2\n",
    "cube=(x3+x4)**3\n",
    "print(\"square value is=\",square)\n",
    "print(\"cube value is=\",cube)\n",
    "print()\n",
    "m=1.23\n",
    "b=0.045\n",
    "x=x1+x2+x3+x4\n",
    "y=m*x+b\n",
    "print(\"The y value is=\",y)\n",
    "print()\n",
    "print(\"The average of value of four values is=\",x/4)\n",
    "print(\"The sum of four values are=\",x)"
   ]
  },
  {
   "cell_type": "code",
   "execution_count": 49,
   "id": "66f100b2",
   "metadata": {},
   "outputs": [
    {
     "name": "stdout",
     "output_type": "stream",
     "text": [
      "Enter the distance in km=1\n",
      "1 kilo meters=1000 meters\n",
      "1 kilo meters=100000 centi meters\n",
      "1 kilo meters=1000000 milli meters\n",
      "1 kilo meters=3280.84 feets\n",
      "1 kilo meters=1093.61 yards\n"
     ]
    }
   ],
   "source": [
    "##5.Take the distance in km\n",
    "##Show that in cm, meters, in milli meters, cents, feets, yards\n",
    "km=int(input(\"Enter the distance in km=\"))\n",
    "print(f\"{km} kilo meters={km*1000} meters\")\n",
    "print(f\"{km} kilo meters={km*100000} centi meters\")\n",
    "print(f\"{km} kilo meters={km*1000000} milli meters\")\n",
    "print(f\"{km} kilo meters={km*3280.84} feets\")\n",
    "print(f\"{km} kilo meters={km*1093.61} yards\")"
   ]
  },
  {
   "cell_type": "code",
   "execution_count": 58,
   "id": "373b9af8",
   "metadata": {},
   "outputs": [
    {
     "name": "stdout",
     "output_type": "stream",
     "text": [
      "Enter your hard disk size=5\n",
      "5 GB=5120 Mega bytes\n",
      "5 GB=5242880 Kilo bytes\n",
      "5 GB=0.0048828125 Tera bytes\n",
      "5 GB=4.76837158e-06 Peta bytes\n"
     ]
    }
   ],
   "source": [
    "##6.Take the size of your hard disk in GB\n",
    "##Show that in MB, KB, TB, PB\n",
    "size=int(input(\"Enter your hard disk size=\"))\n",
    "print(f\"{size} GB={size*1024} Mega bytes\")\n",
    "print(f\"{size} GB={size*1048576} Kilo bytes\")\n",
    "print(f\"{size} GB={size*0.0009765625} Tera bytes\")\n",
    "print(f\"{size} GB={size*9.53674316e-7} Peta bytes\")"
   ]
  },
  {
   "cell_type": "code",
   "execution_count": 28,
   "id": "000dadd5",
   "metadata": {},
   "outputs": [
    {
     "name": "stdout",
     "output_type": "stream",
     "text": [
      "Enter your name=ramesh\n",
      "Enter your age=26\n",
      "Enter your height=5.6\n",
      "Name:ramesh,Age:26,Height:5.600000\n"
     ]
    }
   ],
   "source": [
    "##7. Take name, age, height from the user and print like below\n",
    "##The details of the person: Name:name of the person, Age:age of the person, Height:height of the person\n",
    "\n",
    "##Note: make sure that no space between : and a value and should be space after “COMA”\n",
    "name=input(\"Enter your name=\")\n",
    "age=int(input(\"Enter your age=\"))\n",
    "height=float(input(\"Enter your height=\"))\n",
    "print(f\"Name:%s,Age:%d,Height:%f\"%(name,age,height))"
   ]
  },
  {
   "cell_type": "code",
   "execution_count": 22,
   "id": "fec3ae0c",
   "metadata": {},
   "outputs": [
    {
     "name": "stdout",
     "output_type": "stream",
     "text": [
      "Enter person weight in kilograms=75\n",
      "Enter person height in meters=agga\n",
      "Invalid input please enter valid input\n"
     ]
    }
   ],
   "source": [
    "##8. BMI calculation: take required parameters for BMI calculation from the user and calculate BMI of the person.\n",
    "try:\n",
    "    weight=float(input(\"Enter person weight in kilograms=\"))\n",
    "    height=float(input(\"Enter person height in meters=\"))\n",
    "    BMI=weight/(height**2)\n",
    "    print(BMI)\n",
    "except ValueError:\n",
    "    print(\"Invalid input please enter valid input\")\n"
   ]
  },
  {
   "cell_type": "code",
   "execution_count": 20,
   "id": "f1dd4f8c",
   "metadata": {},
   "outputs": [
    {
     "name": "stdout",
     "output_type": "stream",
     "text": [
      "name=Jayaram,age=1.600000,height=3.535623,weight=10.343857\n"
     ]
    }
   ],
   "source": [
    "##9. name=\"Jayaram\"\n",
    "##age=1.6\n",
    "##height=3.5356234\n",
    "##weight=10.343856783\n",
    "##By using above inputs print the output\n",
    "##Name:Jayaram, Age:1.6, Height:3.54, Weight:10.344\n",
    "##Note: Use format specifiers(%s, %d, %f)\n",
    "name=\"Jayaram\"\n",
    "age=1.6\n",
    "height=3.5356234\n",
    "weight=10.343856783\n",
    "print(\"name=%s,age=%f,height=%f,weight=%f\"%(name,age,height,weight))\n",
    "                                    "
   ]
  },
  {
   "cell_type": "code",
   "execution_count": 1,
   "id": "1c92e8b9",
   "metadata": {},
   "outputs": [
    {
     "name": "stdout",
     "output_type": "stream",
     "text": [
      "Enter 3 characters=ABc\n",
      "abc\n"
     ]
    }
   ],
   "source": [
    "##10. Take three upper case letters from the user convert in to small case.\n",
    "a=[i.lower() for i in input(\"Enter 3 characters=\") if i.upper()]\n",
    "print(\"\".join(a))"
   ]
  },
  {
   "cell_type": "code",
   "execution_count": 4,
   "id": "24f6b834",
   "metadata": {},
   "outputs": [
    {
     "name": "stdout",
     "output_type": "stream",
     "text": [
      "Enter base value=5\n",
      "Enter exponent value=3\n"
     ]
    }
   ],
   "source": [
    "##11. take base and exponent value from the user and print like in mathematics:\n",
    "##example: base=2, exponent=3: 2 3\n",
    "##Use: 2\\u00b3\n",
    "a=int(input(\"Enter base value=\"))\n",
    "b=int(input(\"Enter exponent value=\"))\n"
   ]
  },
  {
   "cell_type": "code",
   "execution_count": 67,
   "id": "2277e9fa",
   "metadata": {},
   "outputs": [
    {
     "name": "stdout",
     "output_type": "stream",
     "text": [
      "total cost is= 317\n",
      "average cost is= 79.25\n",
      "maximum cost is= 180\n",
      "minimum cost is= 20\n"
     ]
    }
   ],
   "source": [
    "##12. Take some groceries cost prices and print total cost and average cost, what is the max cost, what is the minimum cost.\n",
    "oil_cost=180\n",
    "sugar_cost=45\n",
    "rice_cost=72\n",
    "salt_cost=20\n",
    "total_cost=oil_cost+sugar_cost+rice_cost+salt_cost\n",
    "average_cost=total_cost/4\n",
    "print(\"total cost is=\",total_cost)\n",
    "print(\"average cost is=\",average_cost)\n",
    "print(\"maximum cost is=\",max(oil_cost,sugar_cost,rice_cost,salt_cost))\n",
    "print(\"minimum cost is=\",min(oil_cost,sugar_cost,rice_cost,salt_cost))"
   ]
  },
  {
   "cell_type": "markdown",
   "id": "06703bc5",
   "metadata": {},
   "source": [
    "# Variable Assignments:"
   ]
  },
  {
   "cell_type": "code",
   "execution_count": 5,
   "id": "bcf99aca",
   "metadata": {},
   "outputs": [
    {
     "name": "stdout",
     "output_type": "stream",
     "text": [
      "Enter value=ten\n",
      "It is ten\n"
     ]
    }
   ],
   "source": [
    "#13. Assign “ten” value to variable it is 10 otherwise assign “Not ten”\n",
    "#Note: write two versions of program\n",
    "#Version1: use and operator\n",
    "#Version2: use or operator\n",
    "a=input(\"Enter value=\")\n",
    "if a==\"ten\":\n",
    "    print(\"It is ten\")\n",
    "else:\n",
    "    print(\"It is not a ten\")\n"
   ]
  },
  {
   "cell_type": "markdown",
   "id": "c0d52df7",
   "metadata": {},
   "source": [
    "# Conditional statements"
   ]
  },
  {
   "cell_type": "code",
   "execution_count": 1,
   "id": "4e875ed1",
   "metadata": {},
   "outputs": [
    {
     "name": "stdout",
     "output_type": "stream",
     "text": [
      "Enter number of people=250\n",
      "Enter number of buses=5\n",
      "Enter number of seats=25\n",
      "Enter adjust factor=25\n",
      "5\n",
      "sufficient buses\n"
     ]
    }
   ],
   "source": [
    "#13. Take the input from the user for(Total number of people, total number of buses, Number of\n",
    "#seats for bus, adjust factor). Based on four inputs\n",
    "#Decide whether there is sufficient buses or not and give solution for how many extra buses required.\n",
    "people=int(input(\"Enter number of people=\"))\n",
    "buses=int(input(\"Enter number of buses=\"))\n",
    "seats=int(input(\"Enter number of seats=\"))\n",
    "factor=int(input(\"Enter adjust factor=\"))\n",
    "no_of_buses=(people)//(seats+factor)\n",
    "print(no_of_buses)\n",
    "if (people)%(seats+factor)!=0:\n",
    "    no_of_buses +=1\n",
    "    if buses>no_of_buses:\n",
    "        print(f\"{no_of_buses} buses required but\")\n",
    "        print(f\"{buses-no_of_buses} extra buses are their\")\n",
    "    else:\n",
    "        print(\"No sufficient buses\")\n",
    "        print(f\"{no_of_buses-buses} buses are required\")\n",
    "else:\n",
    "    print(\"sufficient buses\")"
   ]
  },
  {
   "cell_type": "code",
   "execution_count": 72,
   "id": "ef4c9e12",
   "metadata": {},
   "outputs": [
    {
     "name": "stdout",
     "output_type": "stream",
     "text": [
      "Enter any number=4\n",
      "4 is a even number\n"
     ]
    }
   ],
   "source": [
    "#14.Take number from the user decide whether it is even or odd.\n",
    "n=int(input(\"Enter any number=\"))\n",
    "if n%2==0:\n",
    "    print(\"{} is a even number\".format(n))\n",
    "else:\n",
    "    print(\"{} is an odd number\".format(n))"
   ]
  },
  {
   "cell_type": "code",
   "execution_count": 74,
   "id": "43df93c5",
   "metadata": {},
   "outputs": [
    {
     "name": "stdout",
     "output_type": "stream",
     "text": [
      "Enter any number=-9\n",
      "-9 is a negative number\n"
     ]
    }
   ],
   "source": [
    "#15.take number from the user decide whether it is positive number or negative number\n",
    "n=int(input(\"Enter any number=\"))\n",
    "if n>0:\n",
    "    print(\"{} is a positive number\".format(n))\n",
    "else:\n",
    "    print(\"{} is a negative number\".format(n))"
   ]
  },
  {
   "cell_type": "code",
   "execution_count": 3,
   "id": "c740bdf5",
   "metadata": {},
   "outputs": [
    {
     "name": "stdout",
     "output_type": "stream",
     "text": [
      "Enter any string=\n",
      "Error:you did not enter anything\n"
     ]
    }
   ],
   "source": [
    "#16.take a string from the user print the length. if the user not given anything then show an error message\n",
    "s=input(\"Enter any string=\")\n",
    "if len(s)==0:\n",
    "    print(\"Error:you did not enter anything\")\n",
    "else:\n",
    "    print(\"The length of the string is=\",len(s))"
   ]
  },
  {
   "cell_type": "code",
   "execution_count": 6,
   "id": "7de5dec3",
   "metadata": {},
   "outputs": [
    {
     "name": "stdout",
     "output_type": "stream",
     "text": [
      "Enter any number=10\n",
      "Enter any number=6\n",
      "Enter your option add/sub/mul/div/quit=mul\n",
      "The multiplication value is= 60\n"
     ]
    }
   ],
   "source": [
    "#17.code to perform mathematical operations. take two numbers from the user and show the\n",
    "#below menu\n",
    "#1. add,\n",
    "#2. sub,\n",
    "#3. mul,\n",
    "#4.div,\n",
    "#5.quit\n",
    "#Enter an option:\n",
    "#based on the option need to perform an operations\n",
    "\n",
    "a=int(input(\"Enter any number=\"))\n",
    "b=int(input(\"Enter any number=\"))\n",
    "option=input(\"Enter your option add/sub/mul/div/quit=\")\n",
    "match option:\n",
    "    case \"add\":\n",
    "        print(\"The addition value is=\",a+b)\n",
    "    case \"sub\":\n",
    "        print(\"The subtraction value is=\",a-b)\n",
    "    case \"mul\":\n",
    "        print(\"The multiplication value is=\",a*b)\n",
    "    case \"div\":\n",
    "        print(\"The division value is=\",a/b)\n",
    "    case \"quit\":\n",
    "        print(\"Thanks for using our application\")\n",
    "    case _:\n",
    "        print(\"your option is not correct\")\n"
   ]
  },
  {
   "cell_type": "code",
   "execution_count": 7,
   "id": "c23c49e6",
   "metadata": {},
   "outputs": [
    {
     "name": "stdout",
     "output_type": "stream",
     "text": [
      "Enter any number corresponiding values like 1)kinds 2) men's 3) women's=1\n",
      "your are a kid\n"
     ]
    }
   ],
   "source": [
    "#18. show the menu:\n",
    "#1. kids\n",
    "#2. Men's\n",
    "#3. Women's\n",
    "#Show the corresponding message based on the selection.\n",
    "\n",
    "#Option:1: you are a kid\n",
    "#2: you are a gentlemen\n",
    "#3: you are a good women\n",
    "\n",
    "#Mention error message if the option value >3.\n",
    "option=int(input(\"Enter any number corresponiding values like 1)kinds 2) men's 3) women's=\"))\n",
    "if option==1:\n",
    "    print(\"your are a kid\")\n",
    "elif option==2:\n",
    "    print(\"your are a gentlemen\")\n",
    "elif option==3:\n",
    "    print(\"your are a good women\")\n",
    "else:\n",
    "    print(\"we have only 3 options we have to enter 1 or 2 or 3 only\")\n",
    "    \n"
   ]
  },
  {
   "cell_type": "code",
   "execution_count": 1,
   "id": "baac2259",
   "metadata": {},
   "outputs": [
    {
     "name": "stdout",
     "output_type": "stream",
     "text": [
      "The given substring is there in actual string\n"
     ]
    }
   ],
   "source": [
    "# 19. write a program to chcek given substring is there in actual string or not?\n",
    "# example: act=\"python is a pure object oriented programing language\"\n",
    "# check whether “pure” is there in act or not.\n",
    "# Note: Use in operator\n",
    "act=\"python is a pure object oriented programing language\"\n",
    "if \"pure\" in act:\n",
    "    print(\"The given substring is there in actual string\")\n",
    "else:\n",
    "    print(\"The given substring is not there in actual string\")\n"
   ]
  },
  {
   "cell_type": "code",
   "execution_count": 77,
   "id": "1752aea3",
   "metadata": {},
   "outputs": [
    {
     "name": "stdout",
     "output_type": "stream",
     "text": [
      "Enter any number=5\n",
      "Enter any number=4\n",
      "Enter any number=3\n",
      "5 is big\n"
     ]
    }
   ],
   "source": [
    "#20. Take three numbers from the user and decide which is big\n",
    "a=int(input(\"Enter any number=\"))\n",
    "b=int(input(\"Enter any number=\"))\n",
    "c=int(input(\"Enter any number=\"))\n",
    "if a>b and a>c:\n",
    "    print(\"{} is big\".format(a))\n",
    "elif b>c:\n",
    "    print(\"{} is big\".format(b))\n",
    "else:\n",
    "    print(\"{} is big\".format(c))"
   ]
  },
  {
   "cell_type": "code",
   "execution_count": 17,
   "id": "1750fc38",
   "metadata": {},
   "outputs": [
    {
     "name": "stdout",
     "output_type": "stream",
     "text": [
      "Enter your age=25\n",
      "Enter your gender=male\n",
      "male is eligible for marriage\n"
     ]
    }
   ],
   "source": [
    "# 21. Take age and gender from the user and decide whether he is eligible for marriage in India or not.\n",
    "# Age criteria: men age > 24, women > 21\n",
    "def check_eligibility(age,gender):\n",
    "    if gender==\"male\":\n",
    "        return age >24\n",
    "    elif gender==\"female\":\n",
    "        return age>21\n",
    "    else:\n",
    "        return False\n",
    "def main():\n",
    "    try:\n",
    "        age=int(input(\"Enter your age=\"))\n",
    "        gender=input(\"Enter your gender=\")\n",
    "        if check_eligibility(age,gender):\n",
    "            print(f\"{gender} is eligible for marriage\")\n",
    "        else:\n",
    "            print(f\"{gender} is not eligible for marriage\")\n",
    "    except ValueError:\n",
    "        print(\"please enter valid age and gender\")\n",
    "main()\n",
    "    \n"
   ]
  },
  {
   "cell_type": "code",
   "execution_count": 6,
   "id": "b0817c67",
   "metadata": {},
   "outputs": [
    {
     "name": "stdout",
     "output_type": "stream",
     "text": [
      "Enter gender option 1 for men,2 for women=2\n",
      "Enter age=10\n",
      "1) theatre eligibility=yes\n",
      "2) voting eligibility=no\n",
      "3) marriage eligibility=no\n",
      "4) government eligibility=no\n",
      "5) driving_licence=no\n"
     ]
    }
   ],
   "source": [
    "# 22. Take an age and gender from the user: and mention that what he/she can do in india.\n",
    "# conditions\n",
    "# 1. Theatre: 5 for men 7 for women\n",
    "# 2. Voting system: 18 for men and women\n",
    "# 3. Marriage in india: 23 for men and for women >21\n",
    "# 4. For govt jobs: (min:18, max:32) for men and (min:18, max:34) for women\n",
    "# 5. For driving licence: (min:18, max:60) for men and women\n",
    "# Eligibility:\n",
    "# 1. theatre\n",
    "# 2. Voting system\n",
    "# 3. Marriage in india\n",
    "# 4. For govt obs\n",
    "# 5. For driving licence:\n",
    "\n",
    "# Enter an option:\n",
    "# Gender:\n",
    "# 1. men\n",
    "# 2. women\n",
    "# Enter an option:\n",
    "# Enter an age of person:\n",
    "def check_eligibility(gender,age):\n",
    "    if gender==\"male\":\n",
    "        theatre_eligibility=age>5\n",
    "        voting_eligibility=age>=18\n",
    "        marriage_eligibility=age>23\n",
    "        government_eligibility=age>=18 and age<=32\n",
    "        driving_licence=age>=18 and age<=34\n",
    "    elif gender==\"female\":\n",
    "        theatre_eligibility=age>7\n",
    "        voting_eligibility=age>=18\n",
    "        marriage_eligibility=age>21\n",
    "        government_eligibility=age>18 and age<34\n",
    "        driving_licence=age>18 and age<60\n",
    "    else:\n",
    "        print(\"Invalid gender please enter 'male' or 'female'\")\n",
    "    print(f\"1) theatre eligibility={'yes' if theatre_eligibility else 'no'}\")\n",
    "    print(f\"2) voting eligibility={'yes' if voting_eligibility else 'no'}\")\n",
    "    print(f\"3) marriage eligibility={'yes' if marriage_eligibility else 'no'}\")\n",
    "    print(f\"4) government eligibility={'yes' if government_eligibility else 'no'}\")\n",
    "    print(f\"5) driving_licence={'yes' if driving_licence else 'no'}\")\n",
    "gender_option=input(\"Enter gender option 1 for men,2 for women=\")\n",
    "gender=\"male\" if gender_option==\"1\" else \"female\"\n",
    "age=int(input(\"Enter age=\"))\n",
    "check_eligibility(gender,age) \n"
   ]
  },
  {
   "cell_type": "code",
   "execution_count": 23,
   "id": "a5fa3ce5",
   "metadata": {},
   "outputs": [
    {
     "name": "stdout",
     "output_type": "stream",
     "text": [
      "Enter your option (1.windows/2.android/3.mac)=5\n",
      "There is only three floors, please select 1 or 2 or 3\n"
     ]
    }
   ],
   "source": [
    "#23. operating systems:\n",
    "#1.windows\n",
    "#2.android\n",
    "#3.mac\n",
    "#Enter an option:\n",
    "\n",
    "#If the user enters 1 then show \"Goto first floor and buy windows laptop or mobile\"\n",
    "#If the user enters 2 then show \"Goto second floor and buy adroid mobiles\"\n",
    "#If the user enters 3 then show \"Goto third floor and buy mac laptop or iphones\"\n",
    "#If the user enters other than 1 or 2 or 3 then show \"There is only three floors, please select 1 or\n",
    "#2 or 3\"\n",
    "option=int(input(\"Enter your option (1.windows/2.android/3.mac)=\"))\n",
    "if option==1:\n",
    "    print(\"Goto first floor and buy windows laptop or mobile\")\n",
    "elif option==2:\n",
    "    print(\"Goto second floor and buy adroid mobiles\")\n",
    "elif option==3:\n",
    "    print(\"Goto third floor and buy mac laptop or iphones\")\n",
    "else:\n",
    "    print(\"There is only three floors, please select 1 or 2 or 3\")"
   ]
  },
  {
   "cell_type": "code",
   "execution_count": 14,
   "id": "94a07472",
   "metadata": {},
   "outputs": [
    {
     "name": "stdout",
     "output_type": "stream",
     "text": [
      "Enter age65\n",
      "The person is a=old codger\n"
     ]
    }
   ],
   "source": [
    "# 24.Given an age, figure out whether someone's a baby, toddler, child, teenager, adult or old codger.\n",
    "def age_checking(age):\n",
    "    if age<0:\n",
    "        return \"Invalid age\"\n",
    "    elif age<1:\n",
    "        return \"Baby\"\n",
    "    elif age<3:\n",
    "        return \"Toddler\"\n",
    "    elif age<13:\n",
    "        return \"Child\"\n",
    "    elif age<20:\n",
    "        return \"Teenager\"\n",
    "    elif age<65:\n",
    "        return \"Adult\"\n",
    "    else:\n",
    "        return \"old codger\"\n",
    "age=int(input(\"Enter age\"))\n",
    "print(f\"The person is a={age_checking(age)}\")\n"
   ]
  },
  {
   "cell_type": "code",
   "execution_count": 8,
   "id": "50aa459e",
   "metadata": {},
   "outputs": [
    {
     "name": "stdout",
     "output_type": "stream",
     "text": [
      "Enter any number=50\n",
      "Enter any number=2\n",
      "a is divisible by b\n"
     ]
    }
   ],
   "source": [
    "#25.Take two number a,b from the user and check whether a is divisible by b or not\n",
    "a=int(input(\"Enter any number=\"))\n",
    "b=int(input(\"Enter any number=\"))\n",
    "if a%b==0:\n",
    "    print(\"a is divisible by b\")\n",
    "else:\n",
    "    print(\"a is not divisible by b\")"
   ]
  },
  {
   "cell_type": "code",
   "execution_count": 16,
   "id": "541b6748",
   "metadata": {},
   "outputs": [
    {
     "name": "stdout",
     "output_type": "stream",
     "text": [
      "Enter any letter='\n",
      "The given value is a symbol\n"
     ]
    }
   ],
   "source": [
    "#26. Take a letter from the user and print that letter belongs to which category I.e is it a small letter or\n",
    "#capital letter or number or special symbol\n",
    "v=input(\"Enter any letter=\")\n",
    "if v.islower():\n",
    "    print(\"The given value is a small case letter\")\n",
    "elif v.isupper():\n",
    "    print(\"The given value is a upper case letter\")\n",
    "elif v.isdigit():\n",
    "    print(\"The given value is a digit\")\n",
    "else:\n",
    "    print(\"The given value is a symbol\")"
   ]
  },
  {
   "cell_type": "markdown",
   "id": "c8c68a9e",
   "metadata": {},
   "source": [
    "# looping statements"
   ]
  },
  {
   "cell_type": "code",
   "execution_count": 18,
   "id": "c10f316d",
   "metadata": {},
   "outputs": [
    {
     "name": "stdout",
     "output_type": "stream",
     "text": [
      "Enter any number=15\n",
      "15 is not a prime number\n"
     ]
    }
   ],
   "source": [
    "#25. take a number from the user and check whether it is prime?\n",
    "n=int(input(\"Enter any number=\"))\n",
    "if n>1:\n",
    "    for i in range(2,n//2):\n",
    "        if n%i==0:\n",
    "            print(\"{} is not a prime number\".format(n))\n",
    "            break\n",
    "    else:\n",
    "        print(\"{} is a prime number\".format(n))\n",
    "else:\n",
    "    print(\"{} is not a prime number\".format(n))\n",
    "    \n"
   ]
  },
  {
   "cell_type": "code",
   "execution_count": 21,
   "id": "d621046a",
   "metadata": {},
   "outputs": [
    {
     "name": "stdout",
     "output_type": "stream",
     "text": [
      "Enter anything=p\n",
      "The given value is not a digit\n"
     ]
    }
   ],
   "source": [
    "#26. take a string from the user and check contains only digits or not?\n",
    "a=input(\"Enter anything=\")\n",
    "if a.isdigit():\n",
    "    print(\"The given value is a digit\")\n",
    "else:\n",
    "    print(\"The given value is not a digit\")"
   ]
  },
  {
   "cell_type": "code",
   "execution_count": 23,
   "id": "0c52e70f",
   "metadata": {},
   "outputs": [
    {
     "name": "stdout",
     "output_type": "stream",
     "text": [
      "Enter anything=5\n",
      "The given value is not a alphabet\n"
     ]
    }
   ],
   "source": [
    "#27. take a string from the user and check contains only alphabets or not?\n",
    "a=input(\"Enter anything=\")\n",
    "if a.isalpha():\n",
    "    print(\"The given value is a alphabet\")\n",
    "else:\n",
    "    print(\"The given value is not a alphabet\")"
   ]
  },
  {
   "cell_type": "code",
   "execution_count": 27,
   "id": "90626cd4",
   "metadata": {},
   "outputs": [
    {
     "name": "stdout",
     "output_type": "stream",
     "text": [
      "Enter any special chars=*\n",
      "The given value is a special char\n"
     ]
    }
   ],
   "source": [
    "#28. take a string from the user and check contains only special chars or not?\n",
    "a=input(\"Enter any special chars=\")\n",
    "if not a.isalnum():\n",
    "    print(\"The given value is a special char\")\n",
    "else:\n",
    "    print(\"The given value is not a special char\")\n",
    "    "
   ]
  },
  {
   "cell_type": "code",
   "execution_count": 29,
   "id": "5674e324",
   "metadata": {},
   "outputs": [
    {
     "name": "stdout",
     "output_type": "stream",
     "text": [
      "Enter any value=A\n",
      "The given value is a capital letter\n"
     ]
    }
   ],
   "source": [
    "#29.take a string from the user and check contains only capital letters or not?\n",
    "a=input(\"Enter any value=\")\n",
    "if a.isupper():\n",
    "    print(\"The given value is a capital letter\")\n",
    "else:\n",
    "    print(\"The given value is not a capital letter\")"
   ]
  },
  {
   "cell_type": "code",
   "execution_count": 31,
   "id": "75d337e6",
   "metadata": {},
   "outputs": [
    {
     "name": "stdout",
     "output_type": "stream",
     "text": [
      "Enter any string=Bhagavaan\n",
      "The given string is not a small letters\n"
     ]
    }
   ],
   "source": [
    "#30.take a string from the user and check contains only small letters or not?\n",
    "a=input(\"Enter any string=\")\n",
    "if a.islower():\n",
    "    print(\"The given string is a small letters\")\n",
    "else:\n",
    "    print(\"The given string is not a small letters\")"
   ]
  },
  {
   "cell_type": "code",
   "execution_count": 56,
   "id": "414a4396",
   "metadata": {},
   "outputs": [
    {
     "name": "stdout",
     "output_type": "stream",
     "text": [
      "apple,orange,apple,grape,orange,APPLE,APPLE,orange\n"
     ]
    }
   ],
   "source": [
    "#31. WAP to replace last n occurrence of give string.\n",
    "#For example:”apple,orange,apple,grape,orange,apple,apple,orange”\n",
    "#source: “apple”\n",
    "#last occurrences: 2\n",
    "\n",
    "#replace with: APPLE\n",
    "#output:”apple,orange,apple,grape,orange,APPLE,APPLE,orange”\n",
    "a=\"apple,orange,apple,grape,orange,apple,apple,orange\"\n",
    "print(\"APPLE\".join(a.rsplit(\"apple\",2)))"
   ]
  },
  {
   "cell_type": "code",
   "execution_count": 75,
   "id": "93c762b2",
   "metadata": {},
   "outputs": [
    {
     "name": "stdout",
     "output_type": "stream",
     "text": [
      "Enter any number=robo2.0\n",
      "The given string does not contain numbers\n"
     ]
    }
   ],
   "source": [
    "#32. WAP to check given string contains numbers or not. it should consider float numbers also.\n",
    "a=input(\"Enter any number=\")\n",
    "if a.isalnum():\n",
    "    print(\"The given string contain numbers\")\n",
    "else:\n",
    "    print(\"The given string does not contain numbers\")"
   ]
  },
  {
   "cell_type": "code",
   "execution_count": 88,
   "id": "87027e59",
   "metadata": {},
   "outputs": [
    {
     "name": "stdout",
     "output_type": "stream",
     "text": [
      "Enter any string=BHAGAVAAN\n",
      "bhagavaan"
     ]
    }
   ],
   "source": [
    "#33. Convert the total string in to lower case. Without using lower() function.\n",
    "a=input(\"Enter any string=\")\n",
    "if a.isupper():\n",
    "    for i in a:\n",
    "        print(chr(ord(i)+32),end=\"\")\n",
    "else:\n",
    "    print(a)"
   ]
  },
  {
   "cell_type": "code",
   "execution_count": 92,
   "id": "9b1bc159",
   "metadata": {},
   "outputs": [
    {
     "name": "stdout",
     "output_type": "stream",
     "text": [
      "Enter any string=bhagavaan\n",
      "BHAGAVAAN"
     ]
    }
   ],
   "source": [
    "#34. Convert the total string in to upper case. Without using upper() function.\n",
    "a=input(\"Enter any string=\")\n",
    "if a.islower():\n",
    "    for i in a:\n",
    "        print(chr(ord(i)-32),end=\"\")\n",
    "else:\n",
    "    print(a)"
   ]
  },
  {
   "cell_type": "code",
   "execution_count": 3,
   "id": "344ce7fa",
   "metadata": {},
   "outputs": [
    {
     "name": "stdout",
     "output_type": "stream",
     "text": [
      "Enter your option 1) windows 2) linux 3) mac 4) quit=2\n",
      "your are selected linux\n",
      "Enter your option 1) windows 2) linux 3) mac 4) quit=2\n",
      "your are selected linux\n",
      "Enter your option 1) windows 2) linux 3) mac 4) quit=2\n",
      "your are selected linux\n",
      "Enter your option 1) windows 2) linux 3) mac 4) quit=2\n",
      "your are selected linux\n",
      "Enter your option 1) windows 2) linux 3) mac 4) quit=4\n",
      "your are selected quit\n"
     ]
    }
   ],
   "source": [
    "# 35) Show the below menu to the user until and until user select quit and display corresponding\n",
    "# os message\n",
    "# \"\"\"Menu:\n",
    "# 1. windows\n",
    "# 2. Linux\n",
    "# 3. Mac\n",
    "# 4. quit\n",
    "# \"\"\"\n",
    "\n",
    "while True:\n",
    "    option=input(\"Enter your option 1) windows 2) linux 3) mac 4) quit=\")\n",
    "    if option==\"1\":\n",
    "        print(\"your are selected windows\")\n",
    "    elif option==\"2\":\n",
    "        print(\"your are selected linux\")\n",
    "    elif option==\"3\":\n",
    "        print(\"your are selected mac\")\n",
    "    elif option==\"4\":\n",
    "        print(\"your are selected quit\")\n",
    "        break\n",
    "    else:\n",
    "        print(\"please enter 1 or 2 or 3 or 4\")"
   ]
  },
  {
   "cell_type": "code",
   "execution_count": 9,
   "id": "76b3ace3",
   "metadata": {},
   "outputs": [
    {
     "name": "stdout",
     "output_type": "stream",
     "text": [
      "Enter any string=bhaga145\n",
      "The string contains at least one digit\n"
     ]
    }
   ],
   "source": [
    "#36. take a string from the user and check contains at least one digit or not?\n",
    "a=input(\"Enter any string=\")\n",
    "if any(i.isdigit() for i in a):\n",
    "    print(\"The string contains at least one digit\")\n",
    "else:\n",
    "    print(\"The string does not contain at least one digit\")"
   ]
  },
  {
   "cell_type": "code",
   "execution_count": 17,
   "id": "ce51cd90",
   "metadata": {},
   "outputs": [
    {
     "name": "stdout",
     "output_type": "stream",
     "text": [
      "Enter any string=123ab\n",
      "The string contains at least one alphabet\n"
     ]
    }
   ],
   "source": [
    "#37. take a string from the user and check contains at least one alphabets or not?\n",
    "a=input(\"Enter any string=\")\n",
    "if any(i.isalpha() for i in a):\n",
    "    print(\"The string contains at least one alphabet\")\n",
    "else:\n",
    "    print(\"The given string does not contain any alphabet\")"
   ]
  },
  {
   "cell_type": "code",
   "execution_count": 15,
   "id": "4133ae60",
   "metadata": {},
   "outputs": [
    {
     "name": "stdout",
     "output_type": "stream",
     "text": [
      "Enter anything=bhaga\n",
      "The given string does not contain any special character\n"
     ]
    }
   ],
   "source": [
    "#38. take a string from the user and check contains at least one chars or not?\n",
    "a=input(\"Enter anything=\")\n",
    "if any(not i.isalnum() for i in a):\n",
    "    print(\"The given string contains at least one special character\")\n",
    "else:\n",
    "    print(\"The given string does not contain any special character\")\n",
    "    "
   ]
  },
  {
   "cell_type": "code",
   "execution_count": 20,
   "id": "0f0fb631",
   "metadata": {},
   "outputs": [
    {
     "name": "stdout",
     "output_type": "stream",
     "text": [
      "Enter any string=bhagavaan\n",
      "The given string does not contain any capital letter\n"
     ]
    }
   ],
   "source": [
    "#39. take a string from the user and check contains at least one capital letter or not?\n",
    "a=input(\"Enter any string=\")\n",
    "if any(i.isupper() for i in a):\n",
    "    print(\"The given string contains atleast one capital letter\")\n",
    "else:\n",
    "    print(\"The given string does not contain any capital letter\")"
   ]
  },
  {
   "cell_type": "code",
   "execution_count": 25,
   "id": "9a61b08f",
   "metadata": {},
   "outputs": [
    {
     "name": "stdout",
     "output_type": "stream",
     "text": [
      "Enter any string=BHAGAVAAN\n",
      "The given string does not contain any small case letter\n"
     ]
    }
   ],
   "source": [
    "#40. take a string from the user and check contains at least one small letter or not?\n",
    "a=input(\"Enter any string=\")\n",
    "if any(i.islower() for i in a):\n",
    "    print(\"The given string contain at least one small case letter\")\n",
    "else:\n",
    "    print(\"The given string does not contain any small case letter\")"
   ]
  },
  {
   "cell_type": "code",
   "execution_count": 5,
   "id": "8bca9c5d",
   "metadata": {},
   "outputs": [
    {
     "name": "stdout",
     "output_type": "stream",
     "text": [
      "1 3 5 7 9 11 13 15 17 19 21 23 25 27 29 31 33 35 37 39 41 43 45 47 49 51 53 55 57 59 61 63 65 67 69 71 73 75 77 79 81 83 85 87 89 91 93 95 97 99 101 103 105 107 109 111 113 115 117 119 121 123 125 127 129 131 133 135 137 139 141 143 145 147 149 151 153 155 157 159 161 163 165 167 169 171 173 175 177 179 181 183 185 187 189 191 193 195 197 199 "
     ]
    }
   ],
   "source": [
    "#41. Print the first 100 odd numbers\n",
    "count=0\n",
    "n=1\n",
    "while count<100:\n",
    "    if n%2!=0:\n",
    "        print(n,end=\" \")\n",
    "        count+=1\n",
    "    n+=1\n",
    "        "
   ]
  },
  {
   "cell_type": "code",
   "execution_count": 8,
   "id": "1b7f81de",
   "metadata": {},
   "outputs": [
    {
     "name": "stdout",
     "output_type": "stream",
     "text": [
      "Enter any number=6\n",
      "720\n"
     ]
    }
   ],
   "source": [
    "#42. Determine the factors of a number entered by the user\n",
    "n=int(input(\"Enter any number=\"))\n",
    "fact=1\n",
    "for i in range(1,n+1):\n",
    "    fact *=i\n",
    "print(fact)"
   ]
  },
  {
   "cell_type": "code",
   "execution_count": 1,
   "id": "afdab54a",
   "metadata": {},
   "outputs": [
    {
     "name": "stdout",
     "output_type": "stream",
     "text": [
      "Enter your guess(for quit enter q)=5\n",
      "you have entered a bigger number\n",
      "Enter your guess(for quit enter q)=2\n",
      "you have entered a smaller number\n",
      "Enter your guess(for quit enter q)=qeffl\n",
      "please enter integer values\n",
      "Enter your guess(for quit enter q)=3\n",
      "you have entered a smaller number\n",
      "Enter your guess(for quit enter q)=4\n",
      "your guess is correct\n"
     ]
    }
   ],
   "source": [
    "# 43. Play a number guessing game (User enters a guess, you print YES or Higher or Lower). This\n",
    "# should continue until and until user gives a correct number or want to quit in the middle.\n",
    "# Get a hidden number by using random.randint(1,100)\n",
    "import random\n",
    "a=random.randint(1,10)\n",
    "while True:\n",
    "    u=input(\"Enter your guess(for quit enter q)=\")\n",
    "    if u.lower()==\"q\":\n",
    "        print(\"Thanks for quitting\")\n",
    "        break\n",
    "    try:\n",
    "        u=int(u)\n",
    "    except ValueError:\n",
    "        print(\"please enter integer values\")\n",
    "        continue\n",
    "    if a>int(u):\n",
    "        print(\"you have entered a smaller number\")\n",
    "    elif a<int(u):\n",
    "        print(\"you have entered a bigger number\")\n",
    "    elif a==int(u):\n",
    "        print(\"your guess is correct\")\n",
    "        break\n",
    "    else:\n",
    "        print(\"else enter valid inputs\")\n"
   ]
  },
  {
   "cell_type": "code",
   "execution_count": 59,
   "id": "fe0aa5e2",
   "metadata": {},
   "outputs": [
    {
     "name": "stdout",
     "output_type": "stream",
     "text": [
      "3 5 6 9 10 12 15 18 20 21 24 25 27 30 33 35 36 39 40 42 45 48 50 51 54 55 57 60 63 65 66 69 70 72 75 78 80 81 84 85 87 90 93 95 96 99 100 102 105 108 110 111 114 115 117 120 123 125 126 129 130 132 135 138 140 141 144 145 147 150 153 155 156 159 160 162 165 168 170 171 174 175 177 180 183 185 186 189 190 192 195 198 200 201 204 205 207 210 213 215 216 219 220 222 225 228 230 231 234 235 237 240 243 245 246 249 250 252 255 258 260 261 264 265 267 270 273 275 276 279 280 282 285 288 290 291 294 295 297 300 303 305 306 309 310 312 315 318 320 321 324 325 327 330 333 335 336 339 340 342 345 348 350 351 354 355 357 360 363 365 366 369 370 372 375 378 380 381 384 385 387 390 393 395 396 399 400 402 405 408 410 411 414 415 417 420 423 425 426 429 430 432 435 438 440 441 444 445 447 450 453 455 456 459 460 462 465 468 470 471 474 475 477 480 483 485 486 489 490 492 495 498 500 501 504 505 507 510 513 515 516 519 520 522 525 528 530 531 534 535 537 540 543 545 546 549 550 552 555 558 560 561 564 565 567 570 573 575 576 579 580 582 585 588 590 591 594 595 597 600 603 605 606 609 610 612 615 618 620 621 624 625 627 630 633 635 636 639 640 642 645 648 650 651 654 655 657 660 663 665 666 669 670 672 675 678 680 681 684 685 687 690 693 695 696 699 700 702 705 708 710 711 714 715 717 720 723 725 726 729 730 732 735 738 740 741 744 745 747 750 753 755 756 759 760 762 765 768 770 771 774 775 777 780 783 785 786 789 790 792 795 798 800 801 804 805 807 810 813 815 816 819 820 822 825 828 830 831 834 835 837 840 843 845 846 849 850 852 855 858 860 861 864 865 867 870 873 875 876 879 880 882 885 888 890 891 894 895 897 900 903 905 906 909 910 912 915 918 920 921 924 925 927 930 933 935 936 939 940 942 945 948 950 951 954 955 957 960 963 965 966 969 970 972 975 978 980 981 984 985 987 990 993 995 996 999 \n",
      "The sum of all the multiples of 3 or 5 below 1000 is= 233168\n"
     ]
    }
   ],
   "source": [
    "#45. Find the sum of all the multiples of 3 or 5 below 1000\n",
    "summ=0\n",
    "for i in range(1,1000):\n",
    "    if i%3==0 or i%5==0:\n",
    "        print(i,end=\" \")\n",
    "        summ+=i\n",
    "print()\n",
    "print(\"The sum of all the multiples of 3 or 5 below 1000 is=\",summ)"
   ]
  },
  {
   "cell_type": "code",
   "execution_count": 12,
   "id": "92a29b67",
   "metadata": {},
   "outputs": [
    {
     "name": "stdout",
     "output_type": "stream",
     "text": [
      "Enter any number=10\n",
      "Enter any number=2\n",
      "10 is big\n"
     ]
    }
   ],
   "source": [
    "#46. Write a program to find out big of two numbers\n",
    "a=int(input(\"Enter any number=\"))\n",
    "b=int(input(\"Enter any number=\"))\n",
    "if a>b:\n",
    "    print(\"{} is big\".format(a))\n",
    "else:\n",
    "    print(\"{} is big\".format(b))"
   ]
  },
  {
   "cell_type": "code",
   "execution_count": 48,
   "id": "2e8f8f41",
   "metadata": {},
   "outputs": [
    {
     "name": "stdout",
     "output_type": "stream",
     "text": [
      "The biggest number in the given numbers is= 9\n",
      "The smallest number in the given numbers is= 1\n"
     ]
    }
   ],
   "source": [
    "#47. Write a program to find out biggest number in the given numbers.\n",
    "a=[2,5,6,7,9,1,3,4]\n",
    "ma=0\n",
    "mi = a[0]\n",
    "for i in a:\n",
    "    if int(i)>ma:\n",
    "        ma=i\n",
    "print(\"The biggest number in the given numbers is=\",ma)\n",
    "for i in a:\n",
    "    if int(i)<mi:\n",
    "        mi=i\n",
    "print(\"The smallest number in the given numbers is=\",mi)"
   ]
  },
  {
   "cell_type": "code",
   "execution_count": 14,
   "id": "a8259fe1",
   "metadata": {},
   "outputs": [
    {
     "name": "stdout",
     "output_type": "stream",
     "text": [
      "Enter any string=bhagavaan\n",
      "3rd occurance of the string=a\n"
     ]
    }
   ],
   "source": [
    "#48. find out the index of third occurrence of given substring\n",
    "a=input(\"Enter any string=\")\n",
    "n=3\n",
    "print(\"{}rd occurance of the string={}\".format(n,a[n-1]))"
   ]
  },
  {
   "cell_type": "code",
   "execution_count": null,
   "id": "48bb2603",
   "metadata": {},
   "outputs": [],
   "source": [
    "#49. find out the index nth occurrence of given substring\n",
    "a=input(\"Enter any string=\")\n",
    "n=int(input(\"Enter index number=\"))\n",
    "print(\"{} occurance of the string is={}\".format(n,a[n-1]))"
   ]
  },
  {
   "cell_type": "code",
   "execution_count": 52,
   "id": "49811396",
   "metadata": {},
   "outputs": [
    {
     "name": "stdout",
     "output_type": "stream",
     "text": [
      "The sum of given numbers are= 100\n",
      "The maximum number of the given number is= 40\n",
      "The minimum number of the given number is= 10\n",
      "The average value of the given numbers is= 25.0\n"
     ]
    }
   ],
   "source": [
    "#50. Take some single digit numbers from the user and findout min, maximum, sum, average\n",
    "a=20,30,40,10\n",
    "summ=0\n",
    "ma=0\n",
    "mi=a[0]\n",
    "for i in a:\n",
    "    summ+=i\n",
    "    if int(i)>ma:\n",
    "        ma=i\n",
    "    if int(i)<mi:\n",
    "        mi=i\n",
    "    avg=summ/len(a)\n",
    "print(\"The sum of given numbers are=\",summ)\n",
    "print(\"The maximum number of the given number is=\",ma)\n",
    "print(\"The minimum number of the given number is=\",mi)\n",
    "print(\"The average value of the given numbers is=\",avg)\n"
   ]
  },
  {
   "cell_type": "code",
   "execution_count": null,
   "id": "d637531d",
   "metadata": {},
   "outputs": [],
   "source": [
    "51. print the number in proper mathematical way.\n",
    "Consider that we have 6 digit numbers.\n",
    "Number format WAP&gt; 10 -&gt; 000010\n",
    "\n",
    "100 -&gt; 000100\n",
    "1000 -&gt; 001000\n",
    "2345678 -&gt; 2345678\n",
    "If the number has more than 6 digits then print as it is.\n"
   ]
  },
  {
   "cell_type": "code",
   "execution_count": 11,
   "id": "8068b61e",
   "metadata": {},
   "outputs": [
    {
     "name": "stdout",
     "output_type": "stream",
     "text": [
      "emp1\n",
      "emp2\n",
      "emp3\n",
      "emp4\n"
     ]
    }
   ],
   "source": [
    "# 52. names =\"emp1,emp2,emp3,emp4\" iterate through the employee names.\n",
    "a=[\"emp1\",\"emp2\",\"emp3\",\"emp4\"]\n",
    "for i in a:\n",
    "    print(i)\n"
   ]
  },
  {
   "cell_type": "code",
   "execution_count": 14,
   "id": "5ecd78ee",
   "metadata": {},
   "outputs": [
    {
     "name": "stdout",
     "output_type": "stream",
     "text": [
      "hyderabad is the capital of ts\n"
     ]
    }
   ],
   "source": [
    "#53. Take actual string, source string, destination string. replce first nth occurrences of source\n",
    "#string with destination string of actual string.\n",
    "a=\"hyderabad is the capital of both ap and ts\"\n",
    "print(a.replace(\"both ap and ts\",\"ts\"))"
   ]
  },
  {
   "cell_type": "code",
   "execution_count": 15,
   "id": "881c40b2",
   "metadata": {},
   "outputs": [
    {
     "name": "stdout",
     "output_type": "stream",
     "text": [
      "Enter any numbers separated by space=5 10.3\n",
      "Enter your option add/sub/mul/div/sqrt=add\n",
      "The adddition value is= 15.3\n"
     ]
    }
   ],
   "source": [
    "#54. Take a two numbers from the user and do below menu driven operations\n",
    "#1. addition\n",
    "#2. multiples\n",
    "#3.division\n",
    "#4.sqrt\n",
    "#5. pow a**b\n",
    "#6.subtraction\n",
    "#After selection do the corresponding operation.\n",
    "\n",
    "#Note: user may give int, or float numbers. You should check whether it is proper digits\n",
    "#or not. I.e the user given string should be in the position to convert to float. Other wise\n",
    "#show the “inproper string given” Error.\n",
    "\n",
    "\n",
    "a,b=[i for i in input(\"Enter any numbers separated by space=\").split()]\n",
    "try:\n",
    "    a=int(a)\n",
    "except ValueError:\n",
    "    try:\n",
    "        a=float(a)\n",
    "    except ValueError:\n",
    "        print(\"Invalid input please provide valid input\")\n",
    "try:\n",
    "    b=int(b)\n",
    "except ValueError:\n",
    "    try:\n",
    "        b=float(b)\n",
    "    except ValueError:\n",
    "        print(\"Invalid input please provide valid input\")\n",
    "option=input(\"Enter your option add/sub/mul/div/sqrt=\")\n",
    "if option==\"add\":\n",
    "    print(\"The adddition value is=\",a+b)\n",
    "elif option==\"sub\":\n",
    "    print(\"The subtraction value is=\",a-b)\n",
    "elif option==\"mul\":\n",
    "    print(\"The multiplication value is=\",a*b)\n",
    "elif option==\"div\":\n",
    "    print(\"The division value is=\",a/b)\n",
    "elif option==\"sqrt\":\n",
    "    print(\"The square value is=\",a**b)\n",
    "else:\n",
    "    print(\"pleaes enter valid option\")\n",
    "    \n",
    "        \n",
    "\n"
   ]
  },
  {
   "cell_type": "code",
   "execution_count": 27,
   "id": "d8d9bc21",
   "metadata": {},
   "outputs": [
    {
     "name": "stdout",
     "output_type": "stream",
     "text": [
      "Enter any numbers=5,4,8,9,2,1,3,6,7\n",
      "The maximum value of the given numbers are= 9\n",
      "The minimum value of the given numbers are= 1\n",
      "The sum of the given list is= 45\n",
      "The average value of the given list is= 5.0\n"
     ]
    }
   ],
   "source": [
    "#55. Take numbers from the user and find out min, maximum, sum, average\n",
    "a=[int(i) for i in input(\"Enter any numbers=\").split(\",\")]\n",
    "ma=0\n",
    "mi=a[0]\n",
    "summ=0\n",
    "for i in a:\n",
    "    if i>ma:\n",
    "        ma=i\n",
    "    elif i<mi:\n",
    "        mi=i\n",
    "    summ +=i\n",
    "    avg=summ/len(a)\n",
    "print(\"The maximum value of the given numbers are=\",ma)\n",
    "print(\"The minimum value of the given numbers are=\",mi)\n",
    "print(\"The sum of the given list is=\",summ)\n",
    "print(\"The average value of the given list is=\",avg)"
   ]
  },
  {
   "cell_type": "code",
   "execution_count": 28,
   "id": "b1a4d8d9",
   "metadata": {},
   "outputs": [
    {
     "name": "stdout",
     "output_type": "stream",
     "text": [
      "The no of even numbers are= 11\n",
      "The no of odd numbers are= 11\n",
      "The no of positive numbers are= 22\n",
      "The no of negative numbers are= 0\n",
      "The no of prime numbers are= 8\n",
      "The no of perfect numbers are= 0\n",
      "The no of armstrong numbers are= 8\n",
      "The no of palindrome numbers are= 11\n"
     ]
    }
   ],
   "source": [
    "#56. l=[1,2,3,5,7,8,9,10,11,12,13,20,22,23,24,25,26,27,20,21,22,4] find out how many even\n",
    "#numbers are there and how many odd numbers are there and how many positive numbers are\n",
    "#there and how many negative numbers are there and how many prime numbers are there and\n",
    "#how many perfect numbers are there and how many Armstrong numbers are there and how\n",
    "#many palindrome numbers are there.\n",
    "a=[1,2,3,5,7,8,9,10,11,12,13,20,22,23,24,25,26,27,20,21,22,4]\n",
    "even=0\n",
    "odd=0\n",
    "positive=0\n",
    "negative=0\n",
    "prime=0\n",
    "summ=0\n",
    "perfect=0\n",
    "armstrong=0\n",
    "palindrome=0\n",
    "for i in a:\n",
    "    if i%2==0:\n",
    "        even +=1\n",
    "    else:\n",
    "        odd +=1\n",
    "    if i>0:\n",
    "        positive +=1\n",
    "    else:\n",
    "        negative +=1\n",
    "    if i>1:\n",
    "        for j in range(2,i//2):\n",
    "            if i%j==0:\n",
    "                break\n",
    "        else:\n",
    "            prime +=1\n",
    "    summm=0\n",
    "    for j in range(1,i):\n",
    "        if j%i==0:\n",
    "            summm +=i\n",
    "    if i==summm:\n",
    "        perfect +=1\n",
    "    p=len(str(i))\n",
    "    summ=0\n",
    "    for j in str(i):\n",
    "        summ=summ+int(j)**p\n",
    "    i=int(i)\n",
    "    if(i==summ):\n",
    "        armstrong +=1\n",
    "    if str(i)==str(i)[::-1]:\n",
    "        palindrome +=1\n",
    "print(\"The no of even numbers are=\",even)\n",
    "print(\"The no of odd numbers are=\",odd)\n",
    "print(\"The no of positive numbers are=\",positive)\n",
    "print(\"The no of negative numbers are=\",negative)\n",
    "print(\"The no of prime numbers are=\",prime)\n",
    "print(\"The no of perfect numbers are=\",perfect)\n",
    "print(\"The no of armstrong numbers are=\",armstrong)\n",
    "print(\"The no of palindrome numbers are=\",palindrome)"
   ]
  },
  {
   "cell_type": "code",
   "execution_count": 25,
   "id": "3c8eac92",
   "metadata": {},
   "outputs": [
    {
     "name": "stdout",
     "output_type": "stream",
     "text": [
      "Enter any string that should contain digits,symbols,small case and upper case letters=Bhagavaan98@gmail.com\n",
      "no of digits are= 2\n",
      "no of special characters are= 2\n",
      "no of lower case letters are= 16\n",
      "no of upper case letters are= 1\n"
     ]
    }
   ],
   "source": [
    "#57. Take a string from the user and find out how many digits are there, how many special\n",
    "#symbols are there, how many small letters are there, how many caps are there.\n",
    "a=input(\"Enter any string that should contain digits,symbols,small case and upper case letters=\")\n",
    "digits=0\n",
    "special_characters=0\n",
    "lower_case=0\n",
    "upper_case=0\n",
    "for i in a:\n",
    "    if i.isdigit():\n",
    "        digits+=1\n",
    "    elif i.islower():\n",
    "        lower_case+=1\n",
    "    elif i.isupper():\n",
    "        upper_case+=1\n",
    "    else:\n",
    "        special_characters+=1\n",
    "print(\"no of digits are=\",digits)\n",
    "print(\"no of special characters are=\",special_characters)\n",
    "print(\"no of lower case letters are=\",lower_case)\n",
    "print(\"no of upper case letters are=\",upper_case)\n",
    "    "
   ]
  },
  {
   "cell_type": "code",
   "execution_count": 24,
   "id": "66ed0ada",
   "metadata": {},
   "outputs": [
    {
     "name": "stdout",
     "output_type": "stream",
     "text": [
      "Enter any string=bhagavaan\n",
      "Enter any char to find out how many number of occurances are there in given string=a\n",
      "a occured 4 times\n"
     ]
    }
   ],
   "source": [
    "#58. Take a char from the user and find out how many number of occurrences are there in given string\n",
    "a=input(\"Enter any string=\")\n",
    "b=input(\"Enter any char to find out how many number of occurances are there in given string=\")\n",
    "for i in a:\n",
    "    c=a.count(b)\n",
    "print(\"{} occured {} times\".format(b,c))"
   ]
  },
  {
   "cell_type": "code",
   "execution_count": 21,
   "id": "46013ad9",
   "metadata": {},
   "outputs": [
    {
     "name": "stdout",
     "output_type": "stream",
     "text": [
      "Enter any element to find out how many times the element occurred in the given list=d\n",
      "d occured 2 times\n"
     ]
    }
   ],
   "source": [
    "# 59. Take a element from the user and find out how many times the element occurred in given list\n",
    "a=[\"a\",\"b\",\"c\",\"d\",\"e\",\"f\",\"a\",\"g\",\"a\",\"c\",\"d\"]\n",
    "b=input(\"Enter any element to find out how many times the element occurred in the given list=\")\n",
    "count=0\n",
    "for i in a:\n",
    "    if i==b:\n",
    "        count +=1\n",
    "print(\"{} occured {} times\".format(b,count))"
   ]
  },
  {
   "cell_type": "code",
   "execution_count": 23,
   "id": "5a327a87",
   "metadata": {},
   "outputs": [
    {
     "name": "stdout",
     "output_type": "stream",
     "text": [
      "Enter any element to find out how many number of occurrences are there in a given tuple=e\n",
      "e occured 1 times\n"
     ]
    }
   ],
   "source": [
    "#60. Take an element from the user and find out how many number of occurrences are there in given tuple\n",
    "a=(\"a\",\"b\",\"c\",\"d\",\"e\",\"f\",\"a\",\"g\",\"a\",\"c\",\"d\")\n",
    "b=input(\"Enter any element to find out how many number of occurrences are there in a given tuple=\")\n",
    "count=0\n",
    "for i in a:\n",
    "    if i==b:\n",
    "        count +=1\n",
    "print(\"{} occured {} times\".format(b,count))"
   ]
  },
  {
   "cell_type": "code",
   "execution_count": null,
   "id": "9ad2f361",
   "metadata": {},
   "outputs": [],
   "source": [
    "61. Reverse the string without effecting the special symbols. It involves three variations. Write\n",
    "code for three variations.\n"
   ]
  },
  {
   "cell_type": "code",
   "execution_count": 7,
   "id": "9ae11eef",
   "metadata": {},
   "outputs": [
    {
     "name": "stdout",
     "output_type": "stream",
     "text": [
      "^%$987^$%6fed54$#,321cba\n"
     ]
    }
   ],
   "source": [
    "# 62.Input: abc123,#$45def6%$^789$%^, output: $%^987%$^6fed54,#$321cba\n",
    "s = \"abc123,#$45def6%$^789$%^\"\n",
    "sp_ch=\"\"\n",
    "res=\"\"\n",
    "num=[i for i in s if i.isalnum()]\n",
    "for i in s[::-1]:\n",
    "    if not i.isalnum():\n",
    "        sp_ch+=i\n",
    "    else:\n",
    "        if len(sp_ch)>0:\n",
    "            res+=sp_ch\n",
    "            sp_ch=\"\"\n",
    "        res+=num[-1]\n",
    "        num.pop(-1)\n",
    "print(res)"
   ]
  },
  {
   "cell_type": "code",
   "execution_count": 11,
   "id": "bfe38c7c",
   "metadata": {},
   "outputs": [
    {
     "name": "stdout",
     "output_type": "stream",
     "text": [
      "9876fe,#$d54321%$^cba$%^\n"
     ]
    }
   ],
   "source": [
    "# 63.Input: abc123,#$45def6%$^789$%^, output: 9876fe,#$d54321%$^cba$%^\n",
    "s=\"abc123,#$45def6%$^789$%^\"\n",
    "res=\"\"\n",
    "num=[i for i in s if i.isalnum()]\n",
    "for i in s:\n",
    "    if i.isalnum():\n",
    "        res +=num[-1]\n",
    "        num.pop(-1)\n",
    "    else:\n",
    "        res +=i\n",
    "print(res)"
   ]
  },
  {
   "cell_type": "code",
   "execution_count": 12,
   "id": "3b3dbdd3",
   "metadata": {},
   "outputs": [
    {
     "name": "stdout",
     "output_type": "stream",
     "text": [
      "321,#$654%$^987$%^\n"
     ]
    }
   ],
   "source": [
    "# 64.Inout: &quot;123,#$456%$^789$%^&quot;, Output: 321,#$654%$^987$%^\n",
    "s = \"123,#$456%$^789$%^\"\n",
    "num=\"\"\n",
    "result=\"\"\n",
    "for i in s:\n",
    "    if i.isdigit():\n",
    "        num +=i\n",
    "    else:\n",
    "        if len(num)>0:\n",
    "            result +=num[::-1]\n",
    "            num=\"\"\n",
    "        result +=i\n",
    "print(result)\n"
   ]
  },
  {
   "cell_type": "markdown",
   "id": "fa672ae5",
   "metadata": {},
   "source": [
    "# FUNCTIONS:"
   ]
  },
  {
   "cell_type": "code",
   "execution_count": 34,
   "id": "60d4c842",
   "metadata": {},
   "outputs": [
    {
     "name": "stdout",
     "output_type": "stream",
     "text": [
      "The person name is= bhagavaan\n",
      "The person age is= 25\n",
      "\n",
      "The person name is= ramesh\n",
      "The person age is= 26\n",
      "The person height is= 5.5\n",
      "The person weight is= 68\n",
      "\n",
      "The person name is= eshwar\n",
      "The person age is= 28\n",
      "The person height is= 5.3\n",
      "The person weight is= 67\n",
      "aadhar = 123355\n",
      "cell = 98745613\n"
     ]
    }
   ],
   "source": [
    "# 65. define a function to take person details name and age are mandatory parameters\n",
    "# and height weight are optional parameters. If the user willing to pass any other\n",
    "# details(like adhar, cell, pan, passport etc..) regarding him then your function should\n",
    "# access those details.\n",
    "\n",
    "def person_details(name,age,height=None,weight=None,**other_details):\n",
    "    print(\"The person name is=\",name)\n",
    "    print(\"The person age is=\",age)\n",
    "    if height is not None:\n",
    "        print(\"The person height is=\",height)\n",
    "    if weight is not None:\n",
    "        print(\"The person weight is=\",weight)\n",
    "    if other_details:\n",
    "        for i,j in other_details.items():\n",
    "            print(i,\"=\",j)\n",
    "person_details(\"bhagavaan\",25)\n",
    "print()\n",
    "person_details(\"ramesh\",26,5.5,68)\n",
    "print()\n",
    "person_details(\"eshwar\",28,5.3,67,aadhar=123355,cell=98745613)"
   ]
  },
  {
   "cell_type": "code",
   "execution_count": 36,
   "id": "24eab29f",
   "metadata": {},
   "outputs": [
    {
     "name": "stdout",
     "output_type": "stream",
     "text": [
      "Enter any number=15\n",
      "The given value is not a even number\n"
     ]
    }
   ],
   "source": [
    "# 65a. rewrite above assignments by functions. Can use string functions to solve the string\n",
    "# related assignments\n",
    "# 65 b. write a function to check given value is even or not\n",
    "def even(a):\n",
    "    if a%2==0:\n",
    "        print(\"The given value is a even number\")\n",
    "    else:\n",
    "        print(\"The given value is not a even number\")\n",
    "n=int(input(\"Enter any number=\"))\n",
    "even(n)"
   ]
  },
  {
   "cell_type": "code",
   "execution_count": 43,
   "id": "53490530",
   "metadata": {},
   "outputs": [
    {
     "name": "stdout",
     "output_type": "stream",
     "text": [
      "Enter any number=1\n",
      "1 is not a prime number\n"
     ]
    }
   ],
   "source": [
    "# 65 c. write a function to check given value is prime or not\n",
    "def prime(n):\n",
    "    if n>1:\n",
    "        for i in range(2,n//2):\n",
    "            if n%i==0:\n",
    "                print(\"{} is not a prime number\".format(n))\n",
    "                break\n",
    "        else:\n",
    "            print(\"{} is a prime number\".format(n))\n",
    "    else:\n",
    "        print(\"{} is not a prime number\".format(n))\n",
    "a=int(input(\"Enter any number=\"))\n",
    "prime(a)"
   ]
  },
  {
   "cell_type": "code",
   "execution_count": 46,
   "id": "a1e350a2",
   "metadata": {},
   "outputs": [
    {
     "name": "stdout",
     "output_type": "stream",
     "text": [
      "Enter any number=2\n",
      "Enter any number=10\n",
      "The given two values are not divisible\n"
     ]
    }
   ],
   "source": [
    "# 65 d. write a function to check given 2 values are divisible or not\n",
    "def check(a,b):\n",
    "    if a%b==0:\n",
    "        print(\"The given two values are divisible\")\n",
    "    else:\n",
    "        print(\"The given two values are not divisible\")\n",
    "x=int(input(\"Enter any number=\"))\n",
    "y=int(input(\"Enter any number=\"))\n",
    "check(x,y)"
   ]
  },
  {
   "cell_type": "markdown",
   "id": "a1d1d9ee",
   "metadata": {},
   "source": [
    "# STRINGS"
   ]
  },
  {
   "cell_type": "code",
   "execution_count": 48,
   "id": "b44cd48e",
   "metadata": {},
   "outputs": [
    {
     "name": "stdout",
     "output_type": "stream",
     "text": [
      "Enter any string=jfjlfa123\n",
      "The given string does not contains only digits\n"
     ]
    }
   ],
   "source": [
    "# 67. take a string from the user and check contains only digits or not?\n",
    "a=input(\"Enter any string=\")\n",
    "if a.isdigit():\n",
    "    print(\"The given string contains only digits\")\n",
    "else:\n",
    "    print(\"The given string does not contains only digits\")\n"
   ]
  },
  {
   "cell_type": "code",
   "execution_count": 50,
   "id": "c723afb9",
   "metadata": {},
   "outputs": [
    {
     "name": "stdout",
     "output_type": "stream",
     "text": [
      "Enter any string=bhaga123\n",
      "The given string does not contain only alphabets\n"
     ]
    }
   ],
   "source": [
    "# 68. take a string from the user and check contains only alphabets or not?\n",
    "a=input(\"Enter any string=\")\n",
    "if all(a.isalpha() for i in a):\n",
    "    print(\"The given string contains only alphabets\")\n",
    "else:\n",
    "    print(\"The given string does not contain only alphabets\")"
   ]
  },
  {
   "cell_type": "code",
   "execution_count": 57,
   "id": "d3dd8fc5",
   "metadata": {},
   "outputs": [
    {
     "name": "stdout",
     "output_type": "stream",
     "text": [
      "Enter any string=@^((#!\n",
      "The given string contains only special characters\n"
     ]
    }
   ],
   "source": [
    "# 69. take a string from the user and check contains only special chars or not?\n",
    "a=input(\"Enter any string=\")\n",
    "if all(not i.isalnum() for i in a):\n",
    "    print(\"The given string contains only special characters\")\n",
    "else:\n",
    "    print(\"The given string does not contain only special characters\")\n"
   ]
  },
  {
   "cell_type": "code",
   "execution_count": 59,
   "id": "99ac7c31",
   "metadata": {},
   "outputs": [
    {
     "name": "stdout",
     "output_type": "stream",
     "text": [
      "Enter any string=BHAGAVAAN\n",
      "The given string contains only upper case letters\n"
     ]
    }
   ],
   "source": [
    "# 70. take a string from the user and check contains only capital letters or not?\n",
    "a=input(\"Enter any string=\")\n",
    "if a.isupper():\n",
    "    print(\"The given string contains only upper case letters\")\n",
    "else:\n",
    "    print(\"The given string does not contains only upper case letters\")"
   ]
  },
  {
   "cell_type": "code",
   "execution_count": 2,
   "id": "ed509f8b",
   "metadata": {},
   "outputs": [
    {
     "name": "stdout",
     "output_type": "stream",
     "text": [
      "Enter any string=bhagavaan\n",
      "The given string contains only small case letters\n"
     ]
    }
   ],
   "source": [
    "# 71. take a string from the user and check contains only small letters or not?\n",
    "a=input(\"Enter any string=\")\n",
    "if a.islower():\n",
    "    print(\"The given string contains only small case letters\")\n",
    "else:\n",
    "    print(\"The given string does not contain only small case letters\")\n",
    "    \n"
   ]
  },
  {
   "cell_type": "code",
   "execution_count": 6,
   "id": "e682b89c",
   "metadata": {},
   "outputs": [
    {
     "name": "stdout",
     "output_type": "stream",
     "text": [
      "Enter actual string=i am learning python\n",
      "Enter source string=python\n",
      "Enter destination string=java\n",
      "i am learning java\n"
     ]
    }
   ],
   "source": [
    "# 72. WAP to replace last n occurrence.\n",
    "actual_string=input(\"Enter actual string=\")\n",
    "source_string=input(\"Enter source string=\")\n",
    "destination_string=input(\"Enter destination string=\")\n",
    "row=actual_string[::-1].replace(source_string[::-1],destination_string[::-1],1)\n",
    "print(row[::-1])\n"
   ]
  },
  {
   "cell_type": "code",
   "execution_count": 33,
   "id": "1fc13e90",
   "metadata": {},
   "outputs": [
    {
     "name": "stdout",
     "output_type": "stream",
     "text": [
      "Enter any number=bhagavaan98.2\n",
      "The given string does not contain numbers and please enter integer or float values\n"
     ]
    }
   ],
   "source": [
    "# 73. WAP to check given string contains numbers or not. it should consider float numbers also.\n",
    "try:\n",
    "    a=input(\"Enter any number=\")\n",
    "    if int(float(a)) or float(a):\n",
    "        print(\"The given string contains numbers\")\n",
    "except ValueError:\n",
    "     print(\"The given string does not contain numbers and please enter integer or float values\")\n"
   ]
  },
  {
   "cell_type": "code",
   "execution_count": 5,
   "id": "d215dad8",
   "metadata": {},
   "outputs": [
    {
     "name": "stdout",
     "output_type": "stream",
     "text": [
      "Enter any string=bhagaVAAN\n",
      "converting total string in to lower case= bhagavaan\n",
      "converting total string in to upper case= BHAGAVAAN\n"
     ]
    }
   ],
   "source": [
    "# 74. Convert the total string in to lower case.\n",
    "# Convert the total string in to upper case.\n",
    "a=input(\"Enter any string=\")\n",
    "print(\"converting total string in to lower case=\",a.lower())\n",
    "print(\"converting total string in to upper case=\",a.upper())\n"
   ]
  },
  {
   "cell_type": "code",
   "execution_count": 36,
   "id": "2aabc6f1",
   "metadata": {},
   "outputs": [
    {
     "name": "stdout",
     "output_type": "stream",
     "text": [
      "Enter any string=my mail id is bhagavaan98@gmail.com\n",
      "My Mail Id Is Bhagavaan98@Gmail.Com\n"
     ]
    }
   ],
   "source": [
    "# 75. Convert every word start letter into caps. Some how title not working if it contains numbers\n",
    "# and special symbols in the word\n",
    "a=input(\"Enter any string=\")\n",
    "print(a.title())\n"
   ]
  },
  {
   "cell_type": "code",
   "execution_count": 37,
   "id": "b8435774",
   "metadata": {},
   "outputs": [
    {
     "name": "stdout",
     "output_type": "stream",
     "text": [
      "apple,mango,orange,banana,APPLE,orange,APPLE\n"
     ]
    }
   ],
   "source": [
    "# 76.replace last two occurrences of given source string with destination string preserve the delimiter after split.\n",
    "a=\"apple,mango,orange,banana,apple,orange,apple\"\n",
    "print(\"APPLE\".join(a.rsplit(\"apple\",2)))\n"
   ]
  },
  {
   "cell_type": "code",
   "execution_count": 40,
   "id": "2f62208d",
   "metadata": {},
   "outputs": [
    {
     "name": "stdout",
     "output_type": "stream",
     "text": [
      "Enter any string=I want to diployee in project\n",
      "Enter any substring=i\n",
      "The given substring is present in the actual string\n"
     ]
    }
   ],
   "source": [
    "# 77. write a program to check given substring is there in actual string or not? (search should be case\n",
    "# insensitive)\n",
    "a=input(\"Enter any string=\")\n",
    "b=input(\"Enter any substring=\")\n",
    "if b in a:\n",
    "    print(\"The given substring is present in the actual string\")\n",
    "else:\n",
    "    print(\"The given substring is not present in the actual string\")\n"
   ]
  },
  {
   "cell_type": "code",
   "execution_count": 6,
   "id": "3e150b04",
   "metadata": {},
   "outputs": [
    {
     "name": "stdout",
     "output_type": "stream",
     "text": [
      "pure is there\n"
     ]
    }
   ],
   "source": [
    "# example: act=&quot;python is a pure object oriented programing language&quot;\n",
    "# 78.check whether “pure” is there in act or not.\n",
    "# Note: Use in operator\n",
    "a=\"python is a pure object oriented programing language\"\n",
    "if \"pure\" in a:\n",
    "    print(\"pure is there\")\n",
    "else:\n",
    "    print(\"pure is not there\")"
   ]
  },
  {
   "cell_type": "markdown",
   "id": "de6411f4",
   "metadata": {},
   "source": [
    "# DATA STRUCTURES"
   ]
  },
  {
   "cell_type": "code",
   "execution_count": 16,
   "id": "375679e3",
   "metadata": {},
   "outputs": [
    {
     "name": "stdout",
     "output_type": "stream",
     "text": [
      "[10, 20, 30, 40, 50, 60, 70, 80, 90, 20]\n"
     ]
    }
   ],
   "source": [
    "# 79. l=[10,20,30,[40,50,60],70,[80,90,20]]. Convert this list as single dimensional list\n",
    "a=[10,20,30,[40,50,60],70,[80,90,20]]\n",
    "b=[]\n",
    "for i in a:\n",
    "    if list != type(i):\n",
    "        b.append(i)\n",
    "    else:\n",
    "        b.extend(i)\n",
    "print(b)\n"
   ]
  },
  {
   "cell_type": "code",
   "execution_count": 20,
   "id": "8bdb0018",
   "metadata": {},
   "outputs": [
    {
     "name": "stdout",
     "output_type": "stream",
     "text": [
      "G = 1\n",
      "o = 2\n",
      "g = 1\n",
      "l = 1\n",
      "e = 1\n"
     ]
    }
   ],
   "source": [
    "# 80. input: \"Google\" print count of each character\n",
    "a=\"Google\"\n",
    "d={}\n",
    "for i in a:\n",
    "    d[i]=a.count(i)\n",
    "for i,j in d.items():\n",
    "    print(i,\"=\",j)"
   ]
  },
  {
   "cell_type": "code",
   "execution_count": 22,
   "id": "681df340",
   "metadata": {},
   "outputs": [
    {
     "name": "stdout",
     "output_type": "stream",
     "text": [
      "[1, 2, 5, 4, 7, 8, 9, 10]\n"
     ]
    }
   ],
   "source": [
    "# 81. Convert n dimensional list to single dimensional list.\n",
    "a=[[1,2],[5,4],[7,8],[9,10]]\n",
    "b=[]\n",
    "for i in a:\n",
    "    for j in i:\n",
    "        b.append(j)\n",
    "print(b)"
   ]
  },
  {
   "cell_type": "code",
   "execution_count": 28,
   "id": "95e3bfc5",
   "metadata": {},
   "outputs": [
    {
     "name": "stdout",
     "output_type": "stream",
     "text": [
      "123 <class 'str'>\n"
     ]
    }
   ],
   "source": [
    "# 82. l=[1,2,3] just make it as a string.\n",
    "a=[1,2,3]\n",
    "b=\"\"\n",
    "for i in a:\n",
    "    b +=str(i)\n",
    "print(b,type(b))"
   ]
  },
  {
   "cell_type": "code",
   "execution_count": 45,
   "id": "77a5c899",
   "metadata": {},
   "outputs": [
    {
     "name": "stdout",
     "output_type": "stream",
     "text": [
      "[1, 2, 3, 4, 5, 6, 7, 8, 9, 10]\n"
     ]
    }
   ],
   "source": [
    "# 83. l=[1,2,3,[4,5,6],7,[8,9,10]] for single dimensional list\n",
    "a=[1,2,3,[4,5,6],7,[8,9,10]]\n",
    "b=[]\n",
    "for i in a:\n",
    "    if type(i) != list:\n",
    "        b.append(i)\n",
    "    else:\n",
    "        for j in i:\n",
    "            b.append(j)\n",
    "print(b)\n"
   ]
  },
  {
   "cell_type": "code",
   "execution_count": 13,
   "id": "68cc4432",
   "metadata": {},
   "outputs": [
    {
     "name": "stdout",
     "output_type": "stream",
     "text": [
      "Enter value from list=h\n",
      "count= 0\n",
      "\n",
      "Enter value from list=j\n"
     ]
    }
   ],
   "source": [
    "# 84. l=[\"a\",\"A\",\"b\",\"B\",\"d\",\"D\",\"c\",\"C\"] WAP to find out case insensitive count and \n",
    "\n",
    "a=[\"a\",\"A\",\"b\",\"B\",\"d\",\"D\",\"c\",\"C\"]\n",
    "user=input(\"Enter value from list=\")\n",
    "c=0\n",
    "for i in a:\n",
    "    if i.lower()==user.lower():\n",
    "        c+=1\n",
    "print(\"count=\",c)\n",
    "print()\n",
    "# 85. case insensitive search for an element.\n",
    "user=input(\"Enter value from list=\")\n",
    "for i in a:\n",
    "    if user.lower()==i:\n",
    "        print(\"Have search element in list\")\n",
    "        break"
   ]
  },
  {
   "cell_type": "code",
   "execution_count": 62,
   "id": "6019830f",
   "metadata": {},
   "outputs": [
    {
     "name": "stdout",
     "output_type": "stream",
     "text": [
      "['A', 'a', 'B', 'b', 'C', 'c', 'D', 'd']\n"
     ]
    }
   ],
   "source": [
    "# 86. l=[\"a\",\"A\",\"b\",\"B\",\"d\",\"D\",\"c\",\"C\"] sort the list properly\n",
    "a=[\"a\",\"A\",\"b\",\"B\",\"d\",\"D\",\"c\",\"C\"]\n",
    "print(sorted(a,key=lambda x:(x.lower(),x)))"
   ]
  },
  {
   "cell_type": "code",
   "execution_count": 17,
   "id": "ecf7d7c5",
   "metadata": {},
   "outputs": [
    {
     "name": "stdout",
     "output_type": "stream",
     "text": [
      "('a', 6)\n",
      "0\n"
     ]
    }
   ],
   "source": [
    "# 87. find the start position of the largest block of repeated characters in a given string\n",
    "s=\"aaaaaabbbccccc\"\n",
    "set_s=set(s)\n",
    "item=[]\n",
    "for i in set_s:\n",
    "    row=s.count(i)\n",
    "    item.append((i,row))\n",
    "ind=max(item,key=lambda a:a[1])\n",
    "print(ind)\n",
    "print(s.index(ind[0]))"
   ]
  },
  {
   "cell_type": "code",
   "execution_count": 28,
   "id": "353287a7",
   "metadata": {},
   "outputs": [
    {
     "name": "stdout",
     "output_type": "stream",
     "text": [
      "[1, 2, 3, 4, 5, 6, 7, 8]\n",
      "[3, 4, 5]\n"
     ]
    }
   ],
   "source": [
    "# 88. WAP to find union and intersection of lists.\n",
    "a=[1,2,3,4,5,6]\n",
    "b=[3,4,5,7,8]\n",
    "print(list(set(a) | set(b)))\n",
    "print(list(set(b) & (set(a))))\n"
   ]
  },
  {
   "cell_type": "code",
   "execution_count": 70,
   "id": "0a29fd34",
   "metadata": {},
   "outputs": [
    {
     "name": "stdout",
     "output_type": "stream",
     "text": [
      "[1, 2, 3, 4, 3, 2, 1]\n"
     ]
    }
   ],
   "source": [
    "# 89. input: fun(5) output: [1,2,3,4,3,2,1]\n",
    "def fun(a):\n",
    "    b=[]\n",
    "    for i in range(1,a):\n",
    "        b.append(i)\n",
    "    for i in range(1,a-1)[::-1]:\n",
    "        b.append(i)\n",
    "    print(b)\n",
    "fun(5)\n",
    "    "
   ]
  },
  {
   "cell_type": "code",
   "execution_count": 90,
   "id": "61958560",
   "metadata": {},
   "outputs": [
    {
     "name": "stdout",
     "output_type": "stream",
     "text": [
      "[[], ['a'], ['b'], ['c'], ['a', 'b'], ['a', 'c'], ['b', 'c'], ['a', 'b', 'c']]\n"
     ]
    }
   ],
   "source": [
    "# 90. input fun(\"abc\") output: [[],[a],[b],[c],[a,b],[b,c],[c,a],[a,b,c]]\n",
    "from itertools import combinations\n",
    "def fun(a):\n",
    "    b=[]\n",
    "    for i in range(len(a)+1):\n",
    "        b.append(list(combinations(\"abc\",i)))\n",
    "    c=[]\n",
    "    for i in b:\n",
    "        for j in i:\n",
    "            c.append(list(j))\n",
    "    print(c)\n",
    "fun(\"abc\")"
   ]
  },
  {
   "cell_type": "code",
   "execution_count": 8,
   "id": "4a43fc51",
   "metadata": {},
   "outputs": [
    {
     "name": "stdout",
     "output_type": "stream",
     "text": [
      "[1, 2, 3, 4]\n"
     ]
    }
   ],
   "source": [
    "# 91. Remove duplicates from the list: a=[1,2,3,2,3,4,1,3,4]\n",
    "a=[1,2,3,2,3,4,1,3,4]\n",
    "b=[]\n",
    "for i in a:\n",
    "    if i not in b:\n",
    "        b.append(i)\n",
    "print(b)"
   ]
  },
  {
   "cell_type": "code",
   "execution_count": 49,
   "id": "8ba38b06",
   "metadata": {},
   "outputs": [
    {
     "name": "stdout",
     "output_type": "stream",
     "text": [
      "The sum of the list is= 6\n"
     ]
    }
   ],
   "source": [
    "# 92. l=[\"1\",\"2\",\"3\"] get the sum of the list\n",
    "a=[\"1\",\"2\",\"3\"]\n",
    "b=0\n",
    "for i in a:\n",
    "    b +=int(i)\n",
    "print(\"The sum of the list is=\",b)"
   ]
  },
  {
   "cell_type": "code",
   "execution_count": 31,
   "id": "5df0ec5e",
   "metadata": {},
   "outputs": [
    {
     "name": "stdout",
     "output_type": "stream",
     "text": [
      "[1, 2, 3, 4, 5, 6, 7, 8]\n",
      "\n",
      "[6, 8, 10, 12]\n"
     ]
    }
   ],
   "source": [
    "# 93. l1=[1,2,3,4] l2=[5,6,7,8] sum of two lists\n",
    "a=[1,2,3,4] \n",
    "b=[5,6,7,8]\n",
    "print(a+b)\n",
    "print()\n",
    "print(list(map(lambda x,y:x+y,a,b)))"
   ]
  },
  {
   "cell_type": "code",
   "execution_count": 107,
   "id": "8e1c1680",
   "metadata": {},
   "outputs": [
    {
     "name": "stdout",
     "output_type": "stream",
     "text": [
      "3rd max value is= 6\n",
      "\n",
      "3rd max value is= 5\n"
     ]
    }
   ],
   "source": [
    "# 94. Find third max value of element in a list with sorting and without sorting a list.\n",
    "#without sorting\n",
    "a=[5,2,3,4,6,7,9,10]\n",
    "ma=0\n",
    "for i in range(len(a)-3):\n",
    "    if a[i]>ma:\n",
    "        ma=a[i]\n",
    "print(\"3rd max value is=\",ma)\n",
    "print()\n",
    "#with sorting\n",
    "a=[5,2,3,4,6,7,9,10]\n",
    "a.sort()\n",
    "print(\"3rd max value is=\",a[3])"
   ]
  },
  {
   "cell_type": "code",
   "execution_count": null,
   "id": "79f26967",
   "metadata": {},
   "outputs": [],
   "source": [
    "# 95. Input = [\"1/1\",\"1/2\",\"1/3\",\"1/4\",\"2/5\",\"2/6\",\"2/8\"] Output = [[\"1/1-4\"],[\"2/5-6\"],[\"2/8\"]]\n"
   ]
  },
  {
   "cell_type": "code",
   "execution_count": 1,
   "id": "a24f524c",
   "metadata": {},
   "outputs": [],
   "source": [
    "# 96. l=[1,2,3,5,7,8,9,10,11,12,13,20,22,23,24,25,26,27,20,21,22,4] output = [[1, 2, 3], [5], [7, 8, 9,\n",
    "# 10, 11, 12, 13], [20], [22, 23, 24, 25, 26, 27], [20, 21, 22], [4]]\n",
    "a=[1,2,3,5,7,8,9,10,11,12,13,20,22,23,24,25,26,27,20,21,22,4]\n",
    "\n",
    "        \n",
    "        "
   ]
  },
  {
   "cell_type": "code",
   "execution_count": 52,
   "id": "3ebe0f2a",
   "metadata": {},
   "outputs": [
    {
     "name": "stdout",
     "output_type": "stream",
     "text": [
      "odd,even,odd,even,odd,even,even,even,"
     ]
    }
   ],
   "source": [
    "# 97. input = 1,2,3,4,5,6,8,10 output = odd,even,odd,even,odd,even,even,even\n",
    "a=1,2,3,4,5,6,8,10\n",
    "for i in a:\n",
    "    if i%2==0:\n",
    "        print(\"even\",end=\",\")\n",
    "    else:\n",
    "        print(\"odd\",end=\",\")"
   ]
  },
  {
   "cell_type": "code",
   "execution_count": 2,
   "id": "933d16de",
   "metadata": {},
   "outputs": [
    {
     "name": "stdout",
     "output_type": "stream",
     "text": [
      "111\n",
      "101\n",
      "111\n"
     ]
    }
   ],
   "source": [
    "# 98. input n=3\n",
    "# output: \n",
    "# 111\n",
    "# 101\n",
    "# 111\n",
    "n = 3\n",
    "for i in range(n):\n",
    "    if i==0 or i==(n-1):\n",
    "        print(\"1\"*n)\n",
    "    else:\n",
    "        s=\"1\"\n",
    "        e=\"1\"\n",
    "        r=n-2\n",
    "        z=\"0\"*r\n",
    "        print(s+z+e)\n",
    "        "
   ]
  },
  {
   "cell_type": "code",
   "execution_count": 53,
   "id": "f27492fb",
   "metadata": {},
   "outputs": [
    {
     "name": "stdout",
     "output_type": "stream",
     "text": [
      "{'g': 2, 'o': 2, 'l': 1, 'e': 1}\n"
     ]
    }
   ],
   "source": [
    "# 99. input: Google\n",
    "# output: {\"g\":2,\"o\":2,\"l\":1,\"e\":1} use dictionary comprehension\n",
    "a=\"Google\".lower()\n",
    "d={}\n",
    "for i in a:\n",
    "    d[i]=a.count(i)\n",
    "print(d)\n"
   ]
  },
  {
   "cell_type": "code",
   "execution_count": 98,
   "id": "7a1194cc",
   "metadata": {},
   "outputs": [
    {
     "name": "stdout",
     "output_type": "stream",
     "text": [
      "keys= ['k1', 'k2'] values= ['v1', 'v2']\n",
      "\n",
      "{'k1': 'v1', 'k2': 'v2'}\n"
     ]
    }
   ],
   "source": [
    "# 100. keys=[\"k1\",\"k2\"], values = [\"v1\",\"v2\"] form a dictionary.\n",
    "d={\"k1\":\"v1\",\"k2\":\"v2\"}\n",
    "print(\"keys=\",list(d.keys()),\"values=\",list(d.values()))\n",
    "print()\n",
    "keys=[\"k1\",\"k2\"]\n",
    "values=[\"v1\",\"v2\"]\n",
    "a=dict(zip(keys,values))\n",
    "print(a)"
   ]
  },
  {
   "cell_type": "code",
   "execution_count": 62,
   "id": "55bed972",
   "metadata": {},
   "outputs": [
    {
     "name": "stdout",
     "output_type": "stream",
     "text": [
      "[('satish', 90), ('mohan', 80), ('purnesh', 40), ('venkat', 30)]\n",
      "[('venkat', 30), ('satish', 90), ('purnesh', 40), ('mohan', 80)]\n"
     ]
    }
   ],
   "source": [
    "# 101. Sort the list marks = [(\"mohan\",80),(\"satish\",90),(\"purnesh\",40),(\"venkat\",30)]\n",
    "# according to descending order of marks\n",
    "marks=[(\"mohan\",80),(\"satish\",90),(\"purnesh\",40),(\"venkat\",30)]\n",
    "m=sorted(marks,key=lambda x:x[1],reverse=True)\n",
    "print(m)\n",
    "n=sorted(marks,key=lambda x:x[0],reverse=True)\n",
    "print(n)"
   ]
  },
  {
   "cell_type": "code",
   "execution_count": 18,
   "id": "216aa507",
   "metadata": {},
   "outputs": [
    {
     "name": "stdout",
     "output_type": "stream",
     "text": [
      "[1.0, 2.2, 3.4, 4.6, 5.8, 7.0, 8.2, 9.4, 10.6, 11.8, 13.0]\n"
     ]
    }
   ],
   "source": [
    "# 102.write a function to get dynamic list for floating numbers also based on strat and end and\n",
    "# step parameters\n",
    "s=1.0\n",
    "e=13.2\n",
    "step=1.2\n",
    "res=[]\n",
    "while e>s:\n",
    "    res.append(round(s,2))\n",
    "    s+=step\n",
    "print(res)"
   ]
  },
  {
   "cell_type": "code",
   "execution_count": 1,
   "id": "e88486f6",
   "metadata": {},
   "outputs": [
    {
     "name": "stdout",
     "output_type": "stream",
     "text": [
      "[6, 28, 496]\n"
     ]
    }
   ],
   "source": [
    "# 103. find out all perfect numbers in given range\n",
    "a=[]\n",
    "for n in range(1,1000):\n",
    "    sum=0\n",
    "    for i in range(1,n):\n",
    "        if n%i==0:\n",
    "            sum +=i\n",
    "    if n==sum:\n",
    "        a.append(n)\n",
    "print(a)\n",
    "    "
   ]
  },
  {
   "cell_type": "code",
   "execution_count": null,
   "id": "da51a26b",
   "metadata": {},
   "outputs": [],
   "source": [
    "# 104. WAP to do all stack operations using lists\n"
   ]
  },
  {
   "cell_type": "code",
   "execution_count": null,
   "id": "d73ea715",
   "metadata": {},
   "outputs": [],
   "source": [
    "# 105.WAP to do all queue operations using lists\n"
   ]
  },
  {
   "cell_type": "code",
   "execution_count": 2,
   "id": "93649547",
   "metadata": {},
   "outputs": [
    {
     "name": "stdout",
     "output_type": "stream",
     "text": [
      "Enter element to remove=5\n",
      "Enter occurrences=3\n",
      "[2, 3, 4, 6, 2, 4, 3, 6, 2, 3, 5, 4]\n"
     ]
    }
   ],
   "source": [
    "# 106. WAP to remove n occurrences of specified element from a list\n",
    "a=[2,5,3,4,5,6,2,4,3,5,6,2,3,5,4]\n",
    "remove=int(input(\"Enter element to remove=\"))\n",
    "count=int(input(\"Enter occurrences=\"))\n",
    "for i in range(count):\n",
    "    index=a.index(remove)\n",
    "    a.pop(index)\n",
    "print(a)"
   ]
  },
  {
   "cell_type": "code",
   "execution_count": 19,
   "id": "a00168cd",
   "metadata": {},
   "outputs": [
    {
     "name": "stdout",
     "output_type": "stream",
     "text": [
      "True\n"
     ]
    }
   ],
   "source": [
    "# 107. compare two lists ignore order. i.e return True l1=[1,2,3,4],l2=[4,2,3,1], fun(l1,l2)->; True\n",
    "a=[1,2,3,4]\n",
    "b=[4,2,3,1]\n",
    "print(sorted(a)==sorted(b))"
   ]
  },
  {
   "cell_type": "code",
   "execution_count": 3,
   "id": "0a20d2bc",
   "metadata": {},
   "outputs": [
    {
     "name": "stdout",
     "output_type": "stream",
     "text": [
      "False\n"
     ]
    }
   ],
   "source": [
    "# 108. XOR operation in python.\n",
    "print(True ^ True)"
   ]
  },
  {
   "cell_type": "code",
   "execution_count": 20,
   "id": "bc473dba",
   "metadata": {},
   "outputs": [
    {
     "name": "stdout",
     "output_type": "stream",
     "text": [
      "[]\n"
     ]
    }
   ],
   "source": [
    "# 109. how to remove all occurrences of the given element in a list\n",
    "a=[1,2,5,6,7,8,9]\n",
    "a.clear()\n",
    "print(a)"
   ]
  },
  {
   "cell_type": "code",
   "execution_count": 22,
   "id": "a116e7d0",
   "metadata": {},
   "outputs": [
    {
     "name": "stdout",
     "output_type": "stream",
     "text": [
      "Enter element to remove=8\n",
      "Enter occurances=2\n",
      "[1, 2, 3, 5, 2, 6, 7, 2, 9, 10, 11, 8, 12, 2]\n"
     ]
    }
   ],
   "source": [
    "# 110. how to remove first n occurrences of the given element in a list\n",
    "a=[8,1,2,3,5,2,6,7,8,2,9,10,11,8,12,2]\n",
    "remove=int(input(\"Enter element to remove=\"))\n",
    "count=int(input(\"Enter occurances=\"))\n",
    "for i in range(count):\n",
    "    index=a.index(remove)\n",
    "    a.pop(index)\n",
    "print(a)"
   ]
  },
  {
   "cell_type": "code",
   "execution_count": 23,
   "id": "33284fab",
   "metadata": {},
   "outputs": [
    {
     "name": "stdout",
     "output_type": "stream",
     "text": [
      "Enter element to remove=12\n",
      "Enter occurance=2\n",
      "[8, 1, 12, 3, 5, 2, 6, 7, 8, 9, 10, 11, 8, 2]\n"
     ]
    }
   ],
   "source": [
    "# 111. how to remove last n occurrences of the given element in a list\n",
    "a=[8,1,12,3,5,2,6,7,8,12,9,10,11,8,12,2]\n",
    "remove=int(input(\"Enter element to remove=\"))\n",
    "count=int(input(\"Enter occurance=\"))\n",
    "a=a[::-1]\n",
    "for i in range(count):\n",
    "    index=a.index(remove)\n",
    "    a.pop(index)\n",
    "print(a[::-1])\n"
   ]
  },
  {
   "cell_type": "code",
   "execution_count": 26,
   "id": "f27b5d25",
   "metadata": {},
   "outputs": [
    {
     "name": "stdout",
     "output_type": "stream",
     "text": [
      "Enter element to remove=2\n",
      "Enter occurrences=4\n",
      "[1, 3, 5, 6, 2, 3, 6, 5, 6, 4, 3, 5]\n"
     ]
    }
   ],
   "source": [
    "# 112. how to remove nth occurrences of the given element in a list\n",
    "a=[1,2,2,3,2,5,6,2,2,3,6,5,6,4,3,5]\n",
    "n=int(input(\"Enter element to remove=\"))\n",
    "c=int(input(\"Enter occurrences=\"))\n",
    "for i in range(c):\n",
    "    index=a.index(n)\n",
    "    a.pop(index)\n",
    "print(a)"
   ]
  },
  {
   "cell_type": "code",
   "execution_count": 5,
   "id": "13772e71",
   "metadata": {},
   "outputs": [
    {
     "name": "stdout",
     "output_type": "stream",
     "text": [
      "[0, 0.1, 0.2, 0.3, 0.4, 0.5, 0.6, 0.7, 0.8, 0.9, 1.0]\n"
     ]
    }
   ],
   "source": [
    "# 113. WAP to generate list of floats i.e: fun(0,1,0.1), [0,0.1,0.2,0.3,0.4,0.5,0.6,0.7,0.8,0.9]\n",
    "def fun(a,b,c):\n",
    "    res=[]\n",
    "    while b>a:\n",
    "        res.append(round(a,2))\n",
    "        a+=c\n",
    "    print(res)\n",
    "fun(0,1,0.1)"
   ]
  },
  {
   "cell_type": "code",
   "execution_count": 6,
   "id": "57610f20",
   "metadata": {},
   "outputs": [
    {
     "name": "stdout",
     "output_type": "stream",
     "text": [
      "world,Everyone\n"
     ]
    }
   ],
   "source": [
    "# 114. WAP to remove all occurrences of given substring from actual string\n",
    "a=\"Hello,world,Hello,Everyone\"\n",
    "print(a.replace(\"Hello,\",\"\"))"
   ]
  },
  {
   "cell_type": "code",
   "execution_count": 8,
   "id": "e6c99a83",
   "metadata": {},
   "outputs": [
    {
     "name": "stdout",
     "output_type": "stream",
     "text": [
      "Enter occurrences=2\n",
      "world,python,Hello,world\n"
     ]
    }
   ],
   "source": [
    "# 115. WAP to remove first n occurrences of given substring from actual string\n",
    "a=\"Hello,world,Hello,python,Hello,world\".split(\",\")\n",
    "b=\"Hello\"\n",
    "remove=b\n",
    "count=int(input(\"Enter occurrences=\"))\n",
    "for i in range(count):\n",
    "    index=a.index(remove)\n",
    "    a.pop(index)\n",
    "print(\",\".join(a))"
   ]
  },
  {
   "cell_type": "code",
   "execution_count": 9,
   "id": "38f92f98",
   "metadata": {},
   "outputs": [
    {
     "name": "stdout",
     "output_type": "stream",
     "text": [
      "Enter occurrences=2\n",
      "Hello,world,python,world\n"
     ]
    }
   ],
   "source": [
    "# 116. WAP to remove last n occurrences of given substring from actual string\n",
    "a=\"Hello,world,Hello,python,Hello,world\".split(\",\")\n",
    "b=\"Hello\"\n",
    "remove=b\n",
    "a=a[::-1]\n",
    "count=int(input(\"Enter occurrences=\"))\n",
    "for i in range(count):\n",
    "    index=a.index(remove)\n",
    "    a.pop(index)\n",
    "print(\",\".join(a[::-1]))"
   ]
  },
  {
   "cell_type": "code",
   "execution_count": 16,
   "id": "9c953e9c",
   "metadata": {},
   "outputs": [
    {
     "name": "stdout",
     "output_type": "stream",
     "text": [
      "Hello world Hi python Hi world\n"
     ]
    }
   ],
   "source": [
    "# 117. WAP to replace last n occurrences of given substring with destination string in actual string\n",
    "a=\"Hello world Hello python Hello world\"\n",
    "print(\"Hi\".join(a.rsplit(\"Hello\",2)))"
   ]
  },
  {
   "cell_type": "code",
   "execution_count": 29,
   "id": "4ec4b284",
   "metadata": {},
   "outputs": [
    {
     "name": "stdout",
     "output_type": "stream",
     "text": [
      "sort the string ascending order= aaaabghnv\n",
      "sort the string descending order= vnhgbaaaa\n"
     ]
    }
   ],
   "source": [
    "# 118. WAP to sort the string.\n",
    "a=\"bhagavaan\"\n",
    "b=\"\".join(sorted(a))\n",
    "c=\"\".join(sorted(a,reverse=True))\n",
    "print(\"sort the string ascending order=\",b)\n",
    "print(\"sort the string descending order=\",c)"
   ]
  },
  {
   "cell_type": "code",
   "execution_count": 6,
   "id": "4e07e955",
   "metadata": {},
   "outputs": [
    {
     "name": "stdout",
     "output_type": "stream",
     "text": [
      "The maximum value is= 9\n"
     ]
    }
   ],
   "source": [
    "# 119. take a coma separated numbers and find out max number.\n",
    "a=1,5,2,6,9,3,7\n",
    "ma=0\n",
    "for i in a:\n",
    "    if i>ma:\n",
    "        ma=i\n",
    "print(\"The maximum value is=\",ma)"
   ]
  },
  {
   "cell_type": "code",
   "execution_count": 7,
   "id": "9422ff5a",
   "metadata": {},
   "outputs": [
    {
     "name": "stdout",
     "output_type": "stream",
     "text": [
      "to see the data we have to open employee.data file\n",
      "{'name': 'ramesh', 'age': 25, 'salary': 15000, 'isMarried': True, 'isHavingGirlFriend': None}\n"
     ]
    }
   ],
   "source": [
    "# 120. Read a json file. Try to get the information from the file\n",
    "import json\n",
    "d={\"name\":\"ramesh\",\"age\":25,\"salary\":15000,\"isMarried\":True,\"isHavingGirlFriend\":None}\n",
    "with open(\"employee.data\",\"w\") as f:\n",
    "    json.dump(d,f)\n",
    "    print(\"to see the data we have to open employee.data file\")\n",
    "\n",
    "with open(\"employee.data\",\"r\") as f:\n",
    "    result=json.load(f)\n",
    "print(result)"
   ]
  },
  {
   "cell_type": "code",
   "execution_count": 4,
   "id": "693ba68d",
   "metadata": {},
   "outputs": [
    {
     "name": "stdout",
     "output_type": "stream",
     "text": [
      "to see the data we have to open the file\n",
      "{'IsHavingGirlFriend': None, 'age': 15, 'grade': 'A', 'isMarried': True, 'name': 'eshwar'}\n"
     ]
    }
   ],
   "source": [
    "# 121.Read a yaml file. Try to get the information from the file\n",
    "from pyaml import yaml\n",
    "s={\"name\":\"eshwar\",\"age\":15,\"grade\":\"A\",\"IsHavingGirlFriend\":None,\"isMarried\":True}\n",
    "with open(\"student.data\",\"w\") as f:\n",
    "    yaml.dump(s,f)\n",
    "    print(\"to see the data we have to open the file\")\n",
    "\n",
    "with open(\"student.data\",\"r\") as f:\n",
    "    result=yaml.safe_load(f)\n",
    "    print(result)"
   ]
  },
  {
   "cell_type": "code",
   "execution_count": null,
   "id": "77a1caae",
   "metadata": {},
   "outputs": [],
   "source": [
    "# 122.Read any image data using Opencv\n"
   ]
  },
  {
   "cell_type": "code",
   "execution_count": 45,
   "id": "2d63e158",
   "metadata": {},
   "outputs": [
    {
     "name": "stdout",
     "output_type": "stream",
     "text": [
      "python margorp good egaugnal \n"
     ]
    }
   ],
   "source": [
    "# 123.make alternative words reversed in given string:\n",
    "# ex: \"python program good language\"; \"python margorp good egaugnal\";\n",
    "a=\"python program good language\".split()\n",
    "b=\"\"\n",
    "for i in range(len(a)):\n",
    "    if i%2!=0:\n",
    "        b+=a[i][::-1]+\" \"\n",
    "    else:\n",
    "        b+=a[i]+\" \"\n",
    "print(b)\n",
    "        "
   ]
  },
  {
   "cell_type": "code",
   "execution_count": 36,
   "id": "2703b4da",
   "metadata": {},
   "outputs": [
    {
     "name": "stdout",
     "output_type": "stream",
     "text": [
      "case insensitive= 2\n",
      "case sensitive= 1\n"
     ]
    }
   ],
   "source": [
    "# 124. l=[\"c\",\"cpp\",\"java\",\"php\",\"python\"]\n",
    "# case insensitive count# l.count(\"C\")->;1\n",
    "# like count l.own_count(\"c\")->;2 with case insensitive\n",
    "a=[\"C\",\"cpp\",\"java\",\"php\",\"python\"]\n",
    "b=\"\".join(a).lower()\n",
    "print(\"case insensitive=\",b.count(\"c\"))\n",
    "b=\"\".join(a)\n",
    "print(\"case sensitive=\",b.count(\"C\"))"
   ]
  },
  {
   "cell_type": "markdown",
   "id": "ceef38b8",
   "metadata": {},
   "source": [
    "# STRINGS"
   ]
  },
  {
   "cell_type": "code",
   "execution_count": 55,
   "id": "9ec366c0",
   "metadata": {},
   "outputs": [
    {
     "name": "stdout",
     "output_type": "stream",
     "text": [
      "Enter any number=36.5\n",
      "Enter any number=14\n",
      "36.5,14=50.5\n"
     ]
    }
   ],
   "source": [
    "# Take two inputs from the user: your program should check for below scenarios.\n",
    "# 10,20: 30\n",
    "# 12.34,45.67: 58.01\n",
    "# +12,-12: 0\n",
    "# qwe,23we: Enter digits or float values only\n",
    "a=input(\"Enter any number=\")\n",
    "b=input(\"Enter any number=\")\n",
    "try:\n",
    "    a=int(a)\n",
    "except ValueError:\n",
    "    try:\n",
    "        a=float(a)\n",
    "    except ValueError:\n",
    "        print(\"Please enter digits or float values only\")\n",
    "try:\n",
    "    b=int(b)\n",
    "except ValueError:\n",
    "    try:\n",
    "        b=float(b)\n",
    "    except ValueError:\n",
    "        print(\"Please enter digits or float values only\")\n",
    "print(\"{},{}={}\".format(a,b,a+b))\n"
   ]
  },
  {
   "cell_type": "code",
   "execution_count": 14,
   "id": "13804d51",
   "metadata": {},
   "outputs": [
    {
     "name": "stdout",
     "output_type": "stream",
     "text": [
      "Enter no of employees=1\n",
      "Enter employee id=100\n",
      "Enter employee weight=60\n",
      "Enter employee height=1.64\n",
      "Enter employee age=25\n",
      "{100: {'weight': 60.0, 'height': 1.64, 'age': 25, 'bmi': 22.308149910767405, 'result': '+ve'}}\n"
     ]
    }
   ],
   "source": [
    "# 116. take the number of employees count from the user and ask the inputs required for the bmi for each\n",
    "# and every person. The result should be like below\n",
    "# empid:{“weight:”,”height”:,”age”:,”bmi”:0.9,”result”:”+ve”}\n",
    "def employee_data():\n",
    "    try:\n",
    "        no_of_employees=int(input(\"Enter no of employees=\"))\n",
    "        employee_data={}\n",
    "        for i in range(no_of_employees):\n",
    "            eid=int(input(\"Enter employee id=\"))\n",
    "            eweight=float(input(\"Enter employee weight=\"))\n",
    "            eheight=float(input(\"Enter employee height=\"))\n",
    "            age=int(input(\"Enter employee age=\"))\n",
    "            bmi=eweight/(eheight**2)\n",
    "            result=\"+ve\" if 18.5 <= bmi <=24.9 else \"-ve\"\n",
    "            emp_data={\"weight\":eweight,\"height\":eheight,\"age\":age,\"bmi\":bmi,\"result\":result}\n",
    "            employee_data[eid]=emp_data\n",
    "        print(employee_data)\n",
    "    except ValueError:\n",
    "        print(\"please provide integer values\")\n",
    "employee_data()\n",
    "        "
   ]
  },
  {
   "cell_type": "markdown",
   "id": "84067900",
   "metadata": {},
   "source": [
    "# Modules:"
   ]
  },
  {
   "cell_type": "code",
   "execution_count": null,
   "id": "72e32ec0",
   "metadata": {},
   "outputs": [],
   "source": [
    "117. CRM: app.py(define a menu: 1.meetings, 2. customer, 3. quit\n",
    "1:\n",
    "a. create meeting\n",
    "b. update meeting\n",
    "c. delete meeting\n",
    "d. get the meeting\n",
    "2:\n",
    "a. create customer\n",
    "b. update customer\n",
    "c. delete customer\n",
    "d. get the customer\n",
    "), meetings.py, customer.py"
   ]
  },
  {
   "cell_type": "markdown",
   "id": "34d38878",
   "metadata": {},
   "source": [
    "# FILES"
   ]
  },
  {
   "cell_type": "code",
   "execution_count": 53,
   "id": "9d3ef7cf",
   "metadata": {},
   "outputs": [
    {
     "name": "stdout",
     "output_type": "stream",
     "text": [
      "completed\n"
     ]
    }
   ],
   "source": [
    "# 118. copy 1 file content in to another file(Take the source and destination file path from the user)\n",
    "with open(\"emp.data\",\"r\") as f1:\n",
    "    data=f1.read()\n",
    "with open(\"salary.data\",\"w\") as f2:\n",
    "    f2.write(data)\n",
    "    print(\"completed\")"
   ]
  },
  {
   "cell_type": "code",
   "execution_count": 50,
   "id": "eefb957c",
   "metadata": {},
   "outputs": [
    {
     "name": "stdout",
     "output_type": "stream",
     "text": [
      "Enter file name=emp.data\n",
      "file exists= emp.data\n",
      "no of lines are present in file= 1\n",
      "no of words are present in the file= 10\n",
      "no of characters are present in the file= 93\n"
     ]
    }
   ],
   "source": [
    "#120. print number of lines, words, characters from the given file\n",
    "import os\n",
    "fname=input(\"Enter file name=\")\n",
    "if os.path.isfile(fname):\n",
    "    print(\"file exists=\",fname)\n",
    "    with open(fname,\"r\") as f:\n",
    "        lcount=wcount=ccount=0\n",
    "        for i in f:\n",
    "            lcount +=1\n",
    "            no_words_present_in_current_line=len(i.split())\n",
    "            wcount +=no_words_present_in_current_line\n",
    "            ccount +=len(i)\n",
    "        print(\"no of lines are present in file=\",lcount)\n",
    "        print(\"no of words are present in the file=\",wcount)\n",
    "        print(\"no of characters are present in the file=\",ccount)\n",
    "else:\n",
    "    print(\"file does not exists=\",fname)"
   ]
  },
  {
   "cell_type": "code",
   "execution_count": 15,
   "id": "e8944b24",
   "metadata": {},
   "outputs": [
    {
     "ename": "JSONDecodeError",
     "evalue": "Expecting value: line 1 column 1 (char 0)",
     "output_type": "error",
     "traceback": [
      "\u001b[1;31m---------------------------------------------------------------------------\u001b[0m",
      "\u001b[1;31mJSONDecodeError\u001b[0m                           Traceback (most recent call last)",
      "Cell \u001b[1;32mIn[15], line 4\u001b[0m\n\u001b[0;32m      2\u001b[0m \u001b[38;5;28;01mimport\u001b[39;00m \u001b[38;5;21;01mjson\u001b[39;00m\n\u001b[0;32m      3\u001b[0m \u001b[38;5;28;01mwith\u001b[39;00m \u001b[38;5;28mopen\u001b[39m(\u001b[38;5;124m\"\u001b[39m\u001b[38;5;124memployee.data\u001b[39m\u001b[38;5;124m\"\u001b[39m,\u001b[38;5;124m\"\u001b[39m\u001b[38;5;124mr\u001b[39m\u001b[38;5;124m\"\u001b[39m) \u001b[38;5;28;01mas\u001b[39;00m f:\n\u001b[1;32m----> 4\u001b[0m     data\u001b[38;5;241m=\u001b[39m[json\u001b[38;5;241m.\u001b[39mloads(i) \u001b[38;5;28;01mfor\u001b[39;00m i \u001b[38;5;129;01min\u001b[39;00m f]\n\u001b[0;32m      5\u001b[0m \u001b[38;5;28mprint\u001b[39m(data)\n",
      "Cell \u001b[1;32mIn[15], line 4\u001b[0m, in \u001b[0;36m<listcomp>\u001b[1;34m(.0)\u001b[0m\n\u001b[0;32m      2\u001b[0m \u001b[38;5;28;01mimport\u001b[39;00m \u001b[38;5;21;01mjson\u001b[39;00m\n\u001b[0;32m      3\u001b[0m \u001b[38;5;28;01mwith\u001b[39;00m \u001b[38;5;28mopen\u001b[39m(\u001b[38;5;124m\"\u001b[39m\u001b[38;5;124memployee.data\u001b[39m\u001b[38;5;124m\"\u001b[39m,\u001b[38;5;124m\"\u001b[39m\u001b[38;5;124mr\u001b[39m\u001b[38;5;124m\"\u001b[39m) \u001b[38;5;28;01mas\u001b[39;00m f:\n\u001b[1;32m----> 4\u001b[0m     data\u001b[38;5;241m=\u001b[39m[json\u001b[38;5;241m.\u001b[39mloads(i) \u001b[38;5;28;01mfor\u001b[39;00m i \u001b[38;5;129;01min\u001b[39;00m f]\n\u001b[0;32m      5\u001b[0m \u001b[38;5;28mprint\u001b[39m(data)\n",
      "File \u001b[1;32mC:\\ProgramData\\anaconda3\\Lib\\json\\__init__.py:346\u001b[0m, in \u001b[0;36mloads\u001b[1;34m(s, cls, object_hook, parse_float, parse_int, parse_constant, object_pairs_hook, **kw)\u001b[0m\n\u001b[0;32m    341\u001b[0m     s \u001b[38;5;241m=\u001b[39m s\u001b[38;5;241m.\u001b[39mdecode(detect_encoding(s), \u001b[38;5;124m'\u001b[39m\u001b[38;5;124msurrogatepass\u001b[39m\u001b[38;5;124m'\u001b[39m)\n\u001b[0;32m    343\u001b[0m \u001b[38;5;28;01mif\u001b[39;00m (\u001b[38;5;28mcls\u001b[39m \u001b[38;5;129;01mis\u001b[39;00m \u001b[38;5;28;01mNone\u001b[39;00m \u001b[38;5;129;01mand\u001b[39;00m object_hook \u001b[38;5;129;01mis\u001b[39;00m \u001b[38;5;28;01mNone\u001b[39;00m \u001b[38;5;129;01mand\u001b[39;00m\n\u001b[0;32m    344\u001b[0m         parse_int \u001b[38;5;129;01mis\u001b[39;00m \u001b[38;5;28;01mNone\u001b[39;00m \u001b[38;5;129;01mand\u001b[39;00m parse_float \u001b[38;5;129;01mis\u001b[39;00m \u001b[38;5;28;01mNone\u001b[39;00m \u001b[38;5;129;01mand\u001b[39;00m\n\u001b[0;32m    345\u001b[0m         parse_constant \u001b[38;5;129;01mis\u001b[39;00m \u001b[38;5;28;01mNone\u001b[39;00m \u001b[38;5;129;01mand\u001b[39;00m object_pairs_hook \u001b[38;5;129;01mis\u001b[39;00m \u001b[38;5;28;01mNone\u001b[39;00m \u001b[38;5;129;01mand\u001b[39;00m \u001b[38;5;129;01mnot\u001b[39;00m kw):\n\u001b[1;32m--> 346\u001b[0m     \u001b[38;5;28;01mreturn\u001b[39;00m _default_decoder\u001b[38;5;241m.\u001b[39mdecode(s)\n\u001b[0;32m    347\u001b[0m \u001b[38;5;28;01mif\u001b[39;00m \u001b[38;5;28mcls\u001b[39m \u001b[38;5;129;01mis\u001b[39;00m \u001b[38;5;28;01mNone\u001b[39;00m:\n\u001b[0;32m    348\u001b[0m     \u001b[38;5;28mcls\u001b[39m \u001b[38;5;241m=\u001b[39m JSONDecoder\n",
      "File \u001b[1;32mC:\\ProgramData\\anaconda3\\Lib\\json\\decoder.py:337\u001b[0m, in \u001b[0;36mJSONDecoder.decode\u001b[1;34m(self, s, _w)\u001b[0m\n\u001b[0;32m    332\u001b[0m \u001b[38;5;28;01mdef\u001b[39;00m \u001b[38;5;21mdecode\u001b[39m(\u001b[38;5;28mself\u001b[39m, s, _w\u001b[38;5;241m=\u001b[39mWHITESPACE\u001b[38;5;241m.\u001b[39mmatch):\n\u001b[0;32m    333\u001b[0m \u001b[38;5;250m    \u001b[39m\u001b[38;5;124;03m\"\"\"Return the Python representation of ``s`` (a ``str`` instance\u001b[39;00m\n\u001b[0;32m    334\u001b[0m \u001b[38;5;124;03m    containing a JSON document).\u001b[39;00m\n\u001b[0;32m    335\u001b[0m \n\u001b[0;32m    336\u001b[0m \u001b[38;5;124;03m    \"\"\"\u001b[39;00m\n\u001b[1;32m--> 337\u001b[0m     obj, end \u001b[38;5;241m=\u001b[39m \u001b[38;5;28mself\u001b[39m\u001b[38;5;241m.\u001b[39mraw_decode(s, idx\u001b[38;5;241m=\u001b[39m_w(s, \u001b[38;5;241m0\u001b[39m)\u001b[38;5;241m.\u001b[39mend())\n\u001b[0;32m    338\u001b[0m     end \u001b[38;5;241m=\u001b[39m _w(s, end)\u001b[38;5;241m.\u001b[39mend()\n\u001b[0;32m    339\u001b[0m     \u001b[38;5;28;01mif\u001b[39;00m end \u001b[38;5;241m!=\u001b[39m \u001b[38;5;28mlen\u001b[39m(s):\n",
      "File \u001b[1;32mC:\\ProgramData\\anaconda3\\Lib\\json\\decoder.py:355\u001b[0m, in \u001b[0;36mJSONDecoder.raw_decode\u001b[1;34m(self, s, idx)\u001b[0m\n\u001b[0;32m    353\u001b[0m     obj, end \u001b[38;5;241m=\u001b[39m \u001b[38;5;28mself\u001b[39m\u001b[38;5;241m.\u001b[39mscan_once(s, idx)\n\u001b[0;32m    354\u001b[0m \u001b[38;5;28;01mexcept\u001b[39;00m \u001b[38;5;167;01mStopIteration\u001b[39;00m \u001b[38;5;28;01mas\u001b[39;00m err:\n\u001b[1;32m--> 355\u001b[0m     \u001b[38;5;28;01mraise\u001b[39;00m JSONDecodeError(\u001b[38;5;124m\"\u001b[39m\u001b[38;5;124mExpecting value\u001b[39m\u001b[38;5;124m\"\u001b[39m, s, err\u001b[38;5;241m.\u001b[39mvalue) \u001b[38;5;28;01mfrom\u001b[39;00m \u001b[38;5;28;01mNone\u001b[39;00m\n\u001b[0;32m    356\u001b[0m \u001b[38;5;28;01mreturn\u001b[39;00m obj, end\n",
      "\u001b[1;31mJSONDecodeError\u001b[0m: Expecting value: line 1 column 1 (char 0)"
     ]
    }
   ],
   "source": [
    "# 121. convert .txt file in .json\n",
    "import json\n",
    "with open(\"employee.data\",\"r\") as f:\n",
    "    data=[json.loads(i) for i in f]\n",
    "print(data)\n"
   ]
  },
  {
   "cell_type": "code",
   "execution_count": null,
   "id": "ffd28d22",
   "metadata": {},
   "outputs": [],
   "source": [
    "122. Take three columns disease, symptoms, advice in a file and fill the details\n",
    "Ask the user to enter symptoms. Based on this symptoms Suggest the user to what\n",
    "disease it may be and few advices.\n"
   ]
  },
  {
   "cell_type": "code",
   "execution_count": null,
   "id": "a3125a17",
   "metadata": {},
   "outputs": [],
   "source": [
    "123. Take employees info (id,name, age, adress, sal, height, weight)\n",
    "a. Take id, provide employee information for that id.\n",
    "b. find out average salary.\n",
    "c. find out which age, address taking the heighest salary\n",
    "d. find out every employee BMI value\n",
    "e. Finally find out the Organization overall BMI\n",
    "\n"
   ]
  },
  {
   "cell_type": "code",
   "execution_count": null,
   "id": "ca082a5c",
   "metadata": {},
   "outputs": [],
   "source": [
    "124. read the file which contains the size greater than your ram size\n"
   ]
  },
  {
   "cell_type": "code",
   "execution_count": null,
   "id": "b490d543",
   "metadata": {},
   "outputs": [],
   "source": [
    "125. Read ten gb movie\n"
   ]
  },
  {
   "cell_type": "code",
   "execution_count": null,
   "id": "bb305723",
   "metadata": {},
   "outputs": [],
   "source": [
    "126. Collect emp information in a file Provide these operations.\n",
    "Menu:\n",
    "1. Get information of an employee\n",
    "2. Modify employee information\n",
    "3. delete an employee information (Only status field change in the employee file)\n",
    "4. Add an employee.\n"
   ]
  },
  {
   "cell_type": "code",
   "execution_count": null,
   "id": "c75cf499",
   "metadata": {},
   "outputs": [],
   "source": [
    "127. Take Source and destination file paths from command line arguments and copy the\n",
    "sourcontent into destination.\n",
    "Make Sure that your program checking the below conditions.\n",
    "1.if the source file not there. Should ask the user to enter new source file or want to quit\n",
    "a program\n",
    "2.if the destination file already there in the specified path. Should warn the user want to\n",
    "proceed or want to enter new destination file name or want to quit\n",
    "\n"
   ]
  },
  {
   "cell_type": "code",
   "execution_count": null,
   "id": "7a14307b",
   "metadata": {},
   "outputs": [],
   "source": [
    "128. Bulk file copy.\n",
    "Take source and destination file paths from a file and copy the source file content into\n",
    "destination file.\n",
    "Maintain configuration file and put the below fields there\n",
    "Source not found: Skip the copy\n",
    "destination found: skip/replace\n",
    "maintain a remarks log. What are the files skiped from copy because no source file\n",
    "found. What are the files skip/replaced because of destination file foun in the specified path"
   ]
  }
 ],
 "metadata": {
  "kernelspec": {
   "display_name": "Python 3 (ipykernel)",
   "language": "python",
   "name": "python3"
  },
  "language_info": {
   "codemirror_mode": {
    "name": "ipython",
    "version": 3
   },
   "file_extension": ".py",
   "mimetype": "text/x-python",
   "name": "python",
   "nbconvert_exporter": "python",
   "pygments_lexer": "ipython3",
   "version": "3.11.5"
  }
 },
 "nbformat": 4,
 "nbformat_minor": 5
}
