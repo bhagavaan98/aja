{
 "cells": [
  {
   "cell_type": "code",
   "execution_count": 1,
   "id": "df7fe4ce",
   "metadata": {},
   "outputs": [
    {
     "name": "stdout",
     "output_type": "stream",
     "text": [
      "['AbstractAsyncContextManager', 'AbstractContextManager', 'AsyncContextDecorator', 'AsyncExitStack', 'ContextDecorator', 'ExitStack', 'GenericAlias', 'MethodType', '_AsyncGeneratorContextManager', '_BaseExitStack', '_GeneratorContextManager', '_GeneratorContextManagerBase', '_RedirectStream', '__all__', '__builtins__', '__cached__', '__doc__', '__file__', '__loader__', '__name__', '__package__', '__spec__', '_collections_abc', 'abc', 'aclosing', 'asynccontextmanager', 'chdir', 'closing', 'contextmanager', 'deque', 'nullcontext', 'os', 'redirect_stderr', 'redirect_stdout', 'suppress', 'sys', 'wraps']\n"
     ]
    }
   ],
   "source": [
    "# Why we need Finally block in exception\n",
    "\n",
    "import contextlib\n",
    "print(dir(contextlib))"
   ]
  },
  {
   "cell_type": "code",
   "execution_count": 5,
   "id": "b0e06617",
   "metadata": {},
   "outputs": [
    {
     "name": "stdout",
     "output_type": "stream",
     "text": [
      "jay@email.com\n"
     ]
    }
   ],
   "source": [
    "resp = {\"name\":\"jay\", \"email\":\"jay@email.com\"}\n",
    "try:\n",
    "    print(resp[\"email\"])\n",
    "except KeyError as err:\n",
    "    print(err)\n",
    "    "
   ]
  },
  {
   "cell_type": "code",
   "execution_count": 6,
   "id": "03b15bbe",
   "metadata": {},
   "outputs": [
    {
     "name": "stdout",
     "output_type": "stream",
     "text": [
      "jay@email.com\n"
     ]
    }
   ],
   "source": [
    "with contextlib.suppress(KeyError):\n",
    "    print(resp[\"email\"])"
   ]
  },
  {
   "cell_type": "code",
   "execution_count": 29,
   "id": "09c02eba",
   "metadata": {},
   "outputs": [
    {
     "name": "stdout",
     "output_type": "stream",
     "text": [
      "<_io.TextIOWrapper name='employees_data.csv' mode='w' encoding='cp1252'>\n"
     ]
    }
   ],
   "source": [
    "#Task--> find the top 3 employees who got above average salary.\n",
    "from faker import Faker\n",
    "import random\n",
    "fake = Faker()\n",
    "file = open(\"employees_data.csv\", 'w')\n",
    "file.write(\"Name,Department,Salary,Mobile\\n\")\n",
    "for i in range(100):\n",
    "    row = f'{fake.name()},{fake.word()},{random.randint(200000, 500000)},{fake.phone_number()}\\n'\n",
    "    file.write(row)\n",
    "file.close()\n",
    "print(file)\n"
   ]
  },
  {
   "cell_type": "code",
   "execution_count": 63,
   "id": "8d77bb44",
   "metadata": {},
   "outputs": [
    {
     "name": "stdout",
     "output_type": "stream",
     "text": [
      "The Top 3 Persons who got salary above average salary of all\n",
      "\n",
      "Name,Department,Salary,Mobile\n",
      "\n",
      "Daniel Hernandez,activity,352683,001-687-289-4850\n",
      "\n",
      "Kathryn Scott,cultural,348353,648-656-2479x170\n",
      "\n",
      "Andrew Mcdonald,how,345726,(670)749-1029x8410\n",
      "\n"
     ]
    }
   ],
   "source": [
    "f = open(\"employees_data.csv\", \"r\")\n",
    "f = f.readlines()\n",
    "#print(f)\n",
    "sal = []\n",
    "for i in f[1:]:\n",
    "    num = 0\n",
    "    for j in i:\n",
    "        if j.isdigit():\n",
    "            num = i.index(j)\n",
    "            break\n",
    "    sal.append(int(i[num:num+6]))  \n",
    "#print(sal)\n",
    "\n",
    "sal_length = len(sal)\n",
    "summ = 0\n",
    "for s in sal:\n",
    "    summ += s\n",
    "avg_sal = summ/sal_length\n",
    "#print(avg_sal)\n",
    "avg_sal_gr = []\n",
    "for s in sal:\n",
    "    if avg_sal > s:\n",
    "        avg_sal_gr.append(s)\n",
    "avg_sal_gr.sort()        \n",
    "#rint(avg_sal_gr)        \n",
    "\n",
    "c = -1\n",
    "print(\"The Top 3 Persons who got salary above average salary of all\\n\")\n",
    "print(f[0])\n",
    "for person in f:\n",
    "    if str(avg_sal_gr[c]) in person:\n",
    "        print(person)\n",
    "        c -= 1\n",
    "    \n",
    "            "
   ]
  },
  {
   "cell_type": "code",
   "execution_count": null,
   "id": "eca29271",
   "metadata": {},
   "outputs": [],
   "source": []
  },
  {
   "cell_type": "code",
   "execution_count": null,
   "id": "1440a12c",
   "metadata": {},
   "outputs": [],
   "source": []
  },
  {
   "cell_type": "code",
   "execution_count": null,
   "id": "411321e7",
   "metadata": {},
   "outputs": [],
   "source": []
  }
 ],
 "metadata": {
  "kernelspec": {
   "display_name": "Python 3 (ipykernel)",
   "language": "python",
   "name": "python3"
  },
  "language_info": {
   "codemirror_mode": {
    "name": "ipython",
    "version": 3
   },
   "file_extension": ".py",
   "mimetype": "text/x-python",
   "name": "python",
   "nbconvert_exporter": "python",
   "pygments_lexer": "ipython3",
   "version": "3.11.5"
  }
 },
 "nbformat": 4,
 "nbformat_minor": 5
}
