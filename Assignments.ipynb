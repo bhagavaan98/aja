{
 "cells": [
  {
   "cell_type": "code",
   "execution_count": 5,
   "id": "3f19dc5b",
   "metadata": {},
   "outputs": [
    {
     "name": "stdout",
     "output_type": "stream",
     "text": [
      "56\n",
      "6\n",
      "10\n"
     ]
    }
   ],
   "source": [
    "\"\"\" 1  Take the input from the user for(Total number of people, Number of seats for bus. Based on two inputs \n",
    "\n",
    "Decide how many number of buses required \"\"\"\n",
    "\n",
    "no_of_people = int(input())\n",
    "no_of_busses = int(input())\n",
    "filled_busses = no_of_people // no_of_busses \n",
    "if filled_busses == 0:\n",
    "    print(filled_busses)\n",
    "else:\n",
    "    print(filled_busses + 1)"
   ]
  },
  {
   "cell_type": "code",
   "execution_count": 12,
   "id": "46a0f296",
   "metadata": {},
   "outputs": [
    {
     "name": "stdout",
     "output_type": "stream",
     "text": [
      "Enter Temperature in foreign heat 98.9\n",
      "37.166666666666664\n"
     ]
    }
   ],
   "source": [
    "#2.take temperature from the user and convert foreign heat -> Celsius.\n",
    "F = float(input(\"Enter Temperature in foreign heat \"))\n",
    "C = (F - 32) * 5/9\n",
    "print(C,\"C\")\n"
   ]
  },
  {
   "cell_type": "code",
   "execution_count": 14,
   "id": "ac5cf4ab",
   "metadata": {},
   "outputs": [
    {
     "name": "stdout",
     "output_type": "stream",
     "text": [
      "Enter Celsius 656.8\n",
      "1214.24 F\n"
     ]
    }
   ],
   "source": [
    "#3.take temperature from the user and convert Celsius → foreign heat. \n",
    "C = float(input(\"Enter Celsius \"))\n",
    "F = (1.8 * C) + 32\n",
    "print(F,\"F\")"
   ]
  },
  {
   "cell_type": "code",
   "execution_count": 17,
   "id": "58200e9a",
   "metadata": {},
   "outputs": [
    {
     "name": "stdout",
     "output_type": "stream",
     "text": [
      "2\n",
      "3\n",
      "4\n",
      "5\n",
      "25\n",
      "729\n",
      "Variance  1.6666666666666667\n",
      "Standard_Deviation  1.2909944487358056\n",
      "17.265\n",
      "3.5\n",
      "14\n"
     ]
    }
   ],
   "source": [
    "'''4.take four number from the user (variables name it as x1,x2,x3,x4) \n",
    "  Do the below operations -- (x1+x2)**2, (x3+x4)**3 ,  variance standard deviation: sqrt(variance):  \n",
    "  User math module. Math.sqrt(variance) \n",
    "  Regression y=mx+b ,  m=1.23,  b=0.045  ,find out y ,  y=m*(x1+x2+x3+x4)+b \n",
    "  Find the average of four numbers ,Find the sum of four numbers '''\n",
    "from statistics import variance,mean\n",
    "import math\n",
    "x1  = int(input())\n",
    "x2  = int(input())\n",
    "x3  = int(input())\n",
    "x4  = int(input())\n",
    "m=1.23 \n",
    "b=0.045 \n",
    "y = m * (x1 +x2  +x3  +x4 ) + b\n",
    "var = variance([x1,x2,x3,x4])\n",
    "print((x1+x2)**2)\n",
    "print((x3+x4)**3)\n",
    "print(\"Variance -- \",var)\n",
    "print(\"Standard_Deviation --\" , math.sqrt(var))\n",
    "print(y)\n",
    "print(mean([x1,x2,x3,x4]))\n",
    "print(sum([x1,x2,x3,x4]))"
   ]
  },
  {
   "cell_type": "code",
   "execution_count": null,
   "id": "6699d50a",
   "metadata": {},
   "outputs": [],
   "source": [
    "'''5.Take the distance in km  Show that in cm, meters, in milli meters, cents, feets, yards'''\n",
    "\n",
    "distance_km = float(input())\n",
    "print(f\"The {distance_km}KM to CM is {distance_km*100000}CM\")\n",
    "print(f\"The {distance_km}KM to M is {distance_km*1000}M\")\n",
    "print(f\"The {distance_km}KM to MM is {distance_km*1000000}MM\")\n",
    "print(f\"The {distance_km}KM to Cents is {distance_km*39370.1}\")\n",
    "print(f\"The {distance_km}KM to Feets is {distance_km*3280.84}\")\n",
    "print(f\"The {distance_km}KM to Yards is {distance_km*1093.61}\")"
   ]
  },
  {
   "cell_type": "code",
   "execution_count": null,
   "id": "394af4b4",
   "metadata": {},
   "outputs": [],
   "source": [
    "#6.Take the size of your hard disk in GB  Show that in MB, KB, TB, PB \n",
    "\n",
    "disk_size = float(input(\"Enter size in GB:- \"))\n",
    "print(f'The size in {disk_size}GB to MB is {disk_size*1000}MB')\n",
    "print(f'The size in {disk_size}GB to KB is {disk_size*1000000}MB')\n",
    "print(f'The size in {disk_size}GB to TB is {disk_size*0.001}TB')\n",
    "print(f'The size in {disk_size}GB to PB is {disk_size/1000000}PB')"
   ]
  },
  {
   "cell_type": "code",
   "execution_count": null,
   "id": "fb773b6a",
   "metadata": {},
   "outputs": [],
   "source": [
    "'''7.  Take name, age, height from the user and print like below \n",
    "\n",
    "The details of the person: Name:name of the person, Age:age of the person, Height:height of the person \n",
    "\n",
    "Note: make sure that no space between : and a value and should be space after “COMA” '''\n",
    "\n",
    "name = input()\n",
    "age= input()\n",
    "height=input()\n",
    "print(f'The details of the person: Name:{name}, age:{age}, height:{height}')"
   ]
  },
  {
   "cell_type": "code",
   "execution_count": null,
   "id": "158a612d",
   "metadata": {},
   "outputs": [],
   "source": [
    "#8. BMI calculation: take required parameters for BMI calculation from the user and calculate BMI of the person.\n",
    "weight = float(input(\"Enter your weight\"))\n",
    "height=float(input(\"Enter your height\"))\n",
    "bmi = weight / (height*height)\n",
    "print(round(bmi,2))"
   ]
  },
  {
   "cell_type": "code",
   "execution_count": 21,
   "id": "ccbd818c",
   "metadata": {},
   "outputs": [
    {
     "name": "stdout",
     "output_type": "stream",
     "text": [
      "Name:Jayaram, Age:1.6 , Height:3.54, Weight:10.344\n"
     ]
    }
   ],
   "source": [
    "'''9. name=\"Jayaram\", age=1.6, height=3.5356234 ,weight=10.343856783 \n",
    "      By using above inputs print the output Name:Jayaram, Age:1.6, Height:3.54, Weight:10.344 \n",
    "      Note: Use format specifiers(%s, %d, %f) '''\n",
    "name = \"Jayaram\"\n",
    "age =  1.6\n",
    "height = 3.5356234\n",
    "weight = 10.343856783\n",
    "print(f'Name:%s, Age:%.1f , Height:%.2f, Weight:%.3f'%(name,age,height,weight))"
   ]
  },
  {
   "cell_type": "code",
   "execution_count": 1,
   "id": "7b2e30be",
   "metadata": {},
   "outputs": [
    {
     "name": "stdout",
     "output_type": "stream",
     "text": [
      "HJKKJLK\n",
      "hjkkjlk\n"
     ]
    }
   ],
   "source": [
    "#10. Take three upper case letters from the user convert in to small case. \n",
    "a = input()\n",
    "print(a.lower())\n"
   ]
  },
  {
   "cell_type": "code",
   "execution_count": 3,
   "id": "30decdc7",
   "metadata": {},
   "outputs": [
    {
     "name": "stdout",
     "output_type": "stream",
     "text": [
      "Enter base value:- 2\n",
      "Enter exponent value:- 3\n",
      "2³\n"
     ]
    }
   ],
   "source": [
    "'''11. take base and exponent value from the user and print like in mathematics: \n",
    "\n",
    "  example: base=2, exponent=3: 23 \n",
    "\n",
    "Use: 2\\u00b3 '''\n",
    "\n",
    "base = input(\"Enter base value:- \")\n",
    "exponent = input(\"Enter exponent value:- \")\n",
    "print(f'2\\u00b3')"
   ]
  },
  {
   "cell_type": "code",
   "execution_count": null,
   "id": "88ff051d",
   "metadata": {},
   "outputs": [],
   "source": [
    "#12. Take some groceries cost prices and print total cost and average cost, what is the max cost, what is the minimum cost.\n",
    "\n",
    "soap = int(input())\n",
    "brush = int(input())\n",
    "oil = int(input())\n",
    "flour= int(input())\n",
    "total = soap+brush+oil+flour\n",
    "print(total)\n",
    "print(total/4)\n",
    "print(max(soap,brush,oil, flour))\n",
    "print(min(soap,brush,oil,flour))\n"
   ]
  },
  {
   "cell_type": "code",
   "execution_count": 5,
   "id": "967f4e21",
   "metadata": {},
   "outputs": [
    {
     "name": "stdout",
     "output_type": "stream",
     "text": [
      "Enter a value3\n",
      "Not Ten\n",
      "Ten\n"
     ]
    }
   ],
   "source": [
    "'''13. Assign “ten” value to variable it is 10 otherwise assign “Not ten” \n",
    "\n",
    "       Note: write two versions of program \n",
    "\n",
    "Version1: use and operator \n",
    "\n",
    "Version2: use or operator  '''\n",
    "\n",
    "i = int(input(\"Enter a value: \"))\n",
    "if 10 and i == 10:\n",
    "    print(\"Ten\")\n",
    "else:\n",
    "    print(\"Not Ten\")\n",
    "if 10 or i == 10:\n",
    "    print(\"Ten\")\n",
    "else:\n",
    "    print(\"Not Ten\")"
   ]
  },
  {
   "cell_type": "code",
   "execution_count": null,
   "id": "5e89a81a",
   "metadata": {},
   "outputs": [],
   "source": [
    "'''13. Take the input from the user for(Total number of people, total number of buses, Number of seats for bus, adjust factor).\n",
    " Based on four inputs Decide whether there is sufficient buses or not and give solution for how many extra buses required. '''"
   ]
  },
  {
   "cell_type": "code",
   "execution_count": null,
   "id": "26371ab5",
   "metadata": {},
   "outputs": [],
   "source": [
    "#14.Take number from the user decide whether it is even or odd. \n",
    "\n",
    "number = int(input())\n",
    "check_even_or_odd = \"even\" if number%2==0 else \"odd\"\n",
    "print(check_even_or_odd)"
   ]
  },
  {
   "cell_type": "code",
   "execution_count": null,
   "id": "2fd6f50e",
   "metadata": {},
   "outputs": [],
   "source": [
    "#15.take number from the user decide whether it is positive number or negative number\n",
    "\n",
    "number = int(input())\n",
    "positive_or_negative = lambda a : \"positive\" if a>0 else \"negative\"\n",
    "print(positive_or_negative(number))\n"
   ]
  },
  {
   "cell_type": "code",
   "execution_count": null,
   "id": "05fa35d0",
   "metadata": {},
   "outputs": [],
   "source": [
    "'''16.take a string from the user print the length. if the user not given anything then show an error message '''\n",
    "\n",
    "s = input()\n",
    "s_length = lambda s : len(s) if len(s)>0 else \"error\"\n",
    "print(s_length(s))"
   ]
  },
  {
   "cell_type": "code",
   "execution_count": null,
   "id": "77f4f969",
   "metadata": {},
   "outputs": [],
   "source": [
    "'''17.code to perform mathematical operations. take two numbers from the user and show the below menu \n",
    "\n",
    "1. add, 2. sub, 3. mul, 4.div,  5.quit \n",
    "\n",
    "Enter an option: \n",
    "\n",
    "based on the option need to perform an operations '''\n",
    "\n",
    "def math_operations(n1,n2,op):\n",
    "    if op ==\"add\":\n",
    "        return n1+n2\n",
    "    elif op==\"sub\":\n",
    "        return n1-n2\n",
    "    elif op==\"mul\":\n",
    "        return n1*n2\n",
    "    elif op ==\"div\":\n",
    "        return n1/n2\n",
    "    else:\n",
    "        return \"done\"\n",
    "n1=int(input(\"Enter number 1: \"))\n",
    "n2 = int(input(\"Enter number 2: \"))\n",
    "print(\"1.add\\n2.sub\\n3.mul\\n4.div\\5quit\")\n",
    "op = input(\"Enter an option: \")\n",
    "print(math_operations(n1,n2,op))"
   ]
  },
  {
   "cell_type": "code",
   "execution_count": null,
   "id": "6d53f4c4",
   "metadata": {},
   "outputs": [],
   "source": [
    "'''18. show the menu: \n",
    "\n",
    "   1. kids, 2. Men's ,3. Women's \n",
    "\n",
    "   Show the corresponding message based on the selection. \n",
    "\n",
    "   Option:1: you are a kid ,2: you are a gentlemen , 3: you are a good women \n",
    "   Mention error message if the option value >3. '''\n",
    "\n",
    "def math_operations(op):\n",
    "    if op == 1:\n",
    "        return \"You are a kid\"\n",
    "    elif op==2:\n",
    "        return \"You are a gentlemen\"\n",
    "    elif op==3:\n",
    "        return \"You are a good women\"\n",
    " \n",
    "    else:\n",
    "        return \"error\"\n",
    "\n",
    "op = int(input(\"1:kids \\n 2:Men's \\n 3:Women's \\n Enter an option: \"))\n",
    "print(math_operations(op))"
   ]
  },
  {
   "cell_type": "code",
   "execution_count": 1,
   "id": "0244495a",
   "metadata": {},
   "outputs": [
    {
     "name": "stdout",
     "output_type": "stream",
     "text": [
      "Enter original stringabe ajshue dkrj4 sjwej3 dkfj3\n",
      "Enter substringajshue\n",
      "True\n"
     ]
    }
   ],
   "source": [
    "'''19. write a program to chcek given substring is there in actual string or not? \n",
    "\n",
    "example: act=\"python is a pure object oriented programing language\" \n",
    "\n",
    "check whether “pure” is there in act or not. \n",
    "\n",
    "Note: Use in operator'''\n",
    "\n",
    "org = input(\"Enter original string: \")\n",
    "sub = input(\"Enter substring: \")\n",
    "print(sub in org)"
   ]
  },
  {
   "cell_type": "code",
   "execution_count": 3,
   "id": "0a5e7a85",
   "metadata": {},
   "outputs": [
    {
     "name": "stdout",
     "output_type": "stream",
     "text": [
      "3 46 57\n",
      "Big number out of three:  57\n"
     ]
    }
   ],
   "source": [
    "#20. Take three numbers from the user and decide which is big \n",
    "n1,n2,n3 = list(map(int,input().split(\" \")))\n",
    "print(\"Big number out of three: \", max(n1,n2,n3))"
   ]
  },
  {
   "cell_type": "code",
   "execution_count": 4,
   "id": "48bebe66",
   "metadata": {},
   "outputs": [
    {
     "name": "stdout",
     "output_type": "stream",
     "text": [
      "Enter your age: 35\n",
      "Enter your gender: men\n",
      "Eligible\n"
     ]
    }
   ],
   "source": [
    "'''21. Take age and gender from the user and decide whether he is eligible for \tmarriage in India or not. \n",
    "\n",
    "Age criteria: men age>24, women>21 '''\n",
    "\n",
    "def eligibility_check(age,gender):\n",
    "    if age >21 and gender ==\"women\":\n",
    "        return \"Eligible for marriage in India\"\n",
    "    elif age >24 and gender ==\"men\":\n",
    "        return \"Eligible for marriage in India\"\n",
    "    else:\n",
    "        return \"Not Eligible \"\n",
    "age = int(input(\"Enter your age: \"))\n",
    "gender = input(\"Enter your gender: \")\n",
    "print(eligibility_check(age, gender))"
   ]
  },
  {
   "cell_type": "code",
   "execution_count": 6,
   "id": "4b7f04ec",
   "metadata": {},
   "outputs": [
    {
     "name": "stdout",
     "output_type": "stream",
     "text": [
      "Enter your Age: 56\n",
      "Gender: \n",
      " 1.men \n",
      " 2. women \n",
      " Enter your gender: men\n",
      "You are eligible for marriage\n",
      "You are Eligible for Driving licence\n",
      "You are  Eligible for Voting System\n",
      "You are Eligible for Theatre \n"
     ]
    }
   ],
   "source": [
    "'''22. Take an age  and gender from the user: and mention that what he/she can \tdo in india. \n",
    "\n",
    "\"\"\" \n",
    "\n",
    "conditions \n",
    "\n",
    "      1. Theatre: 5 for men 7 for women \n",
    "      2. Voting system: 18 for men and women \n",
    "      3. Marriage in india: 23 for men and for women >21 \n",
    "      4. For govt jobs: (min:18, max:32)  for men and (min:18, max:34) for \twomen \n",
    "      5. For driving licence: (min:18, max:60) for men and women \n",
    " Eligibility: \n",
    "    \n",
    "    1. theatre, 2.  Voting system , 3.  Marriage in india ,4.  For govt obs , 5. For driving licence: \n",
    "\n",
    " Enter an option: \n",
    "\n",
    "Gender: \n",
    "\n",
    "    1. men   2. women \n",
    "\n",
    "Enter an option: \n",
    "\n",
    "Enter an age of person: '''\n",
    "\n",
    "def eligibility_in_india(gender,age):\n",
    "    if (age>=21) and gender ==\"women\":\n",
    "        print(\"You are eligible for marriage\")\n",
    "    if (age>=24) and gender ==\"men\":\n",
    "        print(\"You are eligible for marriage\")\n",
    "    if (age>=18 and age<=60) and (gender ==\"men\" or \"women\"):\n",
    "        print(\"You are Eligible for Driving licence\")\n",
    "    if (age>=18) and (gender ==\"men\" or \"women\"):\n",
    "        print(\"You are  Eligible for Voting System\")\n",
    "    if (age>=18 and age<=34) and gender ==\"women\":\n",
    "        print(\"You are eligible for Govt jobs \\n  \")\n",
    "    if (age>=18 and age<=32) and gender ==\"men\":\n",
    "        print(\"You are  Eligible for Govt jobs \\n \") \n",
    "    if (age >5 and gender== \"men\") or (age>7 and gender==\"women\"):\n",
    "        print(\"You are Eligible for Theatre \")\n",
    "age =int(input(\"Enter your Age: \"))\n",
    "gender=input(\"Gender: \\n 1.men \\n 2. women \\n Enter your gender: \")\n",
    "eligibility_in_india(gender,age)"
   ]
  },
  {
   "cell_type": "code",
   "execution_count": 7,
   "id": "f07020e1",
   "metadata": {},
   "outputs": [
    {
     "name": "stdout",
     "output_type": "stream",
     "text": [
      "Operating Systems \n",
      " 1:windows\n",
      " 2:android\n",
      " 3:mac\n",
      " Enter an option: 1\n",
      "Goto first floor and buy windows laptop or mobile\n"
     ]
    }
   ],
   "source": [
    "'''23. operating systems: \n",
    "\n",
    "   1.windows , 2.android , 3.mac \n",
    "\n",
    "   Enter an option: \n",
    "\n",
    "   If the user enters 1 then show \"Goto first floor and buy windows laptop or mobile\" \n",
    "\n",
    "   If the user enters 2 then show \"Goto second floor and buy adroid mobiles\" \n",
    "\n",
    "   If the user enters 3 then show \"Goto third floor and buy mac laptop or iphones\" \n",
    "\n",
    "   If the user enters other than 1 or 2 or 3 then show \"There is only three floors, please select 1 or 2 or 3\" '''\n",
    "\n",
    "def system_operating(op):\n",
    "    if op == 1:\n",
    "        return \"Goto first floor and buy windows laptop or mobile\"\n",
    "    elif op==2:\n",
    "        return \"Goto second floor and buy adroid mobiles\" \n",
    "    elif op==3:\n",
    "        return \"Goto third floor and buy mac laptop or iphones\" \n",
    " \n",
    "    else:\n",
    "        return \"There is only three floors, please select 1 or 2 or 3\"\n",
    "\n",
    "op = int(input(\"Operating Systems \\n 1:windows\\n 2:android\\n 3:mac\\n Enter an option: \"))\n",
    "print(system_operating(op))"
   ]
  },
  {
   "cell_type": "code",
   "execution_count": 8,
   "id": "b5d80b50",
   "metadata": {},
   "outputs": [
    {
     "name": "stdout",
     "output_type": "stream",
     "text": [
      "Enter your age: 34\n",
      "This person is an adult\n"
     ]
    }
   ],
   "source": [
    "#24.Given an age, figure out whether someone's a baby, toddler, child, teenager, adult or old codger. \n",
    "\n",
    "def check_category(age):\n",
    "    if age <= 2:\n",
    "        print(\"This person is a baby\")\n",
    "    elif 3 <= age <= 4:\n",
    "        print(\"This person is a toddler\")\n",
    "    elif 5 <= age <= 12:\n",
    "        print(\"This person is a child\")\n",
    "    elif 13 <= age <= 19:\n",
    "        print(\"This person is a teenager\")\n",
    "    elif 20 <= age <= 64:\n",
    "        print(\"This person is an adult\")\n",
    "    else:\n",
    "        print(\"This person is an old codger\")\n",
    "age = int(input(\"Enter your age: \"))\n",
    "check_category(age)"
   ]
  },
  {
   "cell_type": "code",
   "execution_count": null,
   "id": "c25a9bb2",
   "metadata": {},
   "outputs": [],
   "source": [
    "#25.Take two number a,b from the user and check whether a is divisible by b or not \n",
    "\n",
    "a,b = input().split()\n",
    "print(int(a)%int(b)==0)"
   ]
  },
  {
   "cell_type": "code",
   "execution_count": 10,
   "id": "de741d12",
   "metadata": {},
   "outputs": [
    {
     "name": "stdout",
     "output_type": "stream",
     "text": [
      "Enter any number12\n",
      "Given number is not a prime number\n"
     ]
    }
   ],
   "source": [
    "#26take a number from the user and check whether it is prime? \n",
    "def check_isPrime(number):\n",
    "    count = 0 \n",
    "    for i in range(2,number):\n",
    "        if number % i == 0:\n",
    "            count += 1 \n",
    "    if count==0:\n",
    "        print(\"Given number is prime Number\")\n",
    "    else:\n",
    "        print(\"Given number is not a prime number\")\n",
    "number = int(input(\"Enter any number\"))\n",
    "check_isPrime(number)"
   ]
  },
  {
   "cell_type": "code",
   "execution_count": 11,
   "id": "bb73d0b8",
   "metadata": {},
   "outputs": [
    {
     "name": "stdout",
     "output_type": "stream",
     "text": [
      "2753187hdfijh\n",
      "False\n"
     ]
    }
   ],
   "source": [
    "#26. take a string from the user and check contains only digits or not? \n",
    "s = input()\n",
    "print(s.isdigit())"
   ]
  },
  {
   "cell_type": "code",
   "execution_count": 12,
   "id": "2dd7b45e",
   "metadata": {},
   "outputs": [
    {
     "name": "stdout",
     "output_type": "stream",
     "text": [
      "Enter stringjdwheuwyutgsagtew72366253\n",
      "False\n"
     ]
    }
   ],
   "source": [
    "#27. take a string from the user and check contains only  alphabets or not? \n",
    "print(input(\"Enter string: \").isalpha())"
   ]
  },
  {
   "cell_type": "code",
   "execution_count": 16,
   "id": "f1fa50b0",
   "metadata": {},
   "outputs": [
    {
     "name": "stdout",
     "output_type": "stream",
     "text": [
      "283627ewubwe2736*&^%$\n",
      "False\n"
     ]
    }
   ],
   "source": [
    "#28. take a string from the user and check contains only  special chars or not? \n",
    "s = input()\n",
    "print(s.isalnum())"
   ]
  },
  {
   "cell_type": "code",
   "execution_count": 17,
   "id": "8a191695",
   "metadata": {},
   "outputs": [
    {
     "name": "stdout",
     "output_type": "stream",
     "text": [
      "eywtdgwyetHGHF\n",
      "False\n"
     ]
    }
   ],
   "source": [
    "#29.take a string from the user and check contains only  capital letters or not? \n",
    "print(input(\"Enter string: \").isupper())"
   ]
  },
  {
   "cell_type": "code",
   "execution_count": null,
   "id": "21a9d170",
   "metadata": {},
   "outputs": [],
   "source": [
    "#30.take a string from the user and check contains only  small letters or not? \n",
    "print(input(\"Enter string: \").islower())"
   ]
  },
  {
   "cell_type": "code",
   "execution_count": null,
   "id": "560fd29a",
   "metadata": {},
   "outputs": [],
   "source": [
    "'''31. WAP to replace last n occurrence of give string. \n",
    "\n",
    "For example:”apple,orange,apple,grape,orange,apple,apple,orange” \n",
    "\n",
    "source: “apple” \n",
    "\n",
    "last occurrences: 2 \n",
    "\n",
    "replace with: APPLE \n",
    "\n",
    "output:”apple,orange,apple,grape,orange,APPLE,APPLE,orange” '''\n",
    "\n",
    "s = \"apple,orange,apple,grape,orange,apple,apple,orange\"\n",
    "list_s = s.split(\",\")\n",
    "new = list_s[::-1]\n",
    "c = 0\n",
    "for i in range (len(list_s[::-1])):\n",
    "    if new[i] == 'apple':\n",
    "        new[i] = \"APPLE\"\n",
    "        c += 1\n",
    "        if c == 2:\n",
    "            break       \n",
    "        \n",
    "print(\",\".join(new[::-1]))  "
   ]
  },
  {
   "cell_type": "code",
   "execution_count": 4,
   "id": "eb3bf14e",
   "metadata": {},
   "outputs": [
    {
     "name": "stdout",
     "output_type": "stream",
     "text": [
      "Enter string3uey37463wud\n",
      "String does not contains numbers\n"
     ]
    }
   ],
   "source": [
    "'''32. WAP to check given string contains numbers or not. it should consider float numbers also.'''\n",
    "def contains_number_or_not(string):\n",
    "    count = 0\n",
    "    for i in string:\n",
    "        if i.isdigit() or i==\".\":\n",
    "            count += 1 \n",
    "    if count == len(string):\n",
    "        print(\"String contains numbers\")\n",
    "    else:\n",
    "        print(\"String does not contains numbers\")\n",
    "string = input(\"Enter string: \")\n",
    "contains_number_or_not(string)"
   ]
  },
  {
   "cell_type": "code",
   "execution_count": null,
   "id": "13e15a1a",
   "metadata": {},
   "outputs": [],
   "source": [
    "#33. Convert the total string in to lower case. Without using lower() function. \n",
    "print(input(\"Enter string: \").swapcase())"
   ]
  },
  {
   "cell_type": "code",
   "execution_count": null,
   "id": "fd4082fa",
   "metadata": {},
   "outputs": [],
   "source": [
    "#34. Convert the total string in to upper case. Without using upper() function. \n",
    "print(input(\"Enter string: \").swapcase())"
   ]
  },
  {
   "cell_type": "code",
   "execution_count": 2,
   "id": "5a1ea8d9",
   "metadata": {},
   "outputs": [
    {
     "name": "stdout",
     "output_type": "stream",
     "text": [
      "\tMenu: \n",
      " 1.windows\n",
      " 2.Linux\n",
      " 3.Mac\n",
      " 4.quit\n",
      "Enter any operating System: windows\n",
      "\tMenu: \n",
      " 1.windows\n",
      " 2.Linux\n",
      " 3.Mac\n",
      " 4.quit\n",
      "Enter any operating System: Linux\n",
      "\tMenu: \n",
      " 1.windows\n",
      " 2.Linux\n",
      " 3.Mac\n",
      " 4.quit\n",
      "Enter any operating System: quit\n"
     ]
    }
   ],
   "source": [
    "'''35. Show the below menu to the user until and until user select quit and display corresponding os message \n",
    "\n",
    "   Menu: 1. windows ,2. Linux , 3. Mac ,4. quit ''' \n",
    "\n",
    "while True:\n",
    "    print(\"\\tMenu: \\n 1.windows\\n 2.Linux\\n 3.Mac\\n 4.quit\")\n",
    "    op = input(\"Enter any operating System: \")\n",
    "    if op in [\"windows\",\"Linux\",\"Mac\"]:\n",
    "        pass\n",
    "    else:\n",
    "        break"
   ]
  },
  {
   "cell_type": "code",
   "execution_count": 13,
   "id": "dc89f786",
   "metadata": {},
   "outputs": [
    {
     "name": "stdout",
     "output_type": "stream",
     "text": [
      "Enter string: LAJIQWU92389\n",
      "True\n"
     ]
    }
   ],
   "source": [
    "#36. take a string from the user and check contains at least one digit or not? \n",
    "import re\n",
    "string = input(\"Enter string: \")\n",
    "string_contains_digit = lambda string: True if re.search(r'[0-9]+',string) else False\n",
    "print(string_contains_digit(string))"
   ]
  },
  {
   "cell_type": "code",
   "execution_count": 14,
   "id": "7d8ffedf",
   "metadata": {},
   "outputs": [
    {
     "name": "stdout",
     "output_type": "stream",
     "text": [
      "Enter string: akjwi478\n",
      "True\n"
     ]
    }
   ],
   "source": [
    "#37. take a string from the user and check contains at least one alphabets or not? \n",
    "import re\n",
    "string = input(\"Enter string: \")\n",
    "string_contains_alpha = lambda string: True if re.search(r'[a-zA-Z]+',string) else False\n",
    "print(string_contains_alpha(string))"
   ]
  },
  {
   "cell_type": "code",
   "execution_count": 2,
   "id": "69bbc1f9",
   "metadata": {},
   "outputs": [
    {
     "name": "stdout",
     "output_type": "stream",
     "text": [
      "Enter input:- ogi\n",
      "String contains at least one chars\n"
     ]
    }
   ],
   "source": [
    "#38. take a string from the user and check contains at least one chars or not? \n",
    "\n",
    "string = input(\"Enter input:- \")\n",
    "\n",
    "if len(string)>=1:\n",
    "    print(\"String contains at least one chars\")\n",
    "else: \n",
    "    print(\"String does not contains at least one chars\")"
   ]
  },
  {
   "cell_type": "code",
   "execution_count": 15,
   "id": "b1c2e8ab",
   "metadata": {},
   "outputs": [
    {
     "name": "stdout",
     "output_type": "stream",
     "text": [
      "Enter string: ajwieuwGJH\n",
      "True\n"
     ]
    }
   ],
   "source": [
    "#39. take a string from the user and check contains at least one capital letter or not?\n",
    "import re\n",
    "string = input(\"Enter string: \")\n",
    "string_contains_alpha = lambda string: True if re.search(r'[A-Z]+',string) else False\n",
    "print(string_contains_alpha(string))"
   ]
  },
  {
   "cell_type": "code",
   "execution_count": 16,
   "id": "41a4d619",
   "metadata": {},
   "outputs": [
    {
     "name": "stdout",
     "output_type": "stream",
     "text": [
      "Enter string: ajkshuqweywqwyHI(*(\n",
      "True\n"
     ]
    }
   ],
   "source": [
    "#40. take a string from the user and check contains at least one small letter or not? \n",
    "import re\n",
    "string = input(\"Enter string: \")\n",
    "string_contains_alpha = lambda string: True if re.search(r'[a-z]+',string) else False\n",
    "print(string_contains_alpha(string))"
   ]
  },
  {
   "cell_type": "code",
   "execution_count": null,
   "id": "abde605f",
   "metadata": {},
   "outputs": [],
   "source": [
    "#41. Print the first 100 odd numbers \n",
    "\n",
    "count = 0\n",
    "number = 1 \n",
    "while True:\n",
    "    if count == 100:\n",
    "        break \n",
    "    if number %2 == 1:\n",
    "        print(number,end=\",\")\n",
    "        count += 1 \n",
    "    number += 1"
   ]
  },
  {
   "cell_type": "code",
   "execution_count": 3,
   "id": "347844e7",
   "metadata": {},
   "outputs": [
    {
     "name": "stdout",
     "output_type": "stream",
     "text": [
      "6\n",
      "[1, 2, 3, 6]\n"
     ]
    }
   ],
   "source": [
    "#42. Determine the factors of a number entered  by the user \n",
    "\n",
    "number = int(input())\n",
    "factors_of_n = [i for i in range(1, number+1) if number%i ==0]\n",
    "print(factors_of_n)"
   ]
  },
  {
   "cell_type": "code",
   "execution_count": 2,
   "id": "a40cc9bd",
   "metadata": {},
   "outputs": [
    {
     "name": "stdout",
     "output_type": "stream",
     "text": [
      "You want to continue: Enter any number 1 to 100\n",
      "34\n",
      "Larger number\n",
      "If you want to continue :\n",
      " 1.Y\n",
      " 2.No:  Y\n",
      "You want to continue: Enter any number 1 to 100\n",
      "45\n",
      "Lesser number\n",
      "If you want to continue :\n",
      " 1.Y\n",
      " 2.No:  No\n"
     ]
    }
   ],
   "source": [
    "'''43. Play a number guessing game (User enters a guess, you print YES or Higher or Lower). This should continue until and \n",
    "until user gives a correct number or want to quit in the middle.Get a hidden number by using random.randint(1,100) ''' \n",
    "\n",
    "import random\n",
    "while True:\n",
    "    print(\"Enter any number 1 to 100\")\n",
    "    user_input = input()\n",
    "    random_number = random.randint(1,100)\n",
    "    if user_input == 'q':\n",
    "        break\n",
    "    elif int(user_input) == random_number:\n",
    "        print(\"YES, Your answer correct\")\n",
    "    elif int(user_input) < random_number:\n",
    "        print(\"Lesser number\")\n",
    "    elif int(user_input) > random_number:\n",
    "        print(\"Larger number\")\n",
    "    c = input(\"If you want to continue :\\n 1.Y\\n 2.No:  \")\n",
    "    if c == \"No\":\n",
    "        break\n",
    "    else:\n",
    "        continue\n",
    "    "
   ]
  },
  {
   "cell_type": "code",
   "execution_count": null,
   "id": "0cd9fc2f",
   "metadata": {},
   "outputs": [],
   "source": [
    "#44. Take two numbers from the user a,b check whether a is divisible by b or not? \n",
    "\n",
    "a,b = input().split(\",\")\n",
    "print(int(a)%int(b)==0)"
   ]
  },
  {
   "cell_type": "code",
   "execution_count": null,
   "id": "fbe460c6",
   "metadata": {},
   "outputs": [],
   "source": [
    "#45. Find the sum of all the multiples of 3 or 5 below 1000 \n",
    "\n",
    "def sum_multiple_3_or_5():\n",
    "    total= 0 \n",
    "    for i in range(1,1000):\n",
    "        if i%3==0 or i%5==0:\n",
    "            total += i \n",
    "    return total \n",
    "print(sum_multiple_3_or_5())"
   ]
  },
  {
   "cell_type": "code",
   "execution_count": null,
   "id": "51d56c58",
   "metadata": {},
   "outputs": [],
   "source": [
    "#46. Write a program to find out big of two numbers \n",
    "big = lambda a,b : a if a>b else b\n",
    "print(big(10,20))"
   ]
  },
  {
   "cell_type": "code",
   "execution_count": null,
   "id": "04544e96",
   "metadata": {},
   "outputs": [],
   "source": [
    "#47. Write a program to find out biggest number in the given numbers. \n",
    "numbers = list(map(int,input().split()))\n",
    "print(max(numbers))"
   ]
  },
  {
   "cell_type": "code",
   "execution_count": null,
   "id": "0d09625f",
   "metadata": {},
   "outputs": [],
   "source": [
    "#48. find out the index of  third occurrence of given substring \n",
    "string = input()\n",
    "sub_string = input()\n",
    "index = -1\n",
    "for i in range(3):\n",
    "    index = string.find(sub_string,index+1)\n",
    "print(index)"
   ]
  },
  {
   "cell_type": "code",
   "execution_count": 12,
   "id": "62ab27b1",
   "metadata": {},
   "outputs": [
    {
     "name": "stdout",
     "output_type": "stream",
     "text": [
      "Enter string: jdfh sjkdhs jd d d d j jh \n",
      "Enter substring: d\n",
      "20\n"
     ]
    }
   ],
   "source": [
    "#49. find out the index nth occurrence of given substring \n",
    "original_string = input(\"Enter string: \")\n",
    "substring = input(\"Enter substring: \")\n",
    "nth_index = original_string[::-1].find(substring)\n",
    "print(len(original_string)-nth_index)"
   ]
  },
  {
   "cell_type": "code",
   "execution_count": 4,
   "id": "482f709b",
   "metadata": {},
   "outputs": [
    {
     "name": "stdout",
     "output_type": "stream",
     "text": [
      "Enter any single digit numbers4 5 3 2 3 5 6 \n",
      "Minimum of all numbers  2\n",
      "Maximum of all numbers  6\n",
      "Sum of all numbers  28\n",
      "Average of all numbers  4.0\n"
     ]
    }
   ],
   "source": [
    "#50. Take some single digit numbers from the user and findout min, maximum, sum, average\n",
    "single_digit_numbers = list(map(int,input(\"Enter any single digit numbers: \").split()))\n",
    "print(\"Minimum of all numbers \",min(single_digit_numbers))\n",
    "print(\"Maximum of all numbers \",max(single_digit_numbers))\n",
    "print(\"Sum of all numbers \",sum(single_digit_numbers))\n",
    "print(\"Average of all numbers \",sum(single_digit_numbers)/len(single_digit_numbers))"
   ]
  },
  {
   "cell_type": "code",
   "execution_count": 14,
   "id": "4cef6dc2",
   "metadata": {},
   "outputs": [
    {
     "name": "stdout",
     "output_type": "stream",
     "text": [
      "Enter number65\n",
      "000065\n"
     ]
    }
   ],
   "source": [
    "'''51. print the number in proper mathematical way. \n",
    "\n",
    "Consider that we have 6 digit numbers. \n",
    "\n",
    "Number format  WAP> 10 -> 000010 , 100 ->  000100 , 1000 ->  001000 , 2345678  ->  2345678 \n",
    "\n",
    "If the number has more than 6 digits then print as it is. '''\n",
    "\n",
    "number = input(\"Enter number: \")\n",
    "if len(number) >6:\n",
    "    print(number)\n",
    "else:\n",
    "    print(\"%06d\" % int(number))"
   ]
  },
  {
   "cell_type": "code",
   "execution_count": 17,
   "id": "10555c3b",
   "metadata": {},
   "outputs": [
    {
     "name": "stdout",
     "output_type": "stream",
     "text": [
      "Enter names: dijs,ldjkwo,sldkow,odkowkj\n",
      "dijs\n",
      "ldjkwo\n",
      "sldkow\n",
      "odkowkj\n"
     ]
    }
   ],
   "source": [
    "#52. names  =\"emp1,emp2,emp3,emp4\" iterate through the employee names. \n",
    "names = input(\"Enter names: \").split(\",\")\n",
    "for name in names:\n",
    "    print(name)"
   ]
  },
  {
   "cell_type": "code",
   "execution_count": null,
   "id": "480b6234",
   "metadata": {},
   "outputs": [],
   "source": [
    "'''53. Take actual string, source string, destination string. \n",
    "replce first nth occurrences of source string with destination string of actual string. '''\n",
    "\n",
    "actual_string = input()\n",
    "\n",
    "source_string = input()\n",
    "dest_string = input()\n",
    "\n",
    "row = actual_string[::-1].replace(source_string[::-1], dest_string[::-1],1)\n",
    "print(row[::-1])"
   ]
  },
  {
   "cell_type": "code",
   "execution_count": null,
   "id": "4c1e84f5",
   "metadata": {},
   "outputs": [],
   "source": [
    "'''54. Take a two numbers from the user and do below menu driven operations \n",
    "\n",
    "1. addition, 2. multiples, 3.division , 4.sqrt, 5. pow  a**b , 6.subtraction   \n",
    "\n",
    "After selection do the corresponding operation. \n",
    "\n",
    "Note: user may give int, or float numbers. You should check whether it is proper digits or not. \n",
    "I.e the user given string should be in the position to convert to float. Other wise show the “inproper string given” Error.'''\n",
    "import math\n",
    "num1 = input(\"Enter number 1: \")\n",
    "num2 = input(\"Enter number 2: \")\n",
    "if (type(num1)== int or float) and (type(num2) == int or float) :\n",
    "    op = int(input(\"Enter option:\\n 1.addition\\n 2.subtraction\\n 3.multiplication\\n 4.division\\n 5.sqrt\\n 6.pow\"))\n",
    "    if op == 1:\n",
    "        a = int(num1) + int(num2)\n",
    "        print(\"Addition of two numbers: \",a)\n",
    "    elif op == 2:\n",
    "        s = num1 - num2\n",
    "        print(\"Subtraction of two numbers: \",s)\n",
    "    elif op==3:\n",
    "        m = num1 * num2\n",
    "        print(\"Multiplication of two numbers: \",m)\n",
    "    elif op == 4:\n",
    "        d = num1 / num2\n",
    "        print(\"Division of two numbers: \",d)\n",
    "    elif op==5:\n",
    "        sqt = math.sqrt(num1,num2)\n",
    "        print(\"Sqrt of two numbers: \",sqrt)\n",
    "    elif op==6:\n",
    "        p = num1 ** num2\n",
    "        print(\"power of two numbers: \", p)\n",
    "else:\n",
    "    print(\"Given improper string\")"
   ]
  },
  {
   "cell_type": "code",
   "execution_count": null,
   "id": "251e95a5",
   "metadata": {},
   "outputs": [],
   "source": [
    "#55. Take numbers from the user and find out min, maximum, sum, average \n",
    "\n",
    "numbers = list(map(int,input(\"Enter any numbers: \").split()))\n",
    "print(\"Minimum of all numbers \",min(numbers))\n",
    "print(\"Maximum of all numbers \",max(numbers))\n",
    "print(\"Sum of all numbers \",sum(numbers))\n",
    "print(\"Average of all numbers \",sum(numbers)/len(numbers))"
   ]
  },
  {
   "cell_type": "code",
   "execution_count": 6,
   "id": "6dc1d6c0",
   "metadata": {},
   "outputs": [
    {
     "name": "stdout",
     "output_type": "stream",
     "text": [
      "5 6 782 82 5 827 28 837 7 \n",
      "4\n",
      "5\n",
      "9\n",
      "0\n",
      "4\n",
      "0\n"
     ]
    }
   ],
   "source": [
    "'''56. l=[1,2,3,5,7,8,9,10,11,12,13,20,22,23,24,25,26,27,20,21,22,4] find out how many even numbers are there and how many odd\n",
    "numbers are there and how many positive numbers are there and how many negative numbers are there and how many prime numbers \n",
    "are there and how many perfect numbers are there and how many Armstrong numbers are there and how many palindrome numbers \n",
    "are there. '''\n",
    "\n",
    "\n",
    "l = list(map(int,input().split()))\n",
    "even_numbers = [i for i in l if i%2==0 ]\n",
    "odd_numbers = [i for i in l if i%2==1]\n",
    "positive_numbers = [i for i in l if i>0]\n",
    "negative_numbers = [i for i in l if i<0]\n",
    "def check_prime_numbers(l):\n",
    "    prime_count = 0\n",
    "    for i in l:\n",
    "        count = 0 \n",
    "        for j in range(2,i):\n",
    "            if i%j == 0 :\n",
    "                count += 1\n",
    "        if count == 0 :\n",
    "            prime_count += 1\n",
    "    return prime_count\n",
    "def count_perfect_numbers(l):\n",
    "    perfect_number_count = 0\n",
    "    for i in l:\n",
    "        sum_prime = 0\n",
    "        count = 0\n",
    "        for j in range(2,i):\n",
    "            if i%j ==0:\n",
    "                count += 1\n",
    "        if count == 0:\n",
    "            sum_prime += 1\n",
    "        if sum_prime == i:\n",
    "            perfect_number_count +=1\n",
    "    return perfect_number_count\n",
    "        \n",
    "print(len(even_numbers))\n",
    "print(len(odd_numbers))\n",
    "print(len(positive_numbers))\n",
    "print(len(negative_numbers))\n",
    "print(check_prime_numbers(l))\n",
    "print(count_perfect_numbers(l))"
   ]
  },
  {
   "cell_type": "code",
   "execution_count": null,
   "id": "976d25b4",
   "metadata": {},
   "outputs": [],
   "source": [
    "57. Take a string from the user and find out how many digits are there, how many special symbols are there, how many small\n",
    "letters are there, how many caps are there.\n",
    "\n",
    "\n",
    "def string_count(string):\n",
    "    digit_count = 0\n",
    "    special_symbol_count =0\n",
    "    small_letter_count =0\n",
    "    caps_letter_count = 0 \n",
    "    for i in string:\n",
    "        if i.isdigit():\n",
    "            digit_count +=1 \n",
    "        elif i.islower():\n",
    "            small_letter_count+=1 \n",
    "        elif i.isupper():\n",
    "            caps_letter_count +=1 \n",
    "        else:\n",
    "            special_symbol_count +=1 \n",
    "    print(digit_count,small_letter_count,caps_letter_count,special_symbol_count)\n",
    "string_count(input())"
   ]
  },
  {
   "cell_type": "code",
   "execution_count": 1,
   "id": "5804de6a",
   "metadata": {},
   "outputs": [
    {
     "name": "stdout",
     "output_type": "stream",
     "text": [
      "Enter stringsjdh ksdj iw wwu w\n",
      "Enter charw\n",
      "char count:  4\n"
     ]
    }
   ],
   "source": [
    "#58. Take a char from the user and find out how many number of occurrences are there in given string \n",
    "\n",
    "string = input(\"Enter string\")\n",
    "char  = input(\"Enter char\")\n",
    "print(\"char count: \",string.count(char))"
   ]
  },
  {
   "cell_type": "code",
   "execution_count": null,
   "id": "3f57deba",
   "metadata": {},
   "outputs": [],
   "source": [
    "#59. Take a element from the user and find out how many times the  element occurred in given list \n",
    "\n",
    "lst =input().split()\n",
    "ele = input()\n",
    "ele_cnt = [ele for i in lst if i==ele]\n",
    "print(len(ele_cnt))"
   ]
  },
  {
   "cell_type": "code",
   "execution_count": null,
   "id": "3a32b2eb",
   "metadata": {},
   "outputs": [],
   "source": [
    "#60. Take an element from the user and find out how many number of occurrences are there in given tuple \n",
    "tpl = ('t','g','r',4,'h','r',6,7,'h','t')\n",
    "ele = input()\n",
    "cnt =0\n",
    "for i in tpl:\n",
    "    if i==ele:\n",
    "        cnt += 1 \n",
    "print(cnt)"
   ]
  },
  {
   "cell_type": "code",
   "execution_count": 16,
   "id": "7969758f",
   "metadata": {},
   "outputs": [
    {
     "name": "stdout",
     "output_type": "stream",
     "text": [
      "$%^987%$^6fed54,#$321cba\n"
     ]
    }
   ],
   "source": [
    "'''61. Reverse the string.> without effecting the special symbols. It involves three variations. Write code for three variations. \n",
    "62.Input: abc123,#$45def6%$^789$%^, output: $%^987%$^6fed54,#$321cba '''\n",
    "    \n",
    "s = \"abc123,#$45def6%$^789$%^\"\n",
    "sp_ch = ''\n",
    "res = ''\n",
    "num = [i for i in s if i.isalnum()]\n",
    "for i in s[::-1]:\n",
    "    if not i.isalnum():\n",
    "        sp_ch = i + sp_ch\n",
    "    else:\n",
    "        if len(sp_ch) >0:\n",
    "            res += sp_ch\n",
    "            sp_ch = ''\n",
    "        res += num[-1]\n",
    "        num.pop(-1)\n",
    "print(res)"
   ]
  },
  {
   "cell_type": "code",
   "execution_count": 13,
   "id": "3f026b21",
   "metadata": {},
   "outputs": [
    {
     "name": "stdout",
     "output_type": "stream",
     "text": [
      "9876fe,#$d54321%$^cba$%^\n"
     ]
    }
   ],
   "source": [
    "#63.Input: abc123,#$45def6%$^789$%^, output: 9876fe,#$d54321%$^cba$%^ \n",
    "s = \"abc123,#$45def6%$^789$%^\"\n",
    "res = ''\n",
    "num = [i for i in s if i.isalnum()]\n",
    "for i in s:\n",
    "    if i.isalnum():\n",
    "        res  += num[-1]\n",
    "        num.pop(-1)\n",
    "    else:\n",
    "        res += i \n",
    "print(res)\n",
    "        "
   ]
  },
  {
   "cell_type": "code",
   "execution_count": 10,
   "id": "af9a7ff7",
   "metadata": {},
   "outputs": [
    {
     "name": "stdout",
     "output_type": "stream",
     "text": [
      "321,#$654%$^987$%^\n"
     ]
    }
   ],
   "source": [
    "# 64.Inout: \"123,#$456%$^789$%^\", Output: 321,#$654%$^987$%^ Only numbers has to reverse. \n",
    "s = \"123,#$456%$^789$%^\"\n",
    "num = ''\n",
    "result = ''\n",
    "for i in s:\n",
    "    if i.isdigit():\n",
    "        num += i\n",
    "    else:\n",
    "        if len(num)>0:\n",
    "            result = result + num[::-1]\n",
    "            num = ''\n",
    "        result += i \n",
    "print(result)"
   ]
  },
  {
   "cell_type": "code",
   "execution_count": null,
   "id": "53f4600d",
   "metadata": {},
   "outputs": [],
   "source": [
    "'''FUNCTIONS: \n",
    "\n",
    "65. define a function to take person details name and age are mandatory parameters and height weight are optional parameters. \n",
    "If the user willing to pass any other details(like adhar, cell, pan, passport etc..) \n",
    "regarding him then your function should access those details. '''\n",
    "\n",
    "def user_details(name,age,height=0,weight=0,*args):\n",
    "    print(name,age,height,weight,args)\n",
    "\n",
    "user_details(\"john\",20)"
   ]
  },
  {
   "cell_type": "code",
   "execution_count": null,
   "id": "6c247c64",
   "metadata": {},
   "outputs": [],
   "source": [
    "#65a. rewrite above assignments by functions. Can use string functions to solve the string related assignments \n",
    "\n"
   ]
  },
  {
   "cell_type": "code",
   "execution_count": null,
   "id": "a2240f98",
   "metadata": {},
   "outputs": [],
   "source": [
    "#65 b. write a function to check given value is even or not \n",
    "\n",
    "def check_num(n):\n",
    "    \n",
    "    if n%2 == 0:\n",
    "        return \"Even\"\n",
    "    \n",
    "    else:\n",
    "        return \"Odd\"\n",
    "\n",
    "n = int(input(\"Enter a number:- \"))\n",
    "num = check_num(n)\n",
    "print(num)"
   ]
  },
  {
   "cell_type": "code",
   "execution_count": null,
   "id": "1c6213fd",
   "metadata": {},
   "outputs": [],
   "source": [
    "#65 c. write a function to check given value is prime or not \n",
    "\n",
    "def check_prime(n):\n",
    "    c = 0\n",
    "    for i in range(1,n+1):\n",
    "        if n%i == 0:\n",
    "            c += 1\n",
    "    if c == 2:\n",
    "        return \"It's Prime\"\n",
    "    else:\n",
    "        return \"Not Prime\"\n",
    "\n",
    "n = int(input(\"Enter a number:- \"))\n",
    "num = check_prime(n)\n",
    "print(num)"
   ]
  },
  {
   "cell_type": "code",
   "execution_count": null,
   "id": "f8481bb6",
   "metadata": {},
   "outputs": [],
   "source": [
    "#65 d. write a function to check given 2 values are  divisible or not \n",
    "\n"
   ]
  },
  {
   "cell_type": "code",
   "execution_count": null,
   "id": "e45525ce",
   "metadata": {},
   "outputs": [],
   "source": [
    "#67. take a string from the user and check contains only digits or not? \n",
    "\n",
    "user = input(\"Enter input:- \")\n",
    "if user.isdigit():\n",
    "    print(\"The string contains only digits.\")\n",
    "else:\n",
    "    print(\"The string does not contain only digits.\")"
   ]
  },
  {
   "cell_type": "code",
   "execution_count": null,
   "id": "ae463511",
   "metadata": {},
   "outputs": [],
   "source": [
    "#68. take a string from the user and check contains only  alphabets or not? \n",
    "\n",
    "user = input(\"Enter input:- \")\n",
    "\n",
    "if user.isalpha():\n",
    "    print(\"The string contains only alphabets.\")\n",
    "else:\n",
    "    print(\"The string does not contain only alphabets\")"
   ]
  },
  {
   "cell_type": "code",
   "execution_count": null,
   "id": "f1bf402f",
   "metadata": {},
   "outputs": [],
   "source": [
    "#69. take a string from the user and check contains only  special chars or not? \n",
    "\n",
    "user = input(\"Enter input:- \")\n",
    "if all(not i.isalnum() for i in user):\n",
    "    print(\"The string contain only special characters\")\n",
    "else:\n",
    "    print(\"The string does not contain special characters\")"
   ]
  },
  {
   "cell_type": "code",
   "execution_count": null,
   "id": "022485ca",
   "metadata": {},
   "outputs": [],
   "source": [
    "#70. take a string from the user and check contains only  capital letters or not? \n",
    "\n",
    "user = input(\"Enter input:- \")\n",
    "if all(i.isupper() for i in user):\n",
    "    print(\"The string contain only capital letters\")\n",
    "else:\n",
    "    print(\"The string does not contain only capital letters\")"
   ]
  },
  {
   "cell_type": "code",
   "execution_count": null,
   "id": "0f5b5bef",
   "metadata": {},
   "outputs": [],
   "source": [
    "#71. take a string from the user and check contains only  small letters or not? \n",
    "user = input(\"Enter input:- \")\n",
    "if all(i.islower() for i in user):\n",
    "    print(\"The string contain only lower letters\")\n",
    "else:\n",
    "    print(\"The string does not contain only lower letters\")"
   ]
  },
  {
   "cell_type": "code",
   "execution_count": null,
   "id": "98b77ec0",
   "metadata": {},
   "outputs": [],
   "source": [
    "#72. WAP to replace last n occurrence. \n",
    "actual_string = input()\n",
    "\n",
    "source_string = input()\n",
    "dest_string = input()\n",
    "\n",
    "row = actual_string[::-1].replace(source_string[::-1], dest_string[::-1],1)\n",
    "print(row[::-1])"
   ]
  },
  {
   "cell_type": "code",
   "execution_count": null,
   "id": "ef94cc69",
   "metadata": {},
   "outputs": [],
   "source": [
    "#73. WAP to check given string contains numbers or not. it should consider float numbers also. "
   ]
  },
  {
   "cell_type": "code",
   "execution_count": null,
   "id": "7108be3a",
   "metadata": {},
   "outputs": [],
   "source": [
    "#74. Convert the total string in to lower case. Convert the total string in to upper case.\n",
    "user = input(\"Enter input:- \")\n",
    "\n",
    "print(user.lower())\n",
    "print(user.upper())"
   ]
  },
  {
   "cell_type": "code",
   "execution_count": null,
   "id": "f72e0e33",
   "metadata": {},
   "outputs": [],
   "source": [
    "#75.Convert every word start letter into caps.Some how title not working if it contains numbers and special symbols in the word\n",
    "\n",
    "user = input(\"Enter a words space separated:- \").split()\n",
    "\n",
    "if all(i.isalpha() for i in user):\n",
    "    res = \"\"\n",
    "    for i in user:\n",
    "        res += i.title()+\" \"\n",
    "    print(res)\n",
    "\n",
    "else:\n",
    "    print(\"Title not working if it contains numbers and special symbols in the word\")"
   ]
  },
  {
   "cell_type": "code",
   "execution_count": null,
   "id": "91282235",
   "metadata": {},
   "outputs": [],
   "source": [
    "#76.replace last two occurrences of given source string with destination string preserve the delimiter after split. \n",
    "\n",
    "actual_string = input(\"Enter actual string:- \")\n",
    "\n",
    "source_string = input(\"Enter source string:- \")\n",
    "dest_string = input(\"Enter destination string:- \")\n",
    "\n",
    "row = actual_string[::-1].replace(source_string[::-1], dest_string[::-1],2)\n",
    "print(row[::-1])"
   ]
  },
  {
   "cell_type": "code",
   "execution_count": null,
   "id": "f5ee1d60",
   "metadata": {},
   "outputs": [],
   "source": [
    "77. write a program to check given substring is there in actual string or not? (search should be case insensitive) \n",
    "\n",
    "example: act=\"python is a pure object oriented programing language\" \n",
    "\n",
    "s = input()\n",
    "sub_s = input()\n",
    "s = s.lower()\n",
    "print(sub_s in s)"
   ]
  },
  {
   "cell_type": "code",
   "execution_count": null,
   "id": "4299e5f6",
   "metadata": {},
   "outputs": [],
   "source": [
    "#78.check whether “pure” is there in act or not. Note: Use in operator \n",
    "\n",
    "c = 'pure'\n",
    "if c in act:\n",
    "    print('The substring in there in actual string')\n",
    "else:\n",
    "    print(\"The substring is not there in actual string\")"
   ]
  },
  {
   "cell_type": "code",
   "execution_count": null,
   "id": "71506f90",
   "metadata": {},
   "outputs": [],
   "source": [
    "# 79. l=[10,20,30,[40,50,60],70,[80,90,20]]. Convert this list as single dimensional list \n",
    "\n",
    "l= [10,20,30,[40,50,60],70,[80,90,20]]\n",
    "new_l = []\n",
    "for i in l:\n",
    "    if type(i) == int:\n",
    "        new_l.append(i)\n",
    "    else:\n",
    "        for j in i:\n",
    "            new_l.append(j)\n",
    "print(new_l)"
   ]
  },
  {
   "cell_type": "code",
   "execution_count": 2,
   "id": "aa2155ee",
   "metadata": {},
   "outputs": [
    {
     "name": "stdout",
     "output_type": "stream",
     "text": [
      "G 1\n",
      "o 2\n",
      "o 2\n",
      "g 1\n",
      "l 1\n",
      "e 1\n"
     ]
    }
   ],
   "source": [
    "#80. input: \"Google\" print count of each character\n",
    "\n",
    "s = \"Google\"\n",
    "for i in s:\n",
    "    print(i,s.count(i))"
   ]
  },
  {
   "cell_type": "code",
   "execution_count": null,
   "id": "d52e0724",
   "metadata": {},
   "outputs": [],
   "source": [
    "#81. Convert n dimensional list to single dimensional list. \n",
    "\n",
    "l =[[1,3,2,\"g\"],[6,5,4],['v',8,9]]\n",
    "new_lst =[]\n",
    "for i in l:\n",
    "    for j in i:\n",
    "        new_lst.append(j)\n",
    "print(new_lst)"
   ]
  },
  {
   "cell_type": "code",
   "execution_count": null,
   "id": "5862bc6e",
   "metadata": {},
   "outputs": [],
   "source": [
    "#82. l=[1,2,3] just make it as a string. \n",
    "\n",
    "l =['1','2','3']\n",
    "s =\"\"\n",
    "for i in l:\n",
    "    s += i \n",
    "print(s)"
   ]
  },
  {
   "cell_type": "code",
   "execution_count": null,
   "id": "1eb0a7d4",
   "metadata": {},
   "outputs": [],
   "source": [
    "#83. l=[1,2,3,[4,5,6],7,[8,9,10]] for single dimensional list \n",
    "\n",
    "l = [1,2,3,[4,5,6],7,[8,9,10]]\n",
    "res = []\n",
    "[res.extend(i) for i in a]\n",
    "print(res)"
   ]
  },
  {
   "cell_type": "code",
   "execution_count": null,
   "id": "c43231cb",
   "metadata": {},
   "outputs": [],
   "source": [
    "#84. l=['a','A','b','B','d','D','c','C'] WAP to find out case insensitive count \n",
    "\n",
    "l=['a','A','b','B','d','D','c','C'] \n",
    "user = input(\"Enter input from list:- \")\n",
    "c = 0\n",
    "for i in l:\n",
    "    if i.lower() == user.lower():\n",
    "        c += 1\n",
    "print(\"Count=\",c)\n"
   ]
  },
  {
   "cell_type": "code",
   "execution_count": null,
   "id": "4f52316f",
   "metadata": {},
   "outputs": [],
   "source": [
    "#85. case insensitive search for an element.\n",
    "\n",
    "user = input(\"Enter input from list:- \")\n",
    "for i in l:\n",
    "    if user.lower() in l:\n",
    "        print(\"Have search element in list \")\n",
    "        break\n"
   ]
  },
  {
   "cell_type": "code",
   "execution_count": null,
   "id": "13acdde2",
   "metadata": {},
   "outputs": [],
   "source": [
    "# 86. l=['a','A','b','B','d','D','c','C']  sort the list properly \n",
    "\n",
    "l=[\"a\",'A','b','B','d','D','c','C']\n",
    "print(sorted(l))"
   ]
  },
  {
   "cell_type": "code",
   "execution_count": 25,
   "id": "e09f88be",
   "metadata": {},
   "outputs": [
    {
     "name": "stdout",
     "output_type": "stream",
     "text": [
      "Enter string: ksdhweugdbnl;lkkkkkkkkkkkkkkk\n",
      "15\n"
     ]
    }
   ],
   "source": [
    "#87. find the start position of the largest block of repeated characters in a given string \n",
    "\n",
    "def find_starting_position(s):\n",
    "    length_l  = len(s)\n",
    "    cur_count = 0 \n",
    "    max_count = 0 \n",
    "    req_pos = 0\n",
    "    for i in range(length_l-1):\n",
    "        if s[i] == s[i+1]:\n",
    "            cur_count += 1\n",
    "        else:\n",
    "            if cur_count > max_count :\n",
    "                max_count = cur_count\n",
    "                req_pos = i - max_count\n",
    "            cur_count =  0\n",
    "    if cur_count > max_count:\n",
    "        max_count = cur_count\n",
    "        req_pos = length_l - max_count \n",
    "        \n",
    "    return req_pos\n",
    "s = input(\"Enter string:  \")\n",
    "print(find_starting_position(s))\n",
    "                                                                                                                                                                            \n"
   ]
  },
  {
   "cell_type": "code",
   "execution_count": null,
   "id": "516fb099",
   "metadata": {},
   "outputs": [],
   "source": [
    "#88. WAP to find union and intersection of lists. \n",
    "l1=input().split()\n",
    "l2= input().split()\n",
    "\n",
    "def union_opn(l1,l2):\n",
    "    union = l1\n",
    "    for i in l2:\n",
    "        if i not in l1:\n",
    "            union.append(i)\n",
    "    return union\n",
    "def intersect_opn(l1,l2):\n",
    "    intersect = []\n",
    "    for j in l1:\n",
    "        if j in l2:\n",
    "            intersect.append(j)\n",
    "    return intersect\n",
    "print(union_opn(l1,l2))\n",
    "print(intersect_opn(l1,l2))"
   ]
  },
  {
   "cell_type": "code",
   "execution_count": null,
   "id": "01cd8e2a",
   "metadata": {},
   "outputs": [],
   "source": [
    "#89. input: fun(5) output: [1,2,3,4,3,2,1] \n",
    "\n",
    "def fun(a):\n",
    "    \n",
    "    res = []\n",
    "    for i in range(1,a):\n",
    "        res.append(i)\n",
    "    \n",
    "    for i in range(1,a-1):\n",
    "        res.append((a-1)-i)\n",
    "        \n",
    "    return res\n",
    "print(fun(5)) "
   ]
  },
  {
   "cell_type": "code",
   "execution_count": null,
   "id": "54b85f64",
   "metadata": {},
   "outputs": [],
   "source": [
    "#90. input fun('abc') output: [[],][a],[b],[c],[a,b],[b,c],[c,a],[a,b,c]] \n",
    "\n",
    "def fun(a):\n",
    "    l = len(a)\n",
    "    res = []\n",
    "    for i in range(l+1):\n",
    "        row = combinations(\"abc\",i)\n",
    "        res.append(row)\n",
    "    \n",
    "    final = []\n",
    "    for i in res:\n",
    "        new = list(i)\n",
    "        for j in new:\n",
    "            final.append(list(j))\n",
    "            \n",
    "    print(final)\n",
    "        \n",
    "fun('abc')"
   ]
  },
  {
   "cell_type": "code",
   "execution_count": null,
   "id": "e623eb2c",
   "metadata": {},
   "outputs": [],
   "source": [
    "#91. Remove duplicates from the list: a=[1,2,3,2,3,4,1,,3,4] \n",
    "l=[1,2,3,2,3,4,1,3,4]\n",
    "def remove_duplicates(l):\n",
    "    without_duplicates=[]\n",
    "    for i in l:\n",
    "        if i not in without_duplicates:\n",
    "            without_duplicates.append(i)\n",
    "    return without_duplicates\n",
    "print(remove_duplicates(l))"
   ]
  },
  {
   "cell_type": "code",
   "execution_count": null,
   "id": "30ca5de8",
   "metadata": {},
   "outputs": [],
   "source": [
    "#92. l=['1','2','3'] get the sum of the list \n",
    "l=['1','2','3']\n",
    "sum_l =0\n",
    "for i in l:\n",
    "    sum_l += int(i)\n",
    "print(sum_l)"
   ]
  },
  {
   "cell_type": "code",
   "execution_count": null,
   "id": "62d211fa",
   "metadata": {},
   "outputs": [],
   "source": [
    "#93. l1=[1,2,3,4] l2=[5,6,7,8] sum of two lists \n",
    "l1=[1,2,3,4]\n",
    "l2=[5,6,7,8]\n",
    "res=[]\n",
    "for i in range(len(l1)):\n",
    "    res.append(l1[i]+l2[i])\n",
    "print(res)"
   ]
  },
  {
   "cell_type": "code",
   "execution_count": null,
   "id": "ac584026",
   "metadata": {},
   "outputs": [],
   "source": [
    "#94. Find third max value of element in a list with soring and without sorting a list. \n",
    "\n",
    "l = [10,23,43,12,34,56,66,25]\n",
    "l.sort()\n",
    "print(\"Third max value of element with sorting =\",l[-3])\n",
    "\n",
    "k = [10,23,43,12,34,56,66,25]\n",
    "l = k[:]\n",
    "for i in range(2):\n",
    "    l.remove(max(l))\n",
    "print(\"Third max value of element without sorting =\",max(l))"
   ]
  },
  {
   "cell_type": "code",
   "execution_count": null,
   "id": "f9587e21",
   "metadata": {},
   "outputs": [],
   "source": [
    "#95. Input = [\"1/1\",\"1/2\",\"1/3\",\"1/4\",\"2/5\",\"2/6\",\"2/8\"] Output = [['1/1-4'], ['2/5-6'], ['2/8']] \n",
    "\n"
   ]
  },
  {
   "cell_type": "code",
   "execution_count": null,
   "id": "251f12a8",
   "metadata": {},
   "outputs": [],
   "source": [
    "#96. l=[1,2,3,5,7,8,9,10,11,12,13,20,22,23,24,25,26,27,20,21,22,4] \n",
    "#output = [[1, 2, 3], [5], [7, 8, 9, 10, 11, 12, 13], [20], [22, 23, 24, 25, 26, 27], [20, 21, 22], [4]] \n",
    "\n",
    "l=[10,1,2,3,5,7,8,9,10,11,12,13,20,22,23,24,25,26,27,20,21,22,4] \n",
    "\n",
    "res = []\n",
    "sub = []\n",
    "for i in range(len(l)):\n",
    "    if l[i] == l[i-1]+1:\n",
    "        sub.append(l[i])\n",
    "    \n",
    "    else:\n",
    "        res.append(sub)   \n",
    "        sub = []\n",
    "        sub.append(l[i])\n",
    "res.append(sub)\n",
    "\n",
    "print(res[1:])"
   ]
  },
  {
   "cell_type": "code",
   "execution_count": null,
   "id": "a5177377",
   "metadata": {},
   "outputs": [],
   "source": [
    "#97. input = 1,2,3,4,5,6,8,10 output = odd,even,odd,even,odd,even,even,even \n",
    "inp =[1,2,3,4,5,6,8,10]\n",
    "s=\"\"\n",
    "for i in inp:\n",
    "    if i%2==0:\n",
    "        s += \"even,\"\n",
    "    else:\n",
    "        s =s +\"odd,\"\n",
    "print(s.strip(\",\"))"
   ]
  },
  {
   "cell_type": "code",
   "execution_count": null,
   "id": "67e3f2ad",
   "metadata": {},
   "outputs": [],
   "source": [
    "98. input n=3 \n",
    "\n",
    "    \t\toutput:     111 \n",
    "\n",
    "        \t\t101 \n",
    "\n",
    "        \t\t111 "
   ]
  },
  {
   "cell_type": "code",
   "execution_count": 1,
   "id": "3b69d245",
   "metadata": {},
   "outputs": [
    {
     "name": "stdout",
     "output_type": "stream",
     "text": [
      "{'g': 2, 'l': 1, 'o': 2, 'e': 1}\n"
     ]
    }
   ],
   "source": [
    "#99. input: Google output: {'g':2,'o':2,'l':1,'e':1} use dictionary comprehension \n",
    "\n",
    "ip = \"Google\".lower()\n",
    "\n",
    "row = {i:ip.count(i) for i in set(ip)}\n",
    "print(row)"
   ]
  },
  {
   "cell_type": "code",
   "execution_count": null,
   "id": "62f77378",
   "metadata": {},
   "outputs": [],
   "source": [
    "#100. keys=['k1','k2'], values = ['v1','v2'] form a dictionary. \n",
    "\n",
    "keys=['k1','k2']\n",
    "values = ['v1','v2']\n",
    "\n",
    "row = {keys[i]:values[i] for i in range(len(keys))}\n",
    "print(row)\n"
   ]
  },
  {
   "cell_type": "code",
   "execution_count": null,
   "id": "fbb8538e",
   "metadata": {},
   "outputs": [],
   "source": [
    "#Sort the list marks = [(\"mohan\", 80), (\"satish\", 90), (\"purnesh\", 40), (\"venkat\", 30)] according to descending order of marks \n",
    "    \n",
    "list_marks = [(\"mohan\", 80), (\"satish\", 90), (\"purnesh\", 40), (\"venkat\", 30)] \n",
    "\n",
    "row = sorted(list_marks, key=lambda x : x[1], reverse=True)\n",
    "print(row)\n"
   ]
  },
  {
   "cell_type": "code",
   "execution_count": null,
   "id": "85799430",
   "metadata": {},
   "outputs": [],
   "source": [
    "#102.write a function to get dynamic list for floating numbers also based on strat and end and step parameters \n",
    "\n",
    "s = 1\n",
    "e = 13.2\n",
    "step = 1.2\n",
    "res = []\n",
    "\n",
    "while e > s:\n",
    "    res.append(round(s,2))\n",
    "    s += step\n",
    "print(res)"
   ]
  },
  {
   "cell_type": "code",
   "execution_count": null,
   "id": "effa8372",
   "metadata": {},
   "outputs": [],
   "source": [
    "#103. find out all perfect numbers in given range\n",
    "\n",
    "def find_perfect(n):\n",
    "    s = sum(filter(lambda x: n%x == 0, range(1,n)))\n",
    "    return  s == n\n",
    "         \n",
    "\n",
    "start = 1\n",
    "end = 100000\n",
    "perfect = list(filter(lambda n : find_perfect(n), range(start, end+1)))\n",
    "print(perfect)"
   ]
  },
  {
   "cell_type": "code",
   "execution_count": null,
   "id": "156a89f0",
   "metadata": {},
   "outputs": [],
   "source": [
    "#104. WAP to do all stack operations using lists \n",
    "\n",
    "class Stack:\n",
    "    def __init__(self):\n",
    "        self.items = []\n",
    "    \n",
    "    def push(self,item):\n",
    "        self.items.append(item)\n",
    "        print(f'Pushed in to stack of {item}')\n",
    "    \n",
    "    def empty(self):\n",
    "        return len(self.items) == 0\n",
    "    \n",
    "    def pop(self):\n",
    "        if not self.empty():\n",
    "            p = self.items.pop()\n",
    "            print(f\"{p} Popped item from Stack\")\n",
    "    \n",
    "    def display(self):\n",
    "        if not self.empty():\n",
    "            print(\"Stack=\",self.items)\n",
    "        else:\n",
    "            print(\"Stack is empty\")\n",
    "\n",
    "obj = Stack()\n",
    "obj.push(400)\n",
    "obj.push(800)\n",
    "obj.push(800)\n",
    "obj.pop()\n",
    "obj.display()"
   ]
  },
  {
   "cell_type": "code",
   "execution_count": null,
   "id": "8269e865",
   "metadata": {},
   "outputs": [],
   "source": [
    "#105.WAP to do all queue operations using lists \n",
    "\n",
    "class Queue:\n",
    "    def __init__(self):\n",
    "        self.items = []\n",
    "    \n",
    "    def empthy(self):\n",
    "        return len(self.items) == 0\n",
    "    \n",
    "    def enquee(self,item):\n",
    "        self.items.append(item)\n",
    "        print(f\"{item} enqueed to the list\")\n",
    "    \n",
    "    def dequee(self):\n",
    "        if not self.empthy():\n",
    "            pop_item = self.items.pop()\n",
    "            print(f\"{pop_item} dequeed from the list\")\n",
    "    \n",
    "    def display_queue(self):\n",
    "        print(\"Queue = \",self.items )\n",
    "\n",
    "q = Queue()\n",
    "q.enquee(200)\n",
    "q.enquee(500)\n",
    "q.enquee(200)\n",
    "q.dequee()\n",
    "q.display_queue()"
   ]
  },
  {
   "cell_type": "code",
   "execution_count": null,
   "id": "00e1528a",
   "metadata": {},
   "outputs": [],
   "source": [
    "#106. WAP to remove n occurrences of specified element from a list \n",
    "\n",
    "l = [1,2,34,2,3,4,5,6,7,8,9,2,4,6,8,9]\n",
    "first = int(input(\"Enter element to remove:- \"))\n",
    "count = int(input(\"Enter occurrences:- \"))\n",
    "l = l[::-1]\n",
    "for i in range(count):\n",
    "    index = l.index(first)\n",
    "    l[index] = -1\n",
    "    l.pop(index)\n",
    "print(l[::-1])"
   ]
  },
  {
   "cell_type": "code",
   "execution_count": null,
   "id": "83937fc4",
   "metadata": {},
   "outputs": [],
   "source": [
    "#107. compare two lists ignore order. i.e return True l1=[1,2,3,4],l2=[4,2,3,1], fun(l1,l2)-> True \n",
    "\n",
    "def fun(l1,l2):\n",
    "    print(sorted(l1) == sorted(l2))\n",
    "\n",
    "l1=[1,2,3,4]\n",
    "l2=[4,2,3,1]\n",
    "fun(l1,l2)\n"
   ]
  },
  {
   "cell_type": "code",
   "execution_count": null,
   "id": "4da8e633",
   "metadata": {},
   "outputs": [],
   "source": [
    "#108. XOR operation in python. \n",
    "\n"
   ]
  },
  {
   "cell_type": "code",
   "execution_count": null,
   "id": "6c088b5f",
   "metadata": {},
   "outputs": [],
   "source": [
    "#109. how to remove all occurrences of the given element in a list "
   ]
  },
  {
   "cell_type": "code",
   "execution_count": null,
   "id": "4042193c",
   "metadata": {},
   "outputs": [],
   "source": [
    "#110. how to remove first n occurrences of the given element in a list \n",
    "\n",
    "l = [1,2,34,2,3,4,5,6,7,8,9,2,4,6,8,9]\n",
    "first = int(input(\"Enter element to remove:- \"))\n",
    "count = int(input(\"Enter occurrences:- \"))\n",
    "\n",
    "for i in range(count):\n",
    "    index = l.index(first)\n",
    "    l[index] = -1\n",
    "    l.pop(index)\n",
    "print(l)"
   ]
  },
  {
   "cell_type": "code",
   "execution_count": null,
   "id": "0113bbce",
   "metadata": {},
   "outputs": [],
   "source": [
    "#111. how to remove last n occurrences of the given element in a list \n",
    "\n",
    "l = [1,2,34,2,3,4,5,6,7,8,9,2,4,6,8,9]\n",
    "first = int(input(\"Enter element to remove:- \"))\n",
    "count = int(input(\"Enter occurrences:- \"))\n",
    "l = l[::-1]\n",
    "for i in range(count):\n",
    "    index = l.index(first)\n",
    "    l[index] = -1\n",
    "    l.pop(index)\n",
    "print(l[::-1])"
   ]
  },
  {
   "cell_type": "code",
   "execution_count": null,
   "id": "6dfb0b1b",
   "metadata": {},
   "outputs": [],
   "source": [
    "#112. how to remove nth occurrences of the given element in a list \n",
    "\n",
    "l = [1,2,34,2,3,4,5,6,7,8,9,2,4,6,8,9]\n",
    "n = int(input(\"Enter input:- \"))\n",
    "c = l.count(n)\n",
    "copy = l[:]\n",
    "last_index = 0\n",
    "for i in range(c):\n",
    "    index = copy.index(n)\n",
    "    copy[index] = -1\n",
    "    last_index = index\n",
    "#print(last_index)\n",
    "rm = l.pop(last_index)\n",
    "print(f\"{rm} removed last occurrences of specified element from a list\")\n",
    "print(l)"
   ]
  },
  {
   "cell_type": "code",
   "execution_count": null,
   "id": "356f46d3",
   "metadata": {},
   "outputs": [],
   "source": [
    "#113. WAP to generate list of floats i.e: fun(0,1,0.1), [0,0.1,0.2,0.3,0.4,0.5,0.6,0.7,0.8,0.9] \n",
    "\n",
    "def fun(a,b,c):\n",
    "    res = []\n",
    "    while b > a:\n",
    "        res.append(round(a,2))\n",
    "        a += c  \n",
    "    print(res)\n",
    "        \n",
    "fun(0,1,0.1)"
   ]
  },
  {
   "cell_type": "code",
   "execution_count": null,
   "id": "d127d80b",
   "metadata": {},
   "outputs": [],
   "source": [
    "# 114. WAP to remove all occurrences of given substring from actual string \n",
    "\n",
    "actual_string = \"apple orange apple mango grapes apple grapes apple banana\"\n",
    "substring = \"apple\"\n",
    "print(actual_string.replace(substring,\"\"))"
   ]
  },
  {
   "cell_type": "code",
   "execution_count": null,
   "id": "01a362aa",
   "metadata": {},
   "outputs": [],
   "source": [
    "#115. WAP to remove first n occurrences of given substring from actual string \n",
    "\n",
    "actual_string = \"apple orange apple mango grapes apple grapes apple banana\"\n",
    "substring = \"apple\"\n",
    "n = int(input(\"Enter number of occurrences:- \"))\n",
    "print(actual_string.replace(substring,\"\",n))"
   ]
  },
  {
   "cell_type": "code",
   "execution_count": 3,
   "id": "f96ad298",
   "metadata": {},
   "outputs": [
    {
     "name": "stdout",
     "output_type": "stream",
     "text": [
      "Enter number of occurrences:- 2\n",
      "apple orange apple mango grapes  grapes  banana\n"
     ]
    }
   ],
   "source": [
    " #116. WAP to remove last n occurrences of given substring from actual string \n",
    "actual_string = \"apple orange apple mango grapes apple grapes apple banana\"\n",
    "a = actual_string[::-1]\n",
    "substring = \"apple\"\n",
    "s = substring[::-1]\n",
    "\n",
    "n = int(input(\"Enter number of occurrences:- \"))\n",
    "r = a.replace(s,'',n)\n",
    "print(r[::-1])\n"
   ]
  },
  {
   "cell_type": "code",
   "execution_count": null,
   "id": "34bbaa0c",
   "metadata": {},
   "outputs": [],
   "source": [
    "#117. WAP to replace last n occurrences of given substring with destination string in actual string\n",
    "\n",
    "actual_string = \"apple orange apple mango grapes apple grapes apple banana\"\n",
    "substring = \"apple\"\n",
    "dest_string = input(\"Enter destination string:- \")\n",
    "n = int(input(\"Enter occurrences:- \"))\n",
    "a = actual_string[::-1]\n",
    "s = substring[::-1]\n",
    "d = dest_string[::-1]\n",
    "\n",
    "res = a.replace(s,d,n)\n",
    "print(res[::-1])"
   ]
  },
  {
   "cell_type": "code",
   "execution_count": null,
   "id": "8022d60f",
   "metadata": {},
   "outputs": [],
   "source": [
    "#118. WAP to sort the string. \n",
    "\n",
    "s = \"apple\"\n",
    "print(\"\".join(sorted(s)))\n"
   ]
  },
  {
   "cell_type": "code",
   "execution_count": null,
   "id": "a2412796",
   "metadata": {},
   "outputs": [],
   "source": [
    "#119. take a coma separated numbers and find out max number. \n",
    "\n",
    "n = [12,34,45,67,43]\n",
    "print(max(n))"
   ]
  },
  {
   "cell_type": "code",
   "execution_count": null,
   "id": "14f42202",
   "metadata": {},
   "outputs": [],
   "source": [
    "#120. Read a json file. Try to get the information from the file \n",
    "\n",
    "import json\n",
    "\n",
    "with open(\"person.json\",\"r\") as f:\n",
    "    data = json.load(f)\n",
    "print(data)"
   ]
  },
  {
   "cell_type": "code",
   "execution_count": null,
   "id": "405bc882",
   "metadata": {},
   "outputs": [],
   "source": [
    "#121.Read a yaml file. Try to get the information from the file \n",
    "\n",
    "import yaml\n",
    "#print(dir(yaml))\n",
    "with open(\"yamal.yaml\",\"r\") as f:\n",
    "    data = yaml.safe_load(f)\n",
    "print(data)\n"
   ]
  },
  {
   "cell_type": "code",
   "execution_count": null,
   "id": "0e245386",
   "metadata": {},
   "outputs": [],
   "source": [
    "#122.Read any image data using Opencv "
   ]
  },
  {
   "cell_type": "code",
   "execution_count": null,
   "id": "12c2fbf2",
   "metadata": {},
   "outputs": [],
   "source": [
    "#123.make alternative words reversed in given string: ex: \"python program good language\"-> \"python margorp good egaugnal\" \n",
    "\n",
    "string = input().split(\" \")\n",
    "s =\"\"\n",
    "for i in range(len(string)):\n",
    "    if i%2==1:\n",
    "        s += (string[i][::-1]+\" \")\n",
    "        \n",
    "    else :\n",
    "        s+= (string[i]+\" \")\n",
    "    \n",
    "print(s)"
   ]
  },
  {
   "cell_type": "code",
   "execution_count": null,
   "id": "798c4429",
   "metadata": {},
   "outputs": [],
   "source": [
    "124. l=['c',\"cpp\",\"java\",\"php\",\"python\"] \n",
    "\n",
    " case insensitive count# l.count(\"C\")->1 \n",
    "\n",
    "like count l.own_count(\"c\")->2 with case insensitive \n",
    "\n",
    "l=['C',\"cpp\",\"java\",\"php\",\"python\"]\n",
    "res = \"\".join(l)\n",
    "user1 = input(\"Enter charactor to count case sensitive:- \")\n",
    "user2 = input(\"Enter charactor to count case insensitive:- \")\n",
    "\n",
    "res1 = res.count(user1)\n",
    "new = res.lower()\n",
    "res2 = new.count(user2)\n",
    "\n",
    "print(\"Count of case sensitive:-\", res1)\n",
    "print(\"Count of case insensitive:-\", res2)"
   ]
  },
  {
   "cell_type": "code",
   "execution_count": null,
   "id": "741b5dbd",
   "metadata": {},
   "outputs": [],
   "source": [
    "125: take total parameters, out of which few are optional and few are mandatory. Take some parameters from the user and \n",
    "    check whether the user given all the mandatory paramerters or not. \n",
    "\n",
    "For example: to insert person details \n",
    "\n",
    "Total parameters: name,age,height,pan,cell,adhar,passport \n",
    "\n",
    "mandatory: name,cell,adhar \n",
    "\n",
    "if the user given: name,adhar,passport then you need to print cell is mandatory parameter \n",
    "\n",
    "if the user given: name,cell,adhar,passport then you need to print ok  \n",
    "\n",
    "if the user given: adhar,passport then you need to print cell,name are mandatory parameter \n",
    "    \n",
    "\n",
    "def total_parameters(**kargs):\n",
    "    manadatory = [\"name\", \"cell\", \"adhar\"]\n",
    "    parameters = [\"name\",\"age\",\"height\",\"pan\",\"cell\",\"adhar\",\"passport\"]\n",
    "    #print(kargs)\n",
    "    \n",
    "    show_man = []\n",
    "    \n",
    "    for i in manadatory:\n",
    "        if i not in kargs:\n",
    "            show_man.append(i)\n",
    "    \n",
    "    #print(show_man)\n",
    "    extra = []\n",
    "    for j in kargs:\n",
    "        if j not in parameters:\n",
    "            extra.append(j)\n",
    "    \n",
    "    if len(show_man) == 0 and len(extra) == 0:\n",
    "        return \"ok\"\n",
    "    \n",
    "    if len(show_man) != 0 and len(extra) == 0:\n",
    "        return f\"{show_man} manadatory items\"\n",
    "    \n",
    "    if len(show_man) == 0 and len(extra) != 0:\n",
    "        return f\"{extra} extra items\"\n",
    "    \n",
    "    if len(show_man) != 0 and len(extra) != 0:\n",
    "        return f\"{show_man} manadatory items and {extra} extra items\"\n",
    "\n",
    "print(total_parameters(adhar=6768433, passport=32333, weight=45))"
   ]
  },
  {
   "cell_type": "code",
   "execution_count": null,
   "id": "cdd58d00",
   "metadata": {},
   "outputs": [],
   "source": [
    "126 Take two inputs from the user:  your program should check for below scenarios. \n",
    "10,20: 30 \n",
    "12.34,45.67: 58.01 \n",
    "+12,-12: 0 \n",
    "\n",
    "qwe,23we: Enter digits or float values only \n",
    "    \n",
    "    \n",
    "try:\n",
    "    a,b = map(float, input(\"Enter values separated by comma:- \").split(\",\"))\n",
    "    print(sum([a,b]))\n",
    "except ValueError as err:\n",
    "    print(err,\"please enter int or float values\")\n"
   ]
  },
  {
   "cell_type": "code",
   "execution_count": null,
   "id": "f6bdd03e",
   "metadata": {},
   "outputs": [],
   "source": [
    "127. take the number of employees count from the user and ask the inputs required for the bmi for each and every person. The result should be like below \n",
    "\n",
    "empid:{“weight:”,”height”:,”age”:,”bmi”:0.9,”result”:”+ve”} \n",
    "    \n",
    "    \n",
    "users = int(input(\"Enter the number of employees count:- \"))\n",
    "empid = 1000\n",
    "for i in range(users):\n",
    "    w = float(input(\"Enter weight(kgs):- \"))\n",
    "    h = float(input(\"Enter height(feets):- \"))\n",
    "    a = float(input(\"Enter age(years):- \"))\n",
    "    bmi = w/h\n",
    "    result = \"\"\n",
    "    if bmi < 25:\n",
    "        result = \"+ve\"\n",
    "    else:\n",
    "        result = \"-ve\"\n",
    "    \n",
    "    print({empid:{\"weight\":w, \"height\":h, \"age\":a, \"bmi\":bmi, \"result\": result}})\n",
    "    empid += 1"
   ]
  },
  {
   "cell_type": "code",
   "execution_count": null,
   "id": "88fd4646",
   "metadata": {},
   "outputs": [],
   "source": [
    "Modules: \n",
    "\n",
    "128. CRM: app.py(define a menu: 1.meetings, 2. customer, 3. quit \n",
    "\n",
    "1: a. create meeting b. update meeting c. delete meeting d. get the meeting \n",
    "2: a. create customer b. update customer c. delete customer d. get the customer ), meetings.py, customer.py \n",
    "    \n",
    "    \n"
   ]
  },
  {
   "cell_type": "code",
   "execution_count": null,
   "id": "7c589178",
   "metadata": {},
   "outputs": [],
   "source": [
    "#129. copy 1 file content in to another file(Take the source and destination file path from the user) "
   ]
  },
  {
   "cell_type": "code",
   "execution_count": null,
   "id": "b39f0897",
   "metadata": {},
   "outputs": [],
   "source": [
    "#130. print number of lines, words, characters from the given file "
   ]
  },
  {
   "cell_type": "code",
   "execution_count": null,
   "id": "8f553d34",
   "metadata": {},
   "outputs": [],
   "source": [
    "#131 convert .txt file in .json "
   ]
  },
  {
   "cell_type": "code",
   "execution_count": null,
   "id": "2c26ee46",
   "metadata": {},
   "outputs": [],
   "source": [
    "132. Take three columns disease, symptoms, advice in a file and fill the details \n",
    "\n",
    "Ask the user to enter symptoms. Based on this symptoms Suggest the user to what disease it may be and few advices. "
   ]
  },
  {
   "cell_type": "code",
   "execution_count": null,
   "id": "d1787c85",
   "metadata": {},
   "outputs": [],
   "source": [
    "133. Take employees info (id,name, age, adress, sal, height, weight) \n",
    "\n",
    "   \t\t a. Take id, provide employee information for that id. \n",
    "\n",
    "    \t\tb. find out average salary. \n",
    "\n",
    "    \t\tc. find out which age, address taking the heighest salary \n",
    "\n",
    "   \t\t d. find out every employee BMI value \n",
    "\n",
    "    \t\te. Finally find out the Organization overall BMI "
   ]
  },
  {
   "cell_type": "code",
   "execution_count": null,
   "id": "35277a63",
   "metadata": {},
   "outputs": [],
   "source": [
    "#134. read the file which contains the size greater than your ram size "
   ]
  },
  {
   "cell_type": "code",
   "execution_count": null,
   "id": "62bfd96d",
   "metadata": {},
   "outputs": [],
   "source": [
    "# 125. Read ten gb movie "
   ]
  },
  {
   "cell_type": "code",
   "execution_count": null,
   "id": "c1ddfcac",
   "metadata": {},
   "outputs": [],
   "source": [
    "136.  Collect emp information in a file Provide these operations. \n",
    "\n",
    "     \n",
    "\n",
    "   \t\t Menu: \n",
    "\n",
    "     \t\t\t1. Get information information of an employee \n",
    "\n",
    "     \t\t\t2. Modify employee information \n",
    "\n",
    "     \t\t\t3. delete an employee information (Only status field change in the employee file) \n",
    "\n",
    "     \t\t\t4. Add an employee. "
   ]
  },
  {
   "cell_type": "code",
   "execution_count": null,
   "id": "0f0b714d",
   "metadata": {},
   "outputs": [],
   "source": [
    "137. Take Source and destination file paths from command line arguments and copy the sourcontent into destination. \n",
    "\n",
    "   \t\t Make Sure that your program checking the below conditions. \n",
    "\n",
    "     \t\t1.if the source file not there. Should ask the user to enter new source file or want to quit a program \n",
    "\n",
    "     \t\t2.if the destination file already there in the specified path. Should warn the user want to proceed or want to\n",
    "            enter new destination file name or want to quit "
   ]
  },
  {
   "cell_type": "code",
   "execution_count": null,
   "id": "bbe7bbad",
   "metadata": {},
   "outputs": [],
   "source": [
    "138. Bulk file copy. \n",
    "\n",
    "     \t\tTake source and destination file paths from a file and copy the source file content into destination file. \n",
    "\n",
    "     \t\tMaintain configuration file and put the below fields there \n",
    "\n",
    "      \t\tSource not found: Skip the copy \n",
    "\n",
    "      \t\tdestination found: skip/replace \n",
    "\n",
    "     \t\tmaintain a remarks log. What are the files skiped from copy because no source file found. What are the files\n",
    "            skip/replaced because of destination file foun in the specified path "
   ]
  },
  {
   "cell_type": "code",
   "execution_count": null,
   "id": "2c15124e",
   "metadata": {},
   "outputs": [],
   "source": [
    "SAMPLE PROJECT: \n",
    "\n",
    "139 Company recruitment drive \n",
    "\n",
    "\"\"\" \n",
    "\n",
    "Console based APP \n",
    "\n",
    "1:login \n",
    "\n",
    "2:register \n",
    "\n",
    "Enter an option: \n",
    "\n",
    "1--> username: \n",
    "\n",
    "     password: \n",
    "\n",
    "     if the username and password is there in your db then show operation menu: \n",
    "\n",
    "            1:know your details \n",
    "\n",
    "            2:drive date \n",
    "\n",
    "        if he is a hr manager: \n",
    "\n",
    "            1: aspirants group details by city \n",
    "\n",
    "            2: Toatal aspirant count \n",
    "\n",
    "            3: drive date \n",
    "\n",
    "            4: update the drive date \n",
    "\n",
    "2---> \n",
    "\n",
    "    username: \n",
    "\n",
    "    password: \n",
    "\n",
    "    email: \n",
    "\n",
    "    phone: \n",
    "\n",
    "    higher education: \n",
    "\n",
    "    city \n",
    "\n",
    "\"\"\" "
   ]
  },
  {
   "cell_type": "code",
   "execution_count": null,
   "id": "fbfc99e9",
   "metadata": {},
   "outputs": [],
   "source": []
  }
 ],
 "metadata": {
  "kernelspec": {
   "display_name": "Python 3 (ipykernel)",
   "language": "python",
   "name": "python3"
  },
  "language_info": {
   "codemirror_mode": {
    "name": "ipython",
    "version": 3
   },
   "file_extension": ".py",
   "mimetype": "text/x-python",
   "name": "python",
   "nbconvert_exporter": "python",
   "pygments_lexer": "ipython3",
   "version": "3.11.5"
  }
 },
 "nbformat": 4,
 "nbformat_minor": 5
}
