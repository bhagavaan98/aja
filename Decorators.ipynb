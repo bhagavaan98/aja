{
 "cells": [
  {
   "cell_type": "code",
   "execution_count": null,
   "id": "e2b9cbc7",
   "metadata": {},
   "outputs": [],
   "source": []
  },
  {
   "cell_type": "code",
   "execution_count": 6,
   "id": "980f7749",
   "metadata": {},
   "outputs": [
    {
     "name": "stdout",
     "output_type": "stream",
     "text": [
      "Calling function: add\n",
      "Arguments: (3, 4) {}\n",
      "3\n",
      "Return Value: 7\n",
      "Calling function: multiply\n",
      "Arguments: (5, 6) {}\n",
      "5\n",
      "Return Value: 30\n"
     ]
    }
   ],
   "source": [
    "def log_arguments_and_return_value(func):\n",
    "    def wrapper(*ars, **kwargs):\n",
    "        # Log the function name\n",
    "        print(f\"Calling function: {func.__name__}\")\n",
    "        \n",
    "        # Log the arguments\n",
    "        print(f\"Arguments: {ars} {kwargs}\")\n",
    "        a=ars[0]\n",
    "        print(a)\n",
    "\n",
    "        # Call the original function\n",
    "        result = func(*ars, **kwargs)\n",
    "\n",
    "        # Log the return value\n",
    "        print(f\"Return Value: {result}\")\n",
    "        \n",
    "        return result\n",
    "\n",
    "    return wrapper\n",
    "\n",
    "# Applying the decorator to a function\n",
    "@log_arguments_and_return_value\n",
    "def add(a, b,k=25):\n",
    "    return a + b\n",
    "\n",
    "@log_arguments_and_return_value\n",
    "def multiply(x, y,kk=56):\n",
    "    return x * y\n",
    "result1 = add(3, 4)\n",
    "result2 = multiply(5, 6)\n",
    "\n",
    "\n",
    "# if __name__ == \"__main__\":\n",
    "#     # Test cases\n",
    "#     result1 = add(3, 4)\n",
    "#     result2 = multiply(5, 6)\n",
    "\n",
    "    # Output will be logged by the decorator\n"
   ]
  },
  {
   "cell_type": "code",
   "execution_count": 7,
   "id": "522098fe",
   "metadata": {},
   "outputs": [],
   "source": [
    "#1. Write a Python program to create a decorator that logs the arguments and return value of a function"
   ]
  },
  {
   "cell_type": "code",
   "execution_count": 13,
   "id": "5032de32",
   "metadata": {},
   "outputs": [
    {
     "name": "stdout",
     "output_type": "stream",
     "text": [
      "the function is : check\n",
      "the parameters are : () ,{}\n",
      "Arguments: () {}\n",
      "done this is check function\n"
     ]
    },
    {
     "data": {
      "text/plain": [
       "10400"
      ]
     },
     "execution_count": 13,
     "metadata": {},
     "output_type": "execute_result"
    }
   ],
   "source": [
    "def logs_of_args(fun):\n",
    "    def wrapper(*args, **kwargs):\n",
    "        print(f'the function is : {fun.__name__}')\n",
    "        print(f'the parameters are : {args} ,{kwargs}')\n",
    "        print(f\"Arguments: {args} {kwargs}\")\n",
    "        return fun\n",
    "    return wrapper()\n",
    "@logs_of_args\n",
    "def check(a,b,c):\n",
    "    print('done this is check function')\n",
    "    return a*b*c\n",
    "check(10,20,52)\n"
   ]
  },
  {
   "cell_type": "code",
   "execution_count": 22,
   "id": "57bf300e",
   "metadata": {},
   "outputs": [
    {
     "ename": "TypeError",
     "evalue": "'list' object is not callable",
     "output_type": "error",
     "traceback": [
      "\u001b[1;31m---------------------------------------------------------------------------\u001b[0m",
      "\u001b[1;31mTypeError\u001b[0m                                 Traceback (most recent call last)",
      "Cell \u001b[1;32mIn[22], line 11\u001b[0m\n\u001b[0;32m      8\u001b[0m \u001b[38;5;129m@sorting_the_order\u001b[39m\n\u001b[0;32m      9\u001b[0m \u001b[38;5;28;01mdef\u001b[39;00m \u001b[38;5;21mget_usrs\u001b[39m():\n\u001b[0;32m     10\u001b[0m     \u001b[38;5;28;01mreturn\u001b[39;00m [\u001b[38;5;124m'\u001b[39m\u001b[38;5;124musr1\u001b[39m\u001b[38;5;124m'\u001b[39m,\u001b[38;5;124m'\u001b[39m\u001b[38;5;124musr5\u001b[39m\u001b[38;5;124m'\u001b[39m,\u001b[38;5;124m'\u001b[39m\u001b[38;5;124musr3\u001b[39m\u001b[38;5;124m'\u001b[39m]\n\u001b[1;32m---> 11\u001b[0m j \u001b[38;5;241m=\u001b[39m get_usrs()\n\u001b[0;32m     12\u001b[0m \u001b[38;5;28mprint\u001b[39m(j)\n",
      "\u001b[1;31mTypeError\u001b[0m: 'list' object is not callable"
     ]
    }
   ],
   "source": [
    "def sorting_the_order(fun):\n",
    "    def child(*args):\n",
    "#         modified_args = [i.upper() for i in args]\n",
    "#         print('args',modified_args)\n",
    "        res = sorted(fun(*args))\n",
    "        return res\n",
    "    return child()\n",
    "@sorting_the_order\n",
    "def get_usrs():\n",
    "    return ['usr1','usr5','usr3']\n",
    "j = get_usrs()\n",
    "print(j)"
   ]
  },
  {
   "cell_type": "code",
   "execution_count": 3,
   "id": "28e1b2ac",
   "metadata": {},
   "outputs": [
    {
     "name": "stdout",
     "output_type": "stream",
     "text": [
      "45\n",
      "23\n",
      "123\n",
      "no of cars manufactured are : 11 \n",
      "None\n"
     ]
    }
   ],
   "source": [
    "tyres =int(input())\n",
    "chasis =int(input())\n",
    "seats =int(input())\n",
    "def find_no_cars(tyres,Chasis,seats):\n",
    "    tyres=tyres//4\n",
    "    seats=seats//4\n",
    "    if chasis <= tyres and chasis <= seats:\n",
    "        print(f'no of cars manufactured are : {chasis} ')\n",
    "    elif tyres <= chasis and tyres<= seats :\n",
    "        print(f'no of cars manufactured are : {tyres} ')\n",
    "    else :\n",
    "        print(f'no of cars manufactured are : {seats} ')\n",
    "        \n",
    "print(find_no_cars(tyres,chasis,seats))"
   ]
  },
  {
   "cell_type": "code",
   "execution_count": null,
   "id": "393a655c",
   "metadata": {},
   "outputs": [],
   "source": [
    "2.Write a Python program to create a decorator function to measure the execution time of a function."
   ]
  },
  {
   "cell_type": "code",
   "execution_count": null,
   "id": "0fe39c0f",
   "metadata": {},
   "outputs": [],
   "source": [
    " "
   ]
  }
 ],
 "metadata": {
  "kernelspec": {
   "display_name": "Python 3 (ipykernel)",
   "language": "python",
   "name": "python3"
  },
  "language_info": {
   "codemirror_mode": {
    "name": "ipython",
    "version": 3
   },
   "file_extension": ".py",
   "mimetype": "text/x-python",
   "name": "python",
   "nbconvert_exporter": "python",
   "pygments_lexer": "ipython3",
   "version": "3.11.5"
  },
  "widgets": {
   "application/vnd.jupyter.widget-state+json": {
    "state": {},
    "version_major": 2,
    "version_minor": 0
   }
  }
 },
 "nbformat": 4,
 "nbformat_minor": 5
}
