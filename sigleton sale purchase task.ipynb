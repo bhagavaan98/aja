{
 "cells": [
  {
   "cell_type": "code",
   "execution_count": 4,
   "id": "b70b222e",
   "metadata": {},
   "outputs": [],
   "source": [
    "class stock:\n",
    "    def __init__(self,quantity):\n",
    "        self.quantity =quantity\n",
    "    def get_count(self):\n",
    "        return self.quantity\n",
    "class purchase:\n",
    "    def __new__(self):\n",
    "        return object.__new__(self,*args)\n",
    "    def __init__(self,c):\n",
    "        self.c=c\n",
    "        count =stock. quantity\n",
    "    def get_count(s):\n",
    "        return s.count+self.c\n",
    "class sale:\n",
    "    def __new__(self):\n",
    "        return object.__new__(self,*args)\n",
    "    def __init__(self,c):\n",
    "        self.c=c\n",
    "        count =stock. quantity\n",
    "    def get_count(s):\n",
    "        a=s.count-self.c\n",
    "        if a>0:\n",
    "            return a\n",
    "        else :\n",
    "            return 'there is no stocks '\n"
   ]
  },
  {
   "cell_type": "code",
   "execution_count": 7,
   "id": "c6282372",
   "metadata": {},
   "outputs": [
    {
     "data": {
      "text/plain": [
       "(22, 20, 8)"
      ]
     },
     "execution_count": 7,
     "metadata": {},
     "output_type": "execute_result"
    }
   ],
   "source": [
    "class Stock:\n",
    "    def __init__(self, quantity):\n",
    "        self.quantity = quantity\n",
    "\n",
    "    def get_count(self):\n",
    "        return self.quantity\n",
    "\n",
    "\n",
    "class Purchase:\n",
    "    def __init__(self, c, stock):\n",
    "        self.c = c\n",
    "        self.stock = stock\n",
    "\n",
    "    def get_count(self):\n",
    "        return self.stock.get_count() + self.c\n",
    "\n",
    "\n",
    "class Sale:\n",
    "    def __init__(self, c, stock):\n",
    "        self.c = c\n",
    "        self.stock = stock\n",
    "\n",
    "    def get_count(self):\n",
    "        a = self.stock.get_count() - self.c\n",
    "        if a > 0:\n",
    "            return a\n",
    "        else:\n",
    "            return 'There are no stocks remaining.'\n",
    "\n",
    "\n",
    "\n",
    "ps = Stock(10)\n",
    "s = Purchase(10, ps)\n",
    "s1 = Sale(2, ps)\n",
    "p = Purchase(12, ps)\n",
    "p.get_count(),s.get_count(),s1.get_count() \n"
   ]
  },
  {
   "cell_type": "code",
   "execution_count": null,
   "id": "9ae67960",
   "metadata": {},
   "outputs": [],
   "source": []
  }
 ],
 "metadata": {
  "kernelspec": {
   "display_name": "Python 3 (ipykernel)",
   "language": "python",
   "name": "python3"
  },
  "language_info": {
   "codemirror_mode": {
    "name": "ipython",
    "version": 3
   },
   "file_extension": ".py",
   "mimetype": "text/x-python",
   "name": "python",
   "nbconvert_exporter": "python",
   "pygments_lexer": "ipython3",
   "version": "3.11.5"
  }
 },
 "nbformat": 4,
 "nbformat_minor": 5
}
