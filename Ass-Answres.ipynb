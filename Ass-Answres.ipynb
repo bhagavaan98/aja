{
 "cells": [
  {
   "cell_type": "code",
   "execution_count": 3,
   "id": "8c28e524",
   "metadata": {},
   "outputs": [
    {
     "name": "stdout",
     "output_type": "stream",
     "text": [
      "48\n",
      "10\n",
      "5\n"
     ]
    }
   ],
   "source": [
    "\"\"\" Take the input from the user for(Total number of people,Number of seats for bus. Based on two\n",
    "inputs\n",
    "Decide how many number of buses required\"\"\"\n",
    "\n",
    "x = int(input())\n",
    "y = int(input())\n",
    "\n",
    "busses = x // y \n",
    "\n",
    "if x % y != 0:\n",
    "    busses = busses + 1 \n",
    "print(busses)\n"
   ]
  },
  {
   "cell_type": "code",
   "execution_count": null,
   "id": "9d024742",
   "metadata": {},
   "outputs": [],
   "source": []
  },
  {
   "cell_type": "code",
   "execution_count": 9,
   "id": "bc1db3a5",
   "metadata": {},
   "outputs": [
    {
     "data": {
      "text/plain": [
       "0"
      ]
     },
     "execution_count": 9,
     "metadata": {},
     "output_type": "execute_result"
    }
   ],
   "source": []
  },
  {
   "cell_type": "code",
   "execution_count": 4,
   "id": "64b304d9",
   "metadata": {},
   "outputs": [
    {
     "name": "stdout",
     "output_type": "stream",
     "text": [
      "3\n",
      "37.4 F\n"
     ]
    }
   ],
   "source": [
    "temp = int(input())\n",
    "F = (temp * (9 / 5)) + 32 \n",
    "print(F,\"F\")"
   ]
  },
  {
   "cell_type": "code",
   "execution_count": 6,
   "id": "e59d2587",
   "metadata": {},
   "outputs": [
    {
     "name": "stdout",
     "output_type": "stream",
     "text": [
      "20\n",
      "-6.666666666666667 C\n"
     ]
    }
   ],
   "source": [
    "temp = int(input())\n",
    "c = (temp - 32) * 5/9 \n",
    "print(c ,\"C\")\n"
   ]
  },
  {
   "cell_type": "code",
   "execution_count": null,
   "id": "e86028c0",
   "metadata": {},
   "outputs": [],
   "source": [
    "\n"
   ]
  },
  {
   "cell_type": "code",
   "execution_count": null,
   "id": "efe4ad4f",
   "metadata": {},
   "outputs": [],
   "source": [
    "from math import  sqrt\n",
    "x1,x2,x3,x4 = list(map(int,input().split()))\n",
    "v1 = (x1+x2)**2\n",
    "v2 = (x3+x4)**3\n",
    "\n",
    "total = sum([x1,x2,x3,x4])\n",
    "avg = total // 4 \n",
    "variance = (x1-avg) ** 2 + (x2-avg) ** 2 + (x3-avg) ** 2 + (x4-avg) ** 2 \n",
    "sqr_of_variance = sqrt(variance)\n",
    "\n"
   ]
  },
  {
   "cell_type": "code",
   "execution_count": null,
   "id": "3c10c7ad",
   "metadata": {},
   "outputs": [],
   "source": [
    "from math import  sqrt\n",
    "x1,x2,x3,x4 = list(map(int,input().split()))\n",
    "v1 = (x1+x2)**2\n",
    "v2 = (x3+x4)**3\n",
    "\n",
    "total = sum([x1,x2,x3,x4])\n",
    "avg = total // 4 \n",
    "variance = (x1-avg) ** 2 + (x2-avg) ** 2 + (x3-avg) ** 2 + (x4-avg) ** 2 \n",
    "sqr_of_variance = sqrt(variance)\n",
    "Y = 1.23 * (total) + 0.045\n",
    "print(total,avg,variance,sqr_of_variance,Y)"
   ]
  }
 ],
 "metadata": {
  "kernelspec": {
   "display_name": "Python 3 (ipykernel)",
   "language": "python",
   "name": "python3"
  },
  "language_info": {
   "codemirror_mode": {
    "name": "ipython",
    "version": 3
   },
   "file_extension": ".py",
   "mimetype": "text/x-python",
   "name": "python",
   "nbconvert_exporter": "python",
   "pygments_lexer": "ipython3",
   "version": "3.11.5"
  }
 },
 "nbformat": 4,
 "nbformat_minor": 5
}
