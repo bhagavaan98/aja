{
 "cells": [
  {
   "cell_type": "code",
   "execution_count": 3,
   "id": "8c28e524",
   "metadata": {},
   "outputs": [
    {
     "name": "stdout",
     "output_type": "stream",
     "text": [
      "48\n",
      "10\n",
      "5\n"
     ]
    }
   ],
   "source": [
    "\"\"\" Take the input from the user for(Total number of people,Number of seats for bus. Based on two\n",
    "inputs\n",
    "Decide how many number of buses required\"\"\"\n",
    "\n",
    "x = int(input())\n",
    "y = int(input())\n",
    "\n",
    "busses = x // y \n",
    "\n",
    "if x % y != 0:\n",
    "    busses = busses + 1 \n",
    "print(busses)\n"
   ]
  },
  {
   "cell_type": "code",
   "execution_count": null,
   "id": "be0d1495",
   "metadata": {},
   "outputs": [],
   "source": []
  },
  {
   "cell_type": "code",
   "execution_count": null,
   "id": "67677ac2",
   "metadata": {},
   "outputs": [],
   "source": []
  },
  {
   "cell_type": "code",
   "execution_count": null,
   "id": "1eb02db7",
   "metadata": {},
   "outputs": [],
   "source": []
  },
  {
   "cell_type": "code",
   "execution_count": null,
   "id": "9d024742",
   "metadata": {},
   "outputs": [],
   "source": []
  },
  {
   "cell_type": "code",
   "execution_count": 9,
   "id": "bc1db3a5",
   "metadata": {},
   "outputs": [
    {
     "data": {
      "text/plain": [
       "0"
      ]
     },
     "execution_count": 9,
     "metadata": {},
     "output_type": "execute_result"
    }
   ],
   "source": []
  },
  {
   "cell_type": "code",
   "execution_count": 4,
   "id": "64b304d9",
   "metadata": {},
   "outputs": [
    {
     "name": "stdout",
     "output_type": "stream",
     "text": [
      "3\n",
      "37.4 F\n"
     ]
    }
   ],
   "source": [
    "temp = int(input())\n",
    "F = (temp * (9 / 5)) + 32 \n",
    "print(F,\"F\")"
   ]
  },
  {
   "cell_type": "code",
   "execution_count": 6,
   "id": "e59d2587",
   "metadata": {},
   "outputs": [
    {
     "name": "stdout",
     "output_type": "stream",
     "text": [
      "20\n",
      "-6.666666666666667 C\n"
     ]
    }
   ],
   "source": [
    "temp = int(input())\n",
    "c = (temp - 32) * 5/9 \n",
    "print(c ,\"C\")\n"
   ]
  },
  {
   "cell_type": "code",
   "execution_count": null,
   "id": "e86028c0",
   "metadata": {},
   "outputs": [],
   "source": [
    "\n"
   ]
  },
  {
   "cell_type": "code",
   "execution_count": null,
   "id": "efe4ad4f",
   "metadata": {},
   "outputs": [],
   "source": [
    "from math import  sqrt\n",
    "x1,x2,x3,x4 = list(map(int,input().split()))\n",
    "v1 = (x1+x2)**2\n",
    "v2 = (x3+x4)**3\n",
    "\n",
    "total = sum([x1,x2,x3,x4])\n",
    "avg = total // 4 \n",
    "variance = (x1-avg) ** 2 + (x2-avg) ** 2 + (x3-avg) ** 2 + (x4-avg) ** 2 \n",
    "sqr_of_variance = sqrt(variance)\n",
    "\n"
   ]
  },
  {
   "cell_type": "code",
   "execution_count": null,
   "id": "3c10c7ad",
   "metadata": {},
   "outputs": [],
   "source": [
    "from math import  sqrt\n",
    "x1,x2,x3,x4 = list(map(int,input().split()))\n",
    "v1 = (x1+x2)**2\n",
    "v2 = (x3+x4)**3\n",
    "\n",
    "total = sum([x1,x2,x3,x4])\n",
    "avg = total // 4 \n",
    "variance = (x1-avg) ** 2 + (x2-avg) ** 2 + (x3-avg) ** 2 + (x4-avg) ** 2 \n",
    "sqr_of_variance = sqrt(variance)\n",
    "Y = 1.23 * (total) + 0.045\n",
    "print(total,avg,variance,sqr_of_variance,Y)\n",
    "\n"
   ]
  },
  {
   "cell_type": "code",
   "execution_count": null,
   "id": "347597ef",
   "metadata": {},
   "outputs": [],
   "source": []
  },
  {
   "cell_type": "code",
   "execution_count": 1,
   "id": "891e06d3",
   "metadata": {},
   "outputs": [
    {
     "name": "stdout",
     "output_type": "stream",
     "text": [
      "2\n",
      "200000 cm\n",
      "2000 m\n",
      "2000000.0 mm\n",
      "49431.538 cents\n",
      "6561.68 feets\n"
     ]
    }
   ],
   "source": [
    "distance = int(input())\n",
    "print(distance * 100000 , \"cm\")\n",
    "print(distance * 1000 , \"m\")\n",
    "print(distance * 1000000. , \"mm\")\n",
    "print(distance * 24715.769 , \"cents\")\n",
    "print(distance * 3280.84 , \"feets\")"
   ]
  },
  {
   "cell_type": "code",
   "execution_count": null,
   "id": "0ef0ca42",
   "metadata": {},
   "outputs": [],
   "source": [
    "GB = int(input())\n",
    "print(Gb * 1000 ,'MB')\n",
    "print(Gb * 1000000 ,'KB')\n",
    "print(Gb * 0.001 ,'TB')\n",
    "print(Gb * 10 ** (-6) ,'PB')\n"
   ]
  },
  {
   "cell_type": "code",
   "execution_count": null,
   "id": "97d99a98",
   "metadata": {},
   "outputs": [],
   "source": []
  },
  {
   "cell_type": "code",
   "execution_count": null,
   "id": "8922145a",
   "metadata": {},
   "outputs": [],
   "source": [
    "GB = int(input())\n",
    "print(Gb * 1000 ,'MB')\n",
    "print(Gb * 1000000 ,'KB')\n",
    "print(Gb * 0.001 ,'TB')\n",
    "print(Gb * 10 ** (-6) ,'PB')"
   ]
  },
  {
   "cell_type": "code",
   "execution_count": 2,
   "id": "bac45690",
   "metadata": {},
   "outputs": [
    {
     "name": "stdout",
     "output_type": "stream",
     "text": [
      "Lakshmi\n",
      "20\n",
      "45.5\n",
      "Name:Lakshmi, Age:20, Height:45.5\n"
     ]
    }
   ],
   "source": [
    "name = input()\n",
    "age = int(input())\n",
    "height = input()\n",
    "print(f\"Name:{name}, Age:{age}, Height:{float(height)}\")"
   ]
  },
  {
   "cell_type": "code",
   "execution_count": 3,
   "id": "b6f3593c",
   "metadata": {},
   "outputs": [
    {
     "name": "stdout",
     "output_type": "stream",
     "text": [
      "20\n",
      "1.75\n",
      "6.530612244897959\n"
     ]
    }
   ],
   "source": [
    "weight = int(input())\n",
    "height = float(input())\n",
    "print(weight/ (height * height))"
   ]
  },
  {
   "cell_type": "code",
   "execution_count": 7,
   "id": "e5f871e2",
   "metadata": {},
   "outputs": [
    {
     "ename": "SyntaxError",
     "evalue": "invalid syntax (218364285.py, line 1)",
     "output_type": "error",
     "traceback": [
      "\u001b[1;36m  Cell \u001b[1;32mIn[7], line 1\u001b[1;36m\u001b[0m\n\u001b[1;33m    name=&quot;Jayaram&quot;\u001b[0m\n\u001b[1;37m         ^\u001b[0m\n\u001b[1;31mSyntaxError\u001b[0m\u001b[1;31m:\u001b[0m invalid syntax\n"
     ]
    }
   ],
   "source": [
    "name=&quot;Jayaram&quot;\n",
    "age=1.6\n",
    "height=3.5356234\n",
    "weight=10.343856783\n",
    "print('Name:%s, Age:%f, Height:%f, Weight:%f'%(name,age,height,weight))"
   ]
  },
  {
   "cell_type": "code",
   "execution_count": 9,
   "id": "4560be81",
   "metadata": {},
   "outputs": [
    {
     "name": "stdout",
     "output_type": "stream",
     "text": [
      "Name:lakshmi Kanth, Age:1.600000, Height:3.535623, Weight:10.343857\n"
     ]
    }
   ],
   "source": [
    "name =\"lakshmi Kanth\"\n",
    "age=1.6\n",
    "height=3.5356234\n",
    "weight=10.343856783\n",
    "print('Name:%s, Age:%f, Height:%f, Weight:%f'%(name,age,height,weight))\n"
   ]
  },
  {
   "cell_type": "code",
   "execution_count": 11,
   "id": "3e274c2f",
   "metadata": {},
   "outputs": [
    {
     "name": "stdout",
     "output_type": "stream",
     "text": [
      "LAK\n",
      "lak\n"
     ]
    }
   ],
   "source": [
    "\"\"\"  Take three upper case letters from the user convert in to small case.  \"\"\"\n",
    "a = input()\n",
    "print(a.lower())"
   ]
  },
  {
   "cell_type": "code",
   "execution_count": 12,
   "id": "d3f65e5d",
   "metadata": {},
   "outputs": [
    {
     "name": "stdout",
     "output_type": "stream",
     "text": [
      "10\n",
      "20\n",
      "\n"
     ]
    }
   ],
   "source": [
    "\"\"\"take base and exponent value from the user and print like in mathematics:\"\"\"\n",
    "base = int(input())\n",
    "exponent = int(input())\n",
    "print()\n"
   ]
  },
  {
   "cell_type": "code",
   "execution_count": 14,
   "id": "8fa1f0e8",
   "metadata": {},
   "outputs": [
    {
     "name": "stdout",
     "output_type": "stream",
     "text": [
      "10\n",
      "29\n",
      "49\n",
      "total :88 , avg :29.333333333333332 , maximum :49 , minimum:10\n"
     ]
    }
   ],
   "source": [
    "\"\"\" Take some groceries cost prices and print total cost and average cost, what is the max cost, what is\n",
    "the minimum cost. \"\"\"\n",
    "\n",
    "\n",
    "soap = int(input())\n",
    "suger = int(input())\n",
    "choclate = int(input())\n",
    "\n",
    "total = sum([soap,suger,choclate])\n",
    "avg = total/3\n",
    "maximum = max([soap,suger,choclate])\n",
    "minimu = min([soap,suger,choclate])\n",
    "\n",
    "print(f\"total :{total} , avg :{avg} , maximum :{maximum} , minimum:{minimu}\")\n",
    "\n",
    "\n",
    "\n",
    "\n"
   ]
  },
  {
   "cell_type": "code",
   "execution_count": 15,
   "id": "68fbb91f",
   "metadata": {},
   "outputs": [
    {
     "name": "stdout",
     "output_type": "stream",
     "text": [
      "10\n",
      "ten\n"
     ]
    }
   ],
   "source": [
    "a = input()\n",
    "\n",
    "if a:\n",
    "    print(\"ten\")\n",
    "else :\n",
    "    print(\"not ten\")\n",
    "    "
   ]
  },
  {
   "cell_type": "code",
   "execution_count": null,
   "id": "c6af320e",
   "metadata": {},
   "outputs": [],
   "source": [
    "\"\"\" Assign “ten” value to variable it is 10 otherwise assign “Not ten” \"\"\"\n",
    "a = input()\n",
    "\n",
    "if a:\n",
    "    print(\"ten\")\n",
    "else :\n",
    "    print(\"not ten\")"
   ]
  },
  {
   "cell_type": "code",
   "execution_count": 17,
   "id": "5753f646",
   "metadata": {},
   "outputs": [
    {
     "name": "stdout",
     "output_type": "stream",
     "text": [
      "120\n",
      "4\n",
      "20\n",
      "2\n",
      "sufficient busses\n"
     ]
    }
   ],
   "source": [
    "\"\"\" Take the input from the user for(Total number of people, total number of buses, Number of\n",
    "seats for bus, adjust factor). Based on four inputs\n",
    "Decide whether there is sufficient buses or not and give solution for how many extra buses\n",
    "required. \"\"\"\n",
    "\n",
    "\n",
    "people = int(input())\n",
    "busses = int(input())\n",
    "seats = int(input())\n",
    "adjust_factor = int(input())\n",
    "\n",
    "\n",
    "total_no_seats = busses * seats * adjust_factor \n",
    "\n",
    "n = people // total_no_seats \n",
    "\n",
    "if n > 0:\n",
    "    print(f\"no_of_busses_required :{n}\")\n",
    "else :\n",
    "    print(\"sufficient busses\")\n",
    "\n",
    "\n",
    "\n",
    "\n",
    "\n",
    "\n"
   ]
  },
  {
   "cell_type": "code",
   "execution_count": null,
   "id": "9b82e154",
   "metadata": {},
   "outputs": [],
   "source": [
    "\"\"\"  14.Take number from the user decide whether it is even or odd. \"\"\"\n",
    "\n",
    "\n",
    "a = int(input())\n",
    "\n",
    "if a % 2 == 0:\n",
    "    print(\"even\")\n",
    "else :\n",
    "    print(\"odd\")\n",
    "\n",
    "\n"
   ]
  },
  {
   "cell_type": "code",
   "execution_count": 19,
   "id": "548c09b9",
   "metadata": {},
   "outputs": [
    {
     "name": "stdout",
     "output_type": "stream",
     "text": [
      "\n",
      "0\n"
     ]
    }
   ],
   "source": [
    "\"\"\"  16.take a string from the user print the length. if the user not given anything then show an error\n",
    "message  \"\"\"\n",
    "\n",
    "try  :\n",
    "    a = input()\n",
    "    print(len(a))\n",
    "    \n",
    "except EOFError :\n",
    "    print(\"Please enter the input\")\n",
    "\n"
   ]
  },
  {
   "cell_type": "code",
   "execution_count": null,
   "id": "a9be2e06",
   "metadata": {},
   "outputs": [],
   "source": [
    "\"\"\"  17.code to perform mathematical operations. take two numbers from the user and show the\n",
    "below menu\n",
    "1. add,\n",
    "2. sub,\n",
    "3. mul,\n",
    "4.div,\n",
    "5.quit\n",
    "Enter an option:\n",
    "based on the option need to perform an operations \"\"\"\n",
    "\n",
    "\n",
    "def add():\n",
    "    print(10+20)\n",
    "def sub():\n",
    "    print(20-10)\n",
    "def mul():\n",
    "    print(20*10)\n",
    "def div():\n",
    "    print(20//10)\n",
    "    \n",
    "a = input()\n",
    "\n",
    "    \n",
    "function = [add,sub,.mul,div]\n",
    "names = [\"add\",\"sub\",\"mul\",\"div\"]\n",
    "for i in zip(function,name):\n",
    "    print(i)\n",
    "\n"
   ]
  },
  {
   "cell_type": "code",
   "execution_count": null,
   "id": "3c989abc",
   "metadata": {},
   "outputs": [],
   "source": [
    "def add():\n",
    "    print(10+20)\n",
    "def sub():\n",
    "    print(20-10)\n",
    "def mul():\n",
    "    print(20*10)\n",
    "def div():\n",
    "    print(20//10)\n",
    "    \n",
    "a = input()\n",
    "\n",
    "    \n",
    "function = [add,sub,.mul,div]\n",
    "names = [\"add\",\"sub\",\"mul\",\"div\"]\n",
    "for i in zip(function,name):\n",
    "    print(i)\n",
    "print(\"ok\")\n",
    "\n",
    "\n"
   ]
  },
  {
   "cell_type": "code",
   "execution_count": 1,
   "id": "1d39ee01",
   "metadata": {},
   "outputs": [
    {
     "name": "stdout",
     "output_type": "stream",
     "text": [
      "True\n"
     ]
    }
   ],
   "source": [
    "\"\"\" write a program to chcek given substring is there in actual string or not?\n",
    "example: act=&quot;python is a pure object oriented programing language&quot;\n",
    "check whether “pure” is there in act or not.\n",
    "Note: Use in operator \"\"\"\n",
    "\n",
    "act=\"python is a pure object oriented programing language&quot\"\n",
    "\n",
    "print(\"pure\" in act.split())"
   ]
  },
  {
   "cell_type": "code",
   "execution_count": 2,
   "id": "2a7d1395",
   "metadata": {},
   "outputs": [
    {
     "name": "stdout",
     "output_type": "stream",
     "text": [
      "1\n",
      "2\n",
      "3\n"
     ]
    },
    {
     "data": {
      "text/plain": [
       "3"
      ]
     },
     "execution_count": 2,
     "metadata": {},
     "output_type": "execute_result"
    }
   ],
   "source": [
    "a = int(input())\n",
    "b = int(input())\n",
    "c = int(input())\n",
    "\n",
    "e = lambda a,b,c : a if a>c else c if a>b else b if b > c else c\n",
    "e(a,b,c)\n"
   ]
  },
  {
   "cell_type": "code",
   "execution_count": 8,
   "id": "502aa300",
   "metadata": {},
   "outputs": [
    {
     "name": "stdout",
     "output_type": "stream",
     "text": [
      "25\n",
      "M\n"
     ]
    },
    {
     "data": {
      "text/plain": [
       "'he is eligible'"
      ]
     },
     "execution_count": 8,
     "metadata": {},
     "output_type": "execute_result"
    }
   ],
   "source": [
    "age = int(input())\n",
    "gender = input()\n",
    "\n",
    "\n",
    "k = lambda age,gender :\"he is eligible\" if age > 24 else \"he is not eligale\" if gender == \"M\" else \"she if eligable\" if age > 21 else \"she is not eligable\"\n",
    "k(age,gender)"
   ]
  },
  {
   "cell_type": "code",
   "execution_count": 12,
   "id": "38b7f8a6",
   "metadata": {},
   "outputs": [
    {
     "name": "stdout",
     "output_type": "stream",
     "text": [
      "men\n",
      "15\n",
      "He Theater eligable\n",
      "Not eligable\n",
      "He marriage not eligable\n",
      "He marriage not eligable\n"
     ]
    }
   ],
   "source": [
    "\"\"\" 22. Take an age and gender from the user: and mention that what he/she can do in india.\n",
    "&quot;&quot;&quot;\n",
    "conditions\n",
    "1. Theatre: 5 for men 7 for women\n",
    "2. Voting system: 18 for men and women\n",
    "3. Marriage in india: 23 for men and for women &gt;21\n",
    "4. For govt jobs: (min:18, max:32) for men and (min:18, max:34) for women\n",
    "5. For driving licence: (min:18, max:60) for men and women\n",
    "Eligibility:\n",
    "1. theatre\n",
    "2. Voting system\n",
    "3. Marriage in india\n",
    "4. For govt obs\n",
    "5. For driving licence:\n",
    "\n",
    "Enter an option:\n",
    "Gender:\n",
    "1. men\n",
    "2. women\n",
    "Enter an option:\n",
    "Enter an age of person: \"\"\" \n",
    "\n",
    "\n",
    "\n",
    "\n",
    "gender = input()\n",
    "age = int(input())\n",
    "\n",
    "\n",
    "\n",
    "Theater = lambda gender,age :  \"He Theater eligable\" if age > 7  else \"He theater not eligable\"  if gender == \"men\" else \"He Theater eligable\" if age > 5  else \"He theater not eligable\"\n",
    "print(Theater(gender,age))\n",
    "\n",
    "Voting = lambda gender,age : \"Voting eligable\"  if age >= 18 else \"Not eligable\"\n",
    "print(Voting(gender,age))\n",
    "\n",
    "Marriage = lambda gender,age :  \"He Marriage eligable\" if age > 23  else \"He marriage not eligable\"  if gender == \"men\" else \"She Marriage eligable\" if age > 21  else \"SHe marriage not eligable\"\n",
    "print(Marriage(gender,age))\n",
    "\n",
    "\n",
    "Govt_jobs = lambda gender,age :  \"He  eligable govt_jobs\" if age >= 18 and age <= 32  else \"He  eligable govt_jobs\"  if gender == \"men\" else \"she  eligable govt_jobs\" if age >= 18 and age <= 34  else \"sHe  eligable govt_jobs\"\n",
    "print(Govt_jobs(gender,age))\n"
   ]
  },
  {
   "cell_type": "code",
   "execution_count": 14,
   "id": "c9e67176",
   "metadata": {},
   "outputs": [
    {
     "name": "stdout",
     "output_type": "stream",
     "text": [
      "1\n",
      "Goto first floor and buy windows laptop or mobile\n"
     ]
    }
   ],
   "source": [
    "\"\"\"operating systems:\n",
    "\n",
    "1.windows\n",
    "2.android\n",
    "3.mac\n",
    "Enter an option:\n",
    "\n",
    "If the user enters 1 then show &quot;Goto first floor and buy windows laptop or mobile&quot;\n",
    "If the user enters 2 then show &quot;Goto second floor and buy adroid mobiles&quot;\n",
    "If the user enters 3 then show &quot;Goto third floor and buy mac laptop or iphones&quot;\n",
    "If the user enters other than 1 or 2 or 3 then show &quot;There is only three floors, please select 1 or\n",
    "2 or 3&quot; \"\"\"\n",
    "\n",
    "\n",
    "\n",
    "\n",
    "\n",
    "a = int(input())\n",
    "\n",
    "if a == 1:\n",
    "    print(\"Goto first floor and buy windows laptop or mobile\")\n",
    "\n",
    "elif a == 2:\n",
    "    print(\"Goto second floor and buy adroid mobiles\")\n",
    "elif a == 3:\n",
    "    print(\"Goto third floor and buy mac laptop or iphones&quot\")\n",
    "\n",
    "else :\n",
    "    print(\"There is only three floors, please select 1 or 2 or 3\")\n",
    "\n"
   ]
  },
  {
   "cell_type": "code",
   "execution_count": null,
   "id": "b5a3be12",
   "metadata": {},
   "outputs": [],
   "source": [
    "\"\"\"  Take a letter from the user and print that letter belongs to which category I.e is it a small letter or\n",
    "capital letter or number or special symbol \"\"\"\n",
    "\n",
    "a = input()\n",
    "\n",
    "if ord(\"A\") <= ord(a) >= ord(\"Z\"):\n",
    "    print(\"Capital\")\n",
    "    \n",
    "elif ord(\"a\") <= ord(a) >= ord(\"z\"):\n",
    "    print(\"Small\")\n",
    "else :\n",
    "    print(\"number\")"
   ]
  },
  {
   "cell_type": "code",
   "execution_count": 17,
   "id": "f9b67b57",
   "metadata": {},
   "outputs": [
    {
     "name": "stdout",
     "output_type": "stream",
     "text": [
      "123\n",
      "True\n"
     ]
    }
   ],
   "source": [
    "\"\"\" take a string from the user and check contains only digits or not? \"\"\"\n",
    "\n",
    "a = input()\n",
    "print(a.isnumeric())"
   ]
  },
  {
   "cell_type": "code",
   "execution_count": null,
   "id": "9be6ad2e",
   "metadata": {},
   "outputs": [],
   "source": [
    "\"\"\" take a string from the user and check contains only special chars or not? \"\"\"\n",
    "a = input()\n",
    "if a.isalpha():\n",
    "    print(\"str contains no spectial charecter\")\n",
    "else :\n",
    "    print(\"str contains spectial charecter\")"
   ]
  },
  {
   "cell_type": "code",
   "execution_count": null,
   "id": "8822b7ed",
   "metadata": {},
   "outputs": [],
   "source": [
    "\"\"\" Convert the total string in to lower case. Without using lower() function. \"\"\"\n",
    "\n",
    "a = input()\n",
    "str = \"\"\n",
    "\n",
    "for i in a :\n",
    "    if i == i.upper():\n",
    "        i = chr(ord(i) + 32)\n",
    "    str = str + i \n",
    "print(str)"
   ]
  },
  {
   "cell_type": "code",
   "execution_count": 20,
   "id": "676f3c47",
   "metadata": {},
   "outputs": [
    {
     "name": "stdout",
     "output_type": "stream",
     "text": [
      "33165\n"
     ]
    }
   ],
   "source": [
    "\"\"\"Find the sum of all the multiples of 3 or 5 below 1000\"\"\"\n",
    "print(sum([i for i in range(1000) if i%3 ==0 and i%5==0]))"
   ]
  },
  {
   "cell_type": "code",
   "execution_count": 21,
   "id": "09addc3e",
   "metadata": {},
   "outputs": [
    {
     "name": "stdout",
     "output_type": "stream",
     "text": [
      "Lakara\n",
      "6\n"
     ]
    }
   ],
   "source": [
    "\"\"\" find out the index of third occurrence of given substring \"\"\"\n",
    "\n",
    "a = input()\n",
    "b = \"a\"\n",
    "\n",
    "count = 0 \n",
    "index = 0\n",
    "for i in a:\n",
    "    if i == b :\n",
    "        count = count + 1 \n",
    "        if count == 3:\n",
    "            \n",
    "            break\n",
    "            \n",
    "    index = index + 1\n",
    "print(index)"
   ]
  }
 ],
 "metadata": {
  "kernelspec": {
   "display_name": "Python 3 (ipykernel)",
   "language": "python",
   "name": "python3"
  },
  "language_info": {
   "codemirror_mode": {
    "name": "ipython",
    "version": 3
   },
   "file_extension": ".py",
   "mimetype": "text/x-python",
   "name": "python",
   "nbconvert_exporter": "python",
   "pygments_lexer": "ipython3",
   "version": "3.11.5"
  }
 },
 "nbformat": 4,
 "nbformat_minor": 5
}
