{
 "cells": [
  {
   "cell_type": "code",
   "execution_count": 1,
   "id": "2429ffd8",
   "metadata": {},
   "outputs": [
    {
     "name": "stdout",
     "output_type": "stream",
     "text": [
      "9\n"
     ]
    }
   ],
   "source": [
    "s=\"hyderabad\"\n",
    "print(len(s))"
   ]
  },
  {
   "cell_type": "code",
   "execution_count": 2,
   "id": "159d8db5",
   "metadata": {},
   "outputs": [
    {
     "ename": "TypeError",
     "evalue": "object of type 'int' has no len()",
     "output_type": "error",
     "traceback": [
      "\u001b[1;31m---------------------------------------------------------------------------\u001b[0m",
      "\u001b[1;31mTypeError\u001b[0m                                 Traceback (most recent call last)",
      "Cell \u001b[1;32mIn[2], line 1\u001b[0m\n\u001b[1;32m----> 1\u001b[0m \u001b[38;5;28mlen\u001b[39m(\u001b[38;5;241m12\u001b[39m)\n",
      "\u001b[1;31mTypeError\u001b[0m: object of type 'int' has no len()"
     ]
    }
   ],
   "source": [
    "len(12)"
   ]
  },
  {
   "cell_type": "code",
   "execution_count": 3,
   "id": "8f4dfc5f",
   "metadata": {},
   "outputs": [
    {
     "name": "stdout",
     "output_type": "stream",
     "text": [
      "['sun', 'mon', 'tue']\n"
     ]
    }
   ],
   "source": [
    "# how do you convert tupe to list\n",
    "t=[\"sun\",\"mon\",\"tue\"]\n",
    "l=list(t)\n",
    "print(l)"
   ]
  },
  {
   "cell_type": "code",
   "execution_count": 4,
   "id": "aa7f945d",
   "metadata": {},
   "outputs": [
    {
     "name": "stdout",
     "output_type": "stream",
     "text": [
      "['__add__', '__class__', '__contains__', '__delattr__', '__dir__', '__doc__', '__eq__', '__format__', '__ge__', '__getattribute__', '__getitem__', '__getnewargs__', '__getstate__', '__gt__', '__hash__', '__init__', '__init_subclass__', '__iter__', '__le__', '__len__', '__lt__', '__mod__', '__mul__', '__ne__', '__new__', '__reduce__', '__reduce_ex__', '__repr__', '__rmod__', '__rmul__', '__setattr__', '__sizeof__', '__str__', '__subclasshook__', 'capitalize', 'casefold', 'center', 'count', 'encode', 'endswith', 'expandtabs', 'find', 'format', 'format_map', 'index', 'isalnum', 'isalpha', 'isascii', 'isdecimal', 'isdigit', 'isidentifier', 'islower', 'isnumeric', 'isprintable', 'isspace', 'istitle', 'isupper', 'join', 'ljust', 'lower', 'lstrip', 'maketrans', 'partition', 'removeprefix', 'removesuffix', 'replace', 'rfind', 'rindex', 'rjust', 'rpartition', 'rsplit', 'rstrip', 'split', 'splitlines', 'startswith', 'strip', 'swapcase', 'title', 'translate', 'upper', 'zfill']\n"
     ]
    }
   ],
   "source": [
    "s=\"dsfdsa\"\n",
    "print(dir(s))"
   ]
  },
  {
   "cell_type": "code",
   "execution_count": 5,
   "id": "f79938db",
   "metadata": {},
   "outputs": [
    {
     "name": "stdout",
     "output_type": "stream",
     "text": [
      "True\n",
      "True\n",
      "True\n"
     ]
    }
   ],
   "source": [
    "s=\"1234\"\n",
    "print(s.isdigit())\n",
    "print(s.isnumeric())\n",
    "print(s.isdecimal())"
   ]
  },
  {
   "cell_type": "code",
   "execution_count": 6,
   "id": "55ecf809",
   "metadata": {},
   "outputs": [
    {
     "name": "stdout",
     "output_type": "stream",
     "text": [
      "False\n",
      "False\n",
      "False\n"
     ]
    }
   ],
   "source": [
    "s=\"12.34\"\n",
    "print(s.isdigit())\n",
    "print(s.isnumeric())\n",
    "print(s.isdecimal())"
   ]
  },
  {
   "cell_type": "code",
   "execution_count": 7,
   "id": "24639f8b",
   "metadata": {},
   "outputs": [
    {
     "name": "stdout",
     "output_type": "stream",
     "text": [
      "False\n",
      "False\n",
      "False\n"
     ]
    }
   ],
   "source": [
    "s=\"one\"\n",
    "print(s.isdigit())\n",
    "print(s.isnumeric())\n",
    "print(s.isdecimal())"
   ]
  },
  {
   "cell_type": "code",
   "execution_count": 8,
   "id": "f7487202",
   "metadata": {},
   "outputs": [
    {
     "name": "stdout",
     "output_type": "stream",
     "text": [
      "False\n",
      "False\n",
      "False\n"
     ]
    }
   ],
   "source": [
    "s=\"1one\"\n",
    "print(s.isdigit())\n",
    "print(s.isnumeric())\n",
    "print(s.isdecimal())"
   ]
  },
  {
   "cell_type": "code",
   "execution_count": 9,
   "id": "9086244f",
   "metadata": {},
   "outputs": [
    {
     "name": "stdout",
     "output_type": "stream",
     "text": [
      "False\n",
      "True\n",
      "False\n"
     ]
    }
   ],
   "source": [
    "s=\"一\"\n",
    "print(s.isdigit())\n",
    "print(s.isnumeric())\n",
    "print(s.isdecimal())"
   ]
  },
  {
   "cell_type": "code",
   "execution_count": 10,
   "id": "15b8ff01",
   "metadata": {},
   "outputs": [
    {
     "name": "stdout",
     "output_type": "stream",
     "text": [
      "False\n",
      "False\n",
      "False\n"
     ]
    }
   ],
   "source": [
    "s=\"2**4\"\n",
    "print(s.isdigit())\n",
    "print(s.isnumeric())\n",
    "print(s.isdecimal())"
   ]
  },
  {
   "cell_type": "code",
   "execution_count": 11,
   "id": "827476aa",
   "metadata": {},
   "outputs": [
    {
     "data": {
      "text/plain": [
       "16"
      ]
     },
     "execution_count": 11,
     "metadata": {},
     "output_type": "execute_result"
    }
   ],
   "source": [
    "2**4"
   ]
  },
  {
   "cell_type": "code",
   "execution_count": 13,
   "id": "ff775ba1",
   "metadata": {},
   "outputs": [
    {
     "data": {
      "text/plain": [
       "3"
      ]
     },
     "execution_count": 13,
     "metadata": {},
     "output_type": "execute_result"
    }
   ],
   "source": [
    "s=\"abcdabcdabc\"\n",
    "s.count(\"a\")"
   ]
  },
  {
   "cell_type": "code",
   "execution_count": 14,
   "id": "42afc5bf",
   "metadata": {},
   "outputs": [
    {
     "data": {
      "text/plain": [
       "12"
      ]
     },
     "execution_count": 14,
     "metadata": {},
     "output_type": "execute_result"
    }
   ],
   "source": [
    "s=\"abcdabcdabc\"\n",
    "s.count(\"\")"
   ]
  },
  {
   "cell_type": "code",
   "execution_count": 15,
   "id": "65a8d3ae",
   "metadata": {},
   "outputs": [
    {
     "name": "stdout",
     "output_type": "stream",
     "text": [
      "11\n"
     ]
    }
   ],
   "source": [
    "print(len(s))"
   ]
  },
  {
   "cell_type": "code",
   "execution_count": 16,
   "id": "166683dc",
   "metadata": {},
   "outputs": [
    {
     "data": {
      "text/plain": [
       "'AbcdAbcdAbc'"
      ]
     },
     "execution_count": 16,
     "metadata": {},
     "output_type": "execute_result"
    }
   ],
   "source": [
    "s=\"abcdabcdabc\"\n",
    "s.replace(\"a\",\"A\")"
   ]
  },
  {
   "cell_type": "code",
   "execution_count": 17,
   "id": "3b51036a",
   "metadata": {},
   "outputs": [
    {
     "data": {
      "text/plain": [
       "'AaAbAcAdAaAbAcAdAaAbAcA'"
      ]
     },
     "execution_count": 17,
     "metadata": {},
     "output_type": "execute_result"
    }
   ],
   "source": [
    "s=\"abcdabcdabc\"\n",
    "s.replace(\"\",\"A\")"
   ]
  },
  {
   "cell_type": "code",
   "execution_count": 18,
   "id": "e0993770",
   "metadata": {},
   "outputs": [
    {
     "name": "stdout",
     "output_type": "stream",
     "text": [
      "enter some str:s\n",
      "2\n"
     ]
    }
   ],
   "source": [
    "s=\"safdas\"\n",
    "inp = input(\"enter some str:\")\n",
    "print(s.count(inp))"
   ]
  },
  {
   "cell_type": "code",
   "execution_count": 19,
   "id": "fb7e1bb6",
   "metadata": {},
   "outputs": [
    {
     "name": "stdout",
     "output_type": "stream",
     "text": [
      "enter some str:2\n",
      "0\n"
     ]
    }
   ],
   "source": [
    "s=\"safdas\"\n",
    "inp = input(\"enter some str:\")\n",
    "print(s.count(inp))"
   ]
  },
  {
   "cell_type": "code",
   "execution_count": 20,
   "id": "187f8e59",
   "metadata": {},
   "outputs": [
    {
     "name": "stdout",
     "output_type": "stream",
     "text": [
      "enter some str:\n",
      "7\n"
     ]
    }
   ],
   "source": [
    "s=\"safdas\"\n",
    "inp = input(\"enter some str:\")\n",
    "print(s.count(inp))"
   ]
  },
  {
   "cell_type": "code",
   "execution_count": 21,
   "id": "c9d2e342",
   "metadata": {},
   "outputs": [
    {
     "name": "stdout",
     "output_type": "stream",
     "text": [
      "enter some str:\n",
      "0\n"
     ]
    }
   ],
   "source": [
    "s=\"safdas\"\n",
    "inp = input(\"enter some str:\")\n",
    "if inp:#bool(inp)\n",
    "    print(s.count(inp))\n",
    "else:\n",
    "    print(0)"
   ]
  },
  {
   "cell_type": "code",
   "execution_count": 22,
   "id": "6a3ffd0d",
   "metadata": {},
   "outputs": [
    {
     "data": {
      "text/plain": [
       "False"
      ]
     },
     "execution_count": 22,
     "metadata": {},
     "output_type": "execute_result"
    }
   ],
   "source": [
    "s=\"abcd\"\n",
    "s.startswith(\"A\")"
   ]
  },
  {
   "cell_type": "code",
   "execution_count": 23,
   "id": "d6cf3dd7",
   "metadata": {},
   "outputs": [
    {
     "data": {
      "text/plain": [
       "True"
      ]
     },
     "execution_count": 23,
     "metadata": {},
     "output_type": "execute_result"
    }
   ],
   "source": [
    "s=\"abcd\"\n",
    "inp = \"A\"\n",
    "s.lower().startswith(inp.lower())"
   ]
  },
  {
   "cell_type": "code",
   "execution_count": 24,
   "id": "dd833024",
   "metadata": {},
   "outputs": [
    {
     "name": "stdout",
     "output_type": "stream",
     "text": [
      "['__add__', '__class__', '__contains__', '__delattr__', '__dir__', '__doc__', '__eq__', '__format__', '__ge__', '__getattribute__', '__getitem__', '__getnewargs__', '__getstate__', '__gt__', '__hash__', '__init__', '__init_subclass__', '__iter__', '__le__', '__len__', '__lt__', '__mod__', '__mul__', '__ne__', '__new__', '__reduce__', '__reduce_ex__', '__repr__', '__rmod__', '__rmul__', '__setattr__', '__sizeof__', '__str__', '__subclasshook__', 'capitalize', 'casefold', 'center', 'count', 'encode', 'endswith', 'expandtabs', 'find', 'format', 'format_map', 'index', 'isalnum', 'isalpha', 'isascii', 'isdecimal', 'isdigit', 'isidentifier', 'islower', 'isnumeric', 'isprintable', 'isspace', 'istitle', 'isupper', 'join', 'ljust', 'lower', 'lstrip', 'maketrans', 'partition', 'removeprefix', 'removesuffix', 'replace', 'rfind', 'rindex', 'rjust', 'rpartition', 'rsplit', 'rstrip', 'split', 'splitlines', 'startswith', 'strip', 'swapcase', 'title', 'translate', 'upper', 'zfill']\n"
     ]
    }
   ],
   "source": [
    "print(dir(s))"
   ]
  },
  {
   "cell_type": "code",
   "execution_count": 25,
   "id": "2ba3f604",
   "metadata": {},
   "outputs": [
    {
     "name": "stdout",
     "output_type": "stream",
     "text": [
      "abcdef\n",
      "abcdef\n"
     ]
    }
   ],
   "source": [
    "s=\"abcDEF\"\n",
    "print(s.lower())\n",
    "print(s.casefold())"
   ]
  },
  {
   "cell_type": "code",
   "execution_count": 26,
   "id": "65542842",
   "metadata": {},
   "outputs": [
    {
     "name": "stdout",
     "output_type": "stream",
     "text": [
      "abcdEFG\n"
     ]
    }
   ],
   "source": [
    "s=\"abcdEFG\"\n",
    "l=s.casefold()#\n",
    "k=s.lower()\n",
    "print(s)"
   ]
  },
  {
   "cell_type": "code",
   "execution_count": 27,
   "id": "450b5489",
   "metadata": {},
   "outputs": [],
   "source": [
    "s.index?\n"
   ]
  },
  {
   "cell_type": "code",
   "execution_count": 28,
   "id": "92f424bf",
   "metadata": {},
   "outputs": [],
   "source": [
    "s=\"abcda\"\n",
    "s.strip?"
   ]
  },
  {
   "cell_type": "code",
   "execution_count": 29,
   "id": "a8d4bb21",
   "metadata": {},
   "outputs": [
    {
     "name": "stdout",
     "output_type": "stream",
     "text": [
      "abcd   abcd\n"
     ]
    }
   ],
   "source": [
    "s=\"   abcd   abcd   \"\n",
    "print(s.strip())"
   ]
  },
  {
   "cell_type": "code",
   "execution_count": 30,
   "id": "87fb8bc1",
   "metadata": {},
   "outputs": [
    {
     "name": "stdout",
     "output_type": "stream",
     "text": [
      "abcd   abcd\n"
     ]
    }
   ],
   "source": [
    "s=\"   abcd   abcd   \"\n",
    "print(s.strip(\" \"))"
   ]
  },
  {
   "cell_type": "code",
   "execution_count": 31,
   "id": "7b02a90c",
   "metadata": {},
   "outputs": [
    {
     "name": "stdout",
     "output_type": "stream",
     "text": [
      "#$user#$@name$#\n"
     ]
    }
   ],
   "source": [
    "s=\"@#$user#$@name$#@\"\n",
    "print(s.strip(\"@\"))"
   ]
  },
  {
   "cell_type": "code",
   "execution_count": 32,
   "id": "19312564",
   "metadata": {},
   "outputs": [
    {
     "name": "stdout",
     "output_type": "stream",
     "text": [
      "$user#$@name$\n"
     ]
    }
   ],
   "source": [
    "s=\"@#$user#$@name$#@\"\n",
    "print(s.strip(\"@#\"))"
   ]
  },
  {
   "cell_type": "code",
   "execution_count": 33,
   "id": "ee08cae1",
   "metadata": {},
   "outputs": [
    {
     "name": "stdout",
     "output_type": "stream",
     "text": [
      "False\n"
     ]
    }
   ],
   "source": [
    "s=\"abcdABCD\"\n",
    "print(s.isupper())"
   ]
  },
  {
   "cell_type": "code",
   "execution_count": 34,
   "id": "5b3aa58d",
   "metadata": {},
   "outputs": [
    {
     "name": "stdout",
     "output_type": "stream",
     "text": [
      "True\n"
     ]
    }
   ],
   "source": [
    "s=\"ABCD\"\n",
    "print(s.isupper())"
   ]
  },
  {
   "cell_type": "code",
   "execution_count": 35,
   "id": "cc02e0f2",
   "metadata": {},
   "outputs": [
    {
     "name": "stdout",
     "output_type": "stream",
     "text": [
      "True\n"
     ]
    }
   ],
   "source": [
    "s=\"ABCD#$%\"\n",
    "print(s.isupper())"
   ]
  },
  {
   "cell_type": "code",
   "execution_count": 36,
   "id": "ebb8dad6",
   "metadata": {},
   "outputs": [
    {
     "name": "stdout",
     "output_type": "stream",
     "text": [
      "True\n"
     ]
    }
   ],
   "source": [
    "s=\"ABCD#$%112345\"\n",
    "print(s.isupper())"
   ]
  },
  {
   "cell_type": "code",
   "execution_count": 37,
   "id": "914736e1",
   "metadata": {},
   "outputs": [
    {
     "name": "stdout",
     "output_type": "stream",
     "text": [
      "False\n"
     ]
    }
   ],
   "source": [
    "s=\"#$%112345\"\n",
    "print(s.isupper())"
   ]
  },
  {
   "cell_type": "code",
   "execution_count": 38,
   "id": "215f709b",
   "metadata": {},
   "outputs": [
    {
     "name": "stdout",
     "output_type": "stream",
     "text": [
      "False\n"
     ]
    }
   ],
   "source": [
    "s=\"#$%112345a\"\n",
    "print(s.isupper())"
   ]
  },
  {
   "cell_type": "code",
   "execution_count": 40,
   "id": "68998046",
   "metadata": {},
   "outputs": [
    {
     "name": "stdout",
     "output_type": "stream",
     "text": [
      "[10, 20, 30, 30, 40, 30, 20, 30]\n",
      "[10, 20, 30, 40, 30, 20, 30]\n"
     ]
    }
   ],
   "source": [
    "s=[10,20,30,30,40,30,20,30]\n",
    "print(s)\n",
    "s.remove(30)\n",
    "print(s)"
   ]
  },
  {
   "cell_type": "code",
   "execution_count": 41,
   "id": "cc401d28",
   "metadata": {},
   "outputs": [
    {
     "data": {
      "text/plain": [
       "'AbcdAbcdAbcdAbcd'"
      ]
     },
     "execution_count": 41,
     "metadata": {},
     "output_type": "execute_result"
    }
   ],
   "source": [
    "s=\"abcdabcdabcdabcd\"\n",
    "s.replace(\"a\",\"A\")"
   ]
  },
  {
   "cell_type": "code",
   "execution_count": 42,
   "id": "0442c13c",
   "metadata": {},
   "outputs": [],
   "source": [
    "s=\"abcdabcdabcdabcd\"\n",
    "s.replace?"
   ]
  },
  {
   "cell_type": "code",
   "execution_count": 43,
   "id": "d6a23ac9",
   "metadata": {},
   "outputs": [
    {
     "data": {
      "text/plain": [
       "'AbcdAbcdabcdabcd'"
      ]
     },
     "execution_count": 43,
     "metadata": {},
     "output_type": "execute_result"
    }
   ],
   "source": [
    "s=\"abcdabcdabcdabcd\"\n",
    "s.replace(\"a\",\"A\",2)"
   ]
  },
  {
   "cell_type": "code",
   "execution_count": 44,
   "id": "dade8d64",
   "metadata": {},
   "outputs": [
    {
     "data": {
      "text/plain": [
       "'AbcdAbcdAbcdAbcd'"
      ]
     },
     "execution_count": 44,
     "metadata": {},
     "output_type": "execute_result"
    }
   ],
   "source": [
    "s=\"abcdabcdabcdabcd\"\n",
    "s.replace(\"a\",\"A\",-2)"
   ]
  },
  {
   "cell_type": "code",
   "execution_count": 45,
   "id": "d4957723",
   "metadata": {},
   "outputs": [
    {
     "name": "stdout",
     "output_type": "stream",
     "text": [
      "[10, 20, 40, 20, 30]\n"
     ]
    }
   ],
   "source": [
    "s=[10,20,30,30,40,30,20,30]\n",
    "for i in s:\n",
    "    if i==30:\n",
    "        s.remove(i)\n",
    "print(s)"
   ]
  },
  {
   "cell_type": "code",
   "execution_count": 46,
   "id": "2e7f9e21",
   "metadata": {},
   "outputs": [
    {
     "name": "stdout",
     "output_type": "stream",
     "text": [
      "[10, 20, 40, 20]\n"
     ]
    }
   ],
   "source": [
    "s=[10,20,30,40,30,20,30]\n",
    "for i in s:\n",
    "    if i==30:\n",
    "        s.remove(i)\n",
    "print(s)"
   ]
  },
  {
   "cell_type": "code",
   "execution_count": 47,
   "id": "5e63fc82",
   "metadata": {},
   "outputs": [
    {
     "name": "stdout",
     "output_type": "stream",
     "text": [
      "[10, 20, 40, 20, 30]\n"
     ]
    }
   ],
   "source": [
    "s=[10,20,30,30,40,30,20,30]\n",
    "for i in s:\n",
    "    if i==30:\n",
    "        s.remove(i)\n",
    "print(s)"
   ]
  },
  {
   "cell_type": "code",
   "execution_count": 48,
   "id": "cfe91b2e",
   "metadata": {},
   "outputs": [
    {
     "name": "stdout",
     "output_type": "stream",
     "text": [
      "1666433443520\n",
      "1666433443520\n"
     ]
    }
   ],
   "source": [
    "a=[10,20,30,40]\n",
    "print(id(a))\n",
    "a.remove(30)\n",
    "print(id(a))"
   ]
  },
  {
   "cell_type": "code",
   "execution_count": 49,
   "id": "1c0d71f2",
   "metadata": {},
   "outputs": [
    {
     "name": "stdout",
     "output_type": "stream",
     "text": [
      "[10, 20, 40, 20]\n"
     ]
    }
   ],
   "source": [
    "s=[10,20,30,30,40,30,20,30]\n",
    "for i in s[::-1]:\n",
    "    if i==30:\n",
    "        s.remove(i)\n",
    "print(s)"
   ]
  },
  {
   "cell_type": "code",
   "execution_count": 1,
   "id": "f986a11b",
   "metadata": {},
   "outputs": [
    {
     "name": "stdout",
     "output_type": "stream",
     "text": [
      "abcdabcd\n",
      "AbcdAbcd\n"
     ]
    }
   ],
   "source": [
    "s=\"abcdabcd\"\n",
    "s1=s.replace(\"a\",\"A\")\n",
    "print(s)\n",
    "print(s1)"
   ]
  },
  {
   "cell_type": "code",
   "execution_count": 2,
   "id": "1d72c2c9",
   "metadata": {},
   "outputs": [
    {
     "name": "stdout",
     "output_type": "stream",
     "text": [
      "[1, 2, 3, 4, 10]\n",
      "None\n"
     ]
    }
   ],
   "source": [
    "l=[1,2,3,4]\n",
    "k=l.append(10)\n",
    "print(l)\n",
    "print(k)"
   ]
  },
  {
   "cell_type": "code",
   "execution_count": 3,
   "id": "d86c9a52",
   "metadata": {},
   "outputs": [
    {
     "name": "stdout",
     "output_type": "stream",
     "text": [
      "[1, 2, 3, 4, 'python']\n"
     ]
    }
   ],
   "source": [
    "l=[1,2,3,4]\n",
    "l.append(\"python\")\n",
    "print(l)"
   ]
  },
  {
   "cell_type": "code",
   "execution_count": 4,
   "id": "4adf46e2",
   "metadata": {},
   "outputs": [
    {
     "name": "stdout",
     "output_type": "stream",
     "text": [
      "[1, 2, 3, 4, 'p', 'y', 't', 'h', 'o', 'n']\n"
     ]
    }
   ],
   "source": [
    "l=[1,2,3,4]\n",
    "l.extend(\"python\")\n",
    "print(l)"
   ]
  },
  {
   "cell_type": "code",
   "execution_count": 6,
   "id": "faafb456",
   "metadata": {},
   "outputs": [
    {
     "name": "stdout",
     "output_type": "stream",
     "text": [
      "[1, 2, 3, 4, 10]\n"
     ]
    }
   ],
   "source": [
    "l=[1,2,3,4]\n",
    "l.append(10)\n",
    "print(l)"
   ]
  },
  {
   "cell_type": "code",
   "execution_count": 7,
   "id": "c5ad65f2",
   "metadata": {},
   "outputs": [
    {
     "ename": "TypeError",
     "evalue": "'int' object is not iterable",
     "output_type": "error",
     "traceback": [
      "\u001b[1;31m---------------------------------------------------------------------------\u001b[0m",
      "\u001b[1;31mTypeError\u001b[0m                                 Traceback (most recent call last)",
      "Cell \u001b[1;32mIn[7], line 2\u001b[0m\n\u001b[0;32m      1\u001b[0m l\u001b[38;5;241m=\u001b[39m[\u001b[38;5;241m1\u001b[39m,\u001b[38;5;241m2\u001b[39m,\u001b[38;5;241m3\u001b[39m,\u001b[38;5;241m4\u001b[39m]\n\u001b[1;32m----> 2\u001b[0m l\u001b[38;5;241m.\u001b[39mextend(\u001b[38;5;241m10\u001b[39m)\n\u001b[0;32m      3\u001b[0m \u001b[38;5;28mprint\u001b[39m(l)\n",
      "\u001b[1;31mTypeError\u001b[0m: 'int' object is not iterable"
     ]
    }
   ],
   "source": [
    "l=[1,2,3,4]\n",
    "l.extend(10)\n",
    "print(l)"
   ]
  },
  {
   "cell_type": "code",
   "execution_count": 8,
   "id": "81a9d3af",
   "metadata": {},
   "outputs": [
    {
     "name": "stdout",
     "output_type": "stream",
     "text": [
      "('name', 'jay')\n",
      "('age', 9)\n"
     ]
    }
   ],
   "source": [
    "d={\"name\":\"jay\",\"age\":9}\n",
    "for i in d.items():\n",
    "    print(i)"
   ]
  },
  {
   "cell_type": "code",
   "execution_count": 9,
   "id": "ed1cb20a",
   "metadata": {},
   "outputs": [
    {
     "name": "stdout",
     "output_type": "stream",
     "text": [
      "jay\n",
      "9\n"
     ]
    }
   ],
   "source": [
    "d={\"name\":\"jay\",\"age\":9}\n",
    "for i in d.values():\n",
    "    print(i)"
   ]
  },
  {
   "cell_type": "code",
   "execution_count": 10,
   "id": "51b0f203",
   "metadata": {},
   "outputs": [
    {
     "name": "stdout",
     "output_type": "stream",
     "text": [
      "name\n",
      "age\n"
     ]
    }
   ],
   "source": [
    "d={\"name\":\"jay\",\"age\":9}\n",
    "for i in d.keys():\n",
    "    print(i)"
   ]
  },
  {
   "cell_type": "code",
   "execution_count": 11,
   "id": "6ec9406d",
   "metadata": {},
   "outputs": [
    {
     "name": "stdout",
     "output_type": "stream",
     "text": [
      "name\n",
      "age\n"
     ]
    }
   ],
   "source": [
    "d={\"name\":\"jay\",\"age\":9}\n",
    "for i in d:\n",
    "    print(i)"
   ]
  },
  {
   "cell_type": "code",
   "execution_count": 12,
   "id": "eb1f5de7",
   "metadata": {},
   "outputs": [
    {
     "name": "stdout",
     "output_type": "stream",
     "text": [
      "[1, 2, 3, 4, 'name', 'age']\n"
     ]
    }
   ],
   "source": [
    "d={\"name\":\"jay\",\"age\":9}\n",
    "l=[1,2,3,4]\n",
    "l.extend(d)\n",
    "print(l)"
   ]
  },
  {
   "cell_type": "code",
   "execution_count": 13,
   "id": "b187990e",
   "metadata": {},
   "outputs": [
    {
     "name": "stdout",
     "output_type": "stream",
     "text": [
      "[1, 2, 3, 4, 'jay', 9]\n"
     ]
    }
   ],
   "source": [
    "d={\"name\":\"jay\",\"age\":9}\n",
    "l=[1,2,3,4]\n",
    "l.extend(d.values())\n",
    "print(l)"
   ]
  },
  {
   "cell_type": "code",
   "execution_count": 14,
   "id": "df80e021",
   "metadata": {},
   "outputs": [
    {
     "name": "stdout",
     "output_type": "stream",
     "text": [
      "['__class__', '__class_getitem__', '__contains__', '__delattr__', '__delitem__', '__dir__', '__doc__', '__eq__', '__format__', '__ge__', '__getattribute__', '__getitem__', '__getstate__', '__gt__', '__hash__', '__init__', '__init_subclass__', '__ior__', '__iter__', '__le__', '__len__', '__lt__', '__ne__', '__new__', '__or__', '__reduce__', '__reduce_ex__', '__repr__', '__reversed__', '__ror__', '__setattr__', '__setitem__', '__sizeof__', '__str__', '__subclasshook__', 'clear', 'copy', 'fromkeys', 'get', 'items', 'keys', 'pop', 'popitem', 'setdefault', 'update', 'values']\n"
     ]
    }
   ],
   "source": [
    "print(dir(d))"
   ]
  },
  {
   "cell_type": "code",
   "execution_count": 15,
   "id": "77b31bfa",
   "metadata": {},
   "outputs": [
    {
     "name": "stdout",
     "output_type": "stream",
     "text": [
      "[1, 2, 3, 4, ('name', 'jay'), ('age', 9)]\n"
     ]
    }
   ],
   "source": [
    "d={\"name\":\"jay\",\"age\":9}\n",
    "l=[1,2,3,4]\n",
    "l.extend(d.items())\n",
    "print(l)"
   ]
  },
  {
   "cell_type": "code",
   "execution_count": 16,
   "id": "b5dbc58c",
   "metadata": {},
   "outputs": [
    {
     "name": "stdout",
     "output_type": "stream",
     "text": [
      "dict_items([('name', 'jay'), ('age', 9)])\n",
      "[1, 2, 3, 4, ('name', 'jay'), ('age', 9)]\n"
     ]
    }
   ],
   "source": [
    "d={\"name\":\"jay\",\"age\":9}\n",
    "l=[1,2,3,4]\n",
    "print(d.items())\n",
    "l.extend(d.items())\n",
    "print(l)"
   ]
  },
  {
   "cell_type": "code",
   "execution_count": 18,
   "id": "874700ee",
   "metadata": {},
   "outputs": [
    {
     "name": "stdout",
     "output_type": "stream",
     "text": [
      "jay\n",
      "{'age': 9}\n"
     ]
    }
   ],
   "source": [
    "d={\"name\":\"jay\",\"age\":9}\n",
    "k=d.pop(\"name\")# retunrs a value\n",
    "print(k)\n",
    "print(d)"
   ]
  },
  {
   "cell_type": "code",
   "execution_count": 19,
   "id": "683c2202",
   "metadata": {},
   "outputs": [
    {
     "ename": "KeyError",
     "evalue": "'email'",
     "output_type": "error",
     "traceback": [
      "\u001b[1;31m---------------------------------------------------------------------------\u001b[0m",
      "\u001b[1;31mKeyError\u001b[0m                                  Traceback (most recent call last)",
      "Cell \u001b[1;32mIn[19], line 2\u001b[0m\n\u001b[0;32m      1\u001b[0m d\u001b[38;5;241m=\u001b[39m{\u001b[38;5;124m\"\u001b[39m\u001b[38;5;124mname\u001b[39m\u001b[38;5;124m\"\u001b[39m:\u001b[38;5;124m\"\u001b[39m\u001b[38;5;124mjay\u001b[39m\u001b[38;5;124m\"\u001b[39m,\u001b[38;5;124m\"\u001b[39m\u001b[38;5;124mage\u001b[39m\u001b[38;5;124m\"\u001b[39m:\u001b[38;5;241m9\u001b[39m}\n\u001b[1;32m----> 2\u001b[0m k\u001b[38;5;241m=\u001b[39md\u001b[38;5;241m.\u001b[39mpop(\u001b[38;5;124m\"\u001b[39m\u001b[38;5;124memail\u001b[39m\u001b[38;5;124m\"\u001b[39m)\u001b[38;5;66;03m# retunrs a value\u001b[39;00m\n\u001b[0;32m      3\u001b[0m \u001b[38;5;28mprint\u001b[39m(k)\n\u001b[0;32m      4\u001b[0m \u001b[38;5;28mprint\u001b[39m(d)\n",
      "\u001b[1;31mKeyError\u001b[0m: 'email'"
     ]
    }
   ],
   "source": [
    "d={\"name\":\"jay\",\"age\":9}\n",
    "k=d.pop(\"email\")# retunrs a value\n",
    "print(k)\n",
    "print(d)"
   ]
  },
  {
   "cell_type": "code",
   "execution_count": 20,
   "id": "0a7ad5ed",
   "metadata": {},
   "outputs": [
    {
     "name": "stdout",
     "output_type": "stream",
     "text": [
      "None\n",
      "{'name': 'jay', 'age': 9}\n"
     ]
    }
   ],
   "source": [
    "d={\"name\":\"jay\",\"age\":9}\n",
    "try:\n",
    "    k=d.pop(\"email\")# retunrs a value\n",
    "except:\n",
    "    k=None\n",
    "print(k)\n",
    "print(d)"
   ]
  },
  {
   "cell_type": "code",
   "execution_count": 22,
   "id": "fb0d1364",
   "metadata": {},
   "outputs": [
    {
     "name": "stdout",
     "output_type": "stream",
     "text": [
      "None\n"
     ]
    }
   ],
   "source": [
    "d={\"name\":\"jay\",\"age\":9}\n",
    "k=d.pop(\"email\", None)\n",
    "print(k)"
   ]
  },
  {
   "cell_type": "code",
   "execution_count": 23,
   "id": "007b2861",
   "metadata": {},
   "outputs": [
    {
     "name": "stdout",
     "output_type": "stream",
     "text": [
      "jay\n",
      "{'name': 'jay', 'age': 9}\n"
     ]
    }
   ],
   "source": [
    "d={\"name\":\"jay\",\"age\":9}\n",
    "k=d.get(\"name\")\n",
    "print(k)\n",
    "print(d)"
   ]
  },
  {
   "cell_type": "code",
   "execution_count": 24,
   "id": "e503dccc",
   "metadata": {},
   "outputs": [
    {
     "name": "stdout",
     "output_type": "stream",
     "text": [
      "None\n",
      "{'name': 'jay', 'age': 9}\n"
     ]
    }
   ],
   "source": [
    "d={\"name\":\"jay\",\"age\":9}\n",
    "k=d.get(\"email\")\n",
    "print(k)\n",
    "print(d)"
   ]
  },
  {
   "cell_type": "code",
   "execution_count": 26,
   "id": "f87a5dd6",
   "metadata": {},
   "outputs": [
    {
     "name": "stdout",
     "output_type": "stream",
     "text": [
      "{'name': 'jay', 'age': 9, 'email': 'jay@gmail.com', 'phone': 'sdfsdf', 'adhar': 'adharqwre23'}\n"
     ]
    }
   ],
   "source": [
    "d={\"name\":\"jay\",\"age\":9,\"email\":\"jay@gmail.com\",\"phone\":\"sdfsdf\"}\n",
    "d[\"adhar\"] = \"adharqwre23\"\n",
    "print(d)"
   ]
  },
  {
   "cell_type": "code",
   "execution_count": 27,
   "id": "7bd6dd04",
   "metadata": {},
   "outputs": [
    {
     "name": "stdout",
     "output_type": "stream",
     "text": [
      "{'name': 'jay', 'age': 9, 'email': 'jay@gmail.com', 'phone': 'sdfsdf', 'adhar': 'adharqwre23'}\n"
     ]
    }
   ],
   "source": [
    "d={\"name\":\"jay\",\"age\":9,\"email\":\"jay@gmail.com\",\"phone\":\"sdfsdf\"}\n",
    "d.update({\"adhar\":\"adharqwre23\"})\n",
    "print(d)"
   ]
  },
  {
   "cell_type": "code",
   "execution_count": 28,
   "id": "ee1597fd",
   "metadata": {},
   "outputs": [
    {
     "name": "stdout",
     "output_type": "stream",
     "text": [
      "['__class__', '__class_getitem__', '__contains__', '__delattr__', '__delitem__', '__dir__', '__doc__', '__eq__', '__format__', '__ge__', '__getattribute__', '__getitem__', '__getstate__', '__gt__', '__hash__', '__init__', '__init_subclass__', '__ior__', '__iter__', '__le__', '__len__', '__lt__', '__ne__', '__new__', '__or__', '__reduce__', '__reduce_ex__', '__repr__', '__reversed__', '__ror__', '__setattr__', '__setitem__', '__sizeof__', '__str__', '__subclasshook__', 'clear', 'copy', 'fromkeys', 'get', 'items', 'keys', 'pop', 'popitem', 'setdefault', 'update', 'values']\n"
     ]
    }
   ],
   "source": [
    "print(dir(d))"
   ]
  },
  {
   "cell_type": "code",
   "execution_count": 30,
   "id": "16be66a7",
   "metadata": {},
   "outputs": [
    {
     "name": "stdout",
     "output_type": "stream",
     "text": [
      "{'name': 'jay', 'age': 9, 'email': 'jay@gmail.com', 'phone': 'sdfsdf', 'adhar': 'adharqwre23'}\n"
     ]
    }
   ],
   "source": [
    "d={\"name\":\"jay\",\"age\":9,\"email\":\"jay@gmail.com\",\"phone\":\"sdfsdf\"}\n",
    "d.setdefault(\"adhar\", \"adharqwre23\")\n",
    "print(d)"
   ]
  },
  {
   "cell_type": "code",
   "execution_count": 31,
   "id": "2f1a8924",
   "metadata": {},
   "outputs": [
    {
     "name": "stdout",
     "output_type": "stream",
     "text": [
      "{'name': 'jay', 'age': 9, 'email': 'jay@gmail.com', 'phone': 'sdfsdf'}\n"
     ]
    }
   ],
   "source": [
    "d={\"name\":\"jay\",\"age\":9,\"email\":\"jay@gmail.com\",\"phone\":\"sdfsdf\"}\n",
    "d.setdefault(\"age\", 10)\n",
    "print(d)"
   ]
  },
  {
   "cell_type": "code",
   "execution_count": 32,
   "id": "cd8b7aa5",
   "metadata": {},
   "outputs": [
    {
     "name": "stdout",
     "output_type": "stream",
     "text": [
      "{'name': 'jay', 'age': 10, 'email': 'jay@gmail.com', 'phone': 'sdfsdf', 'adhar': 'adharqwre23'}\n"
     ]
    }
   ],
   "source": [
    "d={\"name\":\"jay\",\"age\":9,\"email\":\"jay@gmail.com\",\"phone\":\"sdfsdf\"}\n",
    "d.update({\"adhar\":\"adharqwre23\",\"age\":10})\n",
    "print(d)"
   ]
  },
  {
   "cell_type": "code",
   "execution_count": 33,
   "id": "516e9b83",
   "metadata": {},
   "outputs": [
    {
     "name": "stdout",
     "output_type": "stream",
     "text": [
      "jay\n"
     ]
    }
   ],
   "source": [
    "d={\"name\":\"jay\",\"age\":9,\"email\":\"jay@gmail.com\",\"phone\":\"sdfsdf\"}\n",
    "v=d.pop(\"name\")\n",
    "print(v)"
   ]
  },
  {
   "cell_type": "code",
   "execution_count": 34,
   "id": "5b94f589",
   "metadata": {},
   "outputs": [
    {
     "name": "stdout",
     "output_type": "stream",
     "text": [
      "('phone', 'sdfsdf')\n"
     ]
    }
   ],
   "source": [
    "d={\"name\":\"jay\",\"age\":9,\"email\":\"jay@gmail.com\",\"phone\":\"sdfsdf\"}\n",
    "v=d.popitem()\n",
    "print(v)"
   ]
  },
  {
   "cell_type": "code",
   "execution_count": 35,
   "id": "38983610",
   "metadata": {},
   "outputs": [],
   "source": [
    "d.popitem?"
   ]
  },
  {
   "cell_type": "code",
   "execution_count": 36,
   "id": "64fa3bd2",
   "metadata": {},
   "outputs": [
    {
     "name": "stdout",
     "output_type": "stream",
     "text": [
      "None\n",
      "{}\n"
     ]
    }
   ],
   "source": [
    "d={\"name\":\"jay\",\"age\":9,\"email\":\"jay@gmail.com\",\"phone\":\"sdfsdf\"}\n",
    "v=d.clear()\n",
    "print(v)\n",
    "print(d)"
   ]
  },
  {
   "cell_type": "code",
   "execution_count": 37,
   "id": "bf151af6",
   "metadata": {},
   "outputs": [
    {
     "name": "stdout",
     "output_type": "stream",
     "text": [
      "['__class__', '__class_getitem__', '__contains__', '__delattr__', '__delitem__', '__dir__', '__doc__', '__eq__', '__format__', '__ge__', '__getattribute__', '__getitem__', '__getstate__', '__gt__', '__hash__', '__init__', '__init_subclass__', '__ior__', '__iter__', '__le__', '__len__', '__lt__', '__ne__', '__new__', '__or__', '__reduce__', '__reduce_ex__', '__repr__', '__reversed__', '__ror__', '__setattr__', '__setitem__', '__sizeof__', '__str__', '__subclasshook__', 'clear', 'copy', 'fromkeys', 'get', 'items', 'keys', 'pop', 'popitem', 'setdefault', 'update', 'values']\n"
     ]
    }
   ],
   "source": [
    "print(dir(d))"
   ]
  },
  {
   "cell_type": "code",
   "execution_count": null,
   "id": "5076a0a1",
   "metadata": {},
   "outputs": [],
   "source": [
    "l=[\"jay\",\"vedha\",\"chaithu\",\"jay\",\"ram\",\"anvesh\",\"jay\",\"vedha\"]\n",
    "res = {\"jay\":3,\"vedha\":2,\"chaithu\":1,\"ram\":1,\"anvesh\":1}"
   ]
  },
  {
   "cell_type": "code",
   "execution_count": 38,
   "id": "1b04e16b",
   "metadata": {},
   "outputs": [
    {
     "name": "stdout",
     "output_type": "stream",
     "text": [
      "[1, 2, 3, 4, 'jay', 'vedha']\n"
     ]
    }
   ],
   "source": [
    "l=[1,2,3,4]\n",
    "l.extend({\"jay\":3,\"vedha\":2})\n",
    "print(l)"
   ]
  },
  {
   "cell_type": "code",
   "execution_count": 39,
   "id": "29deb4b7",
   "metadata": {},
   "outputs": [
    {
     "name": "stdout",
     "output_type": "stream",
     "text": [
      "[1, 2, 3, 4, {'jay': 3, 'vedha': 2}]\n"
     ]
    }
   ],
   "source": [
    "l=[1,2,3,4]\n",
    "l.append({\"jay\":3,\"vedha\":2})\n",
    "print(l)"
   ]
  },
  {
   "cell_type": "code",
   "execution_count": 40,
   "id": "4c258dac",
   "metadata": {},
   "outputs": [
    {
     "ename": "TypeError",
     "evalue": "'int' object is not iterable",
     "output_type": "error",
     "traceback": [
      "\u001b[1;31m---------------------------------------------------------------------------\u001b[0m",
      "\u001b[1;31mTypeError\u001b[0m                                 Traceback (most recent call last)",
      "Cell \u001b[1;32mIn[40], line 2\u001b[0m\n\u001b[0;32m      1\u001b[0m l\u001b[38;5;241m=\u001b[39m[\u001b[38;5;241m1\u001b[39m,\u001b[38;5;241m2\u001b[39m,\u001b[38;5;241m3\u001b[39m,\u001b[38;5;241m4\u001b[39m]\n\u001b[1;32m----> 2\u001b[0m l\u001b[38;5;241m.\u001b[39mextend(\u001b[38;5;241m100\u001b[39m)\n\u001b[0;32m      3\u001b[0m \u001b[38;5;28mprint\u001b[39m(l)\n",
      "\u001b[1;31mTypeError\u001b[0m: 'int' object is not iterable"
     ]
    }
   ],
   "source": [
    "l=[1,2,3,4]\n",
    "l.extend(100)\n",
    "print(l)"
   ]
  },
  {
   "cell_type": "code",
   "execution_count": 41,
   "id": "485e05a4",
   "metadata": {},
   "outputs": [
    {
     "name": "stdout",
     "output_type": "stream",
     "text": [
      "[1, 2, 3, 4, '1', '0', '0']\n"
     ]
    }
   ],
   "source": [
    "l=[1,2,3,4]\n",
    "l.extend(\"100\")\n",
    "print(l)"
   ]
  },
  {
   "cell_type": "code",
   "execution_count": null,
   "id": "54e0ef71",
   "metadata": {},
   "outputs": [],
   "source": []
  }
 ],
 "metadata": {
  "kernelspec": {
   "display_name": "Python 3 (ipykernel)",
   "language": "python",
   "name": "python3"
  },
  "language_info": {
   "codemirror_mode": {
    "name": "ipython",
    "version": 3
   },
   "file_extension": ".py",
   "mimetype": "text/x-python",
   "name": "python",
   "nbconvert_exporter": "python",
   "pygments_lexer": "ipython3",
   "version": "3.11.5"
  }
 },
 "nbformat": 4,
 "nbformat_minor": 5
}
