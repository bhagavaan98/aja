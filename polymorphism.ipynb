{
 "cells": [
  {
   "cell_type": "code",
   "execution_count": 12,
   "id": "4544b8ad",
   "metadata": {},
   "outputs": [
    {
     "data": {
      "text/plain": [
       "690"
      ]
     },
     "execution_count": 12,
     "metadata": {},
     "output_type": "execute_result"
    }
   ],
   "source": [
    "class meor:\n",
    "    def __init__(self,name,email):\n",
    "        self.name = name\n",
    "        self.email =email\n",
    "    def __add__(self1,self2):\n",
    "        return 690\n",
    "    \n",
    "a1=meor(25,30)\n",
    "a2 =meor(44,63)\n",
    "# a3 =meor(4,63)\n",
    "a1+a2#+a3\n",
    "\n"
   ]
  },
  {
   "cell_type": "code",
   "execution_count": 36,
   "id": "48e7e6c0",
   "metadata": {},
   "outputs": [
    {
     "data": {
      "text/plain": [
       "(73, 99)"
      ]
     },
     "execution_count": 36,
     "metadata": {},
     "output_type": "execute_result"
    }
   ],
   "source": [
    "class meor:\n",
    "    def __init__(self,name,email):\n",
    "        self.name = name\n",
    "        self.email =email\n",
    "    def __add__(self1,self2):\n",
    "        new_instance =self1.__class__(self1.name+self2.name,self2.email+self1.email)\n",
    "        \n",
    "        return new_instance\n",
    "    \n",
    "a1=meor(25,30)\n",
    "a2 =meor(44,63)\n",
    "a3=meor(4,6)\n",
    "# a3 =meor(4,63)\n",
    "a=a1+a2+a3\n",
    "a.name,a.email"
   ]
  },
  {
   "cell_type": "code",
   "execution_count": 28,
   "id": "e7766b83",
   "metadata": {},
   "outputs": [
    {
     "name": "stdout",
     "output_type": "stream",
     "text": [
      "69 93\n"
     ]
    }
   ],
   "source": [
    "class meor:\n",
    "    def __init__(self,name,email):\n",
    "        self.name = name\n",
    "        self.email =email\n",
    "    def __add__(self1,self2):\n",
    "        new_name = self1.name +self2.name\n",
    "        email= self1.email +self2.email\n",
    "        new_instance =self1.__class__(new_name,email)\n",
    "        return new_instance\n",
    "        \n",
    "    \n",
    "a1=meor(25,30)\n",
    "a2 =meor(44,63)\n",
    "a=a1+a2\n",
    "print(a.name,a.email)\n"
   ]
  },
  {
   "cell_type": "code",
   "execution_count": null,
   "id": "a8779425",
   "metadata": {},
   "outputs": [],
   "source": [
    "\n"
   ]
  },
  {
   "cell_type": "code",
   "execution_count": null,
   "id": "6b5a2038",
   "metadata": {},
   "outputs": [],
   "source": []
  },
  {
   "cell_type": "code",
   "execution_count": 3,
   "id": "67bef54d",
   "metadata": {},
   "outputs": [],
   "source": [
    "#Define a Numbers class to work with #__mul__, __div__, __sub__\n",
    "class proportions:\n",
    "    def __init__(self,x,y):\n",
    "        self.x=x\n",
    "        self.y=y\n",
    "    def __mul__(s1,s2):\n",
    "        z=[s1.x*s2.y,s1.y*s2.x]\n",
    "        return z[0]/z[1]\n",
    "n1=proportions(2,3)\n",
    "n2=proportions(4,5)\n",
    "#print(n1*n2)\n",
    "class operatorcheck:\n",
    "    def __init__(self,x,y,z):        \n",
    "        self.x=x\n",
    "        self.y=y\n",
    "        self.z=z\n",
    "    def __mul__(s1,s2):\n",
    "        new_instace=s1.__class__(s1.x*s2.x,s1.y*s2.y,s1.z*s2.z)\n",
    "        return new_instace\n",
    "n=operatorcheck(1,2,3)\n",
    "n1=operatorcheck(1,2,3)\n",
    "n2=operatorcheck(1,2,3)\n",
    "n3=operatorcheck(1,2,3)\n",
    "xx=n*n1*n2*n3\n",
    "# xx.x,xx.y\n",
    "\n",
    "\n",
    "class operatorcheck:\n",
    "    def __init__(self,x,y):        \n",
    "        self.x=x\n",
    "        self.y=y\n",
    "    def __div__(s1,s2):\n",
    "        xx=(s1.x+s2.x)/2\n",
    "        yy=(s1.y+s2.y)/2\n",
    "        return (xx,yy)\n",
    "n=operatorcheck(1,2)\n",
    "n1=operatorcheck(1,2)\n"
   ]
  },
  {
   "cell_type": "code",
   "execution_count": 4,
   "id": "a40f3cbc",
   "metadata": {},
   "outputs": [
    {
     "data": {
      "text/plain": [
       "<bound method emp.get_email of <__main__.emp object at 0x0000014874CFED50>>"
      ]
     },
     "execution_count": 4,
     "metadata": {},
     "output_type": "execute_result"
    }
   ],
   "source": [
    "# Define a class Emp: one attribute email: we shoul secure this email attribute.\n",
    "# Out side the class we should not the data if some try to access by using an attribute\n",
    "# We should allow them to access through method only.\n",
    "encytption=''.maketrans('abcjhklz','!@#$%^&*')\n",
    "class emp:\n",
    "    def __init__(self,name,email):\n",
    "        self.name=name\n",
    "        self.email= email\n",
    "    def get_email(self):\n",
    "        return self.email\n",
    "#     def __getattribute__(self):\n",
    "#         return getattr(self.email).translate(encytption)\n",
    "obj =emp('govardha','gibjhbj@gmail.com')\n",
    "# print(obj.email)\n",
    "obj.get_email\n",
    "        "
   ]
  },
  {
   "cell_type": "code",
   "execution_count": null,
   "id": "00239b1b",
   "metadata": {},
   "outputs": [],
   "source": [
    "enc_trans = \"\".maketrans(\"abcdefgh\",\"!@#$%^&*\")\n",
    "dec_trans = \"\".maketrans(\"!@#$%^&*\",\"abcdefgh\")\n",
    "securedattrs = (\"email\",)\n",
    "class Emp:\n",
    "    def __init__(self,name,email):\n",
    "        self.name=name\n",
    "        self.email=email\n",
    "    def __getattribute__(self, attr):\n",
    "        print(attr, type(attr))\n",
    "        return getattr(self, attr)\n",
    "    def get_email(self):\n",
    "        return self.email.translate(dec_trans)\n",
    "\n",
    "\n",
    "jay = Emp(\"jairam\",\"jay@gmail.com\")\n",
    "print(jay.email)\n",
    "print(jay.name)"
   ]
  },
  {
   "cell_type": "code",
   "execution_count": null,
   "id": "c3c85deb",
   "metadata": {},
   "outputs": [],
   "source": [
    "enc_trans = \"\".maketrans(\"abcdefgh\",\"!@#$%^&*\")\n",
    "dec_trans = \"\".maketrans(\"!@#$%^&*\",\"abcdefgh\")\n",
    "securedattrs = (\"email\",)\n",
    "class Emp:\n",
    "    def __init__(self, name, email):\n",
    "        self.name = name\n",
    "        self.email = email\n",
    "\n",
    "    def __getattribute__(self, attr):\n",
    "        if attr in securedattrs:\n",
    "            return getattr(self, attr).translate(dec_trans)\n",
    "        return super().__getattribute__(attr)\n",
    "\n",
    "jay = Emp(\"jairam\", \"jay@gmail.com\")\n",
    "print(jay.email)  # Output: j%^y@gmail.com (characters translated according to dec_trans)\n",
    "print(jay.name)   \n"
   ]
  },
  {
   "cell_type": "code",
   "execution_count": 4,
   "id": "d44b7094",
   "metadata": {},
   "outputs": [
    {
     "name": "stdout",
     "output_type": "stream",
     "text": [
      "['__class__', '__class_getitem__', '__contains__', '__delattr__', '__delitem__', '__dir__', '__doc__', '__eq__', '__format__', '__ge__', '__getattribute__', '__getitem__', '__getstate__', '__gt__', '__hash__', '__init__', '__init_subclass__', '__ior__', '__iter__', '__le__', '__len__', '__lt__', '__ne__', '__new__', '__or__', '__reduce__', '__reduce_ex__', '__repr__', '__reversed__', '__ror__', '__setattr__', '__setitem__', '__sizeof__', '__str__', '__subclasshook__', 'clear', 'copy', 'fromkeys', 'get', 'items', 'keys', 'pop', 'popitem', 'setdefault', 'update', 'values']\n"
     ]
    }
   ],
   "source": [
    "enc_trans = \"govard\".maketrans(\"abcdefgh\",\"!@#$%^&*\")\n",
    "# print(translate(enc_trans))\n",
    "print(dir(enc_trans))"
   ]
  },
  {
   "cell_type": "code",
   "execution_count": null,
   "id": "d82a86f9",
   "metadata": {},
   "outputs": [],
   "source": [
    "class aja:\n",
    "    def __init__(self,name,email):\n",
    "        self.name=name\n",
    "        self.email = email\n",
    "    \n",
    "    def org(self):\n",
    "        return self.name\n",
    "aa=aja('gob','jk@gma')\n"
   ]
  }
 ],
 "metadata": {
  "kernelspec": {
   "display_name": "Python 3 (ipykernel)",
   "language": "python",
   "name": "python3"
  },
  "language_info": {
   "codemirror_mode": {
    "name": "ipython",
    "version": 3
   },
   "file_extension": ".py",
   "mimetype": "text/x-python",
   "name": "python",
   "nbconvert_exporter": "python",
   "pygments_lexer": "ipython3",
   "version": "3.11.5"
  }
 },
 "nbformat": 4,
 "nbformat_minor": 5
}
