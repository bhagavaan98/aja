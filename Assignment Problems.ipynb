{
 "cells": [
  {
   "cell_type": "markdown",
   "id": "8b9d880e",
   "metadata": {},
   "source": [
    "# Assignments on variables expressions and statements"
   ]
  },
  {
   "cell_type": "code",
   "execution_count": 56,
   "id": "42a067d2",
   "metadata": {},
   "outputs": [
    {
     "name": "stdout",
     "output_type": "stream",
     "text": [
      "34\n",
      "21\n",
      "2\n"
     ]
    }
   ],
   "source": [
    "##1.\tTake the input from the user for(Total number of people,Number of seats for bus. Based on two inputs\n",
    "##Decide how many number of buses required\n",
    "\n",
    "no_of_people = int(input())\n",
    "no_of_seats = int(input())\n",
    "no_of_bus = no_of_people//no_of_seats\n",
    "if no_of_people%no_of_seats != 0:\n",
    "    no_of_bus += 1\n",
    "print(no_of_bus)"
   ]
  },
  {
   "cell_type": "code",
   "execution_count": null,
   "id": "3d664162",
   "metadata": {},
   "outputs": [],
   "source": [
    "##2.Take temperature from the user and convert foreign heat -> Celsius.\n",
    "temp_f = float(input())\n",
    "temp_c = (temp_f-32)*(5/9)\n",
    "print(f'{temp_c}C')\n",
    "\n"
   ]
  },
  {
   "cell_type": "code",
   "execution_count": 12,
   "id": "efad0f5c",
   "metadata": {},
   "outputs": [
    {
     "name": "stdout",
     "output_type": "stream",
     "text": [
      "212\n",
      "413.6F\n"
     ]
    }
   ],
   "source": [
    "##3.Take temperature from the user and convert Celsius → foreign heat.\n",
    "temp_c = float(input())\n",
    "temp_f = temp_c*(9/5)+32\n",
    "print(f'{temp_f}F')"
   ]
  },
  {
   "cell_type": "code",
   "execution_count": 15,
   "id": "ff9406e8",
   "metadata": {},
   "outputs": [
    {
     "name": "stdout",
     "output_type": "stream",
     "text": [
      "1 2 3 4\n",
      "9.0\n",
      "343.0\n",
      "1.25\n",
      "1.118033988749895\n",
      "12.345\n",
      "2.5\n",
      "10.0\n"
     ]
    }
   ],
   "source": [
    "'''\n",
    "4.Take four number from the user (variables name it as x1,x2,x3,x4)\n",
    " Do the below operations\n",
    " (x1+x2)**2, (x3+x4)**3\n",
    "variance\n",
    "standard deviation: sqrt(variance):  User math module. Math.sqrt(variance)\n",
    "Regression\n",
    "\ty=mx+b\n",
    "          m=1.23\n",
    "          b=0.045\n",
    "          find out y\n",
    "          y=m*(x1+x2+x3+x4)+b\n",
    " Find the average of four numbers\n",
    "Find the sum of four numbers\n",
    "\n",
    "'''\n",
    "import math\n",
    "x1,x2,x3,x4 = map(float,input().split())\n",
    "res1 = (x1+x2)**2\n",
    "res2 = (x3+x4)**3\n",
    "mean = (x1+x2+x3+x4)/4\n",
    "varience = ((x1-mean)**2 + (x2-mean)**2 + (x3-mean)**2 + (x4-mean)**2)/4\n",
    "std_dev = math.sqrt(varience)\n",
    "y = 1.23*(x1+x2+x3+x4)+0.045\n",
    "avg = mean\n",
    "sum_of_four = x1+x2+x3+x4\n",
    "print(res1)\n",
    "print(res2)\n",
    "print(varience)\n",
    "print(std_dev)\n",
    "print(y)\n",
    "print(avg)\n",
    "print(sum_of_four)\n"
   ]
  },
  {
   "cell_type": "code",
   "execution_count": 19,
   "id": "e0ff496b",
   "metadata": {},
   "outputs": [
    {
     "name": "stdout",
     "output_type": "stream",
     "text": [
      "43.21\n",
      "The 43.21KM to CM is 4321000.0CM\n",
      "The 43.21KM to M is 43210.0M\n",
      "The 43.21KM to MM is 43210000.0MM\n",
      "The 43.21KM to Cents is 1701182.021\n",
      "The 43.21KM to Feets is 141765.0964\n",
      "The 43.21KM to Yards is 47254.8881\n"
     ]
    }
   ],
   "source": [
    "## 5.Take the distance in km\n",
    "##  \tShow that in cm, meters, in milli meters, cents, feets, yards\n",
    "distance_km = float(input())\n",
    "print(f\"The {distance_km}KM to CM is {distance_km*100000}CM\")\n",
    "print(f\"The {distance_km}KM to M is {distance_km*1000}M\")\n",
    "print(f\"The {distance_km}KM to MM is {distance_km*1000000}MM\")\n",
    "print(f\"The {distance_km}KM to Cents is {distance_km*39370.1}\")\n",
    "print(f\"The {distance_km}KM to Feets is {distance_km*3280.84}\")\n",
    "print(f\"The {distance_km}KM to Yards is {distance_km*1093.61}\")\n"
   ]
  },
  {
   "cell_type": "code",
   "execution_count": 22,
   "id": "bef9f34e",
   "metadata": {},
   "outputs": [
    {
     "name": "stdout",
     "output_type": "stream",
     "text": [
      "Enter size in GB:- 122\n",
      "The size in 122.0GB to MB is 122000.0MB\n",
      "The size in 122.0GB to KB is 122000000.0MB\n",
      "The size in 122.0GB to TB is 0.122TB\n",
      "The size in 122.0GB to PB is 0.000122PB\n"
     ]
    }
   ],
   "source": [
    "## 6.Take the size of your hard disk in GB\n",
    "##   \tShow that in MB, KB, TB, PB\n",
    "disk_size = float(input(\"Enter size in GB:- \"))\n",
    "print(f'The size in {disk_size}GB to MB is {disk_size*1000}MB')\n",
    "print(f'The size in {disk_size}GB to KB is {disk_size*1000000}MB')\n",
    "print(f'The size in {disk_size}GB to TB is {disk_size*0.001}TB')\n",
    "print(f'The size in {disk_size}GB to PB is {disk_size/1000000}PB')\n",
    "\n"
   ]
  },
  {
   "cell_type": "code",
   "execution_count": 25,
   "id": "396bdf08",
   "metadata": {},
   "outputs": [
    {
     "name": "stdout",
     "output_type": "stream",
     "text": [
      "john 32 5.1\n",
      "The details of the person: Name:john, age:32, height:5.1\n"
     ]
    }
   ],
   "source": [
    "'''\n",
    "7. Take name, age, height from the user and print like below\n",
    "The details of the person: Name:name of the person, Age:age of the person, Height:height of the person\n",
    "Note: make sure that no space between : and a value and should be space after “COMA”\n",
    "'''\n",
    "name,age,height = map(str,input().split())\n",
    "print(f'The details of the person: Name:{name}, age:{age}, height:{height}')\n"
   ]
  },
  {
   "cell_type": "code",
   "execution_count": 27,
   "id": "9e22d298",
   "metadata": {},
   "outputs": [
    {
     "name": "stdout",
     "output_type": "stream",
     "text": [
      "Enter your height:- 5.2\n",
      "Enter your weight:- 66\n",
      "The BMI of yours is 2.4408284023668636\n"
     ]
    }
   ],
   "source": [
    "##8. BMI calculation: take required parameters for BMI calculation from the user and calculate BMI of the person.\n",
    "height = float(input(\"Enter your height:- \"))\n",
    "weight = float(input(\"Enter your weight:- \"))\n",
    "bmi = weight/(height**2) \n",
    "print(\"The BMI of yours is\", bmi)\n"
   ]
  },
  {
   "cell_type": "code",
   "execution_count": 1,
   "id": "2b180cab",
   "metadata": {},
   "outputs": [
    {
     "name": "stdout",
     "output_type": "stream",
     "text": [
      "Name: Jayaram, Age: 1.600000, Height: 3.535623, Weight: 10.343857\n"
     ]
    }
   ],
   "source": [
    "'''\n",
    "9.name=\"Jayaram\"\n",
    "age=1.6\n",
    "height=3.5356234\n",
    "weight=10.343856783\n",
    "By using above inputs print the output\n",
    "Name:Jayaram, Age:1.6, Height:3.54, Weight:10.344\n",
    "Note: Use format specifiers(%s, %d, %f)\n",
    "'''\n",
    "\n",
    "name=\"Jayaram\"\n",
    "age=1.6\n",
    "height=3.5356234\n",
    "weight=10.343856783\n",
    "info = \"Name: %s, Age: %1f, Height: %2f, Weight: %3f\"%(name, age, height, weight)\n",
    "print(info)\n",
    "\n"
   ]
  },
  {
   "cell_type": "code",
   "execution_count": 2,
   "id": "10c02816",
   "metadata": {},
   "outputs": [
    {
     "name": "stdout",
     "output_type": "stream",
     "text": [
      "Enter Three Upper Case Letters:- AAA\n",
      "aaa\n"
     ]
    }
   ],
   "source": [
    "# 10. Take three upper case letters from the user convert in to small case.\n",
    "letter = input(\"Enter Three Upper Case Letters:- \")\n",
    "print(letter.lower())"
   ]
  },
  {
   "cell_type": "code",
   "execution_count": 3,
   "id": "1bdc9aa9",
   "metadata": {},
   "outputs": [
    {
     "name": "stdout",
     "output_type": "stream",
     "text": [
      "Enter base value:- 2\n",
      "Enter exponent value:- 11\n",
      "base=2, exponent=11: 2^11\n"
     ]
    }
   ],
   "source": [
    "# 11.Take base and exponent value from the user and print like in mathematics:\n",
    "# example: base=2, exponent=3: 23\n",
    "base = input(\"Enter base value:- \")\n",
    "exponent = input(\"Enter exponent value:- \")\n",
    "ex = f'base={base}, exponent={exponent}: {base}^{exponent}'\n",
    "print(ex)\n"
   ]
  },
  {
   "cell_type": "code",
   "execution_count": 4,
   "id": "6343302a",
   "metadata": {},
   "outputs": [
    {
     "name": "stdout",
     "output_type": "stream",
     "text": [
      "Total cost:- 268\n",
      "Average cost:- 26.8\n",
      "Max cost:- 55\n"
     ]
    }
   ],
   "source": [
    "# 12. Take some groceries cost prices and print total cost and average cost, what is the max cost, what is the minimum cost.\n",
    "cost_prices = [20,10,30,8,30,33,44,55,9,29]\n",
    "total_cost = sum(cost_prices)\n",
    "avg_cost = total_cost / len(cost_prices)\n",
    "max_cost = max(cost_prices)\n",
    "min_cost = min(cost_prices)\n",
    "print(\"Total cost:-\", total_cost)\n",
    "print(\"Average cost:-\", avg_cost)\n",
    "print(\"Max cost:-\", max_cost)"
   ]
  },
  {
   "cell_type": "markdown",
   "id": "39f67aea",
   "metadata": {},
   "source": [
    "# Variable Assignments:"
   ]
  },
  {
   "cell_type": "code",
   "execution_count": 3,
   "id": "4d0e03ab",
   "metadata": {},
   "outputs": [
    {
     "name": "stdout",
     "output_type": "stream",
     "text": [
      "0\n",
      "10\n"
     ]
    }
   ],
   "source": [
    "# 13. Assign “ten” value to variable it is 10 otherwise assign “Not ten”\n",
    "# Note: write two versions of program\n",
    "# Version1: use and operator\n",
    "# Version2: use or operator\n",
    "\n",
    "v = int(input())\n",
    "if v == 0:\n",
    "    print(v or 10)\n",
    "else:\n",
    "    print(\"not ten\")\n",
    "    "
   ]
  },
  {
   "cell_type": "code",
   "execution_count": 5,
   "id": "83b77173",
   "metadata": {},
   "outputs": [
    {
     "name": "stdout",
     "output_type": "stream",
     "text": [
      "Enter value:- 1\n",
      "10\n"
     ]
    }
   ],
   "source": [
    "v = int(input(\"Enter value:- \"))\n",
    "\n",
    "if v != 0:\n",
    "    print(v and 10)\n",
    "else:\n",
    "    print(\"Not ten\")"
   ]
  },
  {
   "cell_type": "markdown",
   "id": "29e8c770",
   "metadata": {},
   "source": [
    "# Conditional statements"
   ]
  },
  {
   "cell_type": "code",
   "execution_count": 12,
   "id": "9a822d83",
   "metadata": {},
   "outputs": [
    {
     "name": "stdout",
     "output_type": "stream",
     "text": [
      "Enter number of people:- 200\n",
      "Enter number of buses:- 4\n",
      "Enter number of seats:- 20\n",
      "Enter adjust factor:- 20\n",
      "5\n",
      "Sufficient buses\n"
     ]
    }
   ],
   "source": [
    "# 13. Take the input from the user for(Total number of people, total number of buses, Number of seats\n",
    "#     for bus, adjust factor). Based on four inputs\n",
    "#     Decide whether there is sufficient buses or not and give solution for how many extra buses required.\n",
    "\n",
    "people = int(input(\"Enter number of people:- \"))\n",
    "buses = int(input(\"Enter number of buses:- \"))\n",
    "seats = int(input(\"Enter number of seats:- \"))\n",
    "factor = int(input(\"Enter adjust factor:- \"))\n",
    "\n",
    "#seats_per_bus = seats//buses\n",
    "no_of_buses = (people)//(seats+factor)\n",
    "print(no_of_buses)\n",
    "if (people)%(seats+factor) != 0:\n",
    "    no_of_buses += 1\n",
    "    \n",
    "    if buses > no_of_buses:\n",
    "        print(f\"{no_of_buses} buses required but\")\n",
    "        print(f\"{buses-no_of_buses} extra buses are their\")\n",
    "    else:\n",
    "        print(\"No Sufficient buses\")\n",
    "        print(f\"{no_of_buses-buses} buses are required\")\n",
    "        \n",
    "else:\n",
    "    print(\"Sufficient buses\")\n",
    "    \n",
    "\n",
    "    \n"
   ]
  },
  {
   "cell_type": "code",
   "execution_count": 7,
   "id": "ed3a9ec7",
   "metadata": {},
   "outputs": [
    {
     "name": "stdout",
     "output_type": "stream",
     "text": [
      "Enter a value:- 33\n",
      "ODD\n"
     ]
    }
   ],
   "source": [
    "# 14.Take number from the user decide whether it is even or odd.\n",
    "\n",
    "value = int(input(\"Enter a value:- \"))\n",
    "if value%2 == 0:\n",
    "    print(\"EVEN\")\n",
    "else:\n",
    "    print(\"ODD\")"
   ]
  },
  {
   "cell_type": "code",
   "execution_count": 10,
   "id": "b456645c",
   "metadata": {},
   "outputs": [
    {
     "name": "stdout",
     "output_type": "stream",
     "text": [
      "-32\n",
      "Negative number\n"
     ]
    }
   ],
   "source": [
    "# 15.take number from the user decide whether it is positive number or negative number\n",
    "\n",
    "num = input()\n",
    "if num[0] == \"-\":\n",
    "    print(\"Negative number\")\n",
    "else:\n",
    "    print(\"Positive number\")"
   ]
  },
  {
   "cell_type": "code",
   "execution_count": 14,
   "id": "aaecc107",
   "metadata": {},
   "outputs": [
    {
     "name": "stdout",
     "output_type": "stream",
     "text": [
      "Enter a word:- \n"
     ]
    },
    {
     "data": {
      "text/plain": [
       "'Error'"
      ]
     },
     "execution_count": 14,
     "metadata": {},
     "output_type": "execute_result"
    }
   ],
   "source": [
    "# 16.take a string from the user print the length. if the user not given anything then show an error message\n",
    "\n",
    "string = input(\"Enter a word:- \")\n",
    "len_string = len(string)\n",
    "print(len_string) if len_string else \"Error\"\n",
    "    "
   ]
  },
  {
   "cell_type": "code",
   "execution_count": 23,
   "id": "1e5b1652",
   "metadata": {},
   "outputs": [
    {
     "name": "stdout",
     "output_type": "stream",
     "text": [
      "Enter number1:- 32\n",
      "Enter number2:- 12\n",
      "1. ADD\n",
      "2. SUB\n",
      "3. MUL\n",
      "4. DIV\n",
      "5. Quit \n",
      "Enter above options to perform a operation:- \n",
      "You are quited\n"
     ]
    }
   ],
   "source": [
    "'''\n",
    "17.Code to perform mathematical operations. take two numbers from the user and show the below menu\n",
    "   1. add,\n",
    "   2. sub,\n",
    "   3. mul,\n",
    "   4.div,\n",
    "   5.quit\n",
    "  Enter an option:\n",
    "  based on the option need to perform an operations\n",
    "'''\n",
    "\n",
    "num1 = float(input(\"Enter number1:- \"))\n",
    "num2 = float(input(\"Enter number2:- \"))\n",
    "print(\"1. ADD\\n2. SUB\\n3. MUL\\n4. DIV\\n5. Quit \")\n",
    "user = input(\"Enter an option to perform a operation:- \")\n",
    "\n",
    "if user == '1':\n",
    "    print(num1+num2)\n",
    "elif user == '2':\n",
    "    print(num1-num2)\n",
    "elif user == '3':\n",
    "    print(num1*num2)\n",
    "elif user == '4':\n",
    "    print(num1/num2)\n",
    "else:\n",
    "    print(\"You are quited\")"
   ]
  },
  {
   "cell_type": "code",
   "execution_count": 28,
   "id": "b6852b25",
   "metadata": {},
   "outputs": [
    {
     "name": "stdout",
     "output_type": "stream",
     "text": [
      "1. Kids\n",
      "2. Men's\n",
      "3. Women's\n",
      "Enter an option:- 2\n",
      "You are a gentlemen\n"
     ]
    }
   ],
   "source": [
    "'''\n",
    "18. show the menu:\n",
    "    1. kids\n",
    "    2. Men's\n",
    "    3. Women's\n",
    "    Show the corresponding message based on the selection.\n",
    "    Option:1: you are a kid\n",
    "    2: you are a gentlemen\n",
    "    3: you are a good women\n",
    "    Mention error message if the option value >3.\n",
    "'''\n",
    "\n",
    "print(\"1. Kids\\n2. Men's\\n3. Women's\")\n",
    "user = input(\"Enter an option:- \")\n",
    "if user == \"1\":\n",
    "    print(\"You are a Kid\")\n",
    "elif user == \"2\":\n",
    "    print(\"You are a gentlemen\")\n",
    "elif user == \"3\":\n",
    "    print(\"You are a good women\")\n",
    "else:\n",
    "    print(\"Error\")\n"
   ]
  },
  {
   "cell_type": "code",
   "execution_count": 29,
   "id": "b05c8d17",
   "metadata": {},
   "outputs": [
    {
     "name": "stdout",
     "output_type": "stream",
     "text": [
      "Enter a string:- the python is powerfull language\n",
      "Enter a sub-string:- is\n",
      "YES\n"
     ]
    }
   ],
   "source": [
    "'''\n",
    "19. Write a program to chcek given substring is there in actual string or not?\n",
    "    example: act=\"python is a pure object oriented programing language\"\n",
    "    heck whether “pure” is there in act or not.\n",
    "    Note: Use in operator\n",
    "'''\n",
    "\n",
    "string = input(\"Enter a string:- \")\n",
    "sub_string = input(\"Enter a sub-string:- \")\n",
    "\n",
    "if sub_string in string:\n",
    "    print(\"YES\")\n",
    "else:\n",
    "    print(\"NO\")\n"
   ]
  },
  {
   "cell_type": "code",
   "execution_count": 37,
   "id": "e574eebd",
   "metadata": {},
   "outputs": [
    {
     "name": "stdout",
     "output_type": "stream",
     "text": [
      "Enter three values separated by space:- 0 0 1\n",
      "1\n"
     ]
    }
   ],
   "source": [
    "# 20. Take three numbers from the user and decide which is big\n",
    "v1,v2,v3 = map(int, input(\"Enter three values separated by space:- \").split())\n",
    "\n",
    "big = 0\n",
    "\n",
    "if v1 > v2 and v1 > v3:\n",
    "    big = v1\n",
    "elif v2 > v1 and v2 > v3:\n",
    "    big = v2\n",
    "else:\n",
    "    big = v3\n",
    "print(big)\n"
   ]
  },
  {
   "cell_type": "code",
   "execution_count": 41,
   "id": "7b140e87",
   "metadata": {},
   "outputs": [
    {
     "name": "stdout",
     "output_type": "stream",
     "text": [
      "Enter your age:- 24\n",
      "Enter your gender:- men\n",
      "Not eligible for marriage in India\n"
     ]
    }
   ],
   "source": [
    "# 21. Take age and gender from the user and decide whether he is eligible for marriage in India or not.\n",
    "# Age criteria: men age>24, women>21\n",
    "\n",
    "user_age = int(input(\"Enter your age:- \"))\n",
    "gender = input(\"Enter your gender:- \")\n",
    "\n",
    "if gender == \"men\":\n",
    "    if user_age > 24 :\n",
    "        print(\"Eligible for marriage in India\")\n",
    "    else:\n",
    "        print(\"Not eligible for marriage in India\")\n",
    "elif gender == \"women\":\n",
    "    if user_age > 21 :\n",
    "        print(\"Eligible for marriage in India\")\n",
    "    else:\n",
    "        print(\"Not eligible for marriage in India\")\n",
    "    \n",
    "        \n",
    "    "
   ]
  },
  {
   "cell_type": "code",
   "execution_count": 3,
   "id": "ccad73ac",
   "metadata": {},
   "outputs": [
    {
     "name": "stdout",
     "output_type": "stream",
     "text": [
      "Enter your age:- 6\n",
      "Enter your gender:- men\n",
      "He can eligible for theatre in India\n"
     ]
    }
   ],
   "source": [
    "'''\n",
    "22. Take an age and gender from the user: and mention that what he/she can do in india.\n",
    "    conditions\n",
    "       1. Theatre: 5 for men 7 for women\n",
    "       2. Voting system: 18 for men and women\n",
    "       3. Marriage in india: 23 for men and for women >21\n",
    "       4. For govt jobs: (min:18, max:32) for men and (min:18, max:34) for women\n",
    "       5. For driving licence: (min:18, max:60) for men and women\n",
    "    Eligibility:\n",
    "       1. theatre\n",
    "       2. Voting system\n",
    "       3. Marriage in india\n",
    "       4. For govt obs\n",
    "       5. For driving licence:\n",
    "    Enter an option:\n",
    "       Gender:\n",
    "       1. men\n",
    "       2. women\n",
    "    Enter an option:\n",
    "    Enter an age of person:\n",
    "'''\n",
    "\n",
    "age = int(input(\"Enter your age:- \"))\n",
    "gender = input(\"Enter your gender:- \")\n",
    "\n",
    "if gender == \"men\":\n",
    "    if age >= 5:\n",
    "        print(\"He can eligible for theatre in India\")\n",
    "    if age >= 18:\n",
    "        print(\"He can eligible for voting system in India\")\n",
    "    if age >= 23:\n",
    "        print(\"He can eligible for marriage in India\")\n",
    "    if age >= 18 and age <= 32:\n",
    "        print(\"He can eligible for government jobs in India\")\n",
    "    if age >=18 and age <= 60:\n",
    "        print(\"He can eligible for driving licence in India\")\n",
    "    if age < 5:\n",
    "        print(\"Not eligible\")\n",
    "elif gender == \"women\":\n",
    "    if age >= 7:\n",
    "        print(\"He can eligible for theatre in India\")\n",
    "    if age >= 18:\n",
    "        print(\"He can eligible for voting system in India\")\n",
    "    if age >= 21:\n",
    "        print(\"He can eligible for marriage in India\")\n",
    "    if age >= 18 and age <= 34:\n",
    "        print(\"He can eligible for government jobs in India\")\n",
    "    if age >=18 and age <= 60:\n",
    "        print(\"He can eligible for driving licence in India\")\n",
    "    if age < 6:\n",
    "        print(\"Not eligible\")"
   ]
  },
  {
   "cell_type": "code",
   "execution_count": 46,
   "id": "21679d87",
   "metadata": {},
   "outputs": [
    {
     "name": "stdout",
     "output_type": "stream",
     "text": [
      "Enter an option:- 3\n",
      "Goto third floor and buy mac laptop or iphones\n"
     ]
    }
   ],
   "source": [
    "'''\n",
    "23. Operating systems:\n",
    "      1.windows\n",
    "      2.android\n",
    "      3.mac\n",
    "    Enter an option:\n",
    "      If the user enters 1 then show \"Goto first floor and buy windows laptop or mobile\"\n",
    "      If the user enters 2 then show \"Goto second floor and buy adroid mobiles\"\n",
    "      If the user enters 3 then show \"Goto third floor and buy mac laptop or iphones\"\n",
    "      If the user enters other than 1 or 2 or 3 then show \"There is only three floors, please select 1 or 2 or 3\"\n",
    "'''\n",
    "\n",
    "user = int(input(\"Enter an option:- \"))\n",
    "if user == 1:\n",
    "    print(\"Goto first floor and buy windows laptop or mobile\")\n",
    "elif user == 2:\n",
    "    print(\"Goto third floor and buy mac laptop or iphones\")\n",
    "elif user == 3:\n",
    "    print(\"Goto third floor and buy mac laptop or iphones\")\n",
    "else:\n",
    "    print(\"There is only three floors, please select 1 or 2 or 3\")\n"
   ]
  },
  {
   "cell_type": "code",
   "execution_count": 50,
   "id": "85dc057b",
   "metadata": {},
   "outputs": [
    {
     "name": "stdout",
     "output_type": "stream",
     "text": [
      "Enter your age:- 24\n",
      "adult\n"
     ]
    }
   ],
   "source": [
    "# 24.Given an age, figure out whether someone's a baby, toddler, child, teenager, adult or old codger.\n",
    "\n",
    "age = int(input(\"Enter your age:- \"))\n",
    "if age <= 1:\n",
    "    print(\"bady\")\n",
    "elif age > 1 and age <=5:\n",
    "    print(\"toddler\")\n",
    "elif age > 5 and age <=12:\n",
    "    print(\"Child\")\n",
    "elif age > 13 and age <= 19:\n",
    "    print(\"teenage\")\n",
    "elif age > 20 and age <= 34:\n",
    "    print(\"adult\")\n",
    "elif age >= 60:\n",
    "    print(\"old codger\")\n",
    "else:\n",
    "    print(\"Younger\")"
   ]
  },
  {
   "cell_type": "code",
   "execution_count": 52,
   "id": "8c51983c",
   "metadata": {},
   "outputs": [
    {
     "name": "stdout",
     "output_type": "stream",
     "text": [
      "Enter a number1:- 0\n",
      "Enter a number2:- 0\n",
      "Zero division error\n"
     ]
    }
   ],
   "source": [
    "# 25.Take two number a,b from the user and check whether a is divisible by b or not\n",
    "\n",
    "a = int(input(\"Enter a number1:- \"))\n",
    "b = int(input(\"Enter a number2:- \"))\n",
    "\n",
    "if b!= 0:\n",
    "    if a%b == 0:\n",
    "        print(\"Yes\")\n",
    "    else:\n",
    "        print(\"No\")\n",
    "else:\n",
    "    print(\"Zero division error\")\n"
   ]
  },
  {
   "cell_type": "code",
   "execution_count": 54,
   "id": "6564cb08",
   "metadata": {},
   "outputs": [
    {
     "name": "stdout",
     "output_type": "stream",
     "text": [
      "Enter any character only once:- S\n",
      "Upper case\n"
     ]
    }
   ],
   "source": [
    "# 26. Take a letter from the user and print that letter belongs to which category I.e is it a small letter or capital letter\n",
    "# or number or special symbol\n",
    "\n",
    "user = input(\"Enter any character only once:- \")\n",
    "if user.isupper():\n",
    "    print(\"Upper case\")\n",
    "elif user.islower():\n",
    "    print(\"Lower case\")\n",
    "elif user.isdigit():\n",
    "    print(\"Number\")\n",
    "else:\n",
    "    print(\"Special character\")\n"
   ]
  },
  {
   "cell_type": "markdown",
   "id": "28f52c00",
   "metadata": {},
   "source": [
    "# looping statements"
   ]
  },
  {
   "cell_type": "code",
   "execution_count": 77,
   "id": "768ff900",
   "metadata": {},
   "outputs": [
    {
     "name": "stdout",
     "output_type": "stream",
     "text": [
      "Enter a number:- 35\n",
      "Not Prime\n"
     ]
    }
   ],
   "source": [
    "# 25. Take a number from the user and check whether it is prime?\n",
    "\n",
    "n = int(input(\"Enter a number:- \"))\n",
    "\n",
    "if n <= 1:\n",
    "    print(\"Not Prime\")\n",
    "else:\n",
    "    c = 0\n",
    "    for i in range(1,n+1):\n",
    "        if n%i == 0:\n",
    "            c += 1\n",
    "    if c == 2:\n",
    "        print(\"It's Prime\")\n",
    "    else:\n",
    "        print(\"Not Prime\")\n",
    "    "
   ]
  },
  {
   "cell_type": "code",
   "execution_count": 79,
   "id": "a717e649",
   "metadata": {},
   "outputs": [
    {
     "name": "stdout",
     "output_type": "stream",
     "text": [
      "Enter input:- dss32121dss\n",
      "Does not contain only digits\n"
     ]
    }
   ],
   "source": [
    "# 26. Take a string from the user and check contains only digits or not?\n",
    "\n",
    "string = input(\"Enter input:- \")\n",
    "\n",
    "if string.isdigit():\n",
    "    print(\"Contain only digits\")\n",
    "else:\n",
    "    print(\"Does not contain only digits\")\n"
   ]
  },
  {
   "cell_type": "code",
   "execution_count": 14,
   "id": "37d112f6",
   "metadata": {},
   "outputs": [
    {
     "name": "stdout",
     "output_type": "stream",
     "text": [
      "Enter input:- 3wdf\n",
      "Does not contains only alphabets\n"
     ]
    }
   ],
   "source": [
    "# 27. Take a string from the user and check contains only alphabets or not?\n",
    "string = input(\"Enter input:- \")\n",
    "\n",
    "if string.isalpha():\n",
    "    print(\"Contains only alphabets\")\n",
    "else:\n",
    "    print(\"Does not contains only alphabets\")\n",
    "\n"
   ]
  },
  {
   "cell_type": "code",
   "execution_count": 15,
   "id": "3d40448c",
   "metadata": {},
   "outputs": [
    {
     "name": "stdout",
     "output_type": "stream",
     "text": [
      "Enter input:- @#!\n",
      "Contains only speical characters\n"
     ]
    }
   ],
   "source": [
    "# 28. Take a string from the user and check contains only special chars or not?\n",
    "string = input(\"Enter input:- \")\n",
    "# if all(not i.isalnum() for i in string):\n",
    "#     print(\"The string contain only special characters\")\n",
    "# else:\n",
    "#     print(\"The string does not contain special characters\")\n",
    "\n",
    "c = 0\n",
    "for i in string:\n",
    "    if not i.isalnum():\n",
    "        c += 1 \n",
    "if c==len(string):\n",
    "    print(\"Contains only speical characters\")\n",
    "else:\n",
    "    print(\"Does not contain only special characters\")\n",
    "    \n",
    "        "
   ]
  },
  {
   "cell_type": "code",
   "execution_count": 4,
   "id": "d39d4a55",
   "metadata": {},
   "outputs": [
    {
     "name": "stdout",
     "output_type": "stream",
     "text": [
      "Enter input:- RET\n",
      "Contains only capital letters\n"
     ]
    }
   ],
   "source": [
    "# 29.Take a string from the user and check contains only capital letters or not?\n",
    "\n",
    "string = input(\"Enter input:- \")\n",
    "\n",
    "if all(i.isupper() for i in string):\n",
    "    print(\"Contains only capital letters\")\n",
    "else:\n",
    "    print(\"Does not contan only capital letters\")"
   ]
  },
  {
   "cell_type": "code",
   "execution_count": 6,
   "id": "311ceb36",
   "metadata": {},
   "outputs": [
    {
     "name": "stdout",
     "output_type": "stream",
     "text": [
      "Enter input:- Ewq\n",
      "Does not contain only small letters\n"
     ]
    }
   ],
   "source": [
    "# 30.Take a string from the user and check contains only small letters or not?\n",
    "\n",
    "string = input(\"Enter input:- \")\n",
    "\n",
    "if all(i.islower() for i in string):\n",
    "    print(\"Contains only small letters\")\n",
    "else:\n",
    "    print(\"Does not contain only small letters\")"
   ]
  },
  {
   "cell_type": "code",
   "execution_count": 19,
   "id": "7af3912f",
   "metadata": {},
   "outputs": [
    {
     "name": "stdout",
     "output_type": "stream",
     "text": [
      "apple,orange,apple,grape,orange,APPLE,APPLE,orange\n"
     ]
    }
   ],
   "source": [
    "'''\n",
    "31. WAP to replace last n occurrence of give string.\n",
    "For example:”apple,orange,apple,grape,orange,apple,apple,orange”\n",
    "source: “apple”\n",
    "last occurrences: 2\n",
    "replace with: APPLE\n",
    "output:”apple,orange,apple,grape,orange,APPLE,APPLE,orange”\n",
    "'''\n",
    "\n",
    "s = \"apple,orange,apple,grape,orange,apple,apple,orange\"\n",
    "list_s = s.split(\",\")\n",
    "new = list_s[::-1]\n",
    "c = 0\n",
    "for i in range (len(list_s[::-1])):\n",
    "    if new[i] == 'apple':\n",
    "        new[i] = \"APPLE\"\n",
    "        c += 1\n",
    "        if c == 2:\n",
    "            break       \n",
    "        \n",
    "print(\",\".join(new[::-1]))    \n"
   ]
  },
  {
   "cell_type": "code",
   "execution_count": 22,
   "id": "48305e37",
   "metadata": {},
   "outputs": [
    {
     "name": "stdout",
     "output_type": "stream",
     "text": [
      "Enter input:- ...5434drfvdgfds\n",
      "String contains number\n"
     ]
    }
   ],
   "source": [
    "# 32. WAP to check given string contains numbers or not. it should consider float numbers also.\n",
    "\n",
    "string = input(\"Enter input:- \")\n",
    "c = 0\n",
    "for i in string:\n",
    "    if i.isdigit() or (string.count('.') == 1):\n",
    "        c += 1\n",
    "        break\n",
    "if c == 1:\n",
    "    print(\"String contains number\")\n",
    "else:\n",
    "    print(\"String does not contains number\")"
   ]
  },
  {
   "cell_type": "code",
   "execution_count": 44,
   "id": "1da83a13",
   "metadata": {},
   "outputs": [
    {
     "name": "stdout",
     "output_type": "stream",
     "text": [
      "Enter input:- SATISH\n",
      "satish\n"
     ]
    }
   ],
   "source": [
    "# 33. Convert the total string in to lower case. Without using lower() function.\n",
    "\n",
    "string = input(\"Enter input:- \")\n",
    "res = \"\"\n",
    "for i in string:\n",
    "    res += chr((ord(i))+32)\n",
    "print(res)"
   ]
  },
  {
   "cell_type": "code",
   "execution_count": 46,
   "id": "b7f541ca",
   "metadata": {},
   "outputs": [
    {
     "name": "stdout",
     "output_type": "stream",
     "text": [
      "Enter input:- satish\n",
      "SATISH\n"
     ]
    }
   ],
   "source": [
    "# 34. Convert the total string in to upper case. Without using upper() function.\n",
    "\n",
    "string = input(\"Enter input:- \")\n",
    "res = \"\"\n",
    "for i in string:\n",
    "    res += chr(ord(i)-32)\n",
    "print(res)"
   ]
  },
  {
   "cell_type": "code",
   "execution_count": 47,
   "id": "0bae3d19",
   "metadata": {},
   "outputs": [
    {
     "name": "stdout",
     "output_type": "stream",
     "text": [
      " \tMenu:- \n",
      "1.windows\n",
      "2.Linux\n",
      "3.Mac\n",
      "4.quit\n",
      "Enter input()1\n",
      "window\n",
      " \tMenu:- \n",
      "1.windows\n",
      "2.Linux\n",
      "3.Mac\n",
      "4.quit\n",
      "Enter input()2\n",
      "linux\n",
      " \tMenu:- \n",
      "1.windows\n",
      "2.Linux\n",
      "3.Mac\n",
      "4.quit\n",
      "Enter input()4\n",
      "quit\n"
     ]
    }
   ],
   "source": [
    "'''\n",
    "35. Show the below menu to the user until and until user select quit and display corresponding os message\n",
    "      Menu:\n",
    "\n",
    "        1. windows\n",
    "        2. Linux\n",
    "        3. Mac\n",
    "        4. quit\n",
    "'''\n",
    "\n",
    "while True:\n",
    "    print(\"\\tMenu:- \\n1.windows\\n2.Linux\\n3.Mac\\n4.quit\")\n",
    "    user = int(input(\"Enter input:- \"))\n",
    "    if user == 1:\n",
    "        print(\"window\")\n",
    "    elif user == 2:\n",
    "        print(\"linux\")\n",
    "    elif user == 3:\n",
    "        print(\"mac\")\n",
    "    elif user == 4:\n",
    "        print(\"quit\")\n",
    "        break\n",
    "    else:\n",
    "        print(\"any of the option\")\n",
    "        "
   ]
  },
  {
   "cell_type": "code",
   "execution_count": 51,
   "id": "3f373682",
   "metadata": {},
   "outputs": [
    {
     "name": "stdout",
     "output_type": "stream",
     "text": [
      "Enter input:- 1scws\n",
      "String contains atleast one digit\n"
     ]
    }
   ],
   "source": [
    "# 36. Take a string from the user and check contains at least one digit or not?\n",
    "\n",
    "string = input(\"Enter input:- \")\n",
    "\n",
    "for i in string:\n",
    "    if i.isdigit():\n",
    "        print(\"String contains atleast one digit\")\n",
    "        break\n",
    "else:\n",
    "    print(\"String does not contains digit\")"
   ]
  },
  {
   "cell_type": "code",
   "execution_count": 53,
   "id": "8704d192",
   "metadata": {},
   "outputs": [
    {
     "name": "stdout",
     "output_type": "stream",
     "text": [
      "Enter input:- s!@1\n",
      "String contains atleast one alphabets\n"
     ]
    }
   ],
   "source": [
    "# 37. Take a string from the user and check contains at least one alphabets or not?\n",
    "\n",
    "string = input(\"Enter input:- \")\n",
    "\n",
    "for i in string:\n",
    "    if i.isalpha():\n",
    "        print(\"String contains atleast one alphabets\")\n",
    "        break\n",
    "else:\n",
    "    print(\"String does not contains atleat one alphabets\")\n",
    "        "
   ]
  },
  {
   "cell_type": "code",
   "execution_count": 57,
   "id": "e096ced5",
   "metadata": {},
   "outputs": [
    {
     "name": "stdout",
     "output_type": "stream",
     "text": [
      "Enter input:-  \n",
      "String contains at least one chars\n"
     ]
    }
   ],
   "source": [
    "# 38. Take a string from the user and check contains at least one chars or not?\n",
    "\n",
    "string = input(\"Enter input:- \")\n",
    "\n",
    "if len(string)>=1:\n",
    "    print(\"String contains at least one chars\")\n",
    "else: \n",
    "    print(\"String does not contains at least one chars\")"
   ]
  },
  {
   "cell_type": "code",
   "execution_count": 60,
   "id": "dccec4c5",
   "metadata": {},
   "outputs": [
    {
     "name": "stdout",
     "output_type": "stream",
     "text": [
      "Enter input:- dfvsdvd\n",
      "String does not contains at least one capital letter\n"
     ]
    }
   ],
   "source": [
    "# 39. Take a string from the user and check contains at least one capital letter or not?\n",
    "\n",
    "string = input(\"Enter input:- \")\n",
    "\n",
    "for i in string:\n",
    "    if i.isupper():\n",
    "        print(\"String contains at least one capital letter\")\n",
    "        break\n",
    "else:\n",
    "    print(\"String does not contains at least one capital letter\")\n",
    "    \n",
    "\n"
   ]
  },
  {
   "cell_type": "code",
   "execution_count": 61,
   "id": "4a017b92",
   "metadata": {},
   "outputs": [
    {
     "name": "stdout",
     "output_type": "stream",
     "text": [
      "Enter input:- asAQdw\n",
      "String contains at least one lower letter\n"
     ]
    }
   ],
   "source": [
    "# 40. Take a string from the user and check contains at least one small letter or not?\n",
    "\n",
    "string = input(\"Enter input:- \")\n",
    "\n",
    "for i in string:\n",
    "    if i.islower():\n",
    "        print(\"String contains at least one lower letter\")\n",
    "        break\n",
    "else:\n",
    "    print(\"String does not contains at least one lower letter\")\n"
   ]
  },
  {
   "cell_type": "code",
   "execution_count": 73,
   "id": "8f1c239c",
   "metadata": {},
   "outputs": [
    {
     "name": "stdout",
     "output_type": "stream",
     "text": [
      "1 3 5 7 9 11 13 15 17 19 21 23 25 27 29 31 33 35 37 39 41 43 45 47 49 51 53 55 57 59 61 63 65 67 69 71 73 75 77 79 81 83 85 87 89 91 93 95 97 99 101 103 105 107 109 111 113 115 117 119 121 123 125 127 129 131 133 135 137 139 141 143 145 147 149 151 153 155 157 159 161 163 165 167 169 171 173 175 177 179 181 183 185 187 189 191 193 195 197 199 \n"
     ]
    }
   ],
   "source": [
    "# 41. Print the first 100 odd numbers\n",
    "c = 0\n",
    "res = \"\"\n",
    "odd = 1\n",
    "while 100 > c:\n",
    "    if odd%2 != 0:\n",
    "        res += str(odd)+\" \"\n",
    "        c += 1\n",
    "    odd += 1\n",
    "        \n",
    "print(res)      "
   ]
  },
  {
   "cell_type": "code",
   "execution_count": 77,
   "id": "6beda67e",
   "metadata": {},
   "outputs": [
    {
     "name": "stdout",
     "output_type": "stream",
     "text": [
      "12\n",
      "1\n",
      "2\n",
      "3\n",
      "4\n",
      "6\n",
      "12\n"
     ]
    }
   ],
   "source": [
    "# 42. Determine the factors of a number entered by the user\n",
    "\n",
    "user = int(input())\n",
    "for i in range(1, user+1):\n",
    "    if user%i == 0:\n",
    "        print(i)\n",
    "            "
   ]
  },
  {
   "cell_type": "code",
   "execution_count": 2,
   "id": "30c7afa5",
   "metadata": {},
   "outputs": [
    {
     "name": "stdout",
     "output_type": "stream",
     "text": [
      "Enter a guess number in between 1 to 100:- 45\n",
      "You have entered lower value\n",
      "If you want quit press q:- s\n",
      "Enter a guess number in between 1 to 100:- 45\n",
      "You have entered lower value\n",
      "If you want quit press q:- q\n"
     ]
    }
   ],
   "source": [
    "# 43. Play a number guessing game (User enters a guess, you print YES or Higher or Lower). \n",
    "# This should continue until and until user gives a correct number or want to quit in the middle.\n",
    "# Get a hidden number by using random.randint(1,100)\n",
    "\n",
    "import random\n",
    "num = random.randint(1,100)\n",
    "\n",
    "while True:\n",
    "    user = input(\"Enter a guess number in between 1 to 100:- \")\n",
    "    \n",
    "    \n",
    "    if user > str(num):\n",
    "        print(\"You have entered higher value\")\n",
    "        \n",
    "    elif user < str(num):\n",
    "        print(\"You have entered lower value\")\n",
    "\n",
    "    elif user == str(num) or user == 'q':\n",
    "        print(\"You have gusseed correct number\")\n",
    "        break\n",
    "    \n",
    "    u = input(\"If you want quit press q else enter any:- \")\n",
    "    if u == 'q':\n",
    "        break\n",
    "        "
   ]
  },
  {
   "cell_type": "code",
   "execution_count": null,
   "id": "5256a465",
   "metadata": {},
   "outputs": [],
   "source": [
    "# 44. Take two numbers from the user a,b check whether a is divisible by b or not?\n",
    "a = int(input(\"Enter a number:- \"))\n",
    "b = int(input(\"Enter a number:- \"))\n",
    "\n",
    "if a%b == 0:\n",
    "    print(\"a is divisible by b\")\n",
    "else:\n",
    "    print(\"a is not divisible by b\")"
   ]
  },
  {
   "cell_type": "code",
   "execution_count": 9,
   "id": "fc1426f4",
   "metadata": {},
   "outputs": [
    {
     "name": "stdout",
     "output_type": "stream",
     "text": [
      "234168\n"
     ]
    }
   ],
   "source": [
    "# 45. Find the sum of all the multiples of 3 or 5 below 1000\n",
    "\n",
    "res = 0\n",
    "for i in range(1,1001):\n",
    "    if i%3 == 0 or i%5 == 0:\n",
    "        res += i\n",
    "print(res)"
   ]
  },
  {
   "cell_type": "code",
   "execution_count": 8,
   "id": "59cb66f5",
   "metadata": {},
   "outputs": [
    {
     "name": "stdout",
     "output_type": "stream",
     "text": [
      "Enter input:- 23\n",
      "Enter input:- 23\n",
      "Both are equal\n"
     ]
    }
   ],
   "source": [
    "# 46. Write a program to find out big of two numbers\n",
    "\n",
    "n1 = int(input(\"Enter input:- \"))\n",
    "n2 = int(input(\"Enter input:- \"))\n",
    "\n",
    "if n1 > n2:\n",
    "    print(n1, \"is the bigger\")\n",
    "elif n1 == n2:\n",
    "    print(\"Both are equal\")\n",
    "else:\n",
    "    print(n2, \"is the bigger \")"
   ]
  },
  {
   "cell_type": "code",
   "execution_count": 6,
   "id": "ed284fc7",
   "metadata": {},
   "outputs": [
    {
     "name": "stdout",
     "output_type": "stream",
     "text": [
      "724\n"
     ]
    }
   ],
   "source": [
    "# 47. Write a program to find out biggest number in the given numbers.\n",
    "\n",
    "l = [122,1,2,4,11,5,6,724,9]\n",
    "big = 0\n",
    "\n",
    "for i in l:\n",
    "    if big < i:\n",
    "        big = i\n",
    "        \n",
    "print(big)        "
   ]
  },
  {
   "cell_type": "code",
   "execution_count": 10,
   "id": "32416152",
   "metadata": {},
   "outputs": [
    {
     "name": "stdout",
     "output_type": "stream",
     "text": [
      "Enter a string:- asaaaasdsa\n",
      "Enter a sub string which we want to find index of substring:- a\n",
      "3\n",
      "3\n"
     ]
    }
   ],
   "source": [
    "# 48. Find out the index of third occurrence of given substring\n",
    "\n",
    "user_string = input(\"Enter a string:- \")\n",
    "sub_string = input(\"Enter a sub string which we want to find index of substring:- \")\n",
    "\n",
    "c = 0\n",
    "for i in range(len(user_string)):\n",
    "    if user_string[i] == sub_string:\n",
    "        c += 1\n",
    "        if c == 3:\n",
    "            print(i)\n",
    "            break \n",
    "     "
   ]
  },
  {
   "cell_type": "code",
   "execution_count": 28,
   "id": "f647f3ac",
   "metadata": {},
   "outputs": [
    {
     "name": "stdout",
     "output_type": "stream",
     "text": [
      "Enter a string:- aaa\n",
      "Enter a sub string which we want to find index of substring:- a\n",
      "2\n"
     ]
    }
   ],
   "source": [
    "# 49. Find out the index nth occurrence of given substring\n",
    "\n",
    "user_string = input(\"Enter a string:- \")\n",
    "sub_string = input(\"Enter a sub string which we want to find index of substring:- \")\n",
    "print(user_string.rfind(sub_string))\n",
    "\n"
   ]
  },
  {
   "cell_type": "code",
   "execution_count": 29,
   "id": "a97c7f28",
   "metadata": {},
   "outputs": [
    {
     "name": "stdout",
     "output_type": "stream",
     "text": [
      "1 2 3 4 5\n",
      "1\n",
      "5\n",
      "15\n",
      "3.0\n"
     ]
    }
   ],
   "source": [
    "# 50. Take some single digit numbers from the user and findout min, maximum, sum, average\n",
    "\n",
    "n = list(map(int,input().split()))\n",
    "print(min(n))\n",
    "print(max(n))\n",
    "print(sum(n))\n",
    "print(sum(n)/len(n))\n"
   ]
  },
  {
   "cell_type": "code",
   "execution_count": 31,
   "id": "aa839f5c",
   "metadata": {},
   "outputs": [
    {
     "name": "stdout",
     "output_type": "stream",
     "text": [
      "Enter input:- 100000\n",
      "100000\n"
     ]
    }
   ],
   "source": [
    "'''\n",
    "51. Print the number in proper mathematical way.\n",
    "Consider that we have 6 digit numbers.\n",
    "Number format WAP> 10 -> 000010\n",
    "100 -> 000100\n",
    "1000 -> 001000\n",
    "2345678 -> 2345678\n",
    "If the number has more than 6 digits then print as it is.\n",
    "'''\n",
    "\n",
    "user = input(\"Enter input:- \")\n",
    "if len(user) > 6:\n",
    "    print(user)\n",
    "else:\n",
    "    l = len(user)\n",
    "    s = 6-l\n",
    "    print(s*\"0\"+user)"
   ]
  },
  {
   "cell_type": "code",
   "execution_count": 32,
   "id": "da14bc24",
   "metadata": {},
   "outputs": [
    {
     "name": "stdout",
     "output_type": "stream",
     "text": [
      "abhi,raj,john\n",
      "abhi\n",
      "raj\n",
      "john\n"
     ]
    }
   ],
   "source": [
    "# 52. Names =\"emp1,emp2,emp3,emp4\" iterate through the employee names.\n",
    "\n",
    "user = input().split(\",\")\n",
    "for i in user:\n",
    "    print(i)"
   ]
  },
  {
   "cell_type": "code",
   "execution_count": 2,
   "id": "12ad2a55",
   "metadata": {},
   "outputs": [
    {
     "name": "stdout",
     "output_type": "stream",
     "text": [
      "the monkey donkey monkey\n",
      "monkey\n",
      "donkey\n",
      "the monkey donkey donkey\n"
     ]
    }
   ],
   "source": [
    "# 53. Take actual string, source string, destination string. replce first nth occurrences of source string with \n",
    "# destination string of actual string.\n",
    "\n",
    "actual_string = input()\n",
    "\n",
    "source_string = input()\n",
    "dest_string = input()\n",
    "\n",
    "row = actual_string[::-1].replace(source_string[::-1], dest_string[::-1],1)\n",
    "print(row[::-1])"
   ]
  },
  {
   "cell_type": "code",
   "execution_count": 4,
   "id": "cc0d2a6e",
   "metadata": {},
   "outputs": [
    {
     "name": "stdout",
     "output_type": "stream",
     "text": [
      "Enter a number12\n",
      "Enter a number12\n",
      "\t Select an option\n",
      "1.Add\n",
      "2.Sub\n",
      "3.Multi\n",
      "4.Div\n",
      "5.power\n",
      "6.sqrt\n",
      "Enter your option:- 6\n",
      "12.0 = 3.4641016151377544\n",
      "12.0 = 3.4641016151377544\n"
     ]
    }
   ],
   "source": [
    "'''\n",
    "54. Take a two numbers from the user and do below menu driven operations\n",
    "     1. addition\n",
    "     2. multiples \n",
    "     3.division\n",
    "     4.sqrt\n",
    "     5. pow a**b\n",
    "     6.subtraction\n",
    "   After selection do the corresponding operation.\n",
    "\n",
    "Note: user may give int, or float numbers. You should check whether it is proper digits or not. \n",
    "I.e the user given string should be in the position to convert to float. Other wise show the “inproper string given” Error.\n",
    "'''\n",
    "\n",
    "n1 = float(input(\"Enter a number\"))\n",
    "n2 = float(input(\"Enter a number\"))\n",
    "print(\"\\t Select an option\\n1.Add\\n2.Sub\\n3.Multi\\n4.Div\\n5.power\\n6.sqrt\")\n",
    "user = int(input(\"Enter your option:- \"))\n",
    "\n",
    "if user == 1:\n",
    "    print(n1+n2)\n",
    "elif user == 2:\n",
    "    print(n1-n2)\n",
    "elif user == 3:\n",
    "    print(n1*n2)\n",
    "elif user == 4:\n",
    "    print(n1/n2)\n",
    "elif user == 5:\n",
    "    print(n1**n2)\n",
    "elif user == 6:\n",
    "    print(n1,'=',n1**0.5)\n",
    "    print(n2,'=',n2**0.5)\n",
    "\n",
    "else:\n",
    "    print(\"Enter proper option\")"
   ]
  },
  {
   "cell_type": "code",
   "execution_count": 5,
   "id": "db24e31b",
   "metadata": {},
   "outputs": [
    {
     "name": "stdout",
     "output_type": "stream",
     "text": [
      "12 34 56 76\n",
      "12\n",
      "76\n",
      "178\n",
      "44.5\n"
     ]
    }
   ],
   "source": [
    "# 55. Take numbers from the user and find out min, maximum, sum, average\n",
    "\n",
    "n = list(map(int,input().split()))\n",
    "print(min(n))\n",
    "print(max(n))\n",
    "print(sum(n))\n",
    "print(sum(n)/len(n))"
   ]
  },
  {
   "cell_type": "code",
   "execution_count": 24,
   "id": "7a225a5e",
   "metadata": {},
   "outputs": [
    {
     "name": "stdout",
     "output_type": "stream",
     "text": [
      "1\n",
      "count_odd= 11\n",
      "count_even= 11\n",
      "count_positive= 22\n",
      "count_negative= 0\n",
      "count_arm= 8\n",
      "count_prime= 7\n",
      "count_perfect= 1\n",
      "count_pali= 11\n"
     ]
    }
   ],
   "source": [
    "'''\n",
    "56. l=[1,2,3,5,7,8,9,10,11,12,13,20,22,23,24,25,26,27,20,21,22,4] find out how many even numbers are there and how many \n",
    "odd numbers are there and how many positive numbers are there and how many negative numbers are there and how many prime \n",
    "numbers are there and how many perfect numbers are there and how many Armstrong numbers are there and how many palindrome \n",
    "numbers are there.\n",
    "'''\n",
    "\n",
    "l=[1,2,3,5,7,8,9,10,11,12,13,20,22,23,24,25,26,27,20,21,22,4]\n",
    "\n",
    "count_odd = 0\n",
    "count_even = 0\n",
    "count_positive = 0\n",
    "count_negative = 0\n",
    "count_prime = 0\n",
    "count_perfect = 0\n",
    "count_arm = 0\n",
    "count_pali = 0\n",
    "\n",
    "def is_prime(i):\n",
    "    c = 0\n",
    "    for j in range(1,i+1):\n",
    "    \n",
    "            if i%j == 0:\n",
    "                c += 1\n",
    "    if c == 2:\n",
    "        return True\n",
    "    else:\n",
    "        return False\n",
    "    \n",
    "def is_prefect(i):\n",
    "    \n",
    "    c = 0\n",
    "    for j in range(1,i+1):\n",
    "        \n",
    "        if i%j == 0:\n",
    "            c += j\n",
    "    if c == i:\n",
    "        return True\n",
    "    else:\n",
    "        return False\n",
    "    \n",
    "def isarm(i):\n",
    "    w = str(i)\n",
    "    \n",
    "    c = 0\n",
    "    for j in w:\n",
    "        \n",
    "        c += int(j)**(len(w))\n",
    "        \n",
    "    if i == c:\n",
    "        return True\n",
    "    else:\n",
    "        return False\n",
    "        \n",
    "for i in l:\n",
    "    if i%2 != 0:\n",
    "        count_odd += 1\n",
    "        \n",
    "    if i%2 == 0:\n",
    "        count_even += 1\n",
    "    \n",
    "    if i >= 0:\n",
    "        count_positive += 1\n",
    "    \n",
    "    if i < 0:\n",
    "        count_negative += 1\n",
    "    \n",
    "    prime = is_prime(i)\n",
    "    if prime:\n",
    "        count_prime += 1\n",
    "        \n",
    "    perfect = is_prefect(i)\n",
    "    \n",
    "    if perfect:\n",
    "        count_perfect += 1\n",
    "        print(i)\n",
    "    \n",
    "    arm = isarm(i)\n",
    "    \n",
    "    if arm:\n",
    "        count_arm += 1\n",
    "    \n",
    "    if str(i) == str(i)[::-1]:\n",
    "        count_pali += 1\n",
    "print(\"count_odd=\",count_odd)\n",
    "print(\"count_even=\",count_even)       \n",
    "print(\"count_positive=\",count_positive)    \n",
    "print(\"count_negative=\",count_negative)\n",
    "print(\"count_arm=\",count_arm)\n",
    "print(\"count_prime=\",count_prime)  \n",
    "print(\"count_perfect=\",count_perfect)\n",
    "print(\"count_pali=\",count_pali)"
   ]
  },
  {
   "cell_type": "code",
   "execution_count": 10,
   "id": "89f7afd2",
   "metadata": {},
   "outputs": [
    {
     "name": "stdout",
     "output_type": "stream",
     "text": [
      "aavscASDasdAAD123121@#$\n",
      "count_digits= 6\n",
      "count_small= 8\n",
      "count_upper= 6\n",
      "count_special= 3\n"
     ]
    }
   ],
   "source": [
    "# 57. Take a string from the user and find out how many digits are there, how many special symbols are there, \n",
    "# how many small letters are there, how many caps are there.\n",
    "\n",
    "user = input()\n",
    "count_digits = 0\n",
    "count_special = 0\n",
    "count_small = 0\n",
    "count_upper = 0\n",
    "\n",
    "for i in user:\n",
    "    if i.isdigit():\n",
    "        count_digits += 1\n",
    "    elif i.islower():\n",
    "        count_small += 1\n",
    "    elif i.isupper():\n",
    "        count_upper += 1\n",
    "    else:\n",
    "        count_special += 1\n",
    "\n",
    "print(\"count_digits=\",count_digits)\n",
    "print(\"count_small=\",count_small)\n",
    "print(\"count_upper=\",count_upper)\n",
    "print(\"count_special=\",count_special)"
   ]
  },
  {
   "cell_type": "code",
   "execution_count": 11,
   "id": "f0abee31",
   "metadata": {},
   "outputs": [
    {
     "name": "stdout",
     "output_type": "stream",
     "text": [
      "Enter input:- aaaaaafdfsdcdea\n",
      "Enter a charactor to count:- a\n",
      "7\n"
     ]
    }
   ],
   "source": [
    "# 58. Take a char from the user and find out how many number of occurrences are there in given string\n",
    "user = input(\"Enter input:- \")\n",
    "chars = input(\"Enter a charactor to count:- \")\n",
    "print(user.count(chars))"
   ]
  },
  {
   "cell_type": "code",
   "execution_count": 14,
   "id": "cb9b5215",
   "metadata": {},
   "outputs": [
    {
     "name": "stdout",
     "output_type": "stream",
     "text": [
      "Enter input to count a value:- 4\n",
      "count= 2\n"
     ]
    }
   ],
   "source": [
    "# 59. Take a element from the user and find out how many times the element occurred in given list\n",
    "list_user = [1,2,34,4,5,6,7,8,9,3,2,4,6,7,8,9,10]\n",
    "user = int(input(\"Enter input to count a value:- \"))\n",
    "print(\"count =\",list_user.count(user))\n"
   ]
  },
  {
   "cell_type": "code",
   "execution_count": 16,
   "id": "e1227248",
   "metadata": {},
   "outputs": [
    {
     "name": "stdout",
     "output_type": "stream",
     "text": [
      "Enter input to count a value:- 2\n",
      "count = 2\n"
     ]
    }
   ],
   "source": [
    "# 60. Take an element from the user and find out how many number of occurrences are there in given tuple\n",
    "list_user = 1,2,34,4,5,6,7,8,9,3,2,4,6,7,8,9,10\n",
    "user = int(input(\"Enter input to count a value:- \"))\n",
    "print(\"count =\",list_user.count(user))"
   ]
  },
  {
   "cell_type": "code",
   "execution_count": 14,
   "id": "5e8328ac",
   "metadata": {},
   "outputs": [
    {
     "name": "stdout",
     "output_type": "stream",
     "text": [
      "$%^987%$^6fed54,#$321cba\n"
     ]
    }
   ],
   "source": [
    "# 61. Reverse the string without effecting the special symbols. It involves three variations. Write code for three variations.\n",
    "\n",
    "# 62.Input: abc123,#$45def6%$^789$%^, output: $%^987%$^6fed54,#$321cba\n",
    "\n",
    "s = \"abc123,#$45def6%$^789$%^\"\n",
    "alpnum = [i for i in s if i.isalnum()]\n",
    "\n",
    "res_alp_num = \"\"\n",
    "res_sp = \"\"\n",
    "\n",
    "for i in s[::-1]:\n",
    "    if not i.isalnum():\n",
    "        res_sp = i +res_sp \n",
    "    else:\n",
    "        if len(res_sp) > 0:\n",
    "            res_alp_num += res_sp\n",
    "            res_sp = \"\"\n",
    "        res_alp_num += alpnum[-1]\n",
    "        alpnum.pop(-1)\n",
    "print(res_alp_num)"
   ]
  },
  {
   "cell_type": "code",
   "execution_count": 28,
   "id": "585525b0",
   "metadata": {},
   "outputs": [
    {
     "name": "stdout",
     "output_type": "stream",
     "text": [
      "9876fe,#$d54321%$^cba$%^\n"
     ]
    }
   ],
   "source": [
    "# 63.Input: abc123,#$45def6%$^789$%^, output: 9876fe,#$d54321%$^cba$%^\n",
    "\n",
    "s = \"abc123,#$45def6%$^789$%^\"\n",
    "alp = [i for i in s if i.isalnum()]\n",
    "res = \"\"\n",
    "\n",
    "for i in s:\n",
    "    if i.isalnum():\n",
    "        res += alp[-1]\n",
    "        alp.pop()\n",
    "    else:\n",
    "        res += i\n",
    "print(res)\n"
   ]
  },
  {
   "cell_type": "code",
   "execution_count": 29,
   "id": "d50efe5d",
   "metadata": {},
   "outputs": [
    {
     "name": "stdout",
     "output_type": "stream",
     "text": [
      "321,#$654%$^987$%^\n"
     ]
    }
   ],
   "source": [
    "# 64.Inout:\"123,#$456%$^789$%^\", Output: 321,#$654%$^987$%^ Only numbers has to reverse.\n",
    "\n",
    "s = \"123,#$456%$^789$%^\"\n",
    "\n",
    "dig = \"\"\n",
    "res = \"\"\n",
    "for i in s:\n",
    "    if i.isdigit():\n",
    "        dig += i\n",
    "    else:\n",
    "        res += dig[::-1]\n",
    "        dig = \"\"\n",
    "        res += i\n",
    "print(res)\n",
    "        "
   ]
  },
  {
   "cell_type": "markdown",
   "id": "0a37b498",
   "metadata": {},
   "source": [
    "# FUNCTIONS:"
   ]
  },
  {
   "cell_type": "code",
   "execution_count": 22,
   "id": "822f8bfb",
   "metadata": {},
   "outputs": [
    {
     "name": "stdout",
     "output_type": "stream",
     "text": [
      "john 20 0 0 ()\n"
     ]
    }
   ],
   "source": [
    "# 65. Define a function to take person details name and age are mandatory parameters and height weight are optional parameters. \n",
    "# If the user willing to pass any other details(like adhar, cell, pan, passport etc..) regarding him then your function should \n",
    "# access those details.\n",
    "\n",
    "def user_details(name,age,height=0,weight=0,*args):\n",
    "    print(name,age,height,weight,args)\n",
    "\n",
    "user_details(\"john\",20)"
   ]
  },
  {
   "cell_type": "code",
   "execution_count": 23,
   "id": "4c90d0f7",
   "metadata": {},
   "outputs": [],
   "source": [
    "# 65a. Rewrite above assignments by functions. Can use string functions to solve the string related assignments\n",
    "\n",
    "\n"
   ]
  },
  {
   "cell_type": "code",
   "execution_count": 25,
   "id": "ac176154",
   "metadata": {},
   "outputs": [
    {
     "name": "stdout",
     "output_type": "stream",
     "text": [
      "Enter a number:- 123\n",
      "Odd\n"
     ]
    }
   ],
   "source": [
    "# 65 b. Write a function to check given value is even or not\n",
    "\n",
    "def check_num(n):\n",
    "    \n",
    "    if n%2 == 0:\n",
    "        return \"Even\"\n",
    "    \n",
    "    else:\n",
    "        return \"Odd\"\n",
    "\n",
    "n = int(input(\"Enter a number:- \"))\n",
    "num = check_num(n)\n",
    "print(num)\n"
   ]
  },
  {
   "cell_type": "code",
   "execution_count": 28,
   "id": "8dc9e691",
   "metadata": {},
   "outputs": [
    {
     "name": "stdout",
     "output_type": "stream",
     "text": [
      "Enter a number:- 21\n",
      "Not Prime\n"
     ]
    }
   ],
   "source": [
    "# 65 c. Write a function to check given value is prime or not\n",
    "\n",
    "def check_prime(n):\n",
    "    c = 0\n",
    "    for i in range(1,n+1):\n",
    "        if n%i == 0:\n",
    "            c += 1\n",
    "    if c == 2:\n",
    "        return \"It's Prime\"\n",
    "    else:\n",
    "        return \"Not Prime\"\n",
    "\n",
    "n = int(input(\"Enter a number:- \"))\n",
    "num = check_prime(n)\n",
    "print(num)"
   ]
  },
  {
   "cell_type": "markdown",
   "id": "7fee9ca3",
   "metadata": {},
   "source": [
    "# STRINGS"
   ]
  },
  {
   "cell_type": "code",
   "execution_count": 29,
   "id": "3bafae05",
   "metadata": {},
   "outputs": [
    {
     "name": "stdout",
     "output_type": "stream",
     "text": [
      "1234321\n",
      "The string contains only digits.\n"
     ]
    }
   ],
   "source": [
    "# 67. Take a string from the user and check contains only digits or not?\n",
    "\n",
    "user = input(\"Enter input:- \")\n",
    "if user.isdigit():\n",
    "    print(\"The string contains only digits.\")\n",
    "else:\n",
    "    print(\"The string does not contain only digits.\")"
   ]
  },
  {
   "cell_type": "code",
   "execution_count": 39,
   "id": "256082ad",
   "metadata": {},
   "outputs": [
    {
     "name": "stdout",
     "output_type": "stream",
     "text": [
      "qwasd\n",
      "The string contains only alphabets.\n"
     ]
    }
   ],
   "source": [
    "# 68. Take a string from the user and check contains only alphabets or not?\n",
    "\n",
    "user = input(\"Enter input:- \")\n",
    "\n",
    "if user.isalpha():\n",
    "    print(\"The string contains only alphabets.\")\n",
    "else:\n",
    "    print(\"The string does not contain only alphabets\")"
   ]
  },
  {
   "cell_type": "code",
   "execution_count": 46,
   "id": "d784b59b",
   "metadata": {},
   "outputs": [
    {
     "name": "stdout",
     "output_type": "stream",
     "text": [
      "Enter input:- !@#$%\n",
      "The string contain only special characters\n"
     ]
    }
   ],
   "source": [
    "# 69. Take a string from the user and check contains only special chars or not?\n",
    "\n",
    "user = input(\"Enter input:- \")\n",
    "if all(not i.isalnum() for i in user):\n",
    "    print(\"The string contain only special characters\")\n",
    "else:\n",
    "    print(\"The string does not contain special characters\")\n"
   ]
  },
  {
   "cell_type": "code",
   "execution_count": 52,
   "id": "8ad14269",
   "metadata": {},
   "outputs": [
    {
     "name": "stdout",
     "output_type": "stream",
     "text": [
      "Enter input:- ASDF\n",
      "The string contain only capital letters\n"
     ]
    }
   ],
   "source": [
    "# 70. Take a string from the user and check contains only capital letters or not?\n",
    "\n",
    "user = input(\"Enter input:- \")\n",
    "if all(i.isupper() for i in user):\n",
    "    print(\"The string contain only capital letters\")\n",
    "else:\n",
    "    print(\"The string does not contain only capital letters\")\n",
    "   \n"
   ]
  },
  {
   "cell_type": "code",
   "execution_count": 55,
   "id": "4e6c5820",
   "metadata": {},
   "outputs": [
    {
     "name": "stdout",
     "output_type": "stream",
     "text": [
      "Enter input:- 12\n",
      "The string does not contain only lower letters\n"
     ]
    }
   ],
   "source": [
    "# 71. Take a string from the user and check contains only small letters or not?\n",
    "\n",
    "user = input(\"Enter input:- \")\n",
    "if all(i.islower() for i in user):\n",
    "    print(\"The string contain only lower letters\")\n",
    "else:\n",
    "    print(\"The string does not contain only lower letters\")"
   ]
  },
  {
   "cell_type": "code",
   "execution_count": 59,
   "id": "6d6239a6",
   "metadata": {},
   "outputs": [
    {
     "name": "stdout",
     "output_type": "stream",
     "text": [
      "the monday is sunday\n",
      "sunday\n",
      "monday\n",
      "the monday is monday\n"
     ]
    }
   ],
   "source": [
    "# 72. WAP to replace last n occurrence.\n",
    "\n",
    "actual_string = input()\n",
    "\n",
    "source_string = input()\n",
    "dest_string = input()\n",
    "\n",
    "row = actual_string[::-1].replace(source_string[::-1], dest_string[::-1],1)\n",
    "print(row[::-1])"
   ]
  },
  {
   "cell_type": "code",
   "execution_count": 64,
   "id": "3b79a1c9",
   "metadata": {},
   "outputs": [
    {
     "name": "stdout",
     "output_type": "stream",
     "text": [
      "Enter input:- scwsdsc\n",
      "String does not contain numbers\n"
     ]
    }
   ],
   "source": [
    "# 73. WAP to check given string contains numbers or not. it should consider float numbers also.\n",
    "\n",
    "user = input(\"Enter input:- \")\n",
    "\n",
    "for i in user:\n",
    "    if i.isdigit() or user.count(\".\") == 1:\n",
    "        print(\"String contains numbers\")\n",
    "        break\n",
    "else:\n",
    "    print(\"String does not contain numbers\")"
   ]
  },
  {
   "cell_type": "code",
   "execution_count": 65,
   "id": "5ded7978",
   "metadata": {},
   "outputs": [
    {
     "name": "stdout",
     "output_type": "stream",
     "text": [
      "Enter input:- qwerwwe\n",
      "qwerwwe\n",
      "QWERWWE\n"
     ]
    }
   ],
   "source": [
    "# 74. Convert the total string in to lower case. Convert the total string in to upper case.\n",
    "\n",
    "user = input(\"Enter input:- \")\n",
    "\n",
    "print(user.lower())\n",
    "print(user.upper())"
   ]
  },
  {
   "cell_type": "code",
   "execution_count": 76,
   "id": "e53b1f76",
   "metadata": {},
   "outputs": [
    {
     "name": "stdout",
     "output_type": "stream",
     "text": [
      "the aja company\n",
      "The Aja Company \n"
     ]
    }
   ],
   "source": [
    "# 75.Convert every word start letter into caps. Some how title not working if it contains numbers and \n",
    "# special symbols in the word\n",
    "\n",
    "user = input(\"Enter a words space separated:- \").split()\n",
    "\n",
    "if all(i.isalpha() for i in user):\n",
    "    res = \"\"\n",
    "    for i in user:\n",
    "        res += i.title()+\" \"\n",
    "    print(res)\n",
    "\n",
    "else:\n",
    "    print(\"Title not working if it contains numbers and special symbols in the word\")\n",
    "# special symbols in the word \")\n",
    "\n"
   ]
  },
  {
   "cell_type": "code",
   "execution_count": 80,
   "id": "f5ca7411",
   "metadata": {},
   "outputs": [
    {
     "name": "stdout",
     "output_type": "stream",
     "text": [
      "Enter actual string:- the,tiger,bull,tiger,bull\n",
      "Enter source string:- bull\n",
      "Enter destination string:- tiger\n",
      "the,tiger,tiger,tiger,tiger\n"
     ]
    }
   ],
   "source": [
    "# 76.Replace last two occurrences of given source string with destination string\n",
    "# preserve the delimiter after split.\n",
    "\n",
    "actual_string = input(\"Enter actual string:- \")\n",
    "\n",
    "source_string = input(\"Enter source string:- \")\n",
    "dest_string = input(\"Enter destination string:- \")\n",
    "\n",
    "row = actual_string[::-1].replace(source_string[::-1], dest_string[::-1],2)\n",
    "print(row[::-1])\n"
   ]
  },
  {
   "cell_type": "code",
   "execution_count": 82,
   "id": "94a89ec3",
   "metadata": {},
   "outputs": [
    {
     "name": "stdout",
     "output_type": "stream",
     "text": [
      "Enter substring:- python\n",
      "The substring in there in actual string\n"
     ]
    }
   ],
   "source": [
    "# 77. Write a program to check given substring is there in actual string or not? (search should be case insensitive)\n",
    "#     example: act=\"python is a pure object oriented programing language\"\n",
    "\n",
    "act=\"python is a pure object oriented programing language\"\n",
    "\n",
    "user = input(\"Enter substring:- \").islower()\n",
    "\n",
    "if user in act:\n",
    "    print('The substring in there in actual string')\n",
    "else:\n",
    "    print(\"The substring is not there in actual string\")\n",
    "\n"
   ]
  },
  {
   "cell_type": "code",
   "execution_count": 83,
   "id": "316b7650",
   "metadata": {},
   "outputs": [
    {
     "name": "stdout",
     "output_type": "stream",
     "text": [
      "The substring in there in actual string\n"
     ]
    }
   ],
   "source": [
    "# 78.check whether “pure” is there in act or not.\n",
    "#    Note: Use in operator\n",
    "\n",
    "c = 'pure'\n",
    "if c in act:\n",
    "    print('The substring in there in actual string')\n",
    "else:\n",
    "    print(\"The substring is not there in actual string\")\n",
    "\n",
    "    \n"
   ]
  },
  {
   "cell_type": "markdown",
   "id": "03be6daa",
   "metadata": {},
   "source": [
    "# DATA STRUCTURES"
   ]
  },
  {
   "cell_type": "code",
   "execution_count": 84,
   "id": "033c383c",
   "metadata": {},
   "outputs": [
    {
     "name": "stdout",
     "output_type": "stream",
     "text": [
      "[10, 20, 30, 40, 50, 60, 70, 80, 90, 20]\n"
     ]
    }
   ],
   "source": [
    "# 79. l=[10,20,30,[40,50,60],70,[80,90,20]]. Convert this list as single dimensional list\n",
    "\n",
    "l=[10,20,30,[40,50,60],70,[80,90,20]]\n",
    "\n",
    "res = []\n",
    "for i in l:\n",
    "    if type(i) == int:\n",
    "        res.append(i)\n",
    "    else:\n",
    "        res.extend(i)\n",
    "print(res)\n",
    "        \n"
   ]
  },
  {
   "cell_type": "code",
   "execution_count": 86,
   "id": "71f29a50",
   "metadata": {},
   "outputs": [
    {
     "name": "stdout",
     "output_type": "stream",
     "text": [
      "G = 1\n",
      "l = 1\n",
      "g = 1\n",
      "e = 1\n",
      "o = 2\n"
     ]
    }
   ],
   "source": [
    "# 80. input: \"Google\" print count of each character\n",
    "\n",
    "i = \"Google\"\n",
    "set_i = set(i)\n",
    "for item in set_i:\n",
    "    print(item,\"=\",i.count(item))"
   ]
  },
  {
   "cell_type": "code",
   "execution_count": 97,
   "id": "9e2a153e",
   "metadata": {},
   "outputs": [
    {
     "name": "stdout",
     "output_type": "stream",
     "text": [
      "[1, 2, 3, 4, 5, 5, 6, 7, 7, 8, 12, 34, 45, 21, 56]\n"
     ]
    }
   ],
   "source": [
    "# 81. Convert n dimensional list to single dimensional list.\n",
    "a = [[1,2,3,4,5],[5,6,7,7,8],[12,34,45,21,56]]\n",
    "res = []\n",
    "[res.extend(i) for i in a]\n",
    "print(res)\n"
   ]
  },
  {
   "cell_type": "code",
   "execution_count": 101,
   "id": "386c2a05",
   "metadata": {},
   "outputs": [
    {
     "name": "stdout",
     "output_type": "stream",
     "text": [
      "<class 'str'> 123\n"
     ]
    }
   ],
   "source": [
    "# 82. l=[1,2,3] just make it as a string.\n",
    "\n",
    "l=[1,2,3]\n",
    "res = \"\"\n",
    "for i in l:\n",
    "    res += str(i)\n",
    "print(type(res),res)\n"
   ]
  },
  {
   "cell_type": "code",
   "execution_count": 102,
   "id": "0acaf5d9",
   "metadata": {},
   "outputs": [
    {
     "name": "stdout",
     "output_type": "stream",
     "text": [
      "[1, 2, 3, 4, 5, 5, 6, 7, 7, 8, 12, 34, 45, 21, 56]\n"
     ]
    }
   ],
   "source": [
    "# 83. l=[1,2,3,[4,5,6],7,[8,9,10]] for single dimensional list\n",
    "\n",
    "l = [1,2,3,[4,5,6],7,[8,9,10]]\n",
    "res = []\n",
    "[res.extend(i) for i in a]\n",
    "print(res)"
   ]
  },
  {
   "cell_type": "code",
   "execution_count": 169,
   "id": "c312f9a4",
   "metadata": {},
   "outputs": [
    {
     "name": "stdout",
     "output_type": "stream",
     "text": [
      "Enter input from list:- a\n",
      "Count= 2\n",
      "Enter input from list:- b\n",
      "Have search element in list \n"
     ]
    }
   ],
   "source": [
    "# 84. l=['a','A','b','B','d','D','c','C'] WAP to find out case insensitive count and \n",
    "# 85. case insensitive search for an element.\n",
    "\n",
    "l=['a','A','b','B','d','D','c','C'] \n",
    "user = input(\"Enter input from list:- \")\n",
    "c = 0\n",
    "for i in l:\n",
    "    if i.lower() == user.lower():\n",
    "        c += 1\n",
    "print(\"Count=\",c)\n",
    "\n",
    "user = input(\"Enter input from list:- \")\n",
    "for i in l:\n",
    "    if user.lower() in l:\n",
    "        print(\"Have search element in list \")\n",
    "        break"
   ]
  },
  {
   "cell_type": "code",
   "execution_count": 150,
   "id": "7c01d0a9",
   "metadata": {},
   "outputs": [
    {
     "name": "stdout",
     "output_type": "stream",
     "text": [
      "['A', 'B', 'C', 'D', 'a', 'b', 'c', 'd']\n"
     ]
    }
   ],
   "source": [
    "# 86. l=['a','A','b','B','d','D','c','C'] sort the list properly\n",
    "\n",
    "# l=['a','A','b','B','d','D','c','C']\n",
    "# print(sorted(l,key=lambda x:(x.lower(),x)))\n",
    "\n",
    "l=['a','A','b','B','d','D','c','C']\n",
    "l.sort()\n",
    "print(l)\n",
    "\n"
   ]
  },
  {
   "cell_type": "code",
   "execution_count": 161,
   "id": "84f5a20a",
   "metadata": {},
   "outputs": [
    {
     "name": "stdout",
     "output_type": "stream",
     "text": [
      "('a', 6)\n",
      "0\n"
     ]
    }
   ],
   "source": [
    "# 87. Find the start position of the largest block of repeated characters in a given stringn\n",
    "\n",
    "s = 'aaaaaabbbccccc'\n",
    "set_s = set(s)\n",
    "item = []\n",
    "for i in set_s:\n",
    "    row = s.count(i)\n",
    "    item.append((i,row))\n",
    "ind = max(item, key=lambda a: a[1])\n",
    "print(ind)\n",
    "print(s.index(ind[0]))\n"
   ]
  },
  {
   "cell_type": "code",
   "execution_count": 116,
   "id": "e6bf4013",
   "metadata": {},
   "outputs": [
    {
     "name": "stdout",
     "output_type": "stream",
     "text": [
      "[1, 12, 13, 14, 15, 16]\n",
      "[12, 13, 14, 15]\n"
     ]
    }
   ],
   "source": [
    "# 88. WAP to find union and intersection of lists.\n",
    "\n",
    "l1 = [12, 13, 14, 15]\n",
    "l2 = [12, 13, 14, 15, 16, 1]\n",
    "print(list(set(l1+l2)))\n",
    "print(list(set(l1).intersection(set(l2))))"
   ]
  },
  {
   "cell_type": "code",
   "execution_count": 118,
   "id": "69c0e9b0",
   "metadata": {},
   "outputs": [
    {
     "name": "stdout",
     "output_type": "stream",
     "text": [
      "[1, 2, 3, 4, 3, 2, 1]\n"
     ]
    }
   ],
   "source": [
    "# 89. input: fun(5) output: [1,2,3,4,3,2,1]\n",
    "\n",
    "def fun(a):\n",
    "    \n",
    "    res = []\n",
    "    for i in range(1,a):\n",
    "        res.append(i)\n",
    "    \n",
    "    for i in range(1,a-1):\n",
    "        res.append((a-1)-i)\n",
    "        \n",
    "    return res\n",
    "print(fun(5))       "
   ]
  },
  {
   "cell_type": "code",
   "execution_count": 149,
   "id": "fff20b7c",
   "metadata": {},
   "outputs": [
    {
     "name": "stdout",
     "output_type": "stream",
     "text": [
      "[[], ['a'], ['b'], ['c'], ['a', 'b'], ['a', 'c'], ['b', 'c'], ['a', 'b', 'c']]\n"
     ]
    }
   ],
   "source": [
    "# 90. input fun('abc') output: [[],][b][a],,[c],[a,b],[b,c],[c,a],[a,b,c]]\n",
    "from itertools import combinations\n",
    "\n",
    "def fun(a):\n",
    "    l = len(a)\n",
    "    res = []\n",
    "    for i in range(l+1):\n",
    "        row = combinations(\"abc\",i)\n",
    "        res.append(row)\n",
    "    \n",
    "    final = []\n",
    "    for i in res:\n",
    "        new = list(i)\n",
    "        for j in new:\n",
    "            final.append(list(j))\n",
    "            \n",
    "    print(final)\n",
    "        \n",
    "fun('abc')\n"
   ]
  },
  {
   "cell_type": "code",
   "execution_count": 170,
   "id": "0e4bc440",
   "metadata": {},
   "outputs": [
    {
     "name": "stdout",
     "output_type": "stream",
     "text": [
      "[1, 2, 3, 4]\n"
     ]
    }
   ],
   "source": [
    "# 91. Remove duplicates from the list: a=[1,2,3,2,3,4,1,,3,4]\n",
    "\n",
    "a=[1,2,3,2,3,4,1,1,3,4]\n",
    "print(list(set(a)))\n"
   ]
  },
  {
   "cell_type": "code",
   "execution_count": 173,
   "id": "801e9660",
   "metadata": {},
   "outputs": [
    {
     "name": "stdout",
     "output_type": "stream",
     "text": [
      "6\n"
     ]
    }
   ],
   "source": [
    "# 92. l=['1','2','3'] get the sum of the list\n",
    "\n",
    "l=['1','2','3']\n",
    "a = [int(i) for i in l]\n",
    "print(sum(a))"
   ]
  },
  {
   "cell_type": "code",
   "execution_count": 175,
   "id": "34602f25",
   "metadata": {},
   "outputs": [
    {
     "name": "stdout",
     "output_type": "stream",
     "text": [
      "[6, 8, 10, 12]\n"
     ]
    }
   ],
   "source": [
    "# 93. l1=[1,2,3,4] l2=[5,6,7,8] sum of two lists\n",
    "\n",
    "l1=[1,2,3,4] \n",
    "l2=[5,6,7,8]\n",
    "print([sum(i) for i in zip(l1,l2)])"
   ]
  },
  {
   "cell_type": "code",
   "execution_count": 188,
   "id": "88c4db90",
   "metadata": {},
   "outputs": [
    {
     "name": "stdout",
     "output_type": "stream",
     "text": [
      "Third max value of element with sorting = 43\n",
      "Third max value of element without sorting = 43\n"
     ]
    }
   ],
   "source": [
    "# 94. Find third max value of element in a list with sorting and without sorting a list.\n",
    "\n",
    "l = [10,23,43,12,34,56,66,25]\n",
    "l.sort()\n",
    "print(\"Third max value of element with sorting =\",l[-3])\n",
    "\n",
    "k = [10,23,43,12,34,56,66,25]\n",
    "l = k[:]\n",
    "for i in range(2):\n",
    "    l.remove(max(l))\n",
    "print(\"Third max value of element without sorting =\",max(l))\n",
    "    \n",
    "        "
   ]
  },
  {
   "cell_type": "code",
   "execution_count": 75,
   "id": "0c01717c",
   "metadata": {},
   "outputs": [
    {
     "name": "stdout",
     "output_type": "stream",
     "text": [
      "[['set()/1-1'], [1, 2, 3, 4, 5, 6, 8], ['set()/1-2'], [1, 2, 3, 4, 5, 6, 8], ['set()/1-3'], [1, 2, 3, 4, 5, 6, 8], ['set()/1-4'], [1, 2, 3, 4, 5, 6, 8], ['{2}/1-6'], [1, 2, 3, 4, 5, 6, 8], ['{2}/1-8']]\n"
     ]
    }
   ],
   "source": [
    "# 95. Input = [\"1/1\",\"1/2\",\"1/3\",\"1/4\",\"2/5\",\"2/6\",\"2/8\"] Output = [['1/1-4'], ['2/5-6'], ['2/8']]\n",
    "\n",
    "l = [\"1/1\",\"1/2\",\"1/3\",\"1/4\",\"2/5\",\"2/6\",\"2/8\"] \n",
    "\n",
    "num = []\n",
    "den = []\n",
    "for item in l:\n",
    "    num.append(int(item[0]))\n",
    "    den.append(int(item[2]))\n",
    "\n"
   ]
  },
  {
   "cell_type": "code",
   "execution_count": 64,
   "id": "1dc4a159",
   "metadata": {},
   "outputs": [
    {
     "name": "stdout",
     "output_type": "stream",
     "text": [
      "[[10], [1, 2, 3], [5], [7, 8, 9, 10, 11, 12, 13], [20], [22, 23, 24, 25, 26, 27], [20, 21, 22], [4]]\n"
     ]
    }
   ],
   "source": [
    "# 96.l=[1,2,3,5,7,8,9,10,11,12,13,20,22,23,24,25,26,27,20,21,22,4] \n",
    "# output = [[1, 2, 3], [5], [7, 8, 9, 10, 11, 12, 13], [20], [22, 23, 24, 25, 26, 27], [20, 21, 22], [4]]\n",
    "\n",
    "l=[10,1,2,3,5,7,8,9,10,11,12,13,20,22,23,24,25,26,27,20,21,22,4] \n",
    "\n",
    "res = []\n",
    "sub = []\n",
    "for i in range(len(l)):\n",
    "    if l[i] == l[i-1]+1:\n",
    "        sub.append(l[i])\n",
    "    \n",
    "    else:\n",
    "        res.append(sub)   \n",
    "        sub = []\n",
    "        sub.append(l[i])\n",
    "res.append(sub)\n",
    "\n",
    "print(res[1:])\n",
    "    \n"
   ]
  },
  {
   "cell_type": "code",
   "execution_count": 193,
   "id": "931cc547",
   "metadata": {},
   "outputs": [
    {
     "name": "stdout",
     "output_type": "stream",
     "text": [
      "('odd', 'even', 'odd', 'even', 'odd', 'even', 'even', 'even')\n"
     ]
    }
   ],
   "source": [
    "# 97. input = 1,2,3,4,5,6,8,10 output = odd,even,odd,even,odd,even,even,even\n",
    "\n",
    "ip = 1,2,3,4,5,6,8,10\n",
    "row = [\"odd\" if i%2 != 0 else \"even\" for i in ip ]\n",
    "print(tuple(row))"
   ]
  },
  {
   "cell_type": "code",
   "execution_count": 207,
   "id": "00ee0b62",
   "metadata": {},
   "outputs": [
    {
     "name": "stdout",
     "output_type": "stream",
     "text": [
      "111\n",
      "101\n",
      "111\n"
     ]
    }
   ],
   "source": [
    "# 98. input n=3\n",
    "#     output: 111 101 111\n",
    "n = 3\n",
    "for i in range(n):\n",
    "    if i == 0 or i == (n-1):\n",
    "        print('1'*n)\n",
    "    else:\n",
    "        s = '1'\n",
    "        e = '1'\n",
    "        r = n-2\n",
    "        z = '0'*r\n",
    "        print(s+z+e)"
   ]
  },
  {
   "cell_type": "code",
   "execution_count": 216,
   "id": "67b51ae1",
   "metadata": {},
   "outputs": [
    {
     "name": "stdout",
     "output_type": "stream",
     "text": [
      "{'o': 2, 'e': 1, 'l': 1, 'g': 2}\n"
     ]
    }
   ],
   "source": [
    "# 99. input: Google\n",
    "#     output: {'g':2,'o':2,'l':1,'e':1} use dictionary comprehension\n",
    "\n",
    "ip = \"Google\".lower()\n",
    "\n",
    "k = {}\n",
    "row = {i:ip.count(i) for i in set(ip)}\n",
    "print(row)"
   ]
  },
  {
   "cell_type": "code",
   "execution_count": 218,
   "id": "001ab182",
   "metadata": {},
   "outputs": [
    {
     "name": "stdout",
     "output_type": "stream",
     "text": [
      "{'k1': 'v1', 'k2': 'v2'}\n"
     ]
    }
   ],
   "source": [
    "# 100. keys=['k1','k2'], values = ['v1','v2'] form a dictionary.\n",
    "\n",
    "keys=['k1','k2']\n",
    "values = ['v1','v2']\n",
    "\n",
    "row = {keys[i]:values[i] for i in range(len(keys))}\n",
    "print(row)"
   ]
  },
  {
   "cell_type": "code",
   "execution_count": 223,
   "id": "ba2669e4",
   "metadata": {},
   "outputs": [
    {
     "name": "stdout",
     "output_type": "stream",
     "text": [
      "[('satish', 90), ('mohan', 80), ('purnesh', 40), ('venkat', 30)]\n"
     ]
    }
   ],
   "source": [
    "# 101. Sort the list marks = [(\"mohan\", 80), (\"satish\", 90), (\"purnesh\", 40), (\"venkat\", 30)] \n",
    "# according to descending order of marks\n",
    "\n",
    "list_marks = [(\"mohan\", 80), (\"satish\", 90), (\"purnesh\", 40), (\"venkat\", 30)] \n",
    "\n",
    "row = sorted(list_marks, key=lambda x : x[1], reverse=True)\n",
    "print(row)"
   ]
  },
  {
   "cell_type": "code",
   "execution_count": 244,
   "id": "5459b651",
   "metadata": {},
   "outputs": [
    {
     "name": "stdout",
     "output_type": "stream",
     "text": [
      "[1, 2.2, 3.4, 4.6, 5.8, 7.0, 8.2, 9.4, 10.6, 11.8, 13.0]\n"
     ]
    }
   ],
   "source": [
    "# 102.Write a function to get dynamic list for floating numbers also based on strat and end and step parameters\n",
    "\n",
    "s = 1\n",
    "e = 13.2\n",
    "step = 1.2\n",
    "res = []\n",
    "\n",
    "while e > s:\n",
    "    res.append(round(s,2))\n",
    "    s += step\n",
    "print(res)"
   ]
  },
  {
   "cell_type": "code",
   "execution_count": 17,
   "id": "6fe71b8f",
   "metadata": {},
   "outputs": [
    {
     "name": "stdout",
     "output_type": "stream",
     "text": [
      "[6, 28, 496, 8128]\n"
     ]
    }
   ],
   "source": [
    "# 103. Find out all perfect numbers in given range\n",
    "\n",
    "def find_perfect(n):\n",
    "    s = sum(filter(lambda x: n%x == 0, range(1,n)))\n",
    "    return  s == n\n",
    "         \n",
    "\n",
    "start = 1\n",
    "end = 100000\n",
    "perfect = list(filter(lambda n : find_perfect(n), range(start, end+1)))\n",
    "print(perfect)\n",
    "\n"
   ]
  },
  {
   "cell_type": "code",
   "execution_count": 275,
   "id": "ce9a6323",
   "metadata": {},
   "outputs": [
    {
     "name": "stdout",
     "output_type": "stream",
     "text": [
      "Pushed in to stack of 400\n",
      "Pushed in to stack of 800\n",
      "Pushed in to stack of 800\n",
      "800 Popped item from Stack\n",
      "Stack= [400, 800]\n"
     ]
    }
   ],
   "source": [
    "# 104. WAP to do all stack operations using lists\n",
    "\n",
    "class Stack:\n",
    "    def __init__(self):\n",
    "        self.items = []\n",
    "    \n",
    "    def push(self,item):\n",
    "        self.items.append(item)\n",
    "        print(f'Pushed in to stack of {item}')\n",
    "    \n",
    "    def empty(self):\n",
    "        return len(self.items) == 0\n",
    "    \n",
    "    def pop(self):\n",
    "        if not self.empty():\n",
    "            p = self.items.pop()\n",
    "            print(f\"{p} Popped item from Stack\")\n",
    "    \n",
    "    def display(self):\n",
    "        if not self.empty():\n",
    "            print(\"Stack=\",self.items)\n",
    "        else:\n",
    "            print(\"Stack is empty\")\n",
    "\n",
    "obj = Stack()\n",
    "obj.push(400)\n",
    "obj.push(800)\n",
    "obj.push(800)\n",
    "obj.pop()\n",
    "obj.display()\n",
    "\n"
   ]
  },
  {
   "cell_type": "code",
   "execution_count": 9,
   "id": "20d19b84",
   "metadata": {},
   "outputs": [
    {
     "name": "stdout",
     "output_type": "stream",
     "text": [
      "200 enqueed to the list\n",
      "500 enqueed to the list\n",
      "200 enqueed to the list\n",
      "200 dequeed from the list\n",
      "Queue =  [200, 500]\n"
     ]
    }
   ],
   "source": [
    "# 105.WAP to do all queue operations using lists\n",
    "\n",
    "class Queue:\n",
    "    def __init__(self):\n",
    "        self.items = []\n",
    "    \n",
    "    def empthy(self):\n",
    "        return len(self.items) == 0\n",
    "    \n",
    "    def enquee(self,item):\n",
    "        self.items.append(item)\n",
    "        print(f\"{item} enqueed to the list\")\n",
    "    \n",
    "    def dequee(self):\n",
    "        if not self.empthy():\n",
    "            pop_item = self.items.pop()\n",
    "            print(f\"{pop_item} dequeed from the list\")\n",
    "    \n",
    "    def display_queue(self):\n",
    "        print(\"Queue = \",self.items )\n",
    "\n",
    "q = Queue()\n",
    "q.enquee(200)\n",
    "q.enquee(500)\n",
    "q.enquee(200)\n",
    "q.dequee()\n",
    "q.display_queue()\n",
    "             \n"
   ]
  },
  {
   "cell_type": "code",
   "execution_count": 40,
   "id": "6bf0f6d2",
   "metadata": {},
   "outputs": [
    {
     "name": "stdout",
     "output_type": "stream",
     "text": [
      "Enter element to remove:- 2\n",
      "Enter occurrences:- 2\n",
      "[1, 2, 34, 3, 4, 5, 6, 7, 8, 9, 4, 6, 8, 9]\n"
     ]
    }
   ],
   "source": [
    "# 106. WAP to remove n occurrences of specified element from a list\n",
    "\n",
    "l = [1,2,34,2,3,4,5,6,7,8,9,2,4,6,8,9]\n",
    "first = int(input(\"Enter element to remove:- \"))\n",
    "count = int(input(\"Enter occurrences:- \"))\n",
    "l = l[::-1]\n",
    "for i in range(count):\n",
    "    index = l.index(first)\n",
    "    l[index] = -1\n",
    "    l.pop(index)\n",
    "print(l[::-1])"
   ]
  },
  {
   "cell_type": "code",
   "execution_count": 15,
   "id": "5800187a",
   "metadata": {},
   "outputs": [
    {
     "name": "stdout",
     "output_type": "stream",
     "text": [
      "True\n"
     ]
    }
   ],
   "source": [
    "# 107. Compare two lists ignore order. i.e return True l1=[1,2,3,4],l2=[4,2,3,1], fun(l1,l2)-> True\n",
    "\n",
    "def fun(l1,l2):\n",
    "    print(sorted(l1) == sorted(l2))\n",
    "\n",
    "l1=[1,2,3,4]\n",
    "l2=[4,2,3,1]\n",
    "fun(l1,l2)"
   ]
  },
  {
   "cell_type": "code",
   "execution_count": 21,
   "id": "7fd22f9f",
   "metadata": {},
   "outputs": [
    {
     "name": "stdout",
     "output_type": "stream",
     "text": [
      "False\n",
      "True\n",
      "True\n",
      "False\n"
     ]
    }
   ],
   "source": [
    "# 108. XOR operation in python.\n",
    "print(bool(1^1))\n",
    "print(bool(0^1))\n",
    "print(bool(1^0))\n",
    "print(bool(0^0))"
   ]
  },
  {
   "cell_type": "code",
   "execution_count": 23,
   "id": "7a21d3ae",
   "metadata": {},
   "outputs": [
    {
     "name": "stdout",
     "output_type": "stream",
     "text": [
      "[]\n"
     ]
    }
   ],
   "source": [
    "# 109. How to remove all occurrences of the given element in a list\n",
    "\n",
    "l = [1,2,34,2,3,4,5,6,7,8,9,2,4,6,8,9]\n",
    "l.clear()\n",
    "print(l)"
   ]
  },
  {
   "cell_type": "code",
   "execution_count": 36,
   "id": "059546fa",
   "metadata": {},
   "outputs": [
    {
     "name": "stdout",
     "output_type": "stream",
     "text": [
      "Enter element to remove:- 2\n",
      "Enter occurrences:- 2\n",
      "[1, 34, 3, 4, 5, 6, 7, 8, 9, 2, 4, 6, 8, 9]\n"
     ]
    }
   ],
   "source": [
    "# 110. How to remove first n occurrences of the given element in a list\n",
    "\n",
    "l = [1,2,34,2,3,4,5,6,7,8,9,2,4,6,8,9]\n",
    "first = int(input(\"Enter element to remove:- \"))\n",
    "count = int(input(\"Enter occurrences:- \"))\n",
    "\n",
    "for i in range(count):\n",
    "    index = l.index(first)\n",
    "    l[index] = -1\n",
    "    l.pop(index)\n",
    "print(l)\n",
    "\n"
   ]
  },
  {
   "cell_type": "code",
   "execution_count": 38,
   "id": "c7fbc582",
   "metadata": {},
   "outputs": [
    {
     "name": "stdout",
     "output_type": "stream",
     "text": [
      "Enter element to remove:- 2\n",
      "Enter occurrences:- 2\n",
      "[1, 2, 34, 3, 4, 5, 6, 7, 8, 9, 4, 6, 8, 9]\n"
     ]
    }
   ],
   "source": [
    "# 111. How to remove last n occurrences of the given element in a list\n",
    "\n",
    "l = [1,2,34,2,3,4,5,6,7,8,9,2,4,6,8,9]\n",
    "first = int(input(\"Enter element to remove:- \"))\n",
    "count = int(input(\"Enter occurrences:- \"))\n",
    "l = l[::-1]\n",
    "for i in range(count):\n",
    "    index = l.index(first)\n",
    "    l[index] = -1\n",
    "    l.pop(index)\n",
    "print(l[::-1])"
   ]
  },
  {
   "cell_type": "code",
   "execution_count": 39,
   "id": "ab03e48a",
   "metadata": {},
   "outputs": [
    {
     "name": "stdout",
     "output_type": "stream",
     "text": [
      "Enter input:- 2\n",
      "2 removed last occurrences of specified element from a list\n",
      "[1, 2, 34, 2, 3, 4, 5, 6, 7, 8, 9, 4, 6, 8, 9]\n"
     ]
    }
   ],
   "source": [
    "# 112. How to remove nth occurrences of the given element in a list\n",
    "\n",
    "l = [1,2,34,2,3,4,5,6,7,8,9,2,4,6,8,9]\n",
    "n = int(input(\"Enter input:- \"))\n",
    "c = l.count(n)\n",
    "copy = l[:]\n",
    "last_index = 0\n",
    "for i in range(c):\n",
    "    index = copy.index(n)\n",
    "    copy[index] = -1\n",
    "    last_index = index\n",
    "#print(last_index)\n",
    "rm = l.pop(last_index)\n",
    "print(f\"{rm} removed last occurrences of specified element from a list\")\n",
    "print(l)"
   ]
  },
  {
   "cell_type": "code",
   "execution_count": 44,
   "id": "56694409",
   "metadata": {},
   "outputs": [
    {
     "name": "stdout",
     "output_type": "stream",
     "text": [
      "[0, 0.1, 0.2, 0.3, 0.4, 0.5, 0.6, 0.7, 0.8, 0.9, 1.0]\n"
     ]
    }
   ],
   "source": [
    "# 113. WAP to generate list of floats i.e: fun(0,1,0.1), [0,0.1,0.2,0.3,0.4,0.5,0.6,0.7,0.8,0.9]\n",
    "\n",
    "def fun(a,b,c):\n",
    "    res = []\n",
    "    while b > a:\n",
    "        res.append(round(a,2))\n",
    "        a += c  \n",
    "    print(res)\n",
    "        \n",
    "fun(0,1,0.1)"
   ]
  },
  {
   "cell_type": "code",
   "execution_count": 45,
   "id": "2283d9a3",
   "metadata": {},
   "outputs": [
    {
     "name": "stdout",
     "output_type": "stream",
     "text": [
      " orange  mango grapes  grapes  banana\n"
     ]
    }
   ],
   "source": [
    "# 114. WAP to remove all occurrences of given substring from actual string\n",
    "\n",
    "actual_string = \"apple orange apple mango grapes apple grapes apple banana\"\n",
    "substring = \"apple\"\n",
    "print(actual_string.replace(substring,\"\"))"
   ]
  },
  {
   "cell_type": "code",
   "execution_count": 46,
   "id": "bf1747d1",
   "metadata": {},
   "outputs": [
    {
     "name": "stdout",
     "output_type": "stream",
     "text": [
      "Enter number of occurrences:- 2\n",
      " orange  mango grapes apple grapes apple banana\n"
     ]
    }
   ],
   "source": [
    "# 115. WAP to remove first n occurrences of given substring from actual string\n",
    "\n",
    "actual_string = \"apple orange apple mango grapes apple grapes apple banana\"\n",
    "substring = \"apple\"\n",
    "n = int(input(\"Enter number of occurrences:- \"))\n",
    "print(actual_string.replace(substring,\"\",n))"
   ]
  },
  {
   "cell_type": "code",
   "execution_count": 57,
   "id": "431c26a1",
   "metadata": {},
   "outputs": [
    {
     "name": "stdout",
     "output_type": "stream",
     "text": [
      "Enter number of occurrences:- 2\n",
      "apple orange apple mango grapes  grapes  banana\n"
     ]
    }
   ],
   "source": [
    "# 116. WAP to remove last n occurrences of given substring from actual string\n",
    "\n",
    "actual_string = \"apple orange apple mango grapes apple grapes apple banana\"\n",
    "a = actual_string[::-1]\n",
    "substring = \"apple\"\n",
    "s = substring[::-1]\n",
    "\n",
    "n = int(input(\"Enter number of occurrences:- \"))\n",
    "r = a.replace(s,\"\",n)\n",
    "print(r[::-1])"
   ]
  },
  {
   "cell_type": "code",
   "execution_count": 59,
   "id": "60ed842b",
   "metadata": {},
   "outputs": [
    {
     "name": "stdout",
     "output_type": "stream",
     "text": [
      "Enter destination string:- fruit\n",
      "Enter occurrences:- 2\n",
      "apple orange apple mango grapes fruit grapes fruit banana\n"
     ]
    }
   ],
   "source": [
    "# 117. WAP to replace last n occurrences of given substring with destination string in actual string\n",
    "actual_string = \"apple orange apple mango grapes apple grapes apple banana\"\n",
    "substring = \"apple\"\n",
    "dest_string = input(\"Enter destination string:- \")\n",
    "n = int(input(\"Enter occurrences:- \"))\n",
    "a = actual_string[::-1]\n",
    "s = substring[::-1]\n",
    "d = dest_string[::-1]\n",
    "\n",
    "res = a.replace(s,d,n)\n",
    "print(res[::-1])"
   ]
  },
  {
   "cell_type": "code",
   "execution_count": 61,
   "id": "fb1592fa",
   "metadata": {},
   "outputs": [
    {
     "name": "stdout",
     "output_type": "stream",
     "text": [
      "aelpp\n"
     ]
    }
   ],
   "source": [
    "# 118. WAP to sort the string.\n",
    "s = \"apple\"\n",
    "print(\"\".join(sorted(s)))"
   ]
  },
  {
   "cell_type": "code",
   "execution_count": 62,
   "id": "6ba7c531",
   "metadata": {},
   "outputs": [
    {
     "name": "stdout",
     "output_type": "stream",
     "text": [
      "67\n"
     ]
    }
   ],
   "source": [
    "# 119. Take a coma separated numbers and find out max number.\n",
    "\n",
    "n = [12,34,45,67,43]\n",
    "print(max(n))"
   ]
  },
  {
   "cell_type": "code",
   "execution_count": 73,
   "id": "5561d364",
   "metadata": {},
   "outputs": [
    {
     "name": "stdout",
     "output_type": "stream",
     "text": [
      "{'name': 'kiran'}\n"
     ]
    }
   ],
   "source": [
    "# 120. Read a json file. Try to get the information from the file\n",
    "import json\n",
    "\n",
    "with open(\"person.json\",\"r\") as f:\n",
    "    data = json.load(f)\n",
    "print(data)"
   ]
  },
  {
   "cell_type": "code",
   "execution_count": 80,
   "id": "310a395c",
   "metadata": {},
   "outputs": [
    {
     "name": "stdout",
     "output_type": "stream",
     "text": [
      "{'data': ['dummy', 'dummy']}\n"
     ]
    }
   ],
   "source": [
    "# 121.Read a yaml file. Try to get the information from the file\n",
    "\n",
    "import yaml\n",
    "#print(dir(yaml))\n",
    "with open(\"yamal.yaml\",\"r\") as f:\n",
    "    data = yaml.safe_load(f)\n",
    "print(data)"
   ]
  },
  {
   "cell_type": "code",
   "execution_count": 82,
   "id": "db408cdb",
   "metadata": {},
   "outputs": [],
   "source": [
    "# 122.Read any image data using Opencv\n",
    "\n",
    "\n"
   ]
  },
  {
   "cell_type": "code",
   "execution_count": 86,
   "id": "16c49697",
   "metadata": {},
   "outputs": [
    {
     "name": "stdout",
     "output_type": "stream",
     "text": [
      "python margorp good egaugnal \n"
     ]
    }
   ],
   "source": [
    "# 123.Make alternative words reversed in given string:\n",
    "# ex: \"python program good language\"-> \"python margorp good egaugnal\"\n",
    "\n",
    "word = \"python program good language\".split()\n",
    "\n",
    "res = \"\"\n",
    "for i in range(len(word)):\n",
    "    if i%2 != 0:\n",
    "        res += word[i][::-1]+\" \"\n",
    "    else:\n",
    "        res += word[i]+\" \"\n",
    "print(res)\n",
    "    \n"
   ]
  },
  {
   "cell_type": "code",
   "execution_count": 90,
   "id": "1600c627",
   "metadata": {},
   "outputs": [
    {
     "name": "stdout",
     "output_type": "stream",
     "text": [
      "Enter charactor to count case sensitive:- C\n",
      "Enter charactor to count case insensitive:- c\n",
      "Count of case sensitive:- 1\n",
      "Count of case insensitive:- 2\n"
     ]
    }
   ],
   "source": [
    "# 124. l=['c',\"cpp\",\"java\",\"php\",\"python\"]\n",
    "#      case insensitive count# l.count(\"C\")->1\n",
    "#      like count l.own_count(\"c\")->2 with case insensitive\n",
    "\n",
    "l=['C',\"cpp\",\"java\",\"php\",\"python\"]\n",
    "res = \"\".join(l)\n",
    "user1 = input(\"Enter charactor to count case sensitive:- \")\n",
    "user2 = input(\"Enter charactor to count case insensitive:- \")\n",
    "\n",
    "res1 = res.count(user1)\n",
    "new = res.lower()\n",
    "res2 = new.count(user2)\n",
    "\n",
    "print(\"Count of case sensitive:-\", res1)\n",
    "print(\"Count of case insensitive:-\", res2)"
   ]
  },
  {
   "cell_type": "code",
   "execution_count": 123,
   "id": "37265f9a",
   "metadata": {},
   "outputs": [
    {
     "name": "stdout",
     "output_type": "stream",
     "text": [
      "['name', 'cell'] manadatory items and ['weight'] extra items\n"
     ]
    }
   ],
   "source": [
    "'''\n",
    "125: Take total parameters, out of which few are optional and few are mandatory. Take some parameters from the user\n",
    "    and check whether the user given all the mandatory paramerters or not.\n",
    "    \n",
    "    For example: to insert person details\n",
    "    Total parameters: name,age,height,pan,cell,adhar,passport\n",
    "\n",
    "    mandatory: name,cell,adhar\n",
    "    if the user given: name,adhar,passport then you need to print cell is mandatory parameter\n",
    "    if the user given: name,cell,adhar,passport then you need to print ok\n",
    "    if the user given: adhar,passport then you need to print cell,name are mandatory parameter\n",
    "'''\n",
    "\n",
    "def total_parameters(**kargs):\n",
    "    manadatory = [\"name\", \"cell\", \"adhar\"]\n",
    "    parameters = [\"name\",\"age\",\"height\",\"pan\",\"cell\",\"adhar\",\"passport\"]\n",
    "    #print(kargs)\n",
    "    \n",
    "    show_man = []\n",
    "    \n",
    "    for i in manadatory:\n",
    "        if i not in kargs:\n",
    "            show_man.append(i)\n",
    "    \n",
    "    #print(show_man)\n",
    "    extra = []\n",
    "    for j in kargs:\n",
    "        if j not in parameters:\n",
    "            extra.append(j)\n",
    "    \n",
    "    if len(show_man) == 0 and len(extra) == 0:\n",
    "        return \"ok\"\n",
    "    \n",
    "    if len(show_man) != 0 and len(extra) == 0:\n",
    "        return f\"{show_man} manadatory items\"\n",
    "    \n",
    "    if len(show_man) == 0 and len(extra) != 0:\n",
    "        return f\"{extra} extra items\"\n",
    "    \n",
    "    if len(show_man) != 0 and len(extra) != 0:\n",
    "        return f\"{show_man} manadatory items and {extra} extra items\"\n",
    "\n",
    "print(total_parameters(adhar=6768433, passport=32333, weight=45))\n",
    "        \n"
   ]
  },
  {
   "cell_type": "code",
   "execution_count": 12,
   "id": "d8434565",
   "metadata": {},
   "outputs": [
    {
     "name": "stdout",
     "output_type": "stream",
     "text": [
      "Enter values separated by comma:- qww,dsdc\n",
      "could not convert string to float: 'qww' please enter int or float values\n"
     ]
    }
   ],
   "source": [
    "'''\n",
    "STRINGS\n",
    "\n",
    "Take two inputs from the user: your program should check for below scenarios.\n",
    "10,20: 30\n",
    "12.34,45.67: 58.01\n",
    "+12,-12: 0\n",
    "qwe,23we: Enter digits or float values only\n",
    "\n",
    "'''\n",
    "\n",
    "try:\n",
    "    a,b = map(float, input(\"Enter values separated by comma:- \").split(\",\"))\n",
    "    print(sum([a,b]))\n",
    "except ValueError as err:\n",
    "    print(err,\"please enter int or float values\")\n",
    "\n"
   ]
  },
  {
   "cell_type": "code",
   "execution_count": 77,
   "id": "878e9ebb",
   "metadata": {},
   "outputs": [
    {
     "name": "stdout",
     "output_type": "stream",
     "text": [
      "Enter the number of employees count:- 1\n",
      "Enter weight(kgs):- 58\n",
      "Enter height(feets):- 5.3\n",
      "Enter age(years):- 25\n",
      "{1000: {'weight': 58.0, 'height': 5.3, 'age': 25.0, 'bmi': 10.943396226415095, 'result': '+ve'}}\n"
     ]
    }
   ],
   "source": [
    "# 116. Take the number of employees count from the user and ask the inputs required for the bmi for each and every person. \n",
    "# The result should be like below\n",
    "# empid:{“weight:”,”height”:,”age”:,”bmi”:0.9,”result”:”+ve”}\n",
    "\n",
    "users = int(input(\"Enter the number of employees count:- \"))\n",
    "empid = 1000\n",
    "for i in range(users):\n",
    "    w = float(input(\"Enter weight(kgs):- \"))\n",
    "    h = float(input(\"Enter height(feets):- \"))\n",
    "    a = float(input(\"Enter age(years):- \"))\n",
    "    bmi = w/h\n",
    "    result = \"\"\n",
    "    if bmi < 25:\n",
    "        result = \"+ve\"\n",
    "    else:\n",
    "        result = \"-ve\"\n",
    "    \n",
    "    print({empid:{\"weight\":w, \"height\":h, \"age\":a, \"bmi\":bmi, \"result\": result}})\n",
    "    empid += 1\n",
    "        \n",
    "    \n"
   ]
  },
  {
   "cell_type": "code",
   "execution_count": 78,
   "id": "4ca6ecba",
   "metadata": {},
   "outputs": [
    {
     "data": {
      "text/plain": [
       "'\\n117. CRM: app.py(define a menu: 1.meetings, 2. customer, 3. quit\\n1:\\na. create meeting\\nb. update meeting\\nc. delete meeting\\nd. get the meeting\\n2:\\na. create customer\\nb. update customer\\nc. delete customer\\nd. get the customer\\n), meetings.py, customer.py\\n'"
      ]
     },
     "execution_count": 78,
     "metadata": {},
     "output_type": "execute_result"
    }
   ],
   "source": [
    "'''\n",
    "117. CRM: app.py(define a menu: 1.meetings, 2. customer, 3. quit\n",
    "1:\n",
    "a. create meeting\n",
    "b. update meeting\n",
    "c. delete meeting\n",
    "d. get the meeting\n",
    "2:\n",
    "a. create customer\n",
    "b. update customer\n",
    "c. delete customer\n",
    "d. get the customer\n",
    "), meetings.py, customer.py\n",
    "'''"
   ]
  },
  {
   "cell_type": "markdown",
   "id": "dc9d0a08",
   "metadata": {},
   "source": [
    "# FILES"
   ]
  },
  {
   "cell_type": "code",
   "execution_count": null,
   "id": "1c454125",
   "metadata": {},
   "outputs": [],
   "source": [
    "# 118. Copy 1 file content in to another file(Take the source and destination file path from the user)\n",
    "\n",
    "\n",
    "\n"
   ]
  }
 ],
 "metadata": {
  "kernelspec": {
   "display_name": "Python 3 (ipykernel)",
   "language": "python",
   "name": "python3"
  },
  "language_info": {
   "codemirror_mode": {
    "name": "ipython",
    "version": 3
   },
   "file_extension": ".py",
   "mimetype": "text/x-python",
   "name": "python",
   "nbconvert_exporter": "python",
   "pygments_lexer": "ipython3",
   "version": "3.11.5"
  }
 },
 "nbformat": 4,
 "nbformat_minor": 5
}
