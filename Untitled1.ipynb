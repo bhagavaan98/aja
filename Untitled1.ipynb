{
 "cells": [
  {
   "cell_type": "code",
   "execution_count": 3,
   "id": "02c3b2d1",
   "metadata": {},
   "outputs": [
    {
     "name": "stdout",
     "output_type": "stream",
     "text": [
      "[1000, 2000, 3000, 4000]\n",
      "[1000, 2000, 3000]\n",
      "[1000, 2000, 3000]\n",
      "[1000, 2000, 3000]\n",
      "[1000, 2000, 3000]\n"
     ]
    }
   ],
   "source": [
    "from copy import deepcopy, copy\n",
    "x=1000\n",
    "y=[1000,2000,3000]\n",
    "z=\"HYD\"\n",
    "a=[x,y,1000,2000,3000,z]\n",
    "k=a\n",
    "l=[1000,2000,3000]\n",
    "m=a[:]#4000?\n",
    "n=deepcopy(a)#it will add 4000\n",
    "o=copy(a)# it will add 4000\n",
    "a.append(4000)\n",
    "print(k)\n",
    "print(l)\n",
    "print(m)\n",
    "print(n)\n",
    "print(o)"
   ]
  },
  {
   "cell_type": "code",
   "execution_count": null,
   "id": "64b75f96",
   "metadata": {},
   "outputs": [],
   "source": []
  },
  {
   "cell_type": "code",
   "execution_count": 4,
   "id": "b9392352",
   "metadata": {},
   "outputs": [
    {
     "name": "stdout",
     "output_type": "stream",
     "text": [
      "1000\n"
     ]
    }
   ],
   "source": [
    "a=1000\n",
    "print(a)"
   ]
  },
  {
   "cell_type": "code",
   "execution_count": 5,
   "id": "570484b9",
   "metadata": {},
   "outputs": [
    {
     "name": "stdout",
     "output_type": "stream",
     "text": [
      "2399652438064\n"
     ]
    }
   ],
   "source": [
    "print(id(a))"
   ]
  },
  {
   "cell_type": "code",
   "execution_count": 6,
   "id": "f69ec724",
   "metadata": {},
   "outputs": [
    {
     "name": "stdout",
     "output_type": "stream",
     "text": [
      "<class 'int'>\n"
     ]
    }
   ],
   "source": [
    "print(type(a))"
   ]
  },
  {
   "cell_type": "code",
   "execution_count": 7,
   "id": "778816ec",
   "metadata": {},
   "outputs": [
    {
     "name": "stdout",
     "output_type": "stream",
     "text": [
      "HYDH\n"
     ]
    }
   ],
   "source": [
    "s=\"HYDH\"\n",
    "print(s)"
   ]
  },
  {
   "cell_type": "code",
   "execution_count": 8,
   "id": "50c127ad",
   "metadata": {},
   "outputs": [
    {
     "name": "stdout",
     "output_type": "stream",
     "text": [
      "140708157407624\n",
      "140708157407624\n"
     ]
    }
   ],
   "source": [
    "print(id(s[0]))\n",
    "print(id(s[3]))"
   ]
  },
  {
   "cell_type": "code",
   "execution_count": 9,
   "id": "a5d1faf0",
   "metadata": {},
   "outputs": [
    {
     "name": "stdout",
     "output_type": "stream",
     "text": [
      "2399652438064\n"
     ]
    }
   ],
   "source": [
    "print(id(a))"
   ]
  },
  {
   "cell_type": "code",
   "execution_count": 10,
   "id": "a1e3d2f7",
   "metadata": {},
   "outputs": [
    {
     "ename": "NameError",
     "evalue": "name 'b' is not defined",
     "output_type": "error",
     "traceback": [
      "\u001b[1;31m---------------------------------------------------------------------------\u001b[0m",
      "\u001b[1;31mNameError\u001b[0m                                 Traceback (most recent call last)",
      "Cell \u001b[1;32mIn[10], line 1\u001b[0m\n\u001b[1;32m----> 1\u001b[0m \u001b[38;5;28mprint\u001b[39m(\u001b[38;5;28mid\u001b[39m(b))\n",
      "\u001b[1;31mNameError\u001b[0m: name 'b' is not defined"
     ]
    }
   ],
   "source": [
    "print(id(b))"
   ]
  },
  {
   "cell_type": "code",
   "execution_count": null,
   "id": "39ff54ec",
   "metadata": {},
   "outputs": [],
   "source": [
    "a=1000\n",
    "b=1000\n",
    "c=a\n",
    "print(id(a))\n",
    "print(id(b))"
   ]
  },
  {
   "cell_type": "code",
   "execution_count": 11,
   "id": "776cd044",
   "metadata": {},
   "outputs": [
    {
     "name": "stdout",
     "output_type": "stream",
     "text": [
      "2399652434864\n",
      "2399652434864\n"
     ]
    }
   ],
   "source": [
    "from copy import deepcopy, copy\n",
    "x=1000\n",
    "y=[1000,2000,3000]\n",
    "z=\"HYD\"\n",
    "a=[x,y,1000,2000,3000,z]\n",
    "print(id(a[0]))\n",
    "print(id(x))"
   ]
  },
  {
   "cell_type": "code",
   "execution_count": 12,
   "id": "c49da8fd",
   "metadata": {},
   "outputs": [
    {
     "name": "stdout",
     "output_type": "stream",
     "text": [
      "2399652436880\n",
      "2399652436912\n"
     ]
    }
   ],
   "source": [
    "from copy import deepcopy, copy\n",
    "x=1000\n",
    "y=[1000,2000,3000]\n",
    "z=\"HYD\"\n",
    "a=[x,y,1000,2000,3000,z]\n",
    "print(id(a[2]))\n",
    "print(id(x))"
   ]
  },
  {
   "cell_type": "code",
   "execution_count": 13,
   "id": "67e4ccd5",
   "metadata": {},
   "outputs": [
    {
     "name": "stdout",
     "output_type": "stream",
     "text": [
      "[1000, 2000, 3000, 4000]\n"
     ]
    }
   ],
   "source": [
    "from copy import deepcopy, copy\n",
    "y=[1000,2000,3000]\n",
    "a=[y,1000]\n",
    "y.append(4000)\n",
    "print(a[0])"
   ]
  },
  {
   "cell_type": "code",
   "execution_count": null,
   "id": "aa936547",
   "metadata": {},
   "outputs": [],
   "source": [
    "l=[1000,]\n",
    "for ind, i in enumerate(l):\n",
    "    l.append(ind*i)\n",
    "    "
   ]
  },
  {
   "cell_type": "code",
   "execution_count": null,
   "id": "5a7759d7",
   "metadata": {},
   "outputs": [],
   "source": [
    "from copy import deepcopy, copy\n",
    "x=1000\n",
    "y=[1000,2000,3000]\n",
    "z=\"HYD\"\n",
    "a=[x,y,1000,2000,3000,z]\n",
    "k=a\n",
    "l=[1000,2000,3000]\n",
    "m=a[:]\n",
    "n=deepcopy(a)#it will add 4000\n",
    "o=copy(a)# it will add 4000\n",
    "a.append(4000)\n",
    "print(k)\n",
    "print(l)\n",
    "print(m)\n",
    "print(n)\n",
    "print(o)"
   ]
  },
  {
   "cell_type": "code",
   "execution_count": 14,
   "id": "3da02fcf",
   "metadata": {},
   "outputs": [
    {
     "name": "stdout",
     "output_type": "stream",
     "text": [
      "2399652837760\n",
      "2399652675840\n"
     ]
    }
   ],
   "source": [
    "a=[1000,[2000,3000],4000]\n",
    "m=a[:]\n",
    "print(id(m))\n",
    "print(id(a))"
   ]
  },
  {
   "cell_type": "code",
   "execution_count": 15,
   "id": "19a509a2",
   "metadata": {},
   "outputs": [
    {
     "name": "stdout",
     "output_type": "stream",
     "text": [
      "2399652435536\n",
      "2399652435536\n"
     ]
    }
   ],
   "source": [
    "print(id(a[0]))\n",
    "print(id(m[0]))"
   ]
  },
  {
   "cell_type": "code",
   "execution_count": 16,
   "id": "936513fc",
   "metadata": {},
   "outputs": [
    {
     "name": "stdout",
     "output_type": "stream",
     "text": [
      "2399653018624\n",
      "2399653018624\n"
     ]
    }
   ],
   "source": [
    "print(id(a[1]))\n",
    "print(id(m[1]))"
   ]
  },
  {
   "cell_type": "code",
   "execution_count": 18,
   "id": "22229915",
   "metadata": {},
   "outputs": [
    {
     "name": "stdout",
     "output_type": "stream",
     "text": [
      "2399652869952\n",
      "2399652904256\n",
      "[5000, [2000, 3000], 4000]\n",
      "[1000, [2000, 3000], 4000]\n"
     ]
    }
   ],
   "source": [
    "a=[1000,[2000,3000],4000]\n",
    "m=a[:]\n",
    "print(id(m))\n",
    "print(id(a))\n",
    "a[0]=5000\n",
    "print(a)\n",
    "print(m)"
   ]
  },
  {
   "cell_type": "code",
   "execution_count": 19,
   "id": "addfc1f7",
   "metadata": {},
   "outputs": [
    {
     "name": "stdout",
     "output_type": "stream",
     "text": [
      "[1000, [2000, 3000, 5000], 4000]\n",
      "[1000, [2000, 3000, 5000], 4000]\n"
     ]
    }
   ],
   "source": [
    "a=[1000,[2000,3000],4000]\n",
    "m=a[:]\n",
    "a[1].append(5000)\n",
    "print(a)\n",
    "print(m)"
   ]
  },
  {
   "cell_type": "code",
   "execution_count": null,
   "id": "326d488a",
   "metadata": {},
   "outputs": [],
   "source": []
  }
 ],
 "metadata": {
  "kernelspec": {
   "display_name": "Python 3 (ipykernel)",
   "language": "python",
   "name": "python3"
  },
  "language_info": {
   "codemirror_mode": {
    "name": "ipython",
    "version": 3
   },
   "file_extension": ".py",
   "mimetype": "text/x-python",
   "name": "python",
   "nbconvert_exporter": "python",
   "pygments_lexer": "ipython3",
   "version": "3.11.3"
  }
 },
 "nbformat": 4,
 "nbformat_minor": 5
}
