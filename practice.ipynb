{
 "cells": [
  {
   "cell_type": "code",
   "execution_count": 23,
   "id": "9207a670",
   "metadata": {},
   "outputs": [
    {
     "name": "stdout",
     "output_type": "stream",
     "text": [
      "<generator object fun at 0x000001DD697B9C00>\n",
      "1\n",
      "10\n"
     ]
    }
   ],
   "source": [
    "def fun():\n",
    "    print(1)\n",
    "    yield 10\n",
    "    print(2)\n",
    "    yield 20\n",
    "    print(3)\n",
    "    yield 30\n",
    "r=fun()\n",
    "print(r)\n",
    "print(next(r))"
   ]
  },
  {
   "cell_type": "code",
   "execution_count": 25,
   "id": "064f2da2",
   "metadata": {},
   "outputs": [
    {
     "name": "stdout",
     "output_type": "stream",
     "text": [
      "<generator object fun at 0x000001DD697B9F00>\n",
      "2\n",
      "20\n"
     ]
    }
   ],
   "source": [
    "print(r)\n",
    "print(next(r))"
   ]
  },
  {
   "cell_type": "code",
   "execution_count": 26,
   "id": "498c8fc4",
   "metadata": {},
   "outputs": [
    {
     "name": "stdout",
     "output_type": "stream",
     "text": [
      "<generator object fun at 0x000001DD697B9F00>\n",
      "3\n",
      "30\n"
     ]
    }
   ],
   "source": [
    "print(r)\n",
    "print(next(r))"
   ]
  },
  {
   "cell_type": "code",
   "execution_count": 34,
   "id": "f19c6703",
   "metadata": {},
   "outputs": [
    {
     "name": "stdout",
     "output_type": "stream",
     "text": [
      "True\n",
      "True\n",
      "True\n",
      "False\n",
      "False\n",
      "False\n"
     ]
    }
   ],
   "source": [
    "a=\"1234\"\n",
    "print(a.isdigit())\n",
    "print(a.isnumeric())\n",
    "print(a.isdecimal())\n",
    "b=\"2**4\"\n",
    "print(b.isdigit())\n",
    "print(b.isnumeric())\n",
    "print(b.isdecimal())\n"
   ]
  },
  {
   "cell_type": "code",
   "execution_count": null,
   "id": "b9d02c78",
   "metadata": {},
   "outputs": [],
   "source": []
  },
  {
   "cell_type": "code",
   "execution_count": 41,
   "id": "0de45580",
   "metadata": {},
   "outputs": [
    {
     "name": "stdout",
     "output_type": "stream",
     "text": [
      "False\n",
      "False\n",
      "False\n"
     ]
    }
   ],
   "source": [
    "b=\"0.5\"\n",
    "print(b.isdigit())\n",
    "print(b.isnumeric())\n",
    "print(b.isdecimal())"
   ]
  },
  {
   "cell_type": "code",
   "execution_count": null,
   "id": "517fb8a1",
   "metadata": {},
   "outputs": [],
   "source": [
    "params=[\"name\",\"age\",\"adhar\",\"phone\"]\n",
    "mandatory = [\"name\",\"age\"]\n",
    "given = [\"name\",\"adhar\"] # age is mandatory\n",
    "given = [\"adhar\",\"phone\"]#age,name are mandatory\n",
    "given = [\"name\",\"age\",\"email\"]#email is an extra parameter\n",
    "given = [\"name\",\"email\"]#email is an extra parameter, \"age\" is mandatory"
   ]
  },
  {
   "cell_type": "code",
   "execution_count": 2,
   "id": "c347e33b",
   "metadata": {},
   "outputs": [
    {
     "name": "stdout",
     "output_type": "stream",
     "text": [
      "enter a target charcter to change last 2 occurences: a,c\n",
      "0\n",
      "['a', 'b', 'c', 'a', 'b', 'a', 'c', 'a', 'b']\n"
     ]
    }
   ],
   "source": [
    "l = ['a', 'b', 'c', 'a', 'b', 'a', 'c', 'a', 'b']\n",
    "t = input('enter a target charcter to change last 2 occurences: ')\n",
    "c = l.count(t)\n",
    "op = []\n",
    "print(c\n",
    "     )\n",
    "for i in l:\n",
    "    if i==t and (c!=2 or c!=1):\n",
    "        c -= 1\n",
    "    elif c==2 or c==1:\n",
    "        op += t.upper()\n",
    "    else:\n",
    "        op += i\n",
    "print(op)"
   ]
  },
  {
   "cell_type": "code",
   "execution_count": 2,
   "id": "69915d93",
   "metadata": {},
   "outputs": [
    {
     "ename": "SyntaxError",
     "evalue": "unterminated string literal (detected at line 3) (2202810904.py, line 3)",
     "output_type": "error",
     "traceback": [
      "\u001b[1;36m  Cell \u001b[1;32mIn[2], line 3\u001b[1;36m\u001b[0m\n\u001b[1;33m    print(\"3)\u001b[0m\n\u001b[1;37m          ^\u001b[0m\n\u001b[1;31mSyntaxError\u001b[0m\u001b[1;31m:\u001b[0m unterminated string literal (detected at line 3)\n"
     ]
    }
   ],
   "source": [
    "print(\"1\")\n",
    "print(\"2\")\n",
    "print(\"3)\n",
    "print(\"4\")\n"
   ]
  },
  {
   "cell_type": "code",
   "execution_count": 1,
   "id": "d6bbe2c0",
   "metadata": {},
   "outputs": [
    {
     "name": "stdout",
     "output_type": "stream",
     "text": [
      "C:\\ProgramData\\anaconda3\\Lib\\os.py\n"
     ]
    }
   ],
   "source": [
    "import os\n",
    "print(os.__file__)"
   ]
  },
  {
   "cell_type": "code",
   "execution_count": 3,
   "id": "1a0f8b2c",
   "metadata": {},
   "outputs": [
    {
     "name": "stdout",
     "output_type": "stream",
     "text": [
      "['C:\\\\Users\\\\chbhagavaan98\\\\Documents\\\\jupiterr_note_book', 'C:\\\\ProgramData\\\\anaconda3\\\\python311.zip', 'C:\\\\ProgramData\\\\anaconda3\\\\DLLs', 'C:\\\\ProgramData\\\\anaconda3\\\\Lib', 'C:\\\\ProgramData\\\\anaconda3', '', 'C:\\\\ProgramData\\\\anaconda3\\\\Lib\\\\site-packages', 'C:\\\\ProgramData\\\\anaconda3\\\\Lib\\\\site-packages\\\\win32', 'C:\\\\ProgramData\\\\anaconda3\\\\Lib\\\\site-packages\\\\win32\\\\lib', 'C:\\\\ProgramData\\\\anaconda3\\\\Lib\\\\site-packages\\\\Pythonwin']\n"
     ]
    }
   ],
   "source": [
    "import sys\n",
    "print(sys.path)"
   ]
  },
  {
   "cell_type": "code",
   "execution_count": 3,
   "id": "9c3a830b",
   "metadata": {},
   "outputs": [
    {
     "name": "stdout",
     "output_type": "stream",
     "text": [
      "query executed successfully\n"
     ]
    }
   ],
   "source": [
    "import pymysql\n",
    "class Data_base:\n",
    "    def create(table):\n",
    "        with pymysql.connect(user=\"root\",password=\"root\",database=\"aja\",port=3306) as con:\n",
    "            with con.cursor() as cur:\n",
    "                cur.execute(table)\n",
    "                print(\"table created successfully\")\n",
    "\n",
    "    def all_methods(data):\n",
    "        with pymysql.connect(user=\"root\",password=\"root\",database=\"aja\",port=3306) as con:\n",
    "            with con.cursor() as cur:\n",
    "                cur.execute(data)\n",
    "                con.commit()\n",
    "                print(\"query executed successfully\")    \n",
    "        \n",
    "d=Data_base()\n",
    "##Data_base.create(\"create table Employee(eno int(5),ename varchar(20),esal float,eaddr varchar(20))\")\n",
    "##Data_base.all_methods(\"insert into employee values(100,'eshwar',15000,'hyderabad')\")\n",
    "##Data_base.all_methods(\"insert into employee values(101,'ramesh',14000,'mumbai')\")\n",
    "##Data_base.all_methods(\"insert into employee values(102,'ravi',15500,'vizag')\")\n",
    "##Data_base.all_methods(\"delete from employee where eno=102\")\n",
    "Data_base.all_methods(\"update employee set ename='vadeppa' where eno=101\")\n"
   ]
  },
  {
   "cell_type": "code",
   "execution_count": null,
   "id": "4592123a",
   "metadata": {},
   "outputs": [],
   "source": []
  }
 ],
 "metadata": {
  "kernelspec": {
   "display_name": "Python 3 (ipykernel)",
   "language": "python",
   "name": "python3"
  },
  "language_info": {
   "codemirror_mode": {
    "name": "ipython",
    "version": 3
   },
   "file_extension": ".py",
   "mimetype": "text/x-python",
   "name": "python",
   "nbconvert_exporter": "python",
   "pygments_lexer": "ipython3",
   "version": "3.11.5"
  }
 },
 "nbformat": 4,
 "nbformat_minor": 5
}
