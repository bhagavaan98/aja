{
 "cells": [
  {
   "cell_type": "code",
   "execution_count": 1,
   "id": "88688454",
   "metadata": {},
   "outputs": [
    {
     "name": "stdout",
     "output_type": "stream",
     "text": [
      "Enter user input separtated by space:- name age\n",
      "Manadatory items were given\n"
     ]
    }
   ],
   "source": [
    "#Task on 07/11/2023\n",
    "\n",
    "def details_manadatory(params, manadatory, user_input):\n",
    "    if sorted(manadatory) == sorted(user_input) :\n",
    "        \n",
    "        return 'Manadatory items were given'\n",
    "    else:\n",
    "\n",
    "        s1 = list((set(manadatory) - set(user_input)))\n",
    "        s2 = \" \".join(s1)\n",
    "        diff = []\n",
    "        for item in user_input:\n",
    "            if item not in manadatory:\n",
    "                diff.append(item)\n",
    "        \n",
    "        extra = []\n",
    "        for each in diff:\n",
    "            if each not in params:\n",
    "                extra.append(each)\n",
    "\n",
    "        dif = \" \".join(extra)\n",
    "        if len(extra) == 0:\n",
    "            return f'{s2} manadatory'\n",
    "        else:\n",
    "            return f'{dif} extra given \\n{s2} manadatory'\n",
    "\n",
    "params = [\"name\", \"age\", \"aadhar\", \"phone\"]\n",
    "manadatory = [\"name\", \"age\"]\n",
    "user_input = input(\"Enter user input separtated by space:- \").split()\n",
    "#print(user_input)\n",
    "get = details_manadatory(params, manadatory, user_input)\n",
    "print(get)"
   ]
  },
  {
   "cell_type": "code",
   "execution_count": 2,
   "id": "65ebbbf0",
   "metadata": {},
   "outputs": [
    {
     "name": "stdout",
     "output_type": "stream",
     "text": [
      "['orange', 'mango', 'grapes', 'APPLE', 'grapes', 'APPLE', 'banana']\n"
     ]
    }
   ],
   "source": [
    "#Task on 07/11/2023\n",
    "\n",
    "l = \"apple,orange,apple,mango,grapes,apple,grapes,apple,banana\"\n",
    "list_l = l.split(\",\")\n",
    "length = list_l[::]\n",
    "count = list_l.count('apple')\n",
    "c = 0\n",
    "res = []\n",
    "for item in list_l:\n",
    "    if item == 'apple':\n",
    "        c += 1\n",
    "        if c > count-2:\n",
    "            res.append(item.upper())\n",
    "        else:\n",
    "            res.append(item)\n",
    "    else:\n",
    "        res.append(item)\n",
    "\n",
    "\n",
    "for i in res:\n",
    "    if i == 'apple':\n",
    "        res.remove('apple')\n",
    "print(res) "
   ]
  },
  {
   "cell_type": "code",
   "execution_count": 16,
   "id": "c4e4cf1e",
   "metadata": {},
   "outputs": [
    {
     "name": "stdout",
     "output_type": "stream",
     "text": [
      "<_io.TextIOWrapper name='employees_data.csv' mode='w' encoding='cp1252'>\n",
      "370320.51\n",
      "[374473, 379679, 380720, 393497, 394028, 394090, 396755, 401229, 417765, 417924, 419620, 422142, 423543, 425219, 430456, 431729, 438118, 438410, 439333, 442660, 448207, 455021, 456587, 457600, 458498, 458837, 462437, 464765, 465003, 465431, 466474, 471206, 472314, 472929, 476074, 478098, 479439, 481217, 485955, 486353, 487416, 487520, 488243, 490914, 491312, 491534, 492755, 493807, 495361]\n",
      "The Top 3 Persons who got salary above average salary of all\n",
      "\n",
      "Name,Department,Salary,Mobile\n",
      "\n",
      "Lisa Murillo,more,493807,+1-259-354-7079x548\n",
      "\n",
      "Luis Davis,former,495361,401-242-7565\n",
      "\n",
      "Anthony Hall,music,492755,(819)793-3066x833\n",
      "\n"
     ]
    }
   ],
   "source": [
    "#Task on 10/11/2023 find the top 3 employees who got above average salary.\n",
    "\n",
    "from faker import Faker\n",
    "import random\n",
    "fake = Faker()\n",
    "file = open(\"employees_data.csv\", 'w')\n",
    "file.write(\"Name,Department,Salary,Mobile\\n\")\n",
    "for i in range(100):\n",
    "    row = f'{fake.name()},{fake.word()},{random.randint(200000, 500000)},{fake.phone_number()}\\n'\n",
    "    file.write(row)\n",
    "file.close()\n",
    "print(file)\n",
    "f = open(\"employees_data.csv\", \"r\")\n",
    "f = f.readlines()\n",
    "#print(f)\n",
    "sal = []\n",
    "for i in f[1:]:\n",
    "    num = 0\n",
    "    for j in i:\n",
    "        if j.isdigit():\n",
    "            num = i.index(j)\n",
    "            break\n",
    "    sal.append(int(i[num:num+6]))  \n",
    "#print(sal)\n",
    "\n",
    "sal_length = len(sal)\n",
    "summ = 0\n",
    "for s in sal:\n",
    "    summ += s\n",
    "avg_sal = summ/sal_length\n",
    "print(avg_sal)\n",
    "avg_sal_gr = []\n",
    "for s in sal:\n",
    "    if avg_sal < s:\n",
    "        avg_sal_gr.append(s)\n",
    "avg_sal_gr.sort()        \n",
    "print(avg_sal_gr)        \n",
    "\n",
    "print(\"The Top 3 Persons who got salary above average salary of all\\n\")\n",
    "print(f[0])\n",
    "for person in f:\n",
    "    if str(avg_sal_gr[-1]) in person: \n",
    "        print(person)\n",
    "    elif str(avg_sal_gr[-2]) in person:\n",
    "        print(person)\n",
    "    elif str(avg_sal_gr[-3]) in person:\n",
    "        print(person)\n",
    "        "
   ]
  },
  {
   "cell_type": "code",
   "execution_count": 3,
   "id": "fcb6816a",
   "metadata": {},
   "outputs": [],
   "source": [
    "#Task on 13/11/2023\n",
    "\n",
    "# Write a class(DB) program to create a table, insert values, update values, delete values of the table.\n",
    "# All database operations code write in a file(db_operations.py) and call these operations in another file( app.py).\n",
    "# In app.py create instance of the DB class and call all the methods by passing some data.\n",
    "\n",
    "import pymysql\n",
    "\n",
    "class DB:\n",
    "    \n",
    "    connect = pymysql.connect(user=\"root\", password=\"root\", database=\"aja\")\n",
    "    cur = connect.cursor()\n",
    "    \n",
    "    def __init__(self,table):\n",
    "        self.table=table\n",
    "        \n",
    "    def create_table(self):\n",
    "        \n",
    "        try:\n",
    "            query = f\"create table {self.table}(id int, name varchar(50))\"\n",
    "            DB.cur.execute(query)\n",
    "            print(\"Table Created successfully\")\n",
    "        except  Exception as err:\n",
    "            print(\"DB error is\",err)\n",
    "        \n",
    "        finally:\n",
    "            DB.connect.close()\n",
    "            \n",
    "            \n",
    "    def insert_data(self, x,y):  \n",
    "        DB.connect\n",
    "        query = f\"insert into {self.table} values({x}, '{y}')\"\n",
    "        try:\n",
    "            DB.cur.execute(query)\n",
    "            DB.connect.commit()\n",
    "            print(\"inserted successsfully\")\n",
    "            \n",
    "        except Exception as err:\n",
    "            print(\"DB error is\",err)\n",
    "        \n",
    "        finally:\n",
    "            DB.connect.close()\n",
    "        \n",
    "    def update_data(self, num, value):\n",
    "        DB.connect\n",
    "        query = f\"update {self.table} set name='{value}' where id='{num}'\"\n",
    "        DB.cur.execute(query)\n",
    "        DB.connect.commit()\n",
    "        print(\"updated successsfully\")\n",
    "        DB.connect.close()\n",
    "        \n",
    "    def delete_data(self, num):\n",
    "        DB.connect\n",
    "        query = f\"delete from {self.table} where id='{num}'\"\n",
    "        DB.cur.execute(query)\n",
    "        DB.connect.commit()\n",
    "        print(\"deleted successsfully\")\n",
    "        DB.connect.close()\n",
    "        \n",
    "        \n",
    "        \n",
    "    \n",
    "ob = DB(\"fru\")\n",
    "# ob.create_table()\n",
    "# ob.insert_data(1,\"apple\")\n",
    "# ob.insert_data(2,\"apple\")\n",
    "# ob.update_data(1,'mango')\n",
    "# ob.delete_data(1)\n"
   ]
  },
  {
   "cell_type": "code",
   "execution_count": 84,
   "id": "55fbac76",
   "metadata": {},
   "outputs": [
    {
     "name": "stdout",
     "output_type": "stream",
     "text": [
      "DB error is (0, '')\n"
     ]
    },
    {
     "ename": "Error",
     "evalue": "Already closed",
     "output_type": "error",
     "traceback": [
      "\u001b[1;31m---------------------------------------------------------------------------\u001b[0m",
      "\u001b[1;31mError\u001b[0m                                     Traceback (most recent call last)",
      "Cell \u001b[1;32mIn[84], line 5\u001b[0m\n\u001b[0;32m      1\u001b[0m \u001b[38;5;66;03m# write a program to do registration.\u001b[39;00m\n\u001b[0;32m      2\u001b[0m \u001b[38;5;66;03m# Write a methods in a class DB to open database connection and insert details in to database table.\u001b[39;00m\n\u001b[0;32m      4\u001b[0m obj1 \u001b[38;5;241m=\u001b[39m DB(\u001b[38;5;124m\"\u001b[39m\u001b[38;5;124mperson\u001b[39m\u001b[38;5;124m\"\u001b[39m)\n\u001b[1;32m----> 5\u001b[0m obj1\u001b[38;5;241m.\u001b[39mcreate_table()\n",
      "Cell \u001b[1;32mIn[82], line 27\u001b[0m, in \u001b[0;36mDB.create_table\u001b[1;34m(self)\u001b[0m\n\u001b[0;32m     24\u001b[0m     \u001b[38;5;28mprint\u001b[39m(\u001b[38;5;124m\"\u001b[39m\u001b[38;5;124mDB error is\u001b[39m\u001b[38;5;124m\"\u001b[39m,err)\n\u001b[0;32m     26\u001b[0m \u001b[38;5;28;01mfinally\u001b[39;00m:\n\u001b[1;32m---> 27\u001b[0m     DB\u001b[38;5;241m.\u001b[39mconnect\u001b[38;5;241m.\u001b[39mclose()\n",
      "File \u001b[1;32m~\\anaconda3\\Lib\\site-packages\\pymysql\\connections.py:409\u001b[0m, in \u001b[0;36mConnection.close\u001b[1;34m(self)\u001b[0m\n\u001b[0;32m    400\u001b[0m \u001b[38;5;250m\u001b[39m\u001b[38;5;124;03m\"\"\"\u001b[39;00m\n\u001b[0;32m    401\u001b[0m \u001b[38;5;124;03mSend the quit message and close the socket.\u001b[39;00m\n\u001b[0;32m    402\u001b[0m \n\u001b[1;32m   (...)\u001b[0m\n\u001b[0;32m    406\u001b[0m \u001b[38;5;124;03m:raise Error: If the connection is already closed.\u001b[39;00m\n\u001b[0;32m    407\u001b[0m \u001b[38;5;124;03m\"\"\"\u001b[39;00m\n\u001b[0;32m    408\u001b[0m \u001b[38;5;28;01mif\u001b[39;00m \u001b[38;5;28mself\u001b[39m\u001b[38;5;241m.\u001b[39m_closed:\n\u001b[1;32m--> 409\u001b[0m     \u001b[38;5;28;01mraise\u001b[39;00m err\u001b[38;5;241m.\u001b[39mError(\u001b[38;5;124m\"\u001b[39m\u001b[38;5;124mAlready closed\u001b[39m\u001b[38;5;124m\"\u001b[39m)\n\u001b[0;32m    410\u001b[0m \u001b[38;5;28mself\u001b[39m\u001b[38;5;241m.\u001b[39m_closed \u001b[38;5;241m=\u001b[39m \u001b[38;5;28;01mTrue\u001b[39;00m\n\u001b[0;32m    411\u001b[0m \u001b[38;5;28;01mif\u001b[39;00m \u001b[38;5;28mself\u001b[39m\u001b[38;5;241m.\u001b[39m_sock \u001b[38;5;129;01mis\u001b[39;00m \u001b[38;5;28;01mNone\u001b[39;00m:\n",
      "\u001b[1;31mError\u001b[0m: Already closed"
     ]
    }
   ],
   "source": [
    "# write a program to do registration.\n",
    "# Write a methods in a class DB to open database connection and insert details in to database table.\n",
    "\n",
    "obj1 = DB(\"person\")\n",
    "obj1.create_table()"
   ]
  },
  {
   "cell_type": "code",
   "execution_count": 9,
   "id": "297c91b8",
   "metadata": {},
   "outputs": [
    {
     "name": "stdout",
     "output_type": "stream",
     "text": [
      "12\n"
     ]
    }
   ],
   "source": [
    "class ABC:\n",
    "    def __init__(self, a):\n",
    "        self.a = a\n",
    "    def printt(self):\n",
    "        print(self.a)\n",
    "    def call(self):\n",
    "        pass\n",
    "a = ABC(\"12\")\n",
    "a.call()"
   ]
  },
  {
   "cell_type": "code",
   "execution_count": 15,
   "id": "97ac872b",
   "metadata": {},
   "outputs": [
    {
     "name": "stdout",
     "output_type": "stream",
     "text": [
      "inserted successsfully\n",
      "inserted successsfully\n",
      "updated successsfully\n",
      "deleted successsfully\n"
     ]
    }
   ],
   "source": [
    "import pymysql\n",
    "\n",
    "class DB:\n",
    "    \n",
    "    def __init__(self,table):\n",
    "        self.table=table\n",
    "    \n",
    "    def db_open(self):\n",
    "        self.connect = pymysql.connect(user=\"root\", password=\"root\", database=\"aja\")\n",
    "        self.cur = self.connect.cursor()\n",
    "        \n",
    "    def db_close(self):\n",
    "        self.connect.close()\n",
    "         \n",
    "    def create_table(self):\n",
    "        try:\n",
    "            self.db_open()\n",
    "            query = f\"create table {self.table}(id int, name varchar(50))\"\n",
    "            self.cur.execute(query)\n",
    "            print(\"Table Created successfully\")\n",
    "            self.db_close()\n",
    "        except  Exception as err:\n",
    "            print(\"DB error is\",err)\n",
    "            self.db_close()\n",
    "                   \n",
    "    def insert_data(self, x,y):  \n",
    "        try:\n",
    "            self.db_open()\n",
    "            query = f\"insert into {self.table} values({x}, '{y}')\"\n",
    "            self.cur.execute(query)\n",
    "            self.connect.commit()\n",
    "            print(\"inserted successsfully\")\n",
    "            \n",
    "        except Exception as err:\n",
    "            print(\"DB error is\",err)\n",
    "        \n",
    "        finally:\n",
    "            self.db_close()\n",
    "        \n",
    "    def update_data(self, num, value):\n",
    "        try:\n",
    "            self.db_open()\n",
    "            query = f\"update {self.table} set name='{value}' where id='{num}'\"\n",
    "            self.cur.execute(query)\n",
    "            self.connect.commit()\n",
    "            print(\"updated successsfully\")\n",
    "        except Exception as err:\n",
    "            print(\"DB error is\",err)\n",
    "        \n",
    "        finally:\n",
    "            self.db_close()\n",
    "        \n",
    "    def delete_data(self, num):\n",
    "        try:\n",
    "            self.db_open()\n",
    "            query = f\"delete from {self.table} where id='{num}'\"\n",
    "            self.cur.execute(query)\n",
    "            self.connect.commit()\n",
    "            print(\"deleted successsfully\")\n",
    "        except Exception as err:\n",
    "            print(\"DB error is\",err)\n",
    "        \n",
    "        finally:\n",
    "            self.db_close()\n",
    "        \n",
    "        \n",
    "        \n",
    "    \n",
    "ob = DB(\"f\")\n",
    "#ob.create_table()\n",
    "ob.insert_data(1,\"apple\")\n",
    "ob.insert_data(2,\"apple\")\n",
    "ob.update_data(1,'mango')\n",
    "ob.delete_data(1)\n"
   ]
  },
  {
   "cell_type": "code",
   "execution_count": 8,
   "id": "b8077dee",
   "metadata": {},
   "outputs": [
    {
     "name": "stdout",
     "output_type": "stream",
     "text": [
      "created\n"
     ]
    }
   ],
   "source": [
    "# Task on 16-11-2023\n",
    "\n",
    "#    Write a “Model” parent class and implement a create,update,delete method.\n",
    "#    Write child class “Person” for Model and override methods create,update,delete methods. \n",
    "#    Call the parent(Model) class create method in the child(person) class create method and add small validation. \n",
    "#    create an instance of person class and call the create method.\n",
    "\n",
    "class Model:\n",
    "    \n",
    "    def create(self):\n",
    "        print(\"created\")\n",
    "    \n",
    "    def update(self):\n",
    "        print(\"updated\")\n",
    "    \n",
    "    def delete(self):\n",
    "        print(\"deleted\")\n",
    "\n",
    "class Person(Model):\n",
    "    \n",
    "    def __init__(self,name,age):\n",
    "        self.name = name\n",
    "        self.age = age\n",
    "    \n",
    "    def create(self):\n",
    "        if not self.name.isalpha():\n",
    "            print(\"name contains otherthan alphabets\")\n",
    "        else:\n",
    "            super().create()\n",
    "        \n",
    "person = Person(\"name\", 12)\n",
    "person.create()\n",
    "    "
   ]
  },
  {
   "cell_type": "code",
   "execution_count": 19,
   "id": "cb4ba0fe",
   "metadata": {},
   "outputs": [
    {
     "name": "stdout",
     "output_type": "stream",
     "text": [
      "created\n",
      "updated\n",
      "deleted\n"
     ]
    }
   ],
   "source": [
    "# Create a child class for Person and extend two extra attributes.\n",
    "# In person class of 3 if you have name,age attributes. In the child class now add two extra attributes \n",
    "# (email and phone number) Do all Crud operations.\n",
    "\n",
    "class Child(Person):\n",
    "    \n",
    "    def __init__(self,name, age, email, phone):\n",
    "        super().__init__(name, age)\n",
    "        self.email = email\n",
    "        self.phone = phone\n",
    "\n",
    "child = Child(\"john\", 12, \"john@gmail.com\", 667532433)\n",
    "child.create()\n",
    "child.update()\n",
    "child.delete()"
   ]
  },
  {
   "cell_type": "code",
   "execution_count": 10,
   "id": "6f984c20",
   "metadata": {},
   "outputs": [
    {
     "name": "stdout",
     "output_type": "stream",
     "text": [
      "(30, 50)\n",
      "(-10, -10)\n",
      "(200, 600)\n",
      "(0.5, 0.6666666666666666)\n"
     ]
    }
   ],
   "source": [
    "# Tasks on 17-11-2023\n",
    "\n",
    "# Define a Numbers class to work with #__mul__, __div__, __sub__\n",
    "\n",
    "class Numbers:\n",
    "    def __init__(self, x,y):\n",
    "        self.x=x\n",
    "        self.y=y\n",
    "    def __add__(self1,self2):\n",
    "        return self1.x+self2.x, self1.y+self2.y\n",
    "    \n",
    "    def __sub__(self1,self2):\n",
    "        return self1.x-self2.x, self1.y-self2.y\n",
    "    \n",
    "    def __mul__(s1,s2):\n",
    "        return s1.x*s2.x, s1.y*s2.y\n",
    "    \n",
    "    def __truediv__(s1,s2):\n",
    "        return s1.x/s2.x, s1.y/s2.y\n",
    "    \n",
    "n1 = Numbers(10,20)\n",
    "n2 = Numbers(20,30)\n",
    "print(n1+n2)\n",
    "print(n1-n2)\n",
    "print(n1*n2)\n",
    "print(n1/n2)"
   ]
  },
  {
   "cell_type": "code",
   "execution_count": 22,
   "id": "d30c3c6a",
   "metadata": {},
   "outputs": [
    {
     "name": "stdout",
     "output_type": "stream",
     "text": [
      "<__main__.Numbers object at 0x000001FF71AD7090>\n",
      "54\n",
      "<__main__.Numbers object at 0x000001FF71A11F50>\n",
      "-34\n",
      "<__main__.Numbers object at 0x000001FF70CBF710>\n",
      "28800\n",
      "<__main__.Numbers object at 0x000001FF71A18750>\n",
      "0.003472222222222222\n"
     ]
    }
   ],
   "source": [
    "class Numbers:\n",
    "    def __init__(self, x,y):\n",
    "        self.x=x\n",
    "        self.y=y\n",
    "    def __add__(self1,self2):\n",
    "        return self1.__class__(self1.x+self2.x, self1.y+self2.y)\n",
    "    \n",
    "    def __sub__(self1,self2):\n",
    "        return self1.__class__(self1.x-self2.x, self1.y-self2.y)\n",
    "    \n",
    "    def __mul__(s1,s2):\n",
    "        return s1.__class__(s1.x*s2.x, s1.y*s2.y)\n",
    "    \n",
    "    def __truediv__(s1,s2):\n",
    "        return s1.__class__(s1.x/s2.x, s1.y/s2.y)\n",
    "    \n",
    "n1 = Numbers(10,20)\n",
    "n2 = Numbers(20,30)\n",
    "n3= Numbers(12,12)\n",
    "n4 = Numbers(12,32)\n",
    "na = n1+n2+n3+n4\n",
    "print(na)\n",
    "print(na.x)\n",
    "\n",
    "ns = n1-n2-n3-n4\n",
    "print(ns)\n",
    "print(ns.x)\n",
    "\n",
    "nm = n1*n2*n3*n4\n",
    "print(nm)\n",
    "print(nm.x)\n",
    "\n",
    "nd = n1/n2/n3/n4\n",
    "print(nd)\n",
    "print(nd.x)\n"
   ]
  },
  {
   "cell_type": "code",
   "execution_count": 12,
   "id": "44e12524",
   "metadata": {},
   "outputs": [
    {
     "name": "stdout",
     "output_type": "stream",
     "text": [
      "!@%@em@il.com\n",
      "jayaemail.com\n"
     ]
    }
   ],
   "source": [
    "# Define a class Emp: one attribute email: we should secure this email attribute.\n",
    "# Out side the class we should not the data if some try to access by using an attribut\n",
    "# We should allow them to access through method only.\n",
    "\n",
    "sec = (\"email\",)\n",
    "enc_trans = ''.maketrans(\"jawqy\",'!@#$%')\n",
    "dec_trans = ''.maketrans('!@#$%',\"jawqy\")\n",
    "class Emp:\n",
    "    def __init__(self,email):\n",
    "        self.email = email\n",
    "        \n",
    "    def __getattribute__(self, attr):\n",
    "        \n",
    "        if attr in sec:\n",
    "            return super(Emp, self).__getattribute__(attr).translate(enc_trans)\n",
    "        return super(Emp, self).__getattribute__(attr)\n",
    "        \n",
    "        \n",
    "    def get_email(self):\n",
    "        return self.email.translate(dec_trans)\n",
    "\n",
    "ob = Emp(\"jay@email.com\")\n",
    "print(ob.email)\n",
    "print(ob.get_email())\n"
   ]
  },
  {
   "cell_type": "code",
   "execution_count": 1,
   "id": "b7d8041a",
   "metadata": {},
   "outputs": [
    {
     "name": "stdout",
     "output_type": "stream",
     "text": [
      "AJA\n"
     ]
    },
    {
     "data": {
      "text/plain": [
       "\"\\nInstance method:- The instance object is created to class Emp as j in the above class we can access instance attributes \\nand methods through this instance oject and we can also access class methods and attributes as well.\\n\\nClass method:- In the above Emp class the class methods and attributes can access only through Emp class and in @class\\nmethod we can't access instance attributes and methods.\\n\\nStatic method:- It is general method used in class we don't need to pass first parameter as object. We can directly call\\nEmp class passing parameters\\n\\n\\n\""
      ]
     },
     "execution_count": 1,
     "metadata": {},
     "output_type": "execute_result"
    }
   ],
   "source": [
    "class Emp:\n",
    "    company = \"AJA\"\n",
    "    def __init__(y, name):\n",
    "        y.name=name\n",
    "    def get(p):# instance method\n",
    "        return p.name, p.company\n",
    "    \n",
    "    @classmethod\n",
    "    def get_company(x):#class method\n",
    "        return x.company\n",
    "    \n",
    "    @staticmethod\n",
    "    def resp(x,y):\n",
    "        \n",
    "        return x+y\n",
    "j=Emp(\"sdf\")\n",
    "j.get()#Emp.get(j)\n",
    "print(j.get_company()) #Emp.get_comapany(Emp)\n",
    "#print(j.resp(10,20))#Emp.resp(10,20)\n",
    "\n",
    "'''\n",
    "Instance method:- The instance object is created to class Emp as j in the above class we can access instance attributes \n",
    "and methods through this instance oject and we can also access class methods and attributes as well.\n",
    "\n",
    "Class method:- In the above Emp class the class methods and attributes can access only through Emp class and in @class\n",
    "method we can't access instance attributes and methods.\n",
    "\n",
    "Static method:- It is general method used in class we don't need to pass first parameter as object. We can directly call\n",
    "Emp class passing parameters\n",
    "\n",
    "\n",
    "'''"
   ]
  },
  {
   "cell_type": "code",
   "execution_count": 2,
   "id": "2b738d76",
   "metadata": {},
   "outputs": [
    {
     "name": "stdout",
     "output_type": "stream",
     "text": [
      "50\n"
     ]
    }
   ],
   "source": [
    "#Task on 18-11-2023\n",
    "\n",
    "class Purchase:\n",
    "    \n",
    "    def __init__(self, items):\n",
    "        self.items = items\n",
    "\n",
    "\n",
    "class Sales:\n",
    "    def __init__(self, no_of_quantities_sales):\n",
    "        self.no_of_quantities_sales = no_of_quantities_sales\n",
    "        \n",
    "    \n",
    "class Stock:\n",
    "    def in_stock():\n",
    "        a = Purchase(100)\n",
    "        \n",
    "        b = Sales(50)\n",
    "        remain_stock = a.items-b.no_of_quantities_sales\n",
    "        print(remain_stock)\n",
    "        \n",
    "        \n",
    "Stock.in_stock()\n",
    "\n",
    "    "
   ]
  },
  {
   "cell_type": "code",
   "execution_count": null,
   "id": "7d6a55fd",
   "metadata": {},
   "outputs": [],
   "source": []
  }
 ],
 "metadata": {
  "kernelspec": {
   "display_name": "Python 3 (ipykernel)",
   "language": "python",
   "name": "python3"
  },
  "language_info": {
   "codemirror_mode": {
    "name": "ipython",
    "version": 3
   },
   "file_extension": ".py",
   "mimetype": "text/x-python",
   "name": "python",
   "nbconvert_exporter": "python",
   "pygments_lexer": "ipython3",
   "version": "3.11.5"
  }
 },
 "nbformat": 4,
 "nbformat_minor": 5
}
