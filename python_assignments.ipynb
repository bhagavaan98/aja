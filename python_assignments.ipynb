{
 "cells": [
  {
   "cell_type": "code",
   "execution_count": 1,
   "id": "e38905a5-349f-4bbf-bd45-af6d46f23ec1",
   "metadata": {},
   "outputs": [
    {
     "name": "stdin",
     "output_type": "stream",
     "text": [
      "enter number of people 110\n",
      "enter number of seats 20\n"
     ]
    },
    {
     "name": "stdout",
     "output_type": "stream",
     "text": [
      "total number of buses required is 5\n"
     ]
    }
   ],
   "source": [
    "#1..Take the input from the user for(Total number of people,Number of seats for bus. Based on two inputs\n",
    "#Decide how many number of buses required\n",
    "number_of_people=int(input('enter number of people'))\n",
    "number_of_seats_per_bus=int(input('enter number of seats'))\n",
    "total_number_buses_required=number_of_people//number_of_seats_per_bus\n",
    "if number_of_people%number_of_seats_per_bus:\n",
    "    \n",
    "print('total number of buses required is',total_number_buses_required)\n"
   ]
  },
  {
   "cell_type": "code",
   "execution_count": 8,
   "id": "9033e0e3-72b2-469e-abe9-33a1f476e17a",
   "metadata": {},
   "outputs": [
    {
     "name": "stdin",
     "output_type": "stream",
     "text": [
      "enter fahrenhiet value: 208.4\n"
     ]
    },
    {
     "name": "stdout",
     "output_type": "stream",
     "text": [
      "98.0\n"
     ]
    }
   ],
   "source": [
    "  #2.take temperature from the user and convert fahrenheit -> Celsius.\n",
    "fahrenhiet=float(input('enter fahrenhiet value:'))\n",
    "celsius=(fahrenhiet - 32) * 5/9\n",
    "print(celsius)\n"
   ]
  },
  {
   "cell_type": "code",
   "execution_count": 4,
   "id": "15777db6-10c9-4c7a-b73b-73fc77b418bb",
   "metadata": {},
   "outputs": [
    {
     "name": "stdin",
     "output_type": "stream",
     "text": [
      "enter celsius value 98\n"
     ]
    },
    {
     "name": "stdout",
     "output_type": "stream",
     "text": [
      "208.4\n"
     ]
    }
   ],
   "source": [
    "#3.take temperature from the user and convert Celsius → foreign heat.\n",
    "\n",
    "celsius=float(input('enter celsius value'))\n",
    "fahrenhiet= (celsius * 9/5) + 32\n",
    "print(fahrenhiet)"
   ]
  },
  {
   "cell_type": "code",
   "execution_count": 5,
   "id": "b58149f2-7eb1-4d00-ab7f-3c99b4c8244c",
   "metadata": {},
   "outputs": [
    {
     "name": "stdin",
     "output_type": "stream",
     "text": [
      "Enter the value for x1:  3\n",
      "Enter the value for x2:  4\n",
      "Enter the value for x3:  1\n",
      "Enter the value for x4:  3\n"
     ]
    },
    {
     "name": "stdout",
     "output_type": "stream",
     "text": [
      "7.0\n"
     ]
    }
   ],
   "source": [
    "'''take four number from the user (variables name it as x1,x2,x3,x4)\n",
    "Do the below operations\n",
    "(x1+x2)**2, (x3+x4)**3\n",
    "variance\n",
    "standard deviation: sqrt(variance):  User math module. Math.sqrt(variance)\n",
    "Regression\n",
    "y=mx+b\n",
    "          m=1.23\n",
    "          b=0.045\n",
    "          find out y\n",
    "          y=m*(x1+x2+x3+x4)+b\n",
    " Find the average of four numbers\n",
    "Find the sum of four numbers'''\n",
    "x1 = float(input(\"Enter the value for x1: \"))\n",
    "x2 = float(input(\"Enter the value for x2: \"))\n",
    "x3 = float(input(\"Enter the value for x3: \"))\n",
    "x4 = float(input(\"Enter the value for x4: \"))\n",
    "'''result1 = (x1 + x2) ** 2\n",
    "result2 = (x3 + x4) ** 3\n",
    "print(result1)\n",
    "print(result2)'''\n",
    "\n",
    "avg=sum([x1,x2,x3,x4])//4\n",
    "variance = (x1-avg) ** 2 + (x2-avg) ** 2 + (x3-avg) ** 2 + (x4-avg) ** 2\n",
    "print(variance)\n",
    "\n",
    "\n"
   ]
  },
  {
   "cell_type": "code",
   "execution_count": null,
   "id": "311173bf-acda-4427-aebd-6ad309009f35",
   "metadata": {},
   "outputs": [],
   "source": []
  }
 ],
 "metadata": {
  "kernelspec": {
   "display_name": "Python 3 (ipykernel)",
   "language": "python",
   "name": "python3"
  },
  "language_info": {
   "codemirror_mode": {
    "name": "ipython",
    "version": 3
   },
   "file_extension": ".py",
   "mimetype": "text/x-python",
   "name": "python",
   "nbconvert_exporter": "python",
   "pygments_lexer": "ipython3",
   "version": "3.9.2"
  }
 },
 "nbformat": 4,
 "nbformat_minor": 5
}
