{
 "cells": [
  {
   "cell_type": "code",
   "execution_count": 1,
   "id": "e38905a5-349f-4bbf-bd45-af6d46f23ec1",
   "metadata": {},
   "outputs": [
    {
     "name": "stdout",
     "output_type": "stream",
     "text": [
      "enter number of people 110\n",
      "enter number of seats 20\n"
     ]
    },
    {
     "name": "stdout",
     "output_type": "stream",
     "text": [
      "total number of buses required is 5\n"
     ]
    }
   ],
   "source": [
    "#1..Take the input from the user for(Total number of people,Number of seats for bus. Based on two inputs\n",
    "#Decide how many number of buses required\n",
    "number_of_people=int(input('enter number of people'))\n",
    "number_of_seats_per_bus=int(input('enter number of seats'))\n",
    "total_number_buses_required=number_of_people//number_of_seats_per_bus\n",
    "if number_of_people%number_of_seats_per_bus:\n",
    "    \n",
    "print('total number of buses required is',total_number_buses_required)\n"
   ]
  },
  {
   "cell_type": "code",
   "execution_count": 8,
   "id": "9033e0e3-72b2-469e-abe9-33a1f476e17a",
   "metadata": {},
   "outputs": [
    {
     "name": "stdout",
     "output_type": "stream",
     "text": [
      "enter fahrenhiet value: 208.4\n"
     ]
    },
    {
     "name": "stdout",
     "output_type": "stream",
     "text": [
      "98.0\n"
     ]
    }
   ],
   "source": [
    "  #2.take temperature from the user and convert fahrenheit -> Celsius.\n",
    "fahrenhiet=float(input('enter fahrenhiet value:'))\n",
    "celsius=(fahrenhiet - 32) * 5/9\n",
    "print(celsius)\n"
   ]
  },
  {
   "cell_type": "code",
   "execution_count": 4,
   "id": "15777db6-10c9-4c7a-b73b-73fc77b418bb",
   "metadata": {},
   "outputs": [
    {
     "name": "stdout",
     "output_type": "stream",
     "text": [
      "enter celsius value 98\n"
     ]
    },
    {
     "name": "stdout",
     "output_type": "stream",
     "text": [
      "208.4\n"
     ]
    }
   ],
   "source": [
    "#3.take temperature from the user and convert Celsius → foreign heat.\n",
    "\n",
    "celsius=float(input('enter celsius value'))\n",
    "fahrenhiet= (celsius * 9/5) + 32\n",
    "print(fahrenhiet)"
   ]
  },
  {
   "cell_type": "code",
   "execution_count": 5,
   "id": "311173bf-acda-4427-aebd-6ad309009f35",
   "metadata": {},
   "outputs": [
    {
     "name": "stdin",
     "output_type": "stream",
     "text": [
      " 1 2 3 4\n"
     ]
    },
    {
     "name": "stdout",
     "output_type": "stream",
     "text": [
      "9.0\n",
      "343.0\n",
      "1.25\n",
      "1.118033988749895\n",
      "12.345\n",
      "2.5\n",
      "10.0\n"
     ]
    }
   ],
   "source": [
    "'''4.Take four number from the user (variables name it as x1,x2,x3,x4)\n",
    " Do the below operations\n",
    " (x1+x2)**2, (x3+x4)**3\n",
    "variance\n",
    "standard deviation: sqrt(variance):  User math module. Math.sqrt(variance)\n",
    "Regression\n",
    "\ty=mx+b\n",
    "          m=1.23\n",
    "          b=0.045\n",
    "          find out y\n",
    "          y=m*(x1+x2+x3+x4)+b\n",
    " Find the average of four numbers\n",
    "Find the sum of four numbers\n",
    "\n",
    "'''\n",
    "import math\n",
    "x1,x2,x3,x4 = map(float,input().split())\n",
    "res1 = (x1+x2)**2\n",
    "res2 = (x3+x4)**3\n",
    "mean = (x1+x2+x3+x4)/4\n",
    "varience = ((x1-mean)**2 + (x2-mean)**2 + (x3-mean)**2 + (x4-mean)**2)/4\n",
    "std_dev = math.sqrt(varience)\n",
    "y = 1.23*(x1+x2+x3+x4)+0.045\n",
    "avg = mean\n",
    "sum_of_four = x1+x2+x3+x4\n",
    "print(res1)\n",
    "print(res2)\n",
    "print(varience)\n",
    "print(std_dev)\n",
    "print(y)\n",
    "print(avg)\n",
    "print(sum_of_four)\n"
   ]
  },
  {
   "cell_type": "code",
   "execution_count": 64,
   "id": "02e46f44-1a53-4842-808a-cccdd2d59068",
   "metadata": {},
   "outputs": [
    {
     "name": "stdin",
     "output_type": "stream",
     "text": [
      " 10\n"
     ]
    },
    {
     "name": "stdout",
     "output_type": "stream",
     "text": [
      " 10.0km to cm is 1000000.0 cm\n",
      " 10.0km to mtrs is 10000.0 mtrs\n",
      " 10.0km to mm is 10000000.0 mm\n",
      " 10.0km to Cents is 393701.0\n",
      " 10.0km to Feets is 32808.4\n",
      " 10.0km to Yards is 10936.099999999999\n"
     ]
    }
   ],
   "source": [
    "## 5.Take the distance in km\n",
    "##  \tShow that in cm, meters, in milli meters, cents, feets, yards\n",
    "distance_km = float(input())\n",
    "print(f\" {distance_km}km to cm is {distance_km*100000} cm\")\n",
    "print(f\" {distance_km}km to mtrs is {distance_km*1000} mtrs\")\n",
    "print(f\" {distance_km}km to mm is {distance_km*1000000} mm\")\n",
    "print(f\" {distance_km}km to Cents is {distance_km*39370.1}\")\n",
    "print(f\" {distance_km}km to Feets is {distance_km*3280.84}\")\n",
    "print(f\" {distance_km}km to Yards is {distance_km*1093.61}\")\n"
   ]
  },
  {
   "cell_type": "code",
   "execution_count": 69,
   "id": "e9e475c2-35f5-4642-9182-f17a2fbafb99",
   "metadata": {},
   "outputs": [
    {
     "name": "stdin",
     "output_type": "stream",
     "text": [
      "Enter size in GB:-  1\n"
     ]
    },
    {
     "name": "stdout",
     "output_type": "stream",
     "text": [
      " size of 1.0Gb to Mb is 1000.0 Mb\n",
      " size of 1.0Gb to Kb is 1000000.0 Kb\n",
      " size of 1.0Gb to Tb is 0.001 Tb\n",
      " size of 1.0Gb to Pb is 1e-06 Pb\n"
     ]
    }
   ],
   "source": [
    "## 6.Take the size of your hard disk in GB\n",
    "##   \tShow that in MB, KB, TB, PB\n",
    "disk_size = float(input(\"Enter size in GB:- \"))\n",
    "print(f' size of {disk_size}Gb to Mb is {disk_size*1000} Mb')\n",
    "print(f' size of {disk_size}Gb to Kb is {disk_size*1000000} Kb')\n",
    "print(f' size of {disk_size}Gb to Tb is {disk_size*0.001} Tb')\n",
    "print(f' size of {disk_size}Gb to Pb is {disk_size/1000000} Pb')\n"
   ]
  },
  {
   "cell_type": "code",
   "execution_count": 71,
   "id": "7c77bd60-fb5e-4dab-88a7-bf3b6d22e5e5",
   "metadata": {},
   "outputs": [
    {
     "name": "stdin",
     "output_type": "stream",
     "text": [
      " venkatesh,50,6.5\n"
     ]
    },
    {
     "name": "stdout",
     "output_type": "stream",
     "text": [
      "The details of the person: Name:venkatesh, age:50, height:6.5\n"
     ]
    }
   ],
   "source": [
    "'''\n",
    "7. Take name, age, height from the user and print like below\n",
    "The details of the person: Name:name of the person, Age:age of the person, Height:height of the person\n",
    "Note: make sure that no space between : and a value and should be space after “COMA”\n",
    "'''\n",
    "name,age,height = map(str,input().split(\",\"))\n",
    "print(f'The details of the person: Name:{name}, age:{age}, height:{height}')\n"
   ]
  },
  {
   "cell_type": "code",
   "execution_count": 9,
   "id": "b34905a7-54f4-427b-bd40-1579057b17f1",
   "metadata": {},
   "outputs": [
    {
     "name": "stdin",
     "output_type": "stream",
     "text": [
      "Enter your height:-  5.4\n",
      "Enter your weight:-  50\n"
     ]
    },
    {
     "name": "stdout",
     "output_type": "stream",
     "text": [
      "The BMI of yours is 1.7146776406035664\n"
     ]
    }
   ],
   "source": [
    "##8. BMI calculation: take required parameters for BMI calculation from the user and calculate BMI of the person.\n",
    "height = float(input(\"Enter your height:- \"))\n",
    "weight = float(input(\"Enter your weight:- \"))\n",
    "bmi = weight/(height**2) \n",
    "print(\"The BMI of yours is\", bmi)\n"
   ]
  },
  {
   "cell_type": "code",
   "execution_count": 74,
   "id": "2f117c0d-5906-4ee5-979c-6333d8a6aada",
   "metadata": {},
   "outputs": [
    {
     "name": "stdout",
     "output_type": "stream",
     "text": [
      "Name: Jayaram, Age: 1.6, Height: 3.54, Weight: 10.344\n"
     ]
    }
   ],
   "source": [
    "'''\n",
    "9.name=\"Jayaram\"\n",
    "age=1.6\n",
    "height=3.5356234\n",
    "weight=10.343856783\n",
    "By using above inputs print the output\n",
    "Name:Jayaram, Age:1.6, Height:3.54, Weight:10.344\n",
    "Note: Use format specifiers(%s, %d, %f)\n",
    "'''\n",
    "\n",
    "name=\"Jayaram\"\n",
    "age=1.6\n",
    "height=3.5356234\n",
    "weight=10.343856783\n",
    "info = \"Name: %s, Age: %.1f, Height: %.2f, Weight: %.3f\"%(name, age, height, weight)\n",
    "print(info)"
   ]
  },
  {
   "cell_type": "code",
   "execution_count": 11,
   "id": "b8b5c8d6-3762-4ed9-b60d-78da4c3e172b",
   "metadata": {},
   "outputs": [
    {
     "name": "stdin",
     "output_type": "stream",
     "text": [
      "Enter Three Upper Case Letters:-  BBB\n"
     ]
    },
    {
     "name": "stdout",
     "output_type": "stream",
     "text": [
      "bbb\n"
     ]
    }
   ],
   "source": [
    "# 10. Take three upper case letters from the user convert in to small case.\n",
    "letter = input(\"Enter Three Upper Case Letters:- \")\n",
    "print(letter.lower())"
   ]
  },
  {
   "cell_type": "code",
   "execution_count": 75,
   "id": "eff01633-f023-40d6-a8cb-8a49ca8e166d",
   "metadata": {},
   "outputs": [
    {
     "name": "stdin",
     "output_type": "stream",
     "text": [
      "Enter base value:-  6\n",
      "Enter exponent value:-  9\n"
     ]
    },
    {
     "name": "stdout",
     "output_type": "stream",
     "text": [
      "6^9\n"
     ]
    }
   ],
   "source": [
    "# 11.Take base and exponent value from the user and print like in mathematics:\n",
    "# example: base=2, exponent=3: 23\n",
    "base = input(\"Enter base value:- \")\n",
    "exponent = input(\"Enter exponent value:- \")\n",
    "exponent = f'{base}^{exponent}'\n",
    "print(exponent)\n"
   ]
  },
  {
   "cell_type": "code",
   "execution_count": 14,
   "id": "e3bdbbdb-c984-488b-a93e-e9d607532e1a",
   "metadata": {},
   "outputs": [
    {
     "name": "stdout",
     "output_type": "stream",
     "text": [
      "Total cost:- 184\n",
      "Average cost:- 36.8\n",
      "Max cost:- 64\n",
      "Min cost: 4\n"
     ]
    }
   ],
   "source": [
    "# 12. Take some groceries cost prices and print total cost and average cost, what is the max cost, what is the minimum cost.\n",
    "cost_prices = [58,64,28,4,30]\n",
    "total_cost = sum(cost_prices)\n",
    "avg_cost = total_cost / len(cost_prices)\n",
    "max_cost = max(cost_prices)\n",
    "min_cost = min(cost_prices)\n",
    "print(\"Total cost:-\", total_cost)\n",
    "print(\"Average cost:-\", avg_cost)\n",
    "print(\"Max cost:-\", max_cost)\n",
    "print('Min cost:',min_cost)"
   ]
  },
  {
   "cell_type": "code",
   "execution_count": 80,
   "id": "ed7dbc03-2486-4166-97fc-d487f5373818",
   "metadata": {},
   "outputs": [
    {
     "name": "stdin",
     "output_type": "stream",
     "text": [
      "Enter value:-  0\n",
      "enter value:-  90\n"
     ]
    },
    {
     "name": "stdout",
     "output_type": "stream",
     "text": [
      "Not ten\n"
     ]
    }
   ],
   "source": [
    "# 13. Assign “ten” value to variable it is 10 otherwise assign “Not ten”\n",
    "# Note: write two versions of program\n",
    "# Version1: use and operator\n",
    "\n",
    "\n",
    "\n",
    "\n",
    "v1 = int(input(\"Enter value:- \"))\n",
    "v2 = int(input(\"enter value:- \"))\n",
    "if v1 and v2:\n",
    "    print(\"ten\")\n",
    "else:\n",
    "    print(\"Not ten\")"
   ]
  },
  {
   "cell_type": "code",
   "execution_count": 81,
   "id": "27dc79d0-22e8-4ce2-870f-27d192f41fb5",
   "metadata": {},
   "outputs": [
    {
     "name": "stdin",
     "output_type": "stream",
     "text": [
      "Enter value:-  0\n",
      "enter value:-  60\n"
     ]
    },
    {
     "name": "stdout",
     "output_type": "stream",
     "text": [
      "ten\n"
     ]
    }
   ],
   "source": [
    "#using or\n",
    "v1 = int(input(\"Enter value:- \"))\n",
    "v2 = int(input(\"enter value:- \"))\n",
    "if v1 or v2:\n",
    "    print(\"ten\")\n",
    "else:\n",
    "    print(\"Not ten\")"
   ]
  },
  {
   "cell_type": "code",
   "execution_count": 82,
   "id": "73c0ffa1-be2c-4b1a-b36d-9a959ff5b3ca",
   "metadata": {},
   "outputs": [
    {
     "name": "stdin",
     "output_type": "stream",
     "text": [
      "Enter number of people:-  310\n",
      "Enter number of buses:-  30\n",
      "Enter number of seats:-  10\n",
      "Enter adjust factor:-  10\n"
     ]
    },
    {
     "name": "stdout",
     "output_type": "stream",
     "text": [
      "32\n",
      "Sufficient buses\n"
     ]
    }
   ],
   "source": [
    "# 13. Take the input from the user for(Total number of people, total number of buses, Number of seats\n",
    "#     for bus, adjust factor). Based on four inputs\n",
    "#     Decide whether there is sufficient buses or not and give solution for how many extra buses required.\n",
    "\n",
    "people = int(input(\"Enter number of people:- \"))\n",
    "buses = int(input(\"Enter number of buses:- \"))\n",
    "seats = int(input(\"Enter number of seats:- \"))\n",
    "factor = int(input(\"Enter adjust factor:- \"))\n",
    "\n",
    "#seats_per_bus = seats//buses\n",
    "no_of_buses = (people+factor)//(seats)\n",
    "print(no_of_buses)\n",
    "if (people+factor)%seats != 0:\n",
    "    no_of_buses += 1\n",
    "    \n",
    "    if buses > no_of_buses:\n",
    "        print(f\"{no_of_buses} buses required but\")\n",
    "        print(f\"{buses-no_of_buses} extra buses are their\")\n",
    "    else:\n",
    "        print(\"No Sufficient buses\")\n",
    "        print(f\"{no_of_buses-buses} buses are required\")\n",
    "        \n",
    "else:\n",
    "    print(\"Sufficient buses\")\n",
    "    \n",
    "\n",
    "    \n"
   ]
  },
  {
   "cell_type": "code",
   "execution_count": 18,
   "id": "36e5c343-ab0b-47bc-aacc-1d1b9a7cd53f",
   "metadata": {},
   "outputs": [
    {
     "name": "stdin",
     "output_type": "stream",
     "text": [
      "Enter a value:-  2\n"
     ]
    },
    {
     "name": "stdout",
     "output_type": "stream",
     "text": [
      "EVEN\n"
     ]
    }
   ],
   "source": [
    "# 14.Take number from the user decide whether it is even or odd.\n",
    "\n",
    "value = int(input(\"Enter a value:- \"))\n",
    "if value%2 == 0:\n",
    "    print(\"EVEN\")\n",
    "else:\n",
    "    print(\"ODD\")"
   ]
  },
  {
   "cell_type": "code",
   "execution_count": 83,
   "id": "a8a6189b-3ecc-4e49-b053-3fed6117b0f5",
   "metadata": {},
   "outputs": [
    {
     "name": "stdin",
     "output_type": "stream",
     "text": [
      "enter a number 56\n"
     ]
    },
    {
     "name": "stdout",
     "output_type": "stream",
     "text": [
      "Positive number\n"
     ]
    }
   ],
   "source": [
    "# 15.take number from the user decide whether it is positive number or negative number\n",
    "\n",
    "num = input('enter a number')\n",
    "if num[0] == \"-\":\n",
    "    print(\"Negative number\")\n",
    "else:\n",
    "    print(\"Positive number\")"
   ]
  },
  {
   "cell_type": "code",
   "execution_count": 22,
   "id": "e51dad9b-e032-46e1-b3b8-eac05107485a",
   "metadata": {},
   "outputs": [
    {
     "name": "stdin",
     "output_type": "stream",
     "text": [
      "Enter a word:-  \n"
     ]
    },
    {
     "data": {
      "text/plain": [
       "'Error'"
      ]
     },
     "execution_count": 22,
     "metadata": {},
     "output_type": "execute_result"
    }
   ],
   "source": [
    "# 16.take a string from the user print the length. if the user not given anything then show an error message\n",
    "\n",
    "string = input(\"Enter a word:- \")\n",
    "len_string = len(string)\n",
    "print(len_string) if len_string else \"Error\""
   ]
  },
  {
   "cell_type": "code",
   "execution_count": 85,
   "id": "7450fac0-d88a-4bff-816f-720a62970a2f",
   "metadata": {},
   "outputs": [
    {
     "name": "stdin",
     "output_type": "stream",
     "text": [
      "Enter number1:-  4\n",
      "Enter number2:-  5\n"
     ]
    },
    {
     "name": "stdout",
     "output_type": "stream",
     "text": [
      "1. ADD\n",
      "2. SUB\n",
      "3. MUL\n",
      "4. DIV\n",
      "5. Quit \n"
     ]
    },
    {
     "name": "stdin",
     "output_type": "stream",
     "text": [
      "Enter an option to perform a operation:-  3\n"
     ]
    },
    {
     "name": "stdout",
     "output_type": "stream",
     "text": [
      "20.0\n"
     ]
    }
   ],
   "source": [
    "'''\n",
    "17.Code to perform mathematical operations. take two numbers from the user and show the below menu\n",
    "   1. add,\n",
    "   2. sub,\n",
    "   3. mul,\n",
    "   4.div,\n",
    "   5.quit\n",
    "  Enter an option:\n",
    "  based on the option need to perform an operations\n",
    "'''\n",
    "\n",
    "num1 = float(input(\"Enter number1:- \"))\n",
    "num2 = float(input(\"Enter number2:- \"))\n",
    "print(\"1. ADD\\n2. SUB\\n3. MUL\\n4. DIV\\n5. Quit \")\n",
    "user = input(\"Enter an option to perform a operation:- \")\n",
    "\n",
    "if user == '1':\n",
    "    print(num1+num2)\n",
    "elif user == '2':\n",
    "    print(num1-num2)\n",
    "elif user == '3':\n",
    "    print(num1*num2)\n",
    "elif user == '4':\n",
    "    print(num1/num2)\n",
    "else:\n",
    "    print(\"You are quited\")"
   ]
  },
  {
   "cell_type": "code",
   "execution_count": 24,
   "id": "de0aee9e-9330-4ce8-ae2b-1cf5d3864a8c",
   "metadata": {
    "scrolled": true
   },
   "outputs": [
    {
     "name": "stdout",
     "output_type": "stream",
     "text": [
      "1. Kids\n",
      "2. Men's\n",
      "3. Women's\n"
     ]
    },
    {
     "name": "stdin",
     "output_type": "stream",
     "text": [
      "Enter an option:-  3\n"
     ]
    },
    {
     "name": "stdout",
     "output_type": "stream",
     "text": [
      "You are a good women\n"
     ]
    }
   ],
   "source": [
    "'''\n",
    "18. show the menu:\n",
    "    1. kids\n",
    "    2. Men's\n",
    "    3. Women's\n",
    "    Show the corresponding message based on the selection.\n",
    "    Option:1: you are a kid\n",
    "    2: you are a gentlemen\n",
    "    3: you are a good women\n",
    "    Mention error message if the option value >3.\n",
    "'''\n",
    "\n",
    "print(\"1. Kids\\n2. Men's\\n3. Women's\")\n",
    "user = input(\"Enter an option:- \")\n",
    "if user == \"1\":\n",
    "    print(\"You are a Kid\")\n",
    "elif user == \"2\":\n",
    "    print(\"You are a gentlemen\")\n",
    "elif user == \"3\":\n",
    "    print(\"You are a good women\")\n",
    "else:\n",
    "    print(\"Error\")"
   ]
  },
  {
   "cell_type": "code",
   "execution_count": 25,
   "id": "c148514e-c485-45b1-af60-fdfd4fe3f26d",
   "metadata": {},
   "outputs": [
    {
     "name": "stdin",
     "output_type": "stream",
     "text": [
      "Enter a string:-  she is looking ugly\n",
      "Enter a sub-string:-  ugly\n"
     ]
    },
    {
     "name": "stdout",
     "output_type": "stream",
     "text": [
      "YES\n"
     ]
    }
   ],
   "source": [
    "'''\n",
    "19. Write a program to chcek given substring is there in actual string or not?\n",
    "    example: act=\"python is a pure object oriented programing language\"\n",
    "    heck whether “pure” is there in act or not.\n",
    "    Note: Use in operator\n",
    "'''\n",
    "\n",
    "string = input(\"Enter a string:- \")\n",
    "sub_string = input(\"Enter a sub-string:- \")\n",
    "\n",
    "if sub_string in string:\n",
    "    print(\"YES\")\n",
    "else:\n",
    "    print(\"NO\")"
   ]
  },
  {
   "cell_type": "code",
   "execution_count": 26,
   "id": "7150ba5b-9827-4deb-9822-b86955be1f2c",
   "metadata": {},
   "outputs": [
    {
     "name": "stdin",
     "output_type": "stream",
     "text": [
      "Enter three values separated by space:-  35 40 51\n"
     ]
    },
    {
     "name": "stdout",
     "output_type": "stream",
     "text": [
      "51\n"
     ]
    }
   ],
   "source": [
    "# 20. Take three numbers from the user and decide which is big\n",
    "v1,v2,v3 = map(int, input(\"Enter three values separated by space:- \").split())\n",
    "\n",
    "big = 0\n",
    "\n",
    "if v1 > v2 and v1 > v3:\n",
    "    big = v1\n",
    "elif v2 > v1 and v2 > v3:\n",
    "    big = v2\n",
    "else:\n",
    "    big = v3\n",
    "print(big)\n"
   ]
  },
  {
   "cell_type": "code",
   "execution_count": 27,
   "id": "b9dee007-3ac9-4d69-a554-0f798e37400f",
   "metadata": {},
   "outputs": [
    {
     "name": "stdin",
     "output_type": "stream",
     "text": [
      "Enter your age:-  30\n",
      "Enter your gender:-  men\n"
     ]
    },
    {
     "name": "stdout",
     "output_type": "stream",
     "text": [
      "Eligible for marriage in India\n"
     ]
    }
   ],
   "source": [
    "# 21. Take age and gender from the user and decide whether he is eligible for marriage in India or not.\n",
    "# Age criteria: men age>24, women>21\n",
    "\n",
    "user_age = int(input(\"Enter your age:- \"))\n",
    "gender = input(\"Enter your gender:- \")\n",
    "\n",
    "if gender == \"men\":\n",
    "    if user_age > 24 :\n",
    "        print(\"Eligible for marriage in India\")\n",
    "    else:\n",
    "        print(\"Not eligible for marriage in India\")\n",
    "elif gender == \"women\":\n",
    "    if user_age > 21 :\n",
    "        print(\"Eligible for marriage in India\")\n",
    "    else:\n",
    "        print(\"Not eligible for marriage in India\")"
   ]
  },
  {
   "cell_type": "code",
   "execution_count": 28,
   "id": "3000f3ff-cfc3-475f-a7bf-c1fdcd58e28b",
   "metadata": {},
   "outputs": [
    {
     "name": "stdin",
     "output_type": "stream",
     "text": [
      "Enter your age:-  18\n",
      "Enter your gender:-  men\n"
     ]
    },
    {
     "name": "stdout",
     "output_type": "stream",
     "text": [
      "He can eligible for theatre in India\n",
      "He can eligible for voting system in India\n",
      "He can eligible for government jobs in India\n",
      "He can eligible for driving licence in India\n"
     ]
    }
   ],
   "source": [
    "'''\n",
    "22. Take an age and gender from the user: and mention that what he/she can do in india.\n",
    "    conditions\n",
    "       1. Theatre: 5 for men 7 for women\n",
    "       2. Voting system: 18 for men and women\n",
    "       3. Marriage in india: 23 for men and for women >21\n",
    "       4. For govt jobs: (min:18, max:32) for men and (min:18, max:34) for women\n",
    "       5. For driving licence: (min:18, max:60) for men and women\n",
    "    Eligibility:\n",
    "       1. theatre\n",
    "       2. Voting system\n",
    "       3. Marriage in india\n",
    "       4. For govt obs\n",
    "       5. For driving licence:\n",
    "    Enter an option:\n",
    "       Gender:\n",
    "       1. men\n",
    "       2. women\n",
    "    Enter an option:\n",
    "    Enter an age of person:\n",
    "'''\n",
    "\n",
    "age = int(input(\"Enter your age:- \"))\n",
    "gender = input(\"Enter your gender:- \")\n",
    "\n",
    "if gender == \"men\":\n",
    "    if age >= 5:\n",
    "        print(\"He can eligible for theatre in India\")\n",
    "    if age >= 18:\n",
    "        print(\"He can eligible for voting system in India\")\n",
    "    if age >= 23:\n",
    "        print(\"He can eligible for marriage in India\")\n",
    "    if age >= 18 and age <= 32:\n",
    "        print(\"He can eligible for government jobs in India\")\n",
    "    if age >=18 and age <= 60:\n",
    "        print(\"He can eligible for driving licence in India\")\n",
    "    else:\n",
    "        print(\"Not eligible\")\n",
    "elif gender == \"women\":\n",
    "    if age >= 7:\n",
    "        print(\"He can eligible for theatre in India\")\n",
    "    if age >= 18:\n",
    "        print(\"He can eligible for voting system in India\")\n",
    "    if age >= 21:\n",
    "        print(\"He can eligible for marriage in India\")\n",
    "    if age >= 18 and age <= 34:\n",
    "        print(\"He can eligible for government jobs in India\")\n",
    "    if age >=18 and age <= 60:\n",
    "        print(\"He can eligible for driving licence in India\")\n",
    "    else:\n",
    "        print(\"Not eligible\")"
   ]
  },
  {
   "cell_type": "code",
   "execution_count": 31,
   "id": "7243f95e-7e56-4e25-99f1-dca670579f23",
   "metadata": {},
   "outputs": [
    {
     "name": "stdin",
     "output_type": "stream",
     "text": [
      "Enter an option:-  4\n"
     ]
    },
    {
     "name": "stdout",
     "output_type": "stream",
     "text": [
      "There is only three floors, please select 1 or 2 or 3\n"
     ]
    }
   ],
   "source": [
    "'''\n",
    "23. Operating systems:\n",
    "      1.windows\n",
    "      2.android\n",
    "      3.mac\n",
    "    Enter an option:\n",
    "      If the user enters 1 then show \"Goto first floor and buy windows laptop or mobile\"\n",
    "      If the user enters 2 then show \"Goto second floor and buy adroid mobiles\"\n",
    "      If the user enters 3 then show \"Goto third floor and buy mac laptop or iphones\"\n",
    "      If the user enters other than 1 or 2 or 3 then show \"There is only three floors, please select 1 or 2 or 3\"\n",
    "'''\n",
    "\n",
    "user = int(input(\"Enter an option:- \"))\n",
    "if user == 1:\n",
    "    print(\"Goto first floor and buy windows laptop or mobile\")\n",
    "elif user == 2:\n",
    "    print(\"Goto second floor and buy adroid mobiles\")\n",
    "elif user == 3:\n",
    "    print(\"Goto third floor and buy mac laptop or iphones\")\n",
    "else:\n",
    "    print(\"There is only three floors, please select 1 or 2 or 3\")\n"
   ]
  },
  {
   "cell_type": "code",
   "execution_count": 86,
   "id": "d702d63e-c765-46da-8e6c-19860e206629",
   "metadata": {},
   "outputs": [
    {
     "name": "stdin",
     "output_type": "stream",
     "text": [
      "Enter your age:-  26\n"
     ]
    },
    {
     "name": "stdout",
     "output_type": "stream",
     "text": [
      "adult\n"
     ]
    }
   ],
   "source": [
    "# 24.Given an age, figure out whether someone's a baby, toddler, child, teenager, adult or old codger.\n",
    "\n",
    "age = int(input(\"Enter your age:- \"))\n",
    "if age <= 1:\n",
    "    print(\"baby\")\n",
    "elif age > 1 and age <=5:\n",
    "    print(\"toddler\")\n",
    "elif age > 5 and age <=12:\n",
    "    print(\"Child\")\n",
    "elif age > 13 and age <= 19:\n",
    "    print(\"teenage\")\n",
    "elif age > 20 and age <= 34:\n",
    "    print(\"adult\")\n",
    "elif age >= 60:\n",
    "    print(\"old codger\")"
   ]
  },
  {
   "cell_type": "code",
   "execution_count": 33,
   "id": "336d45b5-e3c5-438e-a301-01d0d86e66d2",
   "metadata": {},
   "outputs": [
    {
     "name": "stdin",
     "output_type": "stream",
     "text": [
      "Enter a number1:-  25\n",
      "Enter a number2:-  5\n"
     ]
    },
    {
     "name": "stdout",
     "output_type": "stream",
     "text": [
      "Yes\n"
     ]
    }
   ],
   "source": [
    "# 25.Take two number a,b from the user and check whether a is divisible by b or not\n",
    "\n",
    "a = int(input(\"Enter a number1:- \"))\n",
    "b = int(input(\"Enter a number2:- \"))\n",
    "\n",
    "if b!= 0:\n",
    "    if a%b == 0:\n",
    "        print(\"Yes\")\n",
    "    else:\n",
    "        print(\"No\")\n",
    "else:\n",
    "    print(\"Zero division error\")"
   ]
  },
  {
   "cell_type": "code",
   "execution_count": 87,
   "id": "b02f1dd0-f59e-4471-aaea-c008a15d60ea",
   "metadata": {},
   "outputs": [
    {
     "name": "stdin",
     "output_type": "stream",
     "text": [
      "Enter any character only once:-  u\n"
     ]
    },
    {
     "name": "stdout",
     "output_type": "stream",
     "text": [
      "entered value is Lower case\n"
     ]
    }
   ],
   "source": [
    "# 26. Take a letter from the user and print that letter belongs to which category I.e is it a small letter or capital letter\n",
    "# or number or special symbol\n",
    "\n",
    "user = input(\"Enter any character only once:- \")\n",
    "if user.isupper():\n",
    "    print(\"entered value is Upper case\")\n",
    "elif user.islower():\n",
    "    print(\"entered value is Lower case\")\n",
    "elif user.isdigit():\n",
    "    print(\"entered value is Number\")\n",
    "else:\n",
    "    print(\"entered value is Special character\")"
   ]
  },
  {
   "cell_type": "code",
   "execution_count": 39,
   "id": "563565ab-3f43-4526-943c-f8b9c8418896",
   "metadata": {},
   "outputs": [
    {
     "name": "stdin",
     "output_type": "stream",
     "text": [
      "Enter a number:-  51\n"
     ]
    },
    {
     "name": "stdout",
     "output_type": "stream",
     "text": [
      "Not Prime\n"
     ]
    }
   ],
   "source": [
    "# 25. Take a number from the user and check whether it is prime?\n",
    "\n",
    "n = int(input(\"Enter a number:- \"))\n",
    "\n",
    "if n <= 1:\n",
    "    print(\"Not Prime\")\n",
    "else:\n",
    "    c = 0\n",
    "    for i in range(1,n+1):\n",
    "        if n%i == 0:\n",
    "            c += 1\n",
    "    if c == 2:\n",
    "        print(\"It's Prime\")\n",
    "    else:\n",
    "        print(\"Not Prime\")"
   ]
  },
  {
   "cell_type": "code",
   "execution_count": 41,
   "id": "1ca8bf89-1df7-4db6-8fe3-7fe4e5c4b0fa",
   "metadata": {},
   "outputs": [
    {
     "name": "stdin",
     "output_type": "stream",
     "text": [
      "Enter input:-  jdfsud6867\n"
     ]
    },
    {
     "name": "stdout",
     "output_type": "stream",
     "text": [
      "Does not contain only digits\n"
     ]
    }
   ],
   "source": [
    "# 26. Take a string from the user and check contains only digits or not?\n",
    "\n",
    "string = input(\"Enter input:- \")\n",
    "\n",
    "if string.isdigit():\n",
    "    print(\"Contain only digits\")\n",
    "else:\n",
    "    print(\"Does not contain only digits\")"
   ]
  },
  {
   "cell_type": "code",
   "execution_count": 42,
   "id": "8d9091a4-1aa8-46e1-b419-211fd4e5361a",
   "metadata": {},
   "outputs": [
    {
     "name": "stdin",
     "output_type": "stream",
     "text": [
      "Enter input:-  sjgdjs7\n"
     ]
    },
    {
     "name": "stdout",
     "output_type": "stream",
     "text": [
      "Does not contains only alphabets\n"
     ]
    }
   ],
   "source": [
    "# 27. Take a string from the user and check contains only alphabets or not?\n",
    "string = input(\"Enter input:- \")\n",
    "\n",
    "if string.isalpha():\n",
    "    print(\"Contains only alphabets\")\n",
    "else:\n",
    "    print(\"Does not contains only alphabets\")"
   ]
  },
  {
   "cell_type": "code",
   "execution_count": 94,
   "id": "6c69a22f-39b6-4613-8339-6d7b0dd76c37",
   "metadata": {},
   "outputs": [
    {
     "name": "stdin",
     "output_type": "stream",
     "text": [
      "Enter input:-  e5ryfg65$%#\n"
     ]
    },
    {
     "name": "stdout",
     "output_type": "stream",
     "text": [
      "The string does not contain special characters\n"
     ]
    },
    {
     "data": {
      "text/plain": [
       "'if not string.isalnum(): \\n\\n    print(\"Contains only special characters\")\\nelse:\\n    print(\"Does not contain only special characters\")'"
      ]
     },
     "execution_count": 94,
     "metadata": {},
     "output_type": "execute_result"
    }
   ],
   "source": [
    "# 28. Take a string from the user and check contains only special chars or not?\n",
    "string = input(\"Enter input:- \")\n",
    "if all(not i.isalnum() for i in string):\n",
    "    print(\"The string contain only special characters\")\n",
    "else:\n",
    "   print(\"The string does not contain special characters\")\n",
    "#string = input(\"Enter input:- \")\n",
    "\n",
    "'''if not string.isalnum(): \n",
    "\n",
    "    print(\"Contains only special characters\")\n",
    "else:\n",
    "    print(\"Does not contain only special characters\")'''\n",
    "    \n",
    "        "
   ]
  },
  {
   "cell_type": "code",
   "execution_count": 93,
   "id": "fdbaa84d-78b5-48ff-a75c-8a8076568e1d",
   "metadata": {},
   "outputs": [
    {
     "name": "stdin",
     "output_type": "stream",
     "text": [
      "Enter input:-  fhjdhGJJ\n"
     ]
    },
    {
     "name": "stdout",
     "output_type": "stream",
     "text": [
      "Does not contan only capital letters\n"
     ]
    }
   ],
   "source": [
    "# 29.Take a string from the user and check contains only capital letters or not?\n",
    "\n",
    "string = input(\"Enter input:- \")\n",
    "\n",
    "if all(i.isupper() for i in string):\n",
    "    print(\"Contains only capital letters\")\n",
    "else:\n",
    "    print(\"Does not contan only capital letters\")"
   ]
  },
  {
   "cell_type": "code",
   "execution_count": 95,
   "id": "eb3e4de2-8a86-4552-8caf-04a478d0bb58",
   "metadata": {},
   "outputs": [
    {
     "name": "stdin",
     "output_type": "stream",
     "text": [
      "Enter input:-  ajfkjdkjf\n"
     ]
    },
    {
     "name": "stdout",
     "output_type": "stream",
     "text": [
      "Contains only small letters\n"
     ]
    }
   ],
   "source": [
    "# 30.Take a string from the user and check contains only small letters or not?\n",
    "\n",
    "string = input(\"Enter input:- \")\n",
    "\n",
    "if all(i.islower() for i in string):\n",
    "    print(\"Contains only small letters\")\n",
    "else:\n",
    "    print(\"Does not contain only small letters\")"
   ]
  },
  {
   "cell_type": "code",
   "execution_count": 47,
   "id": "64a15de8-ba4d-4a7e-808e-eb4088fa49aa",
   "metadata": {},
   "outputs": [
    {
     "name": "stdout",
     "output_type": "stream",
     "text": [
      "apple,orange,apple,grape,orange,APPLE,APPLE,orange\n"
     ]
    }
   ],
   "source": [
    "'''\n",
    "31. WAP to replace last n occurrence of give string.\n",
    "For example:”apple,orange,apple,grape,orange,apple,apple,orange”\n",
    "source: “apple”\n",
    "last occurrences: 2\n",
    "replace with: APPLE\n",
    "output:”apple,orange,apple,grape,orange,APPLE,APPLE,orange”\n",
    "'''\n",
    "\n",
    "s = \"apple,orange,apple,grape,orange,apple,apple,orange\"\n",
    "list_s = s.split(\",\")\n",
    "new = list_s[::-1]\n",
    "c = 0\n",
    "for i in range (len(list_s[::-1])):\n",
    "    if new[i] == 'apple':\n",
    "        new[i] = \"APPLE\"\n",
    "        c += 1\n",
    "        if c == 2:\n",
    "            break       \n",
    "        \n",
    "print(\",\".join(new[::-1]))    "
   ]
  },
  {
   "cell_type": "code",
   "execution_count": 48,
   "id": "0c94dd34-f0d1-46d7-97f8-a372a5013d54",
   "metadata": {},
   "outputs": [
    {
     "name": "stdin",
     "output_type": "stream",
     "text": [
      "Enter input:-  4.5fkdsjghd\n"
     ]
    },
    {
     "name": "stdout",
     "output_type": "stream",
     "text": [
      "String contains number\n"
     ]
    }
   ],
   "source": [
    "# 32. WAP to check given string contains numbers or not. it should consider float numbers also.\n",
    "\n",
    "string = input(\"Enter input:- \")\n",
    "c = 0\n",
    "for i in string:\n",
    "    if i.isdigit() or (string.count('.') == 1):\n",
    "        c += 1\n",
    "        break\n",
    "if c == 1:\n",
    "    print(\"String contains number\")\n",
    "else:\n",
    "    print(\"String does not contains number\")"
   ]
  },
  {
   "cell_type": "code",
   "execution_count": 49,
   "id": "4cc3457b-b68e-4274-ac13-f4353fb9ae45",
   "metadata": {},
   "outputs": [
    {
     "name": "stdin",
     "output_type": "stream",
     "text": [
      "Enter input:-  PARASA\n"
     ]
    },
    {
     "name": "stdout",
     "output_type": "stream",
     "text": [
      "parasa\n"
     ]
    }
   ],
   "source": [
    "# 33. Convert the total string in to lower case. Without using lower() function.\n",
    "\n",
    "string = input(\"Enter input:- \")\n",
    "res = \"\"\n",
    "for i in string:\n",
    "    res += chr((ord(i))+32)\n",
    "print(res)"
   ]
  },
  {
   "cell_type": "code",
   "execution_count": 50,
   "id": "490f2828-95d3-4bd9-87fc-37f47d92ec78",
   "metadata": {},
   "outputs": [
    {
     "name": "stdin",
     "output_type": "stream",
     "text": [
      "Enter input:-  dbjfhdkgf\n"
     ]
    },
    {
     "name": "stdout",
     "output_type": "stream",
     "text": [
      "DBJFHDKGF\n"
     ]
    }
   ],
   "source": [
    "# 34. Convert the total string in to upper case. Without using upper() function.\n",
    "\n",
    "string = input(\"Enter input:- \")\n",
    "res = \"\"\n",
    "for i in string:\n",
    "    res += chr(ord(i)-32)\n",
    "print(res)"
   ]
  },
  {
   "cell_type": "code",
   "execution_count": 51,
   "id": "cdeef053-4d99-4d96-96d7-5f1dab600f8b",
   "metadata": {},
   "outputs": [
    {
     "name": "stdout",
     "output_type": "stream",
     "text": [
      "\tMenu:- \n",
      "1.windows\n",
      "2.Linux\n",
      "3.Mac\n",
      "4.quit\n"
     ]
    },
    {
     "name": "stdin",
     "output_type": "stream",
     "text": [
      "Enter input:-  2\n"
     ]
    },
    {
     "name": "stdout",
     "output_type": "stream",
     "text": [
      "linux\n",
      "\tMenu:- \n",
      "1.windows\n",
      "2.Linux\n",
      "3.Mac\n",
      "4.quit\n"
     ]
    },
    {
     "name": "stdin",
     "output_type": "stream",
     "text": [
      "Enter input:-  3\n"
     ]
    },
    {
     "name": "stdout",
     "output_type": "stream",
     "text": [
      "mac\n",
      "\tMenu:- \n",
      "1.windows\n",
      "2.Linux\n",
      "3.Mac\n",
      "4.quit\n"
     ]
    },
    {
     "name": "stdin",
     "output_type": "stream",
     "text": [
      "Enter input:-  4\n"
     ]
    },
    {
     "name": "stdout",
     "output_type": "stream",
     "text": [
      "quit\n"
     ]
    }
   ],
   "source": [
    "'''\n",
    "35. Show the below menu to the user until and until user select quit and display corresponding os message\n",
    "      Menu:\n",
    "\n",
    "        1. windows\n",
    "        2. Linux\n",
    "        3. Mac\n",
    "        4. quit\n",
    "'''\n",
    "\n",
    "while True:\n",
    "    print(\"\\tMenu:- \\n1.windows\\n2.Linux\\n3.Mac\\n4.quit\")\n",
    "    user = int(input(\"Enter input:- \"))\n",
    "    if user == 1:\n",
    "        print(\"window\")\n",
    "    elif user == 2:\n",
    "        print(\"linux\")\n",
    "    elif user == 3:\n",
    "        print(\"mac\")\n",
    "    elif user == 4:\n",
    "        print(\"quit\")\n",
    "        break\n",
    "    else:\n",
    "        print(\"any of the option\")"
   ]
  },
  {
   "cell_type": "code",
   "execution_count": 98,
   "id": "112dc036-dff7-4cea-bf61-98c39acfb18f",
   "metadata": {},
   "outputs": [
    {
     "name": "stdin",
     "output_type": "stream",
     "text": [
      "Enter input:-  hiehgjfdf6\n"
     ]
    },
    {
     "name": "stdout",
     "output_type": "stream",
     "text": [
      "String contains one digit\n"
     ]
    }
   ],
   "source": [
    "# 36. Take a string from the user and check contains at least one digit or not?\n",
    "\n",
    "string = input(\"Enter input:- \")\n",
    "\n",
    "for i in string:\n",
    "    if i.isdigit():\n",
    "        print(\"String contains one digit\")\n",
    "        break\n",
    "else:\n",
    "        print(\"String does not contains digit\")"
   ]
  },
  {
   "cell_type": "code",
   "execution_count": 54,
   "id": "962a55f1-697e-46de-9e9a-7c6fafba2a6a",
   "metadata": {},
   "outputs": [
    {
     "name": "stdin",
     "output_type": "stream",
     "text": [
      "Enter input:-  3454545g\n"
     ]
    },
    {
     "name": "stdout",
     "output_type": "stream",
     "text": [
      "String contains one alphabets\n"
     ]
    }
   ],
   "source": [
    "# 37. Take a string from the user and check contains at least one alphabets or not?\n",
    "\n",
    "string = input(\"Enter input:- \")\n",
    "\n",
    "for i in string:\n",
    "    if i.isalpha():\n",
    "        print(\"String contains one alphabets\")\n",
    "        break\n",
    "else:\n",
    "    print(\"String does not contains atleat one alphabets\")\n",
    "        "
   ]
  },
  {
   "cell_type": "code",
   "execution_count": 56,
   "id": "85a02ed0-66a8-4d9b-ad7f-44b3fb3be026",
   "metadata": {},
   "outputs": [
    {
     "name": "stdin",
     "output_type": "stream",
     "text": [
      "Enter input:-  4353j\n"
     ]
    },
    {
     "name": "stdout",
     "output_type": "stream",
     "text": [
      "String contains one char\n"
     ]
    }
   ],
   "source": [
    "# 38. Take a string from the user and check contains at least one chars or not?\n",
    "\n",
    "string = input(\"Enter input:- \")\n",
    "\n",
    "if len(string)>=1:\n",
    "    print(\"String contains one char\")\n",
    "else: \n",
    "    print(\"String does not contains chars\")"
   ]
  },
  {
   "cell_type": "code",
   "execution_count": 100,
   "id": "d3860acb-d9da-4035-9ff3-7d834f1c9408",
   "metadata": {},
   "outputs": [
    {
     "name": "stdin",
     "output_type": "stream",
     "text": [
      "Enter input:-  hfjhdjd\n"
     ]
    },
    {
     "name": "stdout",
     "output_type": "stream",
     "text": [
      "String does not contains capital letter\n"
     ]
    }
   ],
   "source": [
    "# 39. Take a string from the user and check contains at least one capital letter or not?\n",
    "\n",
    "string = input(\"Enter input:- \")\n",
    "\n",
    "for i in string:\n",
    "    if i.isupper():\n",
    "        print(\"String contains  capital letter\")\n",
    "        break\n",
    "else:\n",
    "        print(\"String does not contains capital letter\")\n",
    "    \n"
   ]
  },
  {
   "cell_type": "code",
   "execution_count": 59,
   "id": "f7b0bbd9-e7e4-4d34-b266-e244276a1268",
   "metadata": {},
   "outputs": [
    {
     "name": "stdin",
     "output_type": "stream",
     "text": [
      "Enter input:-  fkndkjfUHJHK\n"
     ]
    },
    {
     "name": "stdout",
     "output_type": "stream",
     "text": [
      "String contains at least one lower letter\n"
     ]
    }
   ],
   "source": [
    "# 40. Take a string from the user and check contains at least one small letter or not?\n",
    "\n",
    "string = input(\"Enter input:- \")\n",
    "\n",
    "for i in string:\n",
    "    if i.islower():\n",
    "        print(\"String contains at least one lower letter\")\n",
    "        break\n",
    "else:\n",
    "    print(\"String does not contains at least one lower letter\")\n"
   ]
  },
  {
   "cell_type": "code",
   "execution_count": null,
   "id": "ad284da0-d8d4-45da-b981-0162bf2085b2",
   "metadata": {},
   "outputs": [],
   "source": [
    "# 41. Print the first 100 odd numbers\n",
    "count = 0\n",
    "result = \"\"\n",
    "num = 1\n",
    "while 100 > count:\n",
    "    if num%2 != 0:\n",
    "        result += str(num)+\" \"\n",
    "        count += 1\n",
    "    num+= 1\n",
    "        \n",
    "print(result)      "
   ]
  },
  {
   "cell_type": "code",
   "execution_count": 61,
   "id": "c1f75223-21f3-4c89-8d3b-a8afad936f84",
   "metadata": {},
   "outputs": [
    {
     "name": "stdin",
     "output_type": "stream",
     "text": [
      " 30\n"
     ]
    },
    {
     "name": "stdout",
     "output_type": "stream",
     "text": [
      "1\n",
      "2\n",
      "3\n",
      "5\n",
      "6\n",
      "10\n",
      "15\n",
      "30\n"
     ]
    }
   ],
   "source": [
    "# 42. Determine the factors of a number entered by the user\n",
    "\n",
    "user = int(input())\n",
    "for i in range(1, user+1):\n",
    "    if user%i == 0:\n",
    "        print(i)"
   ]
  },
  {
   "cell_type": "code",
   "execution_count": null,
   "id": "61700074-1c3c-4976-bc3e-b46ee0a1310b",
   "metadata": {},
   "outputs": [],
   "source": []
  }
 ],
 "metadata": {
  "kernelspec": {
   "display_name": "Python 3 (ipykernel)",
   "language": "python",
   "name": "python3"
  },
  "language_info": {
   "codemirror_mode": {
    "name": "ipython",
    "version": 3
   },
   "file_extension": ".py",
   "mimetype": "text/x-python",
   "name": "python",
   "nbconvert_exporter": "python",
   "pygments_lexer": "ipython3",
   "version": "3.9.2"
  }
 },
 "nbformat": 4,
 "nbformat_minor": 5
}
