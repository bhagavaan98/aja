{
 "cells": [
  {
   "cell_type": "code",
   "execution_count": 4,
   "id": "687abcab",
   "metadata": {},
   "outputs": [
    {
     "ename": "ModuleNotFoundError",
     "evalue": "No module named 'PythonTasks'",
     "output_type": "error",
     "traceback": [
      "\u001b[1;31m---------------------------------------------------------------------------\u001b[0m",
      "\u001b[1;31mModuleNotFoundError\u001b[0m                       Traceback (most recent call last)",
      "Cell \u001b[1;32mIn[4], line 1\u001b[0m\n\u001b[1;32m----> 1\u001b[0m \u001b[38;5;28;01mfrom\u001b[39;00m \u001b[38;5;21;01mPythonTasks\u001b[39;00m \u001b[38;5;28;01mimport\u001b[39;00m DB\n\u001b[0;32m      3\u001b[0m ob1 \u001b[38;5;241m=\u001b[39m DB()\n",
      "\u001b[1;31mModuleNotFoundError\u001b[0m: No module named 'PythonTasks'"
     ]
    }
   ],
   "source": [
    "from PythonTasks import DB\n",
    "\n",
    "ob1 = DB()"
   ]
  },
  {
   "cell_type": "code",
   "execution_count": null,
   "id": "f9041315",
   "metadata": {},
   "outputs": [],
   "source": []
  }
 ],
 "metadata": {
  "kernelspec": {
   "display_name": "Python 3 (ipykernel)",
   "language": "python",
   "name": "python3"
  },
  "language_info": {
   "codemirror_mode": {
    "name": "ipython",
    "version": 3
   },
   "file_extension": ".py",
   "mimetype": "text/x-python",
   "name": "python",
   "nbconvert_exporter": "python",
   "pygments_lexer": "ipython3",
   "version": "3.11.5"
  }
 },
 "nbformat": 4,
 "nbformat_minor": 5
}
