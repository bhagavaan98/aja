{
 "cells": [
  {
   "cell_type": "code",
   "execution_count": 2,
   "id": "3527fe5a",
   "metadata": {},
   "outputs": [
    {
     "name": "stdout",
     "output_type": "stream",
     "text": [
      "<class 'function'>\n"
     ]
    }
   ],
   "source": [
    "add = lambda x:x**2\n",
    "print(type(add))"
   ]
  },
  {
   "cell_type": "code",
   "execution_count": 4,
   "id": "22510ed2",
   "metadata": {},
   "outputs": [
    {
     "name": "stdout",
     "output_type": "stream",
     "text": [
      "100\n"
     ]
    }
   ],
   "source": [
    "print(add(10))"
   ]
  },
  {
   "cell_type": "code",
   "execution_count": 5,
   "id": "2bd9f375",
   "metadata": {},
   "outputs": [
    {
     "name": "stdout",
     "output_type": "stream",
     "text": [
      "True\n"
     ]
    }
   ],
   "source": [
    "def check_even(x):\n",
    "    if x%2==0:\n",
    "        return True\n",
    "    else:\n",
    "        return False\n",
    "print(check_even(12))"
   ]
  },
  {
   "cell_type": "code",
   "execution_count": 6,
   "id": "f2e08415",
   "metadata": {},
   "outputs": [
    {
     "name": "stdout",
     "output_type": "stream",
     "text": [
      "True\n"
     ]
    }
   ],
   "source": [
    "def check_even(x):\n",
    "    return True if x%2==0 else False\n",
    "print(check_even(12))"
   ]
  },
  {
   "cell_type": "code",
   "execution_count": 7,
   "id": "b5498463",
   "metadata": {},
   "outputs": [
    {
     "name": "stdout",
     "output_type": "stream",
     "text": [
      "True\n"
     ]
    }
   ],
   "source": [
    "check_even = lambda x:True if x%2==0 else False\n",
    "print(check_even(12))"
   ]
  },
  {
   "cell_type": "code",
   "execution_count": 8,
   "id": "c1672746",
   "metadata": {},
   "outputs": [
    {
     "data": {
      "text/plain": [
       "5"
      ]
     },
     "execution_count": 8,
     "metadata": {},
     "output_type": "execute_result"
    }
   ],
   "source": [
    "l=\"abcdabdcababab\"\n",
    "#{\"a\":5,\"b\":5,\"c\":2,\"d\":2}\n",
    "l.count(\"a\")"
   ]
  },
  {
   "cell_type": "code",
   "execution_count": null,
   "id": "6f2c7797",
   "metadata": {},
   "outputs": [],
   "source": [
    "d={}\n"
   ]
  }
 ],
 "metadata": {
  "kernelspec": {
   "display_name": "Python 3 (ipykernel)",
   "language": "python",
   "name": "python3"
  },
  "language_info": {
   "codemirror_mode": {
    "name": "ipython",
    "version": 3
   },
   "file_extension": ".py",
   "mimetype": "text/x-python",
   "name": "python",
   "nbconvert_exporter": "python",
   "pygments_lexer": "ipython3",
   "version": "3.11.3"
  }
 },
 "nbformat": 4,
 "nbformat_minor": 5
}
