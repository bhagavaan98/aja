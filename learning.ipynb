{
 "cells": [
  {
   "cell_type": "code",
   "execution_count": 12,
   "id": "86cc9f51",
   "metadata": {},
   "outputs": [
    {
     "name": "stdout",
     "output_type": "stream",
     "text": [
      "i!dia wo! the match\n",
      "india won the match\n"
     ]
    }
   ],
   "source": [
    "##n->!,a->#, w->$,t->%\n",
    "a=\"india won the match\"\n",
    "b=a.replace(\"n\",\"!\")\n",
    "print(b)\n",
    "for i in a:\n",
    "    a.replace(\"n\",\"!\")\n",
    "print(a)"
   ]
  },
  {
   "cell_type": "code",
   "execution_count": 16,
   "id": "6a00fb5d",
   "metadata": {},
   "outputs": [
    {
     "name": "stdout",
     "output_type": "stream",
     "text": [
      "i!di# $o! %he m#%ch\n"
     ]
    }
   ],
   "source": [
    "##n->!,a->#, w->$,t->%\n",
    "a=\"india won the match\"\n",
    "s=\"\"\n",
    "for i in a:\n",
    "    if i==\"n\":\n",
    "        s=s+\"!\"\n",
    "    elif i==\"a\":\n",
    "        s=s+\"#\"\n",
    "    elif i==\"w\":\n",
    "        s=s+\"$\"\n",
    "    elif i==\"t\":\n",
    "        s=s+\"%\"\n",
    "    else:\n",
    "        s=s+i\n",
    "print(s)"
   ]
  },
  {
   "cell_type": "code",
   "execution_count": 32,
   "id": "e64b3a41",
   "metadata": {},
   "outputs": [
    {
     "name": "stdout",
     "output_type": "stream",
     "text": [
      "0\n"
     ]
    }
   ],
   "source": [
    "l=[\"apple\",\"orange\",\"apple\",\"grape\",\"apple\",\"banana\"]\n",
    "print(l.index(\"apple\",0,len(l)-1))"
   ]
  },
  {
   "cell_type": "code",
   "execution_count": null,
   "id": "b2a5e86d",
   "metadata": {},
   "outputs": [],
   "source": [
    "#\n",
    "l=[\"apple\",\"orange\",\"mango\",\"grapes\",\"apple\",\"grapes\",\"apple\",\"banana\"]"
   ]
  },
  {
   "cell_type": "code",
   "execution_count": null,
   "id": "eee6f770",
   "metadata": {},
   "outputs": [],
   "source": []
  },
  {
   "cell_type": "code",
   "execution_count": null,
   "id": "8891bd19",
   "metadata": {},
   "outputs": [],
   "source": []
  }
 ],
 "metadata": {
  "kernelspec": {
   "display_name": "Python 3 (ipykernel)",
   "language": "python",
   "name": "python3"
  },
  "language_info": {
   "codemirror_mode": {
    "name": "ipython",
    "version": 3
   },
   "file_extension": ".py",
   "mimetype": "text/x-python",
   "name": "python",
   "nbconvert_exporter": "python",
   "pygments_lexer": "ipython3",
   "version": "3.11.5"
  }
 },
 "nbformat": 4,
 "nbformat_minor": 5
}
