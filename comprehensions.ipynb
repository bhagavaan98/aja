{
 "cells": [
  {
   "cell_type": "code",
   "execution_count": 1,
   "id": "3e01bf3c",
   "metadata": {},
   "outputs": [
    {
     "name": "stdout",
     "output_type": "stream",
     "text": [
      "{'jay': 3, 'vedha': 2, 'chaithu': 1, 'ram': 1, 'anvesh': 1}\n"
     ]
    }
   ],
   "source": [
    "l=[\"jay\",\"vedha\",\"chaithu\",\"jay\",\"ram\",\"anvesh\",\"jay\",\"vedha\"]\n",
    "res = {\"jay\":3,\"vedha\":2,\"chaithu\":1,\"ram\":1,\"anvesh\":1}\n",
    "d={}\n",
    "for i in l:\n",
    "    if i not in d:\n",
    "        d[i]=1\n",
    "    else:\n",
    "        d[i]+=1\n",
    "print(d)"
   ]
  },
  {
   "cell_type": "code",
   "execution_count": 3,
   "id": "1ce0462d",
   "metadata": {},
   "outputs": [
    {
     "name": "stdout",
     "output_type": "stream",
     "text": [
      "defaultdict(<class 'int'>, {'jay': 3, 'vedha': 2, 'chaithu': 1, 'ram': 1, 'anvesh': 1})\n"
     ]
    }
   ],
   "source": [
    "from collections import defaultdict\n",
    "l=[\"jay\",\"vedha\",\"chaithu\",\"jay\",\"ram\",\"anvesh\",\"jay\",\"vedha\"]\n",
    "res = {\"jay\":3,\"vedha\":2,\"chaithu\":1,\"ram\":1,\"anvesh\":1}\n",
    "d=defaultdict(int)\n",
    "for i in l:\n",
    "    d[i]+=1\n",
    "print(d)"
   ]
  },
  {
   "cell_type": "code",
   "execution_count": 4,
   "id": "1a5386cd",
   "metadata": {},
   "outputs": [
    {
     "name": "stdout",
     "output_type": "stream",
     "text": [
      "defaultdict(<class 'int'>, {})\n"
     ]
    }
   ],
   "source": [
    "from collections import defaultdict\n",
    "d=defaultdict(int)\n",
    "print(d)"
   ]
  },
  {
   "cell_type": "code",
   "execution_count": 5,
   "id": "ea61e853",
   "metadata": {},
   "outputs": [
    {
     "name": "stdout",
     "output_type": "stream",
     "text": [
      "0\n"
     ]
    }
   ],
   "source": [
    "from collections import defaultdict\n",
    "d=defaultdict(int)\n",
    "print(d[\"rahul\"])"
   ]
  },
  {
   "cell_type": "code",
   "execution_count": null,
   "id": "d6798e30",
   "metadata": {},
   "outputs": [],
   "source": [
    "d={\"rahul\":60,\"rohit\":60,\"kohli\":60,\"jadeja\":40,\"gil\":80,\"hardik\":30}\n",
    "#{60:[\"rahul\",\"rohit\",\"kohli\"], 40:[\"jadeja\"],80:[\"gil\"],30:[\"hardik\"]}\n",
    "res={}\n",
    "for key,value in d.items():\n",
    "    if i not in res:\n",
    "        res[i]=[]\n",
    "    "
   ]
  },
  {
   "cell_type": "code",
   "execution_count": 6,
   "id": "9c93c7c5",
   "metadata": {},
   "outputs": [
    {
     "name": "stdout",
     "output_type": "stream",
     "text": [
      "10\n",
      "20\n"
     ]
    }
   ],
   "source": [
    "a,b = (10,20)\n",
    "print(a)\n",
    "print(b)"
   ]
  },
  {
   "cell_type": "code",
   "execution_count": 7,
   "id": "a6963fb1",
   "metadata": {},
   "outputs": [
    {
     "name": "stdout",
     "output_type": "stream",
     "text": [
      "dict_items([('rahul', 60), ('rohit', 60), ('kohli', 60), ('jadeja', 40), ('gil', 80), ('hardik', 30)])\n"
     ]
    }
   ],
   "source": [
    "d={\"rahul\":60,\"rohit\":60,\"kohli\":60,\"jadeja\":40,\"gil\":80,\"hardik\":30}\n",
    "print(d.items())"
   ]
  },
  {
   "cell_type": "code",
   "execution_count": 8,
   "id": "d0394a2b",
   "metadata": {},
   "outputs": [
    {
     "name": "stdout",
     "output_type": "stream",
     "text": [
      "dict_items([('rahul', 60), ('rohit', 60), ('kohli', 60), ('jadeja', 40), ('gil', 80), ('hardik', 30)])\n",
      "('rahul', 60)\n",
      "('rohit', 60)\n",
      "('kohli', 60)\n",
      "('jadeja', 40)\n",
      "('gil', 80)\n",
      "('hardik', 30)\n"
     ]
    }
   ],
   "source": [
    "d={\"rahul\":60,\"rohit\":60,\"kohli\":60,\"jadeja\":40,\"gil\":80,\"hardik\":30}\n",
    "print(d.items())\n",
    "for i in d.items():\n",
    "    print(i)"
   ]
  },
  {
   "cell_type": "code",
   "execution_count": 9,
   "id": "bfcd51ac",
   "metadata": {},
   "outputs": [
    {
     "name": "stdout",
     "output_type": "stream",
     "text": [
      "dict_items([('rahul', 60), ('rohit', 60), ('kohli', 60), ('jadeja', 40), ('gil', 80), ('hardik', 30)])\n",
      "60\n",
      "60\n",
      "60\n",
      "40\n",
      "80\n",
      "30\n"
     ]
    }
   ],
   "source": [
    "d={\"rahul\":60,\"rohit\":60,\"kohli\":60,\"jadeja\":40,\"gil\":80,\"hardik\":30}\n",
    "print(d.items())\n",
    "for i in d.items():\n",
    "    key,value = i\n",
    "    print(value)"
   ]
  },
  {
   "cell_type": "code",
   "execution_count": 10,
   "id": "2a9b46a0",
   "metadata": {},
   "outputs": [
    {
     "name": "stdout",
     "output_type": "stream",
     "text": [
      "60\n",
      "60\n",
      "60\n",
      "40\n",
      "80\n",
      "30\n"
     ]
    }
   ],
   "source": [
    "d={\"rahul\":60,\"rohit\":60,\"kohli\":60,\"jadeja\":40,\"gil\":80,\"hardik\":30}\n",
    "res={}\n",
    "for key,value in d.items():\n",
    "    print(value)"
   ]
  },
  {
   "cell_type": "code",
   "execution_count": 11,
   "id": "cc1387b1",
   "metadata": {},
   "outputs": [
    {
     "name": "stdout",
     "output_type": "stream",
     "text": [
      "{60: ['rahul', 'rohit', 'kohli'], 40: ['jadeja'], 80: ['gil'], 30: ['hardik']}\n"
     ]
    }
   ],
   "source": [
    "d={\"rahul\":60,\"rohit\":60,\"kohli\":60,\"jadeja\":40,\"gil\":80,\"hardik\":30}\n",
    "res={}\n",
    "for key,value in d.items():\n",
    "    if value not in res:\n",
    "        res[value]=[key]#{60:[\"rahul\"]}\n",
    "    else:\n",
    "        res[value].append(key)\n",
    "\n",
    "print(res)"
   ]
  },
  {
   "cell_type": "code",
   "execution_count": null,
   "id": "c88b8c91",
   "metadata": {},
   "outputs": [],
   "source": [
    "d={\"rahul\":60,\"rohit\":60,\"kohli\":60,\"jadeja\":40,\"gil\":80,\"hardik\":30}\n",
    "res=defaultdict(list)\n",
    "for key,value in d.items():\n",
    "    if value not in res:\n",
    "        res[value]=[key]#{60:[\"rahul\"]}\n",
    "    else:\n",
    "        res[value].append(key)\n",
    "\n",
    "print(res)"
   ]
  },
  {
   "cell_type": "code",
   "execution_count": 12,
   "id": "bb772e8d",
   "metadata": {},
   "outputs": [
    {
     "name": "stdout",
     "output_type": "stream",
     "text": [
      "defaultdict(<class 'list'>, {})\n",
      "[]\n"
     ]
    }
   ],
   "source": [
    "res=defaultdict(list)\n",
    "print(res)\n",
    "print(res[\"rahul\"])"
   ]
  },
  {
   "cell_type": "code",
   "execution_count": 13,
   "id": "60d412e1",
   "metadata": {},
   "outputs": [
    {
     "name": "stdout",
     "output_type": "stream",
     "text": [
      "defaultdict(<class 'list'>, {60: ['rahul', 'rohit', 'kohli'], 40: ['jadeja'], 80: ['gil'], 30: ['hardik']})\n"
     ]
    }
   ],
   "source": [
    "d={\"rahul\":60,\"rohit\":60,\"kohli\":60,\"jadeja\":40,\"gil\":80,\"hardik\":30}\n",
    "res=defaultdict(list)\n",
    "for key,value in d.items():\n",
    "        res[value].append(key)\n",
    "\n",
    "print(res)"
   ]
  },
  {
   "cell_type": "code",
   "execution_count": 14,
   "id": "b1f2a908",
   "metadata": {},
   "outputs": [
    {
     "name": "stdout",
     "output_type": "stream",
     "text": [
      "Counter({'jay': 3, 'vedha': 2, 'chaithu': 1, 'ram': 1, 'anvesh': 1})\n"
     ]
    }
   ],
   "source": [
    "from collections import Counter\n",
    "l=[\"jay\",\"vedha\",\"chaithu\",\"jay\",\"ram\",\"anvesh\",\"jay\",\"vedha\"]\n",
    "print(Counter(l))"
   ]
  },
  {
   "cell_type": "code",
   "execution_count": 15,
   "id": "1293dcde",
   "metadata": {},
   "outputs": [
    {
     "name": "stdout",
     "output_type": "stream",
     "text": [
      "Counter({'a': 3, 'b': 3, 'c': 3, 'd': 2})\n"
     ]
    }
   ],
   "source": [
    "from collections import Counter\n",
    "l=\"abcdabcabcd\"\n",
    "print(Counter(l))"
   ]
  },
  {
   "cell_type": "code",
   "execution_count": 16,
   "id": "af57e36e",
   "metadata": {},
   "outputs": [
    {
     "name": "stdout",
     "output_type": "stream",
     "text": [
      "['__add__', '__and__', '__class__', '__class_getitem__', '__contains__', '__delattr__', '__delitem__', '__dict__', '__dir__', '__doc__', '__eq__', '__format__', '__ge__', '__getattribute__', '__getitem__', '__getstate__', '__gt__', '__hash__', '__iadd__', '__iand__', '__init__', '__init_subclass__', '__ior__', '__isub__', '__iter__', '__le__', '__len__', '__lt__', '__missing__', '__module__', '__ne__', '__neg__', '__new__', '__or__', '__pos__', '__reduce__', '__reduce_ex__', '__repr__', '__reversed__', '__ror__', '__setattr__', '__setitem__', '__sizeof__', '__str__', '__sub__', '__subclasshook__', '__weakref__', '_keep_positive', 'clear', 'copy', 'elements', 'fromkeys', 'get', 'items', 'keys', 'most_common', 'pop', 'popitem', 'setdefault', 'subtract', 'total', 'update', 'values']\n"
     ]
    }
   ],
   "source": [
    "from collections import Counter\n",
    "l=\"abcdabcabcd\"\n",
    "c=Counter(l)\n",
    "print(dir(c))"
   ]
  },
  {
   "cell_type": "code",
   "execution_count": 17,
   "id": "4c6aaf5b",
   "metadata": {},
   "outputs": [
    {
     "data": {
      "text/plain": [
       "Counter({'gil': 80,\n",
       "         'rahul': 60,\n",
       "         'rohit': 60,\n",
       "         'kohli': 60,\n",
       "         'jadeja': 40,\n",
       "         'hardik': 30})"
      ]
     },
     "execution_count": 17,
     "metadata": {},
     "output_type": "execute_result"
    }
   ],
   "source": [
    "d={\"rahul\":60,\"rohit\":60,\"kohli\":60,\"jadeja\":40,\"gil\":80,\"hardik\":30}\n",
    "# the most common score in the above dict\n",
    "Counter(d)"
   ]
  },
  {
   "cell_type": "code",
   "execution_count": 18,
   "id": "374b3023",
   "metadata": {},
   "outputs": [
    {
     "name": "stdout",
     "output_type": "stream",
     "text": [
      "Object `Counts` not found.\n"
     ]
    }
   ],
   "source": []
  },
  {
   "cell_type": "code",
   "execution_count": 1,
   "id": "8b236d75",
   "metadata": {},
   "outputs": [
    {
     "name": "stdout",
     "output_type": "stream",
     "text": [
      "[11, 11, 12, 13, 14, 14, 15, 16, 15]\n"
     ]
    }
   ],
   "source": [
    "l=[1,1,2,3,4,4,5,6,5]\n",
    "print([i+10 for i in l])\n"
   ]
  },
  {
   "cell_type": "code",
   "execution_count": 2,
   "id": "b85270eb",
   "metadata": {},
   "outputs": [
    {
     "ename": "TypeError",
     "evalue": "can only concatenate str (not \"int\") to str",
     "output_type": "error",
     "traceback": [
      "\u001b[1;31m---------------------------------------------------------------------------\u001b[0m",
      "\u001b[1;31mTypeError\u001b[0m                                 Traceback (most recent call last)",
      "Cell \u001b[1;32mIn[2], line 2\u001b[0m\n\u001b[0;32m      1\u001b[0m l\u001b[38;5;241m=\u001b[39m[\u001b[38;5;241m1\u001b[39m,\u001b[38;5;241m1\u001b[39m,\u001b[38;5;241m2\u001b[39m,\u001b[38;5;241m3\u001b[39m,\u001b[38;5;241m4\u001b[39m,\u001b[38;5;241m4\u001b[39m,\u001b[38;5;241m5\u001b[39m,\u001b[38;5;241m6\u001b[39m,\u001b[38;5;241m5\u001b[39m,\u001b[38;5;124m\"\u001b[39m\u001b[38;5;124m34\u001b[39m\u001b[38;5;124m\"\u001b[39m,\u001b[38;5;124m\"\u001b[39m\u001b[38;5;124mabc\u001b[39m\u001b[38;5;124m\"\u001b[39m]\n\u001b[1;32m----> 2\u001b[0m \u001b[38;5;28mprint\u001b[39m([i\u001b[38;5;241m+\u001b[39m\u001b[38;5;241m10\u001b[39m \u001b[38;5;28;01mfor\u001b[39;00m i \u001b[38;5;129;01min\u001b[39;00m l])\n",
      "Cell \u001b[1;32mIn[2], line 2\u001b[0m, in \u001b[0;36m<listcomp>\u001b[1;34m(.0)\u001b[0m\n\u001b[0;32m      1\u001b[0m l\u001b[38;5;241m=\u001b[39m[\u001b[38;5;241m1\u001b[39m,\u001b[38;5;241m1\u001b[39m,\u001b[38;5;241m2\u001b[39m,\u001b[38;5;241m3\u001b[39m,\u001b[38;5;241m4\u001b[39m,\u001b[38;5;241m4\u001b[39m,\u001b[38;5;241m5\u001b[39m,\u001b[38;5;241m6\u001b[39m,\u001b[38;5;241m5\u001b[39m,\u001b[38;5;124m\"\u001b[39m\u001b[38;5;124m34\u001b[39m\u001b[38;5;124m\"\u001b[39m,\u001b[38;5;124m\"\u001b[39m\u001b[38;5;124mabc\u001b[39m\u001b[38;5;124m\"\u001b[39m]\n\u001b[1;32m----> 2\u001b[0m \u001b[38;5;28mprint\u001b[39m([i\u001b[38;5;241m+\u001b[39m\u001b[38;5;241m10\u001b[39m \u001b[38;5;28;01mfor\u001b[39;00m i \u001b[38;5;129;01min\u001b[39;00m l])\n",
      "\u001b[1;31mTypeError\u001b[0m: can only concatenate str (not \"int\") to str"
     ]
    }
   ],
   "source": [
    "l=[1,1,2,3,4,4,5,6,5,\"34\",\"abc\"]\n",
    "print([i+10 for i in l])\n"
   ]
  },
  {
   "cell_type": "code",
   "execution_count": 3,
   "id": "65ed35d5",
   "metadata": {},
   "outputs": [
    {
     "name": "stdout",
     "output_type": "stream",
     "text": [
      "[11, 11, 12, 13, 14, 14, 15, 16, 15]\n"
     ]
    }
   ],
   "source": [
    "l=[1,1,2,3,4,4,5,6,5,\"34\",\"abc\"]\n",
    "print([i+10 for i in l if isinstance(i,(int,float))])\n"
   ]
  },
  {
   "cell_type": "code",
   "execution_count": 6,
   "id": "a235004b",
   "metadata": {},
   "outputs": [
    {
     "name": "stdout",
     "output_type": "stream",
     "text": [
      "[16, 15, 33]\n"
     ]
    }
   ],
   "source": [
    "l=[6,5,\"34\",\"abc\",23]\n",
    "print([i+10 for i in l if isinstance(i,(int,float))])\n"
   ]
  },
  {
   "cell_type": "code",
   "execution_count": 5,
   "id": "8296be35",
   "metadata": {},
   "outputs": [
    {
     "ename": "AttributeError",
     "evalue": "'int' object has no attribute 'isdigit'",
     "output_type": "error",
     "traceback": [
      "\u001b[1;31m---------------------------------------------------------------------------\u001b[0m",
      "\u001b[1;31mAttributeError\u001b[0m                            Traceback (most recent call last)",
      "Cell \u001b[1;32mIn[5], line 2\u001b[0m\n\u001b[0;32m      1\u001b[0m s\u001b[38;5;241m=\u001b[39m\u001b[38;5;241m6\u001b[39m\n\u001b[1;32m----> 2\u001b[0m s\u001b[38;5;241m.\u001b[39misdigit()\n",
      "\u001b[1;31mAttributeError\u001b[0m: 'int' object has no attribute 'isdigit'"
     ]
    }
   ],
   "source": [
    "s=6\n",
    "s.isdigit()"
   ]
  },
  {
   "cell_type": "code",
   "execution_count": 7,
   "id": "00ecb58e",
   "metadata": {},
   "outputs": [
    {
     "name": "stdout",
     "output_type": "stream",
     "text": [
      "[16, 15, 33, 33.45]\n"
     ]
    }
   ],
   "source": [
    "l=[6,5,\"34\",\"abc\",23,23.45]\n",
    "print([i+10 for i in l if isinstance(i,(int,float))])\n"
   ]
  },
  {
   "cell_type": "code",
   "execution_count": 9,
   "id": "09673224",
   "metadata": {},
   "outputs": [
    {
     "name": "stdout",
     "output_type": "stream",
     "text": [
      "[16, 15, 33, 33, 44, 44, 66, 88]\n"
     ]
    }
   ],
   "source": [
    "l=[6,5,\"34\",\"abc\",23,23.45,34.56,\"er\",34,56,78.90]\n",
    "print([i+10 if isinstance(i, int) else int(i)+10 for i in l if isinstance(i,(int,float))])\n"
   ]
  },
  {
   "cell_type": "code",
   "execution_count": null,
   "id": "bd548258",
   "metadata": {},
   "outputs": [],
   "source": []
  }
 ],
 "metadata": {
  "kernelspec": {
   "display_name": "Python 3 (ipykernel)",
   "language": "python",
   "name": "python3"
  },
  "language_info": {
   "codemirror_mode": {
    "name": "ipython",
    "version": 3
   },
   "file_extension": ".py",
   "mimetype": "text/x-python",
   "name": "python",
   "nbconvert_exporter": "python",
   "pygments_lexer": "ipython3",
   "version": "3.11.5"
  }
 },
 "nbformat": 4,
 "nbformat_minor": 5
}
