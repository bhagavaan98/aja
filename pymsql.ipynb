{
 "cells": [
  {
   "cell_type": "markdown",
   "id": "121b5953",
   "metadata": {},
   "source": [
    "# 1. Write a class(DB) program to create a table, insert values, update values, delete values of the table.\n",
    "All database operations code write in a file(db_operations.py) and call these operations in another file( app.py).\n",
    "In app.py create instance of the DB class and call all the methods by passing some data.\n"
   ]
  },
  {
   "cell_type": "code",
   "execution_count": null,
   "id": "1a833fa7",
   "metadata": {},
   "outputs": [],
   "source": []
  },
  {
   "cell_type": "code",
   "execution_count": 6,
   "id": "cfd94194",
   "metadata": {},
   "outputs": [
    {
     "name": "stdout",
     "output_type": "stream",
     "text": [
      "  Series_reference   Period  Data_value Suppressed STATUS    UNITS  Magnitude  \\\n",
      "0    BDCQ.SF1AA2CA  2016.06    1116.386                 F  Dollars          6   \n",
      "1    BDCQ.SF1AA2CA  2016.09    1070.874                 F  Dollars          6   \n",
      "2    BDCQ.SF1AA2CA  2016.12    1054.408                 F  Dollars          6   \n",
      "3    BDCQ.SF1AA2CA  2017.03    1010.665                 F  Dollars          6   \n",
      "4    BDCQ.SF1AA2CA  2017.06    1233.700                 F  Dollars          6   \n",
      "\n",
      "                          Subject  \\\n",
      "0  Business Data Collection - BDC   \n",
      "1  Business Data Collection - BDC   \n",
      "2  Business Data Collection - BDC   \n",
      "3  Business Data Collection - BDC   \n",
      "4  Business Data Collection - BDC   \n",
      "\n",
      "                                             Group            Series_title_1  \\\n",
      "0  Industry by financial variable (NZSIOC Level 2)  Sales (operating income)   \n",
      "1  Industry by financial variable (NZSIOC Level 2)  Sales (operating income)   \n",
      "2  Industry by financial variable (NZSIOC Level 2)  Sales (operating income)   \n",
      "3  Industry by financial variable (NZSIOC Level 2)  Sales (operating income)   \n",
      "4  Industry by financial variable (NZSIOC Level 2)  Sales (operating income)   \n",
      "\n",
      "         Series_title_2  Series_title_3 Series_title_4 Series_title_5  \n",
      "0  Forestry and Logging  Current prices     Unadjusted                 \n",
      "1  Forestry and Logging  Current prices     Unadjusted                 \n",
      "2  Forestry and Logging  Current prices     Unadjusted                 \n",
      "3  Forestry and Logging  Current prices     Unadjusted                 \n",
      "4  Forestry and Logging  Current prices     Unadjusted                 \n"
     ]
    },
    {
     "name": "stderr",
     "output_type": "stream",
     "text": [
      "C:\\Users\\we\\AppData\\Local\\Temp\\ipykernel_17892\\1507076467.py:5: UserWarning: pandas only supports SQLAlchemy connectable (engine/connection) or database string URI or sqlite3 DBAPI2 connection. Other DBAPI2 objects are not tested. Please consider using SQLAlchemy.\n",
      "  df =pd.read_sql_query(query,myconnection,parse_dates=True)\n"
     ]
    }
   ],
   "source": [
    "import pandas as pd\n",
    "import pymysql\n",
    "myconnection =pymysql.connect(host='localhost',user='root',password='root',database='erpdata')\n",
    "query ='select * from data'\n",
    "df =pd.read_sql_query(query,myconnection,parse_dates=True)\n",
    "print(df.head(5))\n",
    "\n",
    "\n",
    "# cur=myconnection.cursor()\n",
    "# query =\"select * from where Period=2016.06\""
   ]
  },
  {
   "cell_type": "code",
   "execution_count": null,
   "id": "19d63312",
   "metadata": {},
   "outputs": [],
   "source": [
    "\n",
    "import pymysql\n",
    "myconnection =pymysql.connect(host='localhost',user='root',password='root',database='Aja_staff')\n",
    "query ='create '\n",
    "df =pd.read_sql_query(query,myconnection,parse_dates=True)\n",
    "print(df.head(5))\n",
    "\n"
   ]
  },
  {
   "cell_type": "code",
   "execution_count": 3,
   "id": "1aea2580",
   "metadata": {},
   "outputs": [
    {
     "ename": "OperationalError",
     "evalue": "(1054, \"Unknown column 'govardhan' in 'field list'\")",
     "output_type": "error",
     "traceback": [
      "\u001b[1;31m---------------------------------------------------------------------------\u001b[0m",
      "\u001b[1;31mOperationalError\u001b[0m                          Traceback (most recent call last)",
      "Cell \u001b[1;32mIn[3], line 6\u001b[0m\n\u001b[0;32m      4\u001b[0m \u001b[38;5;28;01mwith\u001b[39;00m mc\u001b[38;5;241m.\u001b[39mcursor() \u001b[38;5;28;01mas\u001b[39;00m cur:\n\u001b[0;32m      5\u001b[0m     query \u001b[38;5;241m=\u001b[39m \u001b[38;5;124m'\u001b[39m\u001b[38;5;124minsert into sample(emp_id, emp_name, technology, joined_date) values(1120,govardhan,python,2023-09-06) \u001b[39m\u001b[38;5;124m'\u001b[39m\n\u001b[1;32m----> 6\u001b[0m     cur\u001b[38;5;241m.\u001b[39mexecute(query)\n",
      "File \u001b[1;32m~\\anaconda3\\Lib\\site-packages\\pymysql\\cursors.py:153\u001b[0m, in \u001b[0;36mCursor.execute\u001b[1;34m(self, query, args)\u001b[0m\n\u001b[0;32m    149\u001b[0m     \u001b[38;5;28;01mpass\u001b[39;00m\n\u001b[0;32m    151\u001b[0m query \u001b[38;5;241m=\u001b[39m \u001b[38;5;28mself\u001b[39m\u001b[38;5;241m.\u001b[39mmogrify(query, args)\n\u001b[1;32m--> 153\u001b[0m result \u001b[38;5;241m=\u001b[39m \u001b[38;5;28mself\u001b[39m\u001b[38;5;241m.\u001b[39m_query(query)\n\u001b[0;32m    154\u001b[0m \u001b[38;5;28mself\u001b[39m\u001b[38;5;241m.\u001b[39m_executed \u001b[38;5;241m=\u001b[39m query\n\u001b[0;32m    155\u001b[0m \u001b[38;5;28;01mreturn\u001b[39;00m result\n",
      "File \u001b[1;32m~\\anaconda3\\Lib\\site-packages\\pymysql\\cursors.py:322\u001b[0m, in \u001b[0;36mCursor._query\u001b[1;34m(self, q)\u001b[0m\n\u001b[0;32m    320\u001b[0m conn \u001b[38;5;241m=\u001b[39m \u001b[38;5;28mself\u001b[39m\u001b[38;5;241m.\u001b[39m_get_db()\n\u001b[0;32m    321\u001b[0m \u001b[38;5;28mself\u001b[39m\u001b[38;5;241m.\u001b[39m_clear_result()\n\u001b[1;32m--> 322\u001b[0m conn\u001b[38;5;241m.\u001b[39mquery(q)\n\u001b[0;32m    323\u001b[0m \u001b[38;5;28mself\u001b[39m\u001b[38;5;241m.\u001b[39m_do_get_result()\n\u001b[0;32m    324\u001b[0m \u001b[38;5;28;01mreturn\u001b[39;00m \u001b[38;5;28mself\u001b[39m\u001b[38;5;241m.\u001b[39mrowcount\n",
      "File \u001b[1;32m~\\anaconda3\\Lib\\site-packages\\pymysql\\connections.py:558\u001b[0m, in \u001b[0;36mConnection.query\u001b[1;34m(self, sql, unbuffered)\u001b[0m\n\u001b[0;32m    556\u001b[0m     sql \u001b[38;5;241m=\u001b[39m sql\u001b[38;5;241m.\u001b[39mencode(\u001b[38;5;28mself\u001b[39m\u001b[38;5;241m.\u001b[39mencoding, \u001b[38;5;124m\"\u001b[39m\u001b[38;5;124msurrogateescape\u001b[39m\u001b[38;5;124m\"\u001b[39m)\n\u001b[0;32m    557\u001b[0m \u001b[38;5;28mself\u001b[39m\u001b[38;5;241m.\u001b[39m_execute_command(COMMAND\u001b[38;5;241m.\u001b[39mCOM_QUERY, sql)\n\u001b[1;32m--> 558\u001b[0m \u001b[38;5;28mself\u001b[39m\u001b[38;5;241m.\u001b[39m_affected_rows \u001b[38;5;241m=\u001b[39m \u001b[38;5;28mself\u001b[39m\u001b[38;5;241m.\u001b[39m_read_query_result(unbuffered\u001b[38;5;241m=\u001b[39munbuffered)\n\u001b[0;32m    559\u001b[0m \u001b[38;5;28;01mreturn\u001b[39;00m \u001b[38;5;28mself\u001b[39m\u001b[38;5;241m.\u001b[39m_affected_rows\n",
      "File \u001b[1;32m~\\anaconda3\\Lib\\site-packages\\pymysql\\connections.py:822\u001b[0m, in \u001b[0;36mConnection._read_query_result\u001b[1;34m(self, unbuffered)\u001b[0m\n\u001b[0;32m    820\u001b[0m \u001b[38;5;28;01melse\u001b[39;00m:\n\u001b[0;32m    821\u001b[0m     result \u001b[38;5;241m=\u001b[39m MySQLResult(\u001b[38;5;28mself\u001b[39m)\n\u001b[1;32m--> 822\u001b[0m     result\u001b[38;5;241m.\u001b[39mread()\n\u001b[0;32m    823\u001b[0m \u001b[38;5;28mself\u001b[39m\u001b[38;5;241m.\u001b[39m_result \u001b[38;5;241m=\u001b[39m result\n\u001b[0;32m    824\u001b[0m \u001b[38;5;28;01mif\u001b[39;00m result\u001b[38;5;241m.\u001b[39mserver_status \u001b[38;5;129;01mis\u001b[39;00m \u001b[38;5;129;01mnot\u001b[39;00m \u001b[38;5;28;01mNone\u001b[39;00m:\n",
      "File \u001b[1;32m~\\anaconda3\\Lib\\site-packages\\pymysql\\connections.py:1200\u001b[0m, in \u001b[0;36mMySQLResult.read\u001b[1;34m(self)\u001b[0m\n\u001b[0;32m   1198\u001b[0m \u001b[38;5;28;01mdef\u001b[39;00m \u001b[38;5;21mread\u001b[39m(\u001b[38;5;28mself\u001b[39m):\n\u001b[0;32m   1199\u001b[0m     \u001b[38;5;28;01mtry\u001b[39;00m:\n\u001b[1;32m-> 1200\u001b[0m         first_packet \u001b[38;5;241m=\u001b[39m \u001b[38;5;28mself\u001b[39m\u001b[38;5;241m.\u001b[39mconnection\u001b[38;5;241m.\u001b[39m_read_packet()\n\u001b[0;32m   1202\u001b[0m         \u001b[38;5;28;01mif\u001b[39;00m first_packet\u001b[38;5;241m.\u001b[39mis_ok_packet():\n\u001b[0;32m   1203\u001b[0m             \u001b[38;5;28mself\u001b[39m\u001b[38;5;241m.\u001b[39m_read_ok_packet(first_packet)\n",
      "File \u001b[1;32m~\\anaconda3\\Lib\\site-packages\\pymysql\\connections.py:772\u001b[0m, in \u001b[0;36mConnection._read_packet\u001b[1;34m(self, packet_type)\u001b[0m\n\u001b[0;32m    770\u001b[0m     \u001b[38;5;28;01mif\u001b[39;00m \u001b[38;5;28mself\u001b[39m\u001b[38;5;241m.\u001b[39m_result \u001b[38;5;129;01mis\u001b[39;00m \u001b[38;5;129;01mnot\u001b[39;00m \u001b[38;5;28;01mNone\u001b[39;00m \u001b[38;5;129;01mand\u001b[39;00m \u001b[38;5;28mself\u001b[39m\u001b[38;5;241m.\u001b[39m_result\u001b[38;5;241m.\u001b[39munbuffered_active \u001b[38;5;129;01mis\u001b[39;00m \u001b[38;5;28;01mTrue\u001b[39;00m:\n\u001b[0;32m    771\u001b[0m         \u001b[38;5;28mself\u001b[39m\u001b[38;5;241m.\u001b[39m_result\u001b[38;5;241m.\u001b[39munbuffered_active \u001b[38;5;241m=\u001b[39m \u001b[38;5;28;01mFalse\u001b[39;00m\n\u001b[1;32m--> 772\u001b[0m     packet\u001b[38;5;241m.\u001b[39mraise_for_error()\n\u001b[0;32m    773\u001b[0m \u001b[38;5;28;01mreturn\u001b[39;00m packet\n",
      "File \u001b[1;32m~\\anaconda3\\Lib\\site-packages\\pymysql\\protocol.py:221\u001b[0m, in \u001b[0;36mMysqlPacket.raise_for_error\u001b[1;34m(self)\u001b[0m\n\u001b[0;32m    219\u001b[0m \u001b[38;5;28;01mif\u001b[39;00m DEBUG:\n\u001b[0;32m    220\u001b[0m     \u001b[38;5;28mprint\u001b[39m(\u001b[38;5;124m\"\u001b[39m\u001b[38;5;124merrno =\u001b[39m\u001b[38;5;124m\"\u001b[39m, errno)\n\u001b[1;32m--> 221\u001b[0m err\u001b[38;5;241m.\u001b[39mraise_mysql_exception(\u001b[38;5;28mself\u001b[39m\u001b[38;5;241m.\u001b[39m_data)\n",
      "File \u001b[1;32m~\\anaconda3\\Lib\\site-packages\\pymysql\\err.py:143\u001b[0m, in \u001b[0;36mraise_mysql_exception\u001b[1;34m(data)\u001b[0m\n\u001b[0;32m    141\u001b[0m \u001b[38;5;28;01mif\u001b[39;00m errorclass \u001b[38;5;129;01mis\u001b[39;00m \u001b[38;5;28;01mNone\u001b[39;00m:\n\u001b[0;32m    142\u001b[0m     errorclass \u001b[38;5;241m=\u001b[39m InternalError \u001b[38;5;28;01mif\u001b[39;00m errno \u001b[38;5;241m<\u001b[39m \u001b[38;5;241m1000\u001b[39m \u001b[38;5;28;01melse\u001b[39;00m OperationalError\n\u001b[1;32m--> 143\u001b[0m \u001b[38;5;28;01mraise\u001b[39;00m errorclass(errno, errval)\n",
      "\u001b[1;31mOperationalError\u001b[0m: (1054, \"Unknown column 'govardhan' in 'field list'\")"
     ]
    }
   ],
   "source": [
    "import pymysql\n",
    "myconnection =pymysql.connect(host='localhost',user='root',password='root',database='Aja_staff')\n",
    "with myconnection as mc:\n",
    "    with mc.cursor() as cur:\n",
    "        query = 'insert into sample(emp_id, emp_name, technology, joined_date) values(1120,govardhan,python,2023-09-06) '\n",
    "        cur.execute(query)\n",
    "        "
   ]
  },
  {
   "cell_type": "code",
   "execution_count": 4,
   "id": "90332ef8",
   "metadata": {},
   "outputs": [
    {
     "name": "stdout",
     "output_type": "stream",
     "text": [
      "Model: Creating...\n",
      "Person: Validation failed. Please provide valid name and phone number.\n"
     ]
    }
   ],
   "source": []
  },
  {
   "cell_type": "code",
   "execution_count": null,
   "id": "6f167b1e",
   "metadata": {},
   "outputs": [],
   "source": [
    "class Model:\n",
    "    def create(self):\n",
    "        print('Model: Creating...')\n",
    "\n",
    "    def update(self):\n",
    "        print('Model: Updating...')\n",
    "\n",
    "    def delete(self):\n",
    "        print('Model: Deleting...')\n",
    "\n",
    "\n",
    "class Person(Model):\n",
    "    def create(self, name, phn):\n",
    "        super().create()  \n",
    "        if name.isalnum() and phn.isdigit():\n",
    "            print(f'Person: Creating Person with name {name} and phone number {phn}')\n",
    "        else:\n",
    "            print('Person: Validation failed. Please provide valid name and phone number.')\n",
    "\n",
    "    def update(self):\n",
    "        super().update()\n",
    "        print('Person: Updating Person information...')\n",
    "\n",
    "    def delete(self):\n",
    "        super().delete()\n",
    "        print('Person: Deleting Person...')\n",
    "\n",
    "\n",
    "\n",
    "person = Person()\n",
    "person.create(\"John Doe\", \"1234567890\")  # Call the create method with name and phone number\n"
   ]
  }
 ],
 "metadata": {
  "kernelspec": {
   "display_name": "Python 3 (ipykernel)",
   "language": "python",
   "name": "python3"
  },
  "language_info": {
   "codemirror_mode": {
    "name": "ipython",
    "version": 3
   },
   "file_extension": ".py",
   "mimetype": "text/x-python",
   "name": "python",
   "nbconvert_exporter": "python",
   "pygments_lexer": "ipython3",
   "version": "3.11.5"
  }
 },
 "nbformat": 4,
 "nbformat_minor": 5
}
